{
 "cells": [
  {
   "cell_type": "markdown",
   "id": "a89bc85f",
   "metadata": {},
   "source": [
    "# Tutorial for quantum information people\n",
    "\n",
    "The unitary group $U(n)$ describes the possible change of basis in the\n",
    "complex Hilbert space of dimension $n$. For $n=2$, this captures the\n",
    "possible choices of basis in the qubit space $C^2$. For a system composed\n",
    "of two qubits, we can similarly define the effect of a joint change of\n",
    "basis performed on both subsystems simultaneously. It is known that a\n",
    "single state is invariant under such joint change of basis. Here, we\n",
    "identify this state by extracting the subspace of $(C^2)^{\\otimes 2}$\n",
    "which is invariant under the joint change of basis for both subsystems."
   ]
  },
  {
   "cell_type": "markdown",
   "id": "ccc3afa2",
   "metadata": {},
   "source": [
    "Before trying any of the *RepLAB* commands, we must initialize the library:"
   ]
  },
  {
   "cell_type": "code",
   "execution_count": 1,
   "id": "6612455b",
   "metadata": {
    "execution": {
     "iopub.execute_input": "2021-09-08T14:55:35.819510Z",
     "iopub.status.busy": "2021-09-08T14:55:35.819037Z",
     "iopub.status.idle": "2021-09-08T14:55:41.750982Z",
     "shell.execute_reply": "2021-09-08T14:55:41.750445Z"
    }
   },
   "outputs": [],
   "source": [
    "addpath([pwd, '/../..']);\n",
    "replab_init('verbose', 0);"
   ]
  },
  {
   "cell_type": "markdown",
   "id": "4a207c4d",
   "metadata": {},
   "source": [
    "## The unitary group representation\n",
    "\n",
    "Changes of bases for one system are described by the group $U(2)$"
   ]
  },
  {
   "cell_type": "code",
   "execution_count": 2,
   "id": "9a02213d",
   "metadata": {
    "execution": {
     "iopub.execute_input": "2021-09-08T14:55:41.754440Z",
     "iopub.status.busy": "2021-09-08T14:55:41.753658Z",
     "iopub.status.idle": "2021-09-08T14:55:41.775206Z",
     "shell.execute_reply": "2021-09-08T14:55:41.774818Z"
    }
   },
   "outputs": [],
   "source": [
    "d = 2;\n",
    "U2 = replab.U(d);"
   ]
  },
  {
   "cell_type": "markdown",
   "id": "b06da270",
   "metadata": {},
   "source": [
    "We construct the defining representation of this group, which acts on $C^2$:"
   ]
  },
  {
   "cell_type": "code",
   "execution_count": 3,
   "id": "dbccb4d7",
   "metadata": {
    "execution": {
     "iopub.execute_input": "2021-09-08T14:55:41.778071Z",
     "iopub.status.busy": "2021-09-08T14:55:41.777604Z",
     "iopub.status.idle": "2021-09-08T14:55:41.801629Z",
     "shell.execute_reply": "2021-09-08T14:55:41.801194Z"
    }
   },
   "outputs": [],
   "source": [
    "U2Rep = U2.definingRep;"
   ]
  },
  {
   "cell_type": "markdown",
   "id": "c4ccbc22",
   "metadata": {},
   "source": [
    "## Tensor product of two representations\n",
    "\n",
    "We can now construct the representation which acts jointly on two\n",
    "subsystems of dimension 2:"
   ]
  },
  {
   "cell_type": "code",
   "execution_count": 4,
   "id": "80eaf4e0",
   "metadata": {
    "execution": {
     "iopub.execute_input": "2021-09-08T14:55:41.804529Z",
     "iopub.status.busy": "2021-09-08T14:55:41.804051Z",
     "iopub.status.idle": "2021-09-08T14:55:41.821586Z",
     "shell.execute_reply": "2021-09-08T14:55:41.821213Z"
    }
   },
   "outputs": [],
   "source": [
    "U2TensorRep = kron(U2Rep, U2Rep);"
   ]
  },
  {
   "cell_type": "markdown",
   "id": "4e1cc4a5",
   "metadata": {},
   "source": [
    "To identify the subspaces which are invariant under this group, we decompose the representation:"
   ]
  },
  {
   "cell_type": "code",
   "execution_count": 5,
   "id": "66a5f321",
   "metadata": {
    "execution": {
     "iopub.execute_input": "2021-09-08T14:55:41.824205Z",
     "iopub.status.busy": "2021-09-08T14:55:41.823777Z",
     "iopub.status.idle": "2021-09-08T14:55:44.313183Z",
     "shell.execute_reply": "2021-09-08T14:55:44.312763Z"
    }
   },
   "outputs": [],
   "source": [
    "dec = U2TensorRep.decomposition.nice;"
   ]
  },
  {
   "cell_type": "markdown",
   "id": "509a7547",
   "metadata": {},
   "source": [
    "The decomposition has"
   ]
  },
  {
   "cell_type": "code",
   "execution_count": 6,
   "id": "a0c1573b",
   "metadata": {
    "execution": {
     "iopub.execute_input": "2021-09-08T14:55:44.316049Z",
     "iopub.status.busy": "2021-09-08T14:55:44.315625Z",
     "iopub.status.idle": "2021-09-08T14:55:44.328996Z",
     "shell.execute_reply": "2021-09-08T14:55:44.328639Z"
    }
   },
   "outputs": [
    {
     "name": "stdout",
     "output_type": "stream",
     "text": [
      "ans = 2\r\n"
     ]
    }
   ],
   "source": [
    "dec.nComponents"
   ]
  },
  {
   "cell_type": "markdown",
   "id": "c7dbf52f",
   "metadata": {},
   "source": [
    "components, of dimension"
   ]
  },
  {
   "cell_type": "code",
   "execution_count": 7,
   "id": "0b07ef2f",
   "metadata": {
    "execution": {
     "iopub.execute_input": "2021-09-08T14:55:44.331544Z",
     "iopub.status.busy": "2021-09-08T14:55:44.331143Z",
     "iopub.status.idle": "2021-09-08T14:55:44.342964Z",
     "shell.execute_reply": "2021-09-08T14:55:44.342621Z"
    }
   },
   "outputs": [
    {
     "name": "stdout",
     "output_type": "stream",
     "text": [
      "ans = 1\r\n"
     ]
    }
   ],
   "source": [
    "dec.component(1).irrepDimension"
   ]
  },
  {
   "cell_type": "markdown",
   "id": "cf67e167",
   "metadata": {},
   "source": [
    "and"
   ]
  },
  {
   "cell_type": "code",
   "execution_count": 8,
   "id": "8c739e93",
   "metadata": {
    "execution": {
     "iopub.execute_input": "2021-09-08T14:55:44.345424Z",
     "iopub.status.busy": "2021-09-08T14:55:44.345026Z",
     "iopub.status.idle": "2021-09-08T14:55:44.356602Z",
     "shell.execute_reply": "2021-09-08T14:55:44.356261Z"
    }
   },
   "outputs": [
    {
     "name": "stdout",
     "output_type": "stream",
     "text": [
      "ans = 3\r\n"
     ]
    }
   ],
   "source": [
    "dec.component(2).irrepDimension"
   ]
  },
  {
   "cell_type": "markdown",
   "id": "94c0566b",
   "metadata": {},
   "source": [
    "These are the antisymmetric and symmetric subspaces respectively. The change of basis into the first component\n",
    "identifies the antisymetric subspace, also known as the *singlet state*:"
   ]
  },
  {
   "cell_type": "code",
   "execution_count": 9,
   "id": "c33e1eba",
   "metadata": {
    "execution": {
     "iopub.execute_input": "2021-09-08T14:55:44.359195Z",
     "iopub.status.busy": "2021-09-08T14:55:44.358794Z",
     "iopub.status.idle": "2021-09-08T14:55:44.376339Z",
     "shell.execute_reply": "2021-09-08T14:55:44.375968Z"
    }
   },
   "outputs": [
    {
     "name": "stdout",
     "output_type": "stream",
     "text": [
      "singletBasis =\r\n",
      "\r\n",
      "        0\r\n",
      "   0.5000\r\n",
      "  -0.5000\r\n",
      "        0\r\n",
      "\r\n"
     ]
    },
    {
     "name": "stdout",
     "output_type": "stream",
     "text": [
      "rest =\r\n",
      "\r\n",
      " Columns 1 and 2:\r\n",
      "\r\n",
      "   5.7601e-01 - 2.4887e-01i  -4.3512e-01 - 6.4571e-01i\r\n",
      "  -1.8811e-01 + 5.1745e-01i  -4.3777e-01 - 7.2241e-02i\r\n",
      "  -1.8811e-01 + 5.1745e-01i  -4.3777e-01 - 7.2241e-02i\r\n",
      "  -1.0150e-31 + 1.3874e-31i   9.5814e-32 + 3.8628e-31i\r\n",
      "\r\n",
      " Column 3:\r\n",
      "\r\n",
      "  -3.8411e-31 + 5.1554e-32i\r\n",
      "   2.1037e-32 + 1.3576e-31i\r\n",
      "   2.1037e-32 + 1.3576e-31i\r\n",
      "  -1.0000e+00 + 1.5334e-31i\r\n",
      "\r\n"
     ]
    }
   ],
   "source": [
    "singletBasis = dec.component(1).basis\n",
    "rest = dec.component(2).basis"
   ]
  }
 ],
 "metadata": {
  "jupytext": {
   "cell_metadata_filter": "-all",
   "main_language": "matlab",
   "notebook_metadata_filter": "-all",
   "text_representation": {
    "extension": ".m",
    "format_name": "light"
   }
  },
  "language_info": {
   "file_extension": ".m",
   "help_links": [
    {
     "text": "GNU Octave",
     "url": "https://www.gnu.org/software/octave/support.html"
    },
    {
     "text": "Octave Kernel",
     "url": "https://github.com/Calysto/octave_kernel"
    },
    {
     "text": "MetaKernel Magics",
     "url": "https://metakernel.readthedocs.io/en/latest/source/README.html"
    }
   ],
   "mimetype": "text/x-octave",
   "name": "octave",
   "version": "6.2.0"
  }
 },
 "nbformat": 4,
 "nbformat_minor": 5
}
