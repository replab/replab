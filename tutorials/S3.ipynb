{
 "cells": [
  {
   "cell_type": "markdown",
   "id": "4b91fa9d",
   "metadata": {},
   "source": [
    "# Tutorial for mathematicians\n",
    "\n",
    "The symmetric group $S_n$ is group of primary importance. Here, we consider this group for $n=3$ and discuss several of its representations with *RepLAB*.\n",
    "\n",
    "Before trying any of the *RepLAB* commands, we must initialize the library:"
   ]
  },
  {
   "cell_type": "code",
   "execution_count": 1,
   "id": "df31d62f",
   "metadata": {
    "execution": {
     "iopub.execute_input": "2021-09-08T14:55:24.066346Z",
     "iopub.status.busy": "2021-09-08T14:55:24.063050Z",
     "iopub.status.idle": "2021-09-08T14:55:30.024328Z",
     "shell.execute_reply": "2021-09-08T14:55:30.023806Z"
    }
   },
   "outputs": [],
   "source": [
    "addpath([pwd, '/../..']);\n",
    "replab_init('verbose', 0);"
   ]
  },
  {
   "cell_type": "markdown",
   "id": "6bc9c4a3",
   "metadata": {},
   "source": [
    "## The symmetric group\n",
    "\n",
    "Consider $n$ distinct elements, numbered $1,2,\\ldots,n$. The symmetric group describes all possible ways in which these elements can be permuted.\n",
    "\n",
    "With $n=3$, for instance, two possible arrangements are"
   ]
  },
  {
   "cell_type": "code",
   "execution_count": 2,
   "id": "ec46fe90",
   "metadata": {
    "execution": {
     "iopub.execute_input": "2021-09-08T14:55:30.027338Z",
     "iopub.status.busy": "2021-09-08T14:55:30.026904Z",
     "iopub.status.idle": "2021-09-08T14:55:30.038630Z",
     "shell.execute_reply": "2021-09-08T14:55:30.039049Z"
    }
   },
   "outputs": [],
   "source": [
    "[1 2 3];"
   ]
  },
  {
   "cell_type": "markdown",
   "id": "af421e3b",
   "metadata": {},
   "source": [
    "and"
   ]
  },
  {
   "cell_type": "code",
   "execution_count": 3,
   "id": "75a6c1b4",
   "metadata": {
    "execution": {
     "iopub.execute_input": "2021-09-08T14:55:30.041690Z",
     "iopub.status.busy": "2021-09-08T14:55:30.041280Z",
     "iopub.status.idle": "2021-09-08T14:55:30.052520Z",
     "shell.execute_reply": "2021-09-08T14:55:30.052135Z"
    }
   },
   "outputs": [],
   "source": [
    "[1 3 2];"
   ]
  },
  {
   "cell_type": "markdown",
   "id": "89b136f1",
   "metadata": {},
   "source": [
    "In general there are $n!$ such arrangements (i.e. $6$ arrangements for $n=3$).\n",
    "\n",
    "In *RepLAB*, the symmetric group can be constructed with a simple command"
   ]
  },
  {
   "cell_type": "code",
   "execution_count": 4,
   "id": "49300052",
   "metadata": {
    "execution": {
     "iopub.execute_input": "2021-09-08T14:55:30.055110Z",
     "iopub.status.busy": "2021-09-08T14:55:30.054700Z",
     "iopub.status.idle": "2021-09-08T14:55:30.096847Z",
     "shell.execute_reply": "2021-09-08T14:55:30.096435Z"
    }
   },
   "outputs": [],
   "source": [
    "n = 3;\n",
    "S3 = replab.S(n);"
   ]
  },
  {
   "cell_type": "markdown",
   "id": "17fd17d1",
   "metadata": {},
   "source": [
    "The elements of the group can be easily listed"
   ]
  },
  {
   "cell_type": "code",
   "execution_count": 5,
   "id": "b6ebb613",
   "metadata": {
    "execution": {
     "iopub.execute_input": "2021-09-08T14:55:30.099684Z",
     "iopub.status.busy": "2021-09-08T14:55:30.099261Z",
     "iopub.status.idle": "2021-09-08T14:55:30.186508Z",
     "shell.execute_reply": "2021-09-08T14:55:30.185704Z"
    }
   },
   "outputs": [
    {
     "name": "stdout",
     "output_type": "stream",
     "text": [
      "ans =\r\n",
      "{\r\n",
      "  [1,1] =\r\n",
      "\r\n",
      "     1   2   3\r\n",
      "\r\n",
      "  [1,2] =\r\n",
      "\r\n",
      "     1   3   2\r\n",
      "\r\n",
      "  [1,3] =\r\n",
      "\r\n",
      "     2   1   3\r\n",
      "\r\n",
      "  [1,4] =\r\n",
      "\r\n",
      "     2   3   1\r\n",
      "\r\n",
      "  [1,5] =\r\n",
      "\r\n",
      "     3   1   2\r\n",
      "\r\n",
      "  [1,6] =\r\n",
      "\r\n",
      "     3   2   1\r\n",
      "\r\n",
      "}\r\n",
      "\r\n"
     ]
    }
   ],
   "source": [
    "S3.elements"
   ]
  },
  {
   "cell_type": "markdown",
   "id": "d09276ae",
   "metadata": {},
   "source": [
    "The number of elements is the order of the group"
   ]
  },
  {
   "cell_type": "code",
   "execution_count": 6,
   "id": "f57cec5e",
   "metadata": {
    "execution": {
     "iopub.execute_input": "2021-09-08T14:55:30.189154Z",
     "iopub.status.busy": "2021-09-08T14:55:30.188743Z",
     "iopub.status.idle": "2021-09-08T14:55:30.204115Z",
     "shell.execute_reply": "2021-09-08T14:55:30.203756Z"
    }
   },
   "outputs": [
    {
     "name": "stdout",
     "output_type": "stream",
     "text": [
      "ans =\r\n",
      "    6\r\n"
     ]
    }
   ],
   "source": [
    "S3.order"
   ]
  },
  {
   "cell_type": "markdown",
   "id": "4d491162",
   "metadata": {},
   "source": [
    "As we see, permutations are represented by row-vectors with an arrangement of the elements $1,\\ldots,n$.\n",
    "\n",
    "The group structure defines how elements of the group compose with each other.\n",
    "For instance, permuting the first two elements in $1,2,3$, followed by a permutation of the second and third elements results in a cyclic permutation:"
   ]
  },
  {
   "cell_type": "code",
   "execution_count": 7,
   "id": "cb7a6992",
   "metadata": {
    "execution": {
     "iopub.execute_input": "2021-09-08T14:55:30.206719Z",
     "iopub.status.busy": "2021-09-08T14:55:30.206303Z",
     "iopub.status.idle": "2021-09-08T14:55:30.228051Z",
     "shell.execute_reply": "2021-09-08T14:55:30.227678Z"
    }
   },
   "outputs": [
    {
     "name": "stdout",
     "output_type": "stream",
     "text": [
      "ans =\r\n",
      "\r\n",
      "   2   3   1\r\n",
      "\r\n"
     ]
    }
   ],
   "source": [
    "element1 = [2 1 3];\n",
    "element2 = [1 3 2];\n",
    "S3.compose(element1, element2)"
   ]
  },
  {
   "cell_type": "markdown",
   "id": "1242e315",
   "metadata": {},
   "source": [
    "## The natural representation of S(3)\n",
    "\n",
    "A group can always be represented by matrices of finite dimension. In a $d$-dimensional matrix representation, each group element is associated with a $d \\times d$ matrix called the image of the group\n",
    "element. The action of matrix multiplication on the images then reflects the group composition rule.\n",
    "\n",
    "Several matrix representations are possible for the same group, possibly in various dimension $d$. Here, we are going to explore some representations of the group $S_3$\n",
    "\n",
    "When seeing the group as a permutation within $n$ elements, a natural choice of representation arises in dimension $d=n$, where the permutation\n",
    "is applied to the coordinates of the vector space $R^n$. This is called the *natural representation* of a group. It can be constructed easily:"
   ]
  },
  {
   "cell_type": "code",
   "execution_count": 8,
   "id": "2e644579",
   "metadata": {
    "execution": {
     "iopub.execute_input": "2021-09-08T14:55:30.230906Z",
     "iopub.status.busy": "2021-09-08T14:55:30.230273Z",
     "iopub.status.idle": "2021-09-08T14:55:30.364307Z",
     "shell.execute_reply": "2021-09-08T14:55:30.364681Z"
    }
   },
   "outputs": [],
   "source": [
    "natRep = S3.naturalRep;"
   ]
  },
  {
   "cell_type": "markdown",
   "id": "b2301252",
   "metadata": {},
   "source": [
    "The image of a group element in this representation can be extracted"
   ]
  },
  {
   "cell_type": "code",
   "execution_count": 9,
   "id": "e78a1c1b",
   "metadata": {
    "execution": {
     "iopub.execute_input": "2021-09-08T14:55:30.367658Z",
     "iopub.status.busy": "2021-09-08T14:55:30.367242Z",
     "iopub.status.idle": "2021-09-08T14:55:30.382388Z",
     "shell.execute_reply": "2021-09-08T14:55:30.382750Z"
    }
   },
   "outputs": [
    {
     "name": "stdout",
     "output_type": "stream",
     "text": [
      "ans =\r\n",
      "\r\n",
      "   0   1   0\r\n",
      "   1   0   0\r\n",
      "   0   0   1\r\n",
      "\r\n"
     ]
    }
   ],
   "source": [
    "natRep.image([2 1 3])"
   ]
  },
  {
   "cell_type": "markdown",
   "id": "c748e2be",
   "metadata": {},
   "source": [
    "We see that the matrices representing the group elements are $n \\times n$ permutation matrices, which simply apply the permutation to the coordinates of the vector space $R^n$.\n",
    "\n",
    "For a representation to be valid, the images must follow the structure of the group:"
   ]
  },
  {
   "cell_type": "code",
   "execution_count": 10,
   "id": "0aa6231f",
   "metadata": {
    "execution": {
     "iopub.execute_input": "2021-09-08T14:55:30.385176Z",
     "iopub.status.busy": "2021-09-08T14:55:30.384767Z",
     "iopub.status.idle": "2021-09-08T14:55:30.415901Z",
     "shell.execute_reply": "2021-09-08T14:55:30.415532Z"
    }
   },
   "outputs": [
    {
     "name": "stdout",
     "output_type": "stream",
     "text": [
      "ans =\r\n",
      "\r\n",
      "   0   0   1\r\n",
      "   1   0   0\r\n",
      "   0   1   0\r\n",
      "\r\n"
     ]
    },
    {
     "name": "stdout",
     "output_type": "stream",
     "text": [
      "ans =\r\n",
      "\r\n",
      "   0   0   1\r\n",
      "   1   0   0\r\n",
      "   0   1   0\r\n",
      "\r\n"
     ]
    }
   ],
   "source": [
    "image1 = natRep.image(element1);\n",
    "image2 = natRep.image(element2);\n",
    "image1*image2\n",
    "natRep.image(S3.compose(element1, element2))"
   ]
  },
  {
   "cell_type": "markdown",
   "id": "8f55fa7b",
   "metadata": {},
   "source": [
    "We see that the image of the product of elements is indeed the product of the images of the respective elements, i.e. the algebra of matrices\n",
    "acting on the representation images accurately reflects the group algebra.\n",
    "\n",
    "It can be checked, moreover, that the natural representation is faithful, i.e. each group element has its own distinct image. This needs\n",
    "not always be the case as in the following two examples.\n",
    "\n",
    "## The parity representation of $S_3$\n",
    "\n",
    "To construct an arbitrary group representation in *RepLAB*, it is sufficient to provide the image of the generators of the group. The group $S_3$ has two generators:"
   ]
  },
  {
   "cell_type": "code",
   "execution_count": 11,
   "id": "ffee031b",
   "metadata": {
    "execution": {
     "iopub.execute_input": "2021-09-08T14:55:30.418356Z",
     "iopub.status.busy": "2021-09-08T14:55:30.417918Z",
     "iopub.status.idle": "2021-09-08T14:55:30.434420Z",
     "shell.execute_reply": "2021-09-08T14:55:30.434739Z"
    }
   },
   "outputs": [
    {
     "name": "stdout",
     "output_type": "stream",
     "text": [
      "ans =\r\n",
      "\r\n",
      "   2   3   1\r\n",
      "\r\n",
      "ans =\r\n",
      "\r\n",
      "   2   1   3\r\n",
      "\r\n"
     ]
    }
   ],
   "source": [
    "generators = S3.generators;\n",
    "generators{:}"
   ]
  },
  {
   "cell_type": "markdown",
   "id": "32328026",
   "metadata": {},
   "source": [
    "Let us construct a representation of this group in dimension"
   ]
  },
  {
   "cell_type": "code",
   "execution_count": 12,
   "id": "2e2f286d",
   "metadata": {
    "execution": {
     "iopub.execute_input": "2021-09-08T14:55:30.437477Z",
     "iopub.status.busy": "2021-09-08T14:55:30.437075Z",
     "iopub.status.idle": "2021-09-08T14:55:30.448252Z",
     "shell.execute_reply": "2021-09-08T14:55:30.447899Z"
    }
   },
   "outputs": [],
   "source": [
    "d = 1;"
   ]
  },
  {
   "cell_type": "markdown",
   "id": "e7b30ad4",
   "metadata": {},
   "source": [
    "associating the each generator its parity (i.e. either $+1$ or $-1$). Since the parity of [2 3 1] is 1 and the parity of [2 1 3] is -1, this is achieved by instantiating calling the *repByImages* methods on the group:"
   ]
  },
  {
   "cell_type": "code",
   "execution_count": 13,
   "id": "c9d4ace0",
   "metadata": {
    "execution": {
     "iopub.execute_input": "2021-09-08T14:55:30.451026Z",
     "iopub.status.busy": "2021-09-08T14:55:30.450629Z",
     "iopub.status.idle": "2021-09-08T14:55:30.569264Z",
     "shell.execute_reply": "2021-09-08T14:55:30.568559Z"
    }
   },
   "outputs": [],
   "source": [
    "parRep = S3.repByImages('R', d, 'preimages', S3.generators, 'images', {1 -1});"
   ]
  },
  {
   "cell_type": "markdown",
   "id": "15bb3b15",
   "metadata": {},
   "source": [
    "We can check that this representation is valid"
   ]
  },
  {
   "cell_type": "code",
   "execution_count": 14,
   "id": "e580adf4",
   "metadata": {
    "execution": {
     "iopub.execute_input": "2021-09-08T14:55:30.571820Z",
     "iopub.status.busy": "2021-09-08T14:55:30.571404Z",
     "iopub.status.idle": "2021-09-08T14:55:30.603109Z",
     "shell.execute_reply": "2021-09-08T14:55:30.602734Z"
    }
   },
   "outputs": [
    {
     "name": "stdout",
     "output_type": "stream",
     "text": [
      "image1 = -1\r\n"
     ]
    },
    {
     "name": "stdout",
     "output_type": "stream",
     "text": [
      "image2 = -1\r\n"
     ]
    },
    {
     "name": "stdout",
     "output_type": "stream",
     "text": [
      "ans = 1\r\n"
     ]
    },
    {
     "name": "stdout",
     "output_type": "stream",
     "text": [
      "ans = 1\r\n"
     ]
    }
   ],
   "source": [
    "image1 = parRep.image(element1)\n",
    "image2 = parRep.image(element2)\n",
    "image1*image2\n",
    "parRep.image(S3.compose(element1, element2))"
   ]
  },
  {
   "cell_type": "markdown",
   "id": "f717916a",
   "metadata": {},
   "source": [
    "The parity of each binary permutation ``[2 1 3]`` and ``[1 3 2]`` is $-1$, and their product, the cycle [2 3 1], has parity $1$.\n",
    "\n",
    "Clearly, this representation carries some information about the group, namely the parity, but some elements have the same image:"
   ]
  },
  {
   "cell_type": "code",
   "execution_count": 15,
   "id": "9a1cb377",
   "metadata": {
    "execution": {
     "iopub.execute_input": "2021-09-08T14:55:30.605774Z",
     "iopub.status.busy": "2021-09-08T14:55:30.605365Z",
     "iopub.status.idle": "2021-09-08T14:55:30.709643Z",
     "shell.execute_reply": "2021-09-08T14:55:30.709234Z"
    }
   },
   "outputs": [
    {
     "name": "stdout",
     "output_type": "stream",
     "text": [
      "Image of [1  2  3] : 1\r\n",
      "Image of [1  3  2] : -1\r\n",
      "Image of [2  1  3] : -1\r\n",
      "Image of [2  3  1] : 1\r\n",
      "Image of [3  1  2] : 1\r\n",
      "Image of [3  2  1] : -1\r\n"
     ]
    }
   ],
   "source": [
    "allElements = S3.elements;\n",
    "for i = 1:length(allElements)\n",
    "    disp(['Image of [', num2str(allElements{i}), '] : ', num2str(parRep.image(allElements{i}))]);\n",
    "end"
   ]
  },
  {
   "cell_type": "markdown",
   "id": "1fb41cfe",
   "metadata": {},
   "source": [
    "Therefore, this representation is not *faithful*.\n",
    "\n",
    "## The trivial representation of S(3)\n",
    "An even simpler representation of the group S(n) is one in which the image of all elements is set to $1$. This is called the *trivial representation*.\n",
    "\n",
    "It can be constructed similarly from the image of the generators:"
   ]
  },
  {
   "cell_type": "code",
   "execution_count": 16,
   "id": "a17165ca",
   "metadata": {
    "execution": {
     "iopub.execute_input": "2021-09-08T14:55:30.712396Z",
     "iopub.status.busy": "2021-09-08T14:55:30.711988Z",
     "iopub.status.idle": "2021-09-08T14:55:30.820505Z",
     "shell.execute_reply": "2021-09-08T14:55:30.820079Z"
    }
   },
   "outputs": [],
   "source": [
    "trivRep = S3.repByImages('R', d, 'preimages', S3.generators, 'images', {1 1});"
   ]
  },
  {
   "cell_type": "markdown",
   "id": "a22b06ba",
   "metadata": {},
   "source": [
    "This time, the group law is trivially satisfied since all images are indeed equal to $1$:"
   ]
  },
  {
   "cell_type": "code",
   "execution_count": 17,
   "id": "0c9bea21",
   "metadata": {
    "execution": {
     "iopub.execute_input": "2021-09-08T14:55:30.823322Z",
     "iopub.status.busy": "2021-09-08T14:55:30.822904Z",
     "iopub.status.idle": "2021-09-08T14:55:30.861196Z",
     "shell.execute_reply": "2021-09-08T14:55:30.860801Z"
    }
   },
   "outputs": [
    {
     "name": "stdout",
     "output_type": "stream",
     "text": [
      "Image of [1  2  3] : 1\r\n",
      "Image of [1  3  2] : 1\r\n",
      "Image of [2  1  3] : 1\r\n",
      "Image of [2  3  1] : 1\r\n",
      "Image of [3  1  2] : 1\r\n",
      "Image of [3  2  1] : 1\r\n"
     ]
    }
   ],
   "source": [
    "for i = 1:length(allElements)\n",
    "    disp(['Image of [', num2str(allElements{i}), '] : ', num2str(trivRep.image(allElements{i}))]);\n",
    "end"
   ]
  },
  {
   "cell_type": "markdown",
   "id": "991fcdda",
   "metadata": {},
   "source": [
    "## Direct sum of representation of S(3)\n",
    "\n",
    "We have seen that a group can admit several representations. Any two representations of a group in dimension $d_1$ and $d_2$ can be joined\n",
    "together by taking their *direct sum* in order to create a new valid representation in dimension $d_1 + d_2$.\n",
    "\n",
    "For instance, we can construct a $4$-dimensional representation of S(3) by taking the direct sum of the natural representation with the parity\n",
    "representation"
   ]
  },
  {
   "cell_type": "code",
   "execution_count": 18,
   "id": "b3a6c29e",
   "metadata": {
    "execution": {
     "iopub.execute_input": "2021-09-08T14:55:30.863854Z",
     "iopub.status.busy": "2021-09-08T14:55:30.863448Z",
     "iopub.status.idle": "2021-09-08T14:55:30.904002Z",
     "shell.execute_reply": "2021-09-08T14:55:30.904356Z"
    }
   },
   "outputs": [
    {
     "name": "stdout",
     "output_type": "stream",
     "text": [
      "newRep =\r\n",
      "\r\n",
      "Orthogonal direct sum representation\r\n",
      "dimension: 4\r\n",
      "    field: 'R'\r\n",
      "    group: Symmetric group acting on 3 elements\r\n",
      "isUnitary: true\r\n",
      "factor(1): Orthogonal reducible representation\r\n",
      "factor(2): Orthogonal representation\r\n",
      "\r\n"
     ]
    }
   ],
   "source": [
    "newRep = blkdiag(natRep, parRep)"
   ]
  },
  {
   "cell_type": "markdown",
   "id": "9732618a",
   "metadata": {},
   "source": [
    "The images are then $4 \\times 4$ matrices"
   ]
  },
  {
   "cell_type": "code",
   "execution_count": 19,
   "id": "033dd796",
   "metadata": {
    "execution": {
     "iopub.execute_input": "2021-09-08T14:55:30.906950Z",
     "iopub.status.busy": "2021-09-08T14:55:30.906542Z",
     "iopub.status.idle": "2021-09-08T14:55:30.931525Z",
     "shell.execute_reply": "2021-09-08T14:55:30.931869Z"
    }
   },
   "outputs": [
    {
     "name": "stdout",
     "output_type": "stream",
     "text": [
      "ans =\r\n",
      "\r\n",
      "   0   1   0   0\r\n",
      "   1   0   0   0\r\n",
      "   0   0   1   0\r\n",
      "   0   0   0  -1\r\n",
      "\r\n"
     ]
    },
    {
     "name": "stdout",
     "output_type": "stream",
     "text": [
      "ans =\r\n",
      "\r\n",
      "   1   0   0   0\r\n",
      "   0   0   1   0\r\n",
      "   0   1   0   0\r\n",
      "   0   0   0  -1\r\n",
      "\r\n"
     ]
    }
   ],
   "source": [
    "newRep.image(element1)\n",
    "newRep.image(element2)"
   ]
  },
  {
   "cell_type": "markdown",
   "id": "3f98564a",
   "metadata": {},
   "source": [
    "As expected, the images have a block diagonal structure. The properties\n",
    "of a direct sum representation are thus captured by the properties of\n",
    "the representation in each block. Such a representation is *reducible*.\n",
    "\n",
    "## Irreducible representations of S(3)\n",
    "\n",
    "Given a representation, it is not always obvious whether it is the direct\n",
    "sum of more fundamental representations or if the representation is\n",
    "*irreducible*. For instance, the images of the natural representation\n",
    "introduced above are not obviously block-diagonal. Yet, this\n",
    "representation is also reducible. To see this, one needs to find a basis\n",
    "of the vector space $R^d$ in which the images have a block diagonal\n",
    "structure.\n",
    "\n",
    "This can be achieved in *RepLAB* by decomposing the representation"
   ]
  },
  {
   "cell_type": "code",
   "execution_count": 20,
   "id": "e8b58b88",
   "metadata": {
    "execution": {
     "iopub.execute_input": "2021-09-08T14:55:30.934463Z",
     "iopub.status.busy": "2021-09-08T14:55:30.934047Z",
     "iopub.status.idle": "2021-09-08T14:55:32.028879Z",
     "shell.execute_reply": "2021-09-08T14:55:32.028470Z"
    }
   },
   "outputs": [
    {
     "name": "stdout",
     "output_type": "stream",
     "text": [
      "ans = 2\r\n"
     ]
    }
   ],
   "source": [
    "natDec = natRep.decomposition.nice;\n",
    "natDec.nComponents"
   ]
  },
  {
   "cell_type": "markdown",
   "id": "3bac83d1",
   "metadata": {},
   "source": [
    "This shows that the defininig representation of $S_3$ has two *irreducible components*, of dimension $1$ and $2$ respectively:"
   ]
  },
  {
   "cell_type": "code",
   "execution_count": 21,
   "id": "e53e181e",
   "metadata": {
    "execution": {
     "iopub.execute_input": "2021-09-08T14:55:32.031590Z",
     "iopub.status.busy": "2021-09-08T14:55:32.031171Z",
     "iopub.status.idle": "2021-09-08T14:55:32.049390Z",
     "shell.execute_reply": "2021-09-08T14:55:32.049701Z"
    }
   },
   "outputs": [
    {
     "name": "stdout",
     "output_type": "stream",
     "text": [
      "ans = 1\r\n"
     ]
    },
    {
     "name": "stdout",
     "output_type": "stream",
     "text": [
      "ans = 2\r\n"
     ]
    }
   ],
   "source": [
    "natDec.component(1).irrepDimension\n",
    "natDec.component(2).irrepDimension"
   ]
  },
  {
   "cell_type": "markdown",
   "id": "b1e8029d",
   "metadata": {},
   "source": [
    "The decomposition also provides the change of basis matrix which makes |this decomposition apparent"
   ]
  },
  {
   "cell_type": "code",
   "execution_count": 22,
   "id": "41639807",
   "metadata": {
    "execution": {
     "iopub.execute_input": "2021-09-08T14:55:32.052533Z",
     "iopub.status.busy": "2021-09-08T14:55:32.051876Z",
     "iopub.status.idle": "2021-09-08T14:55:32.064025Z",
     "shell.execute_reply": "2021-09-08T14:55:32.064340Z"
    }
   },
   "outputs": [
    {
     "name": "stdout",
     "output_type": "stream",
     "text": [
      "basis =\r\n",
      "\r\n",
      "   0.3333   0.6667  -0.3333\r\n",
      "   0.3333  -0.3333   0.6667\r\n",
      "   0.3333  -0.3333  -0.3333\r\n",
      "\r\n"
     ]
    }
   ],
   "source": [
    "basis = natDec.basis"
   ]
  },
  {
   "cell_type": "markdown",
   "id": "340b7fe2",
   "metadata": {},
   "source": [
    "The images of the two elements of $S_3$, ``[2 1 3]`` and ``[1 3 2]`` are indeed block-diagonal in this basis:"
   ]
  },
  {
   "cell_type": "code",
   "execution_count": 23,
   "id": "c89be836",
   "metadata": {
    "execution": {
     "iopub.execute_input": "2021-09-08T14:55:32.066950Z",
     "iopub.status.busy": "2021-09-08T14:55:32.066547Z",
     "iopub.status.idle": "2021-09-08T14:55:32.086271Z",
     "shell.execute_reply": "2021-09-08T14:55:32.085864Z"
    }
   },
   "outputs": [
    {
     "name": "stdout",
     "output_type": "stream",
     "text": [
      "ans =\r\n",
      "\r\n",
      "   1   0   0\r\n",
      "   0   0   1\r\n",
      "   0   1   0\r\n",
      "\r\n"
     ]
    },
    {
     "name": "stdout",
     "output_type": "stream",
     "text": [
      "ans =\r\n",
      "\r\n",
      "   1   0   0\r\n",
      "   0   1  -1\r\n",
      "   0   0  -1\r\n",
      "\r\n"
     ]
    }
   ],
   "source": [
    "inv(basis)*natRep.image(element1)*basis\n",
    "inv(basis)*natRep.image(element2)*basis"
   ]
  },
  {
   "cell_type": "markdown",
   "id": "f902c0a4",
   "metadata": {},
   "source": [
    "## Summary\n",
    "\n",
    "This shows that the natural representation of S(3) contains\n",
    "\n",
    "* One copy of the trivial representation of S(3)\n",
    "* One copy of the a faithful 2 x 2 representation of S(3)"
   ]
  }
 ],
 "metadata": {
  "jupytext": {
   "cell_metadata_filter": "-all",
   "main_language": "matlab",
   "notebook_metadata_filter": "-all",
   "text_representation": {
    "extension": ".m",
    "format_name": "light"
   }
  },
  "language_info": {
   "file_extension": ".m",
   "help_links": [
    {
     "text": "GNU Octave",
     "url": "https://www.gnu.org/software/octave/support.html"
    },
    {
     "text": "Octave Kernel",
     "url": "https://github.com/Calysto/octave_kernel"
    },
    {
     "text": "MetaKernel Magics",
     "url": "https://metakernel.readthedocs.io/en/latest/source/README.html"
    }
   ],
   "mimetype": "text/x-octave",
   "name": "octave",
   "version": "6.2.0"
  }
 },
 "nbformat": 4,
 "nbformat_minor": 5
}
