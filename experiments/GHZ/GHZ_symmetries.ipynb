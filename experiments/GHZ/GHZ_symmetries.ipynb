{
 "cells": [
  {
   "cell_type": "code",
   "execution_count": 92,
   "metadata": {},
   "outputs": [],
   "source": [
    "run ~/w/replab/replab_init\n",
    "replab.globals.verbosity(0);\n",
    "replab.globals.useReconstruction(1);"
   ]
  },
  {
   "cell_type": "markdown",
   "metadata": {},
   "source": [
    "In this notebook, we compute the family of states with the symmetry of the GHZ states, as in [C. Eltschka and J. Siewert, \"Entanglement of Three-Qubit Greenberger-Horne-Zeilinger--Symmetric States\"](https://journals.aps.org/prl/abstract/10.1103/PhysRevLett.108.020502).\n",
    "\n",
    "\n",
    "The GHZ state $\\left|\\text{GHZ}\\right> = \\left|000\\right> + \\left|111\\right>$ is invariant (U |GHZ> = |GHZ>) under a family of matrices U\n",
    "\n",
    "\\begin{equation}\n",
    "U = \\begin{pmatrix} a_0 & 0 \\\\ 0 & a_1 \\end{pmatrix} \\otimes \\begin{pmatrix} b_0 & 0 \\\\ 0 & b_1 \\end{pmatrix} \\otimes \\begin{pmatrix} c_0 & 0 \\\\ 0 & c_1 \\end{pmatrix} \n",
    "\\end{equation}\n",
    "\n",
    "who act on the state space $\\mathbb{C}^8$. The eight coefficients, in order, are those of $\\left|000\\right>$,$\\left|001\\right>$,$\\left|010\\right>$,$\\left|011\\right>$,$\\left|100\\right>$,$\\left|101\\right>$,$\\left|110\\right>$,$\\left|111\\right>$.\n",
    "\n",
    "For the invariance to hold, the unit complex numbers $a_0$,$a_1$,$b_0$,$b_1$,$c_0$,$c_1$ obey the equation $a_0 b_0 c_0 = a_1 b_1 c_1 = 1$.\n",
    "\n",
    "The state is also invariant under permutation of subsystems (a group of order $3! = 6$), and permutation of the levels (a group of order $2$).\n",
    "\n",
    "Let us define the continuous connected group. $T(6)$ is the [torus group](https://en.wikipedia.org/wiki/Torus#n-dimensional_torus) with 6 elements, elements that we name according to our scenario."
   ]
  },
  {
   "cell_type": "code",
   "execution_count": 97,
   "metadata": {},
   "outputs": [],
   "source": [
    "T6 = replab.T(6);\n",
    "T6 = T6.withNames({'a0' 'b0' 'c0' 'a1' 'b1' 'c1'});"
   ]
  },
  {
   "cell_type": "markdown",
   "metadata": {},
   "source": [
    "We then define the subgroup obeying the equation $a_0 b_0 c_0 = a_1 b_1 c_1 = 1$."
   ]
  },
  {
   "cell_type": "code",
   "execution_count": 98,
   "metadata": {},
   "outputs": [
    {
     "name": "stdout",
     "output_type": "stream",
     "text": [
      "T = \n",
      "Torus group of dimension n=6 and rank r=4\n",
      "   identity: [0; 0; 0; 0; 0; 0]\n",
      "  injection: 6 x 4 double\n",
      "      names: {'a0', 'b0', 'c0', 'a1', 'b1', 'c1'}\n",
      " projection: 4 x 6 double\n",
      "equation(1): 'a0 b0 c0'\n",
      "equation(2): 'a1 b1 c1'\n"
     ]
    }
   ],
   "source": [
    "T = T6.subgroupWith('a0*b0*c0 = 1', 'a1*b1*c1 = 1')"
   ]
  },
  {
   "cell_type": "markdown",
   "metadata": {},
   "source": [
    "Now, how does that group act on the state space $\\mathbb{C}^8$?\n",
    "\n",
    "We construct the representation whose image is the matrix $U$ above."
   ]
  },
  {
   "cell_type": "code",
   "execution_count": 100,
   "metadata": {},
   "outputs": [],
   "source": [
    "Trep = T.diagonalRepWith('a0 b0 c0', ...\n",
    "                         'a0 b0 c1', ...\n",
    "                         'a0 b1 c0', ...\n",
    "                         'a0 b1 c1', ...\n",
    "                         'a1 b0 c0', ...\n",
    "                         'a1 b0 c1', ...\n",
    "                         'a1 b1 c0', ...\n",
    "                         'a1 b1 c1');"
   ]
  },
  {
   "cell_type": "markdown",
   "metadata": {},
   "source": [
    "We construct now the discrete part, by writing how the subsystem and level permutations affect the elements of the continuous connected part.\n",
    "\n",
    "This finite group permutes the three subsystems and the two levels, independently, so we write it as a direct product."
   ]
  },
  {
   "cell_type": "code",
   "execution_count": 101,
   "metadata": {},
   "outputs": [
    {
     "name": "stdout",
     "output_type": "stream",
     "text": [
      "F = \n",
      "Direct product group with 2 factors of order 12\n",
      "    identity: {[1, 2, 3], [1, 2]}\n",
      "        type: Direct product group with 2 factors of order 12\n",
      "   factor(1): Symmetric group acting on 3 elements\n",
      "   factor(2): Symmetric group acting on 2 elements\n",
      "generator(1): {[2, 3, 1], [1, 2]}\n",
      "generator(2): {[2, 1, 3], [1, 2]}\n",
      "generator(3): {[1, 2, 3], [2, 1]}\n",
      "   recognize: AtlasResult (Dihedral group of order 12)\n"
     ]
    }
   ],
   "source": [
    "S3 = replab.S(3);\n",
    "S2 = replab.S(2);\n",
    "F = S3.directProduct(S2)"
   ]
  },
  {
   "cell_type": "markdown",
   "metadata": {},
   "source": [
    "Now, we write the action of the generators of this discrete group on the torus elements:"
   ]
  },
  {
   "cell_type": "code",
   "execution_count": 102,
   "metadata": {},
   "outputs": [],
   "source": [
    "% Permutation of AB\n",
    "gAB = {[2 1 3] [1 2]};\n",
    "actAB = T.automorphism('b0', 'a0', 'c0', 'b1', 'a1', 'c1');\n",
    "% Permutation of AC\n",
    "gAC = {[3 2 1] [1 2]};\n",
    "actAC = T.automorphism('c0', 'b0', 'a0', 'c1', 'b1', 'a1');\n",
    "% Permutation of BC\n",
    "gBC = {[1 3 2] [1 2]};\n",
    "actBC = T.automorphism('a0', 'c0', 'b0', 'a1', 'c1', 'b1');\n",
    "% Permutation of the two levels\n",
    "gL = {[1 2 3] [2 1]};\n",
    "actL = T.automorphism('a1', 'b1', 'c1', 'a0', 'b0', 'c0');"
   ]
  },
  {
   "cell_type": "markdown",
   "metadata": {},
   "source": [
    "We check that the generators generate the whole group."
   ]
  },
  {
   "cell_type": "code",
   "execution_count": 104,
   "metadata": {},
   "outputs": [],
   "source": [
    "assert(F.subgroup({gAB, gAC, gBC, gL}) == F);"
   ]
  },
  {
   "cell_type": "markdown",
   "metadata": {},
   "source": [
    "The [outer semidirect product construction](https://en.wikipedia.org/wiki/Semidirect_product#Inner_and_outer_semidirect_products) employs a morphism from a group $H$ to the automorphisms of another gorup $N$. This is what we do now."
   ]
  },
  {
   "cell_type": "code",
   "execution_count": 107,
   "metadata": {},
   "outputs": [],
   "source": [
    "G = T.semidirectProductByFiniteGroup(F, 'preimages', {gAB, gAC, gBC, gL}, 'images', {actAB, actAC, actBC, actL});"
   ]
  },
  {
   "cell_type": "markdown",
   "metadata": {},
   "source": [
    "## How does this group act on the state space?\n",
    "Remember that the integers $1$, $2$, $3$, $4$, $5$, $6$, $7$, $8$ enumerate $\\left|000\\right>$, $\\left|001\\right>$, $\\left|010\\right>$, $\\left|011\\right>$, $\\left|100\\right>$, $\\left|101\\right>$, $\\left|110\\right>$, $\\left|111\\right>$."
   ]
  },
  {
   "cell_type": "code",
   "execution_count": 108,
   "metadata": {},
   "outputs": [],
   "source": [
    "imgAB = replab.Permutation.toMatrix([1 2 5 6 3 4 7 8]);\n",
    "imgAC = replab.Permutation.toMatrix([1 5 3 7 2 6 4 8]);\n",
    "imgBC = replab.Permutation.toMatrix([1 3 2 4 5 7 6 8]);\n",
    "imgL = replab.Permutation.toMatrix([8 7 6 5 4 3 2 1]);"
   ]
  },
  {
   "cell_type": "markdown",
   "metadata": {},
   "source": [
    "We now construct the representation of the discrete group on the state space."
   ]
  },
  {
   "cell_type": "code",
   "execution_count": 109,
   "metadata": {},
   "outputs": [],
   "source": [
    "Frep = F.repByImages('C', 8, 'preimages', {gAB, gAC, gBC, gL}, 'images', {imgAB, imgAC, imgBC, imgL});"
   ]
  },
  {
   "cell_type": "markdown",
   "metadata": {},
   "source": [
    "We had the representation of the torus group `Trep`, and we now assemble the two."
   ]
  },
  {
   "cell_type": "code",
   "execution_count": 110,
   "metadata": {},
   "outputs": [
    {
     "name": "stdout",
     "output_type": "stream",
     "text": [
      "rep = \n",
      "Unitary representation\n",
      "               Hrep: Unitary representation\n",
      "               Nrep: Unitary representation\n",
      "          dimension: 8\n",
      "divisionAlgebraName: []\n",
      "              field: 'C'\n",
      "              group: replab.prods.SemidirectProductGroup_compact\n",
      "          isUnitary: true\n"
     ]
    }
   ],
   "source": [
    "rep = G.semidirectProductRep(Frep, Trep)"
   ]
  },
  {
   "cell_type": "markdown",
   "metadata": {},
   "source": [
    "... and now it is time to decompose that decomposition."
   ]
  },
  {
   "cell_type": "code",
   "execution_count": 111,
   "metadata": {},
   "outputs": [
    {
     "name": "stdout",
     "output_type": "stream",
     "text": [
      "ans = \n",
      "Unitary reducible representation\n",
      "          dimension: 8\n",
      "divisionAlgebraName: []\n",
      "              field: 'C'\n",
      "              group: replab.prods.SemidirectProductGroup_compact\n",
      " injection_internal: 8 x 8 double\n",
      "       isSimilarRep: true\n",
      "          isUnitary: true\n",
      "     mapsAreAdjoint: true\n",
      "             parent: Unitary representation\n",
      "projection_internal: 8 x 8 double\n",
      "  basis(1,'double'): [0.70711; 0; 0; 0; 0; 0; 0; 0.70711]\n",
      "  basis(2,'double'): [0.70711; 0; 0; 0; 0; 0; 0; -0.70711]\n",
      "  basis(3,'double'): [0; 1; 0; 0; 0; 0; 0; 0]\n",
      "  basis(4,'double'): [0; 0; 1; 0; 0; 0; 0; 0]\n",
      "  basis(5,'double'): [0; 0; 0; 1; 0; 0; 0; 0]\n",
      "  basis(6,'double'): [0; 0; 0; 0; 1; 0; 0; 0]\n",
      "  basis(7,'double'): [0; 0; 0; 0; 0; 1; 0; 0]\n",
      "  basis(8,'double'): [0; 0; 0; 0; 0; 0; 1; 0]\n",
      "       component(1): Isotypic component C(1) (trivial)\n",
      "       component(2): Isotypic component C(1) (nontrivial)\n",
      "       component(3): Isotypic component C(6) (nontrivial)\n"
     ]
    }
   ],
   "source": [
    "rep.decomposition"
   ]
  },
  {
   "cell_type": "markdown",
   "metadata": {},
   "source": [
    "Thus we recover that the states invariant under this type of symmetries are the pure states $\\left| \\text{GHZ}_\\pm \\right> = \\frac{\\left| 000 \\right> \\pm \\left| 111 \\right>}{\\sqrt{2}}$ and a mixed state containing all basis elements except $\\left| 000 \\right>$ and $\\left| 111 \\right>$ with equal weight $1/6$."
   ]
  }
 ],
 "metadata": {
  "jupytext": {
   "cell_metadata_filter": "-all",
   "notebook_metadata_filter": "-all",
   "text_representation": {
    "extension": ".m",
    "format_name": "light"
   }
  },
  "kernelspec": {
   "display_name": "Matlab",
   "language": "matlab",
   "name": "matlab"
  },
  "language_info": {
   "codemirror_mode": "octave",
   "file_extension": ".m",
   "help_links": [
    {
     "text": "MetaKernel Magics",
     "url": "https://metakernel.readthedocs.io/en/latest/source/README.html"
    }
   ],
   "mimetype": "text/x-octave",
   "name": "matlab",
   "version": "0.16.11"
  }
 },
 "nbformat": 4,
 "nbformat_minor": 4
}
