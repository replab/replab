{
 "cells": [
  {
   "cell_type": "code",
   "execution_count": 27,
   "metadata": {},
   "outputs": [],
   "source": [
    "run ~/w/replab/replab_init.m\n",
    "addpath(genpath('~/software/QETLAB'));\n",
    "replab.globals.useReconstruction(1);\n",
    "replab.globals.verbosity(0);\n",
    "profile on"
   ]
  },
  {
   "cell_type": "markdown",
   "metadata": {},
   "source": [
    "# Symmetrization of the quantum inflation SDP for the GHZ state\n",
    "\n",
    "We sketch below the construction of a symmetry-adapted SDP for that optimization. The resulting SDP has blocks of maximal size `5 x 5`. We describe all the spaces present, and their symmetries.\n",
    "\n",
    "## Spaces of Hermitian matrices\n",
    "\n",
    "* Triangle: Three qubits `A B C`, the state we are testing which has the symmetries of the GHZ state, see `GHZ_symmetries.ipynb`\n",
    "\n",
    "* Two triangles: Six qubits `A1 B1 C1 A2 B2 C2`\n",
    "\n",
    "* Two triangles after partial transposition of `A2 B2 C2`: Six qubits\n",
    "\n",
    "* Ring: Six qubits, in order `A1 B1 C2 A2 B2 C2`\n",
    "\n",
    "* `ACAC` space: Four qubits `A1 C1 A2 C2`, obtained by tracing out `B1 B2` in the ring. Matches the `A1 C2 A2 C1` qubits in the two triangles space.\n",
    "\n",
    "* `ABCB` space: Four qubits `A1 B1 C1 B2`, after tracing out `A2 C2` in the ring\n",
    "\n",
    "* `ABCBT` space: Four qubits `A1 B1 C1 B2`, obtained from `ABCB` after partial transpose of `B2`"
   ]
  },
  {
   "cell_type": "markdown",
   "metadata": {},
   "source": [
    "## Symmetry groups\n",
    "\n",
    "For the symmetries, we see that we have the symmetries of the GHZ state, and in addition we have a shift group $H = S(2)$ that acts by either permuting the two triangles, or cycling the subsystems in the ring by three positions. To recap:\n",
    "\n",
    "- $P$ is the symmetry group $S(3)$ permuting the subsystems `A B C`, with $P_{AC}$ the subgroup permuting only `A C`.\n",
    "  We generate $P$ using the three transpositions `(A,B)`, `(A,C)`, `(B,C)`.\n",
    "\n",
    "- $H$ the shift group $S(2)$ shifting the ring by +3, or permuting the two triangles\n",
    "\n",
    "- $L$ the symmetry group $S(2)$ permuting the levels\n",
    "\n",
    "- $D$ is the direct product $P \\times H \\times L$\n",
    "\n",
    "- $D_{AC}$ is the direct product $P_{AC} \\times H \\times L$\n",
    "\n",
    "- $T$ the torus group acting on the phases of rank $r=4$ and dimension $n=6$.\n",
    "\n",
    "- $G$ is the semidirect product $D \\ltimes T$, the most general symmetry group we employ here.\n",
    "\n",
    "- $G_{AC} = D_{AC} \\ltimes T$ is a subgroup of $G$ employed when the spaces break the symmetry of permuting subsystems. We also construct the injection from $G_{AC}$ to $G$, handy when mix'n'matching symmetric spaces."
   ]
  },
  {
   "cell_type": "markdown",
   "metadata": {},
   "source": [
    "## Spaces with symmetries under $G$\n",
    "\n",
    "* Triangle: The space is invariant under $G$, but $H$ has no effect on the three subsystems.\n",
    "\n",
    "* Two triangles: $P$ permutes the subsystems inside each triangle, while $H$ swaps the two triangles.\n",
    "\n",
    "* Two triangles after partial transposition of `A2 B2 C2`: same. Note that the states can all be considered real wlog, the partially transposed state can still be assumed symmetric under the swap of triangles. Alternatively, we could write a space where $H$ does not act (but we already have so many spaces here!).\n",
    "\n",
    "* Ring: We generate $P$ using the reflections that swap pairs of parties. For example, the transposition `(A,C)` is realized by permuting $A_1 \\leftrightarrow C_2$, $C_1 \\leftrightarrow A_2$, and it also swaps $B_1 \\leftrightarrow B_2$. The same for the other two transpositions, and one realizes that the permutation group on six elements thus generated is isomorphic to $S_3$. Then $H$ is simplify the shift `A1 B1 C1 A2 B2 C2` to `A2 B2 C2 A1 B1 C1`.\n",
    "\n",
    "## Spaces with symmetries under $G_{AC}$\n",
    "\n",
    "For all the spaces below, the only permutation of subsystems allowed is the transposition of `A` and `C`. For that reason, those spaces will be defined using the group $G_{AC}$.\n",
    "\n",
    "* `ACAC` space: $T$, $H$ and $L$ still act as before; the action of $P_{AC}$ is modeled around its action on the ring.\n",
    "\n",
    "* `ABCB` space: $T$, $L$ still act as before; the action of $P_{AC}$ permutes the two `A`, `C` subsystems, while $H$ is present but does not act.\n",
    "\n",
    "* `ABCBT` space: same as `ABCB` except that the torus group has a complex conjugate action on the transposed subsystem."
   ]
  },
  {
   "cell_type": "markdown",
   "metadata": {},
   "source": [
    "# Definitions\n",
    "\n",
    "Now let us write all of that.\n",
    "\n",
    "## Groups"
   ]
  },
  {
   "cell_type": "code",
   "execution_count": 28,
   "metadata": {},
   "outputs": [],
   "source": [
    "T6 = replab.T(6);\n",
    "T6 = T6.withNames({'a0' 'b0' 'c0' 'a1' 'b1' 'c1'});\n",
    "T = T6.subgroupWith('a0*b0*c0 = 1', 'a1*b1*c1 = 1');\n",
    "P = replab.S(3);\n",
    "P_AC = P.subgroup({[3 2 1]});\n",
    "L = replab.S(2);\n",
    "H = replab.S(2);\n",
    "D = P.directProduct(H, L);\n",
    "D_AC = P_AC.directProduct(H, L);\n",
    "D_AC_inj = D_AC.morphismByFunction(D, @(x) x); % injection from D_AC to D; elements have the same shape"
   ]
  },
  {
   "cell_type": "markdown",
   "metadata": {},
   "source": [
    "### Semidirect product constructions\n",
    "\n",
    "We start with the torus automorphisms, which correspond to generators of $D$."
   ]
  },
  {
   "cell_type": "code",
   "execution_count": 29,
   "metadata": {},
   "outputs": [],
   "source": [
    "% Permutation of AB\n",
    "gAB = {[2 1 3] [1 2] [1 2]};\n",
    "actAB = T.automorphism('b0', 'a0', 'c0', 'b1', 'a1', 'c1');\n",
    "% Permutation of AC\n",
    "gAC = {[3 2 1] [1 2] [1 2]};\n",
    "actAC = T.automorphism('c0', 'b0', 'a0', 'c1', 'b1', 'a1');\n",
    "% Permutation of BC\n",
    "gBC = {[1 3 2] [1 2] [1 2]};\n",
    "actBC = T.automorphism('a0', 'c0', 'b0', 'a1', 'c1', 'b1');\n",
    "% Shift\n",
    "gH = {[1 2 3] [2 1] [1 2]};\n",
    "actH = T.automorphism('a0', 'b0', 'c0', 'a1', 'b1', 'c1'); % identity\n",
    "% Permutation of the two levels\n",
    "gL = {[1 2 3] [1 2] [2 1]};\n",
    "actL = T.automorphism('a1', 'b1', 'c1', 'a0', 'b0', 'c0');"
   ]
  },
  {
   "cell_type": "markdown",
   "metadata": {},
   "source": [
    "Now, we construct $G$ using a semidirect product (torus groups have a special method to achieve that). We also construct $G_{AC}$ and the injection from $G_{AC}$ to $G$."
   ]
  },
  {
   "cell_type": "code",
   "execution_count": 30,
   "metadata": {},
   "outputs": [],
   "source": [
    "G = T.semidirectProductByFiniteGroup(D, 'preimages', {gAB, gAC, gBC, gH, gL}, 'images', {actAB, actAC, actBC, actH, actL});\n",
    "G_AC = T.semidirectProductByFiniteGroup(D_AC, 'preimages', {gAC, gH, gL}, 'images', {actAC, actH, actL});\n",
    "G_AC_inj = G_AC.morphismByFunction(G, @(x) x); % we keep the same element"
   ]
  },
  {
   "cell_type": "markdown",
   "metadata": {},
   "source": [
    "## Spaces and objects that live on them\n",
    "\n",
    "The spaces below are equivariant spaces: they contain Hermitian matrices that commute with a representation of $G$ or $G_{AC}$, i.e. $[X, \\rho_g] = 0$ with $X=X^\\dagger$. To construct those spaces, we construct the associated representation $\\rho$, and then use the method `.hermitianInvariant`; it is equivalent to a `.commutant` space when the representation is unitary, but adds the constraint that matrices are Hermitian, which enables the use of SDP constraints later on.\n",
    "\n",
    "### Triangle equivariant space\n",
    "\n",
    "We start with the torus representation."
   ]
  },
  {
   "cell_type": "code",
   "execution_count": 31,
   "metadata": {},
   "outputs": [],
   "source": [
    "Trep_triangle = T.diagonalRepWith('a0 b0 c0', ...\n",
    "                                  'a0 b0 c1', ...\n",
    "                                  'a0 b1 c0', ...\n",
    "                                  'a0 b1 c1', ...\n",
    "                                  'a1 b0 c0', ...\n",
    "                                  'a1 b0 c1', ...\n",
    "                                  'a1 b1 c0', ...\n",
    "                                  'a1 b1 c1');"
   ]
  },
  {
   "cell_type": "markdown",
   "metadata": {},
   "source": [
    "And now the representation of the finite group $D$; note that $D$ always act by permuting the coefficients of the state."
   ]
  },
  {
   "cell_type": "code",
   "execution_count": 32,
   "metadata": {},
   "outputs": [],
   "source": [
    "imgAB_triangle = replab.Permutation.toMatrix([1 2 5 6 3 4 7 8]);\n",
    "imgAC_triangle = replab.Permutation.toMatrix([1 5 3 7 2 6 4 8]);\n",
    "imgBC_triangle = replab.Permutation.toMatrix([1 3 2 4 5 7 6 8]);\n",
    "imgL_triangle = replab.Permutation.toMatrix([8 7 6 5 4 3 2 1]);\n",
    "imgH_triangle = replab.Permutation.toMatrix([1 2 3 4 5 6 7 8]);\n",
    "Drep_triangle = D.repByImages('C', 8, 'preimages', {gAB, gAC, gBC, gH, gL}, 'images', {imgAB_triangle, imgAC_triangle, imgBC_triangle, imgH_triangle, imgL_triangle});"
   ]
  },
  {
   "cell_type": "markdown",
   "metadata": {},
   "source": [
    "We assemble the representation of $G$ by combining representations of $D$ and $T$. Note that the representations involved have to be compatible, and RepLAB does not necessarily check these compatibility conditions."
   ]
  },
  {
   "cell_type": "code",
   "execution_count": 33,
   "metadata": {},
   "outputs": [],
   "source": [
    "rep_triangle = G.semidirectProductRep(Drep_triangle, Trep_triangle);"
   ]
  },
  {
   "cell_type": "markdown",
   "metadata": {},
   "source": [
    "Now the space of Hermitian matrices that commute with `rep_triangle`:"
   ]
  },
  {
   "cell_type": "code",
   "execution_count": 34,
   "metadata": {},
   "outputs": [],
   "source": [
    "E_triangle = rep_triangle.hermitianInvariant;"
   ]
  },
  {
   "cell_type": "markdown",
   "metadata": {},
   "source": [
    "It's time to define a few objects that live on the space `E_triangle`.\n",
    "\n",
    "We define the GHZ state and the maximally mixed state. Both commute with `rep_triangle`; thus we can wrap them in a `replab.equivar`. A `replab.equivar` is like a `sdpvar`, but it keeps tracks of the equivariant space the variable lives in, and only stores information about the degrees of freedom that remain after imposing the symmetry.\n",
    "\n",
    "We write the SDP variable `X_triangle` that represents state whose compatibility we are testing."
   ]
  },
  {
   "cell_type": "code",
   "execution_count": 35,
   "metadata": {},
   "outputs": [],
   "source": [
    "ghz = [1 0 0 0 0 0 0 1]'*[1 0 0 0 0 0 0 1]/2;\n",
    "ghz = replab.equivar(E_triangle, 'value', ghz);\n",
    "noise = eye(8)/8;\n",
    "noise = replab.equivar(E_triangle, 'value', noise);\n",
    "lambda = sdpvar;\n",
    "X_triangle = ghz * (1-lambda) + noise * lambda; % note that we multiply with the sdpvar on the right; the reverse would not work due to class precedence issues"
   ]
  },
  {
   "cell_type": "markdown",
   "metadata": {},
   "source": [
    "... and now we write the beginning of our optimization problem. If we wanted to put a (unnecessary) constraint on the trace in `C`, we would write `trace(sdpvar(X_triangle)) == 1`, where `sdpvar(...)` recover the sdpvar present in a `replab.equivar` so that standard MATLAB/YALMIP operations can be used. Note that we do not write `sdpvar(X_triangle) >= 0` but rather `issdp(X_triangle)`; the later is a very efficient way of writing the semidefinite positiveness constraint by using the block-diagonal structure of `X_triangle`. Note that here, instead of a `8 x 8` SDP constraint, we get three linear inequalities -- corresponding to three `1 x 1` blocks."
   ]
  },
  {
   "cell_type": "code",
   "execution_count": 36,
   "metadata": {},
   "outputs": [
    {
     "name": "stdout",
     "output_type": "stream",
     "text": [
      "+++++++++++++++++++++++++++++++++++++++++++++++++++++++++++++\n",
      "|   ID|                    Constraint|     Coefficient range|\n",
      "+++++++++++++++++++++++++++++++++++++++++++++++++++++++++++++\n",
      "|   #1|   Element-wise inequality 1x1|            0.875 to 1|\n",
      "|   #2|   Element-wise inequality 1x1|   2.4652e-32 to 0.125|\n",
      "|   #3|   Element-wise inequality 1x1|        0.125 to 0.125|\n",
      "+++++++++++++++++++++++++++++++++++++++++++++++++++++++++++++\n"
     ]
    }
   ],
   "source": [
    "obj = lambda;\n",
    "C = [issdp(X_triangle)]"
   ]
  },
  {
   "cell_type": "markdown",
   "metadata": {},
   "source": [
    "### Two triangles equivariant space\n",
    "\n",
    "Onwards to our next space! It contains six qubits: the first three `A1 B1 C1` correspond to one copy of the state, the next three `A2 B2 C2` to the second copy. We have no way to impose that the density matrix in that space factorizes across the two triangles; but we will impose a PT constraint.\n",
    "\n",
    "Apart from the action of $H$, the representations here are simply a tensor product of two copies of the representations acting on a single triangle."
   ]
  },
  {
   "cell_type": "code",
   "execution_count": 37,
   "metadata": {},
   "outputs": [],
   "source": [
    "Trep_twotriangles = kron(Trep_triangle, Trep_triangle);\n",
    "imgAB_twotriangles = kron(imgAB_triangle, imgAB_triangle);\n",
    "imgAC_twotriangles = kron(imgAC_triangle, imgAC_triangle);\n",
    "imgBC_twotriangles = kron(imgBC_triangle, imgBC_triangle);\n",
    "imgH_twotriangles = reshape(permute(reshape(eye(64), [8 8 64]), [2 1 3]), [64 64]);\n",
    "imgL_twotriangles = kron(imgL_triangle, imgL_triangle);\n",
    "Drep_twotriangles = D.repByImages('C', 64, 'preimages', {gAB, gAC, gBC, gH, gL}, 'images', {imgAB_twotriangles, imgAC_twotriangles, imgBC_twotriangles, imgH_twotriangles, imgL_twotriangles});\n",
    "rep_twotriangles = G.semidirectProductRep(Drep_twotriangles, Trep_twotriangles);\n",
    "E_twotriangles = rep_twotriangles.hermitianInvariant;"
   ]
  },
  {
   "cell_type": "markdown",
   "metadata": {},
   "source": [
    "While each of the two triangles, seen individually, match exactly `X_triangle`, there are additional degrees of freedom. We define a `replab.equivar` to parameterize it, and ask it to be SDP."
   ]
  },
  {
   "cell_type": "code",
   "execution_count": 38,
   "metadata": {},
   "outputs": [],
   "source": [
    "X_twotriangles = replab.equivar(E_twotriangles);\n",
    "C = [C; issdp(X_twotriangles)];"
   ]
  },
  {
   "cell_type": "markdown",
   "metadata": {},
   "source": [
    "Now, we define the partial trace operation that keeps only one copy of the triangle. This map, say $F$ respects the symmetry of the spaces.\n",
    "Let us write $\\Psi = F[\\Xi]$, with $\\Xi$ corresponding to `X_twotriangles` and $\\Psi$ to `X_triangle`.\n",
    "Let $\\rho$ be the representation that acts on $\\Xi \\rightarrow \\rho_g \\Xi \\rho_g^\\dagger$, and $\\sigma$ the representation that acts on $\\Psi \\rightarrow \\sigma_g \\Psi \\sigma_g^\\dagger$.\n",
    "\n",
    "The map $F$ is equivariant as we observe that $F[ \\rho_g \\Xi \\rho_g^\\dagger ] = \\sigma_g F[\\Xi] \\sigma_g^\\dagger$. Thus, we define that partial trace operation as a `replab.equiop`, which is an operator that can be applied on `replab.equivar`s.\n",
    "\n",
    "Note: when using `equiop` and `equivar`, RepLAB will verify that the groups, equivariant spaces, etc, involved match. It is important to use the *same MATLAB instance* of the mathematical object in all definitions. For some groups/representations, RepLAB is able to check that two instances of the same mathematical object; in other cases not, and RepLAB will check that the internal IDs of objects match."
   ]
  },
  {
   "cell_type": "code",
   "execution_count": 39,
   "metadata": {},
   "outputs": [
    {
     "name": "stdout",
     "output_type": "stream",
     "text": [
      "+++++++++++++++++++++++++++++++++++++++++++++++++++++++++++++++++++\n",
      "|    ID|                        Constraint|      Coefficient range|\n",
      "+++++++++++++++++++++++++++++++++++++++++++++++++++++++++++++++++++\n",
      "|    #1|       Element-wise inequality 1x1|             0.875 to 1|\n",
      "|    #2|       Element-wise inequality 1x1|    2.4652e-32 to 0.125|\n",
      "|    #3|       Element-wise inequality 1x1|         0.125 to 0.125|\n",
      "|    #4|   Matrix inequality (complex) 3x3|                 1 to 1|\n",
      "|    #5|       Element-wise inequality 1x1|                 1 to 1|\n",
      "|    #6|   Matrix inequality (complex) 2x2|                 1 to 1|\n",
      "|    #7|       Element-wise inequality 1x1|                 1 to 1|\n",
      "|    #8|       Element-wise inequality 1x1|                 1 to 1|\n",
      "|    #9|       Element-wise inequality 1x1|                 1 to 1|\n",
      "|   #10|       Element-wise inequality 1x1|                 1 to 1|\n",
      "|   #11|       Element-wise inequality 1x1|                 1 to 1|\n",
      "|   #12|       Element-wise inequality 1x1|                 1 to 1|\n",
      "|   #13|   Matrix inequality (complex) 2x2|                 1 to 1|\n",
      "|   #14|   Matrix inequality (complex) 3x3|                 1 to 1|\n",
      "|   #15|           Equality constraint 1x1|          0.5 to 2.8957|\n",
      "|   #16|           Equality constraint 1x1|   2.4652e-32 to 2.8957|\n",
      "|   #17|           Equality constraint 1x1|             0.125 to 1|\n",
      "+++++++++++++++++++++++++++++++++++++++++++++++++++++++++++++++++++\n"
     ]
    }
   ],
   "source": [
    "op_mapsTriangle = replab.equiop.generic(E_twotriangles, E_triangle, @(X) PartialTrace(X, [4 5 6], [2 2 2 2 2 2]));\n",
    "% op_mapsTriangle.check % <- run this if you want to verify the equivariance property using random tests\n",
    "C = [C; op_mapsTriangle(X_twotriangles) == X_triangle]"
   ]
  },
  {
   "cell_type": "markdown",
   "metadata": {},
   "source": [
    "### Two triangles, PPT equivariant space"
   ]
  },
  {
   "cell_type": "markdown",
   "metadata": {},
   "source": [
    "Same story here, except that after partial transposition, the action of the torus second triangle needs a complex conjugation (i.e. to use the dual representation)."
   ]
  },
  {
   "cell_type": "code",
   "execution_count": 40,
   "metadata": {},
   "outputs": [],
   "source": [
    "Trep_ppt = kron(Trep_triangle, dual(Trep_triangle)); % the second copy has a partial transpose\n",
    "Drep_ppt = D.repByImages('C', 64, 'preimages', {gAB, gAC, gBC, gH, gL}, 'images', {imgAB_twotriangles, imgAC_twotriangles, imgBC_twotriangles, eye(64), imgL_twotriangles});\n",
    "rep_ppt = G.semidirectProductRep(Drep_ppt, Trep_ppt);\n",
    "E_ppt = rep_ppt.hermitianInvariant;"
   ]
  },
  {
   "cell_type": "markdown",
   "metadata": {},
   "source": [
    "Now we write the PPT condition to approximate separability across the two triangles."
   ]
  },
  {
   "cell_type": "code",
   "execution_count": 41,
   "metadata": {},
   "outputs": [
    {
     "name": "stdout",
     "output_type": "stream",
     "text": [
      "+++++++++++++++++++++++++++++++++++++++++++++++++++++++++++++++++++\n",
      "|    ID|                        Constraint|      Coefficient range|\n",
      "+++++++++++++++++++++++++++++++++++++++++++++++++++++++++++++++++++\n",
      "|    #1|       Element-wise inequality 1x1|             0.875 to 1|\n",
      "|    #2|       Element-wise inequality 1x1|    2.4652e-32 to 0.125|\n",
      "|    #3|       Element-wise inequality 1x1|         0.125 to 0.125|\n",
      "|    #4|   Matrix inequality (complex) 3x3|                 1 to 1|\n",
      "|    #5|       Element-wise inequality 1x1|                 1 to 1|\n",
      "|    #6|   Matrix inequality (complex) 2x2|                 1 to 1|\n",
      "|    #7|       Element-wise inequality 1x1|                 1 to 1|\n",
      "|    #8|       Element-wise inequality 1x1|                 1 to 1|\n",
      "|    #9|       Element-wise inequality 1x1|                 1 to 1|\n",
      "|   #10|       Element-wise inequality 1x1|                 1 to 1|\n",
      "|   #11|       Element-wise inequality 1x1|                 1 to 1|\n",
      "|   #12|       Element-wise inequality 1x1|                 1 to 1|\n",
      "|   #13|   Matrix inequality (complex) 2x2|                 1 to 1|\n",
      "|   #14|   Matrix inequality (complex) 3x3|                 1 to 1|\n",
      "|   #15|           Equality constraint 1x1|          0.5 to 2.8957|\n",
      "|   #16|           Equality constraint 1x1|   2.4652e-32 to 2.8957|\n",
      "|   #17|           Equality constraint 1x1|             0.125 to 1|\n",
      "|   #18|   Matrix inequality (complex) 3x3|   2.4652e-32 to 1.6718|\n",
      "|   #19|   Matrix inequality (complex) 3x3|   1.2326e-32 to 1.6369|\n",
      "|   #20|       Element-wise inequality 1x1|           0.16667 to 1|\n",
      "|   #21|       Element-wise inequality 1x1|           0.16667 to 1|\n",
      "|   #22|       Element-wise inequality 1x1|         0.16667 to 0.5|\n",
      "|   #23|       Element-wise inequality 1x1|         0.16667 to 0.5|\n",
      "|   #24|       Element-wise inequality 1x1|         0.16667 to 0.5|\n",
      "|   #25|       Element-wise inequality 1x1|     0.16667 to 0.33333|\n",
      "|   #26|   Matrix inequality (complex) 5x5|      0.0152 to 0.68979|\n",
      "+++++++++++++++++++++++++++++++++++++++++++++++++++++++++++++++++++\n"
     ]
    }
   ],
   "source": [
    "op_ppt = replab.equiop.generic(E_twotriangles, E_ppt, @(X) PartialTranspose(X, [4 5 6], [2 2 2 2 2 2]), 'supportsSparse', true);\n",
    "% op_ppt.check % <- run this if you want to verify the equivariance property using random tests\n",
    "C = [C; issdp(op_ppt(X_twotriangles))]"
   ]
  },
  {
   "cell_type": "markdown",
   "metadata": {},
   "source": [
    "### Ring equivariant space\n",
    "\n",
    "Now we move to the ring. The ring contains six qubits labeled `A1 B1 C1 A2 B2 C2`. As mentioned above the action of the permutation of subsystems group $P$ needs to be reconstructed from transpositions; then the group $H$ cyclically shifts the subsystems around the ring."
   ]
  },
  {
   "cell_type": "code",
   "execution_count": 42,
   "metadata": {},
   "outputs": [],
   "source": [
    "Trep_ring = kron(Trep_triangle, Trep_triangle);\n",
    "img_ring = @(p) reshape(permute(reshape(eye(64), [2 2 2 2 2 2 64]), [fliplr(7 - p) 7]), [64 64]);\n",
    "imgAB_ring = img_ring([2 1 6 5 4 3]);\n",
    "imgAC_ring = img_ring([6 5 4 3 2 1]);\n",
    "imgBC_ring = img_ring([4 3 2 1 6 5]);\n",
    "imgH_ring = img_ring([4 5 6 1 2 3]);\n",
    "imgL_ring = kron(imgL_triangle, imgL_triangle);\n",
    "Drep_ring = D.repByImages('C', 64, 'preimages', {gAB, gAC, gBC, gH, gL}, 'images', {imgAB_ring, imgAC_ring, imgBC_ring, imgH_ring, imgL_ring});\n",
    "rep_ring = G.semidirectProductRep(Drep_ring, Trep_ring);\n",
    "E_ring = rep_ring.hermitianInvariant;"
   ]
  },
  {
   "cell_type": "markdown",
   "metadata": {},
   "source": [
    "The ring contains a few unobserved degrees of freedom, so we parameterize it by a SDP matrix."
   ]
  },
  {
   "cell_type": "code",
   "execution_count": 43,
   "metadata": {},
   "outputs": [],
   "source": [
    "X_ring = replab.equivar(E_ring);\n",
    "C = [C; issdp(X_ring)];"
   ]
  },
  {
   "cell_type": "markdown",
   "metadata": {},
   "source": [
    "### ACAC space\n",
    "The `ACAC` corresponds to the subsystems `A1 C1 A2 C2` of the ring (in that order), and `A1 C2 A2 C1` in the two triangles (in that order).\n",
    "\n",
    "We have implemented our own function `img_ACAC` to construct matrices that permute subsystems; one could use `PermuteSubsystems` from QETLAB as well."
   ]
  },
  {
   "cell_type": "code",
   "execution_count": 44,
   "metadata": {},
   "outputs": [],
   "source": [
    "Trep_ACAC = T.diagonalRepWith('a0 c0 a0 c0', ...\n",
    "                              'a0 c0 a0 c1', ...\n",
    "                              'a0 c0 a1 c0', ...\n",
    "                              'a0 c0 a1 c1', ...\n",
    "                              'a0 c1 a0 c0', ...\n",
    "                              'a0 c1 a0 c1', ...\n",
    "                              'a0 c1 a1 c0', ...\n",
    "                              'a0 c1 a1 c1', ...\n",
    "                              'a1 c0 a0 c0', ...\n",
    "                              'a1 c0 a0 c1', ...\n",
    "                              'a1 c0 a1 c0', ...\n",
    "                              'a1 c0 a1 c1', ...\n",
    "                              'a1 c1 a0 c0', ...\n",
    "                              'a1 c1 a0 c1', ...\n",
    "                              'a1 c1 a1 c0', ...\n",
    "                              'a1 c1 a1 c1');\n",
    "img_ACAC = @(p) reshape(permute(reshape(eye(16), [2 2 2 2 16]), [fliplr(5 - p) 5]), [16 16]);\n",
    "imgAC_ACAC = img_ACAC([4 3 2 1]);\n",
    "imgH_ACAC = img_ACAC([3 4 1 2]);\n",
    "imgL_ACAC = kron(kron([0 1; 1 0], [0 1; 1 0]), kron([0 1; 1 0], [0 1; 1 0]));\n",
    "Drep_ACAC = D_AC.repByImages('C', 16, 'preimages', {gAC, gH, gL}, 'images', {imgAC_ACAC, imgH_ACAC, imgL_ACAC});\n",
    "rep_ACAC = G_AC.semidirectProductRep(Drep_ACAC, Trep_ACAC);\n",
    "E_ACAC = rep_ACAC.hermitianInvariant;"
   ]
  },
  {
   "cell_type": "markdown",
   "metadata": {},
   "source": [
    "Now the tricky part. We define the map that singles out the subsystems in the ring, and in the two triangles, to finally match the result as an equality constraint.\n",
    "\n",
    "Notice that `E_ACAC` is invariant under $G_{AC}$, while `E_ring` and `E_twotriangles` are invariant under $G$. We can define a `replab.equiop` that break a symmetry; in that case, we need to specify the relation between the group and its subgroup using an injection from the subgroup to the group -- which is the additional argument `sourceInjection` passed to `replab.equiop.generic(...)`.\n",
    "\n",
    "Here are our two partial trace maps."
   ]
  },
  {
   "cell_type": "code",
   "execution_count": 45,
   "metadata": {},
   "outputs": [],
   "source": [
    "op_ring_to_ACAC = replab.equiop.generic(E_ring, E_ACAC, @(X) PartialTrace(X, [2 5], [2 2 2 2 2 2]), 'sourceInjection', G_AC_inj);\n",
    "op_twotriangles_to_ACAC = replab.equiop.generic(E_twotriangles, E_ACAC, @(X) PartialTrace(PermuteSystems(X, [1 6 4 3 2 5], [2 2 2 2 2 2]), [5 6], [2 2 2 2 2 2]), 'sourceInjection', G_AC_inj);"
   ]
  },
  {
   "cell_type": "markdown",
   "metadata": {},
   "source": [
    "Constraint: the marginals match."
   ]
  },
  {
   "cell_type": "code",
   "execution_count": 46,
   "metadata": {},
   "outputs": [
    {
     "name": "stdout",
     "output_type": "stream",
     "text": [
      "+++++++++++++++++++++++++++++++++++++++++++++++++++++++++++++++++++++\n",
      "|    ID|                          Constraint|      Coefficient range|\n",
      "+++++++++++++++++++++++++++++++++++++++++++++++++++++++++++++++++++++\n",
      "|    #1|         Element-wise inequality 1x1|             0.875 to 1|\n",
      "|    #2|         Element-wise inequality 1x1|    2.4652e-32 to 0.125|\n",
      "|    #3|         Element-wise inequality 1x1|         0.125 to 0.125|\n",
      "|    #4|     Matrix inequality (complex) 3x3|                 1 to 1|\n",
      "|    #5|         Element-wise inequality 1x1|                 1 to 1|\n",
      "|    #6|     Matrix inequality (complex) 2x2|                 1 to 1|\n",
      "|    #7|         Element-wise inequality 1x1|                 1 to 1|\n",
      "|    #8|         Element-wise inequality 1x1|                 1 to 1|\n",
      "|    #9|         Element-wise inequality 1x1|                 1 to 1|\n",
      "|   #10|         Element-wise inequality 1x1|                 1 to 1|\n",
      "|   #11|         Element-wise inequality 1x1|                 1 to 1|\n",
      "|   #12|         Element-wise inequality 1x1|                 1 to 1|\n",
      "|   #13|     Matrix inequality (complex) 2x2|                 1 to 1|\n",
      "|   #14|     Matrix inequality (complex) 3x3|                 1 to 1|\n",
      "|   #15|             Equality constraint 1x1|          0.5 to 2.8957|\n",
      "|   #16|             Equality constraint 1x1|   2.4652e-32 to 2.8957|\n",
      "|   #17|             Equality constraint 1x1|             0.125 to 1|\n",
      "|   #18|     Matrix inequality (complex) 3x3|   2.4652e-32 to 1.6718|\n",
      "|   #19|     Matrix inequality (complex) 3x3|   1.2326e-32 to 1.6369|\n",
      "|   #20|         Element-wise inequality 1x1|           0.16667 to 1|\n",
      "|   #21|         Element-wise inequality 1x1|           0.16667 to 1|\n",
      "|   #22|         Element-wise inequality 1x1|         0.16667 to 0.5|\n",
      "|   #23|         Element-wise inequality 1x1|         0.16667 to 0.5|\n",
      "|   #24|         Element-wise inequality 1x1|         0.16667 to 0.5|\n",
      "|   #25|         Element-wise inequality 1x1|     0.16667 to 0.33333|\n",
      "|   #26|     Matrix inequality (complex) 5x5|      0.0152 to 0.68979|\n",
      "|   #27|     Matrix inequality (complex) 3x3|                 1 to 1|\n",
      "|   #28|         Element-wise inequality 1x1|                 1 to 1|\n",
      "|   #29|     Matrix inequality (complex) 2x2|                 1 to 1|\n",
      "|   #30|         Element-wise inequality 1x1|                 1 to 1|\n",
      "|   #31|         Element-wise inequality 1x1|                 1 to 1|\n",
      "|   #32|         Element-wise inequality 1x1|                 1 to 1|\n",
      "|   #33|         Element-wise inequality 1x1|                 1 to 1|\n",
      "|   #34|         Element-wise inequality 1x1|                 1 to 1|\n",
      "|   #35|         Element-wise inequality 1x1|                 1 to 1|\n",
      "|   #36|     Matrix inequality (complex) 2x2|                 1 to 1|\n",
      "|   #37|     Matrix inequality (complex) 3x3|                 1 to 1|\n",
      "|   #38|             Equality constraint 1x1|        4.5375e-17 to 2|\n",
      "|   #39|             Equality constraint 1x1|        2.5673e-16 to 2|\n",
      "|   #40|   Equality constraint (complex) 2x2|        4.5375e-17 to 2|\n",
      "|   #41|             Equality constraint 1x1|               0.5 to 1|\n",
      "|   #42|             Equality constraint 1x1|                 1 to 2|\n",
      "|   #43|             Equality constraint 1x1|           0.10053 to 1|\n",
      "|   #44|             Equality constraint 1x1|           0.10053 to 1|\n",
      "+++++++++++++++++++++++++++++++++++++++++++++++++++++++++++++++++++++\n"
     ]
    }
   ],
   "source": [
    "C = [C; op_ring_to_ACAC(X_ring) == op_twotriangles_to_ACAC(X_twotriangles)]"
   ]
  },
  {
   "cell_type": "markdown",
   "metadata": {},
   "source": [
    "### ABCB space\n",
    "\n",
    "This space corresponds to the subsystems `A1 B1 C1 B2` in the ring, in that order."
   ]
  },
  {
   "cell_type": "code",
   "execution_count": 47,
   "metadata": {},
   "outputs": [],
   "source": [
    "Trep_ABCB = T.diagonalRepWith('a0 b0 c0 b0', ...\n",
    "                              'a0 b0 c0 b1', ...\n",
    "                              'a0 b0 c1 b0', ...\n",
    "                              'a0 b0 c1 b1', ...\n",
    "                              'a0 b1 c0 b0', ...\n",
    "                              'a0 b1 c0 b1', ...\n",
    "                              'a0 b1 c1 b0', ...\n",
    "                              'a0 b1 c1 b1', ...\n",
    "                              'a1 b0 c0 b0', ...\n",
    "                              'a1 b0 c0 b1', ...\n",
    "                              'a1 b0 c1 b0', ...\n",
    "                              'a1 b0 c1 b1', ...\n",
    "                              'a1 b1 c0 b0', ...\n",
    "                              'a1 b1 c0 b1', ...\n",
    "                              'a1 b1 c1 b0', ...\n",
    "                              'a1 b1 c1 b1');\n",
    "img_ABCB = @(p) reshape(permute(reshape(eye(16), [2 2 2 2 16]), [fliplr(5 - p) 5]), [16 16]);\n",
    "imgAC_ABCB = img_ABCB([3 2 1 4]);\n",
    "imgH_ABCB = eye(16);\n",
    "imgL_ABCB = kron(kron([0 1; 1 0], [0 1; 1 0]), kron([0 1; 1 0], [0 1; 1 0]));\n",
    "Drep_ABCB = D_AC.repByImages('C', 16, 'preimages', {gAC, gH, gL}, 'images', {imgAC_ABCB, imgH_ABCB, imgL_ABCB});\n",
    "rep_ABCB = G_AC.semidirectProductRep(Drep_ABCB, Trep_ABCB);\n",
    "E_ABCB = rep_ABCB.hermitianInvariant;"
   ]
  },
  {
   "cell_type": "markdown",
   "metadata": {},
   "source": [
    "We define the (equivariant) partial trace map. It is useless on its own, but we will combine it with the partial transpose of the unconnected `B` subsystem."
   ]
  },
  {
   "cell_type": "code",
   "execution_count": 48,
   "metadata": {},
   "outputs": [],
   "source": [
    "op_ABCB = replab.equiop.generic(E_ring, E_ABCB, @(X) PartialTrace(X, [4 6], [2 2 2 2 2 2]), 'sourceInjection', G_AC_inj);"
   ]
  },
  {
   "cell_type": "markdown",
   "metadata": {},
   "source": [
    "### ABCB^T space\n",
    "\n",
    "Corresponds to A1B1C1B2 in the ring, with the B2 system partial transposed."
   ]
  },
  {
   "cell_type": "code",
   "execution_count": 49,
   "metadata": {},
   "outputs": [],
   "source": [
    "Trep_ABCBT = T.diagonalRepWith('a0 b0 c0 b0^-1', ...\n",
    "                               'a0 b0 c0 b1^-1', ...\n",
    "                               'a0 b0 c1 b0^-1', ...\n",
    "                               'a0 b0 c1 b1^-1', ...\n",
    "                               'a0 b1 c0 b0^-1', ...\n",
    "                               'a0 b1 c0 b1^-1', ...\n",
    "                               'a0 b1 c1 b0^-1', ...\n",
    "                               'a0 b1 c1 b1^-1', ...\n",
    "                               'a1 b0 c0 b0^-1', ...\n",
    "                               'a1 b0 c0 b1^-1', ...\n",
    "                               'a1 b0 c1 b0^-1', ...\n",
    "                               'a1 b0 c1 b1^-1', ...\n",
    "                               'a1 b1 c0 b0^-1', ...\n",
    "                               'a1 b1 c0 b1^-1', ...\n",
    "                               'a1 b1 c1 b0^-1', ...\n",
    "                               'a1 b1 c1 b1^-1');\n",
    "rep_ABCBT = G_AC.semidirectProductRep(Drep_ABCB, Trep_ABCBT);\n",
    "E_ABCBT = rep_ABCBT.hermitianInvariant;"
   ]
  },
  {
   "cell_type": "markdown",
   "metadata": {},
   "source": [
    "Now we define the PPT constraint."
   ]
  },
  {
   "cell_type": "code",
   "execution_count": 50,
   "metadata": {},
   "outputs": [],
   "source": [
    "op_ABCBT = replab.equiop.generic(E_ABCB, E_ABCBT, @(X) PartialTranspose(X, [4], [2 2 2 2]));\n",
    "C = [C; issdp(op_ABCBT(op_ABCB(X_ring)))];"
   ]
  },
  {
   "cell_type": "markdown",
   "metadata": {},
   "source": [
    "# Running the optimization problem"
   ]
  },
  {
   "cell_type": "code",
   "execution_count": 51,
   "metadata": {},
   "outputs": [
    {
     "name": "stdout",
     "output_type": "stream",
     "text": [
      "\n",
      " num. of constraints = 67\n",
      " dim. of sdp    var  = 68,   num. of sdp  blk  = 12\n",
      " dim. of linear var  = 27\n",
      " dim. of free   var  = 17\n",
      " *** convert ublk to linear blk\n",
      "********************************************************************************************\n",
      "   SDPT3: homogeneous self-dual path-following algorithms\n",
      "********************************************************************************************\n",
      " version  predcorr  gam  expon\n",
      "   HKM      1      0.000   1\n",
      "it pstep dstep pinfeas dinfeas  gap     mean(obj)    cputime    kap   tau    theta\n",
      "--------------------------------------------------------------------------------------------\n",
      " 0|0.000|0.000|1.4e+02|4.9e+01|1.1e+04| 4.949494e+00| 0:0:00|1.1e+04|1.0e+00|1.0e+00| chol 1  1 \n",
      " 1|0.031|0.031|1.4e+02|4.9e+01|1.2e+04| 5.261026e+00| 0:0:00|1.1e+04|1.0e+00|1.0e+00| chol 1  1 \n",
      " 2|0.088|0.088|1.4e+02|4.8e+01|1.2e+04| 6.135195e+00| 0:0:00|1.1e+04|1.0e+00|9.9e-01| chol 1  1 \n",
      " 3|0.272|0.272|1.3e+02|4.4e+01|1.3e+04| 8.191503e+00| 0:0:00|1.0e+04|1.0e+00|9.1e-01| chol 1  1 \n",
      " 4|0.757|0.757|7.7e+01|2.7e+01|1.1e+04| 1.789587e+01| 0:0:00|5.4e+03|7.4e-01|4.1e-01| chol 1  1 \n",
      " 5|1.000|1.000|1.9e+01|6.7e+00|3.6e+03| 2.346262e+01| 0:0:00|1.0e+03|6.2e-01|8.5e-02| chol 1  1 \n",
      " 6|0.916|0.916|1.6e+00|5.8e-01|3.1e+02| 2.014538e+01| 0:0:00|1.8e+01|6.7e-01|7.9e-03| chol 1  1 \n",
      " 7|0.640|0.640|6.1e-01|2.2e-01|8.1e+01| 9.373543e+00| 0:0:00|7.4e-01|9.3e-01|4.1e-03| chol 1  1 \n",
      " 8|1.000|1.000|6.4e-02|2.3e-02|6.7e+00| 1.129130e+00| 0:0:00|1.3e-01|1.5e+00|6.9e-04| chol 1  1 \n",
      " 9|0.858|0.858|1.5e-02|6.3e-03|1.3e+00|-3.349431e-01| 0:0:00|5.7e-02|1.8e+00|2.0e-04| chol 1  1 \n",
      "10|0.823|0.823|1.0e-02|4.7e-03|9.0e-01|-1.436469e-01| 0:0:00|2.5e-02|1.8e+00|1.3e-04| chol 1  1 \n",
      "11|0.936|0.936|1.5e-03|2.4e-03|1.2e-01|-3.560730e-01| 0:0:00|1.2e-02|1.9e+00|2.0e-05| chol 1  1 \n",
      "12|1.000|1.000|3.2e-04|2.1e-03|2.8e-02|-3.635451e-01| 0:0:00|1.8e-03|1.9e+00|4.4e-06| chol 1  1 \n",
      "13|0.871|0.871|4.9e-05|1.9e-03|4.3e-03|-3.633393e-01| 0:0:00|6.0e-04|1.9e+00|6.8e-07| chol 1  1 \n",
      "14|1.000|1.000|2.7e-05|7.3e-04|2.3e-03|-3.662572e-01| 0:0:00|6.8e-05|1.9e+00|3.7e-07| chol 1  1 \n",
      "15|0.874|0.874|4.7e-06|3.5e-04|4.0e-04|-3.670573e-01| 0:0:00|3.9e-05|1.9e+00|6.5e-08| chol 1  1 \n",
      "16|1.000|1.000|6.9e-07|1.2e-04|6.0e-05|-3.676049e-01| 0:0:00|6.1e-06|1.9e+00|9.6e-09| chol 1  1 \n",
      "17|1.000|1.000|2.2e-07|4.6e-05|1.9e-05|-3.677728e-01| 0:0:00|9.3e-07|1.9e+00|3.1e-09| chol 1  1 \n",
      "18|1.000|1.000|5.9e-08|1.8e-05|5.1e-06|-3.678396e-01| 0:0:00|2.9e-07|1.9e+00|8.2e-10| chol 1  1 \n",
      "19|1.000|1.000|1.5e-08|7.4e-06|1.3e-06|-3.678664e-01| 0:0:00|7.7e-08|1.9e+00|2.2e-10| chol 1  1 \n",
      "20|1.000|1.000|3.4e-09|3.0e-06|3.0e-07|-3.678772e-01| 0:0:00|2.0e-08|1.9e+00|4.8e-11|# chol 1  1 \n",
      "21|1.000|1.000|1.2e-10|5.9e-08|8.5e-09|-3.678842e-01| 0:0:00|4.6e-09|1.9e+00|1.6e-12|\n",
      "  Stop: max(relative gap,infeasibilities) < 1.00e-07\n",
      "-------------------------------------------------------------------\n",
      " number of iterations   = 21\n",
      " primal objective value = -3.67884309e-01\n",
      " dual   objective value = -3.67884029e-01\n",
      " gap := trace(XZ)       = 8.46e-09\n",
      " relative gap           = 6.18e-09\n",
      " actual relative gap    = -1.62e-07\n",
      " rel. primal infeas     = 1.21e-10\n",
      " rel. dual   infeas     = 5.91e-08\n",
      " norm(X), norm(y), norm(Z) = 9.3e+00, 7.6e-01, 1.6e+00\n",
      " norm(A), norm(b), norm(C) = 1.0e+02, 1.0e+00, 1.7e+00\n",
      " Total CPU time (secs)  = 0.22  \n",
      " CPU time per iteration = 0.01  \n",
      " termination code       =  0\n",
      " DIMACS: 1.2e-10  0.0e+00  5.9e-08  0.0e+00  -1.6e-07  4.9e-09\n",
      "-------------------------------------------------------------------\n",
      "ans = \n",
      "  struct with fields:\n",
      "\n",
      "    yalmipversion: '20200930'\n",
      "    matlabversion: '9.7.0.1190202 (R2019b)'\n",
      "       yalmiptime: 0.1234\n",
      "       solvertime: 0.3019\n",
      "             info: 'Successfully solved (SDPT3-4)'\n",
      "          problem: 0\n"
     ]
    }
   ],
   "source": [
    "optimize(C, lambda)"
   ]
  },
  {
   "cell_type": "code",
   "execution_count": 52,
   "metadata": {},
   "outputs": [
    {
     "name": "stdout",
     "output_type": "stream",
     "text": [
      "ans =\n",
      "    0.3679\n"
     ]
    }
   ],
   "source": [
    "double(lambda)"
   ]
  }
 ],
 "metadata": {
  "jupytext": {
   "cell_metadata_filter": "-all",
   "notebook_metadata_filter": "-all",
   "text_representation": {
    "extension": ".m",
    "format_name": "light"
   }
  },
  "kernelspec": {
   "display_name": "Matlab",
   "language": "matlab",
   "name": "matlab"
  },
  "language_info": {
   "codemirror_mode": "octave",
   "file_extension": ".m",
   "help_links": [
    {
     "text": "MetaKernel Magics",
     "url": "https://metakernel.readthedocs.io/en/latest/source/README.html"
    }
   ],
   "mimetype": "text/x-octave",
   "name": "matlab",
   "version": "0.16.11"
  }
 },
 "nbformat": 4,
 "nbformat_minor": 4
}
