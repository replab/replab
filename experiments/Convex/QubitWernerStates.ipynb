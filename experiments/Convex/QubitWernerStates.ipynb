{
 "cells": [
  {
   "cell_type": "code",
   "execution_count": 11,
   "metadata": {},
   "outputs": [],
   "source": [
    "run ~/w/replab/replab_init"
   ]
  },
  {
   "cell_type": "markdown",
   "metadata": {},
   "source": [
    "# Separability threshold of qubit-qubit Werner states\n",
    "\n",
    "Those states are invariant under a joint rotation by qubit unitary.\n",
    "\n",
    "So we declare the symmetry group: $U(2)$ identically acting on each subsystem.\n",
    "\n",
    "We do not use declare the symmetry of subsystem exchange as it would complicate the PPT constraint."
   ]
  },
  {
   "cell_type": "code",
   "execution_count": 16,
   "metadata": {},
   "outputs": [],
   "source": [
    "G = replab.U(2);\n",
    "% The representation of the two qubit state\n",
    "rep = kron(G.definingRep, G.definingRep);\n",
    "% The representation acting on the partially transposed state\n",
    "repT = kron(G.definingRep, dual(G.definingRep));"
   ]
  },
  {
   "cell_type": "code",
   "execution_count": 23,
   "metadata": {},
   "outputs": [],
   "source": [
    "% Spaces of equivariant Hermitian matrices\n",
    "H = rep.hermitianInvariant;\n",
    "HT = repT.hermitianInvariant;"
   ]
  },
  {
   "cell_type": "markdown",
   "metadata": {},
   "source": [
    "## The partial transpose as an equivariant map"
   ]
  },
  {
   "cell_type": "code",
   "execution_count": 29,
   "metadata": {},
   "outputs": [
    {
     "name": "stdout",
     "output_type": "stream",
     "text": [
      "Checking equivariant space map...\n",
      "Checking map is equivariant...\n"
     ]
    }
   ],
   "source": [
    "% The partial transpose linear map\n",
    "pptFun = @(X) reshape(permute(reshape(X, [2 2 2 2]), [3 2 1 4]), [4 4]);\n",
    "% Upgraded as an equivariant super operator from the space H to the space HT\n",
    "ppt = replab.equiop.generic(H, HT, pptFun);\n",
    "ppt.check"
   ]
  },
  {
   "cell_type": "markdown",
   "metadata": {},
   "source": [
    "## Optimization problem"
   ]
  },
  {
   "cell_type": "code",
   "execution_count": 35,
   "metadata": {},
   "outputs": [],
   "source": [
    "% Define the singlet state as an equivar\n",
    "singlet = replab.equivar(H, 'value', [0 0 0 0; 0 1 -1 0; 0 -1 1 0; 0 0 0 0]/2);\n",
    "% Define the noise as an equivar\n",
    "noise = replab.equivar(H, 'value', eye(4)/4);"
   ]
  },
  {
   "cell_type": "code",
   "execution_count": 36,
   "metadata": {},
   "outputs": [],
   "source": [
    "% Standard sdpvar\n",
    "t = sdpvar;\n",
    "% equivar*sdpvar works, but not sdpvar*equivar (as sdpvar would provide the * op and doesn't handle equivar)\n",
    "rho = singlet*t + noise*(1-t);"
   ]
  },
  {
   "cell_type": "markdown",
   "metadata": {},
   "source": [
    "We use the syntax `sdp(EV)` to define a semidefinite positive constraint, where EV is an equivar.\n",
    "We use the syntax `value(EV)` to recover the sdpvar in the original (i.e. non symmetry adapted) basis."
   ]
  },
  {
   "cell_type": "code",
   "execution_count": 39,
   "metadata": {},
   "outputs": [
    {
     "name": "stdout",
     "output_type": "stream",
     "text": [
      "++++++++++++++++++++++++++++++++++++++++++++++++++++++++++++++++++\n",
      "|   ID|                    Constraint|          Coefficient range|\n",
      "++++++++++++++++++++++++++++++++++++++++++++++++++++++++++++++++++\n",
      "|   #1|       Equality constraint 1x1|   2.2204e-16 to 3.3307e-16|\n",
      "|   #2|   Element-wise inequality 1x1|               0.25 to 0.75|\n",
      "|   #3|   Element-wise inequality 1x1|               0.25 to 0.25|\n",
      "|   #4|   Element-wise inequality 1x1|               0.25 to 0.75|\n",
      "|   #5|   Element-wise inequality 1x1|               0.25 to 0.25|\n",
      "++++++++++++++++++++++++++++++++++++++++++++++++++++++++++++++++++\n"
     ]
    }
   ],
   "source": [
    "C = [trace(value(rho)) == 1\n",
    "     issdp(rho)\n",
    "     issdp(ppt(rho))]"
   ]
  },
  {
   "cell_type": "code",
   "execution_count": 40,
   "metadata": {},
   "outputs": [
    {
     "name": "stdout",
     "output_type": "stream",
     "text": [
      "\n",
      "Optimal solution found.\n",
      "\n",
      "ans = \n",
      "  struct with fields:\n",
      "\n",
      "    yalmipversion: '20200930'\n",
      "    matlabversion: '9.7.0.1190202 (R2019b)'\n",
      "       yalmiptime: 0.1537\n",
      "       solvertime: 0.0578\n",
      "             info: 'Successfully solved (LINPROG)'\n",
      "          problem: 0\n"
     ]
    }
   ],
   "source": [
    "% note that this is a linear program now\n",
    "optimize(C, -t)"
   ]
  },
  {
   "cell_type": "code",
   "execution_count": 41,
   "metadata": {},
   "outputs": [
    {
     "name": "stdout",
     "output_type": "stream",
     "text": [
      "ans =\n",
      "    0.3333\n"
     ]
    }
   ],
   "source": [
    "value(t)"
   ]
  },
  {
   "cell_type": "code",
   "execution_count": null,
   "metadata": {},
   "outputs": [],
   "source": []
  }
 ],
 "metadata": {
  "jupytext": {
   "cell_metadata_filter": "-all",
   "notebook_metadata_filter": "-all",
   "text_representation": {
    "extension": ".m",
    "format_name": "light"
   }
  },
  "kernelspec": {
   "display_name": "Matlab",
   "language": "matlab",
   "name": "matlab"
  },
  "language_info": {
   "codemirror_mode": "octave",
   "file_extension": ".m",
   "help_links": [
    {
     "text": "MetaKernel Magics",
     "url": "https://metakernel.readthedocs.io/en/latest/source/README.html"
    }
   ],
   "mimetype": "text/x-octave",
   "name": "matlab",
   "version": "0.16.11"
  }
 },
 "nbformat": 4,
 "nbformat_minor": 4
}
