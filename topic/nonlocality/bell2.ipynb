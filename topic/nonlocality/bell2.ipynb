{
 "cells": [
  {
   "cell_type": "markdown",
   "id": "1cccd45b",
   "metadata": {},
   "source": [
    "# Symmetries in Bell nonlocality, part 2\n",
    "\n",
    "We describe the relabelings in the CHSH scenario, and decompose their action on probability distributions $P(ab|xy)$, now using an abstract group construction.\n",
    "\n",
    "We identify those relabelings with a [wreath product](https://en.wikipedia.org/wiki/Wreath_product) construction, which RepLAB supports.\n",
    "This topic guide can also be considered as a (small) introduction to the group constructions available in RepLAB."
   ]
  },
  {
   "cell_type": "markdown",
   "id": "58248367",
   "metadata": {},
   "source": [
    "Before using *RepLAB* commands, we must first initialize the library:"
   ]
  },
  {
   "cell_type": "code",
   "execution_count": 1,
   "id": "a221835c",
   "metadata": {
    "execution": {
     "iopub.execute_input": "2021-08-03T13:43:01.898878Z",
     "iopub.status.busy": "2021-08-03T13:43:01.898417Z",
     "iopub.status.idle": "2021-08-03T13:43:09.398644Z",
     "shell.execute_reply": "2021-08-03T13:43:09.398125Z"
    }
   },
   "outputs": [],
   "source": [
    "addpath([pwd, '/../../..']);\n",
    "replab_init('verbose', 0);"
   ]
  },
  {
   "cell_type": "markdown",
   "id": "78917eb4",
   "metadata": {},
   "source": [
    "## Only outputs\n",
    "\n",
    "Outputs are binary, so the relabelling of outputs is the symmetric group\n",
    "of domain size 2."
   ]
  },
  {
   "cell_type": "code",
   "execution_count": 2,
   "id": "d4ea452a",
   "metadata": {
    "execution": {
     "iopub.execute_input": "2021-08-03T13:43:09.401786Z",
     "iopub.status.busy": "2021-08-03T13:43:09.401242Z",
     "iopub.status.idle": "2021-08-03T13:43:10.874882Z",
     "shell.execute_reply": "2021-08-03T13:43:10.874245Z"
    }
   },
   "outputs": [
    {
     "name": "stdout",
     "output_type": "stream",
     "text": [
      "outputGroup ="
     ]
    },
    {
     "name": "stdout",
     "output_type": "stream",
     "text": [
      "\r"
     ]
    },
    {
     "name": "stdout",
     "output_type": "stream",
     "text": [
      "\n"
     ]
    },
    {
     "name": "stdout",
     "output_type": "stream",
     "text": [
      "\r\n",
      "Symmetric group acting on 2 elements\r\n",
      "            identity: [1, 2]\r\n",
      "generator(1 or 'x1'): [2, 1]\r\n",
      "    recognize.source: Cyclic group C(2) of order 2 < x | x^2 = 1 >\r\n",
      "\r\n"
     ]
    }
   ],
   "source": [
    "outputGroup = replab.S(2)"
   ]
  },
  {
   "cell_type": "markdown",
   "id": "654ea24d",
   "metadata": {},
   "source": [
    "Now, an element of `outputGroup` is just a permutation of the two outputs:"
   ]
  },
  {
   "cell_type": "code",
   "execution_count": 3,
   "id": "383bc5e1",
   "metadata": {
    "execution": {
     "iopub.execute_input": "2021-08-03T13:43:10.878307Z",
     "iopub.status.busy": "2021-08-03T13:43:10.877761Z",
     "iopub.status.idle": "2021-08-03T13:43:10.932117Z",
     "shell.execute_reply": "2021-08-03T13:43:10.931653Z"
    }
   },
   "outputs": [
    {
     "name": "stdout",
     "output_type": "stream",
     "text": [
      "ans =\r\n",
      "\r\n",
      "Indexed family of 2 elements\r\n",
      "1 = [1, 2]\r\n",
      "2 = [2, 1]\r\n",
      "\r\n"
     ]
    }
   ],
   "source": [
    "outputGroup.elements"
   ]
  },
  {
   "cell_type": "markdown",
   "id": "e9614c28",
   "metadata": {},
   "source": [
    "The representation of this relabelling on the probabilities $P(a)$ is then the defining representation"
   ]
  },
  {
   "cell_type": "code",
   "execution_count": 4,
   "id": "eaf10377",
   "metadata": {
    "execution": {
     "iopub.execute_input": "2021-08-03T13:43:10.935156Z",
     "iopub.status.busy": "2021-08-03T13:43:10.934522Z",
     "iopub.status.idle": "2021-08-03T13:43:11.075333Z",
     "shell.execute_reply": "2021-08-03T13:43:11.074820Z"
    }
   },
   "outputs": [
    {
     "name": "stdout",
     "output_type": "stream",
     "text": [
      "outputRep ="
     ]
    },
    {
     "name": "stdout",
     "output_type": "stream",
     "text": [
      "\r"
     ]
    },
    {
     "name": "stdout",
     "output_type": "stream",
     "text": [
      "\n"
     ]
    },
    {
     "name": "stdout",
     "output_type": "stream",
     "text": [
      "\r\n",
      "Orthogonal reducible representation\r\n",
      "   dimension: 2\r\n",
      "       field: 'R'\r\n",
      "       group: Symmetric group acting on 2 elements\r\n",
      "   isUnitary: true\r\n",
      "preimages{1}: [2, 1]\r\n",
      "   images{1}: [0, 1; 1, 0]\r\n",
      "\r\n"
     ]
    },
    {
     "name": "stdout",
     "output_type": "stream",
     "text": [
      "ans =\r\n",
      "\r\n",
      "   0   1\r\n",
      "   1   0\r\n",
      "\r\n"
     ]
    }
   ],
   "source": [
    "outputRep = outputGroup.naturalRep\n",
    "outputRep.image([2 1])"
   ]
  },
  {
   "cell_type": "markdown",
   "id": "eeefe4ac",
   "metadata": {},
   "source": [
    "## Inputs and outputs\n",
    "\n",
    "In the CHSH scenario, each party has two binary measurements. Therefore,\n",
    "a copy of $S_2$ acts on the outputs of the first measurement, and a second\n",
    "copy of $S_2$ acting on the outputs of the second measurement, while\n",
    "another copy of $S_2$ permutes the choice of measurement (input).\n",
    "\n",
    "This is described by the wreath product of $S_2$ by $S_2$."
   ]
  },
  {
   "cell_type": "code",
   "execution_count": 5,
   "id": "8a035bc0",
   "metadata": {
    "execution": {
     "iopub.execute_input": "2021-08-03T13:43:11.078696Z",
     "iopub.status.busy": "2021-08-03T13:43:11.078220Z",
     "iopub.status.idle": "2021-08-03T13:43:11.199951Z",
     "shell.execute_reply": "2021-08-03T13:43:11.199486Z"
    }
   },
   "outputs": [
    {
     "name": "stdout",
     "output_type": "stream",
     "text": [
      "inputGroup =\r\n",
      "\r\n",
      "Symmetric group acting on 2 elements\r\n",
      "            identity: [1, 2]\r\n",
      "generator(1 or 'x1'): [2, 1]\r\n",
      "    recognize.source: Cyclic group C(2) of order 2 < x | x^2 = 1 >\r\n",
      "\r\n"
     ]
    },
    {
     "name": "stdout",
     "output_type": "stream",
     "text": [
      "ioGroup =\r\n",
      "\r\n",
      "replab.prods.WreathProductGroup_finite\r\n",
      "             A: Symmetric group acting on 2 elements\r\n",
      "             H: Symmetric group acting on 2 elements\r\n",
      "             N: Direct product group with 2 factors\r\n",
      "generatorNames: {'x1', 'x2', 'x3'}\r\n",
      "    generators: 1 x 3 cell\r\n",
      "      identity: {[1, 2], {[1, 2], [1, 2]}}\r\n",
      "             n: 2\r\n",
      "           phi: replab.perm.PermutationCellAction\r\n",
      "representative: {[1, 2], {[1, 2], [1, 2]}}\r\n",
      "          type: replab.prods.WreathProductGroup_finite\r\n",
      "\r\n"
     ]
    }
   ],
   "source": [
    "inputGroup = replab.S(2)\n",
    "ioGroup = inputGroup.wreathProduct(outputGroup)"
   ]
  },
  {
   "cell_type": "markdown",
   "id": "264e9d05",
   "metadata": {},
   "source": [
    "Elements of `ioGroup` are now composed of a permutation of inputs, and the conditional output permutation for $x=1,2$:"
   ]
  },
  {
   "cell_type": "code",
   "execution_count": 6,
   "id": "db840acf",
   "metadata": {
    "execution": {
     "iopub.execute_input": "2021-08-03T13:43:11.203269Z",
     "iopub.status.busy": "2021-08-03T13:43:11.202714Z",
     "iopub.status.idle": "2021-08-03T13:43:11.651142Z",
     "shell.execute_reply": "2021-08-03T13:43:11.651593Z"
    }
   },
   "outputs": [
    {
     "name": "stdout",
     "output_type": "stream",
     "text": [
      "ans ="
     ]
    },
    {
     "name": "stdout",
     "output_type": "stream",
     "text": [
      "\r"
     ]
    },
    {
     "name": "stdout",
     "output_type": "stream",
     "text": [
      "\n"
     ]
    },
    {
     "name": "stdout",
     "output_type": "stream",
     "text": [
      "\r\n",
      "Indexed family of 8 elements\r\n",
      "1 = {[1, 2], {[1, 2], [1, 2]}}\r\n",
      "2 = {[1, 2], {[1, 2], [2, 1]}}\r\n",
      "3 = {[1, 2], {[2, 1], [1, 2]}}\r\n",
      "4 = {[1, 2], {[2, 1], [2, 1]}}\r\n",
      "5 = {[2, 1], {[1, 2], [1, 2]}}\r\n",
      "6 = {[2, 1], {[1, 2], [2, 1]}}\r\n",
      "7 = {[2, 1], {[2, 1], [1, 2]}}\r\n",
      "8 = {[2, 1], {[2, 1], [2, 1]}}\r\n",
      "\r\n"
     ]
    }
   ],
   "source": [
    "ioGroup.elements"
   ]
  },
  {
   "cell_type": "markdown",
   "id": "80108020",
   "metadata": {},
   "source": [
    "The representation on the conditional probility $P(a|x)$ is the imprimitive representation,\n",
    "given that we use the defining representation\n",
    "for the inner group"
   ]
  },
  {
   "cell_type": "code",
   "execution_count": 7,
   "id": "46de3272",
   "metadata": {
    "execution": {
     "iopub.execute_input": "2021-08-03T13:43:11.655126Z",
     "iopub.status.busy": "2021-08-03T13:43:11.654477Z",
     "iopub.status.idle": "2021-08-03T13:43:11.828305Z",
     "shell.execute_reply": "2021-08-03T13:43:11.827825Z"
    }
   },
   "outputs": [],
   "source": [
    "ioRep = ioGroup.imprimitiveRep(outputRep);"
   ]
  },
  {
   "cell_type": "code",
   "execution_count": 8,
   "id": "13ad8dc7",
   "metadata": {
    "execution": {
     "iopub.execute_input": "2021-08-03T13:43:11.831848Z",
     "iopub.status.busy": "2021-08-03T13:43:11.831270Z",
     "iopub.status.idle": "2021-08-03T13:43:11.850046Z",
     "shell.execute_reply": "2021-08-03T13:43:11.850585Z"
    }
   },
   "outputs": [
    {
     "name": "stdout",
     "output_type": "stream",
     "text": [
      "ans =\r\n",
      "\r\n",
      "   0   0   1   0\r\n",
      "   0   0   0   1\r\n",
      "   1   0   0   0\r\n",
      "   0   1   0   0\r\n",
      "\r\n"
     ]
    }
   ],
   "source": [
    "ioRep.image({[2 1] {[1 2] [1 2]}}) % permuting only the inputs"
   ]
  },
  {
   "cell_type": "code",
   "execution_count": 9,
   "id": "0e585e70",
   "metadata": {
    "execution": {
     "iopub.execute_input": "2021-08-03T13:43:11.853698Z",
     "iopub.status.busy": "2021-08-03T13:43:11.853186Z",
     "iopub.status.idle": "2021-08-03T13:43:11.870548Z",
     "shell.execute_reply": "2021-08-03T13:43:11.870913Z"
    }
   },
   "outputs": [
    {
     "name": "stdout",
     "output_type": "stream",
     "text": [
      "ans =\r\n",
      "\r\n",
      "   0   1   0   0\r\n",
      "   1   0   0   0\r\n",
      "   0   0   1   0\r\n",
      "   0   0   0   1\r\n",
      "\r\n"
     ]
    }
   ],
   "source": [
    "ioRep.image({[1 2] {[2 1] [1 2]}}) % permuting only the outputs, conditioned on $x=1$"
   ]
  }
 ],
 "metadata": {
  "jupytext": {
   "cell_metadata_filter": "-all",
   "main_language": "matlab",
   "notebook_metadata_filter": "-all",
   "text_representation": {
    "extension": ".m",
    "format_name": "light"
   }
  },
  "language_info": {
   "file_extension": ".m",
   "help_links": [
    {
     "text": "GNU Octave",
     "url": "https://www.gnu.org/software/octave/support.html"
    },
    {
     "text": "Octave Kernel",
     "url": "https://github.com/Calysto/octave_kernel"
    },
    {
     "text": "MetaKernel Magics",
     "url": "https://metakernel.readthedocs.io/en/latest/source/README.html"
    }
   ],
   "mimetype": "text/x-octave",
   "name": "octave",
   "version": "6.2.0"
  }
 },
 "nbformat": 4,
 "nbformat_minor": 5
}
