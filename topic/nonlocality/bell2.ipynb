{
 "cells": [
  {
   "cell_type": "markdown",
   "metadata": {},
   "source": [
    "# Symmetries in Bell nonlocality, part 2\n",
    "\n",
    "We describe the relabelings in the CHSH scenario, and decompose their action on probability distributions $P(ab|xy)$, now using an abstract group construction.\n",
    "\n",
    "We identify those relabelings with a [wreath product](https://en.wikipedia.org/wiki/Wreath_product) construction, which RepLAB supports.\n",
    "This topic guide can also be considered as a (small) introduction to the group constructions available in RepLAB."
   ]
  },
  {
   "cell_type": "markdown",
   "metadata": {},
   "source": [
    "Before using *RepLAB* commands, we must first initialize the library:"
   ]
  },
  {
   "cell_type": "code",
   "execution_count": 1,
   "metadata": {},
   "outputs": [
    {
     "name": "stdout",
     "output_type": "stream",
     "text": [
      "Adding RepLAB to the path"
     ]
    },
    {
     "name": "stdout",
     "output_type": "stream",
     "text": [
      "\r"
     ]
    },
    {
     "name": "stdout",
     "output_type": "stream",
     "text": [
      "\n",
      "Loading optim package for Octave..."
     ]
    },
    {
     "name": "stdout",
     "output_type": "stream",
     "text": [
      "\r"
     ]
    },
    {
     "name": "stdout",
     "output_type": "stream",
     "text": [
      "\n",
      "OpenJDK 64-Bit Server VM warning: Archived non-system classes are disabled because the java.system.class.loader property is specified (value = \"org.octave.OctClassLoader\"). To use archived non-system classes, this property must be not be set"
     ]
    },
    {
     "name": "stdout",
     "output_type": "stream",
     "text": [
      "\r"
     ]
    },
    {
     "name": "stdout",
     "output_type": "stream",
     "text": [
      "\n",
      "Loading symbolic package for Octave..."
     ]
    },
    {
     "name": "stdout",
     "output_type": "stream",
     "text": [
      "\r"
     ]
    },
    {
     "name": "stdout",
     "output_type": "stream",
     "text": [
      "\n",
      "Adding VPI to the path"
     ]
    },
    {
     "name": "stdout",
     "output_type": "stream",
     "text": [
      "\r"
     ]
    },
    {
     "name": "stdout",
     "output_type": "stream",
     "text": [
      "\n",
      "Adding MOxUnit to the path"
     ]
    },
    {
     "name": "stdout",
     "output_type": "stream",
     "text": [
      "\r"
     ]
    },
    {
     "name": "stdout",
     "output_type": "stream",
     "text": [
      "\n",
      "Adding embedded YALMIP to the path"
     ]
    },
    {
     "name": "stdout",
     "output_type": "stream",
     "text": [
      "\r"
     ]
    },
    {
     "name": "stdout",
     "output_type": "stream",
     "text": [
      "\n",
      "Adding embedded SDPT3 solver to the path"
     ]
    },
    {
     "name": "stdout",
     "output_type": "stream",
     "text": [
      "\r\n",
      "Adding MOcov to the path\r\n"
     ]
    }
   ],
   "source": [
    "run ../../../replab_init"
   ]
  },
  {
   "cell_type": "markdown",
   "metadata": {},
   "source": [
    "## Only outputs\n",
    "\n",
    "Outputs are binary, so the relabelling of outputs is the symmetric group\n",
    "of domain size 2."
   ]
  },
  {
   "cell_type": "code",
   "execution_count": 2,
   "metadata": {},
   "outputs": [
    {
     "name": "stdout",
     "output_type": "stream",
     "text": [
      "outputGroup =\r\n",
      "\r\n",
      "Symmetric group acting on 2 elements\r\n",
      "  domainSize: 2\r\n",
      "    identity: [1, 2]\r\n",
      "        type: Symmetric group acting on 2 elements\r\n",
      "generator(1): [2, 1]\r\n",
      "   recognize: AtlasResult (Cyclic group C(2) of order 2)\r\n",
      "\r\n"
     ]
    }
   ],
   "source": [
    "outputGroup = replab.S(2)"
   ]
  },
  {
   "cell_type": "markdown",
   "metadata": {},
   "source": [
    "Now, an element of `outputGroup` is just a permutation of the two outputs:"
   ]
  },
  {
   "cell_type": "code",
   "execution_count": 3,
   "metadata": {},
   "outputs": [
    {
     "name": "stdout",
     "output_type": "stream",
     "text": [
      "ans =\r\n",
      "\r\n",
      "Indexed family of 2 elements\r\n",
      "1 = [1, 2]\r\n",
      "2 = [2, 1]\r\n",
      "\r\n"
     ]
    }
   ],
   "source": [
    "outputGroup.elements"
   ]
  },
  {
   "cell_type": "markdown",
   "metadata": {},
   "source": [
    "The representation of this relabelling on the probabilities $P(a)$ is then the defining representation"
   ]
  },
  {
   "cell_type": "code",
   "execution_count": 4,
   "metadata": {},
   "outputs": [
    {
     "name": "stdout",
     "output_type": "stream",
     "text": [
      "outputRep =\r\n",
      "\r\n",
      "Orthogonal representation by images\r\n",
      "                 dimension: 2\r\n",
      "                     field: 'R'\r\n",
      "   frobeniusSchurIndicator: []\r\n",
      "                     group: Symmetric group acting on 2 elements\r\n",
      "    inverseImages_internal: {[0, 1; 1, 0]}\r\n",
      "isDivisionAlgebraCanonical: []\r\n",
      "             isIrreducible: []\r\n",
      "                 isUnitary: true\r\n",
      "          trivialDimension: []\r\n",
      "        images_internal{1}: [0, 1; 1, 0]\r\n",
      "\r\n"
     ]
    },
    {
     "name": "stdout",
     "output_type": "stream",
     "text": [
      "ans =\r\n",
      "\r\n",
      "   0   1\r\n",
      "   1   0\r\n",
      "\r\n"
     ]
    }
   ],
   "source": [
    "outputRep = outputGroup.naturalRep\n",
    "outputRep.image([2 1])"
   ]
  },
  {
   "cell_type": "markdown",
   "metadata": {},
   "source": [
    "## Inputs and outputs\n",
    "\n",
    "In the CHSH scenario, each party has two binary measurements. Therefore,\n",
    "a copy of $S_2$ acts on the outputs of the first measurement, and a second\n",
    "copy of $S_2$ acting on the outputs of the second measurement, while\n",
    "another copy of $S_2$ permutes the choice of measurement (input).\n",
    "\n",
    "This is described by the wreath product of $S_2$ by $S_2$."
   ]
  },
  {
   "cell_type": "code",
   "execution_count": 5,
   "metadata": {},
   "outputs": [
    {
     "name": "stdout",
     "output_type": "stream",
     "text": [
      "inputGroup =\r\n",
      "\r\n",
      "Symmetric group acting on 2 elements\r\n",
      "  domainSize: 2\r\n",
      "    identity: [1, 2]\r\n",
      "        type: Symmetric group acting on 2 elements\r\n",
      "generator(1): [2, 1]\r\n",
      "   recognize: AtlasResult (Cyclic group C(2) of order 2)\r\n",
      "\r\n"
     ]
    },
    {
     "name": "stdout",
     "output_type": "stream",
     "text": [
      "ioGroup =\r\n",
      "\r\n",
      "replab.prods.WreathProductOfFiniteGroups\r\n",
      "             A: Symmetric group acting on 2 elements\r\n",
      "             H: Symmetric group acting on 2 elements\r\n",
      "             N: replab.prods.DirectProductOfFiniteGroups\r\n",
      "    generators: 1 x 3 cell\r\n",
      "      identity: {[1, 2], {[1, 2], [1, 2]}}\r\n",
      "             n: 2\r\n",
      "           phi: replab.perm.PermutationCellAction\r\n",
      "representative: []\r\n",
      "          type: replab.prods.WreathProductOfFiniteGroups\r\n",
      "\r\n"
     ]
    }
   ],
   "source": [
    "inputGroup = replab.S(2)\n",
    "ioGroup = inputGroup.wreathProduct(outputGroup)"
   ]
  },
  {
   "cell_type": "markdown",
   "metadata": {},
   "source": [
    "Elements of `ioGroup` are now composed of a permutation of inputs, and the conditional output permutation for $x=1,2$:"
   ]
  },
  {
   "cell_type": "code",
   "execution_count": 6,
   "metadata": {},
   "outputs": [
    {
     "name": "stdout",
     "output_type": "stream",
     "text": [
      "ans ="
     ]
    },
    {
     "name": "stdout",
     "output_type": "stream",
     "text": [
      "\r"
     ]
    },
    {
     "name": "stdout",
     "output_type": "stream",
     "text": [
      "\n"
     ]
    },
    {
     "name": "stdout",
     "output_type": "stream",
     "text": [
      "\r\n",
      "Indexed family of 8 elements\r\n",
      "1 = {[1, 2], {[1, 2], [1, 2]}}\r\n",
      "2 = {[1, 2], {[1, 2], [2, 1]}}\r\n",
      "3 = {[1, 2], {[2, 1], [1, 2]}}\r\n",
      "4 = {[1, 2], {[2, 1], [2, 1]}}\r\n",
      "5 = {[2, 1], {[1, 2], [1, 2]}}\r\n",
      "6 = {[2, 1], {[1, 2], [2, 1]}}\r\n",
      "7 = {[2, 1], {[2, 1], [1, 2]}}\r\n",
      "8 = {[2, 1], {[2, 1], [2, 1]}}\r\n",
      "\r\n"
     ]
    }
   ],
   "source": [
    "ioGroup.elements"
   ]
  },
  {
   "cell_type": "markdown",
   "metadata": {},
   "source": [
    "The representation on the conditional probility $P(a|x)$ is the imprimitive representation,\n",
    "given that we use the defining representation\n",
    "for the inner group"
   ]
  },
  {
   "cell_type": "code",
   "execution_count": 7,
   "metadata": {},
   "outputs": [],
   "source": [
    "ioRep = ioGroup.imprimitiveRep(outputRep);"
   ]
  },
  {
   "cell_type": "code",
   "execution_count": 8,
   "metadata": {},
   "outputs": [
    {
     "name": "stdout",
     "output_type": "stream",
     "text": [
      "ans =\r\n",
      "\r\n",
      "   0   0   1   0\r\n",
      "   0   0   0   1\r\n",
      "   1   0   0   0\r\n",
      "   0   1   0   0\r\n",
      "\r\n"
     ]
    }
   ],
   "source": [
    "ioRep.image({[2 1] {[1 2] [1 2]}}) % permuting only the inputs"
   ]
  },
  {
   "cell_type": "code",
   "execution_count": 9,
   "metadata": {},
   "outputs": [
    {
     "name": "stdout",
     "output_type": "stream",
     "text": [
      "ans =\r\n",
      "\r\n",
      "   0   1   0   0\r\n",
      "   1   0   0   0\r\n",
      "   0   0   1   0\r\n",
      "   0   0   0   1\r\n",
      "\r\n"
     ]
    }
   ],
   "source": [
    "ioRep.image({[1 2] {[2 1] [1 2]}}) % permuting only the outputs, conditioned on $x=1$"
   ]
  }
 ],
 "metadata": {
  "jupytext": {
   "cell_metadata_filter": "-all",
   "main_language": "matlab",
   "notebook_metadata_filter": "-all",
   "text_representation": {
    "extension": ".m",
    "format_name": "light"
   }
  },
  "language_info": {
   "file_extension": ".m",
   "help_links": [
    {
     "text": "GNU Octave",
     "url": "https://www.gnu.org/software/octave/support.html"
    },
    {
     "text": "Octave Kernel",
     "url": "https://github.com/Calysto/octave_kernel"
    },
    {
     "text": "MetaKernel Magics",
     "url": "https://metakernel.readthedocs.io/en/latest/source/README.html"
    }
   ],
   "mimetype": "text/x-octave",
   "name": "octave",
   "version": "5.2.0"
  }
 },
 "nbformat": 4,
 "nbformat_minor": 4
}
