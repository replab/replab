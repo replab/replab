{
 "cells": [
  {
   "cell_type": "markdown",
   "metadata": {},
   "source": [
    "# Symmetries in Bell nonlocality, part 3\n",
    "\n",
    "Let us now turn our attention to the symmetries of the full scenario. We first recall the definitions of part 1."
   ]
  },
  {
   "cell_type": "code",
   "execution_count": 1,
   "metadata": {},
   "outputs": [
    {
     "name": "stdout",
     "output_type": "stream",
     "text": [
      "Adding RepLAB to the path"
     ]
    },
    {
     "name": "stdout",
     "output_type": "stream",
     "text": [
      "\r"
     ]
    },
    {
     "name": "stdout",
     "output_type": "stream",
     "text": [
      "\n",
      "Loading optim package for Octave..."
     ]
    },
    {
     "name": "stdout",
     "output_type": "stream",
     "text": [
      "\r"
     ]
    },
    {
     "name": "stdout",
     "output_type": "stream",
     "text": [
      "\n",
      "OpenJDK 64-Bit Server VM warning: Archived non-system classes are disabled because the java.system.class.loader property is specified (value = \"org.octave.OctClassLoader\"). To use archived non-system classes, this property must be not be set"
     ]
    },
    {
     "name": "stdout",
     "output_type": "stream",
     "text": [
      "\r"
     ]
    },
    {
     "name": "stdout",
     "output_type": "stream",
     "text": [
      "\n",
      "Loading symbolic package for Octave..."
     ]
    },
    {
     "name": "stdout",
     "output_type": "stream",
     "text": [
      "\r"
     ]
    },
    {
     "name": "stdout",
     "output_type": "stream",
     "text": [
      "\n",
      "Adding VPI to the path"
     ]
    },
    {
     "name": "stdout",
     "output_type": "stream",
     "text": [
      "\r"
     ]
    },
    {
     "name": "stdout",
     "output_type": "stream",
     "text": [
      "\n",
      "Adding MOxUnit to the path"
     ]
    },
    {
     "name": "stdout",
     "output_type": "stream",
     "text": [
      "\r"
     ]
    },
    {
     "name": "stdout",
     "output_type": "stream",
     "text": [
      "\n",
      "Adding embedded YALMIP to the path"
     ]
    },
    {
     "name": "stdout",
     "output_type": "stream",
     "text": [
      "\r"
     ]
    },
    {
     "name": "stdout",
     "output_type": "stream",
     "text": [
      "\n",
      "Adding embedded SDPT3 solver to the path"
     ]
    },
    {
     "name": "stdout",
     "output_type": "stream",
     "text": [
      "\r\n",
      "Adding MOcov to the path\r\n"
     ]
    }
   ],
   "source": [
    "run ../../../replab_init\n",
    "outputGroup = replab.S(2);\n",
    "outputRep = outputGroup.naturalRep;\n",
    "inputGroup = replab.S(2);\n",
    "ioGroup = inputGroup.wreathProduct(outputGroup);\n",
    "ioRep = ioGroup.imprimitiveRep(outputRep);"
   ]
  },
  {
   "cell_type": "markdown",
   "metadata": {},
   "source": [
    "The same story repeats for relabelings of parties: the scenario involves\n",
    "two homogeneous parties. We thus have two copies of the group relabeling\n",
    "inputs and/or outputs (one for Alice, one for Bob), and a copy of $S_2$ that\n",
    "permutes the parties. This group desribing all possible relabellings in\n",
    "this scenario is thus given by:"
   ]
  },
  {
   "cell_type": "code",
   "execution_count": 2,
   "metadata": {},
   "outputs": [],
   "source": [
    "scenarioGroup = outputGroup.wreathProduct(ioGroup);"
   ]
  },
  {
   "cell_type": "code",
   "execution_count": 3,
   "metadata": {},
   "outputs": [
    {
     "name": "stdout",
     "output_type": "stream",
     "text": [
      "ans ="
     ]
    },
    {
     "name": "stdout",
     "output_type": "stream",
     "text": [
      "\r"
     ]
    },
    {
     "name": "stdout",
     "output_type": "stream",
     "text": [
      "\n"
     ]
    },
    {
     "name": "stdout",
     "output_type": "stream",
     "text": [
      "\r\n",
      "Indexed family of 128 elements\r\n",
      "     1 = {[1, 2], {{[1, 2], {[1, 2], [1, 2]}}, {[1, 2], {[1, 2], [1, 2]}}}}\r\n",
      "     2 = {[1, 2], {{[1, 2], {[1, 2], [1, 2]}}, {[1, 2], {[1, 2], [2, 1]}}}}\r\n",
      "     3 = {[1, 2], {{[1, 2], {[1, 2], [1, 2]}}, {[1, 2], {[2, 1], [1, 2]}}}}\r\n",
      "     4 = {[1, 2], {{[1, 2], {[1, 2], [1, 2]}}, {[1, 2], {[2, 1], [2, 1]}}}}\r\n",
      "     5 = {[1, 2], {{[1, 2], {[1, 2], [1, 2]}}, {[2, 1], {[1, 2], [1, 2]}}}}\r\n",
      "     6 = {[1, 2], {{[1, 2], {[1, 2], [1, 2]}}, {[2, 1], {[1, 2], [2, 1]}}}}\r\n",
      "     7 = {[1, 2], {{[1, 2], {[1, 2], [1, 2]}}, {[2, 1], {[2, 1], [1, 2]}}}}\r\n",
      "     8 = {[1, 2], {{[1, 2], {[1, 2], [1, 2]}}, {[2, 1], {[2, 1], [2, 1]}}}}\r\n",
      "     9 = {[1, 2], {{[1, 2], {[1, 2], [2, 1]}}, {[1, 2], {[1, 2], [1, 2]}}}}\r\n",
      "    10 = {[1, 2], {{[1, 2], {[1, 2], [2, 1]}}, {[1, 2], {[1, 2], [2, 1]}}}}\r\n",
      "    11 = {[1, 2], {{[1, 2], {[1, 2], [2, 1]}}, {[1, 2], {[2, 1], [1, 2]}}}}\r\n",
      ".. 106   elements omitted\r\n",
      "   118 = {[2, 1], {{[2, 1], {[2, 1], [1, 2]}}, {[2, 1], {[1, 2], [2, 1]}}}}\r\n",
      "   119 = {[2, 1], {{[2, 1], {[2, 1], [1, 2]}}, {[2, 1], {[2, 1], [1, 2]}}}}\r\n",
      "   120 = {[2, 1], {{[2, 1], {[2, 1], [1, 2]}}, {[2, 1], {[2, 1], [2, 1]}}}}\r\n",
      "   121 = {[2, 1], {{[2, 1], {[2, 1], [2, 1]}}, {[1, 2], {[1, 2], [1, 2]}}}}\r\n",
      "   122 = {[2, 1], {{[2, 1], {[2, 1], [2, 1]}}, {[1, 2], {[1, 2], [2, 1]}}}}\r\n",
      "   123 = {[2, 1], {{[2, 1], {[2, 1], [2, 1]}}, {[1, 2], {[2, 1], [1, 2]}}}}\r\n",
      "   124 = {[2, 1], {{[2, 1], {[2, 1], [2, 1]}}, {[1, 2], {[2, 1], [2, 1]}}}}\r\n",
      "   125 = {[2, 1], {{[2, 1], {[2, 1], [2, 1]}}, {[2, 1], {[1, 2], [1, 2]}}}}\r\n",
      "   126 = {[2, 1], {{[2, 1], {[2, 1], [2, 1]}}, {[2, 1], {[1, 2], [2, 1]}}}}\r\n",
      "   127 = {[2, 1], {{[2, 1], {[2, 1], [2, 1]}}, {[2, 1], {[2, 1], [1, 2]}}}}\r\n",
      "   128 = {[2, 1], {{[2, 1], {[2, 1], [2, 1]}}, {[2, 1], {[2, 1], [2, 1]}}}}\r\n",
      "\r\n"
     ]
    }
   ],
   "source": [
    "scenarioGroup.elements"
   ]
  },
  {
   "cell_type": "markdown",
   "metadata": {},
   "source": [
    "The representation on the behavior $P(ab|xy)$ is however a primitive\n",
    "representation, as $P(a|x; b|y)$ ressembles a tensor. Inside each party,\n",
    "we use the imprimitive representation constructed before."
   ]
  },
  {
   "cell_type": "code",
   "execution_count": 4,
   "metadata": {},
   "outputs": [],
   "source": [
    "probRep = scenarioGroup.primitiveRep(ioRep);"
   ]
  },
  {
   "cell_type": "markdown",
   "metadata": {},
   "source": [
    "Decomposition of the full probability space\n",
    "\n",
    "We can now compute the decomposition of this representation on $P(ab|xy)$:"
   ]
  },
  {
   "cell_type": "code",
   "execution_count": 5,
   "metadata": {},
   "outputs": [
    {
     "name": "stdout",
     "output_type": "stream",
     "text": [
      "dec =\r\n",
      "\r\n",
      "Real representation\r\n",
      "                 dimension: 16\r\n",
      "                     field: 'R'\r\n",
      "   frobeniusSchurIndicator: []\r\n",
      "                     group: replab.prods.WreathProductOfFiniteGroups\r\n",
      "isDivisionAlgebraCanonical: []\r\n",
      "             isIrreducible: []\r\n",
      "                 isUnitary: []\r\n",
      "                    parent: Orthogonal representation\r\n",
      "          trivialDimension: []\r\n",
      "                     basis: 16 x 16 double\r\n",
      "              component(1): Isotypic component (harmonized) R(1) (trivial)\r\n",
      "              component(2): Isotypic component (harmonized) R(1)\r\n",
      "              component(3): Isotypic component (harmonized) R(2)\r\n",
      "              component(4): Isotypic component (harmonized) R(4)\r\n",
      "              component(5): Isotypic component (harmonized) R(4)\r\n",
      "              component(6): Isotypic component (harmonized) R(4)\r\n",
      "\r\n"
     ]
    }
   ],
   "source": [
    "dec = probRep.decomposition"
   ]
  },
  {
   "cell_type": "markdown",
   "metadata": {},
   "source": [
    "There are 6 irreducible components"
   ]
  },
  {
   "cell_type": "code",
   "execution_count": 6,
   "metadata": {},
   "outputs": [
    {
     "name": "stdout",
     "output_type": "stream",
     "text": [
      "ans =  6\r\n"
     ]
    }
   ],
   "source": [
    "dec.nComponents"
   ]
  },
  {
   "cell_type": "markdown",
   "metadata": {},
   "source": [
    "These components correspond to the following physical elements ( see [arXiv:1610.01833](https://arxiv.org/abs/1610.01833) ) for more details:\n",
    "\n",
    "- The global normalization of probabilities\n",
    "- The difference of normalization between $x=y$ and $x\\ne y$\n",
    "- The difference of normalization between $x=0$ and $x=1$\n",
    "- The signaling between Alice and Bob\n",
    "- The marginal probabilities of Alice and Bob\n",
    "- The correlation between Alice and Bob"
   ]
  }
 ],
 "metadata": {
  "jupytext": {
   "cell_metadata_filter": "-all",
   "main_language": "matlab",
   "notebook_metadata_filter": "-all",
   "text_representation": {
    "extension": ".m",
    "format_name": "light"
   }
  },
  "language_info": {
   "file_extension": ".m",
   "help_links": [
    {
     "text": "GNU Octave",
     "url": "https://www.gnu.org/software/octave/support.html"
    },
    {
     "text": "Octave Kernel",
     "url": "https://github.com/Calysto/octave_kernel"
    },
    {
     "text": "MetaKernel Magics",
     "url": "https://metakernel.readthedocs.io/en/latest/source/README.html"
    }
   ],
   "mimetype": "text/x-octave",
   "name": "octave",
   "version": "5.2.0"
  }
 },
 "nbformat": 4,
 "nbformat_minor": 4
}
