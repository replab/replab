{
 "cells": [
  {
   "cell_type": "markdown",
   "id": "72ca9b97",
   "metadata": {},
   "source": [
    "# Symmetries in Bell nonlocality, part 3\n",
    "\n",
    "Let us now turn our attention to the symmetries of the full scenario. We first recall the definitions of part 1."
   ]
  },
  {
   "cell_type": "code",
   "execution_count": 1,
   "id": "ba6f5de9",
   "metadata": {
    "execution": {
     "iopub.execute_input": "2021-08-03T13:43:14.849450Z",
     "iopub.status.busy": "2021-08-03T13:43:14.848965Z",
     "iopub.status.idle": "2021-08-03T13:43:22.624647Z",
     "shell.execute_reply": "2021-08-03T13:43:22.628876Z"
    }
   },
   "outputs": [],
   "source": [
    "addpath([pwd, '/../../..']);\n",
    "replab_init('verbose', 0);\n",
    "outputGroup = replab.S(2);\n",
    "outputRep = outputGroup.naturalRep;\n",
    "inputGroup = replab.S(2);\n",
    "ioGroup = inputGroup.wreathProduct(outputGroup);\n",
    "ioRep = ioGroup.imprimitiveRep(outputRep);"
   ]
  },
  {
   "cell_type": "markdown",
   "id": "92d64b9a",
   "metadata": {},
   "source": [
    "The same story repeats for relabelings of parties: the scenario involves\n",
    "two homogeneous parties. We thus have two copies of the group relabeling\n",
    "inputs and/or outputs (one for Alice, one for Bob), and a copy of $S_2$ that\n",
    "permutes the parties. This group desribing all possible relabellings in\n",
    "this scenario is thus given by:"
   ]
  },
  {
   "cell_type": "code",
   "execution_count": 2,
   "id": "af0c18cb",
   "metadata": {
    "execution": {
     "iopub.execute_input": "2021-08-03T13:43:22.632715Z",
     "iopub.status.busy": "2021-08-03T13:43:22.632078Z",
     "iopub.status.idle": "2021-08-03T13:43:22.669579Z",
     "shell.execute_reply": "2021-08-03T13:43:22.670004Z"
    }
   },
   "outputs": [],
   "source": [
    "scenarioGroup = outputGroup.wreathProduct(ioGroup);"
   ]
  },
  {
   "cell_type": "code",
   "execution_count": 3,
   "id": "63601ddb",
   "metadata": {
    "execution": {
     "iopub.execute_input": "2021-08-03T13:43:22.673522Z",
     "iopub.status.busy": "2021-08-03T13:43:22.672913Z",
     "iopub.status.idle": "2021-08-03T13:43:25.618025Z",
     "shell.execute_reply": "2021-08-03T13:43:25.617579Z"
    }
   },
   "outputs": [
    {
     "name": "stdout",
     "output_type": "stream",
     "text": [
      "ans ="
     ]
    },
    {
     "name": "stdout",
     "output_type": "stream",
     "text": [
      "\r"
     ]
    },
    {
     "name": "stdout",
     "output_type": "stream",
     "text": [
      "\n"
     ]
    },
    {
     "name": "stdout",
     "output_type": "stream",
     "text": [
      "\r\n",
      "Indexed family of 128 elements\r\n",
      "     1 = {[1, 2], {{[1, 2], {[1, 2], [1, 2]}}, {[1, 2], {[1, 2], [1, 2]}}}}\r\n",
      "     2 = {[1, 2], {{[1, 2], {[1, 2], [1, 2]}}, {[1, 2], {[1, 2], [2, 1]}}}}\r\n",
      "     3 = {[1, 2], {{[1, 2], {[1, 2], [1, 2]}}, {[1, 2], {[2, 1], [1, 2]}}}}\r\n",
      "     4 = {[1, 2], {{[1, 2], {[1, 2], [1, 2]}}, {[1, 2], {[2, 1], [2, 1]}}}}\r\n",
      "     5 = {[1, 2], {{[1, 2], {[1, 2], [1, 2]}}, {[2, 1], {[1, 2], [1, 2]}}}}\r\n",
      "     6 = {[1, 2], {{[1, 2], {[1, 2], [1, 2]}}, {[2, 1], {[1, 2], [2, 1]}}}}\r\n",
      "     7 = {[1, 2], {{[1, 2], {[1, 2], [1, 2]}}, {[2, 1], {[2, 1], [1, 2]}}}}\r\n",
      "     8 = {[1, 2], {{[1, 2], {[1, 2], [1, 2]}}, {[2, 1], {[2, 1], [2, 1]}}}}\r\n",
      "     9 = {[1, 2], {{[1, 2], {[1, 2], [2, 1]}}, {[1, 2], {[1, 2], [1, 2]}}}}\r\n",
      "    10 = {[1, 2], {{[1, 2], {[1, 2], [2, 1]}}, {[1, 2], {[1, 2], [2, 1]}}}}\r\n",
      "    11 = {[1, 2], {{[1, 2], {[1, 2], [2, 1]}}, {[1, 2], {[2, 1], [1, 2]}}}}\r\n",
      ".. 106   elements omitted\r\n",
      "   118 = {[2, 1], {{[2, 1], {[2, 1], [1, 2]}}, {[2, 1], {[1, 2], [2, 1]}}}}\r\n",
      "   119 = {[2, 1], {{[2, 1], {[2, 1], [1, 2]}}, {[2, 1], {[2, 1], [1, 2]}}}}\r\n",
      "   120 = {[2, 1], {{[2, 1], {[2, 1], [1, 2]}}, {[2, 1], {[2, 1], [2, 1]}}}}\r\n",
      "   121 = {[2, 1], {{[2, 1], {[2, 1], [2, 1]}}, {[1, 2], {[1, 2], [1, 2]}}}}\r\n",
      "   122 = {[2, 1], {{[2, 1], {[2, 1], [2, 1]}}, {[1, 2], {[1, 2], [2, 1]}}}}\r\n",
      "   123 = {[2, 1], {{[2, 1], {[2, 1], [2, 1]}}, {[1, 2], {[2, 1], [1, 2]}}}}\r\n",
      "   124 = {[2, 1], {{[2, 1], {[2, 1], [2, 1]}}, {[1, 2], {[2, 1], [2, 1]}}}}\r\n",
      "   125 = {[2, 1], {{[2, 1], {[2, 1], [2, 1]}}, {[2, 1], {[1, 2], [1, 2]}}}}\r\n",
      "   126 = {[2, 1], {{[2, 1], {[2, 1], [2, 1]}}, {[2, 1], {[1, 2], [2, 1]}}}}\r\n",
      "   127 = {[2, 1], {{[2, 1], {[2, 1], [2, 1]}}, {[2, 1], {[2, 1], [1, 2]}}}}\r\n",
      "   128 = {[2, 1], {{[2, 1], {[2, 1], [2, 1]}}, {[2, 1], {[2, 1], [2, 1]}}}}\r\n",
      "\r\n"
     ]
    }
   ],
   "source": [
    "scenarioGroup.elements"
   ]
  },
  {
   "cell_type": "markdown",
   "id": "b8a67f10",
   "metadata": {},
   "source": [
    "The representation on the behavior $P(ab|xy)$ is however a primitive\n",
    "representation, as $P(a|x; b|y)$ ressembles a tensor. Inside each party,\n",
    "we use the imprimitive representation constructed before."
   ]
  },
  {
   "cell_type": "code",
   "execution_count": 4,
   "id": "4055f2b4",
   "metadata": {
    "execution": {
     "iopub.execute_input": "2021-08-03T13:43:25.621188Z",
     "iopub.status.busy": "2021-08-03T13:43:25.620650Z",
     "iopub.status.idle": "2021-08-03T13:43:25.824239Z",
     "shell.execute_reply": "2021-08-03T13:43:25.823333Z"
    }
   },
   "outputs": [],
   "source": [
    "probRep = scenarioGroup.primitiveRep(ioRep);"
   ]
  },
  {
   "cell_type": "markdown",
   "id": "e38a4b5e",
   "metadata": {},
   "source": [
    "Decomposition of the full probability space\n",
    "\n",
    "We can now compute the decomposition of this representation on $P(ab|xy)$:"
   ]
  },
  {
   "cell_type": "code",
   "execution_count": 5,
   "id": "a24800cf",
   "metadata": {
    "execution": {
     "iopub.execute_input": "2021-08-03T13:43:25.827202Z",
     "iopub.status.busy": "2021-08-03T13:43:25.826768Z",
     "iopub.status.idle": "2021-08-03T13:43:26.551103Z",
     "shell.execute_reply": "2021-08-03T13:43:26.550651Z"
    }
   },
   "outputs": [
    {
     "name": "stdout",
     "output_type": "stream",
     "text": [
      "dec ="
     ]
    },
    {
     "name": "stdout",
     "output_type": "stream",
     "text": [
      "\r"
     ]
    },
    {
     "name": "stdout",
     "output_type": "stream",
     "text": [
      "\n"
     ]
    },
    {
     "name": "stdout",
     "output_type": "stream",
     "text": [
      "\r\n",
      "Orthogonal reducible representation\r\n",
      "   dimension: 16\r\n",
      "       field: 'R'\r\n",
      "       group: replab.prods.WreathProductGroup_finite\r\n",
      "   isUnitary: true\r\n",
      "      parent: Orthogonal representation\r\n",
      "component(1): Isotypic component R(1) (trivial)\r\n",
      "component(2): Isotypic component R(1) (nontrivial)\r\n",
      "component(3): Isotypic component R(2) (nontrivial)\r\n",
      "component(4): Isotypic component R(4) (nontrivial)\r\n",
      "component(5): Isotypic component R(4) (nontrivial)\r\n",
      "component(6): Isotypic component R(4) (nontrivial)\r\n",
      "\r\n"
     ]
    }
   ],
   "source": [
    "dec = probRep.decomposition"
   ]
  },
  {
   "cell_type": "markdown",
   "id": "66d9e2fb",
   "metadata": {},
   "source": [
    "There are 6 irreducible components"
   ]
  },
  {
   "cell_type": "code",
   "execution_count": 6,
   "id": "f8de3b86",
   "metadata": {
    "execution": {
     "iopub.execute_input": "2021-08-03T13:43:26.554549Z",
     "iopub.status.busy": "2021-08-03T13:43:26.553979Z",
     "iopub.status.idle": "2021-08-03T13:43:26.571347Z",
     "shell.execute_reply": "2021-08-03T13:43:26.570798Z"
    }
   },
   "outputs": [
    {
     "name": "stdout",
     "output_type": "stream",
     "text": [
      "ans = 6\r\n"
     ]
    }
   ],
   "source": [
    "dec.nComponents"
   ]
  },
  {
   "cell_type": "markdown",
   "id": "0dfcdc87",
   "metadata": {},
   "source": [
    "These components correspond to the following physical elements ( see [arXiv:1610.01833](https://arxiv.org/abs/1610.01833) ) for more details:\n",
    "\n",
    "- The global normalization of probabilities\n",
    "- The difference of normalization between $x=y$ and $x\\ne y$\n",
    "- The difference of normalization between $x=0$ and $x=1$\n",
    "- The signaling between Alice and Bob\n",
    "- The marginal probabilities of Alice and Bob\n",
    "- The correlation between Alice and Bob"
   ]
  }
 ],
 "metadata": {
  "jupytext": {
   "cell_metadata_filter": "-all",
   "main_language": "matlab",
   "notebook_metadata_filter": "-all",
   "text_representation": {
    "extension": ".m",
    "format_name": "light"
   }
  },
  "language_info": {
   "file_extension": ".m",
   "help_links": [
    {
     "text": "GNU Octave",
     "url": "https://www.gnu.org/software/octave/support.html"
    },
    {
     "text": "Octave Kernel",
     "url": "https://github.com/Calysto/octave_kernel"
    },
    {
     "text": "MetaKernel Magics",
     "url": "https://metakernel.readthedocs.io/en/latest/source/README.html"
    }
   ],
   "mimetype": "text/x-octave",
   "name": "octave",
   "version": "6.2.0"
  }
 },
 "nbformat": 4,
 "nbformat_minor": 5
}
