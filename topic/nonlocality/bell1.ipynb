{
 "cells": [
  {
   "cell_type": "markdown",
   "id": "28c19fbc",
   "metadata": {},
   "source": [
    "# Symmetries in Bell nonlocality, part 1\n",
    "\n",
    "For a compact introduction to representation theory, see the [book of Jean-Pierre Serre](https://link.springer.com/book/10.1007/978-1-4684-9458-7).\n",
    "\n",
    "Follow the [installation instructions](https://replab.github.io/replab/docs/installation.html).\n",
    "\n",
    "Then add the RepLAB path. The path below is the one for the machine that produced this notebook! Replace by your own. Or, better, move to the root RepLAB folder and just run the `replab_init` script."
   ]
  },
  {
   "cell_type": "code",
   "execution_count": 1,
   "id": "d6d7c37c",
   "metadata": {
    "execution": {
     "iopub.execute_input": "2021-07-30T06:55:28.997972Z",
     "iopub.status.busy": "2021-07-30T06:55:28.997450Z",
     "iopub.status.idle": "2021-07-30T06:55:35.546738Z",
     "shell.execute_reply": "2021-07-30T06:55:35.546080Z"
    }
   },
   "outputs": [],
   "source": [
    "addpath([pwd, '/../../..']);\n",
    "replab_init('verbose', 0);"
   ]
  },
  {
   "cell_type": "markdown",
   "id": "cb3c2fa0",
   "metadata": {},
   "source": [
    "## Symmetries of the outcomes of a measurement\n",
    "\n",
    "We start by studying the symmetries of a single measurement on a quantum system. Let us say that the measurement has outcomes $a = 1, 2, \\ldots, k$.\n",
    "\n",
    "### Symmetry group\n",
    "\n",
    "We are interested in relabelings of these outcomes; those relabelings are represented by permutations. The group of all permutations of $k$ elements is the symmetric group of degree $k$, written $S_k$.\n",
    "\n",
    "For the motivation, see our [paper on the symmetries of nonlocality in the context of device-independence](https://arxiv.org/abs/1610.01833). See also the [description of the symmetric group on Wikipedia](https://en.wikipedia.org/wiki/Symmetric_group).\n",
    "\n",
    "In particular, there are different ways of writing elements of a symmetric group. RepLAB chooses to write down the permutation as the image row vector. For $\\pi \\in S_5$, we write $\\pi = [\\pi(1), \\pi(2), \\pi(3), \\pi(4), \\pi(5)]$ (using square brackets to distinguish this notation from the cycle notation), which corresponds to the *one-line notation* of https://en.wikipedia.org/wiki/Permutation#Notations .\n",
    "\n",
    "For the group axioms, Wikipedia has a [compact discussion](https://en.wikipedia.org/wiki/Group_(mathematics)) . When composing permutations, one needs to decide, for $\\pi, \\sigma \\in S_k$, how to compute the product $\\pi \\cdot \\sigma$. We make the choice of having $(\\pi \\cdot \\sigma)(a) = \\pi ( \\sigma (a))$, which corresponds to a left action, i.e. $\\sigma$ is applied first. See https://en.wikipedia.org/wiki/Permutation#Composition_of_permutations for details.\n",
    "\n",
    "This choice of composition corresponds to standard notation used in physics; however computational group theory uses a right action convention, most of the time using the *exponent notation*. Those notation choices should not concern the RepLAB user, as we made sure that the software uses consistent notation.\n",
    "\n",
    "Below, we construct the symmetric group $S_5$. The object `S5` we construct knows how to compose permutations, when they are written using row vectors of integers in Matlab/Octave. The composition example is the one from [Wikipedia](https://en.wikipedia.org/wiki/Symmetric_group#Multiplication), and we check that we recover the same results."
   ]
  },
  {
   "cell_type": "code",
   "execution_count": 2,
   "id": "858d92ec",
   "metadata": {
    "execution": {
     "iopub.execute_input": "2021-07-30T06:55:35.549820Z",
     "iopub.status.busy": "2021-07-30T06:55:35.549116Z",
     "iopub.status.idle": "2021-07-30T06:55:35.605265Z",
     "shell.execute_reply": "2021-07-30T06:55:35.604559Z"
    }
   },
   "outputs": [
    {
     "name": "stdout",
     "output_type": "stream",
     "text": [
      "warning: Direct constructor call is deprecated. Please call replab.S(n) instead of replab.SymmetricGroup(n)\r\n",
      "warning: called from\r\n",
      "    SymmetricGroup at line 46 column 17\r\n",
      "\r\n"
     ]
    },
    {
     "name": "stdout",
     "output_type": "stream",
     "text": [
      "f =\r\n",
      "\r\n",
      "   3   2   1   5   4\r\n",
      "\r\n"
     ]
    },
    {
     "name": "stdout",
     "output_type": "stream",
     "text": [
      "g =\r\n",
      "\r\n",
      "   2   5   4   3   1\r\n",
      "\r\n"
     ]
    },
    {
     "name": "stdout",
     "output_type": "stream",
     "text": [
      "fg =\r\n",
      "\r\n",
      "   2   4   5   1   3\r\n",
      "\r\n"
     ]
    }
   ],
   "source": [
    "S5 = replab.SymmetricGroup(5); % or shorter, S5 = replab.S(5)\n",
    "f = [3 2 1 5 4]\n",
    "g = [2 5 4 3 1]\n",
    "fg = S5.compose(f, g)"
   ]
  },
  {
   "cell_type": "markdown",
   "id": "1fb10af9",
   "metadata": {},
   "source": [
    "Note that permutations carry the size of their domain with them: the permutation $[2, 3, 1, 4]$ is not the same as the permutation $[2, 3, 1]$ even if both have the same action on $1,2,3$ and the first one leaves $4$ invariant."
   ]
  },
  {
   "cell_type": "markdown",
   "id": "5fd283a9",
   "metadata": {},
   "source": [
    "**Exercice**: for fun, try to run `S5.order`, `S5.inverse(f)`, `S5.elements`, `S5.sample`. Construct `S50 = replab.SymmetricGroup(50)`. Compute `S50.order`, and try `S50.elements`."
   ]
  },
  {
   "cell_type": "markdown",
   "id": "f86770d3",
   "metadata": {},
   "source": [
    "### Representation\n",
    "\n",
    "The distribution of outcomes of the measurement above can be represented by the distribution $P_\\text{A}(a)$. We can also represent the distribution as a vector $\\vec{P}_\\text{A} \\in V = \\mathbb{R}^5$, with the following enumeration of coefficients: $\\vec{P}_\\text{A}^\\top = \\left ( P_\\text{A}(1), P_\\text{A}(2),  P_\\text{A}(3),  P_\\text{A}(4) ,  P_\\text{A}(5) \\right )$ . This action of elements of $S_5$ on $V = \\mathbb{R}^5$ is encoded as a [group representation](https://en.wikipedia.org/wiki/Representation_theory#Definition); in RepLAB we call it the *defining representation* of $S_5$."
   ]
  },
  {
   "cell_type": "code",
   "execution_count": 3,
   "id": "c591be74",
   "metadata": {
    "execution": {
     "iopub.execute_input": "2021-07-30T06:55:35.608186Z",
     "iopub.status.busy": "2021-07-30T06:55:35.607710Z",
     "iopub.status.idle": "2021-07-30T06:55:35.907351Z",
     "shell.execute_reply": "2021-07-30T06:55:35.907709Z"
    }
   },
   "outputs": [
    {
     "name": "stdout",
     "output_type": "stream",
     "text": [
      "rep5 ="
     ]
    },
    {
     "name": "stdout",
     "output_type": "stream",
     "text": [
      "\r"
     ]
    },
    {
     "name": "stdout",
     "output_type": "stream",
     "text": [
      "\n"
     ]
    },
    {
     "name": "stdout",
     "output_type": "stream",
     "text": [
      "\r\n",
      "Orthogonal reducible representation\r\n",
      "          dimension: 5\r\n",
      "divisionAlgebraName: []\r\n",
      "              field: 'R'\r\n",
      "              group: Symmetric group acting on 5 elements\r\n",
      "   imagesErrorBound: [0, 0]\r\n",
      "          isUnitary: true\r\n",
      "           morphism: replab.mrp.PermToFiniteGroup\r\n",
      "       preimages{1}: [2, 3, 4, 5, 1]\r\n",
      "          images{1}: 5 x 5 double\r\n",
      "       preimages{2}: [2, 1, 3, 4, 5]\r\n",
      "          images{2}: 5 x 5 double\r\n",
      "\r\n"
     ]
    },
    {
     "name": "stdout",
     "output_type": "stream",
     "text": [
      "ans =\r\n",
      "\r\n",
      "   0   0   0   0   1\r\n",
      "   1   0   0   0   0\r\n",
      "   0   0   0   1   0\r\n",
      "   0   0   1   0   0\r\n",
      "   0   1   0   0   0\r\n",
      "\r\n"
     ]
    },
    {
     "name": "stdout",
     "output_type": "stream",
     "text": [
      "ans =\r\n",
      "\r\n",
      "   0   0   0   0   0\r\n",
      "   0   0   0   0   0\r\n",
      "   0   0   0   0   0\r\n",
      "   0   0   0   0   0\r\n",
      "   0   0   0   0   0\r\n",
      "\r\n"
     ]
    }
   ],
   "source": [
    "rep5 = S5.naturalRep\n",
    "rep5.image(g)\n",
    "rep5.image(f)*rep5.image(g) - rep5.image(S5.compose(f, g)) % check the representation composition axiom"
   ]
  },
  {
   "cell_type": "markdown",
   "id": "835eb1cb",
   "metadata": {},
   "source": [
    "### Invariant subspaces and subrepresentations\n",
    "\n",
    "Let $G$ be a group, and $\\rho: G \\to GL(V)$ a representation of $G$ on a vector space $V$. The space $GL(V)$ designates invertible linear maps from $V$ to $V$. In RepLAB, the vector space $V$ is defined either over the real or complex numbers.\n",
    "\n",
    "An invariant subspace of $V$ is a subspace $W \\subseteq V$ that stays invariant under the action of $\\rho$. Formally, we want for all $\\vec{w} \\in W$ and $g \\in G$ that $\\rho_g ~ \\vec{w} \\in W$.\n",
    "\n",
    "Any representation $V$ has two subrepresentations: the empty subspace $0$ and $V$ itself.\n",
    "\n",
    "For any permutation representation like `rep5` above, the subspace spanned by the vector of all ones $(1,1,1,1,1)^\\top$ is a subrepresentation: any vector of the form $(x,x,x,x,x)^\\top\\in\\mathbb{R}^5$ stays invariant under permutation of coefficients.\n",
    "\n",
    "The representations we construct are unitary, that is $\\rho_g^+ = \\rho_g^{-1} = \\rho_{g^{-1}}$. Most of the literature assumes unitarity \"without loss of generality\", as a finite dimensional nonunitary representation for a compact group can always be made unitary after a change of basis.\n",
    "\n",
    "With the other assumptions we make, this means that the orthogonal complement to $(1,1,1,1,1)^\\top$ is also an invariant subspace.\n",
    "\n",
    "By restricting a representation $\\rho$ to one of its invariant subspaces, one then defines a subrepresentation.\n",
    "\n",
    "A representation that has no invariant subspaces except $0$ and the full space $V$ is *irreducible*. The decomposition of a representation into irreducible representations can be obtained by recursively decomposing subrepresentations until the components are irreducible; obtaining that decomposition is pretty tricky, but luckily RepLAB automates that.\n",
    "\n",
    "We obtain this decomposition and consider the first irreducible subrepresentation: the vector of all ones. Note that RepLAB recovers a \"nice\" algebraic expression for the basis of that subspace if we apply the `nice` method on the decomposition; this works in a few cases, the rest of the time that basis will be numerical/approximate to floating-point precision. We also check how the representation looks in that invariant subspace."
   ]
  },
  {
   "cell_type": "code",
   "execution_count": 4,
   "id": "df53ae2d",
   "metadata": {
    "execution": {
     "iopub.execute_input": "2021-07-30T06:55:35.910815Z",
     "iopub.status.busy": "2021-07-30T06:55:35.910367Z",
     "iopub.status.idle": "2021-07-30T06:55:36.173441Z",
     "shell.execute_reply": "2021-07-30T06:55:36.173803Z"
    }
   },
   "outputs": [
    {
     "name": "stdout",
     "output_type": "stream",
     "text": [
      "D5 ="
     ]
    },
    {
     "name": "stdout",
     "output_type": "stream",
     "text": [
      "\r"
     ]
    },
    {
     "name": "stdout",
     "output_type": "stream",
     "text": [
      "\n"
     ]
    },
    {
     "name": "stdout",
     "output_type": "stream",
     "text": [
      "\r\n",
      "Orthogonal reducible representation\r\n",
      "          dimension: 5\r\n",
      "divisionAlgebraName: []\r\n",
      "              field: 'R'\r\n",
      "              group: Symmetric group acting on 5 elements\r\n",
      " injection_internal: 5 x 5 double\r\n",
      "       isSimilarRep: true\r\n",
      "          isUnitary: true\r\n",
      "     mapsAreAdjoint: true\r\n",
      "             parent: Orthogonal reducible representation\r\n",
      "projection_internal: 5 x 5 double\r\n",
      "  basis(1,'double'): [0.44721; 0.44721; 0.44721; 0.44721; 0.44721]\r\n",
      "  basis(2,'double'): [0.84912; -0.036829; -0.074639; -0.36883; -0.36883]\r\n",
      "  basis(3,'double'): [0.029872; 0.59445; -0.79452; 0.0851; 0.0851]\r\n",
      "  basis(4,'double'): [0.27947; -0.66729; -0.40394; 0.39588; 0.39588]\r\n",
      "  basis(5,'double'): [-8.9605e-18; 1.0576e-18; 2.0581e-17; 0.70711; -0.70711]\r\n",
      "       component(1): Isotypic component R(1) (trivial)\r\n",
      "       component(2): Isotypic component R(4) (nontrivial)\r\n",
      "\r\n"
     ]
    }
   ],
   "source": [
    "% The floating point approximate decomposition\n",
    "D5 = rep5.decomposition"
   ]
  },
  {
   "cell_type": "code",
   "execution_count": 5,
   "id": "19ad1627",
   "metadata": {
    "execution": {
     "iopub.execute_input": "2021-07-30T06:55:36.177071Z",
     "iopub.status.busy": "2021-07-30T06:55:36.176334Z",
     "iopub.status.idle": "2021-07-30T06:55:40.760878Z",
     "shell.execute_reply": "2021-07-30T06:55:40.760403Z"
    }
   },
   "outputs": [
    {
     "name": "stdout",
     "output_type": "stream",
     "text": [
      "N5 ="
     ]
    },
    {
     "name": "stdout",
     "output_type": "stream",
     "text": [
      "\r"
     ]
    },
    {
     "name": "stdout",
     "output_type": "stream",
     "text": [
      "\n"
     ]
    },
    {
     "name": "stdout",
     "output_type": "stream",
     "text": [
      "\r\n",
      "Real reducible representation\r\n",
      "          dimension: 5\r\n",
      "divisionAlgebraName: []\r\n",
      "              field: 'R'\r\n",
      "              group: Symmetric group acting on 5 elements\r\n",
      " injection_internal: 5 x 5 replab.cyclotomic\r\n",
      "       isSimilarRep: true\r\n",
      "          isUnitary: false\r\n",
      "     mapsAreAdjoint: false\r\n",
      "             parent: Orthogonal reducible representation\r\n",
      "projection_internal: 5 x 5 double\r\n",
      "  basis(1,'double'): [0.2; 0.2; 0.2; 0.2; 0.2]\r\n",
      "  basis(2,'double'): [0.8; -0.2; -0.2; -0.2; -0.2]\r\n",
      "  basis(3,'double'): [-0.2; 0.8; -0.2; -0.2; -0.2]\r\n",
      "  basis(4,'double'): [-0.2; -0.2; 0.8; -0.2; -0.2]\r\n",
      "  basis(5,'double'): [-0.2; -0.2; -0.2; 0.8; -0.2]\r\n",
      "       component(1): Isotypic component R(1) (trivial)\r\n",
      "       component(2): Isotypic component R(4) (nontrivial)\r\n",
      "\r\n"
     ]
    }
   ],
   "source": [
    "% Recovering nice coefficients for the basis\n",
    "N5 = D5.nice"
   ]
  },
  {
   "cell_type": "code",
   "execution_count": 6,
   "id": "88b873b3",
   "metadata": {
    "execution": {
     "iopub.execute_input": "2021-07-30T06:55:40.763928Z",
     "iopub.status.busy": "2021-07-30T06:55:40.763483Z",
     "iopub.status.idle": "2021-07-30T06:55:40.828748Z",
     "shell.execute_reply": "2021-07-30T06:55:40.828283Z"
    }
   },
   "outputs": [
    {
     "name": "stdout",
     "output_type": "stream",
     "text": [
      "subrep5a =\r\n",
      "\r\n",
      "Orthogonal trivial irreducible real-type subrepresentation\r\n",
      "          dimension: 1\r\n",
      "divisionAlgebraName: []\r\n",
      "              field: 'R'\r\n",
      "              group: Symmetric group acting on 5 elements\r\n",
      " injection_internal: [0.44721; 0.44721; 0.44721; 0.44721; 0.44721]\r\n",
      "       isSimilarRep: false\r\n",
      "          isUnitary: true\r\n",
      "     mapsAreAdjoint: true\r\n",
      "             parent: Orthogonal reducible representation\r\n",
      "projection_internal: [0.44721, 0.44721, 0.44721, 0.44721, 0.44721]\r\n",
      "  basis(1,'double'): [0.44721; 0.44721; 0.44721; 0.44721; 0.44721]\r\n",
      "\r\n"
     ]
    },
    {
     "name": "stdout",
     "output_type": "stream",
     "text": [
      "ans = 1\r\n"
     ]
    },
    {
     "name": "stdout",
     "output_type": "stream",
     "text": [
      "ans = 1\r\n"
     ]
    }
   ],
   "source": [
    "% Images in the subrepresentations\n",
    "subrep5a = D5.irrep(1) % this is the first irreducible component\n",
    "subrep5a.image(S5.generator(1))\n",
    "subrep5a.image(S5.generator(2))"
   ]
  },
  {
   "cell_type": "markdown",
   "id": "4d43a55a",
   "metadata": {},
   "source": [
    "We note that both generators of $S_5$ look like the identity matrix of dimension $1$ in that subrepresentation. Thus, any element of $S_5$ corresponds to the identity matrix for that subrepresentation. Such a representation with an identity image is the *trivial representation*.\n",
    "\n",
    "We move now to the other subrepresentation."
   ]
  },
  {
   "cell_type": "code",
   "execution_count": 7,
   "id": "5582962c",
   "metadata": {
    "execution": {
     "iopub.execute_input": "2021-07-30T06:55:40.831362Z",
     "iopub.status.busy": "2021-07-30T06:55:40.830915Z",
     "iopub.status.idle": "2021-07-30T06:55:40.936352Z",
     "shell.execute_reply": "2021-07-30T06:55:40.935947Z"
    }
   },
   "outputs": [
    {
     "name": "stdout",
     "output_type": "stream",
     "text": [
      "subrep5b =\r\n",
      "\r\n",
      "Orthogonal fully nontrivial irreducible real-type subrepresentation\r\n",
      "          dimension: 4\r\n",
      "divisionAlgebraName: []\r\n",
      "              field: 'R'\r\n",
      "              group: Symmetric group acting on 5 elements\r\n",
      " injection_internal: 5 x 4 double\r\n",
      "       isSimilarRep: false\r\n",
      "          isUnitary: true\r\n",
      "     mapsAreAdjoint: true\r\n",
      "             parent: Orthogonal reducible representation\r\n",
      "projection_internal: 4 x 5 double\r\n",
      "  basis(1,'double'): [0.84912; -0.036829; -0.074639; -0.36883; -0.36883]\r\n",
      "  basis(2,'double'): [0.029872; 0.59445; -0.79452; 0.0851; 0.0851]\r\n",
      "  basis(3,'double'): [0.27947; -0.66729; -0.40394; 0.39588; 0.39588]\r\n",
      "  basis(4,'double'): [-8.9605e-18; 1.0576e-18; 2.0581e-17; 0.70711; -0.70711]\r\n",
      "\r\n"
     ]
    },
    {
     "name": "stdout",
     "output_type": "stream",
     "text": [
      "ans =\r\n",
      "\r\n",
      "  -0.178140   0.288444   0.378640  -0.861219\r\n",
      "   0.485260  -0.512369   0.707443   0.039052\r\n",
      "  -0.830371  -0.517121   0.190509   0.082320\r\n",
      "   0.208022  -0.621984  -0.565564  -0.500000\r\n",
      "\r\n"
     ]
    },
    {
     "name": "stdout",
     "output_type": "stream",
     "text": [
      "ans =\r\n",
      "\r\n",
      "   2.1509e-01   5.0018e-01  -8.3878e-01   1.8978e-17\r\n",
      "   5.0018e-01   6.8126e-01   5.3451e-01  -2.4418e-17\r\n",
      "  -8.3878e-01   5.3451e-01   1.0365e-01   4.4773e-18\r\n",
      "   1.8978e-17  -2.4418e-17   4.4773e-18   1.0000e+00\r\n",
      "\r\n"
     ]
    }
   ],
   "source": [
    "subrep5b = D5.irrep(2)\n",
    "subrep5b.image(S5.generator(1))\n",
    "subrep5b.image(S5.generator(2))"
   ]
  },
  {
   "cell_type": "markdown",
   "id": "645458d7",
   "metadata": {},
   "source": [
    "Now the generators of $S_5$ look like they are doing something in that subrepresentation! That representation is actually the [standard representation](https://groupprops.subwiki.org/wiki/Standard_representation) of $S_5$.\n",
    "\n",
    "### Physical interpretation\n",
    "\n",
    "The physical interpretation of invariant subspaces is that they correspond to properties that are preserved under symmetry.\n",
    "\n",
    "In the present case, the split into the two subrepresentations highlight a property of probability distributions invariant under relabeling of outcomes, the *normalization* of the distribution.\n",
    "\n",
    "### The original representation in the basis that exhibits the decomposition\n",
    "\n",
    "The matrix $B$ is the change of basis that block diagonalizes the representation. Here, we can show that `rep5` has a 1x1 and 4x4 block structure in the relevant basis."
   ]
  },
  {
   "cell_type": "code",
   "execution_count": 8,
   "id": "93596c50",
   "metadata": {
    "execution": {
     "iopub.execute_input": "2021-07-30T06:55:40.939227Z",
     "iopub.status.busy": "2021-07-30T06:55:40.938791Z",
     "iopub.status.idle": "2021-07-30T06:55:40.968645Z",
     "shell.execute_reply": "2021-07-30T06:55:40.968180Z"
    }
   },
   "outputs": [
    {
     "name": "stdout",
     "output_type": "stream",
     "text": [
      "B =\r\n",
      "\r\n",
      "   4.4721e-01   8.4912e-01   2.9872e-02   2.7947e-01  -8.9605e-18\r\n",
      "   4.4721e-01  -3.6829e-02   5.9445e-01  -6.6729e-01   1.0576e-18\r\n",
      "   4.4721e-01  -7.4639e-02  -7.9452e-01  -4.0394e-01   2.0581e-17\r\n",
      "   4.4721e-01  -3.6883e-01   8.5100e-02   3.9588e-01   7.0711e-01\r\n",
      "   4.4721e-01  -3.6883e-01   8.5100e-02   3.9588e-01  -7.0711e-01\r\n",
      "\r\n"
     ]
    },
    {
     "name": "stdout",
     "output_type": "stream",
     "text": [
      "ans =\r\n",
      "\r\n",
      "   1.0000e+00   2.0937e-16   4.1985e-18  -1.1206e-16   8.5647e-17\r\n",
      "  -1.1320e-16  -1.7814e-01   2.8844e-01   3.7864e-01  -8.6122e-01\r\n",
      "   8.5862e-17   4.8526e-01  -5.1237e-01   7.0744e-01   3.9052e-02\r\n",
      "  -1.4988e-16  -8.3037e-01  -5.1712e-01   1.9051e-01   8.2320e-02\r\n",
      "  -2.9058e-17   2.0802e-01  -6.2198e-01  -5.6556e-01  -5.0000e-01\r\n",
      "\r\n"
     ]
    },
    {
     "name": "stdout",
     "output_type": "stream",
     "text": [
      "ans =\r\n",
      "\r\n",
      "   1.0000e+00   1.1291e-16  -2.3615e-16   2.0945e-16   1.1816e-16\r\n",
      "  -1.3694e-16   2.1509e-01   5.0018e-01  -8.3878e-01  -1.2456e-16\r\n",
      "   7.7469e-17   5.0018e-01   6.8126e-01   5.3451e-01  -5.4350e-17\r\n",
      "  -1.4096e-16  -8.3878e-01   5.3451e-01   1.0365e-01   1.1550e-16\r\n",
      "  -1.7174e-17   6.2668e-17   4.5559e-17  -8.5711e-17   1.0000e+00\r\n",
      "\r\n"
     ]
    }
   ],
   "source": [
    "B = D5.basis\n",
    "inv(B) * rep5.image(S5.generator(1)) * B\n",
    "inv(B) * rep5.image(S5.generator(2)) * B"
   ]
  },
  {
   "cell_type": "markdown",
   "id": "e519488f",
   "metadata": {},
   "source": [
    "## Another example\n",
    "\n",
    "To continue this discussion, we consider a measurement with two outcomes $a=1,2$. The symmetry group is now $S_2$, and has two elements: identity $[1,2]$ and flip $[2,1]$."
   ]
  },
  {
   "cell_type": "code",
   "execution_count": 9,
   "id": "030fdefa",
   "metadata": {
    "execution": {
     "iopub.execute_input": "2021-07-30T06:55:40.971261Z",
     "iopub.status.busy": "2021-07-30T06:55:40.970798Z",
     "iopub.status.idle": "2021-07-30T06:55:42.079388Z",
     "shell.execute_reply": "2021-07-30T06:55:42.078876Z"
    }
   },
   "outputs": [
    {
     "name": "stdout",
     "output_type": "stream",
     "text": [
      "warning: Direct constructor call is deprecated. Please call replab.S(n) instead of replab.SymmetricGroup(n)"
     ]
    },
    {
     "name": "stdout",
     "output_type": "stream",
     "text": [
      "\r"
     ]
    },
    {
     "name": "stdout",
     "output_type": "stream",
     "text": [
      "\n",
      "warning: called from"
     ]
    },
    {
     "name": "stdout",
     "output_type": "stream",
     "text": [
      "\r"
     ]
    },
    {
     "name": "stdout",
     "output_type": "stream",
     "text": [
      "\n",
      "    SymmetricGroup at line 46 column 17"
     ]
    },
    {
     "name": "stdout",
     "output_type": "stream",
     "text": [
      "\r"
     ]
    },
    {
     "name": "stdout",
     "output_type": "stream",
     "text": [
      "\n"
     ]
    },
    {
     "name": "stdout",
     "output_type": "stream",
     "text": [
      "\r"
     ]
    },
    {
     "name": "stdout",
     "output_type": "stream",
     "text": [
      "\n",
      "S2 ="
     ]
    },
    {
     "name": "stdout",
     "output_type": "stream",
     "text": [
      "\r"
     ]
    },
    {
     "name": "stdout",
     "output_type": "stream",
     "text": [
      "\n"
     ]
    },
    {
     "name": "stdout",
     "output_type": "stream",
     "text": [
      "\r\n",
      "Symmetric group acting on 2 elements\r\n",
      "            identity: [1, 2]\r\n",
      "generator(1 or 'x1'): [2, 1]\r\n",
      "    recognize.source: Cyclic group C(2) of order 2 < x | x^2 = 1 >\r\n",
      "\r\n"
     ]
    },
    {
     "name": "stdout",
     "output_type": "stream",
     "text": [
      "ans =\r\n",
      "\r\n",
      "Indexed family of 2 elements\r\n",
      "1 = [1, 2]\r\n",
      "2 = [2, 1]\r\n",
      "\r\n"
     ]
    }
   ],
   "source": [
    "S2 = replab.SymmetricGroup(2)\n",
    "S2.elements"
   ]
  },
  {
   "cell_type": "markdown",
   "id": "0dc10da8",
   "metadata": {},
   "source": [
    "The defining representation has two images: the identity $\\begin{pmatrix}1 & 0\\\\0 & 1\\end{pmatrix}$ and the flip $\\begin{pmatrix}0 & 1\\\\1 & 0 \\end{pmatrix}$."
   ]
  },
  {
   "cell_type": "code",
   "execution_count": 10,
   "id": "a0162d8b",
   "metadata": {
    "execution": {
     "iopub.execute_input": "2021-07-30T06:55:42.082397Z",
     "iopub.status.busy": "2021-07-30T06:55:42.081902Z",
     "iopub.status.idle": "2021-07-30T06:55:42.217642Z",
     "shell.execute_reply": "2021-07-30T06:55:42.216790Z"
    }
   },
   "outputs": [
    {
     "name": "stdout",
     "output_type": "stream",
     "text": [
      "rep2 ="
     ]
    },
    {
     "name": "stdout",
     "output_type": "stream",
     "text": [
      "\r"
     ]
    },
    {
     "name": "stdout",
     "output_type": "stream",
     "text": [
      "\n"
     ]
    },
    {
     "name": "stdout",
     "output_type": "stream",
     "text": [
      "\r\n",
      "Orthogonal reducible representation\r\n",
      "          dimension: 2\r\n",
      "divisionAlgebraName: []\r\n",
      "              field: 'R'\r\n",
      "              group: Symmetric group acting on 2 elements\r\n",
      "   imagesErrorBound: 0\r\n",
      "          isUnitary: true\r\n",
      "           morphism: replab.mrp.PermToFiniteGroup\r\n",
      "       preimages{1}: [2, 1]\r\n",
      "          images{1}: [0, 1; 1, 0]\r\n",
      "\r\n"
     ]
    },
    {
     "name": "stdout",
     "output_type": "stream",
     "text": [
      "ans =\r\n",
      "\r\n",
      "   1   0\r\n",
      "   0   1\r\n",
      "\r\n"
     ]
    },
    {
     "name": "stdout",
     "output_type": "stream",
     "text": [
      "ans =\r\n",
      "\r\n",
      "   0   1\r\n",
      "   1   0\r\n",
      "\r\n"
     ]
    }
   ],
   "source": [
    "rep2 = S2.naturalRep\n",
    "rep2.image([1,2])\n",
    "rep2.image([2,1])"
   ]
  },
  {
   "cell_type": "markdown",
   "id": "4fd56bd7",
   "metadata": {},
   "source": [
    "Now, one can check that the two subrepresentations correspond to vector spaces spanned by $(1,1)^\\top$ and $(1,-1)^\\top$ respectively."
   ]
  },
  {
   "cell_type": "code",
   "execution_count": 11,
   "id": "c96c73ff",
   "metadata": {
    "execution": {
     "iopub.execute_input": "2021-07-30T06:55:42.222355Z",
     "iopub.status.busy": "2021-07-30T06:55:42.221237Z",
     "iopub.status.idle": "2021-07-30T06:55:42.920662Z",
     "shell.execute_reply": "2021-07-30T06:55:42.921093Z"
    }
   },
   "outputs": [
    {
     "name": "stdout",
     "output_type": "stream",
     "text": [
      "D2 =\r\n",
      "\r\n",
      "Real reducible representation\r\n",
      "          dimension: 2\r\n",
      "divisionAlgebraName: []\r\n",
      "              field: 'R'\r\n",
      "              group: Symmetric group acting on 2 elements\r\n",
      " injection_internal: [1/2, 1/2; 1/2, -1/2]\r\n",
      "       isSimilarRep: true\r\n",
      "          isUnitary: false\r\n",
      "     mapsAreAdjoint: false\r\n",
      "             parent: Orthogonal reducible representation\r\n",
      "projection_internal: [1, 1; 1, -1]\r\n",
      "   basis(1,'exact'): [1/2; 1/2]\r\n",
      "   basis(2,'exact'): [1/2; -1/2]\r\n",
      "       component(1): Isotypic component R(1) (trivial)\r\n",
      "       component(2): Isotypic component R(1) (nontrivial)\r\n",
      "\r\n"
     ]
    },
    {
     "name": "stdout",
     "output_type": "stream",
     "text": [
      "ans =\r\n",
      "\r\n",
      "   0.5000\r\n",
      "   0.5000\r\n",
      "\r\n"
     ]
    },
    {
     "name": "stdout",
     "output_type": "stream",
     "text": [
      "ans =\r\n",
      "\r\n",
      "   0.5000\r\n",
      "  -0.5000\r\n",
      "\r\n"
     ]
    }
   ],
   "source": [
    "D2 = rep2.decomposition.nice\n",
    "D2.irrep(1).basis\n",
    "D2.irrep(2).basis"
   ]
  },
  {
   "cell_type": "markdown",
   "id": "083efcdb",
   "metadata": {},
   "source": [
    "Up to a multiplicative factor, these two vectors extract two quantities: $(1,1) \\cdot \\vec{P}$ computes the normalization, while $(1,-1) \\cdot \\vec{P}$ computes the correlator $P(1) - P(2)$ often used in quantum information for systems with binary outcomes.\n",
    "\n",
    "Note that the flip operation leaves $(1,1)$ invariant, while it changes the sign of $(1,-1)$. Accordingly, the subrepresentation in the subspace spanned by $(1,-1)$ is called the *sign representation*."
   ]
  },
  {
   "cell_type": "markdown",
   "id": "62d76f34",
   "metadata": {},
   "source": [
    "## Conditional probability distributions\n",
    "\n",
    "We now move to the study of conditional probability distributions $P_{A|X}(a|x)$. For simplicity, we consider binary outputs $a=1,2$ and binary inputs $x=1,2$. We enumerate the coefficients in a vector $\\vec{P} = (P(1|1), P(2|1), P(1|2), P(2|2))^\\top$.\n",
    "\n",
    "Different operations are available:\n",
    "\n",
    "- Permutation of inputs, which will permute coefficients of $\\vec{P}$ according to $g_1 = [3,4,1,2]$.\n",
    "\n",
    "- Permutation of outputs of the first measurement, which will permute $\\vec{P}$ according to $g_2 = [2,1,3,4]$.\n",
    "\n",
    "- The permutation of outputs of the second measurement is achieved by conjugating $g_2$ by $g_1$, i.e. by $g_1 ~ g_2 ~ g_1$, so we do not need to provide that group generator explicitly.\n",
    "\n",
    "We then construct the group $G=\\left <g_1, g_2 \\right>$ and its defining representation, which we decompose into irreducible subrepresentations."
   ]
  },
  {
   "cell_type": "code",
   "execution_count": 12,
   "id": "a1d9a99d",
   "metadata": {
    "execution": {
     "iopub.execute_input": "2021-07-30T06:55:42.923935Z",
     "iopub.status.busy": "2021-07-30T06:55:42.923452Z",
     "iopub.status.idle": "2021-07-30T06:55:50.160398Z",
     "shell.execute_reply": "2021-07-30T06:55:50.159982Z"
    }
   },
   "outputs": [
    {
     "name": "stdout",
     "output_type": "stream",
     "text": [
      "warning: Direct constructor call is deprecated. Please call replab.S(n) instead of replab.SymmetricGroup(n)\r\n",
      "warning: called from\r\n",
      "    SymmetricGroup at line 46 column 17\r\n",
      "\r\n"
     ]
    },
    {
     "name": "stdout",
     "output_type": "stream",
     "text": [
      "G ="
     ]
    },
    {
     "name": "stdout",
     "output_type": "stream",
     "text": [
      "\r"
     ]
    },
    {
     "name": "stdout",
     "output_type": "stream",
     "text": [
      "\n"
     ]
    },
    {
     "name": "stdout",
     "output_type": "stream",
     "text": [
      "\r\n",
      "Permutation group acting on 4 elements of order 8\r\n",
      "            identity: [1, 2, 3, 4]\r\n",
      "generator(1 or 'x1'): [3, 4, 1, 2]\r\n",
      "generator(2 or 'x2'): [2, 1, 3, 4]\r\n",
      "    recognize.source: Dihedral group of order 8\r\n",
      "\r\n"
     ]
    },
    {
     "name": "stdout",
     "output_type": "stream",
     "text": [
      "ans ="
     ]
    },
    {
     "name": "stdout",
     "output_type": "stream",
     "text": [
      "\r"
     ]
    },
    {
     "name": "stdout",
     "output_type": "stream",
     "text": [
      "\n"
     ]
    },
    {
     "name": "stdout",
     "output_type": "stream",
     "text": [
      "\r\n",
      "Indexed family of 8 elements\r\n",
      "1 = [1, 2, 3, 4]\r\n",
      "2 = [1, 2, 4, 3]\r\n",
      "3 = [2, 1, 3, 4]\r\n",
      "4 = [2, 1, 4, 3]\r\n",
      "5 = [3, 4, 1, 2]\r\n",
      "6 = [3, 4, 2, 1]\r\n",
      "7 = [4, 3, 1, 2]\r\n",
      "8 = [4, 3, 2, 1]\r\n",
      "\r\n"
     ]
    },
    {
     "name": "stdout",
     "output_type": "stream",
     "text": [
      "Grep ="
     ]
    },
    {
     "name": "stdout",
     "output_type": "stream",
     "text": [
      "\r"
     ]
    },
    {
     "name": "stdout",
     "output_type": "stream",
     "text": [
      "\n"
     ]
    },
    {
     "name": "stdout",
     "output_type": "stream",
     "text": [
      "\r\n",
      "Orthogonal reducible representation\r\n",
      "          dimension: 4\r\n",
      "divisionAlgebraName: []\r\n",
      "              field: 'R'\r\n",
      "              group: Permutation group acting on 4 elements of order 8\r\n",
      "   imagesErrorBound: [0, 0]\r\n",
      "          isUnitary: true\r\n",
      "           morphism: replab.mrp.PermToFiniteGroup\r\n",
      "       preimages{1}: [3, 4, 1, 2]\r\n",
      "          images{1}: [0, 0, 1, 0; 0, 0, 0, 1; 1, 0, 0, 0; 0, 1, 0, 0]\r\n",
      "       preimages{2}: [2, 1, 3, 4]\r\n",
      "          images{2}: [0, 1, 0, 0; 1, 0, 0, 0; 0, 0, 1, 0; 0, 0, 0, 1]\r\n",
      "\r\n"
     ]
    }
   ],
   "source": [
    "g1 = [3,4,1,2];\n",
    "g2 = [2,1,3,4];\n",
    "generators = {g1 g2}; % arrays of things in Matlab are cell arrays\n",
    "S4 = replab.SymmetricGroup(4);\n",
    "G = S4.subgroup(generators) % construction as a subgroup of a generic parent group\n",
    "G.elements\n",
    "Grep = G.naturalRep"
   ]
  },
  {
   "cell_type": "code",
   "execution_count": 13,
   "id": "a0a65a2c",
   "metadata": {
    "execution": {
     "iopub.execute_input": "2021-07-30T06:55:50.163401Z",
     "iopub.status.busy": "2021-07-30T06:55:50.162953Z",
     "iopub.status.idle": "2021-07-30T06:55:52.968752Z",
     "shell.execute_reply": "2021-07-30T06:55:52.968014Z"
    }
   },
   "outputs": [
    {
     "name": "stdout",
     "output_type": "stream",
     "text": [
      "Gdec ="
     ]
    },
    {
     "name": "stdout",
     "output_type": "stream",
     "text": [
      "\r"
     ]
    },
    {
     "name": "stdout",
     "output_type": "stream",
     "text": [
      "\n"
     ]
    },
    {
     "name": "stdout",
     "output_type": "stream",
     "text": [
      "\r\n",
      "Real reducible representation\r\n",
      "          dimension: 4\r\n",
      "divisionAlgebraName: []\r\n",
      "              field: 'R'\r\n",
      "              group: Permutation group acting on 4 elements of order 8\r\n",
      " injection_internal: 4 x 4 replab.cyclotomic\r\n",
      "       isSimilarRep: true\r\n",
      "          isUnitary: false\r\n",
      "     mapsAreAdjoint: false\r\n",
      "             parent: Orthogonal reducible representation\r\n",
      "projection_internal: [1, 1, 1, 1; 1, 1, -1, -1; 1, -1, 0, 0; 0, 0, 1, -1]\r\n",
      "   basis(1,'exact'): [1/4; 1/4; 1/4; 1/4]\r\n",
      "   basis(2,'exact'): [1/4; 1/4; -1/4; -1/4]\r\n",
      "   basis(3,'exact'): [1/2; -1/2; 0; 0]\r\n",
      "   basis(4,'exact'): [0; 0; 1/2; -1/2]\r\n",
      "       component(1): Isotypic component R(1) (trivial)\r\n",
      "       component(2): Isotypic component R(1) (nontrivial)\r\n",
      "       component(3): Isotypic component R(2) (nontrivial)\r\n",
      "\r\n"
     ]
    },
    {
     "name": "stdout",
     "output_type": "stream",
     "text": [
      "I1 =\r\n",
      "\r\n",
      "Real trivial irreducible real-type subrepresentation\r\n",
      "          dimension: 1\r\n",
      "divisionAlgebraName: []\r\n",
      "              field: 'R'\r\n",
      "              group: Permutation group acting on 4 elements of order 8\r\n",
      " injection_internal: [1/4; 1/4; 1/4; 1/4]\r\n",
      "       isSimilarRep: false\r\n",
      "          isUnitary: false\r\n",
      "     mapsAreAdjoint: false\r\n",
      "             parent: Orthogonal reducible representation\r\n",
      "projection_internal: [1, 1, 1, 1]\r\n",
      "   basis(1,'exact'): [1/4; 1/4; 1/4; 1/4]\r\n",
      "\r\n"
     ]
    },
    {
     "name": "stdout",
     "output_type": "stream",
     "text": [
      "I2 =\r\n",
      "\r\n",
      "Real fully nontrivial irreducible real-type subrepresentation\r\n",
      "          dimension: 1\r\n",
      "divisionAlgebraName: []\r\n",
      "              field: 'R'\r\n",
      "              group: Permutation group acting on 4 elements of order 8\r\n",
      " injection_internal: [1/4; 1/4; -1/4; -1/4]\r\n",
      "       isSimilarRep: false\r\n",
      "          isUnitary: false\r\n",
      "     mapsAreAdjoint: false\r\n",
      "             parent: Orthogonal reducible representation\r\n",
      "projection_internal: [1, 1, -1, -1]\r\n",
      "   basis(1,'exact'): [1/4; 1/4; -1/4; -1/4]\r\n",
      "\r\n"
     ]
    },
    {
     "name": "stdout",
     "output_type": "stream",
     "text": [
      "I3 =\r\n",
      "\r\n",
      "Real fully nontrivial irreducible real-type subrepresentation\r\n",
      "          dimension: 2\r\n",
      "divisionAlgebraName: []\r\n",
      "              field: 'R'\r\n",
      "              group: Permutation group acting on 4 elements of order 8\r\n",
      " injection_internal: [1/2, 0; -1/2, 0; 0, 1/2; 0, -1/2]\r\n",
      "       isSimilarRep: false\r\n",
      "          isUnitary: false\r\n",
      "     mapsAreAdjoint: false\r\n",
      "             parent: Orthogonal reducible representation\r\n",
      "projection_internal: [1, -1, 0, 0; 0, 0, 1, -1]\r\n",
      "   basis(1,'exact'): [1/2; -1/2; 0; 0]\r\n",
      "   basis(2,'exact'): [0; 0; 1/2; -1/2]\r\n",
      "\r\n"
     ]
    }
   ],
   "source": [
    "% Let's decompose this representation into irreducible subrepresentations\n",
    "Gdec = Grep.decomposition.nice\n",
    "I1 = Gdec.irrep(1)\n",
    "I2 = Gdec.irrep(2)\n",
    "I3 = Gdec.irrep(3)"
   ]
  },
  {
   "cell_type": "markdown",
   "id": "1d927646",
   "metadata": {},
   "source": [
    "What are the irreps we obtain? We have:\n",
    "\n",
    "- A first subspace encoding the overall normalization $(1,1,1,1) \\cdot \\vec{P} = 2$, by definition of $\\sum_{a} P(a|x) = 1$.\n",
    "\n",
    "- A second subspace encoding the difference in normalization between the condition $x=1$ and the condition $x=2$: $(1,1,-1,-1) \\cdot \\vec{P} = 0$.\n",
    "\n",
    "- The third subspace, after a change of basis vectors, corresponds to the binary correlators $(1,-1,0,0) \\cdot \\vec{P} = P(1|1) - P(2|1)$ and $(0,0,1,-1) \\cdot \\vec{P} = P(1|2) - P(2|2)$.\n",
    "\n",
    "We leave, as an exercice, the construction of the symmetry group of the CHSH scenario using its action on the joint conditional distribution $P_{AB|XY}(ab|xy)$ -- one should recover the results of [our paper](https://arxiv.org/abs/1610.01833)."
   ]
  },
  {
   "cell_type": "markdown",
   "id": "388260b2",
   "metadata": {},
   "source": [
    "## A final word of warning\n",
    "\n",
    "The presentation above glossed over an important concept: the decomposition of a representation into irreducible subrepresentations is essentially unique, up to the degeneracy afforded by multiplicities. Indeed, when several copies of the same representation appear, the decomposition into irreducible subrepresentation is not exactly unique; refer to the end of Chapter 2 of the book by Jean-Pierre Serre cited in the preface.\n",
    "\n",
    "In particular, the method `dec.irrep(i)` needs to be replaced by `dec.irrep(i,j)` where $i$ is the index of the irreducible representation type, and $j$ is the copy index.\n",
    "\n",
    "Also, if one works using real representations, there could be a difference in the irreducible decomposition when the representation is treated as a complex one. This is because the real field is not algebraically closed. Over the reals, there are three kinds of irreducible representations: RepLAB identifies and puts them in a canonical representation. Not to worry: representation of symmetric groups and derivatives (direct products and the like) are decomposed the same way over the real and complex numbers."
   ]
  }
 ],
 "metadata": {
  "jupytext": {
   "cell_metadata_filter": "-all",
   "main_language": "matlab",
   "notebook_metadata_filter": "-all",
   "text_representation": {
    "extension": ".m",
    "format_name": "light"
   }
  },
  "language_info": {
   "file_extension": ".m",
   "help_links": [
    {
     "text": "GNU Octave",
     "url": "https://www.gnu.org/software/octave/support.html"
    },
    {
     "text": "Octave Kernel",
     "url": "https://github.com/Calysto/octave_kernel"
    },
    {
     "text": "MetaKernel Magics",
     "url": "https://metakernel.readthedocs.io/en/latest/source/README.html"
    }
   ],
   "mimetype": "text/x-octave",
   "name": "octave",
   "version": "6.2.0"
  }
 },
 "nbformat": 4,
 "nbformat_minor": 5
}
