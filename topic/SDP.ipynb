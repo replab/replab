{
 "cells": [
  {
   "cell_type": "markdown",
   "id": "51768483",
   "metadata": {},
   "source": [
    "# Symmetric SDPs\n",
    "\n",
    "This document illustrated how *RepLAB* can be used to solve SemiDefinite Programs (SDP) subject to symmetries. Several methods for constructing\n",
    "SDPs subject to symmetries are presented.\n",
    "\n",
    "## Preparation\n",
    "As always, before using *RepLAB* commands, initialize the library:"
   ]
  },
  {
   "cell_type": "code",
   "execution_count": 1,
   "id": "9c0a8281",
   "metadata": {
    "execution": {
     "iopub.execute_input": "2021-12-10T15:55:58.014630Z",
     "iopub.status.busy": "2021-12-10T15:55:58.014154Z",
     "iopub.status.idle": "2021-12-10T15:56:04.133434Z",
     "shell.execute_reply": "2021-12-10T15:56:04.132935Z"
    }
   },
   "outputs": [
    {
     "name": "stdout",
     "output_type": "stream",
     "text": [
      "replab_init: Initialization done.\r\n"
     ]
    }
   ],
   "source": [
    "addpath([pwd, '/../..']);\n",
    "replab_init('verbose', 0);"
   ]
  },
  {
   "cell_type": "markdown",
   "id": "664814d7",
   "metadata": {
    "lines_to_next_cell": 2
   },
   "source": [
    "Commands in this document makes use ot the YALMIP interface to solve\n",
    "convex optimization problems, see\n",
    "<../installation.html installation instructions>."
   ]
  },
  {
   "cell_type": "markdown",
   "id": "101f0ea9",
   "metadata": {},
   "source": [
    "## Introduction\n",
    "\n",
    "[Semidefinite programming](https://en.wikipedia.org/wiki/Semidefinite_programming)\n",
    "is a form of optimization that admits semidefinite\n",
    "constraints (as in the condition that all eigenvalues of a matrix must be\n",
    "positive). It naturally arises in various fields, including operational\n",
    "research and polynomial optimization. \n",
    "\n",
    "The ability to solve a semidefinite program depends heavily on:\n",
    "\n",
    "* the size of the positive semi-definite (PSD) blocks\n",
    "* the number of variables and constraints involved\n",
    "\n",
    "A positive semi-definite matrix that is invariant under some joint\n",
    "permutation of its lines and columns can be decomposed into a block\n",
    "diagonal form. This allows to:\n",
    "\n",
    "* decompose PSD blocks into smaller PSD blocks\n",
    "* set many variables to zero, hence reducing the number of variables in the problem\n",
    "\n",
    "As we shows below, *RepLAB* performs this simplification automatically.\n",
    "\n",
    "## Formulating a symmetric SDP\n",
    "\n",
    "To illustrate the usage of *RepLAB* for symmetric SDPs, we consider a\n",
    "simple example involving a 3x3 matrix $M$ with trace 1 that is symmetric\n",
    "under cyclic permutation of its indices, i.e. it satisfies $M([2\\ 3\\ 1], [2\\ 3\\ 1]) = M$.\n",
    "We ask what is the smallest value that the off-diagonal element\n",
    "$M(1,2)$ can take if this matrix $M$ has only positive eigenvalues."
   ]
  },
  {
   "cell_type": "markdown",
   "id": "1b27af09",
   "metadata": {},
   "source": [
    "### Symmetric formulation\n",
    "\n",
    "Using *RepLAB*, we can solve this problem as follows.\n",
    "\n",
    "We start by defining a matrix which satisfies the desired symmetry"
   ]
  },
  {
   "cell_type": "code",
   "execution_count": 2,
   "id": "f70a19d5",
   "metadata": {
    "execution": {
     "iopub.execute_input": "2021-12-10T15:56:04.136450Z",
     "iopub.status.busy": "2021-12-10T15:56:04.136026Z",
     "iopub.status.idle": "2021-12-10T15:56:05.029959Z",
     "shell.execute_reply": "2021-12-10T15:56:05.029059Z"
    }
   },
   "outputs": [],
   "source": [
    "permutation = [2 3 1];\n",
    "MSym = replab.CommutantVar.fromPermutations({permutation}, 'symmetric', 'real');"
   ]
  },
  {
   "cell_type": "markdown",
   "id": "16173e18",
   "metadata": {},
   "source": [
    "We can then perform the optimization with:"
   ]
  },
  {
   "cell_type": "code",
   "execution_count": 3,
   "id": "d9388181",
   "metadata": {
    "execution": {
     "iopub.execute_input": "2021-12-10T15:56:05.032968Z",
     "iopub.status.busy": "2021-12-10T15:56:05.032515Z",
     "iopub.status.idle": "2021-12-10T15:56:08.059173Z",
     "shell.execute_reply": "2021-12-10T15:56:08.058338Z"
    }
   },
   "outputs": [
    {
     "name": "stdout",
     "output_type": "stream",
     "text": [
      "MSymOpt =\r\n",
      "\r\n",
      "   0.3333  -0.1667  -0.1667\r\n",
      "  -0.1667   0.3333  -0.1667\r\n",
      "  -0.1667  -0.1667   0.3333\r\n",
      "\r\n"
     ]
    }
   ],
   "source": [
    "constraintsSym = [trace(MSym) == 1, MSym >= 0];\n",
    "diagnosticSym = optimize(constraintsSym, MSym(1,2), sdpsettings('verbose', 0));\n",
    "MSymOpt = value(MSym)"
   ]
  },
  {
   "cell_type": "markdown",
   "id": "0d79f088",
   "metadata": {},
   "source": [
    "We find the critical value of $-1/6$.\n",
    "\n",
    "At the end of this page, we discuss how this formulation is more\n",
    "efficient than a direct formulation which would not take advantage of the\n",
    "symmetry properties of the considered matrix."
   ]
  },
  {
   "cell_type": "markdown",
   "id": "0644ef14",
   "metadata": {},
   "source": [
    "## Constructing a symmetric SDP matrix with additional structure\n",
    "\n",
    "An SDP matrix might sometimes be subject to more than only symmetry\n",
    "constraints. When these additional constraints take the form of equality\n",
    "between some of the matrix elements, it can be conveniently described by\n",
    "a matrix having at each element the index of the corresponding variable.\n",
    "All elements with identical index are then understood as being equal to\n",
    "each other.\n",
    "\n",
    "For instance, imposing on a 3x3 matrix that elements (1,1) ans (2,1) are\n",
    "must be equal to each other can be described by the following index\n",
    "matrix:"
   ]
  },
  {
   "cell_type": "code",
   "execution_count": 4,
   "id": "9bcc0ccf",
   "metadata": {
    "execution": {
     "iopub.execute_input": "2021-12-10T15:56:08.062148Z",
     "iopub.status.busy": "2021-12-10T15:56:08.061709Z",
     "iopub.status.idle": "2021-12-10T15:56:08.087743Z",
     "shell.execute_reply": "2021-12-10T15:56:08.087291Z"
    }
   },
   "outputs": [],
   "source": [
    "indexMatrix = [1 2 3\n",
    "               1 4 5\n",
    "               6 7 8];"
   ]
  },
  {
   "cell_type": "markdown",
   "id": "f9aacab6",
   "metadata": {},
   "source": [
    "An SDP matrix satisfying this constraint is then obtained"
   ]
  },
  {
   "cell_type": "code",
   "execution_count": 5,
   "id": "a11880a4",
   "metadata": {
    "execution": {
     "iopub.execute_input": "2021-12-10T15:56:08.091264Z",
     "iopub.status.busy": "2021-12-10T15:56:08.089938Z",
     "iopub.status.idle": "2021-12-10T15:56:08.555098Z",
     "shell.execute_reply": "2021-12-10T15:56:08.554238Z"
    }
   },
   "outputs": [
    {
     "name": "stdout",
     "output_type": "stream",
     "text": [
      "cstrSdpMatrix =\r\n",
      "\r\n",
      "Commutant variable 3x3 (2 blocks, 1 scalar variables)\r\n",
      "           dim: 3\r\n",
      "   dimensions1: [1, 2]\r\n",
      "         field: 'real'\r\n",
      "    matrixType: 'symmetric'\r\n",
      "multiplicities: [1, 1]\r\n",
      "         types: 'RC'\r\n",
      "             U: 3 x 3 double\r\n",
      "        blocks: [1, 2]\r\n",
      "\r\n"
     ]
    }
   ],
   "source": [
    "cstrSdpMatrix = replab.CommutantVar.fromIndexMatrix(indexMatrix, {permutation}, 'symmetric', 'real')"
   ]
  },
  {
   "cell_type": "markdown",
   "id": "c6b22629",
   "metadata": {
    "lines_to_next_cell": 2
   },
   "source": [
    "In this trivial case, the SDP matrix is left to contain only one variable: the additional constraints collapsed the all group orbits\n",
    "together."
   ]
  },
  {
   "cell_type": "markdown",
   "id": "7cda6149",
   "metadata": {},
   "source": [
    "## Imposing symmetry to an existing SDP matrix\n",
    "\n",
    "Symmetry constraints can also be straightforwardly imposed on existing SDP matrices with arbitrary structure.\n",
    "\n",
    "For instance, consider the following special SDP matrix"
   ]
  },
  {
   "cell_type": "code",
   "execution_count": 6,
   "id": "099d8328",
   "metadata": {
    "execution": {
     "iopub.execute_input": "2021-12-10T15:56:08.562441Z",
     "iopub.status.busy": "2021-12-10T15:56:08.561977Z",
     "iopub.status.idle": "2021-12-10T15:56:09.049837Z",
     "shell.execute_reply": "2021-12-10T15:56:09.049379Z"
    }
   },
   "outputs": [
    {
     "name": "stdout",
     "output_type": "stream",
     "text": [
      "Linear scalar (real, 1 variable)\r\n",
      "Coefficients range: 1 to 1\r\n"
     ]
    }
   ],
   "source": [
    "x = sdpvar;\n",
    "y = sdpvar\n",
    "MSpecial = [1 x y\n",
    "            x 1 y\n",
    "            x y 1];"
   ]
  },
  {
   "cell_type": "markdown",
   "id": "93337f08",
   "metadata": {},
   "source": [
    "We can directly impose cyclic symmetry onto this matrix:"
   ]
  },
  {
   "cell_type": "code",
   "execution_count": 7,
   "id": "92f9f2db",
   "metadata": {
    "execution": {
     "iopub.execute_input": "2021-12-10T15:56:09.053191Z",
     "iopub.status.busy": "2021-12-10T15:56:09.052741Z",
     "iopub.status.idle": "2021-12-10T15:56:09.888443Z",
     "shell.execute_reply": "2021-12-10T15:56:09.887994Z"
    }
   },
   "outputs": [
    {
     "name": "stdout",
     "output_type": "stream",
     "text": [
      "MSpecialSym ="
     ]
    },
    {
     "name": "stdout",
     "output_type": "stream",
     "text": [
      "\r"
     ]
    },
    {
     "name": "stdout",
     "output_type": "stream",
     "text": [
      "\n"
     ]
    },
    {
     "name": "stdout",
     "output_type": "stream",
     "text": [
      "\r\n",
      "Commutant variable 3x3 (2 blocks, 5 scalar variables)\r\n",
      "              dim: 3\r\n",
      "      dimensions1: [1, 2]\r\n",
      "            field: 'real'\r\n",
      "       matrixType: 'full'\r\n",
      "   multiplicities: [1, 1]\r\n",
      "            types: 'RC'\r\n",
      "                U: 3 x 3 double\r\n",
      "           blocks: [1, 2]\r\n",
      "linearConstraints: constraint\r\n",
      "\r\n"
     ]
    }
   ],
   "source": [
    "MSpecialSym = replab.CommutantVar.fromSdpMatrix(MSpecial, {[2 3 1]})"
   ]
  },
  {
   "cell_type": "markdown",
   "id": "ec9e7234",
   "metadata": {},
   "source": [
    "Requesting this matrix to be PSD now imposes both\n",
    "\n",
    "* Positivity of the 1x1 and 2x2 blocks\n",
    "* Equality with the imposed form\n",
    "\n",
    "as can be seen with"
   ]
  },
  {
   "cell_type": "code",
   "execution_count": 8,
   "id": "51848b89",
   "metadata": {
    "execution": {
     "iopub.execute_input": "2021-12-10T15:56:09.891358Z",
     "iopub.status.busy": "2021-12-10T15:56:09.890943Z",
     "iopub.status.idle": "2021-12-10T15:56:10.005326Z",
     "shell.execute_reply": "2021-12-10T15:56:10.004896Z"
    }
   },
   "outputs": [
    {
     "name": "stdout",
     "output_type": "stream",
     "text": [
      "+++++++++++++++++++++++++++++++++++++++++++++++++++++++++++\r\n",
      "|   ID|                    Constraint|   Coefficient range|\r\n",
      "+++++++++++++++++++++++++++++++++++++++++++++++++++++++++++\r\n",
      "|   #1|   Element-wise inequality 1x1|              1 to 1|\r\n",
      "|   #2|   Element-wise inequality 4x1|              1 to 1|\r\n",
      "|   #3|       Equality constraint 3x3|        0.33333 to 1|\r\n",
      "+++++++++++++++++++++++++++++++++++++++++++++++++++++++++++\r\n"
     ]
    }
   ],
   "source": [
    "MSpecialSym >= 0"
   ]
  },
  {
   "cell_type": "markdown",
   "id": "3dfb85b7",
   "metadata": {},
   "source": [
    "## Block-diagonalizing a symmetric SDP matrix\n",
    "\n",
    "When an SDP matrix is invariant under the considered permutations,\n",
    "*RepLAB* can be used to block-diagonalize it. This allows imposing the\n",
    "positivity of the matrix through the positivity of small blocks. As an\n",
    "example, consider the following matrix"
   ]
  },
  {
   "cell_type": "code",
   "execution_count": 9,
   "id": "f6e7dbce",
   "metadata": {
    "execution": {
     "iopub.execute_input": "2021-12-10T15:56:10.008767Z",
     "iopub.status.busy": "2021-12-10T15:56:10.008338Z",
     "iopub.status.idle": "2021-12-10T15:56:10.107426Z",
     "shell.execute_reply": "2021-12-10T15:56:10.106973Z"
    }
   },
   "outputs": [],
   "source": [
    "MInvariant = [x 1 y\n",
    "              y x 1\n",
    "              1 y x];"
   ]
  },
  {
   "cell_type": "markdown",
   "id": "86017486",
   "metadata": {},
   "source": [
    "It is indeed invariant:"
   ]
  },
  {
   "cell_type": "code",
   "execution_count": 10,
   "id": "5b6ca166",
   "metadata": {
    "execution": {
     "iopub.execute_input": "2021-12-10T15:56:10.110648Z",
     "iopub.status.busy": "2021-12-10T15:56:10.110181Z",
     "iopub.status.idle": "2021-12-10T15:56:10.127447Z",
     "shell.execute_reply": "2021-12-10T15:56:10.127795Z"
    }
   },
   "outputs": [
    {
     "name": "stdout",
     "output_type": "stream",
     "text": [
      "ans =\r\n",
      "\r\n",
      "   0   0   0\r\n",
      "   0   0   0\r\n",
      "   0   0   0\r\n",
      "\r\n"
     ]
    }
   ],
   "source": [
    "MInvariant - MInvariant(permutation,permutation)"
   ]
  },
  {
   "cell_type": "markdown",
   "id": "7ddc8b52",
   "metadata": {},
   "source": [
    "But not transpose-invariant (which is necessary for PSD matrices), so we enforce it:"
   ]
  },
  {
   "cell_type": "code",
   "execution_count": 11,
   "id": "f5c82970",
   "metadata": {
    "execution": {
     "iopub.execute_input": "2021-12-10T15:56:10.130873Z",
     "iopub.status.busy": "2021-12-10T15:56:10.130423Z",
     "iopub.status.idle": "2021-12-10T15:56:10.152976Z",
     "shell.execute_reply": "2021-12-10T15:56:10.152586Z"
    }
   },
   "outputs": [
    {
     "name": "stdout",
     "output_type": "stream",
     "text": [
      "ans =\r\n",
      "\r\n",
      "   0   0   0\r\n",
      "   0   0   0\r\n",
      "   0   0   0\r\n",
      "\r\n"
     ]
    }
   ],
   "source": [
    "MInvariant = MInvariant + MInvariant';\n",
    "MInvariant - MInvariant'"
   ]
  },
  {
   "cell_type": "markdown",
   "id": "4eb2dfcf",
   "metadata": {},
   "source": [
    "We can now block-diagonalize it by calling"
   ]
  },
  {
   "cell_type": "code",
   "execution_count": 12,
   "id": "d7156756",
   "metadata": {
    "execution": {
     "iopub.execute_input": "2021-12-10T15:56:10.156235Z",
     "iopub.status.busy": "2021-12-10T15:56:10.155816Z",
     "iopub.status.idle": "2021-12-10T15:56:10.428431Z",
     "shell.execute_reply": "2021-12-10T15:56:10.428792Z"
    }
   },
   "outputs": [
    {
     "name": "stdout",
     "output_type": "stream",
     "text": [
      "MInvariantBlock =\r\n",
      "\r\n",
      "Commutant variable 3x3 (2 blocks, 2 scalar variables)\r\n",
      "           dim: 3\r\n",
      "   dimensions1: [1, 2]\r\n",
      "         field: 'real'\r\n",
      "    matrixType: 'symmetric'\r\n",
      "multiplicities: [1, 1]\r\n",
      "         types: 'RC'\r\n",
      "             U: 3 x 3 double\r\n",
      "        blocks: [1, 2]\r\n",
      "\r\n"
     ]
    }
   ],
   "source": [
    "MInvariantBlock = replab.CommutantVar.fromSymSdpMatrix(MInvariant, {[2 3 1]})"
   ]
  },
  {
   "cell_type": "markdown",
   "id": "d99400c8",
   "metadata": {},
   "source": [
    "No new variable has been introduced in the new object, but the block structure has been found:"
   ]
  },
  {
   "cell_type": "code",
   "execution_count": 13,
   "id": "531572d1",
   "metadata": {
    "execution": {
     "iopub.execute_input": "2021-12-10T15:56:10.432389Z",
     "iopub.status.busy": "2021-12-10T15:56:10.431944Z",
     "iopub.status.idle": "2021-12-10T15:56:10.447848Z",
     "shell.execute_reply": "2021-12-10T15:56:10.448197Z"
    }
   },
   "outputs": [
    {
     "name": "stdout",
     "output_type": "stream",
     "text": [
      "ans =\r\n",
      "\r\n",
      "   1   0   0\r\n",
      "   0   1   1\r\n",
      "   0   1   1\r\n",
      "\r\n"
     ]
    }
   ],
   "source": [
    "full(MInvariantBlock.blockMask)"
   ]
  },
  {
   "cell_type": "markdown",
   "id": "560fb224",
   "metadata": {},
   "source": [
    "The block structure is used when requesting this matrix to be PSD:"
   ]
  },
  {
   "cell_type": "code",
   "execution_count": 14,
   "id": "8ceb8624",
   "metadata": {
    "execution": {
     "iopub.execute_input": "2021-12-10T15:56:10.451468Z",
     "iopub.status.busy": "2021-12-10T15:56:10.451021Z",
     "iopub.status.idle": "2021-12-10T15:56:10.533613Z",
     "shell.execute_reply": "2021-12-10T15:56:10.533999Z"
    }
   },
   "outputs": [
    {
     "name": "stdout",
     "output_type": "stream",
     "text": [
      "+++++++++++++++++++++++++++++++++++++++++++++++++++++++++++\r\n",
      "|   ID|                    Constraint|   Coefficient range|\r\n",
      "+++++++++++++++++++++++++++++++++++++++++++++++++++++++++++\r\n",
      "|   #1|   Element-wise inequality 1x1|              2 to 2|\r\n",
      "|   #2|         Matrix inequality 2x2|     2.7756e-17 to 2|\r\n",
      "+++++++++++++++++++++++++++++++++++++++++++++++++++++++++++\r\n"
     ]
    }
   ],
   "source": [
    "MInvariantBlock >= 0"
   ]
  },
  {
   "cell_type": "markdown",
   "id": "13765594",
   "metadata": {},
   "source": [
    "## Comparison with a direct formulation\n",
    "\n",
    "To conclude, let us show in more detail why the SDP formulation of a\n",
    "problem is more efficient if it takes advantage of the available symmetry\n",
    "properties. For this, we consider again the problem described at the\n",
    "beginning of this page. This problem can be solved directly as follows:"
   ]
  },
  {
   "cell_type": "code",
   "execution_count": 15,
   "id": "c6228e2a",
   "metadata": {
    "execution": {
     "iopub.execute_input": "2021-12-10T15:56:10.537686Z",
     "iopub.status.busy": "2021-12-10T15:56:10.537236Z",
     "iopub.status.idle": "2021-12-10T15:56:13.210972Z",
     "shell.execute_reply": "2021-12-10T15:56:13.210276Z"
    }
   },
   "outputs": [
    {
     "name": "stdout",
     "output_type": "stream",
     "text": [
      "diagnostic =\r\n",
      "\r\n",
      "  scalar structure containing the fields:\r\n",
      "\r\n",
      "    yalmipversion = 20200930\r\n",
      "    matlabversion = 6.2.0\r\n",
      "    yalmiptime = 0.1263\r\n",
      "    solvertime = 1.0386\r\n",
      "    info = Successfully solved (SDPT3-4)\r\n",
      "    problem = 0\r\n",
      "\r\n"
     ]
    },
    {
     "name": "stdout",
     "output_type": "stream",
     "text": [
      "MOpt =\r\n",
      "\r\n",
      "   0.3333  -0.1667  -0.1667\r\n",
      "  -0.1667   0.3333  -0.1667\r\n",
      "  -0.1667  -0.1667   0.3333\r\n",
      "\r\n"
     ]
    }
   ],
   "source": [
    "M = sdpvar(3);\n",
    "constraints = [trace(M) == 1, M(permutation, permutation) == M, M >= 0];\n",
    "diagnostic = optimize(constraints, M(1,2), sdpsettings('verbose', 0))\n",
    "MOpt = value(M)"
   ]
  },
  {
   "cell_type": "markdown",
   "id": "042b9281",
   "metadata": {},
   "source": [
    "Again, we find that the lowest possible value of $M(1,2)$ which is\n",
    "compatible with the matrix $M$ having only positive eigenvalues is\n",
    "$-1/6$. However, this last SDP problem is more complex than the first one\n",
    "which takes into account symmetries."
   ]
  },
  {
   "cell_type": "markdown",
   "id": "ebae3466",
   "metadata": {},
   "source": [
    "### Complexity comparison\n",
    "\n",
    "The symmetric formulation of the above problem involves fewer variables\n",
    "and simpler constraints, as summarized in the following table:\n",
    "\n",
    "| Formulation:           | Direct | Symmetric   |\n",
    "|------------------------|--------|-------------|\n",
    "| # variables            | 6      | 2           |\n",
    "| # equality constraints | 10     | 1           |\n",
    "| Size of PSD blocks     | 3      | 1x1 and 2x2 |"
   ]
  },
  {
   "cell_type": "markdown",
   "id": "aa7bb365",
   "metadata": {},
   "source": [
    "This can be checked by examining the variables involved. In the non-symmetrized case, we have"
   ]
  },
  {
   "cell_type": "code",
   "execution_count": 16,
   "id": "805d8949",
   "metadata": {
    "execution": {
     "iopub.execute_input": "2021-12-10T15:56:13.213910Z",
     "iopub.status.busy": "2021-12-10T15:56:13.213447Z",
     "iopub.status.idle": "2021-12-10T15:56:13.268582Z",
     "shell.execute_reply": "2021-12-10T15:56:13.268156Z"
    }
   },
   "outputs": [
    {
     "name": "stdout",
     "output_type": "stream",
     "text": [
      "Linear matrix variable 3x3 (symmetric, real, 6 variables)\r\n",
      "Eigenvalues between [-2.2285e-09,0.5]\r\n",
      "Coeffiecient range: 1 to 1\r\n"
     ]
    }
   ],
   "source": [
    "M"
   ]
  },
  {
   "cell_type": "code",
   "execution_count": 17,
   "id": "87c9f1d9",
   "metadata": {
    "execution": {
     "iopub.execute_input": "2021-12-10T15:56:13.271645Z",
     "iopub.status.busy": "2021-12-10T15:56:13.271223Z",
     "iopub.status.idle": "2021-12-10T15:56:13.385556Z",
     "shell.execute_reply": "2021-12-10T15:56:13.385146Z"
    }
   },
   "outputs": [
    {
     "name": "stdout",
     "output_type": "stream",
     "text": [
      "+++++++++++++++++++++++++++++++++++++++++++++++++++++++"
     ]
    },
    {
     "name": "stdout",
     "output_type": "stream",
     "text": [
      "\r"
     ]
    },
    {
     "name": "stdout",
     "output_type": "stream",
     "text": [
      "\n",
      "|   ID|                Constraint|   Coefficient range|"
     ]
    },
    {
     "name": "stdout",
     "output_type": "stream",
     "text": [
      "\r"
     ]
    },
    {
     "name": "stdout",
     "output_type": "stream",
     "text": [
      "\n",
      "+++++++++++++++++++++++++++++++++++++++++++++++++++++++"
     ]
    },
    {
     "name": "stdout",
     "output_type": "stream",
     "text": [
      "\r"
     ]
    },
    {
     "name": "stdout",
     "output_type": "stream",
     "text": [
      "\n",
      "|   #1|   Equality constraint 1x1|              1 to 1|"
     ]
    },
    {
     "name": "stdout",
     "output_type": "stream",
     "text": [
      "\r"
     ]
    },
    {
     "name": "stdout",
     "output_type": "stream",
     "text": [
      "\n",
      "|   #2|   Equality constraint 3x3|              1 to 1|"
     ]
    },
    {
     "name": "stdout",
     "output_type": "stream",
     "text": [
      "\r"
     ]
    },
    {
     "name": "stdout",
     "output_type": "stream",
     "text": [
      "\n",
      "|   #3|     Matrix inequality 3x3|              1 to 1|"
     ]
    },
    {
     "name": "stdout",
     "output_type": "stream",
     "text": [
      "\r"
     ]
    },
    {
     "name": "stdout",
     "output_type": "stream",
     "text": [
      "\n",
      "+++++++++++++++++++++++++++++++++++++++++++++++++++++++"
     ]
    },
    {
     "name": "stdout",
     "output_type": "stream",
     "text": [
      "\r\n"
     ]
    }
   ],
   "source": [
    "constraints"
   ]
  },
  {
   "cell_type": "markdown",
   "id": "3646e6a4",
   "metadata": {},
   "source": [
    "we see that it involves\n",
    "\n",
    "* 6 variables\n",
    "* 1+3x3=10 equality constraints\n",
    "* 1 PSD block of size 3x3\n",
    "\n",
    "In the symmetrized case, we have"
   ]
  },
  {
   "cell_type": "code",
   "execution_count": 18,
   "id": "24726a1a",
   "metadata": {
    "execution": {
     "iopub.execute_input": "2021-12-10T15:56:13.388594Z",
     "iopub.status.busy": "2021-12-10T15:56:13.388175Z",
     "iopub.status.idle": "2021-12-10T15:56:13.434968Z",
     "shell.execute_reply": "2021-12-10T15:56:13.434509Z"
    }
   },
   "outputs": [
    {
     "name": "stdout",
     "output_type": "stream",
     "text": [
      "MSym =\r\n",
      "\r\n",
      "Commutant variable 3x3 (2 blocks, 2 scalar variables)\r\n",
      "           dim: 3\r\n",
      "   dimensions1: [1, 2]\r\n",
      "         field: 'real'\r\n",
      "    matrixType: 'symmetric'\r\n",
      "multiplicities: [1, 1]\r\n",
      "         types: 'RC'\r\n",
      "             U: 3 x 3 double\r\n",
      "        blocks: [1, 2]\r\n",
      "\r\n"
     ]
    }
   ],
   "source": [
    "MSym"
   ]
  },
  {
   "cell_type": "markdown",
   "id": "45d3a47e",
   "metadata": {},
   "source": [
    "In other words, the matrix is made of two blocks of size 1x1 and 2x2, and\n",
    "involves altogether just 2 variables."
   ]
  },
  {
   "cell_type": "markdown",
   "id": "3759c56b",
   "metadata": {},
   "source": [
    "The constraints this time are"
   ]
  },
  {
   "cell_type": "code",
   "execution_count": 19,
   "id": "ffaf69eb",
   "metadata": {
    "execution": {
     "iopub.execute_input": "2021-12-10T15:56:13.441286Z",
     "iopub.status.busy": "2021-12-10T15:56:13.437070Z",
     "iopub.status.idle": "2021-12-10T15:56:13.551655Z",
     "shell.execute_reply": "2021-12-10T15:56:13.552038Z"
    }
   },
   "outputs": [
    {
     "name": "stdout",
     "output_type": "stream",
     "text": [
      "+++++++++++++++++++++++++++++++++++++++++++++++++++++++++++\r\n",
      "|   ID|                    Constraint|   Coefficient range|\r\n",
      "+++++++++++++++++++++++++++++++++++++++++++++++++++++++++++\r\n",
      "|   #1|       Equality constraint 1x1|              1 to 2|\r\n",
      "|   #2|   Element-wise inequality 1x1|              1 to 1|\r\n",
      "|   #3|         Matrix inequality 2x2|              1 to 1|\r\n",
      "+++++++++++++++++++++++++++++++++++++++++++++++++++++++++++\r\n"
     ]
    }
   ],
   "source": [
    "constraintsSym"
   ]
  },
  {
   "cell_type": "markdown",
   "id": "7f1d45a6",
   "metadata": {
    "lines_to_next_cell": 2
   },
   "source": [
    "This formulation thus involves:\n",
    "\n",
    "* 2 variables\n",
    "* 1 equality constraint\n",
    "* SDP blocks of size 1x1 and 2x2"
   ]
  }
 ],
 "metadata": {
  "jupytext": {
   "cell_metadata_filter": "-all",
   "main_language": "matlab",
   "notebook_metadata_filter": "-all",
   "text_representation": {
    "extension": ".m",
    "format_name": "light"
   }
  },
  "language_info": {
   "file_extension": ".m",
   "help_links": [
    {
     "text": "GNU Octave",
     "url": "https://www.gnu.org/software/octave/support.html"
    },
    {
     "text": "Octave Kernel",
     "url": "https://github.com/Calysto/octave_kernel"
    },
    {
     "text": "MetaKernel Magics",
     "url": "https://metakernel.readthedocs.io/en/latest/source/README.html"
    }
   ],
   "mimetype": "text/x-octave",
   "name": "octave",
   "version": "6.2.0"
  }
 },
 "nbformat": 4,
 "nbformat_minor": 5
}
