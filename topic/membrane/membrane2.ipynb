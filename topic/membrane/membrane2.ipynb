{
 "cells": [
  {
   "cell_type": "markdown",
   "id": "9a65becb",
   "metadata": {},
   "source": [
    "# Eigenvalue problem of a vibrating square membrane, part 2"
   ]
  },
  {
   "cell_type": "code",
   "execution_count": 1,
   "id": "0bde7dd6",
   "metadata": {
    "execution": {
     "iopub.execute_input": "2021-07-30T06:55:09.919774Z",
     "iopub.status.busy": "2021-07-30T06:55:09.919265Z",
     "iopub.status.idle": "2021-07-30T06:55:23.998570Z",
     "shell.execute_reply": "2021-07-30T06:55:23.997766Z"
    }
   },
   "outputs": [
    {
     "name": "stdout",
     "output_type": "stream",
     "text": [
      "DH ="
     ]
    },
    {
     "name": "stdout",
     "output_type": "stream",
     "text": [
      "\r"
     ]
    },
    {
     "name": "stdout",
     "output_type": "stream",
     "text": [
      "\n"
     ]
    },
    {
     "name": "stdout",
     "output_type": "stream",
     "text": [
      "\r\n",
      "Permutation group acting on 9 elements of order 8\r\n",
      "            identity: [1, 2, 3, 4, 5, 6, 7, 8, 9]\r\n",
      "generator(1 or 'x1'): [9, 6, 3, 8, 5, 2, 7, 4, 1]\r\n",
      "generator(2 or 'x2'): [3, 2, 1, 6, 5, 4, 9, 8, 7]\r\n",
      "    recognize.source: Dihedral group of order 8\r\n",
      "\r\n"
     ]
    },
    {
     "name": "stdout",
     "output_type": "stream",
     "text": [
      "error: subsref: unknown method or property: parent\r\n",
      "error: called from\r\n",
      "    fromTrivialSubRep at line 40 column 20\r\n",
      "    niceIsotypic at line 16 column 14\r\n",
      "    nice at line 391 column 17\r\n",
      "    nice at line 334 column 31\r\n"
     ]
    },
    {
     "name": "stdout",
     "output_type": "stream",
     "text": [
      "error: 'natDec' undefined near line 1, column 1\r\n"
     ]
    }
   ],
   "source": [
    "addpath([pwd, '/../../..']);\n",
    "replab_init('verbose', 0);\n",
    "g1 = [9 6 3 8 5 2 7 4 1];\n",
    "g2 = [3 2 1 6 5 4 9 8 7];\n",
    "DH = replab.PermutationGroup.of(g1, g2)\n",
    "natRep = DH.naturalRep;\n",
    "natDec = natRep.decomposition.nice;\n",
    "basis = natDec.basis;\n",
    "image1 = natRep.image(g1);\n",
    "image2 = natRep.image(g2);\n",
    "M=[4 -1 0 -1 0 0 0 0 0; -1 4 -1 0 -1 0 0 0 0; 0 -1 4 0 0 -1 0 0 0;\n",
    "    -1 0 0 4 -1 0 -1 0 0; 0 -1 0 -1 4 -1 0 -1 0; 0 0 -1 0 -1 4 0 0 -1;\n",
    "    0 0 0 -1 0 0 4 -1 0;0 0 0 0 -1 0 -1 4 -1 ; 0 0 0 0 0 -1 0 -1 4] ;"
   ]
  },
  {
   "cell_type": "markdown",
   "id": "83c89025",
   "metadata": {},
   "source": [
    "### The Block Diagonalization of the matrix $M$\n",
    "\n",
    "Before we go on and apply symmetrization to the matrix $M$, we have to be sure that our matrix has the symmetry of the representation $\\vartheta_{nat}$. In other words, the relation\n",
    "\\begin{align*}\n",
    "MD(s) = D(s)M\n",
    "\\end{align*}\n",
    "should be satisfied for every element $s$ in the dihedral group $D_4$, where $D(s)$ are the representing matrices in the natural representation. Since every other element of $D_4$ can be written as a composite of the generators, we only have to check if the above condition is met for the images of the generators $g_1$ and $g_2$."
   ]
  },
  {
   "cell_type": "code",
   "execution_count": 2,
   "id": "0042228c",
   "metadata": {
    "execution": {
     "iopub.execute_input": "2021-07-30T06:55:24.002007Z",
     "iopub.status.busy": "2021-07-30T06:55:24.001534Z",
     "iopub.status.idle": "2021-07-30T06:55:24.020639Z",
     "shell.execute_reply": "2021-07-30T06:55:24.019935Z"
    }
   },
   "outputs": [],
   "source": [
    "assert(isequal(M*image1,image1*M))\n",
    "assert(isequal(M*image2,image2*M))"
   ]
  },
  {
   "cell_type": "markdown",
   "id": "e6c7f544",
   "metadata": {},
   "source": [
    "Thus, because the matrix $M$ commutes with the images of the generators in $\\vartheta_{nat}$, the first condition for the block diagonalization is met."
   ]
  },
  {
   "cell_type": "markdown",
   "id": "bcd88369",
   "metadata": {},
   "source": [
    "Since we now have the knowledge of that, we can always pass to the coordinate system of that basis and find the form of the matrix $M$ with respect to the aforementioned column vectors. We further assume that the column vectors are a **symmetry adapted basis**, in a sense that the basis vectors of each isotypic component are transformed in exactly the same way under the representation. Taking into account the above table of the isotypic components and based on the existence of invariant subspaces of the representation, we deduce that the new $M$ matrix will contain $n_j$ square blocks of length $c_j$.\n",
    "\n",
    "To see how this can be accomplished, we apply a similarity transformation to the matrix $M$ in the following manner:"
   ]
  },
  {
   "cell_type": "code",
   "execution_count": 3,
   "id": "fd27993f",
   "metadata": {
    "execution": {
     "iopub.execute_input": "2021-07-30T06:55:24.023473Z",
     "iopub.status.busy": "2021-07-30T06:55:24.023021Z",
     "iopub.status.idle": "2021-07-30T06:55:24.044157Z",
     "shell.execute_reply": "2021-07-30T06:55:24.043740Z"
    }
   },
   "outputs": [
    {
     "name": "stdout",
     "output_type": "stream",
     "text": [
      "error: 'basis' undefined near line 1, column 1\r\n"
     ]
    }
   ],
   "source": [
    "M_block = inv(basis)*M*basis"
   ]
  },
  {
   "cell_type": "markdown",
   "id": "a02f47eb",
   "metadata": {},
   "source": [
    "Notice that in the new basis the matrix M acquires indeed a block-diagonal form, a fact that encodes the importance of the process of symmetrization for the eigenvalue problem. However, the careful reader may have noticed that for the last isotypic component we have one $4 \\times 4$ block instead of the two $2 \\times 2$ blocks that we expected. This contradiction stems from the fact that the column vectors for the 4th isotypic component are not a symmetry adapted basis in the way that we labelled our basis vectors.\n",
    "\n",
    "To further elucidate this point, note that, by Schur's Lemma, the blocks in the last isotypic component:"
   ]
  },
  {
   "cell_type": "code",
   "execution_count": 4,
   "id": "4f2895b3",
   "metadata": {
    "execution": {
     "iopub.execute_input": "2021-07-30T06:55:24.046738Z",
     "iopub.status.busy": "2021-07-30T06:55:24.046342Z",
     "iopub.status.idle": "2021-07-30T06:55:24.122325Z",
     "shell.execute_reply": "2021-07-30T06:55:24.121915Z"
    }
   },
   "outputs": [
    {
     "name": "stdout",
     "output_type": "stream",
     "text": [
      "error: 'M_block' undefined near line 1, column 1\r\n"
     ]
    },
    {
     "name": "stdout",
     "output_type": "stream",
     "text": [
      "error: 'M_block' undefined near line 1, column 1\r\n"
     ]
    },
    {
     "name": "stdout",
     "output_type": "stream",
     "text": [
      "error: 'M_block' undefined near line 1, column 1\r\n"
     ]
    },
    {
     "name": "stdout",
     "output_type": "stream",
     "text": [
      "error: 'M_block' undefined near line 1, column 1\r\n"
     ]
    }
   ],
   "source": [
    "M_block(6:7, 6:7);\n",
    "M_block(6:7, 8:9);\n",
    "M_block(8:9, 6:7);\n",
    "M_block(8:9, 8:9);"
   ]
  },
  {
   "cell_type": "markdown",
   "id": "9108a93c",
   "metadata": {},
   "source": [
    "will be scalar multiples of the identity matrix $\\mathbb{I}_2$. Hence, the $4 \\times 4$ block ``M_block(6:9,6:9)`` has the form $A \\otimes \\mathbb{I}_2$, where $A$ is a $2 \\times 2$ matrix that contains the non-zero values that appear in the block:"
   ]
  },
  {
   "cell_type": "code",
   "execution_count": 5,
   "id": "ecfc1c19",
   "metadata": {
    "execution": {
     "iopub.execute_input": "2021-07-30T06:55:24.125330Z",
     "iopub.status.busy": "2021-07-30T06:55:24.124851Z",
     "iopub.status.idle": "2021-07-30T06:55:24.150012Z",
     "shell.execute_reply": "2021-07-30T06:55:24.150395Z"
    }
   },
   "outputs": [
    {
     "name": "stdout",
     "output_type": "stream",
     "text": [
      "error: 'M_block' undefined near line 1, column 1\r\n"
     ]
    }
   ],
   "source": [
    "M_block(6:9,6:9)"
   ]
  },
  {
   "cell_type": "markdown",
   "id": "02faa625",
   "metadata": {},
   "source": [
    "Therefore, by permuting the rows and columns ``[6 7 8 9]`` $\\to$ ``[6 8 7 9]``, this block in the 4th isotypic component acquires the form $\\mathbb{I}_2 \\otimes A$, which is obviously block diagonal by the properties of the Kronecker product:"
   ]
  },
  {
   "cell_type": "code",
   "execution_count": 6,
   "id": "a7e9d418",
   "metadata": {
    "execution": {
     "iopub.execute_input": "2021-07-30T06:55:24.153272Z",
     "iopub.status.busy": "2021-07-30T06:55:24.152792Z",
     "iopub.status.idle": "2021-07-30T06:55:24.176776Z",
     "shell.execute_reply": "2021-07-30T06:55:24.177185Z"
    }
   },
   "outputs": [
    {
     "name": "stdout",
     "output_type": "stream",
     "text": [
      "error: 'M_block' undefined near line 1, column 1\r\n"
     ]
    }
   ],
   "source": [
    "M_block_Iso4 = M_block([6 8 7 9],[6 8 7 9])"
   ]
  },
  {
   "cell_type": "markdown",
   "id": "d5d77b7e",
   "metadata": {},
   "source": [
    "The take-away message is that this interchanging of rows and columns corresponds to a __rearrangement__ of the sequence of the __same basis vectors__ in this particular isotypic component, in order to make the invariance of the two 2-dimensional subspaces evident. Hence, what we are left with after the interchange is a block diagonal matrix, which contains a block-matrix for each of the isotypic components."
   ]
  },
  {
   "cell_type": "markdown",
   "id": "ad32dc79",
   "metadata": {},
   "source": [
    "As a result, having explicitly made use of the symmetries of our problem, we have reduced the eigenvalue problem of M to the $c_j$-dimensional eigenvalue problems:\n",
    "\n",
    "\\begin{align*}\n",
    "|M_j - \\lambda \\mathbb{I}_{c_j}| = 0 \\quad j=1,2,\\dots, N\n",
    "\\end{align*}\n",
    "\n",
    "where $M_j$ are the blocks of length $c_j$ that constitute the matrix $M$ and indicate the invariant nature of the subspaces.\n",
    "\n",
    "In other words, instead of solving the full eigenvalue problem for the sparse matrix $M$, we only have to take into account the $N$ blocks and solve a $c_j$-dimensional eigenvalue in each block. In this case, it can be checked that the characteristic polynomial of $M$ factors into a cubic and a quadratic equation."
   ]
  },
  {
   "cell_type": "markdown",
   "id": "143dfcbb",
   "metadata": {},
   "source": [
    "### Finding the eigenvalues and the eigenspaces\n",
    "\n",
    "We are now ready to solve the eigenvalue problem for the block-diagonal matrix $M$ and compute the eigenspaces that correspond to the eigenvalues $\\lambda$. To that end, we will treat each block that corresponds to an isotypic component seperately, as we have already established in the previous section.\n",
    "\n",
    "The block that is associated with the first isotypic component $V_1$ can be obtained by:"
   ]
  },
  {
   "cell_type": "code",
   "execution_count": 7,
   "id": "8795c507",
   "metadata": {
    "execution": {
     "iopub.execute_input": "2021-07-30T06:55:24.180140Z",
     "iopub.status.busy": "2021-07-30T06:55:24.179116Z",
     "iopub.status.idle": "2021-07-30T06:55:24.205766Z",
     "shell.execute_reply": "2021-07-30T06:55:24.205089Z"
    }
   },
   "outputs": [
    {
     "name": "stdout",
     "output_type": "stream",
     "text": [
      "error: 'M_block' undefined near line 1, column 1\r\n"
     ]
    }
   ],
   "source": [
    "Block1 = M_block(1:3,1:3)"
   ]
  },
  {
   "cell_type": "markdown",
   "id": "bd03bf82",
   "metadata": {},
   "source": [
    "We can now apply the *MATLAB/Octave* **eig** function directly to this particular block and obtain then eigenvalues and eigenvectors for the first component:"
   ]
  },
  {
   "cell_type": "code",
   "execution_count": 8,
   "id": "611bfac7",
   "metadata": {
    "execution": {
     "iopub.execute_input": "2021-07-30T06:55:24.208524Z",
     "iopub.status.busy": "2021-07-30T06:55:24.208084Z",
     "iopub.status.idle": "2021-07-30T06:55:24.229100Z",
     "shell.execute_reply": "2021-07-30T06:55:24.228665Z"
    }
   },
   "outputs": [
    {
     "name": "stdout",
     "output_type": "stream",
     "text": [
      "error: 'Block1' undefined near line 1, column 1\r\n"
     ]
    }
   ],
   "source": [
    "[U1,E1] = eig(Block1)"
   ]
  },
  {
   "cell_type": "markdown",
   "id": "52ef8c43",
   "metadata": {},
   "source": [
    "For the next isotypic components $V_2$ and $V_3$ the eigenvalue problem are rather trivial; in each component the eigenvalue is equal to 4, since the blocks are just scalars in these cases, whereas the eigenvector is the corresponding column vector in our basis, as we can easily verify:"
   ]
  },
  {
   "cell_type": "code",
   "execution_count": 9,
   "id": "4d75a779",
   "metadata": {
    "execution": {
     "iopub.execute_input": "2021-07-30T06:55:24.231949Z",
     "iopub.status.busy": "2021-07-30T06:55:24.231512Z",
     "iopub.status.idle": "2021-07-30T06:55:24.270206Z",
     "shell.execute_reply": "2021-07-30T06:55:24.269795Z"
    }
   },
   "outputs": [
    {
     "name": "stdout",
     "output_type": "stream",
     "text": [
      "error: 'M_block' undefined near line 1, column 1\r\n"
     ]
    },
    {
     "name": "stdout",
     "output_type": "stream",
     "text": [
      "error: 'Block2' undefined near line 1, column 1\r\n"
     ]
    }
   ],
   "source": [
    "Block2 = M_block(4,4)\n",
    "[U2,E2] = eig(Block2)"
   ]
  },
  {
   "cell_type": "code",
   "execution_count": 10,
   "id": "5d82e710",
   "metadata": {
    "execution": {
     "iopub.execute_input": "2021-07-30T06:55:24.272830Z",
     "iopub.status.busy": "2021-07-30T06:55:24.272365Z",
     "iopub.status.idle": "2021-07-30T06:55:24.310941Z",
     "shell.execute_reply": "2021-07-30T06:55:24.310237Z"
    }
   },
   "outputs": [
    {
     "name": "stdout",
     "output_type": "stream",
     "text": [
      "error: 'M_block' undefined near line 1, column 1\r\n"
     ]
    },
    {
     "name": "stdout",
     "output_type": "stream",
     "text": [
      "error: 'Block3' undefined near line 1, column 1\r\n"
     ]
    }
   ],
   "source": [
    "Block3 = M_block(5,5)\n",
    "[U3,E3] = eig(Block3)"
   ]
  },
  {
   "cell_type": "markdown",
   "id": "5c7d03ef",
   "metadata": {},
   "source": [
    "Similarly, the solutions of the eigenvalue problem for the last isotypic component $V_4$ can be computed using the block that we constructed earlier as follows:"
   ]
  },
  {
   "cell_type": "code",
   "execution_count": 11,
   "id": "d01a0bab",
   "metadata": {
    "execution": {
     "iopub.execute_input": "2021-07-30T06:55:24.313607Z",
     "iopub.status.busy": "2021-07-30T06:55:24.313162Z",
     "iopub.status.idle": "2021-07-30T06:55:24.346994Z",
     "shell.execute_reply": "2021-07-30T06:55:24.346459Z"
    }
   },
   "outputs": [
    {
     "name": "stdout",
     "output_type": "stream",
     "text": [
      "error: 'M_block_Iso4' undefined near line 1, column 1\r\n"
     ]
    },
    {
     "name": "stdout",
     "output_type": "stream",
     "text": [
      "error: 'Block4' undefined near line 1, column 1\r\n"
     ]
    }
   ],
   "source": [
    "Block4 = M_block_Iso4\n",
    "[U4,E4] = eig(Block4)"
   ]
  },
  {
   "cell_type": "markdown",
   "id": "5d041a94",
   "metadata": {},
   "source": [
    "What we have so far is a diagonal matrix $E_i$ that contains all the eigenvalues for the membrane's oscillation frequency, as well as a matrix $U_i$ that is constituted by the corresponding eigenvectors in each particular isotypic component $V_i$.\n",
    "\n",
    "Recall that the blocks had already been expressed in terms of the basis that manifests the invariance of the subspaces, namely the column vectors of our ``basis``. This means that the entries of the matrices $U_i$ are basically the coefficients in the linear combination with respect to the column basis vectors in each isotypic component. This fact will be proven useful in what follows, as it will enable us to find the eigenspaces $E_{\\lambda}$ for each eigenvalue $\\lambda$."
   ]
  },
  {
   "cell_type": "markdown",
   "id": "70d1cd68",
   "metadata": {},
   "source": [
    "### Extracting the ground oscillation state\n",
    "\n",
    "For example, we can compute the basis for the 1D-eigenspace that corresponds to the __ground state__, that is the eigenstate with the lowest eigenvalue. According to the diagonal matrix $E_1$, the lowest eigenvalue is $\\lambda_{GS} = 1.1716$ and the respective eigenvector can be read from the corresponding column of the matrix $U_1$. Moreover, if we let $x_1, x_2$ and $x_3$ be the symmetry adapted basis of the first isotypic component, then the basis vector of the eigenspace $E_{GS}$ will be given as a linear combination of the form $ax_1 + bx_2 + cx_3$, where the coefficients $a,b,c$ correspond to the non-zero elements of the third column of $U_1$.\n",
    "\n",
    "Following the above, we can extract the ground state as demonstrated below:"
   ]
  },
  {
   "cell_type": "code",
   "execution_count": 12,
   "id": "e6df1ffd",
   "metadata": {
    "execution": {
     "iopub.execute_input": "2021-07-30T06:55:24.350600Z",
     "iopub.status.busy": "2021-07-30T06:55:24.350088Z",
     "iopub.status.idle": "2021-07-30T06:55:24.411857Z",
     "shell.execute_reply": "2021-07-30T06:55:24.412201Z"
    }
   },
   "outputs": [
    {
     "name": "stdout",
     "output_type": "stream",
     "text": [
      "error: 'basis' undefined near line 1, column 1\r\n"
     ]
    },
    {
     "name": "stdout",
     "output_type": "stream",
     "text": [
      "error: 'E1' undefined near line 1, column 1\r\n"
     ]
    },
    {
     "name": "stdout",
     "output_type": "stream",
     "text": [
      "error: 'lowestIndex' undefined near line 1, column 1\r\n"
     ]
    },
    {
     "name": "stdout",
     "output_type": "stream",
     "text": [
      "error: 'gs' undefined near line 1, column 1\r\n"
     ]
    }
   ],
   "source": [
    "x1 = basis(:,1); x2 = basis(:,2); x3 = basis(:,3); % Define the basis vectors in the first isotypic component\n",
    "lowestIndex = find(diag(E1) == min(diag(E1))); % Identify the index of the lowest frequency\n",
    "gs = U1(1,lowestIndex)*x1 + U1(2,lowestIndex)*x2 + U1(3,lowestIndex)*x3; % Extract the coefficients for the linear combination\n",
    "GS_matrix = reshape(gs, [3 3])' % convert the column vector into a \"lattice function\""
   ]
  },
  {
   "cell_type": "markdown",
   "id": "8a1d49ef",
   "metadata": {},
   "source": [
    "This lattice function is the approximation to the ground oscillation of the membrane, since the numbers assigned to the nine points describe the displacements of the membrane at the corresponding positions."
   ]
  },
  {
   "cell_type": "markdown",
   "id": "2668ebd7",
   "metadata": {},
   "source": [
    "### Extracting the highest oscillation state\n",
    "\n",
    "In a completely analogous manner the lattice function for the oscillation with the highest eigenvalue can also be found. Since we have already sorted out the eigenvalues, we know that the eigenvector for this eigenspace is encoded in the first column of the matrix $U_1$, and it turns out that we can write the basis vector for this eigenstate as a linear combination of the basis of the first isotypic component as exemplified below"
   ]
  },
  {
   "cell_type": "code",
   "execution_count": 13,
   "id": "3efe82e5",
   "metadata": {
    "execution": {
     "iopub.execute_input": "2021-07-30T06:55:24.415273Z",
     "iopub.status.busy": "2021-07-30T06:55:24.414545Z",
     "iopub.status.idle": "2021-07-30T06:55:24.454229Z",
     "shell.execute_reply": "2021-07-30T06:55:24.453836Z"
    }
   },
   "outputs": [
    {
     "name": "stdout",
     "output_type": "stream",
     "text": [
      "error: 'E1' undefined near line 1, column 1\r\n"
     ]
    },
    {
     "name": "stdout",
     "output_type": "stream",
     "text": [
      "error: 'highestIndex' undefined near line 1, column 1\r\n"
     ]
    },
    {
     "name": "stdout",
     "output_type": "stream",
     "text": [
      "error: 'hs' undefined near line 1, column 1\r\n"
     ]
    }
   ],
   "source": [
    "highestIndex = find(diag(E1) == max(diag(E1))); % Identify the index of the highest frequency\n",
    "hs = U1(1,highestIndex)*x1 + U1(2,highestIndex)*x2 + U1(3,highestIndex)*x3;\n",
    "HS_matrix = reshape(hs,[3 3])'"
   ]
  },
  {
   "cell_type": "markdown",
   "id": "8f4ef648",
   "metadata": {},
   "source": [
    "Proceeding in a similar manner, we can get the basis for each of the eigenspaces $E_{\\lambda}$ and express it with respect to the reordered basis vectors in the isotypic components of the natural representation. Remember that the coefficients for the linear expansion can in principle be always read off from the columns of a matrix $U_i$."
   ]
  },
  {
   "cell_type": "markdown",
   "id": "68d1b80e",
   "metadata": {},
   "source": [
    "## Plotting the lattice functions for extreme cases\n",
    "\n",
    "As we now have the lattice functions for the ground and the highest oscillations, it is possible to construct some plots to further illustrate how the membrane is oscillating in these two extreme cases."
   ]
  },
  {
   "cell_type": "code",
   "execution_count": 14,
   "id": "65ac3439",
   "metadata": {
    "execution": {
     "iopub.execute_input": "2021-07-30T06:55:24.457040Z",
     "iopub.status.busy": "2021-07-30T06:55:24.456513Z",
     "iopub.status.idle": "2021-07-30T06:55:25.036653Z",
     "shell.execute_reply": "2021-07-30T06:55:25.037062Z"
    }
   },
   "outputs": [
    {
     "name": "stdout",
     "output_type": "stream",
     "text": [
      "error: 'GS_matrix' undefined near line 1, column 1\r\n"
     ]
    },
    {
     "name": "stdout",
     "output_type": "stream",
     "text": [
      "error: 'HS_matrix' undefined near line 1, column 1\r\n"
     ]
    },
    {
     "data": {
      "image/png": "[encoded data removed]",
      "text/plain": [
       "<IPython.core.display.Image object>"
      ]
     },
     "metadata": {},
     "output_type": "display_data"
    }
   ],
   "source": [
    "[s,t] = meshgrid(1:3);\n",
    "figure;\n",
    "subplot(1,2,1)\n",
    "surf(GS_matrix,'EdgeColor','red')\n",
    "colormap('jet')\n",
    "title('Ground Oscillation State')\n",
    "grid off;\n",
    "axis([1 3 1 3 -0.6 0.6])\n",
    "hold on\n",
    "plane=0*s;\n",
    "mesh(s,t,plane,'EdgeColor', 'green')\n",
    "hold off\n",
    "view(285,11)\n",
    "subplot(1,2,2)\n",
    "surf(HS_matrix,'EdgeColor','red')\n",
    "title('Highest Frequency State')\n",
    "axis([1 3 1 3 -0.6 0.6])\n",
    "view(285,11)\n",
    "grid off;"
   ]
  },
  {
   "cell_type": "markdown",
   "id": "8d4f0d31",
   "metadata": {},
   "source": [
    "The important thing to notice here is that in the **ground oscillation** the displacements of each of the lattice points have the same sign, thus recovering the result from the *theory of continuous oscillators* that the ground oscillation never vanishes in the interior of the membrane. On the other hand, as fas as the **oscillation with the highest frequency** is concerned, the displacements have a maximal number of sign changes. To clarify this, we have included in the plot the plane $z=0$, so that we can verify that between two positive displacements there is a negative one (this can be seen from the lattice function ``HS_matrix`` as well), leading to a maximum number of node lines in the membrane region. We refer the reader to the classical [texbook](https://onlinelibrary.wiley.com/doi/book/10.1002/9783527617210) of Courant and Hilbert for a complete treatment of vibrations and eigenvalue problems."
   ]
  },
  {
   "cell_type": "markdown",
   "id": "85377313",
   "metadata": {},
   "source": [
    "## Summary\n",
    "_________"
   ]
  },
  {
   "cell_type": "markdown",
   "id": "b0e5fc7e",
   "metadata": {},
   "source": [
    "In this tutorial, we have illustrated how group theoretical methods can be implemented in an eigenvalue problem when the operator in question is subject to symmetries and we indicated a way that *RepLAB* can act as a complement to numerically solve a toy model, namely the eigenvalue problem of an oscillating square membrane. In particular, we emphasized that we can arrive at the **block diagonalization** of the matrix $M$ with ease, provided that we make use of a unique feature of *RepLAB*: the change of basis matrix that it provides, every time we ask *RepLAB* to decompose a representation into its irreducible components.\n",
    "\n",
    "Before we close, even though we discretized the square region using only $n=9$ lattice points, thus asking for the dihedral group $D_4$ as a subgroup in the group $S_9$, a generalization of the method presented in this document is straighforward in arbitrary number of points. For instance, we could have employed a lattice with even more points and asking for $D_4$ as a subgroup in the symmetric group $S_n$. However, for the purposes of the current tutorial, we decided to use only 9 lattice points and focus on making clear how a block-diagonal structure for the matrix $M$ can be accomplished numerically in *RepLAB*."
   ]
  }
 ],
 "metadata": {
  "jupytext": {
   "formats": "ipynb,m:light",
   "text_representation": {
    "extension": ".m",
    "format_name": "light",
    "format_version": "1.5",
    "jupytext_version": "1.5.0"
   }
  },
  "kernelspec": {
   "display_name": "Octave",
   "language": "octave",
   "name": "octave"
  },
  "language_info": {
   "file_extension": ".m",
   "help_links": [
    {
     "text": "GNU Octave",
     "url": "https://www.gnu.org/software/octave/support.html"
    },
    {
     "text": "Octave Kernel",
     "url": "https://github.com/Calysto/octave_kernel"
    },
    {
     "text": "MetaKernel Magics",
     "url": "https://metakernel.readthedocs.io/en/latest/source/README.html"
    }
   ],
   "mimetype": "text/x-octave",
   "name": "octave",
   "version": "6.2.0"
  }
 },
 "nbformat": 4,
 "nbformat_minor": 5
}
