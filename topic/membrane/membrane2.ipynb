{
 "cells": [
  {
   "cell_type": "markdown",
   "id": "139cb130",
   "metadata": {},
   "source": [
    "# Eigenvalue problem of a vibrating square membrane, part 2"
   ]
  },
  {
   "cell_type": "code",
   "execution_count": 1,
   "id": "13275d0e",
   "metadata": {
    "execution": {
     "iopub.execute_input": "2021-09-08T14:53:37.820054Z",
     "iopub.status.busy": "2021-09-08T14:53:37.819639Z",
     "iopub.status.idle": "2021-09-08T14:53:53.420576Z",
     "shell.execute_reply": "2021-09-08T14:53:53.420012Z"
    }
   },
   "outputs": [
    {
     "name": "stdout",
     "output_type": "stream",
     "text": [
      "DH ="
     ]
    },
    {
     "name": "stdout",
     "output_type": "stream",
     "text": [
      "\r"
     ]
    },
    {
     "name": "stdout",
     "output_type": "stream",
     "text": [
      "\n"
     ]
    },
    {
     "name": "stdout",
     "output_type": "stream",
     "text": [
      "\r\n",
      "Permutation group acting on 9 elements of order 8\r\n",
      "            identity: [1, 2, 3, 4, 5, 6, 7, 8, 9]\r\n",
      "generator(1 or 'x1'): [9, 6, 3, 8, 5, 2, 7, 4, 1]\r\n",
      "generator(2 or 'x2'): [3, 2, 1, 6, 5, 4, 9, 8, 7]\r\n",
      "    recognize.source: Dihedral group of order 8\r\n",
      "\r\n"
     ]
    }
   ],
   "source": [
    "addpath([pwd, '/../../..']);\n",
    "replab_init('verbose', 0);\n",
    "g1 = [9 6 3 8 5 2 7 4 1];\n",
    "g2 = [3 2 1 6 5 4 9 8 7];\n",
    "DH = replab.PermutationGroup.of(g1, g2)\n",
    "natRep = DH.naturalRep;\n",
    "natDec = natRep.decomposition.nice;\n",
    "basis = natDec.basis;\n",
    "image1 = natRep.image(g1);\n",
    "image2 = natRep.image(g2);\n",
    "M=[4 -1 0 -1 0 0 0 0 0; -1 4 -1 0 -1 0 0 0 0; 0 -1 4 0 0 -1 0 0 0;\n",
    "    -1 0 0 4 -1 0 -1 0 0; 0 -1 0 -1 4 -1 0 -1 0; 0 0 -1 0 -1 4 0 0 -1;\n",
    "    0 0 0 -1 0 0 4 -1 0;0 0 0 0 -1 0 -1 4 -1 ; 0 0 0 0 0 -1 0 -1 4] ;"
   ]
  },
  {
   "cell_type": "markdown",
   "id": "e12046c1",
   "metadata": {},
   "source": [
    "### The Block Diagonalization of the matrix $M$\n",
    "\n",
    "Before we go on and apply symmetrization to the matrix $M$, we have to be sure that our matrix has the symmetry of the representation $\\vartheta_{nat}$. In other words, the relation\n",
    "\\begin{align*}\n",
    "MD(s) = D(s)M\n",
    "\\end{align*}\n",
    "should be satisfied for every element $s$ in the dihedral group $D_4$, where $D(s)$ are the representing matrices in the natural representation. Since every other element of $D_4$ can be written as a composite of the generators, we only have to check if the above condition is met for the images of the generators $g_1$ and $g_2$."
   ]
  },
  {
   "cell_type": "code",
   "execution_count": 2,
   "id": "15f29701",
   "metadata": {
    "execution": {
     "iopub.execute_input": "2021-09-08T14:53:53.423841Z",
     "iopub.status.busy": "2021-09-08T14:53:53.423223Z",
     "iopub.status.idle": "2021-09-08T14:53:53.440314Z",
     "shell.execute_reply": "2021-09-08T14:53:53.439577Z"
    }
   },
   "outputs": [],
   "source": [
    "assert(isequal(M*image1,image1*M))\n",
    "assert(isequal(M*image2,image2*M))"
   ]
  },
  {
   "cell_type": "markdown",
   "id": "6c5eb6f6",
   "metadata": {},
   "source": [
    "Thus, because the matrix $M$ commutes with the images of the generators in $\\vartheta_{nat}$, the first condition for the block diagonalization is met."
   ]
  },
  {
   "cell_type": "markdown",
   "id": "652d0af3",
   "metadata": {},
   "source": [
    "Since we now have the knowledge of that, we can always pass to the coordinate system of that basis and find the form of the matrix $M$ with respect to the aforementioned column vectors. We further assume that the column vectors are a **symmetry adapted basis**, in a sense that the basis vectors of each isotypic component are transformed in exactly the same way under the representation. Taking into account the above table of the isotypic components and based on the existence of invariant subspaces of the representation, we deduce that the new $M$ matrix will contain $n_j$ square blocks of length $c_j$.\n",
    "\n",
    "To see how this can be accomplished, we apply a similarity transformation to the matrix $M$ in the following manner:"
   ]
  },
  {
   "cell_type": "code",
   "execution_count": 3,
   "id": "9dad543a",
   "metadata": {
    "execution": {
     "iopub.execute_input": "2021-09-08T14:53:53.443049Z",
     "iopub.status.busy": "2021-09-08T14:53:53.442622Z",
     "iopub.status.idle": "2021-09-08T14:53:53.456762Z",
     "shell.execute_reply": "2021-09-08T14:53:53.456370Z"
    }
   },
   "outputs": [
    {
     "name": "stdout",
     "output_type": "stream",
     "text": [
      "M_block =\r\n",
      "\r\n",
      " Columns 1 through 8:\r\n",
      "\r\n",
      "   4.0000  -1.0000        0        0        0        0        0  -0.0000\r\n",
      "  -4.0000   4.0000  -2.0000        0  -0.0000  -0.0000  -0.0000   0.0000\r\n",
      "        0  -2.0000   4.0000   0.0000   0.0000   0.0000  -0.0000   0.0000\r\n",
      "        0        0        0   4.0000        0  -0.0000   0.0000   0.0000\r\n",
      "        0        0        0        0   4.0000   0.0000   0.0000  -0.0000\r\n",
      "        0        0        0        0        0   4.0000  -0.0000  -1.4142\r\n",
      "        0        0        0        0        0   0.0000   4.0000  -0.0000\r\n",
      "        0        0        0        0        0  -1.4142   0.0000   4.0000\r\n",
      "        0        0        0        0        0   0.0000  -1.4142  -0.0000\r\n",
      "\r\n",
      " Column 9:\r\n",
      "\r\n",
      "        0\r\n",
      "   0.0000\r\n",
      "  -0.0000\r\n",
      "   0.0000\r\n",
      "  -0.0000\r\n",
      "  -0.0000\r\n",
      "  -1.4142\r\n",
      "   0.0000\r\n",
      "   4.0000\r\n",
      "\r\n"
     ]
    }
   ],
   "source": [
    "M_block = inv(basis)*M*basis"
   ]
  },
  {
   "cell_type": "markdown",
   "id": "96b5e5e7",
   "metadata": {},
   "source": [
    "Notice that in the new basis the matrix M acquires indeed a block-diagonal form, a fact that encodes the importance of the process of symmetrization for the eigenvalue problem. However, the careful reader may have noticed that for the last isotypic component we have one $4 \\times 4$ block instead of the two $2 \\times 2$ blocks that we expected. This contradiction stems from the fact that the column vectors for the 4th isotypic component are not a symmetry adapted basis in the way that we labelled our basis vectors.\n",
    "\n",
    "To further elucidate this point, note that, by Schur's Lemma, the blocks in the last isotypic component:"
   ]
  },
  {
   "cell_type": "code",
   "execution_count": 4,
   "id": "544d113c",
   "metadata": {
    "execution": {
     "iopub.execute_input": "2021-09-08T14:53:53.459493Z",
     "iopub.status.busy": "2021-09-08T14:53:53.459080Z",
     "iopub.status.idle": "2021-09-08T14:53:53.485173Z",
     "shell.execute_reply": "2021-09-08T14:53:53.484786Z"
    }
   },
   "outputs": [],
   "source": [
    "M_block(6:7, 6:7);\n",
    "M_block(6:7, 8:9);\n",
    "M_block(8:9, 6:7);\n",
    "M_block(8:9, 8:9);"
   ]
  },
  {
   "cell_type": "markdown",
   "id": "c8794458",
   "metadata": {},
   "source": [
    "will be scalar multiples of the identity matrix $\\mathbb{I}_2$. Hence, the $4 \\times 4$ block ``M_block(6:9,6:9)`` has the form $A \\otimes \\mathbb{I}_2$, where $A$ is a $2 \\times 2$ matrix that contains the non-zero values that appear in the block:"
   ]
  },
  {
   "cell_type": "code",
   "execution_count": 5,
   "id": "b82c3e45",
   "metadata": {
    "execution": {
     "iopub.execute_input": "2021-09-08T14:53:53.487924Z",
     "iopub.status.busy": "2021-09-08T14:53:53.487520Z",
     "iopub.status.idle": "2021-09-08T14:53:53.500203Z",
     "shell.execute_reply": "2021-09-08T14:53:53.499838Z"
    }
   },
   "outputs": [
    {
     "name": "stdout",
     "output_type": "stream",
     "text": [
      "ans =\r\n",
      "\r\n",
      "   4.0000e+00  -1.1797e-16  -1.4142e+00  -1.9256e-16\r\n",
      "   2.0702e-18   4.0000e+00  -3.8907e-16  -1.4142e+00\r\n",
      "  -1.4142e+00   2.0540e-16   4.0000e+00   2.6501e-16\r\n",
      "   3.6013e-16  -1.4142e+00  -3.7724e-17   4.0000e+00\r\n",
      "\r\n"
     ]
    }
   ],
   "source": [
    "M_block(6:9,6:9)"
   ]
  },
  {
   "cell_type": "markdown",
   "id": "0b879756",
   "metadata": {},
   "source": [
    "Therefore, by permuting the rows and columns ``[6 7 8 9]`` $\\to$ ``[6 8 7 9]``, this block in the 4th isotypic component acquires the form $\\mathbb{I}_2 \\otimes A$, which is obviously block diagonal by the properties of the Kronecker product:"
   ]
  },
  {
   "cell_type": "code",
   "execution_count": 6,
   "id": "c545fe22",
   "metadata": {
    "execution": {
     "iopub.execute_input": "2021-09-08T14:53:53.502875Z",
     "iopub.status.busy": "2021-09-08T14:53:53.502467Z",
     "iopub.status.idle": "2021-09-08T14:53:53.515063Z",
     "shell.execute_reply": "2021-09-08T14:53:53.514697Z"
    }
   },
   "outputs": [
    {
     "name": "stdout",
     "output_type": "stream",
     "text": [
      "M_block_Iso4 =\r\n",
      "\r\n",
      "   4.0000e+00  -1.4142e+00  -1.1797e-16  -1.9256e-16\r\n",
      "  -1.4142e+00   4.0000e+00   2.0540e-16   2.6501e-16\r\n",
      "   2.0702e-18  -3.8907e-16   4.0000e+00  -1.4142e+00\r\n",
      "   3.6013e-16  -3.7724e-17  -1.4142e+00   4.0000e+00\r\n",
      "\r\n"
     ]
    }
   ],
   "source": [
    "M_block_Iso4 = M_block([6 8 7 9],[6 8 7 9])"
   ]
  },
  {
   "cell_type": "markdown",
   "id": "29be2670",
   "metadata": {},
   "source": [
    "The take-away message is that this interchanging of rows and columns corresponds to a __rearrangement__ of the sequence of the __same basis vectors__ in this particular isotypic component, in order to make the invariance of the two 2-dimensional subspaces evident. Hence, what we are left with after the interchange is a block diagonal matrix, which contains a block-matrix for each of the isotypic components."
   ]
  },
  {
   "cell_type": "markdown",
   "id": "048d8c72",
   "metadata": {},
   "source": [
    "As a result, having explicitly made use of the symmetries of our problem, we have reduced the eigenvalue problem of M to the $c_j$-dimensional eigenvalue problems:\n",
    "\n",
    "\\begin{align*}\n",
    "|M_j - \\lambda \\mathbb{I}_{c_j}| = 0 \\quad j=1,2,\\dots, N\n",
    "\\end{align*}\n",
    "\n",
    "where $M_j$ are the blocks of length $c_j$ that constitute the matrix $M$ and indicate the invariant nature of the subspaces.\n",
    "\n",
    "In other words, instead of solving the full eigenvalue problem for the sparse matrix $M$, we only have to take into account the $N$ blocks and solve a $c_j$-dimensional eigenvalue in each block. In this case, it can be checked that the characteristic polynomial of $M$ factors into a cubic and a quadratic equation."
   ]
  },
  {
   "cell_type": "markdown",
   "id": "e2e19994",
   "metadata": {},
   "source": [
    "### Finding the eigenvalues and the eigenspaces\n",
    "\n",
    "We are now ready to solve the eigenvalue problem for the block-diagonal matrix $M$ and compute the eigenspaces that correspond to the eigenvalues $\\lambda$. To that end, we will treat each block that corresponds to an isotypic component seperately, as we have already established in the previous section.\n",
    "\n",
    "The block that is associated with the first isotypic component $V_1$ can be obtained by:"
   ]
  },
  {
   "cell_type": "code",
   "execution_count": 7,
   "id": "4a86532a",
   "metadata": {
    "execution": {
     "iopub.execute_input": "2021-09-08T14:53:53.517774Z",
     "iopub.status.busy": "2021-09-08T14:53:53.517370Z",
     "iopub.status.idle": "2021-09-08T14:53:53.529080Z",
     "shell.execute_reply": "2021-09-08T14:53:53.529391Z"
    }
   },
   "outputs": [
    {
     "name": "stdout",
     "output_type": "stream",
     "text": [
      "Block1 =\r\n",
      "\r\n",
      "   4.0000  -1.0000        0\r\n",
      "  -4.0000   4.0000  -2.0000\r\n",
      "        0  -2.0000   4.0000\r\n",
      "\r\n"
     ]
    }
   ],
   "source": [
    "Block1 = M_block(1:3,1:3)"
   ]
  },
  {
   "cell_type": "markdown",
   "id": "15c95d22",
   "metadata": {},
   "source": [
    "We can now apply the *MATLAB/Octave* **eig** function directly to this particular block and obtain then eigenvalues and eigenvectors for the first component:"
   ]
  },
  {
   "cell_type": "code",
   "execution_count": 8,
   "id": "4e2dd315",
   "metadata": {
    "execution": {
     "iopub.execute_input": "2021-09-08T14:53:53.531738Z",
     "iopub.status.busy": "2021-09-08T14:53:53.531339Z",
     "iopub.status.idle": "2021-09-08T14:53:53.543992Z",
     "shell.execute_reply": "2021-09-08T14:53:53.543650Z"
    }
   },
   "outputs": [
    {
     "name": "stdout",
     "output_type": "stream",
     "text": [
      "U1 =\r\n",
      "\r\n",
      "   0.2774   0.4472   0.2774\r\n",
      "  -0.7845        0   0.7845\r\n",
      "   0.5547  -0.8944   0.5547\r\n",
      "\r\n",
      "E1 =\r\n",
      "\r\n",
      "Diagonal Matrix\r\n",
      "\r\n",
      "   6.8284        0        0\r\n",
      "        0   4.0000        0\r\n",
      "        0        0   1.1716\r\n",
      "\r\n"
     ]
    }
   ],
   "source": [
    "[U1,E1] = eig(Block1)"
   ]
  },
  {
   "cell_type": "markdown",
   "id": "2778f835",
   "metadata": {},
   "source": [
    "For the next isotypic components $V_2$ and $V_3$ the eigenvalue problem are rather trivial; in each component the eigenvalue is equal to 4, since the blocks are just scalars in these cases, whereas the eigenvector is the corresponding column vector in our basis, as we can easily verify:"
   ]
  },
  {
   "cell_type": "code",
   "execution_count": 9,
   "id": "4ebfdfed",
   "metadata": {
    "execution": {
     "iopub.execute_input": "2021-09-08T14:53:53.546390Z",
     "iopub.status.busy": "2021-09-08T14:53:53.545975Z",
     "iopub.status.idle": "2021-09-08T14:53:53.562297Z",
     "shell.execute_reply": "2021-09-08T14:53:53.561890Z"
    }
   },
   "outputs": [
    {
     "name": "stdout",
     "output_type": "stream",
     "text": [
      "Block2 = 4\r\n"
     ]
    },
    {
     "name": "stdout",
     "output_type": "stream",
     "text": [
      "U2 = 1\r\n",
      "E2 = 4\r\n"
     ]
    }
   ],
   "source": [
    "Block2 = M_block(4,4)\n",
    "[U2,E2] = eig(Block2)"
   ]
  },
  {
   "cell_type": "code",
   "execution_count": 10,
   "id": "77cfac02",
   "metadata": {
    "execution": {
     "iopub.execute_input": "2021-09-08T14:53:53.564676Z",
     "iopub.status.busy": "2021-09-08T14:53:53.564278Z",
     "iopub.status.idle": "2021-09-08T14:53:53.581413Z",
     "shell.execute_reply": "2021-09-08T14:53:53.581063Z"
    }
   },
   "outputs": [
    {
     "name": "stdout",
     "output_type": "stream",
     "text": [
      "Block3 = 4\r\n"
     ]
    },
    {
     "name": "stdout",
     "output_type": "stream",
     "text": [
      "U3 = 1\r\n",
      "E3 = 4\r\n"
     ]
    }
   ],
   "source": [
    "Block3 = M_block(5,5)\n",
    "[U3,E3] = eig(Block3)"
   ]
  },
  {
   "cell_type": "markdown",
   "id": "8023d2e7",
   "metadata": {},
   "source": [
    "Similarly, the solutions of the eigenvalue problem for the last isotypic component $V_4$ can be computed using the block that we constructed earlier as follows:"
   ]
  },
  {
   "cell_type": "code",
   "execution_count": 11,
   "id": "1b6dd74f",
   "metadata": {
    "execution": {
     "iopub.execute_input": "2021-09-08T14:53:53.583996Z",
     "iopub.status.busy": "2021-09-08T14:53:53.583591Z",
     "iopub.status.idle": "2021-09-08T14:53:53.600386Z",
     "shell.execute_reply": "2021-09-08T14:53:53.600728Z"
    }
   },
   "outputs": [
    {
     "name": "stdout",
     "output_type": "stream",
     "text": [
      "Block4 =\r\n",
      "\r\n",
      "   4.0000e+00  -1.4142e+00  -1.1797e-16  -1.9256e-16\r\n",
      "  -1.4142e+00   4.0000e+00   2.0540e-16   2.6501e-16\r\n",
      "   2.0702e-18  -3.8907e-16   4.0000e+00  -1.4142e+00\r\n",
      "   3.6013e-16  -3.7724e-17  -1.4142e+00   4.0000e+00\r\n",
      "\r\n"
     ]
    },
    {
     "name": "stdout",
     "output_type": "stream",
     "text": [
      "U4 =\r\n",
      "\r\n",
      "   7.0711e-01  -7.0711e-01  -6.3388e-02  -3.9407e-02\r\n",
      "  -7.0711e-01  -7.0711e-01  -6.3388e-02   3.9407e-02\r\n",
      "   1.0351e-18   1.0351e-18   7.0426e-01   7.0601e-01\r\n",
      "   1.8006e-16   1.8006e-16   7.0426e-01  -7.0601e-01\r\n",
      "\r\n",
      "E4 =\r\n",
      "\r\n",
      "Diagonal Matrix\r\n",
      "\r\n",
      "   5.4142        0        0        0\r\n",
      "        0   2.5858        0        0\r\n",
      "        0        0   2.5858        0\r\n",
      "        0        0        0   5.4142\r\n",
      "\r\n"
     ]
    }
   ],
   "source": [
    "Block4 = M_block_Iso4\n",
    "[U4,E4] = eig(Block4)"
   ]
  },
  {
   "cell_type": "markdown",
   "id": "e233fbb0",
   "metadata": {},
   "source": [
    "What we have so far is a diagonal matrix $E_i$ that contains all the eigenvalues for the membrane's oscillation frequency, as well as a matrix $U_i$ that is constituted by the corresponding eigenvectors in each particular isotypic component $V_i$.\n",
    "\n",
    "Recall that the blocks had already been expressed in terms of the basis that manifests the invariance of the subspaces, namely the column vectors of our ``basis``. This means that the entries of the matrices $U_i$ are basically the coefficients in the linear combination with respect to the column basis vectors in each isotypic component. This fact will be proven useful in what follows, as it will enable us to find the eigenspaces $E_{\\lambda}$ for each eigenvalue $\\lambda$."
   ]
  },
  {
   "cell_type": "markdown",
   "id": "285cc6d7",
   "metadata": {},
   "source": [
    "### Extracting the ground oscillation state\n",
    "\n",
    "For example, we can compute the basis for the 1D-eigenspace that corresponds to the __ground state__, that is the eigenstate with the lowest eigenvalue. According to the diagonal matrix $E_1$, the lowest eigenvalue is $\\lambda_{GS} = 1.1716$ and the respective eigenvector can be read from the corresponding column of the matrix $U_1$. Moreover, if we let $x_1, x_2$ and $x_3$ be the symmetry adapted basis of the first isotypic component, then the basis vector of the eigenspace $E_{GS}$ will be given as a linear combination of the form $ax_1 + bx_2 + cx_3$, where the coefficients $a,b,c$ correspond to the non-zero elements of the third column of $U_1$.\n",
    "\n",
    "Following the above, we can extract the ground state as demonstrated below:"
   ]
  },
  {
   "cell_type": "code",
   "execution_count": 12,
   "id": "cee77698",
   "metadata": {
    "execution": {
     "iopub.execute_input": "2021-09-08T14:53:53.603691Z",
     "iopub.status.busy": "2021-09-08T14:53:53.603264Z",
     "iopub.status.idle": "2021-09-08T14:53:53.633073Z",
     "shell.execute_reply": "2021-09-08T14:53:53.634431Z"
    }
   },
   "outputs": [
    {
     "name": "stdout",
     "output_type": "stream",
     "text": [
      "GS_matrix =\r\n",
      "\r\n",
      "   0.1387   0.1961   0.1387\r\n",
      "   0.1961   0.2774   0.1961\r\n",
      "   0.1387   0.1961   0.1387\r\n",
      "\r\n"
     ]
    }
   ],
   "source": [
    "x1 = basis(:,1); x2 = basis(:,2); x3 = basis(:,3); % Define the basis vectors in the first isotypic component\n",
    "lowestIndex = find(diag(E1) == min(diag(E1))); % Identify the index of the lowest frequency\n",
    "gs = U1(1,lowestIndex)*x1 + U1(2,lowestIndex)*x2 + U1(3,lowestIndex)*x3; % Extract the coefficients for the linear combination\n",
    "GS_matrix = reshape(gs, [3 3])' % convert the column vector into a \"lattice function\""
   ]
  },
  {
   "cell_type": "markdown",
   "id": "af83de59",
   "metadata": {},
   "source": [
    "This lattice function is the approximation to the ground oscillation of the membrane, since the numbers assigned to the nine points describe the displacements of the membrane at the corresponding positions."
   ]
  },
  {
   "cell_type": "markdown",
   "id": "cb6d1dc5",
   "metadata": {},
   "source": [
    "### Extracting the highest oscillation state\n",
    "\n",
    "In a completely analogous manner the lattice function for the oscillation with the highest eigenvalue can also be found. Since we have already sorted out the eigenvalues, we know that the eigenvector for this eigenspace is encoded in the first column of the matrix $U_1$, and it turns out that we can write the basis vector for this eigenstate as a linear combination of the basis of the first isotypic component as exemplified below"
   ]
  },
  {
   "cell_type": "code",
   "execution_count": 13,
   "id": "93aa83d9",
   "metadata": {
    "execution": {
     "iopub.execute_input": "2021-09-08T14:53:53.643035Z",
     "iopub.status.busy": "2021-09-08T14:53:53.641361Z",
     "iopub.status.idle": "2021-09-08T14:53:53.662773Z",
     "shell.execute_reply": "2021-09-08T14:53:53.663266Z"
    }
   },
   "outputs": [
    {
     "name": "stdout",
     "output_type": "stream",
     "text": [
      "HS_matrix =\r\n",
      "\r\n",
      "   0.1387  -0.1961   0.1387\r\n",
      "  -0.1961   0.2774  -0.1961\r\n",
      "   0.1387  -0.1961   0.1387\r\n",
      "\r\n"
     ]
    }
   ],
   "source": [
    "highestIndex = find(diag(E1) == max(diag(E1))); % Identify the index of the highest frequency\n",
    "hs = U1(1,highestIndex)*x1 + U1(2,highestIndex)*x2 + U1(3,highestIndex)*x3;\n",
    "HS_matrix = reshape(hs,[3 3])'"
   ]
  },
  {
   "cell_type": "markdown",
   "id": "71bada4e",
   "metadata": {},
   "source": [
    "Proceeding in a similar manner, we can get the basis for each of the eigenspaces $E_{\\lambda}$ and express it with respect to the reordered basis vectors in the isotypic components of the natural representation. Remember that the coefficients for the linear expansion can in principle be always read off from the columns of a matrix $U_i$."
   ]
  },
  {
   "cell_type": "markdown",
   "id": "bbf399e7",
   "metadata": {},
   "source": [
    "## Plotting the lattice functions for extreme cases\n",
    "\n",
    "As we now have the lattice functions for the ground and the highest oscillations, it is possible to construct some plots to further illustrate how the membrane is oscillating in these two extreme cases."
   ]
  },
  {
   "cell_type": "code",
   "execution_count": 14,
   "id": "446b1f9f",
   "metadata": {
    "execution": {
     "iopub.execute_input": "2021-09-08T14:53:53.668863Z",
     "iopub.status.busy": "2021-09-08T14:53:53.667793Z",
     "iopub.status.idle": "2021-09-08T14:53:54.320836Z",
     "shell.execute_reply": "2021-09-08T14:53:54.320392Z"
    }
   },
   "outputs": [
    {
     "data": {
      "image/png": "[encoded data removed]",
      "text/plain": [
       "<IPython.core.display.Image object>"
      ]
     },
     "metadata": {},
     "output_type": "display_data"
    }
   ],
   "source": [
    "[s,t] = meshgrid(1:3);\n",
    "figure;\n",
    "subplot(1,2,1)\n",
    "surf(GS_matrix,'EdgeColor','red')\n",
    "colormap('jet')\n",
    "title('Ground Oscillation State')\n",
    "grid off;\n",
    "axis([1 3 1 3 -0.6 0.6])\n",
    "hold on\n",
    "plane=0*s;\n",
    "mesh(s,t,plane,'EdgeColor', 'green')\n",
    "hold off\n",
    "view(285,11)\n",
    "subplot(1,2,2)\n",
    "surf(HS_matrix,'EdgeColor','red')\n",
    "title('Highest Frequency State')\n",
    "axis([1 3 1 3 -0.6 0.6])\n",
    "view(285,11)\n",
    "grid off;"
   ]
  },
  {
   "cell_type": "markdown",
   "id": "5cf70996",
   "metadata": {},
   "source": [
    "The important thing to notice here is that in the **ground oscillation** the displacements of each of the lattice points have the same sign, thus recovering the result from the *theory of continuous oscillators* that the ground oscillation never vanishes in the interior of the membrane. On the other hand, as fas as the **oscillation with the highest frequency** is concerned, the displacements have a maximal number of sign changes. To clarify this, we have included in the plot the plane $z=0$, so that we can verify that between two positive displacements there is a negative one (this can be seen from the lattice function ``HS_matrix`` as well), leading to a maximum number of node lines in the membrane region. We refer the reader to the classical [texbook](https://onlinelibrary.wiley.com/doi/book/10.1002/9783527617210) of Courant and Hilbert for a complete treatment of vibrations and eigenvalue problems."
   ]
  },
  {
   "cell_type": "markdown",
   "id": "ae3d9ea3",
   "metadata": {},
   "source": [
    "## Summary\n",
    "_________"
   ]
  },
  {
   "cell_type": "markdown",
   "id": "93e653db",
   "metadata": {},
   "source": [
    "In this tutorial, we have illustrated how group theoretical methods can be implemented in an eigenvalue problem when the operator in question is subject to symmetries and we indicated a way that *RepLAB* can act as a complement to numerically solve a toy model, namely the eigenvalue problem of an oscillating square membrane. In particular, we emphasized that we can arrive at the **block diagonalization** of the matrix $M$ with ease, provided that we make use of a unique feature of *RepLAB*: the change of basis matrix that it provides, every time we ask *RepLAB* to decompose a representation into its irreducible components.\n",
    "\n",
    "Before we close, even though we discretized the square region using only $n=9$ lattice points, thus asking for the dihedral group $D_4$ as a subgroup in the group $S_9$, a generalization of the method presented in this document is straighforward in arbitrary number of points. For instance, we could have employed a lattice with even more points and asking for $D_4$ as a subgroup in the symmetric group $S_n$. However, for the purposes of the current tutorial, we decided to use only 9 lattice points and focus on making clear how a block-diagonal structure for the matrix $M$ can be accomplished numerically in *RepLAB*."
   ]
  }
 ],
 "metadata": {
  "jupytext": {
   "formats": "ipynb,m:light",
   "text_representation": {
    "extension": ".m",
    "format_name": "light",
    "format_version": "1.5",
    "jupytext_version": "1.5.0"
   }
  },
  "kernelspec": {
   "display_name": "Octave",
   "language": "octave",
   "name": "octave"
  },
  "language_info": {
   "file_extension": ".m",
   "help_links": [
    {
     "text": "GNU Octave",
     "url": "https://www.gnu.org/software/octave/support.html"
    },
    {
     "text": "Octave Kernel",
     "url": "https://github.com/Calysto/octave_kernel"
    },
    {
     "text": "MetaKernel Magics",
     "url": "https://metakernel.readthedocs.io/en/latest/source/README.html"
    }
   ],
   "mimetype": "text/x-octave",
   "name": "octave",
   "version": "6.2.0"
  }
 },
 "nbformat": 4,
 "nbformat_minor": 5
}
