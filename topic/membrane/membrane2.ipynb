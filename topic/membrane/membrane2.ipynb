{
 "cells": [
  {
   "cell_type": "markdown",
   "id": "1a09e780",
   "metadata": {},
   "source": [
    "# Eigenvalue problem of a vibrating square membrane, part 2"
   ]
  },
  {
   "cell_type": "code",
   "execution_count": 1,
   "id": "ef0f8916",
   "metadata": {
    "execution": {
     "iopub.execute_input": "2021-09-08T14:03:47.282731Z",
     "iopub.status.busy": "2021-09-08T14:03:47.282132Z",
     "iopub.status.idle": "2021-09-08T14:04:02.293815Z",
     "shell.execute_reply": "2021-09-08T14:04:02.293015Z"
    }
   },
   "outputs": [
    {
     "name": "stdout",
     "output_type": "stream",
     "text": [
      "DH ="
     ]
    },
    {
     "name": "stdout",
     "output_type": "stream",
     "text": [
      "\r"
     ]
    },
    {
     "name": "stdout",
     "output_type": "stream",
     "text": [
      "\n"
     ]
    },
    {
     "name": "stdout",
     "output_type": "stream",
     "text": [
      "\r\n",
      "Permutation group acting on 9 elements of order 8\r\n",
      "            identity: [1, 2, 3, 4, 5, 6, 7, 8, 9]\r\n",
      "generator(1 or 'x1'): [9, 6, 3, 8, 5, 2, 7, 4, 1]\r\n",
      "generator(2 or 'x2'): [3, 2, 1, 6, 5, 4, 9, 8, 7]\r\n",
      "    recognize.source: Dihedral group of order 8\r\n",
      "\r\n"
     ]
    }
   ],
   "source": [
    "addpath([pwd, '/../../..']);\n",
    "replab_init('verbose', 0);\n",
    "g1 = [9 6 3 8 5 2 7 4 1];\n",
    "g2 = [3 2 1 6 5 4 9 8 7];\n",
    "DH = replab.PermutationGroup.of(g1, g2)\n",
    "natRep = DH.naturalRep;\n",
    "natDec = natRep.decomposition.nice;\n",
    "basis = natDec.basis;\n",
    "image1 = natRep.image(g1);\n",
    "image2 = natRep.image(g2);\n",
    "M=[4 -1 0 -1 0 0 0 0 0; -1 4 -1 0 -1 0 0 0 0; 0 -1 4 0 0 -1 0 0 0;\n",
    "    -1 0 0 4 -1 0 -1 0 0; 0 -1 0 -1 4 -1 0 -1 0; 0 0 -1 0 -1 4 0 0 -1;\n",
    "    0 0 0 -1 0 0 4 -1 0;0 0 0 0 -1 0 -1 4 -1 ; 0 0 0 0 0 -1 0 -1 4] ;"
   ]
  },
  {
   "cell_type": "markdown",
   "id": "72f50a59",
   "metadata": {},
   "source": [
    "### The Block Diagonalization of the matrix $M$\n",
    "\n",
    "Before we go on and apply symmetrization to the matrix $M$, we have to be sure that our matrix has the symmetry of the representation $\\vartheta_{nat}$. In other words, the relation\n",
    "\\begin{align*}\n",
    "MD(s) = D(s)M\n",
    "\\end{align*}\n",
    "should be satisfied for every element $s$ in the dihedral group $D_4$, where $D(s)$ are the representing matrices in the natural representation. Since every other element of $D_4$ can be written as a composite of the generators, we only have to check if the above condition is met for the images of the generators $g_1$ and $g_2$."
   ]
  },
  {
   "cell_type": "code",
   "execution_count": 2,
   "id": "5d89b18b",
   "metadata": {
    "execution": {
     "iopub.execute_input": "2021-09-08T14:04:02.297190Z",
     "iopub.status.busy": "2021-09-08T14:04:02.296752Z",
     "iopub.status.idle": "2021-09-08T14:04:02.312916Z",
     "shell.execute_reply": "2021-09-08T14:04:02.312538Z"
    }
   },
   "outputs": [],
   "source": [
    "assert(isequal(M*image1,image1*M))\n",
    "assert(isequal(M*image2,image2*M))"
   ]
  },
  {
   "cell_type": "markdown",
   "id": "a71811b9",
   "metadata": {},
   "source": [
    "Thus, because the matrix $M$ commutes with the images of the generators in $\\vartheta_{nat}$, the first condition for the block diagonalization is met."
   ]
  },
  {
   "cell_type": "markdown",
   "id": "f1cbf71a",
   "metadata": {},
   "source": [
    "Since we now have the knowledge of that, we can always pass to the coordinate system of that basis and find the form of the matrix $M$ with respect to the aforementioned column vectors. We further assume that the column vectors are a **symmetry adapted basis**, in a sense that the basis vectors of each isotypic component are transformed in exactly the same way under the representation. Taking into account the above table of the isotypic components and based on the existence of invariant subspaces of the representation, we deduce that the new $M$ matrix will contain $n_j$ square blocks of length $c_j$.\n",
    "\n",
    "To see how this can be accomplished, we apply a similarity transformation to the matrix $M$ in the following manner:"
   ]
  },
  {
   "cell_type": "code",
   "execution_count": 3,
   "id": "5059ed40",
   "metadata": {
    "execution": {
     "iopub.execute_input": "2021-09-08T14:04:02.315624Z",
     "iopub.status.busy": "2021-09-08T14:04:02.315219Z",
     "iopub.status.idle": "2021-09-08T14:04:02.327179Z",
     "shell.execute_reply": "2021-09-08T14:04:02.326802Z"
    }
   },
   "outputs": [
    {
     "name": "stdout",
     "output_type": "stream",
     "text": [
      "M_block =\r\n",
      "\r\n",
      " Columns 1 through 8:\r\n",
      "\r\n",
      "   4.0000  -1.0000        0        0        0        0        0   0.0000\r\n",
      "  -4.0000   4.0000  -2.0000        0        0  -0.0000        0   0.0000\r\n",
      "        0  -2.0000   4.0000        0        0   0.0000        0   0.0000\r\n",
      "        0   0.0000        0   4.0000        0        0  -0.0000  -0.0000\r\n",
      "  -0.0000   0.0000  -0.0000        0   4.0000   0.0000  -0.0000  -0.0000\r\n",
      "        0        0        0        0        0   4.0000   0.0000  -1.4142\r\n",
      "        0   0.0000  -0.0000        0        0   0.0000   4.0000   0.0000\r\n",
      "   0.0000  -0.0000        0        0  -0.0000  -1.4142        0   4.0000\r\n",
      "        0        0        0        0        0  -0.0000  -1.4142  -0.0000\r\n",
      "\r\n",
      " Column 9:\r\n",
      "\r\n",
      "   0.0000\r\n",
      "   0.0000\r\n",
      "   0.0000\r\n",
      "   0.0000\r\n",
      "   0.0000\r\n",
      "   0.0000\r\n",
      "  -1.4142\r\n",
      "   0.0000\r\n",
      "   4.0000\r\n",
      "\r\n"
     ]
    }
   ],
   "source": [
    "M_block = inv(basis)*M*basis"
   ]
  },
  {
   "cell_type": "markdown",
   "id": "f04cf766",
   "metadata": {},
   "source": [
    "Notice that in the new basis the matrix M acquires indeed a block-diagonal form, a fact that encodes the importance of the process of symmetrization for the eigenvalue problem. However, the careful reader may have noticed that for the last isotypic component we have one $4 \\times 4$ block instead of the two $2 \\times 2$ blocks that we expected. This contradiction stems from the fact that the column vectors for the 4th isotypic component are not a symmetry adapted basis in the way that we labelled our basis vectors.\n",
    "\n",
    "To further elucidate this point, note that, by Schur's Lemma, the blocks in the last isotypic component:"
   ]
  },
  {
   "cell_type": "code",
   "execution_count": 4,
   "id": "e333d04a",
   "metadata": {
    "execution": {
     "iopub.execute_input": "2021-09-08T14:04:02.329858Z",
     "iopub.status.busy": "2021-09-08T14:04:02.329449Z",
     "iopub.status.idle": "2021-09-08T14:04:02.354204Z",
     "shell.execute_reply": "2021-09-08T14:04:02.353799Z"
    }
   },
   "outputs": [],
   "source": [
    "M_block(6:7, 6:7);\n",
    "M_block(6:7, 8:9);\n",
    "M_block(8:9, 6:7);\n",
    "M_block(8:9, 8:9);"
   ]
  },
  {
   "cell_type": "markdown",
   "id": "42c24c65",
   "metadata": {},
   "source": [
    "will be scalar multiples of the identity matrix $\\mathbb{I}_2$. Hence, the $4 \\times 4$ block ``M_block(6:9,6:9)`` has the form $A \\otimes \\mathbb{I}_2$, where $A$ is a $2 \\times 2$ matrix that contains the non-zero values that appear in the block:"
   ]
  },
  {
   "cell_type": "code",
   "execution_count": 5,
   "id": "f9b23dc0",
   "metadata": {
    "execution": {
     "iopub.execute_input": "2021-09-08T14:04:02.357060Z",
     "iopub.status.busy": "2021-09-08T14:04:02.356623Z",
     "iopub.status.idle": "2021-09-08T14:04:02.367925Z",
     "shell.execute_reply": "2021-09-08T14:04:02.367554Z"
    }
   },
   "outputs": [
    {
     "name": "stdout",
     "output_type": "stream",
     "text": [
      "ans =\r\n",
      "\r\n",
      "   4.0000   0.0000  -1.4142   0.0000\r\n",
      "   0.0000   4.0000   0.0000  -1.4142\r\n",
      "  -1.4142        0   4.0000   0.0000\r\n",
      "  -0.0000  -1.4142  -0.0000   4.0000\r\n",
      "\r\n"
     ]
    }
   ],
   "source": [
    "M_block(6:9,6:9)"
   ]
  },
  {
   "cell_type": "markdown",
   "id": "f329b52f",
   "metadata": {},
   "source": [
    "Therefore, by permuting the rows and columns ``[6 7 8 9]`` $\\to$ ``[6 8 7 9]``, this block in the 4th isotypic component acquires the form $\\mathbb{I}_2 \\otimes A$, which is obviously block diagonal by the properties of the Kronecker product:"
   ]
  },
  {
   "cell_type": "code",
   "execution_count": 6,
   "id": "16c9c459",
   "metadata": {
    "execution": {
     "iopub.execute_input": "2021-09-08T14:04:02.370480Z",
     "iopub.status.busy": "2021-09-08T14:04:02.370082Z",
     "iopub.status.idle": "2021-09-08T14:04:02.381073Z",
     "shell.execute_reply": "2021-09-08T14:04:02.381404Z"
    }
   },
   "outputs": [
    {
     "name": "stdout",
     "output_type": "stream",
     "text": [
      "M_block_Iso4 =\r\n",
      "\r\n",
      "   4.0000  -1.4142   0.0000   0.0000\r\n",
      "  -1.4142   4.0000        0   0.0000\r\n",
      "   0.0000   0.0000   4.0000  -1.4142\r\n",
      "  -0.0000  -0.0000  -1.4142   4.0000\r\n",
      "\r\n"
     ]
    }
   ],
   "source": [
    "M_block_Iso4 = M_block([6 8 7 9],[6 8 7 9])"
   ]
  },
  {
   "cell_type": "markdown",
   "id": "62a8d281",
   "metadata": {},
   "source": [
    "The take-away message is that this interchanging of rows and columns corresponds to a __rearrangement__ of the sequence of the __same basis vectors__ in this particular isotypic component, in order to make the invariance of the two 2-dimensional subspaces evident. Hence, what we are left with after the interchange is a block diagonal matrix, which contains a block-matrix for each of the isotypic components."
   ]
  },
  {
   "cell_type": "markdown",
   "id": "5e996ec3",
   "metadata": {},
   "source": [
    "As a result, having explicitly made use of the symmetries of our problem, we have reduced the eigenvalue problem of M to the $c_j$-dimensional eigenvalue problems:\n",
    "\n",
    "\\begin{align*}\n",
    "|M_j - \\lambda \\mathbb{I}_{c_j}| = 0 \\quad j=1,2,\\dots, N\n",
    "\\end{align*}\n",
    "\n",
    "where $M_j$ are the blocks of length $c_j$ that constitute the matrix $M$ and indicate the invariant nature of the subspaces.\n",
    "\n",
    "In other words, instead of solving the full eigenvalue problem for the sparse matrix $M$, we only have to take into account the $N$ blocks and solve a $c_j$-dimensional eigenvalue in each block. In this case, it can be checked that the characteristic polynomial of $M$ factors into a cubic and a quadratic equation."
   ]
  },
  {
   "cell_type": "markdown",
   "id": "edf9ecb3",
   "metadata": {},
   "source": [
    "### Finding the eigenvalues and the eigenspaces\n",
    "\n",
    "We are now ready to solve the eigenvalue problem for the block-diagonal matrix $M$ and compute the eigenspaces that correspond to the eigenvalues $\\lambda$. To that end, we will treat each block that corresponds to an isotypic component seperately, as we have already established in the previous section.\n",
    "\n",
    "The block that is associated with the first isotypic component $V_1$ can be obtained by:"
   ]
  },
  {
   "cell_type": "code",
   "execution_count": 7,
   "id": "748a1be7",
   "metadata": {
    "execution": {
     "iopub.execute_input": "2021-09-08T14:04:02.383963Z",
     "iopub.status.busy": "2021-09-08T14:04:02.383563Z",
     "iopub.status.idle": "2021-09-08T14:04:02.394639Z",
     "shell.execute_reply": "2021-09-08T14:04:02.394307Z"
    }
   },
   "outputs": [
    {
     "name": "stdout",
     "output_type": "stream",
     "text": [
      "Block1 =\r\n",
      "\r\n",
      "   4  -1   0\r\n",
      "  -4   4  -2\r\n",
      "   0  -2   4\r\n",
      "\r\n"
     ]
    }
   ],
   "source": [
    "Block1 = M_block(1:3,1:3)"
   ]
  },
  {
   "cell_type": "markdown",
   "id": "598611a7",
   "metadata": {},
   "source": [
    "We can now apply the *MATLAB/Octave* **eig** function directly to this particular block and obtain then eigenvalues and eigenvectors for the first component:"
   ]
  },
  {
   "cell_type": "code",
   "execution_count": 8,
   "id": "1fb4cdfd",
   "metadata": {
    "execution": {
     "iopub.execute_input": "2021-09-08T14:04:02.397073Z",
     "iopub.status.busy": "2021-09-08T14:04:02.396645Z",
     "iopub.status.idle": "2021-09-08T14:04:02.407837Z",
     "shell.execute_reply": "2021-09-08T14:04:02.408144Z"
    }
   },
   "outputs": [
    {
     "name": "stdout",
     "output_type": "stream",
     "text": [
      "U1 =\r\n",
      "\r\n",
      "   2.7735e-01   4.4721e-01   2.7735e-01\r\n",
      "  -7.8446e-01  -2.0610e-16   7.8446e-01\r\n",
      "   5.5470e-01  -8.9443e-01   5.5470e-01\r\n",
      "\r\n",
      "E1 =\r\n",
      "\r\n",
      "Diagonal Matrix\r\n",
      "\r\n",
      "   6.8284        0        0\r\n",
      "        0   4.0000        0\r\n",
      "        0        0   1.1716\r\n",
      "\r\n"
     ]
    }
   ],
   "source": [
    "[U1,E1] = eig(Block1)"
   ]
  },
  {
   "cell_type": "markdown",
   "id": "9f4fd97e",
   "metadata": {},
   "source": [
    "For the next isotypic components $V_2$ and $V_3$ the eigenvalue problem are rather trivial; in each component the eigenvalue is equal to 4, since the blocks are just scalars in these cases, whereas the eigenvector is the corresponding column vector in our basis, as we can easily verify:"
   ]
  },
  {
   "cell_type": "code",
   "execution_count": 9,
   "id": "419d07d7",
   "metadata": {
    "execution": {
     "iopub.execute_input": "2021-09-08T14:04:02.410632Z",
     "iopub.status.busy": "2021-09-08T14:04:02.410237Z",
     "iopub.status.idle": "2021-09-08T14:04:02.426085Z",
     "shell.execute_reply": "2021-09-08T14:04:02.425732Z"
    }
   },
   "outputs": [
    {
     "name": "stdout",
     "output_type": "stream",
     "text": [
      "Block2 = 4\r\n"
     ]
    },
    {
     "name": "stdout",
     "output_type": "stream",
     "text": [
      "U2 = 1\r\n",
      "E2 = 4\r\n"
     ]
    }
   ],
   "source": [
    "Block2 = M_block(4,4)\n",
    "[U2,E2] = eig(Block2)"
   ]
  },
  {
   "cell_type": "code",
   "execution_count": 10,
   "id": "02c49b22",
   "metadata": {
    "execution": {
     "iopub.execute_input": "2021-09-08T14:04:02.428491Z",
     "iopub.status.busy": "2021-09-08T14:04:02.428088Z",
     "iopub.status.idle": "2021-09-08T14:04:02.444655Z",
     "shell.execute_reply": "2021-09-08T14:04:02.444300Z"
    }
   },
   "outputs": [
    {
     "name": "stdout",
     "output_type": "stream",
     "text": [
      "Block3 = 4\r\n"
     ]
    },
    {
     "name": "stdout",
     "output_type": "stream",
     "text": [
      "U3 = 1\r\n",
      "E3 = 4\r\n"
     ]
    }
   ],
   "source": [
    "Block3 = M_block(5,5)\n",
    "[U3,E3] = eig(Block3)"
   ]
  },
  {
   "cell_type": "markdown",
   "id": "0b4bf01f",
   "metadata": {},
   "source": [
    "Similarly, the solutions of the eigenvalue problem for the last isotypic component $V_4$ can be computed using the block that we constructed earlier as follows:"
   ]
  },
  {
   "cell_type": "code",
   "execution_count": 11,
   "id": "87cbea11",
   "metadata": {
    "execution": {
     "iopub.execute_input": "2021-09-08T14:04:02.447133Z",
     "iopub.status.busy": "2021-09-08T14:04:02.446735Z",
     "iopub.status.idle": "2021-09-08T14:04:02.463044Z",
     "shell.execute_reply": "2021-09-08T14:04:02.462704Z"
    }
   },
   "outputs": [
    {
     "name": "stdout",
     "output_type": "stream",
     "text": [
      "Block4 =\r\n",
      "\r\n",
      "   4.0000  -1.4142   0.0000   0.0000\r\n",
      "  -1.4142   4.0000        0   0.0000\r\n",
      "   0.0000   0.0000   4.0000  -1.4142\r\n",
      "  -0.0000  -0.0000  -1.4142   4.0000\r\n",
      "\r\n"
     ]
    },
    {
     "name": "stdout",
     "output_type": "stream",
     "text": [
      "U4 =\r\n",
      "\r\n",
      "   7.0711e-01  -7.0711e-01   2.5829e-02  -1.0460e-01\r\n",
      "  -7.0711e-01  -7.0711e-01  -2.5829e-02  -1.0460e-01\r\n",
      "   2.4652e-32   2.4652e-32  -7.0663e-01   6.9933e-01\r\n",
      "  -6.7008e-17  -6.7008e-17   7.0663e-01   6.9933e-01\r\n",
      "\r\n",
      "E4 =\r\n",
      "\r\n",
      "Diagonal Matrix\r\n",
      "\r\n",
      "   5.4142        0        0        0\r\n",
      "        0   2.5858        0        0\r\n",
      "        0        0   5.4142        0\r\n",
      "        0        0        0   2.5858\r\n",
      "\r\n"
     ]
    }
   ],
   "source": [
    "Block4 = M_block_Iso4\n",
    "[U4,E4] = eig(Block4)"
   ]
  },
  {
   "cell_type": "markdown",
   "id": "493cf806",
   "metadata": {},
   "source": [
    "What we have so far is a diagonal matrix $E_i$ that contains all the eigenvalues for the membrane's oscillation frequency, as well as a matrix $U_i$ that is constituted by the corresponding eigenvectors in each particular isotypic component $V_i$.\n",
    "\n",
    "Recall that the blocks had already been expressed in terms of the basis that manifests the invariance of the subspaces, namely the column vectors of our ``basis``. This means that the entries of the matrices $U_i$ are basically the coefficients in the linear combination with respect to the column basis vectors in each isotypic component. This fact will be proven useful in what follows, as it will enable us to find the eigenspaces $E_{\\lambda}$ for each eigenvalue $\\lambda$."
   ]
  },
  {
   "cell_type": "markdown",
   "id": "06168419",
   "metadata": {},
   "source": [
    "### Extracting the ground oscillation state\n",
    "\n",
    "For example, we can compute the basis for the 1D-eigenspace that corresponds to the __ground state__, that is the eigenstate with the lowest eigenvalue. According to the diagonal matrix $E_1$, the lowest eigenvalue is $\\lambda_{GS} = 1.1716$ and the respective eigenvector can be read from the corresponding column of the matrix $U_1$. Moreover, if we let $x_1, x_2$ and $x_3$ be the symmetry adapted basis of the first isotypic component, then the basis vector of the eigenspace $E_{GS}$ will be given as a linear combination of the form $ax_1 + bx_2 + cx_3$, where the coefficients $a,b,c$ correspond to the non-zero elements of the third column of $U_1$.\n",
    "\n",
    "Following the above, we can extract the ground state as demonstrated below:"
   ]
  },
  {
   "cell_type": "code",
   "execution_count": 12,
   "id": "49c1e274",
   "metadata": {
    "execution": {
     "iopub.execute_input": "2021-09-08T14:04:02.465564Z",
     "iopub.status.busy": "2021-09-08T14:04:02.465163Z",
     "iopub.status.idle": "2021-09-08T14:04:02.489423Z",
     "shell.execute_reply": "2021-09-08T14:04:02.489066Z"
    }
   },
   "outputs": [
    {
     "name": "stdout",
     "output_type": "stream",
     "text": [
      "GS_matrix =\r\n",
      "\r\n",
      "   0.1387   0.1961   0.1387\r\n",
      "   0.1961   0.2774   0.1961\r\n",
      "   0.1387   0.1961   0.1387\r\n",
      "\r\n"
     ]
    }
   ],
   "source": [
    "x1 = basis(:,1); x2 = basis(:,2); x3 = basis(:,3); % Define the basis vectors in the first isotypic component\n",
    "lowestIndex = find(diag(E1) == min(diag(E1))); % Identify the index of the lowest frequency\n",
    "gs = U1(1,lowestIndex)*x1 + U1(2,lowestIndex)*x2 + U1(3,lowestIndex)*x3; % Extract the coefficients for the linear combination\n",
    "GS_matrix = reshape(gs, [3 3])' % convert the column vector into a \"lattice function\""
   ]
  },
  {
   "cell_type": "markdown",
   "id": "5e5922dc",
   "metadata": {},
   "source": [
    "This lattice function is the approximation to the ground oscillation of the membrane, since the numbers assigned to the nine points describe the displacements of the membrane at the corresponding positions."
   ]
  },
  {
   "cell_type": "markdown",
   "id": "6595c877",
   "metadata": {},
   "source": [
    "### Extracting the highest oscillation state\n",
    "\n",
    "In a completely analogous manner the lattice function for the oscillation with the highest eigenvalue can also be found. Since we have already sorted out the eigenvalues, we know that the eigenvector for this eigenspace is encoded in the first column of the matrix $U_1$, and it turns out that we can write the basis vector for this eigenstate as a linear combination of the basis of the first isotypic component as exemplified below"
   ]
  },
  {
   "cell_type": "code",
   "execution_count": 13,
   "id": "15190ca0",
   "metadata": {
    "execution": {
     "iopub.execute_input": "2021-09-08T14:04:02.492037Z",
     "iopub.status.busy": "2021-09-08T14:04:02.491631Z",
     "iopub.status.idle": "2021-09-08T14:04:02.512344Z",
     "shell.execute_reply": "2021-09-08T14:04:02.512003Z"
    }
   },
   "outputs": [
    {
     "name": "stdout",
     "output_type": "stream",
     "text": [
      "HS_matrix =\r\n",
      "\r\n",
      "   0.1387  -0.1961   0.1387\r\n",
      "  -0.1961   0.2774  -0.1961\r\n",
      "   0.1387  -0.1961   0.1387\r\n",
      "\r\n"
     ]
    }
   ],
   "source": [
    "highestIndex = find(diag(E1) == max(diag(E1))); % Identify the index of the highest frequency\n",
    "hs = U1(1,highestIndex)*x1 + U1(2,highestIndex)*x2 + U1(3,highestIndex)*x3;\n",
    "HS_matrix = reshape(hs,[3 3])'"
   ]
  },
  {
   "cell_type": "markdown",
   "id": "17055ee7",
   "metadata": {},
   "source": [
    "Proceeding in a similar manner, we can get the basis for each of the eigenspaces $E_{\\lambda}$ and express it with respect to the reordered basis vectors in the isotypic components of the natural representation. Remember that the coefficients for the linear expansion can in principle be always read off from the columns of a matrix $U_i$."
   ]
  },
  {
   "cell_type": "markdown",
   "id": "e401bd57",
   "metadata": {},
   "source": [
    "## Plotting the lattice functions for extreme cases\n",
    "\n",
    "As we now have the lattice functions for the ground and the highest oscillations, it is possible to construct some plots to further illustrate how the membrane is oscillating in these two extreme cases."
   ]
  },
  {
   "cell_type": "code",
   "execution_count": 14,
   "id": "128efc40",
   "metadata": {
    "execution": {
     "iopub.execute_input": "2021-09-08T14:04:02.515002Z",
     "iopub.status.busy": "2021-09-08T14:04:02.514596Z",
     "iopub.status.idle": "2021-09-08T14:04:03.165528Z",
     "shell.execute_reply": "2021-09-08T14:04:03.165062Z"
    }
   },
   "outputs": [
    {
     "data": {
      "image/png": "[encoded data removed]",
      "text/plain": [
       "<IPython.core.display.Image object>"
      ]
     },
     "metadata": {},
     "output_type": "display_data"
    }
   ],
   "source": [
    "[s,t] = meshgrid(1:3);\n",
    "figure;\n",
    "subplot(1,2,1)\n",
    "surf(GS_matrix,'EdgeColor','red')\n",
    "colormap('jet')\n",
    "title('Ground Oscillation State')\n",
    "grid off;\n",
    "axis([1 3 1 3 -0.6 0.6])\n",
    "hold on\n",
    "plane=0*s;\n",
    "mesh(s,t,plane,'EdgeColor', 'green')\n",
    "hold off\n",
    "view(285,11)\n",
    "subplot(1,2,2)\n",
    "surf(HS_matrix,'EdgeColor','red')\n",
    "title('Highest Frequency State')\n",
    "axis([1 3 1 3 -0.6 0.6])\n",
    "view(285,11)\n",
    "grid off;"
   ]
  },
  {
   "cell_type": "markdown",
   "id": "4355517f",
   "metadata": {},
   "source": [
    "The important thing to notice here is that in the **ground oscillation** the displacements of each of the lattice points have the same sign, thus recovering the result from the *theory of continuous oscillators* that the ground oscillation never vanishes in the interior of the membrane. On the other hand, as fas as the **oscillation with the highest frequency** is concerned, the displacements have a maximal number of sign changes. To clarify this, we have included in the plot the plane $z=0$, so that we can verify that between two positive displacements there is a negative one (this can be seen from the lattice function ``HS_matrix`` as well), leading to a maximum number of node lines in the membrane region. We refer the reader to the classical [texbook](https://onlinelibrary.wiley.com/doi/book/10.1002/9783527617210) of Courant and Hilbert for a complete treatment of vibrations and eigenvalue problems."
   ]
  },
  {
   "cell_type": "markdown",
   "id": "bbdd39f4",
   "metadata": {},
   "source": [
    "## Summary\n",
    "_________"
   ]
  },
  {
   "cell_type": "markdown",
   "id": "13d1915b",
   "metadata": {},
   "source": [
    "In this tutorial, we have illustrated how group theoretical methods can be implemented in an eigenvalue problem when the operator in question is subject to symmetries and we indicated a way that *RepLAB* can act as a complement to numerically solve a toy model, namely the eigenvalue problem of an oscillating square membrane. In particular, we emphasized that we can arrive at the **block diagonalization** of the matrix $M$ with ease, provided that we make use of a unique feature of *RepLAB*: the change of basis matrix that it provides, every time we ask *RepLAB* to decompose a representation into its irreducible components.\n",
    "\n",
    "Before we close, even though we discretized the square region using only $n=9$ lattice points, thus asking for the dihedral group $D_4$ as a subgroup in the group $S_9$, a generalization of the method presented in this document is straighforward in arbitrary number of points. For instance, we could have employed a lattice with even more points and asking for $D_4$ as a subgroup in the symmetric group $S_n$. However, for the purposes of the current tutorial, we decided to use only 9 lattice points and focus on making clear how a block-diagonal structure for the matrix $M$ can be accomplished numerically in *RepLAB*."
   ]
  }
 ],
 "metadata": {
  "jupytext": {
   "formats": "ipynb,m:light",
   "text_representation": {
    "extension": ".m",
    "format_name": "light",
    "format_version": "1.5",
    "jupytext_version": "1.5.0"
   }
  },
  "kernelspec": {
   "display_name": "Octave",
   "language": "octave",
   "name": "octave"
  },
  "language_info": {
   "file_extension": ".m",
   "help_links": [
    {
     "text": "GNU Octave",
     "url": "https://www.gnu.org/software/octave/support.html"
    },
    {
     "text": "Octave Kernel",
     "url": "https://github.com/Calysto/octave_kernel"
    },
    {
     "text": "MetaKernel Magics",
     "url": "https://metakernel.readthedocs.io/en/latest/source/README.html"
    }
   ],
   "mimetype": "text/x-octave",
   "name": "octave",
   "version": "6.2.0"
  }
 },
 "nbformat": 4,
 "nbformat_minor": 5
}
