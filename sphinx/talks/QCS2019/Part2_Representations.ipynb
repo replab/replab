{
 "cells": [
  {
   "cell_type": "markdown",
   "metadata": {},
   "source": [
    "# 2. Constructing representations with RepLAB\n",
    "\n",
    "This is part II of the companion notebook to the RepLAB talk at the [Quantum Causal Structures](http://www.cs.ox.ac.uk/conferences/QCS2019/) workshop."
   ]
  },
  {
   "cell_type": "code",
   "execution_count": 1,
   "metadata": {},
   "outputs": [
    {
     "name": "stdout",
     "output_type": "stream",
     "text": [
      "Adding RepLAB to the path\n",
      "warning: function /home/denis/w/replab/src/help.m shadows a core library function\n",
      "Adding RepLAB package to the path\n",
      "Loading symbolic package for Octave...\n",
      "Loading optim package for Octave...\n",
      "OpenJDK 64-Bit Server VM warning: Archived non-system classes are disabled because the java.system.class.loader property is specified (value = \"org.octave.OctClassLoader\"). To use archived non-system classes, this property must be not be set\n",
      "Adding VPI to the path\n",
      "Adding MOxUnit to the path\n",
      "Adding embedded YALMIP to the path\n",
      "Adding embedded SDPT3 solver to the path\n",
      "Adding MOcov to the path\n"
     ]
    }
   ],
   "source": [
    "run ../../../replab_init.m % Init RepLAB library"
   ]
  },
  {
   "cell_type": "markdown",
   "metadata": {},
   "source": [
    "## Two measurement settings with two outcomes\n",
    "We come back to our example for conditional probability distributions for two measurements settings with two outcomes."
   ]
  },
  {
   "cell_type": "code",
   "execution_count": 2,
   "metadata": {},
   "outputs": [
    {
     "name": "stdout",
     "output_type": "stream",
     "text": [
      "error: can't perform indexing operations for user-defined function type\n"
     ]
    }
   ],
   "source": [
    "piI = [3 4 1 2];\n",
    "piO1 = [2 1 3 4];\n",
    "GAlice = replab.S(4).subgroup({piI piO1})"
   ]
  },
  {
   "cell_type": "code",
   "execution_count": 3,
   "metadata": {},
   "outputs": [
    {
     "name": "stdout",
     "output_type": "stream",
     "text": [
      "error: 'GAlice' undefined near line 1 column 7\n"
     ]
    }
   ],
   "source": [
    "rhoI = [0 0 1 0; 0 0 0 1; 1 0 0 0; 0 1 0 0];\n",
    "rhoO1 = [0 1 0 0; 1 0 0 0; 0 0 1 0; 0 0 0 1];\n",
    "rho = GAlice.repByImages('R', 4, {rhoI rhoO1}, {rhoI' rhoO1'})"
   ]
  },
  {
   "cell_type": "markdown",
   "metadata": {},
   "source": [
    "We now verify that `rho` is a legitimate representation."
   ]
  },
  {
   "cell_type": "code",
   "execution_count": 4,
   "metadata": {},
   "outputs": [
    {
     "name": "stdout",
     "output_type": "stream",
     "text": [
      "error: 'rho' undefined near line 1 column 16\n"
     ]
    }
   ],
   "source": [
    "replab.RepLaws(rho).check % verify that this defines a proper representation"
   ]
  },
  {
   "cell_type": "markdown",
   "metadata": {},
   "source": [
    "We also define and verify the other representation `sigma`."
   ]
  },
  {
   "cell_type": "code",
   "execution_count": 5,
   "metadata": {},
   "outputs": [
    {
     "name": "stdout",
     "output_type": "stream",
     "text": [
      "error: 'GAlice' undefined near line 1 column 9\n"
     ]
    }
   ],
   "source": [
    "sigmaI = [1 0 0 0; 0 0 1 0; 0 1 0 0; 0 0 0 1];\n",
    "sigmaO1 = [0 0 1 0; 0 0 0 1; 1 0 0 0; 0 1 0 0];\n",
    "sigma = GAlice.repByImages('R', 4, {sigmaI sigmaO1}, {sigmaI' sigmaO1'})"
   ]
  },
  {
   "cell_type": "markdown",
   "metadata": {},
   "source": [
    "## Combining representations\n",
    "We illustrate the examples of states invariant under $U(2)$. At the time of writing this tutorial, RepLAB did support compact groups, only finite groups; as of March 2020, the support of continuous groups is still experimental. Thus, we use the Clifford group as an approximation of $U(2)$. The approximation stays valid for tensor products of up to three copies of the basic representation, as the Clifford group is a 3-design for $U(2)$.\n",
    "\n",
    "The Clifford group is described using a permutation representation obtained with [GAP System](https://www.gap-system.org) on 48 points.\n",
    "\n",
    "We first get the (abstract) Clifford group on a single qubit and its representation using 2x2 complex matrices:"
   ]
  },
  {
   "cell_type": "code",
   "execution_count": 6,
   "metadata": {},
   "outputs": [
    {
     "name": "stdout",
     "output_type": "stream",
     "text": [
      "Symbolic pkg v2.9.0: Python communication link active, SymPy v1.5.1.\n",
      "clifford =\n",
      "\n",
      "replab.PermutationSubgroup\n",
      "  domainSize: 48                                \n",
      "    identity: 1 x 48 double                     \n",
      "      parent: Permutations acting on 48 elements\n",
      "generator(1): 1 x 48 double                     \n",
      "generator(2): 1 x 48 double                     \n",
      "generator(3): 1 x 48 double                     \n",
      "\n",
      "cliffordRep =\n",
      "\n",
      "Unitary representation by images\n",
      "                 dimension: 2                                            \n",
      "                     field: 'C'                                          \n",
      "   frobeniusSchurIndicator: []                                           \n",
      "                     group: replab.PermutationSubgroup                   \n",
      "    inverseImages_internal: 1 x 3 cell                                   \n",
      "isDivisionAlgebraCanonical: []                                           \n",
      "             isIrreducible: []                                           \n",
      "                 isUnitary: true                                         \n",
      "          trivialDimension: []                                           \n",
      "        images_internal{1}: [exp(I*pi/4), 0; 0, exp(I*pi/4)]             \n",
      "        images_internal{2}: [sqrt(2)/2, sqrt(2)/2; sqrt(2)/2, -sqrt(2)/2]\n",
      "        images_internal{3}: [1, 0; 0, I]                                 \n",
      "\n"
     ]
    }
   ],
   "source": [
    "[clifford cliffordRep] = replab.quantum.clifford_qudit(2)"
   ]
  },
  {
   "cell_type": "markdown",
   "metadata": {},
   "source": [
    "We now investigate tensor products of `cliffordRep`, as an approximation of $\\rho \\otimes \\rho$ and later $\\rho \\otimes \\overline{\\rho}$."
   ]
  },
  {
   "cell_type": "markdown",
   "metadata": {},
   "source": [
    "### The singlet and two qubit Werner states\n",
    "We investigate qubit-qubit states invariant under $\\rho \\otimes \\rho$, where $\\rho$ is the standard representation of $U(2)$."
   ]
  },
  {
   "cell_type": "code",
   "execution_count": 7,
   "metadata": {},
   "outputs": [
    {
     "name": "stdout",
     "output_type": "stream",
     "text": [
      "UxU =\n",
      "\n",
      "Unitary tensor representation\n",
      "                 dimension: 4                               \n",
      "                     field: 'C'                             \n",
      "   frobeniusSchurIndicator: []                              \n",
      "                     group: replab.PermutationSubgroup      \n",
      "isDivisionAlgebraCanonical: []                              \n",
      "             isIrreducible: []                              \n",
      "                 isUnitary: true                            \n",
      "          trivialDimension: []                              \n",
      "                 factor(1): Unitary representation by images\n",
      "                 factor(2): Unitary representation by images\n",
      "\n"
     ]
    }
   ],
   "source": [
    "UxU = kron(cliffordRep, cliffordRep)"
   ]
  },
  {
   "cell_type": "code",
   "execution_count": null,
   "metadata": {},
   "outputs": [
    {
     "name": "stdout",
     "output_type": "stream",
     "text": [
      "Waiting....................\n",
      "Waiting.....................** Pausing execution for 5.4 seconds.  Interrupt the kernel to abort pause.\n",
      ".** Pausing execution for 6.0 seconds.  Interrupt the kernel to abort pause.\n",
      ".** Pausing execution for 6.6 seconds.  Interrupt the kernel to abort pause.\n",
      ".** Pausing execution for 7.3 seconds.  Interrupt the kernel to abort pause.\n",
      ".** Pausing execution for 8.1 seconds.  Interrupt the kernel to abort pause.\n",
      ".** Pausing execution for 8.9 seconds.  Interrupt the kernel to abort pause.\n",
      ".** Pausing execution for 9.9 seconds.  Interrupt the kernel to abort pause.\n",
      ".** Pausing execution for 10.9 seconds.  Interrupt the kernel to abort pause.\n",
      ".** Pausing execution for 12.1 seconds.  Interrupt the kernel to abort pause.\n",
      ".** Pausing execution for 13.3 seconds.  Interrupt the kernel to abort pause.\n",
      "\n",
      "Waiting.....................** Pausing execution for 5.4 seconds.  Interrupt the kernel to abort pause.\n",
      ".** Pausing execution for 6.0 seconds.  Interrupt the kernel to abort pause.\n",
      ".** Pausing execution for 6.6 seconds.  Interrupt the kernel to abort pause.\n",
      ".** Pausing execution for 7.3 seconds.  Interrupt the kernel to abort pause.\n",
      ".** Pausing execution for 8.1 seconds.  Interrupt the kernel to abort pause.\n",
      ".** Pausing execution for 8.9 seconds.  Interrupt the kernel to abort pause.\n",
      ".** Pausing execution for 9.9 seconds.  Interrupt the kernel to abort pause.\n",
      ".** Pausing execution for 10.9 seconds.  Interrupt the kernel to abort pause.\n",
      ".** Pausing execution for 12.1 seconds.  Interrupt the kernel to abort pause.\n",
      ".** Pausing execution for 13.3 seconds.  Interrupt the kernel to abort pause.\n",
      ".** Pausing execution for 14.7 seconds.  Interrupt the kernel to abort pause.\n",
      ".** Pausing execution for 16.3 seconds.  Interrupt the kernel to abort pause.\n",
      ".** Pausing execution for 18.0 seconds.  Interrupt the kernel to abort pause.\n",
      ".** Pausing execution for 19.9 seconds.  Interrupt the kernel to abort pause.\n",
      ".** Pausing execution for 22.0 seconds.  Interrupt the kernel to abort pause.\n",
      ".** Pausing execution for 24.3 seconds.  Interrupt the kernel to abort pause.\n",
      ".** Pausing execution for 26.8 seconds.  Interrupt the kernel to abort pause.\n",
      ".** Pausing execution for 29.7 seconds.  Interrupt the kernel to abort pause.\n",
      ".** Pausing execution for 32.8 seconds.  Interrupt the kernel to abort pause.\n",
      ".** Pausing execution for 36.2 seconds.  Interrupt the kernel to abort pause.\n",
      ".** Pausing execution for 40.0 seconds.  Interrupt the kernel to abort pause.\n",
      ".** Pausing execution for 44.2 seconds.  Interrupt the kernel to abort pause.\n",
      "\n",
      "Waiting.....................** Pausing execution for 5.4 seconds.  Interrupt the kernel to abort pause.\n",
      ".** Pausing execution for 6.0 seconds.  Interrupt the kernel to abort pause.\n",
      ".** Pausing execution for 6.6 seconds.  Interrupt the kernel to abort pause.\n",
      ".** Pausing execution for 7.3 seconds.  Interrupt the kernel to abort pause.\n",
      ".** Pausing execution for 8.1 seconds.  Interrupt the kernel to abort pause.\n",
      ".** Pausing execution for 8.9 seconds.  Interrupt the kernel to abort pause.\n",
      ".** Pausing execution for 9.9 seconds.  Interrupt the kernel to abort pause.\n",
      ".** Pausing execution for 10.9 seconds.  Interrupt the kernel to abort pause.\n",
      ".** Pausing execution for 12.1 seconds.  Interrupt the kernel to abort pause.\n",
      ".** Pausing execution for 13.3 seconds.  Interrupt the kernel to abort pause.\n",
      ".** Pausing execution for 14.7 seconds.  Interrupt the kernel to abort pause.\n",
      ".** Pausing execution for 16.3 seconds.  Interrupt the kernel to abort pause.\n",
      ".** Pausing execution for 18.0 seconds.  Interrupt the kernel to abort pause.\n",
      ".** Pausing execution for 19.9 seconds.  Interrupt the kernel to abort pause.\n",
      ".** Pausing execution for 22.0 seconds.  Interrupt the kernel to abort pause.\n",
      ".** Pausing execution for 24.3 seconds.  Interrupt the kernel to abort pause.\n",
      ".** Pausing execution for 26.8 seconds.  Interrupt the kernel to abort pause.\n",
      ".** Pausing execution for 29.7 seconds.  Interrupt the kernel to abort pause.\n",
      ".** Pausing execution for 32.8 seconds.  Interrupt the kernel to abort pause.\n",
      ".** Pausing execution for 36.2 seconds.  Interrupt the kernel to abort pause.\n",
      ".** Pausing execution for 40.0 seconds.  Interrupt the kernel to abort pause.\n",
      ".** Pausing execution for 44.2 seconds.  Interrupt the kernel to abort pause.\n",
      ".** Pausing execution for 48.9 seconds.  Interrupt the kernel to abort pause.\n",
      "\n",
      "Waiting.....................** Pausing execution for 5.4 seconds.  Interrupt the kernel to abort pause.\n",
      ".** Pausing execution for 6.0 seconds.  Interrupt the kernel to abort pause.\n",
      ".** Pausing execution for 6.6 seconds.  Interrupt the kernel to abort pause.\n",
      ".** Pausing execution for 7.3 seconds.  Interrupt the kernel to abort pause.\n",
      ".** Pausing execution for 8.1 seconds.  Interrupt the kernel to abort pause.\n",
      ".** Pausing execution for 8.9 seconds.  Interrupt the kernel to abort pause.\n",
      ".** Pausing execution for 9.9 seconds.  Interrupt the kernel to abort pause.\n",
      ".** Pausing execution for 10.9 seconds.  Interrupt the kernel to abort pause.\n",
      ".** Pausing execution for 12.1 seconds.  Interrupt the kernel to abort pause.\n",
      ".** Pausing execution for 13.3 seconds.  Interrupt the kernel to abort pause.\n",
      ".** Pausing execution for 14.7 seconds.  Interrupt the kernel to abort pause.\n",
      ".** Pausing execution for 16.3 seconds.  Interrupt the kernel to abort pause.\n",
      ".** Pausing execution for 18.0 seconds.  Interrupt the kernel to abort pause.\n",
      ".** Pausing execution for 19.9 seconds.  Interrupt the kernel to abort pause.\n",
      ".** Pausing execution for 22.0 seconds.  Interrupt the kernel to abort pause.\n",
      ".** Pausing execution for 24.3 seconds.  Interrupt the kernel to abort pause.\n",
      ".** Pausing execution for 26.8 seconds.  Interrupt the kernel to abort pause.\n",
      ".** Pausing execution for 29.7 seconds.  Interrupt the kernel to abort pause.\n",
      ".** Pausing execution for 32.8 seconds.  Interrupt the kernel to abort pause.\n",
      ".** Pausing execution for 36.2 seconds.  Interrupt the kernel to abort pause.\n",
      ".** Pausing execution for 40.0 seconds.  Interrupt the kernel to abort pause.\n",
      ".** Pausing execution for 44.2 seconds.  Interrupt the kernel to abort pause.\n",
      ".** Pausing execution for 48.9 seconds.  Interrupt the kernel to abort pause.\n",
      "\n",
      "Waiting.....................** Pausing execution for 5.4 seconds.  Interrupt the kernel to abort pause.\n",
      ".** Pausing execution for 6.0 seconds.  Interrupt the kernel to abort pause.\n",
      ".** Pausing execution for 6.6 seconds.  Interrupt the kernel to abort pause.\n",
      ".** Pausing execution for 7.3 seconds.  Interrupt the kernel to abort pause.\n",
      ".** Pausing execution for 8.1 seconds.  Interrupt the kernel to abort pause.\n",
      ".** Pausing execution for 8.9 seconds.  Interrupt the kernel to abort pause.\n",
      ".** Pausing execution for 9.9 seconds.  Interrupt the kernel to abort pause.\n",
      ".** Pausing execution for 10.9 seconds.  Interrupt the kernel to abort pause.\n",
      ".** Pausing execution for 12.1 seconds.  Interrupt the kernel to abort pause.\n",
      ".** Pausing execution for 13.3 seconds.  Interrupt the kernel to abort pause.\n",
      ".** Pausing execution for 14.7 seconds.  Interrupt the kernel to abort pause.\n",
      ".** Pausing execution for 16.3 seconds.  Interrupt the kernel to abort pause.\n",
      ".** Pausing execution for 18.0 seconds.  Interrupt the kernel to abort pause.\n",
      ".** Pausing execution for 19.9 seconds.  Interrupt the kernel to abort pause.\n",
      ".** Pausing execution for 22.0 seconds.  Interrupt the kernel to abort pause.\n",
      ".** Pausing execution for 24.3 seconds.  Interrupt the kernel to abort pause.\n",
      ".** Pausing execution for 26.8 seconds.  Interrupt the kernel to abort pause.\n",
      ".** Pausing execution for 29.7 seconds.  Interrupt the kernel to abort pause.\n",
      ".** Pausing execution for 32.8 seconds.  Interrupt the kernel to abort pause.\n",
      ".** Pausing execution for 36.2 seconds.  Interrupt the kernel to abort pause.\n",
      ".** Pausing execution for 40.0 seconds.  Interrupt the kernel to abort pause.\n",
      ".** Pausing execution for 44.2 seconds.  Interrupt the kernel to abort pause.\n",
      ".** Pausing execution for 48.9 seconds.  Interrupt the kernel to abort pause.\n",
      ".** Pausing execution for 54.0 seconds.  Interrupt the kernel to abort pause.\n",
      ".** Pausing execution for 59.7 seconds.  Interrupt the kernel to abort pause.\n",
      ".** Pausing execution for 66.0 seconds.  Interrupt the kernel to abort pause.\n",
      ".** Pausing execution for 72.9 seconds.  Interrupt the kernel to abort pause.\n",
      ".** Pausing execution for 80.6 seconds.  Interrupt the kernel to abort pause.\n",
      ".** Pausing execution for 89.1 seconds.  Interrupt the kernel to abort pause.\n",
      ".** Pausing execution for 98.5 seconds.  Interrupt the kernel to abort pause.\n",
      ".** Pausing execution for 108.8 seconds.  Interrupt the kernel to abort pause.\n",
      ".** Pausing execution for 120.3 seconds.  Interrupt the kernel to abort pause.\n",
      ".** Pausing execution for 132.9 seconds.  Interrupt the kernel to abort pause.\n",
      ".** Pausing execution for 146.9 seconds.  Interrupt the kernel to abort pause.\n",
      ".** Pausing execution for 162.3 seconds.  Interrupt the kernel to abort pause.\n",
      "\n",
      "Waiting.....................** Pausing execution for 5.4 seconds.  Interrupt the kernel to abort pause.\n",
      ".** Pausing execution for 6.0 seconds.  Interrupt the kernel to abort pause.\n",
      ".** Pausing execution for 6.6 seconds.  Interrupt the kernel to abort pause.\n",
      ".** Pausing execution for 7.3 seconds.  Interrupt the kernel to abort pause.\n",
      ".** Pausing execution for 8.1 seconds.  Interrupt the kernel to abort pause.\n",
      ".** Pausing execution for 8.9 seconds.  Interrupt the kernel to abort pause.\n",
      ".** Pausing execution for 9.9 seconds.  Interrupt the kernel to abort pause.\n",
      ".** Pausing execution for 10.9 seconds.  Interrupt the kernel to abort pause.\n",
      ".** Pausing execution for 12.1 seconds.  Interrupt the kernel to abort pause.\n",
      ".** Pausing execution for 13.3 seconds.  Interrupt the kernel to abort pause.\n",
      ".** Pausing execution for 14.7 seconds.  Interrupt the kernel to abort pause.\n",
      ".** Pausing execution for 16.3 seconds.  Interrupt the kernel to abort pause.\n",
      ".** Pausing execution for 18.0 seconds.  Interrupt the kernel to abort pause.\n",
      ".** Pausing execution for 19.9 seconds.  Interrupt the kernel to abort pause.\n",
      ".** Pausing execution for 22.0 seconds.  Interrupt the kernel to abort pause.\n",
      ".** Pausing execution for 24.3 seconds.  Interrupt the kernel to abort pause.\n",
      ".** Pausing execution for 26.8 seconds.  Interrupt the kernel to abort pause.\n",
      ".** Pausing execution for 29.7 seconds.  Interrupt the kernel to abort pause.\n",
      ".** Pausing execution for 32.8 seconds.  Interrupt the kernel to abort pause.\n",
      ".** Pausing execution for 36.2 seconds.  Interrupt the kernel to abort pause.\n",
      ".** Pausing execution for 40.0 seconds.  Interrupt the kernel to abort pause.\n",
      ".** Pausing execution for 44.2 seconds.  Interrupt the kernel to abort pause.\n",
      ".** Pausing execution for 48.9 seconds.  Interrupt the kernel to abort pause.\n",
      ".** Pausing execution for 54.0 seconds.  Interrupt the kernel to abort pause.\n",
      ".** Pausing execution for 59.7 seconds.  Interrupt the kernel to abort pause.\n",
      ".** Pausing execution for 66.0 seconds.  Interrupt the kernel to abort pause.\n",
      ".** Pausing execution for 72.9 seconds.  Interrupt the kernel to abort pause.\n",
      ".** Pausing execution for 80.6 seconds.  Interrupt the kernel to abort pause.\n",
      ".** Pausing execution for 89.1 seconds.  Interrupt the kernel to abort pause.\n",
      ".** Pausing execution for 98.5 seconds.  Interrupt the kernel to abort pause.\n",
      ".** Pausing execution for 108.8 seconds.  Interrupt the kernel to abort pause.\n",
      ".** Pausing execution for 120.3 seconds.  Interrupt the kernel to abort pause.\n",
      ".** Pausing execution for 132.9 seconds.  Interrupt the kernel to abort pause.\n",
      ".** Pausing execution for 146.9 seconds.  Interrupt the kernel to abort pause.\n",
      ".** Pausing execution for 162.3 seconds.  Interrupt the kernel to abort pause.\n",
      ".** Pausing execution for 179.4 seconds.  Interrupt the kernel to abort pause.\n",
      ".** Pausing execution for 198.3 seconds.  Interrupt the kernel to abort pause.\n",
      ".** Pausing execution for 219.1 seconds.  Interrupt the kernel to abort pause.\n",
      ".** Pausing execution for 242.2 seconds.  Interrupt the kernel to abort pause.\n",
      ".** Pausing execution for 267.6 seconds.  Interrupt the kernel to abort pause.\n",
      ".** Pausing execution for 295.8 seconds.  Interrupt the kernel to abort pause.\n",
      ".** Pausing execution for 326.9 seconds.  Interrupt the kernel to abort pause.\n",
      ".** Pausing execution for 361.3 seconds.  Interrupt the kernel to abort pause.\n",
      ".** Pausing execution for 399.3 seconds.  Interrupt the kernel to abort pause.\n",
      ".** Pausing execution for 441.3 seconds.  Interrupt the kernel to abort pause.\n",
      ".** Pausing execution for 487.7 seconds.  Interrupt the kernel to abort pause.\n",
      ".** Pausing execution for 539.0 seconds.  Interrupt the kernel to abort pause."
     ]
    }
   ],
   "source": [
    "UxU.decomposition.nice"
   ]
  },
  {
   "cell_type": "markdown",
   "metadata": {},
   "source": [
    "Without surprise, we recover the singlet and triplet (dimensions 1 and 3). Let's investigate."
   ]
  },
  {
   "cell_type": "code",
   "execution_count": null,
   "metadata": {},
   "outputs": [],
   "source": [
    "UxU.decomposition.nice.component(1).irrep(1)"
   ]
  },
  {
   "cell_type": "code",
   "execution_count": null,
   "metadata": {},
   "outputs": [],
   "source": [
    "UxU.decomposition.nice.component(2).irrep(1)"
   ]
  },
  {
   "cell_type": "markdown",
   "metadata": {},
   "source": [
    "### Choi of depolarizing channels / isotropic states\n",
    "We investigate qubit-qubit states invariant under $\\rho \\otimes \\overline{\\rho}$, where $\\rho$ is the standard representation of $U(2)$."
   ]
  },
  {
   "cell_type": "code",
   "execution_count": null,
   "metadata": {},
   "outputs": [],
   "source": [
    "UxconjU = kron(cliffordRep, conj(cliffordRep))"
   ]
  },
  {
   "cell_type": "code",
   "execution_count": null,
   "metadata": {},
   "outputs": [],
   "source": [
    "UxconjU.decomposition.nice"
   ]
  },
  {
   "cell_type": "code",
   "execution_count": null,
   "metadata": {},
   "outputs": [],
   "source": [
    "UxconjU.decomposition.nice.component(1).irrep(1)"
   ]
  },
  {
   "cell_type": "code",
   "execution_count": null,
   "metadata": {},
   "outputs": [],
   "source": [
    "UxconjU.decomposition.nice.component(2).irrep(1)"
   ]
  }
 ],
 "metadata": {
  "jupytext": {
   "formats": "ipynb,m:light",
   "text_representation": {
    "extension": ".m",
    "format_name": "light",
    "format_version": "1.5",
    "jupytext_version": "1.3.2"
   }
  },
  "kernelspec": {
   "display_name": "Octave",
   "language": "octave",
   "name": "octave"
  },
  "language_info": {
   "file_extension": ".m",
   "help_links": [
    {
     "text": "GNU Octave",
     "url": "https://www.gnu.org/software/octave/support.html"
    },
    {
     "text": "Octave Kernel",
     "url": "https://github.com/Calysto/octave_kernel"
    },
    {
     "text": "MetaKernel Magics",
     "url": "https://metakernel.readthedocs.io/en/latest/source/README.html"
    }
   ],
   "mimetype": "text/x-octave",
   "name": "octave",
   "version": "5.2.0"
  }
 },
 "nbformat": 4,
 "nbformat_minor": 4
}
