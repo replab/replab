{
 "cells": [
  {
   "cell_type": "markdown",
   "metadata": {},
   "source": [
    "# 2. Constructing representations with RepLAB\n",
    "\n",
    "This is part II of the companion notebook to the RepLAB talk at the [Quantum Causal Structures](http://www.cs.ox.ac.uk/conferences/QCS2019/) workshop."
   ]
  },
  {
   "cell_type": "code",
   "execution_count": 1,
   "metadata": {},
   "outputs": [
    {
     "name": "stdout",
     "output_type": "stream",
     "text": [
      "Adding RepLAB to the path\r\n",
      "warning: function /home/denis/Projects/replab/src/help.m shadows a core library function\r\n",
      "Adding RepLAB package to the path\r\n",
      "Adding VPI to the path\r\n",
      "Adding MOxUnit to the path\r\n",
      "Adding embedded YALMIP to the path\r\n",
      "Adding embedded SDPT3 solver to the path\r\n",
      "Adding MOcov to the path\r\n"
     ]
    }
   ],
   "source": [
    "run ../../../replab_init.m % Init RepLAB library"
   ]
  },
  {
   "cell_type": "markdown",
   "metadata": {},
   "source": [
    "## Two measurement settings with two outcomes\n",
    "We come back to our example for conditional probability distributions for two measurements settings with two outcomes."
   ]
  },
  {
   "cell_type": "code",
   "execution_count": 2,
   "metadata": {},
   "outputs": [
    {
     "name": "stdout",
     "output_type": "stream",
     "text": [
      "error: can't perform indexing operations for user-defined function type\r\n"
     ]
    }
   ],
   "source": [
    "piI = [3 4 1 2];\n",
    "piO1 = [2 1 3 4];\n",
    "GAlice = replab.S(4).subgroup({piInput piOutput1})"
   ]
  },
  {
   "cell_type": "code",
   "execution_count": 3,
   "metadata": {
    "scrolled": true
   },
   "outputs": [
    {
     "name": "stdout",
     "output_type": "stream",
     "text": [
      "error: 'GAlice' undefined near line 1 column 7\r\n"
     ]
    }
   ],
   "source": [
    "rhoI = [0 0 1 0; 0 0 0 1; 1 0 0 0; 0 1 0 0];\n",
    "rhoO1 = [0 1 0 0; 1 0 0 0; 0 0 1 0; 0 0 0 1];\n",
    "rho = GAlice.rep('R',4,{rhoI rhoO1})"
   ]
  },
  {
   "cell_type": "markdown",
   "metadata": {},
   "source": [
    "We now verify that `rho` is a legitimate representation."
   ]
  },
  {
   "cell_type": "code",
   "execution_count": 4,
   "metadata": {},
   "outputs": [
    {
     "name": "stdout",
     "output_type": "stream",
     "text": [
      "error: 'rho' undefined near line 1 column 16\r\n"
     ]
    }
   ],
   "source": [
    "replab.RepLaws(rho).check % verify that this defines a proper representation"
   ]
  },
  {
   "cell_type": "markdown",
   "metadata": {},
   "source": [
    "We also define and verify the other representation `sigma`."
   ]
  },
  {
   "cell_type": "code",
   "execution_count": 5,
   "metadata": {},
   "outputs": [
    {
     "name": "stdout",
     "output_type": "stream",
     "text": [
      "error: 'GAlice' undefined near line 1 column 9\r\n"
     ]
    }
   ],
   "source": [
    "sigmaI = [1 0 0 0; 0 0 1 0; 0 1 0 0; 0 0 0 1];\n",
    "sigmaO1 = [0 0 1 0; 0 0 0 1; 1 0 0 0; 0 1 0 0];\n",
    "sigma = GAlice.rep('R',4,{sigmaI sigmaO1})"
   ]
  },
  {
   "cell_type": "markdown",
   "metadata": {},
   "source": [
    "## Combining representations\n",
    "We illustrate the examples of states invariant under $U(2)$. However, RepLAB does not support (yet) compact groups, only finite groups. Thus, we use the Clifford group as an approximation of $U(2)$. The approximation stays valid for tensor products of up to three copies of the basic representation, as the Clifford group is a 3-design for $U(2)$.\n",
    "\n",
    "The Clifford group is described using a permutation representation obtained with [GAP System](https://www.gap-system.org) on 48 points.\n",
    "\n",
    "We first get the (abstract) Clifford group on a single qubit and its representation using 2x2 complex matrices:"
   ]
  },
  {
   "cell_type": "code",
   "execution_count": 6,
   "metadata": {},
   "outputs": [
    {
     "name": "stdout",
     "output_type": "stream",
     "text": [
      "warning: Deprecated: use replab.quantum.clifford_qudit(2)\r\n",
      "warning: called from\r\n",
      "    clifford_qubit at line 6 column 5\r\n",
      "clifford =\r\n",
      "\r\n",
      "replab.PermutationSubgroup\r\n",
      "  domainSize: 48                                \r\n",
      "    identity: 1 x 48 double                     \r\n",
      "      parent: Permutations acting on 48 elements\r\n",
      "generator(1): 1 x 48 double                     \r\n",
      "generator(2): 1 x 48 double                     \r\n",
      "generator(3): 1 x 48 double                     \r\n",
      "\r\n",
      "cliffordRep =\r\n",
      "\r\n",
      "Unitary complex representation of dimension 2\r\n",
      "    dimension: 2                                         \r\n",
      "        field: 'C'                                       \r\n",
      "        group: replab.PermutationSubgroup                \r\n",
      "inverseImages: 1 x 3 cell                                \r\n",
      "    isUnitary: true                                      \r\n",
      "    images{1}: [0.70711+0.70711i, 0; 0, 0.70711+0.70711i]\r\n",
      "    images{2}: [0.70711, 0.70711; 0.70711, -0.70711]     \r\n",
      "    images{3}: [1, 0; 0, 0+1i]                           \r\n",
      "\r\n"
     ]
    }
   ],
   "source": [
    "[clifford cliffordRep] = replab.quantum.clifford_qubit"
   ]
  },
  {
   "cell_type": "markdown",
   "metadata": {},
   "source": [
    "We now investigate tensor products of `cliffordRep`, as an approximation of $\\rho \\otimes \\rho$ and later $\\rho \\otimes \\overline{\\rho}$."
   ]
  },
  {
   "cell_type": "markdown",
   "metadata": {},
   "source": [
    "### The singlet and two qubit Werner states\n",
    "We investigate qubit-qubit states invariant under $\\rho \\otimes \\rho$, where $\\rho$ is the standard representation of $U(2)$."
   ]
  },
  {
   "cell_type": "code",
   "execution_count": 7,
   "metadata": {},
   "outputs": [
    {
     "name": "stdout",
     "output_type": "stream",
     "text": [
      "UxU =\r\n",
      "\r\n",
      "Unitary complex representation of dimension 4\r\n",
      "dimension: 4                                            \r\n",
      "    field: 'C'                                          \r\n",
      "    group: replab.PermutationSubgroup                   \r\n",
      "isUnitary: true                                         \r\n",
      "factor(1): Unitary complex representation of dimension 2\r\n",
      "factor(2): Unitary complex representation of dimension 2\r\n",
      "\r\n"
     ]
    }
   ],
   "source": [
    "UxU = kron(cliffordRep, cliffordRep)"
   ]
  },
  {
   "cell_type": "code",
   "execution_count": 8,
   "metadata": {},
   "outputs": [
    {
     "name": "stdout",
     "output_type": "stream",
     "text": [
      "ans =\r\n",
      "\r\n",
      "Subrepresentation\r\n",
      "   dimension: 4                                            \r\n",
      "       field: 'C'                                          \r\n",
      "       group: replab.PermutationSubgroup                   \r\n",
      "   irrepInfo: []                                           \r\n",
      "   isUnitary: true                                         \r\n",
      "   niceBasis: replab.NiceBasis                             \r\n",
      "      parent: Unitary complex representation of dimension 4\r\n",
      "      U(1,:): [0, -1, 1, 0]/sqrt(2)                        \r\n",
      "      U(2,:): [1, 0, 0, 0]                                 \r\n",
      "      U(3,:): [0, 0, 0, 1]                                 \r\n",
      "      U(4,:): [0, 1, 1, 0]/sqrt(2)                         \r\n",
      "component(1): Isotypic component C(1)                      \r\n",
      "component(2): Isotypic component C(3)                      \r\n",
      "\r\n"
     ]
    }
   ],
   "source": [
    "UxU.decomposition"
   ]
  },
  {
   "cell_type": "markdown",
   "metadata": {},
   "source": [
    "Without surprise, we recover the singlet and triplet (dimensions 1 and 3). Let's investigate."
   ]
  },
  {
   "cell_type": "code",
   "execution_count": 9,
   "metadata": {},
   "outputs": [
    {
     "name": "stdout",
     "output_type": "stream",
     "text": [
      "error: subsref: unknown method or property: copy\r\n"
     ]
    }
   ],
   "source": [
    "UxU.decomposition.component(1).copy(1)"
   ]
  },
  {
   "cell_type": "code",
   "execution_count": 10,
   "metadata": {},
   "outputs": [
    {
     "name": "stdout",
     "output_type": "stream",
     "text": [
      "error: subsref: unknown method or property: copy\r\n"
     ]
    }
   ],
   "source": [
    "UxU.decomposition.component(2).copy(1)"
   ]
  },
  {
   "cell_type": "markdown",
   "metadata": {},
   "source": [
    "### Choi of depolarizing channels / isotropic states\n",
    "We investigate qubit-qubit states invariant under $\\rho \\otimes \\overline{\\rho}$, where $\\rho$ is the standard representation of $U(2)$."
   ]
  },
  {
   "cell_type": "code",
   "execution_count": 11,
   "metadata": {},
   "outputs": [
    {
     "name": "stdout",
     "output_type": "stream",
     "text": [
      "UxconjU =\r\n",
      "\r\n",
      "Unitary complex representation of dimension 4\r\n",
      "dimension: 4                                            \r\n",
      "    field: 'C'                                          \r\n",
      "    group: replab.PermutationSubgroup                   \r\n",
      "isUnitary: true                                         \r\n",
      "factor(1): Unitary complex representation of dimension 2\r\n",
      "factor(2): Unitary complex representation of dimension 2\r\n",
      "\r\n"
     ]
    }
   ],
   "source": [
    "UxconjU = kron(cliffordRep, conj(cliffordRep))"
   ]
  },
  {
   "cell_type": "code",
   "execution_count": 12,
   "metadata": {},
   "outputs": [
    {
     "name": "stdout",
     "output_type": "stream",
     "text": [
      "ans =\r\n",
      "\r\n",
      "Subrepresentation\r\n",
      "   dimension: 4                                            \r\n",
      "       field: 'C'                                          \r\n",
      "       group: replab.PermutationSubgroup                   \r\n",
      "   irrepInfo: []                                           \r\n",
      "   isUnitary: true                                         \r\n",
      "   niceBasis: replab.NiceBasis                             \r\n",
      "      parent: Unitary complex representation of dimension 4\r\n",
      "      U(1,:): [1, 0, 0, 1]/sqrt(2)                         \r\n",
      "      U(2,:): [0, 1, 0, 0]                                 \r\n",
      "      U(3,:): [0, 0, 1, 0]                                 \r\n",
      "      U(4,:): [1, 0, 0, -1]/sqrt(2)                        \r\n",
      "component(1): Isotypic component C(1)                      \r\n",
      "component(2): Isotypic component C(3)                      \r\n",
      "\r\n"
     ]
    }
   ],
   "source": [
    "UxconjU.decomposition"
   ]
  },
  {
   "cell_type": "code",
   "execution_count": 13,
   "metadata": {},
   "outputs": [
    {
     "name": "stdout",
     "output_type": "stream",
     "text": [
      "error: subsref: unknown method or property: copy\r\n"
     ]
    }
   ],
   "source": [
    "UxconjU.decomposition.component(1).copy(1)"
   ]
  },
  {
   "cell_type": "code",
   "execution_count": 14,
   "metadata": {},
   "outputs": [
    {
     "name": "stdout",
     "output_type": "stream",
     "text": [
      "error: subsref: unknown method or property: copy\r\n"
     ]
    }
   ],
   "source": [
    "UxconjU.decomposition.component(2).copy(1)"
   ]
  }
 ],
 "metadata": {
  "kernelspec": {
   "display_name": "Octave",
   "language": "octave",
   "name": "octave"
  },
  "language_info": {
   "file_extension": ".m",
   "help_links": [
    {
     "text": "GNU Octave",
     "url": "https://www.gnu.org/software/octave/support.html"
    },
    {
     "text": "Octave Kernel",
     "url": "https://github.com/Calysto/octave_kernel"
    },
    {
     "text": "MetaKernel Magics",
     "url": "https://metakernel.readthedocs.io/en/latest/source/README.html"
    }
   ],
   "mimetype": "text/x-octave",
   "name": "octave",
   "version": "4.4.1"
  }
 },
 "nbformat": 4,
 "nbformat_minor": 4
}
