{
 "cells": [
  {
   "cell_type": "markdown",
   "metadata": {},
   "source": [
    "# 4. A taste of composition with RepLAB\n",
    "\n",
    "This is part IV of the companion notebook to the RepLAB talk at the [Quantum Causal Structures](http://www.cs.ox.ac.uk/conferences/QCS2019/) workshop."
   ]
  },
  {
   "cell_type": "code",
   "execution_count": 1,
   "metadata": {},
   "outputs": [
    {
     "name": "stdout",
     "output_type": "stream",
     "text": [
      "Adding RepLAB to the path\r\n",
      "warning: function /home/denis/Projects/replab/src/help.m shadows a core library function\r\n",
      "Adding RepLAB package to the path\r\n",
      "Adding VPI to the path\r\n",
      "Adding MOxUnit to the path\r\n",
      "Adding embedded YALMIP to the path\r\n",
      "Adding embedded SDPT3 solver to the path\r\n",
      "Adding MOcov to the path\r\n"
     ]
    }
   ],
   "source": [
    "run ../../../replab_init.m % Init RepLAB library"
   ]
  },
  {
   "cell_type": "markdown",
   "metadata": {},
   "source": [
    "## Party relabeling group\n",
    "We consider a party with $m$ measurement settings with $k$ outcomes."
   ]
  },
  {
   "cell_type": "code",
   "execution_count": 2,
   "metadata": {},
   "outputs": [
    {
     "name": "stdout",
     "output_type": "stream",
     "text": [
      "error: member `WreathProductGroup' in package `replab' does not exist\r\n"
     ]
    }
   ],
   "source": [
    "m = 2; k = 2;\n",
    "Goutcomes = replab.S(k);\n",
    "Gsettings = replab.S(m);\n",
    "Gparty = replab.WreathProductGroup(Gsettings, Goutcomes)"
   ]
  },
  {
   "cell_type": "markdown",
   "metadata": {},
   "source": [
    "We now define the two canonical representations of a wreath product group. For party relabeling groups, they correspond to conditional probability distributions and to deterministic strategies."
   ]
  },
  {
   "cell_type": "code",
   "execution_count": 3,
   "metadata": {},
   "outputs": [
    {
     "name": "stdout",
     "output_type": "stream",
     "text": [
      "error: 'Gparty' undefined near line 1 column 18\r\n"
     ]
    }
   ],
   "source": [
    "probabilityRep = Gparty.imprimitiveRep(Goutcomes.definingRep)"
   ]
  },
  {
   "cell_type": "code",
   "execution_count": 4,
   "metadata": {},
   "outputs": [
    {
     "name": "stdout",
     "output_type": "stream",
     "text": [
      "error: 'Gparty' undefined near line 1 column 15\r\n"
     ]
    }
   ],
   "source": [
    "strategyRep = Gparty.primitiveRep(Goutcomes.naturalRep)"
   ]
  },
  {
   "cell_type": "markdown",
   "metadata": {},
   "source": [
    "We can decompose those representations. For $m=k=2$, the probability representation has invariant vectors `[1,1,1,1]` (corresponding to overall normalization), `[1,1,-1,-1]` (corresponding to equal normalization accross settings), and an additional orthogonal space corresponding to the correlations."
   ]
  },
  {
   "cell_type": "code",
   "execution_count": 5,
   "metadata": {},
   "outputs": [
    {
     "name": "stdout",
     "output_type": "stream",
     "text": [
      "error: 'probabilityRep' undefined near line 1 column 1\r\n"
     ]
    }
   ],
   "source": [
    "probabilityRep.decomposition"
   ]
  },
  {
   "cell_type": "code",
   "execution_count": 6,
   "metadata": {},
   "outputs": [
    {
     "name": "stdout",
     "output_type": "stream",
     "text": [
      "error: 'probabilityRep' undefined near line 1 column 1\r\n"
     ]
    }
   ],
   "source": [
    "probabilityRep.decomposition.component(1).copy(1)"
   ]
  },
  {
   "cell_type": "code",
   "execution_count": 7,
   "metadata": {},
   "outputs": [
    {
     "name": "stdout",
     "output_type": "stream",
     "text": [
      "error: 'probabilityRep' undefined near line 1 column 1\r\n"
     ]
    }
   ],
   "source": [
    "probabilityRep.decomposition.component(2).copy(1)"
   ]
  },
  {
   "cell_type": "markdown",
   "metadata": {},
   "source": [
    "We could also examine the representation on deterministic strategies; this is left to the reader."
   ]
  },
  {
   "cell_type": "code",
   "execution_count": 8,
   "metadata": {},
   "outputs": [
    {
     "name": "stdout",
     "output_type": "stream",
     "text": [
      "error: 'strategyRep' undefined near line 1 column 1\r\n"
     ]
    }
   ],
   "source": [
    "strategyRep.decomposition"
   ]
  },
  {
   "cell_type": "markdown",
   "metadata": {},
   "source": [
    "## Bell relabeling group\n",
    "We now consider a scenario of $n$ parties with $m$ settings and $k$ outcomes (as before), and construct the representation on joint conditional probabilities. For $n=m=k=2$, we reproduce the results of [our paper](https://iopscience.iop.org/article/10.1088/1751-8121/aa6f78)."
   ]
  },
  {
   "cell_type": "code",
   "execution_count": 9,
   "metadata": {},
   "outputs": [
    {
     "name": "stdout",
     "output_type": "stream",
     "text": [
      "error: member `WreathProductGroup' in package `replab' does not exist\r\n"
     ]
    }
   ],
   "source": [
    "n = 2;\n",
    "m = 2; k = 2;\n",
    "Gparties = replab.S(n);\n",
    "Gscenario = replab.WreathProductGroup(Gparties, Gparty)"
   ]
  },
  {
   "cell_type": "code",
   "execution_count": 10,
   "metadata": {},
   "outputs": [
    {
     "name": "stdout",
     "output_type": "stream",
     "text": [
      "error: 'Gscenario' undefined near line 1 column 26\r\n"
     ]
    }
   ],
   "source": [
    "probabilityScenarioRep = Gscenario.primitiveRep(Gparty.imprimitiveRep(Gsettings.naturalRep))"
   ]
  },
  {
   "cell_type": "code",
   "execution_count": 11,
   "metadata": {},
   "outputs": [
    {
     "name": "stdout",
     "output_type": "stream",
     "text": [
      "error: 'probabilityScenarioRep' undefined near line 1 column 1\r\n"
     ]
    }
   ],
   "source": [
    "probabilityScenarioRep.decomposition"
   ]
  }
 ],
 "metadata": {
  "kernelspec": {
   "display_name": "Octave",
   "language": "octave",
   "name": "octave"
  },
  "language_info": {
   "file_extension": ".m",
   "help_links": [
    {
     "text": "GNU Octave",
     "url": "https://www.gnu.org/software/octave/support.html"
    },
    {
     "text": "Octave Kernel",
     "url": "https://github.com/Calysto/octave_kernel"
    },
    {
     "text": "MetaKernel Magics",
     "url": "https://metakernel.readthedocs.io/en/latest/source/README.html"
    }
   ],
   "mimetype": "text/x-octave",
   "name": "octave",
   "version": "4.4.1"
  }
 },
 "nbformat": 4,
 "nbformat_minor": 4
}
