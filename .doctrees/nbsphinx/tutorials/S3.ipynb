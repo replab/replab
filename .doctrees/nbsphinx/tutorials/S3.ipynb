{
 "cells": [
  {
   "cell_type": "markdown",
   "id": "3e9f3963",
   "metadata": {},
   "source": [
    "# Tutorial for mathematicians\n",
    "\n",
    "The symmetric group $S_n$ is group of primary importance. Here, we consider this group for $n=3$ and discuss several of its representations with *RepLAB*.\n",
    "\n",
    "Before trying any of the *RepLAB* commands, we must initialize the library:"
   ]
  },
  {
   "cell_type": "code",
   "execution_count": 1,
   "id": "2751d179",
   "metadata": {
    "execution": {
     "iopub.execute_input": "2021-07-29T16:43:31.040799Z",
     "iopub.status.busy": "2021-07-29T16:43:31.039688Z",
     "iopub.status.idle": "2021-07-29T16:43:34.996272Z",
     "shell.execute_reply": "2021-07-29T16:43:34.995904Z"
    }
   },
   "outputs": [],
   "source": [
    "addpath([pwd, '/../..']);\n",
    "replab_init('verbose', 0);"
   ]
  },
  {
   "cell_type": "markdown",
   "id": "728be8fd",
   "metadata": {},
   "source": [
    "## The symmetric group\n",
    "\n",
    "Consider $n$ distinct elements, numbered $1,2,\\ldots,n$. The symmetric group describes all possible ways in which these elements can be permuted.\n",
    "\n",
    "With $n=3$, for instance, two possible arrangements are"
   ]
  },
  {
   "cell_type": "code",
   "execution_count": 2,
   "id": "3bbe089b",
   "metadata": {
    "execution": {
     "iopub.execute_input": "2021-07-29T16:43:34.998346Z",
     "iopub.status.busy": "2021-07-29T16:43:34.998063Z",
     "iopub.status.idle": "2021-07-29T16:43:35.005791Z",
     "shell.execute_reply": "2021-07-29T16:43:35.005540Z"
    }
   },
   "outputs": [],
   "source": [
    "[1 2 3];"
   ]
  },
  {
   "cell_type": "markdown",
   "id": "a59765ba",
   "metadata": {},
   "source": [
    "and"
   ]
  },
  {
   "cell_type": "code",
   "execution_count": 3,
   "id": "eb55e728",
   "metadata": {
    "execution": {
     "iopub.execute_input": "2021-07-29T16:43:35.007605Z",
     "iopub.status.busy": "2021-07-29T16:43:35.007286Z",
     "iopub.status.idle": "2021-07-29T16:43:35.015794Z",
     "shell.execute_reply": "2021-07-29T16:43:35.015554Z"
    }
   },
   "outputs": [],
   "source": [
    "[1 3 2];"
   ]
  },
  {
   "cell_type": "markdown",
   "id": "412e9194",
   "metadata": {},
   "source": [
    "In general there are $n!$ such arrangements (i.e. $6$ arrangements for $n=3$).\n",
    "\n",
    "In *RepLAB*, the symmetric group can be constructed with a simple command"
   ]
  },
  {
   "cell_type": "code",
   "execution_count": 4,
   "id": "1ad79a37",
   "metadata": {
    "execution": {
     "iopub.execute_input": "2021-07-29T16:43:35.017448Z",
     "iopub.status.busy": "2021-07-29T16:43:35.017176Z",
     "iopub.status.idle": "2021-07-29T16:43:35.042577Z",
     "shell.execute_reply": "2021-07-29T16:43:35.042799Z"
    }
   },
   "outputs": [],
   "source": [
    "n = 3;\n",
    "S3 = replab.S(n);"
   ]
  },
  {
   "cell_type": "markdown",
   "id": "bafb879d",
   "metadata": {},
   "source": [
    "The elements of the group can be easily listed"
   ]
  },
  {
   "cell_type": "code",
   "execution_count": 5,
   "id": "e9d63752",
   "metadata": {
    "execution": {
     "iopub.execute_input": "2021-07-29T16:43:35.044804Z",
     "iopub.status.busy": "2021-07-29T16:43:35.044516Z",
     "iopub.status.idle": "2021-07-29T16:43:35.125334Z",
     "shell.execute_reply": "2021-07-29T16:43:35.125066Z"
    }
   },
   "outputs": [
    {
     "name": "stdout",
     "output_type": "stream",
     "text": [
      "ans =\r\n",
      "\r\n",
      "Indexed family of 6 elements\r\n",
      "1 = [1, 2, 3]\r\n",
      "2 = [1, 3, 2]\r\n",
      "3 = [2, 1, 3]\r\n",
      "4 = [2, 3, 1]\r\n",
      "5 = [3, 1, 2]\r\n",
      "6 = [3, 2, 1]\r\n",
      "\r\n"
     ]
    }
   ],
   "source": [
    "S3.elements"
   ]
  },
  {
   "cell_type": "markdown",
   "id": "3b49be2b",
   "metadata": {},
   "source": [
    "The number of elements is the order of the group"
   ]
  },
  {
   "cell_type": "code",
   "execution_count": 6,
   "id": "749cad60",
   "metadata": {
    "execution": {
     "iopub.execute_input": "2021-07-29T16:43:35.127494Z",
     "iopub.status.busy": "2021-07-29T16:43:35.127197Z",
     "iopub.status.idle": "2021-07-29T16:43:35.136010Z",
     "shell.execute_reply": "2021-07-29T16:43:35.135722Z"
    }
   },
   "outputs": [
    {
     "name": "stdout",
     "output_type": "stream",
     "text": [
      "ans =\r\n",
      "    6\r\n"
     ]
    }
   ],
   "source": [
    "S3.order"
   ]
  },
  {
   "cell_type": "markdown",
   "id": "37f55e6c",
   "metadata": {},
   "source": [
    "As we see, permutations are represented by row-vectors with an arrangement of the elements $1,\\ldots,n$.\n",
    "\n",
    "The group structure defines how elements of the group compose with each other. \n",
    "For instance, permuting the first two elements in $1,2,3$, followed by a permutation of the second and third elements results in a cyclic permutation:"
   ]
  },
  {
   "cell_type": "code",
   "execution_count": 7,
   "id": "7a4b1773",
   "metadata": {
    "execution": {
     "iopub.execute_input": "2021-07-29T16:43:35.137724Z",
     "iopub.status.busy": "2021-07-29T16:43:35.137441Z",
     "iopub.status.idle": "2021-07-29T16:43:35.150987Z",
     "shell.execute_reply": "2021-07-29T16:43:35.150705Z"
    }
   },
   "outputs": [
    {
     "name": "stdout",
     "output_type": "stream",
     "text": [
      "ans =\r\n",
      "\r\n",
      "   2   3   1\r\n",
      "\r\n"
     ]
    }
   ],
   "source": [
    "element1 = [2 1 3];\n",
    "element2 = [1 3 2];\n",
    "S3.compose(element1, element2)"
   ]
  },
  {
   "cell_type": "markdown",
   "id": "21b798d1",
   "metadata": {},
   "source": [
    "## The natural representation of S(3)\n",
    "\n",
    "A group can always be represented by matrices of finite dimension. In a $d$-dimensional matrix representation, each group element is associated with a $d \\times d$ matrix called the image of the group\n",
    "element. The action of matrix multiplication on the images then reflects the group composition rule.\n",
    "\n",
    "Several matrix representations are possible for the same group, possibly in various dimension $d$. Here, we are going to explore some representations of the group $S_3$\n",
    "\n",
    "When seeing the group as a permutation within $n$ elements, a natural choice of representation arises in dimension $d=n$, where the permutation\n",
    "is applied to the coordinates of the vector space $R^n$. This is called the *natural representation* of a group. It can be constructed easily:"
   ]
  },
  {
   "cell_type": "code",
   "execution_count": 8,
   "id": "9f441ac1",
   "metadata": {
    "execution": {
     "iopub.execute_input": "2021-07-29T16:43:35.152883Z",
     "iopub.status.busy": "2021-07-29T16:43:35.152610Z",
     "iopub.status.idle": "2021-07-29T16:43:35.249384Z",
     "shell.execute_reply": "2021-07-29T16:43:35.249614Z"
    }
   },
   "outputs": [],
   "source": [
    "natRep = S3.naturalRep;"
   ]
  },
  {
   "cell_type": "markdown",
   "id": "fa82aa0e",
   "metadata": {},
   "source": [
    "The image of a group element in this representation can be extracted"
   ]
  },
  {
   "cell_type": "code",
   "execution_count": 9,
   "id": "e2ea4acc",
   "metadata": {
    "execution": {
     "iopub.execute_input": "2021-07-29T16:43:35.251536Z",
     "iopub.status.busy": "2021-07-29T16:43:35.251260Z",
     "iopub.status.idle": "2021-07-29T16:43:35.260584Z",
     "shell.execute_reply": "2021-07-29T16:43:35.260294Z"
    }
   },
   "outputs": [
    {
     "name": "stdout",
     "output_type": "stream",
     "text": [
      "ans =\r\n",
      "\r\n",
      "   0   1   0\r\n",
      "   1   0   0\r\n",
      "   0   0   1\r\n",
      "\r\n"
     ]
    }
   ],
   "source": [
    "natRep.image([2 1 3])"
   ]
  },
  {
   "cell_type": "markdown",
   "id": "4af7afd2",
   "metadata": {},
   "source": [
    "We see that the matrices representing the group elements are $n \\times n$ permutation matrices, which simply apply the permutation to the coordinates of the vector space $R^n$.\n",
    "\n",
    "For a representation to be valid, the images must follow the structure of the group:"
   ]
  },
  {
   "cell_type": "code",
   "execution_count": 10,
   "id": "8dee7598",
   "metadata": {
    "execution": {
     "iopub.execute_input": "2021-07-29T16:43:35.262513Z",
     "iopub.status.busy": "2021-07-29T16:43:35.262198Z",
     "iopub.status.idle": "2021-07-29T16:43:35.281746Z",
     "shell.execute_reply": "2021-07-29T16:43:35.281418Z"
    }
   },
   "outputs": [
    {
     "name": "stdout",
     "output_type": "stream",
     "text": [
      "ans =\r\n",
      "\r\n",
      "   0   0   1\r\n",
      "   1   0   0\r\n",
      "   0   1   0\r\n",
      "\r\n"
     ]
    },
    {
     "name": "stdout",
     "output_type": "stream",
     "text": [
      "ans =\r\n",
      "\r\n",
      "   0   0   1\r\n",
      "   1   0   0\r\n",
      "   0   1   0\r\n",
      "\r\n"
     ]
    }
   ],
   "source": [
    "image1 = natRep.image(element1);\n",
    "image2 = natRep.image(element2);\n",
    "image1*image2\n",
    "natRep.image(S3.compose(element1, element2))"
   ]
  },
  {
   "cell_type": "markdown",
   "id": "d2b86fe0",
   "metadata": {},
   "source": [
    "We see that the image of the product of elements is indeed the product of the images of the respective elements, i.e. the algebra of matrices\n",
    "acting on the representation images accurately reflects the group algebra.\n",
    "\n",
    "It can be checked, moreover, that the natural representation is faithful, i.e. each group element has its own distinct image. This needs\n",
    "not always be the case as in the following two examples. \n",
    "\n",
    "## The parity representation of $S_3$\n",
    "\n",
    "To construct an arbitrary group representation in *RepLAB*, it is sufficient to provide the image of the generators of the group. The group $S_3$ has two generators:"
   ]
  },
  {
   "cell_type": "code",
   "execution_count": 11,
   "id": "3fc6adeb",
   "metadata": {
    "execution": {
     "iopub.execute_input": "2021-07-29T16:43:35.283424Z",
     "iopub.status.busy": "2021-07-29T16:43:35.283149Z",
     "iopub.status.idle": "2021-07-29T16:43:35.293675Z",
     "shell.execute_reply": "2021-07-29T16:43:35.293438Z"
    }
   },
   "outputs": [
    {
     "name": "stdout",
     "output_type": "stream",
     "text": [
      "ans =\r\n",
      "\r\n",
      "   2   3   1\r\n",
      "\r\n",
      "ans =\r\n",
      "\r\n",
      "   2   1   3\r\n",
      "\r\n"
     ]
    }
   ],
   "source": [
    "generators = S3.generators;\n",
    "generators{:}"
   ]
  },
  {
   "cell_type": "markdown",
   "id": "d1ef4955",
   "metadata": {},
   "source": [
    "Let us construct a representation of this group in dimension"
   ]
  },
  {
   "cell_type": "code",
   "execution_count": 12,
   "id": "f618d798",
   "metadata": {
    "execution": {
     "iopub.execute_input": "2021-07-29T16:43:35.295479Z",
     "iopub.status.busy": "2021-07-29T16:43:35.295203Z",
     "iopub.status.idle": "2021-07-29T16:43:35.302934Z",
     "shell.execute_reply": "2021-07-29T16:43:35.302697Z"
    }
   },
   "outputs": [],
   "source": [
    "d = 1;"
   ]
  },
  {
   "cell_type": "markdown",
   "id": "4b2f82d0",
   "metadata": {},
   "source": [
    "associating the each generator its parity (i.e. either $+1$ or $-1$). Since the parity of [2 3 1] is 1 and the parity of [2 1 3] is -1, this is achieved by instantiating the class *RepByImage* as follows:"
   ]
  },
  {
   "cell_type": "code",
   "execution_count": 13,
   "id": "b119b4fd",
   "metadata": {
    "execution": {
     "iopub.execute_input": "2021-07-29T16:43:35.304888Z",
     "iopub.status.busy": "2021-07-29T16:43:35.304614Z",
     "iopub.status.idle": "2021-07-29T16:43:35.316846Z",
     "shell.execute_reply": "2021-07-29T16:43:35.316562Z"
    }
   },
   "outputs": [
    {
     "name": "stdout",
     "output_type": "stream",
     "text": [
      "error: 'imagesErrorBound' undefined near line 16, column 16\r\n",
      "error: called from\r\n",
      "    RepByImages at line 16 column 35\r\n"
     ]
    }
   ],
   "source": [
    "parRep = replab.RepByImages(S3, 'R', d, {1 -1}, {1 -1});"
   ]
  },
  {
   "cell_type": "markdown",
   "id": "95ddc4d3",
   "metadata": {},
   "source": [
    "We can check that this representation is valid"
   ]
  },
  {
   "cell_type": "code",
   "execution_count": 14,
   "id": "29e85627",
   "metadata": {
    "execution": {
     "iopub.execute_input": "2021-07-29T16:43:35.318884Z",
     "iopub.status.busy": "2021-07-29T16:43:35.318609Z",
     "iopub.status.idle": "2021-07-29T16:43:35.346619Z",
     "shell.execute_reply": "2021-07-29T16:43:35.346318Z"
    }
   },
   "outputs": [
    {
     "name": "stdout",
     "output_type": "stream",
     "text": [
      "error: 'parRep' undefined near line 1, column 1\r\n"
     ]
    },
    {
     "name": "stdout",
     "output_type": "stream",
     "text": [
      "error: 'parRep' undefined near line 1, column 1\r\n"
     ]
    },
    {
     "name": "stdout",
     "output_type": "stream",
     "text": [
      "ans =\r\n",
      "\r\n",
      "   0   0   1\r\n",
      "   1   0   0\r\n",
      "   0   1   0\r\n",
      "\r\n"
     ]
    },
    {
     "name": "stdout",
     "output_type": "stream",
     "text": [
      "error: 'parRep' undefined near line 1, column 1\r\n"
     ]
    }
   ],
   "source": [
    "image1 = parRep.image(element1)\n",
    "image2 = parRep.image(element2)\n",
    "image1*image2\n",
    "parRep.image(S3.compose(element1, element2))"
   ]
  },
  {
   "cell_type": "markdown",
   "id": "0c7b3357",
   "metadata": {},
   "source": [
    "The parity of each binary permutation ``[2 1 3]`` and ``[1 3 2]`` is $-1$, and their product, the cycle [2 3 1], has parity $1$.\n",
    "\n",
    "Clearly, this representation carries some information about the group, namely the parity, but some elements have the same image:"
   ]
  },
  {
   "cell_type": "code",
   "execution_count": 15,
   "id": "4b1e4085",
   "metadata": {
    "execution": {
     "iopub.execute_input": "2021-07-29T16:43:35.348535Z",
     "iopub.status.busy": "2021-07-29T16:43:35.348247Z",
     "iopub.status.idle": "2021-07-29T16:43:35.416249Z",
     "shell.execute_reply": "2021-07-29T16:43:35.415874Z"
    }
   },
   "outputs": [
    {
     "name": "stdout",
     "output_type": "stream",
     "text": [
      "error: 'parRep' undefined near line 2, column 2\r\n"
     ]
    }
   ],
   "source": [
    "allElements = S3.elements.toCell;\n",
    "for i = 1:length(allElements)\n",
    "    disp(['Image of [', num2str(allElements{i}), '] : ', num2str(parRep.image(allElements{i}))]);\n",
    "end"
   ]
  },
  {
   "cell_type": "markdown",
   "id": "192b6bce",
   "metadata": {},
   "source": [
    "Therefore, this representation is not *faithful*.\n",
    "\n",
    "## The trivial representation of S(3)\n",
    "An even simpler representation of the group S(n) is one in which the image of all elements is set to $1$. This is called the *trivial representation*.\n",
    "\n",
    "It can be constructed similarly from the image of the generators:"
   ]
  },
  {
   "cell_type": "code",
   "execution_count": 16,
   "id": "f7ea7f98",
   "metadata": {
    "execution": {
     "iopub.execute_input": "2021-07-29T16:43:35.418845Z",
     "iopub.status.busy": "2021-07-29T16:43:35.418560Z",
     "iopub.status.idle": "2021-07-29T16:43:35.432528Z",
     "shell.execute_reply": "2021-07-29T16:43:35.432761Z"
    }
   },
   "outputs": [
    {
     "name": "stdout",
     "output_type": "stream",
     "text": [
      "error: 'imagesErrorBound' undefined near line 16, column 16\r\n",
      "error: called from\r\n",
      "    RepByImages at line 16 column 35\r\n"
     ]
    }
   ],
   "source": [
    "trivRep = replab.RepByImages(S3, 'R', d, {1 1}, {1 1});"
   ]
  },
  {
   "cell_type": "markdown",
   "id": "fc8c6ea5",
   "metadata": {},
   "source": [
    "This time, the group law is trivially satisfied since all images are indeed equal to $1$:"
   ]
  },
  {
   "cell_type": "code",
   "execution_count": 17,
   "id": "d7d5d52d",
   "metadata": {
    "execution": {
     "iopub.execute_input": "2021-07-29T16:43:35.434703Z",
     "iopub.status.busy": "2021-07-29T16:43:35.434399Z",
     "iopub.status.idle": "2021-07-29T16:43:35.454764Z",
     "shell.execute_reply": "2021-07-29T16:43:35.454455Z"
    }
   },
   "outputs": [
    {
     "name": "stdout",
     "output_type": "stream",
     "text": [
      "error: 'trivRep' undefined near line 2, column 2\r\n"
     ]
    }
   ],
   "source": [
    "for i = 1:length(allElements)\n",
    "    disp(['Image of [', num2str(allElements{i}), '] : ', num2str(trivRep.image(allElements{i}))]);\n",
    "end"
   ]
  },
  {
   "cell_type": "markdown",
   "id": "b7548ed8",
   "metadata": {},
   "source": [
    "## Direct sum of representation of S(3)\n",
    "\n",
    "We have seen that a group can admit several representations. Any two representations of a group in dimension $d_1$ and $d_2$ can be joined\n",
    "together by taking their *direct sum* in order to create a new valid representation in dimension $d_1 + d_2$.\n",
    "\n",
    "For instance, we can construct a $4$-dimensional representation of S(3) by taking the direct sum of the natural representation with the parity\n",
    "representation"
   ]
  },
  {
   "cell_type": "code",
   "execution_count": 18,
   "id": "f387dcba",
   "metadata": {
    "execution": {
     "iopub.execute_input": "2021-07-29T16:43:35.456872Z",
     "iopub.status.busy": "2021-07-29T16:43:35.456548Z",
     "iopub.status.idle": "2021-07-29T16:43:35.471084Z",
     "shell.execute_reply": "2021-07-29T16:43:35.470777Z"
    }
   },
   "outputs": [
    {
     "name": "stdout",
     "output_type": "stream",
     "text": [
      "error: 'parRep' undefined near line 1, column 1\r\n"
     ]
    }
   ],
   "source": [
    "newRep = blkdiag(natRep, parRep)"
   ]
  },
  {
   "cell_type": "markdown",
   "id": "9b8b941b",
   "metadata": {},
   "source": [
    "The images are then $4 \\times 4$ matrices"
   ]
  },
  {
   "cell_type": "code",
   "execution_count": 19,
   "id": "ad0f5ebe",
   "metadata": {
    "execution": {
     "iopub.execute_input": "2021-07-29T16:43:35.473121Z",
     "iopub.status.busy": "2021-07-29T16:43:35.472827Z",
     "iopub.status.idle": "2021-07-29T16:43:35.494920Z",
     "shell.execute_reply": "2021-07-29T16:43:35.494620Z"
    }
   },
   "outputs": [
    {
     "name": "stdout",
     "output_type": "stream",
     "text": [
      "error: 'newRep' undefined near line 1, column 1\r\n"
     ]
    },
    {
     "name": "stdout",
     "output_type": "stream",
     "text": [
      "error: 'newRep' undefined near line 1, column 1\r\n"
     ]
    }
   ],
   "source": [
    "newRep.image(element1)\n",
    "newRep.image(element2)"
   ]
  },
  {
   "cell_type": "markdown",
   "id": "7be052bb",
   "metadata": {},
   "source": [
    "As expected, the images have a block diagonal structure. The properties\n",
    "of a direct sum representation are thus captured by the properties of\n",
    "the representation in each block. Such a representation is *reducible*.\n",
    "\n",
    "## Irreducible representations of S(3)\n",
    "\n",
    "Given a representation, it is not always obvious whether it is the direct\n",
    "sum of more fundamental representations or if the representation is\n",
    "*irreducible*. For instance, the images of the natural representation\n",
    "introduced above are not obviously block-diagonal. Yet, this\n",
    "representation is also reducible. To see this, one needs to find a basis\n",
    "of the vector space $R^d$ in which the images have a block diagonal\n",
    "structure.\n",
    "\n",
    "This can be achieved in *RepLAB* by decomposing the representation"
   ]
  },
  {
   "cell_type": "code",
   "execution_count": 20,
   "id": "3d32a64a",
   "metadata": {
    "execution": {
     "iopub.execute_input": "2021-07-29T16:43:35.496764Z",
     "iopub.status.busy": "2021-07-29T16:43:35.496466Z",
     "iopub.status.idle": "2021-07-29T16:43:36.245632Z",
     "shell.execute_reply": "2021-07-29T16:43:36.245353Z"
    }
   },
   "outputs": [
    {
     "name": "stdout",
     "output_type": "stream",
     "text": [
      "ans = 2\r\n"
     ]
    }
   ],
   "source": [
    "natDec = natRep.decomposition.nice;\n",
    "natDec.nComponents"
   ]
  },
  {
   "cell_type": "markdown",
   "id": "7a0fcfb0",
   "metadata": {},
   "source": [
    "This shows that the defininig representation of $S_3$ has two *irreducible components*, of dimension $1$ and $2$ respectively:"
   ]
  },
  {
   "cell_type": "code",
   "execution_count": 21,
   "id": "202f6412",
   "metadata": {
    "execution": {
     "iopub.execute_input": "2021-07-29T16:43:36.247554Z",
     "iopub.status.busy": "2021-07-29T16:43:36.247248Z",
     "iopub.status.idle": "2021-07-29T16:43:36.259002Z",
     "shell.execute_reply": "2021-07-29T16:43:36.258679Z"
    }
   },
   "outputs": [
    {
     "name": "stdout",
     "output_type": "stream",
     "text": [
      "ans = 1\r\n"
     ]
    },
    {
     "name": "stdout",
     "output_type": "stream",
     "text": [
      "ans = 2\r\n"
     ]
    }
   ],
   "source": [
    "natDec.component(1).irrepDimension\n",
    "natDec.component(2).irrepDimension"
   ]
  },
  {
   "cell_type": "markdown",
   "id": "3637c91b",
   "metadata": {},
   "source": [
    "The decomposition also provides the change of basis matrix which makes |this decomposition apparent"
   ]
  },
  {
   "cell_type": "code",
   "execution_count": 22,
   "id": "65965a14",
   "metadata": {
    "execution": {
     "iopub.execute_input": "2021-07-29T16:43:36.260742Z",
     "iopub.status.busy": "2021-07-29T16:43:36.260433Z",
     "iopub.status.idle": "2021-07-29T16:43:36.269361Z",
     "shell.execute_reply": "2021-07-29T16:43:36.269083Z"
    }
   },
   "outputs": [
    {
     "name": "stdout",
     "output_type": "stream",
     "text": [
      "basis =\r\n",
      "\r\n",
      "   0.3333   0.6667  -0.3333\r\n",
      "   0.3333  -0.3333   0.6667\r\n",
      "   0.3333  -0.3333  -0.3333\r\n",
      "\r\n"
     ]
    }
   ],
   "source": [
    "basis = natDec.basis"
   ]
  },
  {
   "cell_type": "markdown",
   "id": "3afcf6b8",
   "metadata": {},
   "source": [
    "The images of the two elements of $S_3$, ``[2 1 3]`` and ``[1 3 2]`` are indeed block-diagonal in this basis:"
   ]
  },
  {
   "cell_type": "code",
   "execution_count": 23,
   "id": "b2ea9736",
   "metadata": {
    "execution": {
     "iopub.execute_input": "2021-07-29T16:43:36.271192Z",
     "iopub.status.busy": "2021-07-29T16:43:36.270883Z",
     "iopub.status.idle": "2021-07-29T16:43:36.283698Z",
     "shell.execute_reply": "2021-07-29T16:43:36.283949Z"
    }
   },
   "outputs": [
    {
     "name": "stdout",
     "output_type": "stream",
     "text": [
      "ans =\r\n",
      "\r\n",
      "   1   0   0\r\n",
      "   0   0   1\r\n",
      "   0   1   0\r\n",
      "\r\n"
     ]
    },
    {
     "name": "stdout",
     "output_type": "stream",
     "text": [
      "ans =\r\n",
      "\r\n",
      "   1   0   0\r\n",
      "   0   1  -1\r\n",
      "   0   0  -1\r\n",
      "\r\n"
     ]
    }
   ],
   "source": [
    "inv(basis)*natRep.image(element1)*basis\n",
    "inv(basis)*natRep.image(element2)*basis"
   ]
  },
  {
   "cell_type": "markdown",
   "id": "6c126c6d",
   "metadata": {},
   "source": [
    "## Summary\n",
    "\n",
    "This shows that the natural representation of S(3) contains\n",
    "\n",
    "* One copy of the trivial representation of S(3)\n",
    "* One copy of the a faithful 2 x 2 representation of S(3)"
   ]
  }
 ],
 "metadata": {
  "jupytext": {
   "cell_metadata_filter": "-all",
   "main_language": "matlab",
   "notebook_metadata_filter": "-all",
   "text_representation": {
    "extension": ".m",
    "format_name": "light"
   }
  },
  "language_info": {
   "file_extension": ".m",
   "help_links": [
    {
     "text": "GNU Octave",
     "url": "https://www.gnu.org/software/octave/support.html"
    },
    {
     "text": "Octave Kernel",
     "url": "https://github.com/Calysto/octave_kernel"
    },
    {
     "text": "MetaKernel Magics",
     "url": "https://metakernel.readthedocs.io/en/latest/source/README.html"
    }
   ],
   "mimetype": "text/x-octave",
   "name": "octave",
   "version": "6.2.0"
  }
 },
 "nbformat": 4,
 "nbformat_minor": 5
}
