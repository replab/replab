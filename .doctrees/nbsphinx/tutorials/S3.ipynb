{
 "cells": [
  {
   "cell_type": "markdown",
   "id": "6fdcd03a",
   "metadata": {},
   "source": [
    "# Tutorial for mathematicians\n",
    "\n",
    "The symmetric group $S_n$ is group of primary importance. Here, we consider this group for $n=3$ and discuss several of its representations with *RepLAB*.\n",
    "\n",
    "Before trying any of the *RepLAB* commands, we must initialize the library:"
   ]
  },
  {
   "cell_type": "code",
   "execution_count": 1,
   "id": "78e0596e",
   "metadata": {
    "execution": {
     "iopub.execute_input": "2021-07-30T06:56:37.125016Z",
     "iopub.status.busy": "2021-07-30T06:56:37.123410Z",
     "iopub.status.idle": "2021-07-30T06:56:43.619133Z",
     "shell.execute_reply": "2021-07-30T06:56:43.618199Z"
    }
   },
   "outputs": [],
   "source": [
    "addpath([pwd, '/../..']);\n",
    "replab_init('verbose', 0);"
   ]
  },
  {
   "cell_type": "markdown",
   "id": "deb8345f",
   "metadata": {},
   "source": [
    "## The symmetric group\n",
    "\n",
    "Consider $n$ distinct elements, numbered $1,2,\\ldots,n$. The symmetric group describes all possible ways in which these elements can be permuted.\n",
    "\n",
    "With $n=3$, for instance, two possible arrangements are"
   ]
  },
  {
   "cell_type": "code",
   "execution_count": 2,
   "id": "3445805c",
   "metadata": {
    "execution": {
     "iopub.execute_input": "2021-07-30T06:56:43.622667Z",
     "iopub.status.busy": "2021-07-30T06:56:43.622158Z",
     "iopub.status.idle": "2021-07-30T06:56:43.635296Z",
     "shell.execute_reply": "2021-07-30T06:56:43.635649Z"
    }
   },
   "outputs": [],
   "source": [
    "[1 2 3];"
   ]
  },
  {
   "cell_type": "markdown",
   "id": "994101b7",
   "metadata": {},
   "source": [
    "and"
   ]
  },
  {
   "cell_type": "code",
   "execution_count": 3,
   "id": "d8e7d021",
   "metadata": {
    "execution": {
     "iopub.execute_input": "2021-07-30T06:56:43.639344Z",
     "iopub.status.busy": "2021-07-30T06:56:43.638756Z",
     "iopub.status.idle": "2021-07-30T06:56:43.653132Z",
     "shell.execute_reply": "2021-07-30T06:56:43.652607Z"
    }
   },
   "outputs": [],
   "source": [
    "[1 3 2];"
   ]
  },
  {
   "cell_type": "markdown",
   "id": "dc54024b",
   "metadata": {},
   "source": [
    "In general there are $n!$ such arrangements (i.e. $6$ arrangements for $n=3$).\n",
    "\n",
    "In *RepLAB*, the symmetric group can be constructed with a simple command"
   ]
  },
  {
   "cell_type": "code",
   "execution_count": 4,
   "id": "41fbebd9",
   "metadata": {
    "execution": {
     "iopub.execute_input": "2021-07-30T06:56:43.655638Z",
     "iopub.status.busy": "2021-07-30T06:56:43.655181Z",
     "iopub.status.idle": "2021-07-30T06:56:43.699339Z",
     "shell.execute_reply": "2021-07-30T06:56:43.698869Z"
    }
   },
   "outputs": [],
   "source": [
    "n = 3;\n",
    "S3 = replab.S(n);"
   ]
  },
  {
   "cell_type": "markdown",
   "id": "dcc83241",
   "metadata": {},
   "source": [
    "The elements of the group can be easily listed"
   ]
  },
  {
   "cell_type": "code",
   "execution_count": 5,
   "id": "4d797035",
   "metadata": {
    "execution": {
     "iopub.execute_input": "2021-07-30T06:56:43.701852Z",
     "iopub.status.busy": "2021-07-30T06:56:43.701405Z",
     "iopub.status.idle": "2021-07-30T06:56:43.827183Z",
     "shell.execute_reply": "2021-07-30T06:56:43.826773Z"
    }
   },
   "outputs": [
    {
     "name": "stdout",
     "output_type": "stream",
     "text": [
      "ans ="
     ]
    },
    {
     "name": "stdout",
     "output_type": "stream",
     "text": [
      "\r"
     ]
    },
    {
     "name": "stdout",
     "output_type": "stream",
     "text": [
      "\n"
     ]
    },
    {
     "name": "stdout",
     "output_type": "stream",
     "text": [
      "\r\n",
      "Indexed family of 6 elements\r\n",
      "1 = [1, 2, 3]\r\n",
      "2 = [1, 3, 2]\r\n",
      "3 = [2, 1, 3]\r\n",
      "4 = [2, 3, 1]\r\n",
      "5 = [3, 1, 2]\r\n",
      "6 = [3, 2, 1]\r\n",
      "\r\n"
     ]
    }
   ],
   "source": [
    "S3.elements"
   ]
  },
  {
   "cell_type": "markdown",
   "id": "ae7572f2",
   "metadata": {},
   "source": [
    "The number of elements is the order of the group"
   ]
  },
  {
   "cell_type": "code",
   "execution_count": 6,
   "id": "ec68622d",
   "metadata": {
    "execution": {
     "iopub.execute_input": "2021-07-30T06:56:43.829938Z",
     "iopub.status.busy": "2021-07-30T06:56:43.829457Z",
     "iopub.status.idle": "2021-07-30T06:56:43.845173Z",
     "shell.execute_reply": "2021-07-30T06:56:43.843605Z"
    }
   },
   "outputs": [
    {
     "name": "stdout",
     "output_type": "stream",
     "text": [
      "ans =\r\n",
      "    6\r\n"
     ]
    }
   ],
   "source": [
    "S3.order"
   ]
  },
  {
   "cell_type": "markdown",
   "id": "cce7b923",
   "metadata": {},
   "source": [
    "As we see, permutations are represented by row-vectors with an arrangement of the elements $1,\\ldots,n$.\n",
    "\n",
    "The group structure defines how elements of the group compose with each other.\n",
    "For instance, permuting the first two elements in $1,2,3$, followed by a permutation of the second and third elements results in a cyclic permutation:"
   ]
  },
  {
   "cell_type": "code",
   "execution_count": 7,
   "id": "5a976d8d",
   "metadata": {
    "execution": {
     "iopub.execute_input": "2021-07-30T06:56:43.847852Z",
     "iopub.status.busy": "2021-07-30T06:56:43.847369Z",
     "iopub.status.idle": "2021-07-30T06:56:43.870739Z",
     "shell.execute_reply": "2021-07-30T06:56:43.869948Z"
    }
   },
   "outputs": [
    {
     "name": "stdout",
     "output_type": "stream",
     "text": [
      "ans =\r\n",
      "\r\n",
      "   2   3   1\r\n",
      "\r\n"
     ]
    }
   ],
   "source": [
    "element1 = [2 1 3];\n",
    "element2 = [1 3 2];\n",
    "S3.compose(element1, element2)"
   ]
  },
  {
   "cell_type": "markdown",
   "id": "1401295f",
   "metadata": {},
   "source": [
    "## The natural representation of S(3)\n",
    "\n",
    "A group can always be represented by matrices of finite dimension. In a $d$-dimensional matrix representation, each group element is associated with a $d \\times d$ matrix called the image of the group\n",
    "element. The action of matrix multiplication on the images then reflects the group composition rule.\n",
    "\n",
    "Several matrix representations are possible for the same group, possibly in various dimension $d$. Here, we are going to explore some representations of the group $S_3$\n",
    "\n",
    "When seeing the group as a permutation within $n$ elements, a natural choice of representation arises in dimension $d=n$, where the permutation\n",
    "is applied to the coordinates of the vector space $R^n$. This is called the *natural representation* of a group. It can be constructed easily:"
   ]
  },
  {
   "cell_type": "code",
   "execution_count": 8,
   "id": "ca864190",
   "metadata": {
    "execution": {
     "iopub.execute_input": "2021-07-30T06:56:43.873232Z",
     "iopub.status.busy": "2021-07-30T06:56:43.872773Z",
     "iopub.status.idle": "2021-07-30T06:56:44.023489Z",
     "shell.execute_reply": "2021-07-30T06:56:44.022702Z"
    }
   },
   "outputs": [],
   "source": [
    "natRep = S3.naturalRep;"
   ]
  },
  {
   "cell_type": "markdown",
   "id": "0bc82be9",
   "metadata": {},
   "source": [
    "The image of a group element in this representation can be extracted"
   ]
  },
  {
   "cell_type": "code",
   "execution_count": 9,
   "id": "00fad1f3",
   "metadata": {
    "execution": {
     "iopub.execute_input": "2021-07-30T06:56:44.027502Z",
     "iopub.status.busy": "2021-07-30T06:56:44.026977Z",
     "iopub.status.idle": "2021-07-30T06:56:44.040646Z",
     "shell.execute_reply": "2021-07-30T06:56:44.040249Z"
    }
   },
   "outputs": [
    {
     "name": "stdout",
     "output_type": "stream",
     "text": [
      "ans =\r\n",
      "\r\n",
      "   0   1   0\r\n",
      "   1   0   0\r\n",
      "   0   0   1\r\n",
      "\r\n"
     ]
    }
   ],
   "source": [
    "natRep.image([2 1 3])"
   ]
  },
  {
   "cell_type": "markdown",
   "id": "8cb13ba7",
   "metadata": {},
   "source": [
    "We see that the matrices representing the group elements are $n \\times n$ permutation matrices, which simply apply the permutation to the coordinates of the vector space $R^n$.\n",
    "\n",
    "For a representation to be valid, the images must follow the structure of the group:"
   ]
  },
  {
   "cell_type": "code",
   "execution_count": 10,
   "id": "0c6a9a24",
   "metadata": {
    "execution": {
     "iopub.execute_input": "2021-07-30T06:56:44.043273Z",
     "iopub.status.busy": "2021-07-30T06:56:44.042875Z",
     "iopub.status.idle": "2021-07-30T06:56:44.075131Z",
     "shell.execute_reply": "2021-07-30T06:56:44.075648Z"
    }
   },
   "outputs": [
    {
     "name": "stdout",
     "output_type": "stream",
     "text": [
      "ans =\r\n",
      "\r\n",
      "   0   0   1\r\n",
      "   1   0   0\r\n",
      "   0   1   0\r\n",
      "\r\n"
     ]
    },
    {
     "name": "stdout",
     "output_type": "stream",
     "text": [
      "ans =\r\n",
      "\r\n",
      "   0   0   1\r\n",
      "   1   0   0\r\n",
      "   0   1   0\r\n",
      "\r\n"
     ]
    }
   ],
   "source": [
    "image1 = natRep.image(element1);\n",
    "image2 = natRep.image(element2);\n",
    "image1*image2\n",
    "natRep.image(S3.compose(element1, element2))"
   ]
  },
  {
   "cell_type": "markdown",
   "id": "ce0e807f",
   "metadata": {},
   "source": [
    "We see that the image of the product of elements is indeed the product of the images of the respective elements, i.e. the algebra of matrices\n",
    "acting on the representation images accurately reflects the group algebra.\n",
    "\n",
    "It can be checked, moreover, that the natural representation is faithful, i.e. each group element has its own distinct image. This needs\n",
    "not always be the case as in the following two examples.\n",
    "\n",
    "## The parity representation of $S_3$\n",
    "\n",
    "To construct an arbitrary group representation in *RepLAB*, it is sufficient to provide the image of the generators of the group. The group $S_3$ has two generators:"
   ]
  },
  {
   "cell_type": "code",
   "execution_count": 11,
   "id": "5901accb",
   "metadata": {
    "execution": {
     "iopub.execute_input": "2021-07-30T06:56:44.078769Z",
     "iopub.status.busy": "2021-07-30T06:56:44.078224Z",
     "iopub.status.idle": "2021-07-30T06:56:44.096427Z",
     "shell.execute_reply": "2021-07-30T06:56:44.095991Z"
    }
   },
   "outputs": [
    {
     "name": "stdout",
     "output_type": "stream",
     "text": [
      "ans =\r\n",
      "\r\n",
      "   2   3   1\r\n",
      "\r\n",
      "ans =\r\n",
      "\r\n",
      "   2   1   3\r\n",
      "\r\n"
     ]
    }
   ],
   "source": [
    "generators = S3.generators;\n",
    "generators{:}"
   ]
  },
  {
   "cell_type": "markdown",
   "id": "cb16252e",
   "metadata": {},
   "source": [
    "Let us construct a representation of this group in dimension"
   ]
  },
  {
   "cell_type": "code",
   "execution_count": 12,
   "id": "99353c33",
   "metadata": {
    "execution": {
     "iopub.execute_input": "2021-07-30T06:56:44.099276Z",
     "iopub.status.busy": "2021-07-30T06:56:44.098827Z",
     "iopub.status.idle": "2021-07-30T06:56:44.111521Z",
     "shell.execute_reply": "2021-07-30T06:56:44.111123Z"
    }
   },
   "outputs": [],
   "source": [
    "d = 1;"
   ]
  },
  {
   "cell_type": "markdown",
   "id": "fdcd1c63",
   "metadata": {},
   "source": [
    "associating the each generator its parity (i.e. either $+1$ or $-1$). Since the parity of [2 3 1] is 1 and the parity of [2 1 3] is -1, this is achieved by instantiating calling the *repByImages* methods on the group:"
   ]
  },
  {
   "cell_type": "code",
   "execution_count": 13,
   "id": "0559cf2c",
   "metadata": {
    "execution": {
     "iopub.execute_input": "2021-07-30T06:56:44.114260Z",
     "iopub.status.busy": "2021-07-30T06:56:44.113821Z",
     "iopub.status.idle": "2021-07-30T06:56:44.280838Z",
     "shell.execute_reply": "2021-07-30T06:56:44.280033Z"
    }
   },
   "outputs": [],
   "source": [
    "parRep = S3.repByImages('R', d, 'preimages', S3.generators, 'images', {1 -1});"
   ]
  },
  {
   "cell_type": "markdown",
   "id": "66ffaf8b",
   "metadata": {},
   "source": [
    "We can check that this representation is valid"
   ]
  },
  {
   "cell_type": "code",
   "execution_count": 14,
   "id": "3f9b931e",
   "metadata": {
    "execution": {
     "iopub.execute_input": "2021-07-30T06:56:44.283856Z",
     "iopub.status.busy": "2021-07-30T06:56:44.283378Z",
     "iopub.status.idle": "2021-07-30T06:56:44.322081Z",
     "shell.execute_reply": "2021-07-30T06:56:44.321622Z"
    }
   },
   "outputs": [
    {
     "name": "stdout",
     "output_type": "stream",
     "text": [
      "image1 = -1\r\n"
     ]
    },
    {
     "name": "stdout",
     "output_type": "stream",
     "text": [
      "image2 = -1\r\n"
     ]
    },
    {
     "name": "stdout",
     "output_type": "stream",
     "text": [
      "ans = 1\r\n"
     ]
    },
    {
     "name": "stdout",
     "output_type": "stream",
     "text": [
      "ans = 1\r\n"
     ]
    }
   ],
   "source": [
    "image1 = parRep.image(element1)\n",
    "image2 = parRep.image(element2)\n",
    "image1*image2\n",
    "parRep.image(S3.compose(element1, element2))"
   ]
  },
  {
   "cell_type": "markdown",
   "id": "ce6b9992",
   "metadata": {},
   "source": [
    "The parity of each binary permutation ``[2 1 3]`` and ``[1 3 2]`` is $-1$, and their product, the cycle [2 3 1], has parity $1$.\n",
    "\n",
    "Clearly, this representation carries some information about the group, namely the parity, but some elements have the same image:"
   ]
  },
  {
   "cell_type": "code",
   "execution_count": 15,
   "id": "a316c513",
   "metadata": {
    "execution": {
     "iopub.execute_input": "2021-07-30T06:56:44.324988Z",
     "iopub.status.busy": "2021-07-30T06:56:44.324481Z",
     "iopub.status.idle": "2021-07-30T06:56:44.443369Z",
     "shell.execute_reply": "2021-07-30T06:56:44.442973Z"
    }
   },
   "outputs": [
    {
     "name": "stdout",
     "output_type": "stream",
     "text": [
      "Image of [1  2  3] : 1\r\n",
      "Image of [1  3  2] : -1\r\n",
      "Image of [2  1  3] : -1\r\n",
      "Image of [2  3  1] : 1\r\n",
      "Image of [3  1  2] : 1\r\n",
      "Image of [3  2  1] : -1\r\n"
     ]
    }
   ],
   "source": [
    "allElements = S3.elements.toCell;\n",
    "for i = 1:length(allElements)\n",
    "    disp(['Image of [', num2str(allElements{i}), '] : ', num2str(parRep.image(allElements{i}))]);\n",
    "end"
   ]
  },
  {
   "cell_type": "markdown",
   "id": "f55737f4",
   "metadata": {},
   "source": [
    "Therefore, this representation is not *faithful*.\n",
    "\n",
    "## The trivial representation of S(3)\n",
    "An even simpler representation of the group S(n) is one in which the image of all elements is set to $1$. This is called the *trivial representation*.\n",
    "\n",
    "It can be constructed similarly from the image of the generators:"
   ]
  },
  {
   "cell_type": "code",
   "execution_count": 16,
   "id": "f4a7b225",
   "metadata": {
    "execution": {
     "iopub.execute_input": "2021-07-30T06:56:44.446170Z",
     "iopub.status.busy": "2021-07-30T06:56:44.445726Z",
     "iopub.status.idle": "2021-07-30T06:56:44.574209Z",
     "shell.execute_reply": "2021-07-30T06:56:44.573725Z"
    }
   },
   "outputs": [],
   "source": [
    "trivRep = S3.repByImages('R', d, 'preimages', S3.generators, 'images', {1 1});"
   ]
  },
  {
   "cell_type": "markdown",
   "id": "52400072",
   "metadata": {},
   "source": [
    "This time, the group law is trivially satisfied since all images are indeed equal to $1$:"
   ]
  },
  {
   "cell_type": "code",
   "execution_count": 17,
   "id": "98ecfe9d",
   "metadata": {
    "execution": {
     "iopub.execute_input": "2021-07-30T06:56:44.576838Z",
     "iopub.status.busy": "2021-07-30T06:56:44.576370Z",
     "iopub.status.idle": "2021-07-30T06:56:44.613998Z",
     "shell.execute_reply": "2021-07-30T06:56:44.614342Z"
    }
   },
   "outputs": [
    {
     "name": "stdout",
     "output_type": "stream",
     "text": [
      "Image of [1  2  3] : 1\r\n",
      "Image of [1  3  2] : 1\r\n",
      "Image of [2  1  3] : 1\r\n",
      "Image of [2  3  1] : 1\r\n",
      "Image of [3  1  2] : 1\r\n",
      "Image of [3  2  1] : 1\r\n"
     ]
    }
   ],
   "source": [
    "for i = 1:length(allElements)\n",
    "    disp(['Image of [', num2str(allElements{i}), '] : ', num2str(trivRep.image(allElements{i}))]);\n",
    "end"
   ]
  },
  {
   "cell_type": "markdown",
   "id": "1d203dd8",
   "metadata": {},
   "source": [
    "## Direct sum of representation of S(3)\n",
    "\n",
    "We have seen that a group can admit several representations. Any two representations of a group in dimension $d_1$ and $d_2$ can be joined\n",
    "together by taking their *direct sum* in order to create a new valid representation in dimension $d_1 + d_2$.\n",
    "\n",
    "For instance, we can construct a $4$-dimensional representation of S(3) by taking the direct sum of the natural representation with the parity\n",
    "representation"
   ]
  },
  {
   "cell_type": "code",
   "execution_count": 18,
   "id": "5e8fce58",
   "metadata": {
    "execution": {
     "iopub.execute_input": "2021-07-30T06:56:44.617105Z",
     "iopub.status.busy": "2021-07-30T06:56:44.616640Z",
     "iopub.status.idle": "2021-07-30T06:56:44.657789Z",
     "shell.execute_reply": "2021-07-30T06:56:44.657380Z"
    }
   },
   "outputs": [
    {
     "name": "stdout",
     "output_type": "stream",
     "text": [
      "newRep =\r\n",
      "\r\n",
      "Orthogonal direct sum representation\r\n",
      "          dimension: 4\r\n",
      "divisionAlgebraName: []\r\n",
      "              field: 'R'\r\n",
      "              group: Symmetric group acting on 3 elements\r\n",
      "          isUnitary: true\r\n",
      "          factor(1): Orthogonal reducible representation\r\n",
      "          factor(2): Orthogonal representation\r\n",
      "\r\n"
     ]
    }
   ],
   "source": [
    "newRep = blkdiag(natRep, parRep)"
   ]
  },
  {
   "cell_type": "markdown",
   "id": "7f681f99",
   "metadata": {},
   "source": [
    "The images are then $4 \\times 4$ matrices"
   ]
  },
  {
   "cell_type": "code",
   "execution_count": 19,
   "id": "5291d294",
   "metadata": {
    "execution": {
     "iopub.execute_input": "2021-07-30T06:56:44.660276Z",
     "iopub.status.busy": "2021-07-30T06:56:44.659831Z",
     "iopub.status.idle": "2021-07-30T06:56:44.684919Z",
     "shell.execute_reply": "2021-07-30T06:56:44.684502Z"
    }
   },
   "outputs": [
    {
     "name": "stdout",
     "output_type": "stream",
     "text": [
      "ans =\r\n",
      "\r\n",
      "   0   1   0   0\r\n",
      "   1   0   0   0\r\n",
      "   0   0   1   0\r\n",
      "   0   0   0  -1\r\n",
      "\r\n"
     ]
    },
    {
     "name": "stdout",
     "output_type": "stream",
     "text": [
      "ans =\r\n",
      "\r\n",
      "   1   0   0   0\r\n",
      "   0   0   1   0\r\n",
      "   0   1   0   0\r\n",
      "   0   0   0  -1\r\n",
      "\r\n"
     ]
    }
   ],
   "source": [
    "newRep.image(element1)\n",
    "newRep.image(element2)"
   ]
  },
  {
   "cell_type": "markdown",
   "id": "d13a3642",
   "metadata": {},
   "source": [
    "As expected, the images have a block diagonal structure. The properties\n",
    "of a direct sum representation are thus captured by the properties of\n",
    "the representation in each block. Such a representation is *reducible*.\n",
    "\n",
    "## Irreducible representations of S(3)\n",
    "\n",
    "Given a representation, it is not always obvious whether it is the direct\n",
    "sum of more fundamental representations or if the representation is\n",
    "*irreducible*. For instance, the images of the natural representation\n",
    "introduced above are not obviously block-diagonal. Yet, this\n",
    "representation is also reducible. To see this, one needs to find a basis\n",
    "of the vector space $R^d$ in which the images have a block diagonal\n",
    "structure.\n",
    "\n",
    "This can be achieved in *RepLAB* by decomposing the representation"
   ]
  },
  {
   "cell_type": "code",
   "execution_count": 20,
   "id": "afc69cd9",
   "metadata": {
    "execution": {
     "iopub.execute_input": "2021-07-30T06:56:44.687573Z",
     "iopub.status.busy": "2021-07-30T06:56:44.687095Z",
     "iopub.status.idle": "2021-07-30T06:56:45.874622Z",
     "shell.execute_reply": "2021-07-30T06:56:45.874974Z"
    }
   },
   "outputs": [
    {
     "name": "stdout",
     "output_type": "stream",
     "text": [
      "ans = 2\r\n"
     ]
    }
   ],
   "source": [
    "natDec = natRep.decomposition.nice;\n",
    "natDec.nComponents"
   ]
  },
  {
   "cell_type": "markdown",
   "id": "bac0f950",
   "metadata": {},
   "source": [
    "This shows that the defininig representation of $S_3$ has two *irreducible components*, of dimension $1$ and $2$ respectively:"
   ]
  },
  {
   "cell_type": "code",
   "execution_count": 21,
   "id": "6ff002a5",
   "metadata": {
    "execution": {
     "iopub.execute_input": "2021-07-30T06:56:45.878052Z",
     "iopub.status.busy": "2021-07-30T06:56:45.877560Z",
     "iopub.status.idle": "2021-07-30T06:56:45.896152Z",
     "shell.execute_reply": "2021-07-30T06:56:45.895744Z"
    }
   },
   "outputs": [
    {
     "name": "stdout",
     "output_type": "stream",
     "text": [
      "ans = 1\r\n"
     ]
    },
    {
     "name": "stdout",
     "output_type": "stream",
     "text": [
      "ans = 2\r\n"
     ]
    }
   ],
   "source": [
    "natDec.component(1).irrepDimension\n",
    "natDec.component(2).irrepDimension"
   ]
  },
  {
   "cell_type": "markdown",
   "id": "fb994582",
   "metadata": {},
   "source": [
    "The decomposition also provides the change of basis matrix which makes |this decomposition apparent"
   ]
  },
  {
   "cell_type": "code",
   "execution_count": 22,
   "id": "e6d67be6",
   "metadata": {
    "execution": {
     "iopub.execute_input": "2021-07-30T06:56:45.898738Z",
     "iopub.status.busy": "2021-07-30T06:56:45.898265Z",
     "iopub.status.idle": "2021-07-30T06:56:45.911125Z",
     "shell.execute_reply": "2021-07-30T06:56:45.911486Z"
    }
   },
   "outputs": [
    {
     "name": "stdout",
     "output_type": "stream",
     "text": [
      "basis =\r\n",
      "\r\n",
      "   0.3333   0.6667  -0.3333\r\n",
      "   0.3333  -0.3333   0.6667\r\n",
      "   0.3333  -0.3333  -0.3333\r\n",
      "\r\n"
     ]
    }
   ],
   "source": [
    "basis = natDec.basis"
   ]
  },
  {
   "cell_type": "markdown",
   "id": "d0258dae",
   "metadata": {},
   "source": [
    "The images of the two elements of $S_3$, ``[2 1 3]`` and ``[1 3 2]`` are indeed block-diagonal in this basis:"
   ]
  },
  {
   "cell_type": "code",
   "execution_count": 23,
   "id": "df503506",
   "metadata": {
    "execution": {
     "iopub.execute_input": "2021-07-30T06:56:45.914354Z",
     "iopub.status.busy": "2021-07-30T06:56:45.913887Z",
     "iopub.status.idle": "2021-07-30T06:56:45.934284Z",
     "shell.execute_reply": "2021-07-30T06:56:45.933862Z"
    }
   },
   "outputs": [
    {
     "name": "stdout",
     "output_type": "stream",
     "text": [
      "ans =\r\n",
      "\r\n",
      "   1   0   0\r\n",
      "   0   0   1\r\n",
      "   0   1   0\r\n",
      "\r\n"
     ]
    },
    {
     "name": "stdout",
     "output_type": "stream",
     "text": [
      "ans =\r\n",
      "\r\n",
      "   1   0   0\r\n",
      "   0   1  -1\r\n",
      "   0   0  -1\r\n",
      "\r\n"
     ]
    }
   ],
   "source": [
    "inv(basis)*natRep.image(element1)*basis\n",
    "inv(basis)*natRep.image(element2)*basis"
   ]
  },
  {
   "cell_type": "markdown",
   "id": "682b86aa",
   "metadata": {},
   "source": [
    "## Summary\n",
    "\n",
    "This shows that the natural representation of S(3) contains\n",
    "\n",
    "* One copy of the trivial representation of S(3)\n",
    "* One copy of the a faithful 2 x 2 representation of S(3)"
   ]
  }
 ],
 "metadata": {
  "jupytext": {
   "cell_metadata_filter": "-all",
   "main_language": "matlab",
   "notebook_metadata_filter": "-all",
   "text_representation": {
    "extension": ".m",
    "format_name": "light"
   }
  },
  "language_info": {
   "file_extension": ".m",
   "help_links": [
    {
     "text": "GNU Octave",
     "url": "https://www.gnu.org/software/octave/support.html"
    },
    {
     "text": "Octave Kernel",
     "url": "https://github.com/Calysto/octave_kernel"
    },
    {
     "text": "MetaKernel Magics",
     "url": "https://metakernel.readthedocs.io/en/latest/source/README.html"
    }
   ],
   "mimetype": "text/x-octave",
   "name": "octave",
   "version": "6.2.0"
  }
 },
 "nbformat": 4,
 "nbformat_minor": 5
}
