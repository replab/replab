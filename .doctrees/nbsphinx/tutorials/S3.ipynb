{
 "cells": [
  {
   "cell_type": "markdown",
   "id": "ce5c90bd",
   "metadata": {},
   "source": [
    "# Tutorial for mathematicians\n",
    "\n",
    "The symmetric group $S_n$ is group of primary importance. Here, we consider this group for $n=3$ and discuss several of its representations with *RepLAB*.\n",
    "\n",
    "Before trying any of the *RepLAB* commands, we must initialize the library:"
   ]
  },
  {
   "cell_type": "code",
   "execution_count": 1,
   "id": "ac0ffb5c",
   "metadata": {
    "execution": {
     "iopub.execute_input": "2021-07-29T16:56:40.718605Z",
     "iopub.status.busy": "2021-07-29T16:56:40.717479Z",
     "iopub.status.idle": "2021-07-29T16:56:45.076602Z",
     "shell.execute_reply": "2021-07-29T16:56:45.075999Z"
    }
   },
   "outputs": [],
   "source": [
    "addpath([pwd, '/../..']);\n",
    "replab_init('verbose', 0);"
   ]
  },
  {
   "cell_type": "markdown",
   "id": "54396632",
   "metadata": {},
   "source": [
    "## The symmetric group\n",
    "\n",
    "Consider $n$ distinct elements, numbered $1,2,\\ldots,n$. The symmetric group describes all possible ways in which these elements can be permuted.\n",
    "\n",
    "With $n=3$, for instance, two possible arrangements are"
   ]
  },
  {
   "cell_type": "code",
   "execution_count": 2,
   "id": "502b4c4a",
   "metadata": {
    "execution": {
     "iopub.execute_input": "2021-07-29T16:56:45.079027Z",
     "iopub.status.busy": "2021-07-29T16:56:45.078597Z",
     "iopub.status.idle": "2021-07-29T16:56:45.087716Z",
     "shell.execute_reply": "2021-07-29T16:56:45.088229Z"
    }
   },
   "outputs": [],
   "source": [
    "[1 2 3];"
   ]
  },
  {
   "cell_type": "markdown",
   "id": "353800d0",
   "metadata": {},
   "source": [
    "and"
   ]
  },
  {
   "cell_type": "code",
   "execution_count": 3,
   "id": "3bae7246",
   "metadata": {
    "execution": {
     "iopub.execute_input": "2021-07-29T16:56:45.090581Z",
     "iopub.status.busy": "2021-07-29T16:56:45.090102Z",
     "iopub.status.idle": "2021-07-29T16:56:45.098559Z",
     "shell.execute_reply": "2021-07-29T16:56:45.098127Z"
    }
   },
   "outputs": [],
   "source": [
    "[1 3 2];"
   ]
  },
  {
   "cell_type": "markdown",
   "id": "423dff4e",
   "metadata": {},
   "source": [
    "In general there are $n!$ such arrangements (i.e. $6$ arrangements for $n=3$).\n",
    "\n",
    "In *RepLAB*, the symmetric group can be constructed with a simple command"
   ]
  },
  {
   "cell_type": "code",
   "execution_count": 4,
   "id": "c4c2cd64",
   "metadata": {
    "execution": {
     "iopub.execute_input": "2021-07-29T16:56:45.101284Z",
     "iopub.status.busy": "2021-07-29T16:56:45.100810Z",
     "iopub.status.idle": "2021-07-29T16:56:45.132419Z",
     "shell.execute_reply": "2021-07-29T16:56:45.131922Z"
    }
   },
   "outputs": [],
   "source": [
    "n = 3;\n",
    "S3 = replab.S(n);"
   ]
  },
  {
   "cell_type": "markdown",
   "id": "e473246b",
   "metadata": {},
   "source": [
    "The elements of the group can be easily listed"
   ]
  },
  {
   "cell_type": "code",
   "execution_count": 5,
   "id": "9b864545",
   "metadata": {
    "execution": {
     "iopub.execute_input": "2021-07-29T16:56:45.135029Z",
     "iopub.status.busy": "2021-07-29T16:56:45.134564Z",
     "iopub.status.idle": "2021-07-29T16:56:45.223105Z",
     "shell.execute_reply": "2021-07-29T16:56:45.223497Z"
    }
   },
   "outputs": [
    {
     "name": "stdout",
     "output_type": "stream",
     "text": [
      "ans =\r\n",
      "\r\n",
      "Indexed family of 6 elements\r\n",
      "1 = [1, 2, 3]\r\n",
      "2 = [1, 3, 2]\r\n",
      "3 = [2, 1, 3]\r\n",
      "4 = [2, 3, 1]\r\n",
      "5 = [3, 1, 2]\r\n",
      "6 = [3, 2, 1]\r\n",
      "\r\n"
     ]
    }
   ],
   "source": [
    "S3.elements"
   ]
  },
  {
   "cell_type": "markdown",
   "id": "556ec204",
   "metadata": {},
   "source": [
    "The number of elements is the order of the group"
   ]
  },
  {
   "cell_type": "code",
   "execution_count": 6,
   "id": "0f73f57d",
   "metadata": {
    "execution": {
     "iopub.execute_input": "2021-07-29T16:56:45.225670Z",
     "iopub.status.busy": "2021-07-29T16:56:45.225196Z",
     "iopub.status.idle": "2021-07-29T16:56:45.236221Z",
     "shell.execute_reply": "2021-07-29T16:56:45.235536Z"
    }
   },
   "outputs": [
    {
     "name": "stdout",
     "output_type": "stream",
     "text": [
      "ans =\r\n",
      "    6\r\n"
     ]
    }
   ],
   "source": [
    "S3.order"
   ]
  },
  {
   "cell_type": "markdown",
   "id": "0cf9a1a3",
   "metadata": {},
   "source": [
    "As we see, permutations are represented by row-vectors with an arrangement of the elements $1,\\ldots,n$.\n",
    "\n",
    "The group structure defines how elements of the group compose with each other. \n",
    "For instance, permuting the first two elements in $1,2,3$, followed by a permutation of the second and third elements results in a cyclic permutation:"
   ]
  },
  {
   "cell_type": "code",
   "execution_count": 7,
   "id": "a8864ce5",
   "metadata": {
    "execution": {
     "iopub.execute_input": "2021-07-29T16:56:45.239025Z",
     "iopub.status.busy": "2021-07-29T16:56:45.238505Z",
     "iopub.status.idle": "2021-07-29T16:56:45.261876Z",
     "shell.execute_reply": "2021-07-29T16:56:45.261395Z"
    }
   },
   "outputs": [
    {
     "name": "stdout",
     "output_type": "stream",
     "text": [
      "ans =\r\n",
      "\r\n",
      "   2   3   1\r\n",
      "\r\n"
     ]
    }
   ],
   "source": [
    "element1 = [2 1 3];\n",
    "element2 = [1 3 2];\n",
    "S3.compose(element1, element2)"
   ]
  },
  {
   "cell_type": "markdown",
   "id": "d7064431",
   "metadata": {},
   "source": [
    "## The natural representation of S(3)\n",
    "\n",
    "A group can always be represented by matrices of finite dimension. In a $d$-dimensional matrix representation, each group element is associated with a $d \\times d$ matrix called the image of the group\n",
    "element. The action of matrix multiplication on the images then reflects the group composition rule.\n",
    "\n",
    "Several matrix representations are possible for the same group, possibly in various dimension $d$. Here, we are going to explore some representations of the group $S_3$\n",
    "\n",
    "When seeing the group as a permutation within $n$ elements, a natural choice of representation arises in dimension $d=n$, where the permutation\n",
    "is applied to the coordinates of the vector space $R^n$. This is called the *natural representation* of a group. It can be constructed easily:"
   ]
  },
  {
   "cell_type": "code",
   "execution_count": 8,
   "id": "12968b7c",
   "metadata": {
    "execution": {
     "iopub.execute_input": "2021-07-29T16:56:45.264369Z",
     "iopub.status.busy": "2021-07-29T16:56:45.263671Z",
     "iopub.status.idle": "2021-07-29T16:56:45.374279Z",
     "shell.execute_reply": "2021-07-29T16:56:45.374688Z"
    }
   },
   "outputs": [],
   "source": [
    "natRep = S3.naturalRep;"
   ]
  },
  {
   "cell_type": "markdown",
   "id": "5ff02030",
   "metadata": {},
   "source": [
    "The image of a group element in this representation can be extracted"
   ]
  },
  {
   "cell_type": "code",
   "execution_count": 9,
   "id": "26b365dc",
   "metadata": {
    "execution": {
     "iopub.execute_input": "2021-07-29T16:56:45.377182Z",
     "iopub.status.busy": "2021-07-29T16:56:45.376695Z",
     "iopub.status.idle": "2021-07-29T16:56:45.390265Z",
     "shell.execute_reply": "2021-07-29T16:56:45.389792Z"
    }
   },
   "outputs": [
    {
     "name": "stdout",
     "output_type": "stream",
     "text": [
      "ans =\r\n",
      "\r\n",
      "   0   1   0\r\n",
      "   1   0   0\r\n",
      "   0   0   1\r\n",
      "\r\n"
     ]
    }
   ],
   "source": [
    "natRep.image([2 1 3])"
   ]
  },
  {
   "cell_type": "markdown",
   "id": "b756a4e0",
   "metadata": {},
   "source": [
    "We see that the matrices representing the group elements are $n \\times n$ permutation matrices, which simply apply the permutation to the coordinates of the vector space $R^n$.\n",
    "\n",
    "For a representation to be valid, the images must follow the structure of the group:"
   ]
  },
  {
   "cell_type": "code",
   "execution_count": 10,
   "id": "33d8a272",
   "metadata": {
    "execution": {
     "iopub.execute_input": "2021-07-29T16:56:45.392898Z",
     "iopub.status.busy": "2021-07-29T16:56:45.392434Z",
     "iopub.status.idle": "2021-07-29T16:56:45.426412Z",
     "shell.execute_reply": "2021-07-29T16:56:45.425856Z"
    }
   },
   "outputs": [
    {
     "name": "stdout",
     "output_type": "stream",
     "text": [
      "ans =\r\n",
      "\r\n",
      "   0   0   1\r\n",
      "   1   0   0\r\n",
      "   0   1   0\r\n",
      "\r\n"
     ]
    },
    {
     "name": "stdout",
     "output_type": "stream",
     "text": [
      "ans =\r\n",
      "\r\n",
      "   0   0   1\r\n",
      "   1   0   0\r\n",
      "   0   1   0\r\n",
      "\r\n"
     ]
    }
   ],
   "source": [
    "image1 = natRep.image(element1);\n",
    "image2 = natRep.image(element2);\n",
    "image1*image2\n",
    "natRep.image(S3.compose(element1, element2))"
   ]
  },
  {
   "cell_type": "markdown",
   "id": "64fec7a6",
   "metadata": {},
   "source": [
    "We see that the image of the product of elements is indeed the product of the images of the respective elements, i.e. the algebra of matrices\n",
    "acting on the representation images accurately reflects the group algebra.\n",
    "\n",
    "It can be checked, moreover, that the natural representation is faithful, i.e. each group element has its own distinct image. This needs\n",
    "not always be the case as in the following two examples. \n",
    "\n",
    "## The parity representation of $S_3$\n",
    "\n",
    "To construct an arbitrary group representation in *RepLAB*, it is sufficient to provide the image of the generators of the group. The group $S_3$ has two generators:"
   ]
  },
  {
   "cell_type": "code",
   "execution_count": 11,
   "id": "d4a5d235",
   "metadata": {
    "execution": {
     "iopub.execute_input": "2021-07-29T16:56:45.428857Z",
     "iopub.status.busy": "2021-07-29T16:56:45.428539Z",
     "iopub.status.idle": "2021-07-29T16:56:45.450801Z",
     "shell.execute_reply": "2021-07-29T16:56:45.450385Z"
    }
   },
   "outputs": [
    {
     "name": "stdout",
     "output_type": "stream",
     "text": [
      "ans =\r\n",
      "\r\n",
      "   2   3   1\r\n",
      "\r\n",
      "ans =\r\n",
      "\r\n",
      "   2   1   3\r\n",
      "\r\n"
     ]
    }
   ],
   "source": [
    "generators = S3.generators;\n",
    "generators{:}"
   ]
  },
  {
   "cell_type": "markdown",
   "id": "59f90025",
   "metadata": {},
   "source": [
    "Let us construct a representation of this group in dimension"
   ]
  },
  {
   "cell_type": "code",
   "execution_count": 12,
   "id": "1a47fe38",
   "metadata": {
    "execution": {
     "iopub.execute_input": "2021-07-29T16:56:45.454000Z",
     "iopub.status.busy": "2021-07-29T16:56:45.453555Z",
     "iopub.status.idle": "2021-07-29T16:56:45.472538Z",
     "shell.execute_reply": "2021-07-29T16:56:45.472159Z"
    }
   },
   "outputs": [],
   "source": [
    "d = 1;"
   ]
  },
  {
   "cell_type": "markdown",
   "id": "5ebce4d7",
   "metadata": {},
   "source": [
    "associating the each generator its parity (i.e. either $+1$ or $-1$). Since the parity of [2 3 1] is 1 and the parity of [2 1 3] is -1, this is achieved by instantiating the class *RepByImage* as follows:"
   ]
  },
  {
   "cell_type": "code",
   "execution_count": 13,
   "id": "2c7d5213",
   "metadata": {
    "execution": {
     "iopub.execute_input": "2021-07-29T16:56:45.474815Z",
     "iopub.status.busy": "2021-07-29T16:56:45.474266Z",
     "iopub.status.idle": "2021-07-29T16:56:45.502985Z",
     "shell.execute_reply": "2021-07-29T16:56:45.502443Z"
    }
   },
   "outputs": [
    {
     "name": "stdout",
     "output_type": "stream",
     "text": [
      "error: 'imagesErrorBound' undefined near line 16, column 16\r\n",
      "error: called from\r\n",
      "    RepByImages at line 16 column 35\r\n"
     ]
    }
   ],
   "source": [
    "parRep = replab.RepByImages(S3, 'R', d, {1 -1}, {1 -1});"
   ]
  },
  {
   "cell_type": "markdown",
   "id": "2e13a5af",
   "metadata": {},
   "source": [
    "We can check that this representation is valid"
   ]
  },
  {
   "cell_type": "code",
   "execution_count": 14,
   "id": "4010f132",
   "metadata": {
    "execution": {
     "iopub.execute_input": "2021-07-29T16:56:45.506268Z",
     "iopub.status.busy": "2021-07-29T16:56:45.505657Z",
     "iopub.status.idle": "2021-07-29T16:56:45.551255Z",
     "shell.execute_reply": "2021-07-29T16:56:45.550922Z"
    }
   },
   "outputs": [
    {
     "name": "stdout",
     "output_type": "stream",
     "text": [
      "error: 'parRep' undefined near line 1, column 1\r\n"
     ]
    },
    {
     "name": "stdout",
     "output_type": "stream",
     "text": [
      "error: 'parRep' undefined near line 1, column 1\r\n"
     ]
    },
    {
     "name": "stdout",
     "output_type": "stream",
     "text": [
      "ans =\r\n",
      "\r\n",
      "   0   0   1\r\n",
      "   1   0   0\r\n",
      "   0   1   0\r\n",
      "\r\n"
     ]
    },
    {
     "name": "stdout",
     "output_type": "stream",
     "text": [
      "error: 'parRep' undefined near line 1, column 1\r\n"
     ]
    }
   ],
   "source": [
    "image1 = parRep.image(element1)\n",
    "image2 = parRep.image(element2)\n",
    "image1*image2\n",
    "parRep.image(S3.compose(element1, element2))"
   ]
  },
  {
   "cell_type": "markdown",
   "id": "94d6bce7",
   "metadata": {},
   "source": [
    "The parity of each binary permutation ``[2 1 3]`` and ``[1 3 2]`` is $-1$, and their product, the cycle [2 3 1], has parity $1$.\n",
    "\n",
    "Clearly, this representation carries some information about the group, namely the parity, but some elements have the same image:"
   ]
  },
  {
   "cell_type": "code",
   "execution_count": 15,
   "id": "e73d777d",
   "metadata": {
    "execution": {
     "iopub.execute_input": "2021-07-29T16:56:45.553713Z",
     "iopub.status.busy": "2021-07-29T16:56:45.553293Z",
     "iopub.status.idle": "2021-07-29T16:56:45.634205Z",
     "shell.execute_reply": "2021-07-29T16:56:45.633905Z"
    }
   },
   "outputs": [
    {
     "name": "stdout",
     "output_type": "stream",
     "text": [
      "error: 'parRep' undefined near line 2, column 2\r\n"
     ]
    }
   ],
   "source": [
    "allElements = S3.elements.toCell;\n",
    "for i = 1:length(allElements)\n",
    "    disp(['Image of [', num2str(allElements{i}), '] : ', num2str(parRep.image(allElements{i}))]);\n",
    "end"
   ]
  },
  {
   "cell_type": "markdown",
   "id": "fde96bf4",
   "metadata": {},
   "source": [
    "Therefore, this representation is not *faithful*.\n",
    "\n",
    "## The trivial representation of S(3)\n",
    "An even simpler representation of the group S(n) is one in which the image of all elements is set to $1$. This is called the *trivial representation*.\n",
    "\n",
    "It can be constructed similarly from the image of the generators:"
   ]
  },
  {
   "cell_type": "code",
   "execution_count": 16,
   "id": "666c9ec7",
   "metadata": {
    "execution": {
     "iopub.execute_input": "2021-07-29T16:56:45.636290Z",
     "iopub.status.busy": "2021-07-29T16:56:45.635778Z",
     "iopub.status.idle": "2021-07-29T16:56:45.653290Z",
     "shell.execute_reply": "2021-07-29T16:56:45.653537Z"
    }
   },
   "outputs": [
    {
     "name": "stdout",
     "output_type": "stream",
     "text": [
      "error: 'imagesErrorBound' undefined near line 16, column 16\r\n",
      "error: called from\r\n",
      "    RepByImages at line 16 column 35\r\n"
     ]
    }
   ],
   "source": [
    "trivRep = replab.RepByImages(S3, 'R', d, {1 1}, {1 1});"
   ]
  },
  {
   "cell_type": "markdown",
   "id": "53888fb5",
   "metadata": {},
   "source": [
    "This time, the group law is trivially satisfied since all images are indeed equal to $1$:"
   ]
  },
  {
   "cell_type": "code",
   "execution_count": 17,
   "id": "03b3b42e",
   "metadata": {
    "execution": {
     "iopub.execute_input": "2021-07-29T16:56:45.656333Z",
     "iopub.status.busy": "2021-07-29T16:56:45.655858Z",
     "iopub.status.idle": "2021-07-29T16:56:45.684173Z",
     "shell.execute_reply": "2021-07-29T16:56:45.683832Z"
    }
   },
   "outputs": [
    {
     "name": "stdout",
     "output_type": "stream",
     "text": [
      "error: 'trivRep' undefined near line 2, column 2\r\n"
     ]
    }
   ],
   "source": [
    "for i = 1:length(allElements)\n",
    "    disp(['Image of [', num2str(allElements{i}), '] : ', num2str(trivRep.image(allElements{i}))]);\n",
    "end"
   ]
  },
  {
   "cell_type": "markdown",
   "id": "4a1c7a9e",
   "metadata": {},
   "source": [
    "## Direct sum of representation of S(3)\n",
    "\n",
    "We have seen that a group can admit several representations. Any two representations of a group in dimension $d_1$ and $d_2$ can be joined\n",
    "together by taking their *direct sum* in order to create a new valid representation in dimension $d_1 + d_2$.\n",
    "\n",
    "For instance, we can construct a $4$-dimensional representation of S(3) by taking the direct sum of the natural representation with the parity\n",
    "representation"
   ]
  },
  {
   "cell_type": "code",
   "execution_count": 18,
   "id": "94ef66f6",
   "metadata": {
    "execution": {
     "iopub.execute_input": "2021-07-29T16:56:45.686105Z",
     "iopub.status.busy": "2021-07-29T16:56:45.685805Z",
     "iopub.status.idle": "2021-07-29T16:56:45.702991Z",
     "shell.execute_reply": "2021-07-29T16:56:45.703262Z"
    }
   },
   "outputs": [
    {
     "name": "stdout",
     "output_type": "stream",
     "text": [
      "error: 'parRep' undefined near line 1, column 1\r\n"
     ]
    }
   ],
   "source": [
    "newRep = blkdiag(natRep, parRep)"
   ]
  },
  {
   "cell_type": "markdown",
   "id": "30ddf006",
   "metadata": {},
   "source": [
    "The images are then $4 \\times 4$ matrices"
   ]
  },
  {
   "cell_type": "code",
   "execution_count": 19,
   "id": "ef62a420",
   "metadata": {
    "execution": {
     "iopub.execute_input": "2021-07-29T16:56:45.705657Z",
     "iopub.status.busy": "2021-07-29T16:56:45.705343Z",
     "iopub.status.idle": "2021-07-29T16:56:45.731700Z",
     "shell.execute_reply": "2021-07-29T16:56:45.731374Z"
    }
   },
   "outputs": [
    {
     "name": "stdout",
     "output_type": "stream",
     "text": [
      "error: 'newRep' undefined near line 1, column 1\r\n"
     ]
    },
    {
     "name": "stdout",
     "output_type": "stream",
     "text": [
      "error: 'newRep' undefined near line 1, column 1\r\n"
     ]
    }
   ],
   "source": [
    "newRep.image(element1)\n",
    "newRep.image(element2)"
   ]
  },
  {
   "cell_type": "markdown",
   "id": "acf918ae",
   "metadata": {},
   "source": [
    "As expected, the images have a block diagonal structure. The properties\n",
    "of a direct sum representation are thus captured by the properties of\n",
    "the representation in each block. Such a representation is *reducible*.\n",
    "\n",
    "## Irreducible representations of S(3)\n",
    "\n",
    "Given a representation, it is not always obvious whether it is the direct\n",
    "sum of more fundamental representations or if the representation is\n",
    "*irreducible*. For instance, the images of the natural representation\n",
    "introduced above are not obviously block-diagonal. Yet, this\n",
    "representation is also reducible. To see this, one needs to find a basis\n",
    "of the vector space $R^d$ in which the images have a block diagonal\n",
    "structure.\n",
    "\n",
    "This can be achieved in *RepLAB* by decomposing the representation"
   ]
  },
  {
   "cell_type": "code",
   "execution_count": 20,
   "id": "ac494adc",
   "metadata": {
    "execution": {
     "iopub.execute_input": "2021-07-29T16:56:45.733649Z",
     "iopub.status.busy": "2021-07-29T16:56:45.733353Z",
     "iopub.status.idle": "2021-07-29T16:56:46.782690Z",
     "shell.execute_reply": "2021-07-29T16:56:46.782433Z"
    }
   },
   "outputs": [
    {
     "name": "stdout",
     "output_type": "stream",
     "text": [
      "ans = 2\r\n"
     ]
    }
   ],
   "source": [
    "natDec = natRep.decomposition.nice;\n",
    "natDec.nComponents"
   ]
  },
  {
   "cell_type": "markdown",
   "id": "7d7ee63c",
   "metadata": {},
   "source": [
    "This shows that the defininig representation of $S_3$ has two *irreducible components*, of dimension $1$ and $2$ respectively:"
   ]
  },
  {
   "cell_type": "code",
   "execution_count": 21,
   "id": "a6a22b0d",
   "metadata": {
    "execution": {
     "iopub.execute_input": "2021-07-29T16:56:46.784528Z",
     "iopub.status.busy": "2021-07-29T16:56:46.784234Z",
     "iopub.status.idle": "2021-07-29T16:56:46.795201Z",
     "shell.execute_reply": "2021-07-29T16:56:46.794949Z"
    }
   },
   "outputs": [
    {
     "name": "stdout",
     "output_type": "stream",
     "text": [
      "ans = 1\r\n"
     ]
    },
    {
     "name": "stdout",
     "output_type": "stream",
     "text": [
      "ans = 2\r\n"
     ]
    }
   ],
   "source": [
    "natDec.component(1).irrepDimension\n",
    "natDec.component(2).irrepDimension"
   ]
  },
  {
   "cell_type": "markdown",
   "id": "347a9e51",
   "metadata": {},
   "source": [
    "The decomposition also provides the change of basis matrix which makes |this decomposition apparent"
   ]
  },
  {
   "cell_type": "code",
   "execution_count": 22,
   "id": "aee7b482",
   "metadata": {
    "execution": {
     "iopub.execute_input": "2021-07-29T16:56:46.797282Z",
     "iopub.status.busy": "2021-07-29T16:56:46.796992Z",
     "iopub.status.idle": "2021-07-29T16:56:46.805110Z",
     "shell.execute_reply": "2021-07-29T16:56:46.804861Z"
    }
   },
   "outputs": [
    {
     "name": "stdout",
     "output_type": "stream",
     "text": [
      "basis =\r\n",
      "\r\n",
      "   0.3333   0.6667  -0.3333\r\n",
      "   0.3333  -0.3333   0.6667\r\n",
      "   0.3333  -0.3333  -0.3333\r\n",
      "\r\n"
     ]
    }
   ],
   "source": [
    "basis = natDec.basis"
   ]
  },
  {
   "cell_type": "markdown",
   "id": "a4d77805",
   "metadata": {},
   "source": [
    "The images of the two elements of $S_3$, ``[2 1 3]`` and ``[1 3 2]`` are indeed block-diagonal in this basis:"
   ]
  },
  {
   "cell_type": "code",
   "execution_count": 23,
   "id": "813d81a1",
   "metadata": {
    "execution": {
     "iopub.execute_input": "2021-07-29T16:56:46.806905Z",
     "iopub.status.busy": "2021-07-29T16:56:46.806604Z",
     "iopub.status.idle": "2021-07-29T16:56:46.819925Z",
     "shell.execute_reply": "2021-07-29T16:56:46.819630Z"
    }
   },
   "outputs": [
    {
     "name": "stdout",
     "output_type": "stream",
     "text": [
      "ans =\r\n",
      "\r\n",
      "   1   0   0\r\n",
      "   0   0   1\r\n",
      "   0   1   0\r\n",
      "\r\n"
     ]
    },
    {
     "name": "stdout",
     "output_type": "stream",
     "text": [
      "ans =\r\n",
      "\r\n",
      "   1   0   0\r\n",
      "   0   1  -1\r\n",
      "   0   0  -1\r\n",
      "\r\n"
     ]
    }
   ],
   "source": [
    "inv(basis)*natRep.image(element1)*basis\n",
    "inv(basis)*natRep.image(element2)*basis"
   ]
  },
  {
   "cell_type": "markdown",
   "id": "c01c5c98",
   "metadata": {},
   "source": [
    "## Summary\n",
    "\n",
    "This shows that the natural representation of S(3) contains\n",
    "\n",
    "* One copy of the trivial representation of S(3)\n",
    "* One copy of the a faithful 2 x 2 representation of S(3)"
   ]
  }
 ],
 "metadata": {
  "jupytext": {
   "cell_metadata_filter": "-all",
   "main_language": "matlab",
   "notebook_metadata_filter": "-all",
   "text_representation": {
    "extension": ".m",
    "format_name": "light"
   }
  },
  "language_info": {
   "file_extension": ".m",
   "help_links": [
    {
     "text": "GNU Octave",
     "url": "https://www.gnu.org/software/octave/support.html"
    },
    {
     "text": "Octave Kernel",
     "url": "https://github.com/Calysto/octave_kernel"
    },
    {
     "text": "MetaKernel Magics",
     "url": "https://metakernel.readthedocs.io/en/latest/source/README.html"
    }
   ],
   "mimetype": "text/x-octave",
   "name": "octave",
   "version": "6.2.0"
  }
 },
 "nbformat": 4,
 "nbformat_minor": 5
}
