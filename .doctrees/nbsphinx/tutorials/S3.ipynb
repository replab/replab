{
 "cells": [
  {
   "cell_type": "markdown",
   "id": "8f7ea8f0",
   "metadata": {},
   "source": [
    "# Tutorial for mathematicians\n",
    "\n",
    "The symmetric group $S_n$ is group of primary importance. Here, we consider this group for $n=3$ and discuss several of its representations with *RepLAB*.\n",
    "\n",
    "Before trying any of the *RepLAB* commands, we must initialize the library:"
   ]
  },
  {
   "cell_type": "code",
   "execution_count": 1,
   "id": "4afc137f",
   "metadata": {
    "execution": {
     "iopub.execute_input": "2021-08-03T13:43:46.056762Z",
     "iopub.status.busy": "2021-08-03T13:43:46.053774Z",
     "iopub.status.idle": "2021-08-03T13:43:53.280746Z",
     "shell.execute_reply": "2021-08-03T13:43:53.279749Z"
    }
   },
   "outputs": [],
   "source": [
    "addpath([pwd, '/../..']);\n",
    "replab_init('verbose', 0);"
   ]
  },
  {
   "cell_type": "markdown",
   "id": "fbb2a4eb",
   "metadata": {},
   "source": [
    "## The symmetric group\n",
    "\n",
    "Consider $n$ distinct elements, numbered $1,2,\\ldots,n$. The symmetric group describes all possible ways in which these elements can be permuted.\n",
    "\n",
    "With $n=3$, for instance, two possible arrangements are"
   ]
  },
  {
   "cell_type": "code",
   "execution_count": 2,
   "id": "91f402e6",
   "metadata": {
    "execution": {
     "iopub.execute_input": "2021-08-03T13:43:53.284991Z",
     "iopub.status.busy": "2021-08-03T13:43:53.283472Z",
     "iopub.status.idle": "2021-08-03T13:43:53.298507Z",
     "shell.execute_reply": "2021-08-03T13:43:53.298083Z"
    }
   },
   "outputs": [],
   "source": [
    "[1 2 3];"
   ]
  },
  {
   "cell_type": "markdown",
   "id": "8ae0f81e",
   "metadata": {},
   "source": [
    "and"
   ]
  },
  {
   "cell_type": "code",
   "execution_count": 3,
   "id": "8e3fdd96",
   "metadata": {
    "execution": {
     "iopub.execute_input": "2021-08-03T13:43:53.301623Z",
     "iopub.status.busy": "2021-08-03T13:43:53.301062Z",
     "iopub.status.idle": "2021-08-03T13:43:53.314176Z",
     "shell.execute_reply": "2021-08-03T13:43:53.313650Z"
    }
   },
   "outputs": [],
   "source": [
    "[1 3 2];"
   ]
  },
  {
   "cell_type": "markdown",
   "id": "2c7b685c",
   "metadata": {},
   "source": [
    "In general there are $n!$ such arrangements (i.e. $6$ arrangements for $n=3$).\n",
    "\n",
    "In *RepLAB*, the symmetric group can be constructed with a simple command"
   ]
  },
  {
   "cell_type": "code",
   "execution_count": 4,
   "id": "22385c6b",
   "metadata": {
    "execution": {
     "iopub.execute_input": "2021-08-03T13:43:53.317384Z",
     "iopub.status.busy": "2021-08-03T13:43:53.316865Z",
     "iopub.status.idle": "2021-08-03T13:43:53.367664Z",
     "shell.execute_reply": "2021-08-03T13:43:53.367152Z"
    }
   },
   "outputs": [],
   "source": [
    "n = 3;\n",
    "S3 = replab.S(n);"
   ]
  },
  {
   "cell_type": "markdown",
   "id": "e64a8743",
   "metadata": {},
   "source": [
    "The elements of the group can be easily listed"
   ]
  },
  {
   "cell_type": "code",
   "execution_count": 5,
   "id": "a1c7c685",
   "metadata": {
    "execution": {
     "iopub.execute_input": "2021-08-03T13:43:53.370635Z",
     "iopub.status.busy": "2021-08-03T13:43:53.369845Z",
     "iopub.status.idle": "2021-08-03T13:43:53.571232Z",
     "shell.execute_reply": "2021-08-03T13:43:53.570748Z"
    }
   },
   "outputs": [
    {
     "name": "stdout",
     "output_type": "stream",
     "text": [
      "ans ="
     ]
    },
    {
     "name": "stdout",
     "output_type": "stream",
     "text": [
      "\r"
     ]
    },
    {
     "name": "stdout",
     "output_type": "stream",
     "text": [
      "\n"
     ]
    },
    {
     "name": "stdout",
     "output_type": "stream",
     "text": [
      "\r\n",
      "Indexed family of 6 elements\r\n",
      "1 = [1, 2, 3]\r\n",
      "2 = [1, 3, 2]\r\n",
      "3 = [2, 1, 3]\r\n",
      "4 = [2, 3, 1]\r\n",
      "5 = [3, 1, 2]\r\n",
      "6 = [3, 2, 1]\r\n",
      "\r\n"
     ]
    }
   ],
   "source": [
    "S3.elements"
   ]
  },
  {
   "cell_type": "markdown",
   "id": "62daaa02",
   "metadata": {},
   "source": [
    "The number of elements is the order of the group"
   ]
  },
  {
   "cell_type": "code",
   "execution_count": 6,
   "id": "72bd2754",
   "metadata": {
    "execution": {
     "iopub.execute_input": "2021-08-03T13:43:53.575011Z",
     "iopub.status.busy": "2021-08-03T13:43:53.574486Z",
     "iopub.status.idle": "2021-08-03T13:43:53.592221Z",
     "shell.execute_reply": "2021-08-03T13:43:53.591157Z"
    }
   },
   "outputs": [
    {
     "name": "stdout",
     "output_type": "stream",
     "text": [
      "ans =\r\n",
      "    6\r\n"
     ]
    }
   ],
   "source": [
    "S3.order"
   ]
  },
  {
   "cell_type": "markdown",
   "id": "0168c1d9",
   "metadata": {},
   "source": [
    "As we see, permutations are represented by row-vectors with an arrangement of the elements $1,\\ldots,n$.\n",
    "\n",
    "The group structure defines how elements of the group compose with each other.\n",
    "For instance, permuting the first two elements in $1,2,3$, followed by a permutation of the second and third elements results in a cyclic permutation:"
   ]
  },
  {
   "cell_type": "code",
   "execution_count": 7,
   "id": "66225218",
   "metadata": {
    "execution": {
     "iopub.execute_input": "2021-08-03T13:43:53.595248Z",
     "iopub.status.busy": "2021-08-03T13:43:53.594691Z",
     "iopub.status.idle": "2021-08-03T13:43:53.621721Z",
     "shell.execute_reply": "2021-08-03T13:43:53.621306Z"
    }
   },
   "outputs": [
    {
     "name": "stdout",
     "output_type": "stream",
     "text": [
      "ans =\r\n",
      "\r\n",
      "   2   3   1\r\n",
      "\r\n"
     ]
    }
   ],
   "source": [
    "element1 = [2 1 3];\n",
    "element2 = [1 3 2];\n",
    "S3.compose(element1, element2)"
   ]
  },
  {
   "cell_type": "markdown",
   "id": "644b840a",
   "metadata": {},
   "source": [
    "## The natural representation of S(3)\n",
    "\n",
    "A group can always be represented by matrices of finite dimension. In a $d$-dimensional matrix representation, each group element is associated with a $d \\times d$ matrix called the image of the group\n",
    "element. The action of matrix multiplication on the images then reflects the group composition rule.\n",
    "\n",
    "Several matrix representations are possible for the same group, possibly in various dimension $d$. Here, we are going to explore some representations of the group $S_3$\n",
    "\n",
    "When seeing the group as a permutation within $n$ elements, a natural choice of representation arises in dimension $d=n$, where the permutation\n",
    "is applied to the coordinates of the vector space $R^n$. This is called the *natural representation* of a group. It can be constructed easily:"
   ]
  },
  {
   "cell_type": "code",
   "execution_count": 8,
   "id": "02a41719",
   "metadata": {
    "execution": {
     "iopub.execute_input": "2021-08-03T13:43:53.624808Z",
     "iopub.status.busy": "2021-08-03T13:43:53.624200Z",
     "iopub.status.idle": "2021-08-03T13:43:53.802234Z",
     "shell.execute_reply": "2021-08-03T13:43:53.801762Z"
    }
   },
   "outputs": [],
   "source": [
    "natRep = S3.naturalRep;"
   ]
  },
  {
   "cell_type": "markdown",
   "id": "58dbdce4",
   "metadata": {},
   "source": [
    "The image of a group element in this representation can be extracted"
   ]
  },
  {
   "cell_type": "code",
   "execution_count": 9,
   "id": "7b010d19",
   "metadata": {
    "execution": {
     "iopub.execute_input": "2021-08-03T13:43:53.805606Z",
     "iopub.status.busy": "2021-08-03T13:43:53.805078Z",
     "iopub.status.idle": "2021-08-03T13:43:53.820582Z",
     "shell.execute_reply": "2021-08-03T13:43:53.820104Z"
    }
   },
   "outputs": [
    {
     "name": "stdout",
     "output_type": "stream",
     "text": [
      "ans =\r\n",
      "\r\n",
      "   0   1   0\r\n",
      "   1   0   0\r\n",
      "   0   0   1\r\n",
      "\r\n"
     ]
    }
   ],
   "source": [
    "natRep.image([2 1 3])"
   ]
  },
  {
   "cell_type": "markdown",
   "id": "e2e49d69",
   "metadata": {},
   "source": [
    "We see that the matrices representing the group elements are $n \\times n$ permutation matrices, which simply apply the permutation to the coordinates of the vector space $R^n$.\n",
    "\n",
    "For a representation to be valid, the images must follow the structure of the group:"
   ]
  },
  {
   "cell_type": "code",
   "execution_count": 10,
   "id": "159fdd4e",
   "metadata": {
    "execution": {
     "iopub.execute_input": "2021-08-03T13:43:53.823866Z",
     "iopub.status.busy": "2021-08-03T13:43:53.823321Z",
     "iopub.status.idle": "2021-08-03T13:43:53.857512Z",
     "shell.execute_reply": "2021-08-03T13:43:53.857988Z"
    }
   },
   "outputs": [
    {
     "name": "stdout",
     "output_type": "stream",
     "text": [
      "ans =\r\n",
      "\r\n",
      "   0   0   1\r\n",
      "   1   0   0\r\n",
      "   0   1   0\r\n",
      "\r\n"
     ]
    },
    {
     "name": "stdout",
     "output_type": "stream",
     "text": [
      "ans =\r\n",
      "\r\n",
      "   0   0   1\r\n",
      "   1   0   0\r\n",
      "   0   1   0\r\n",
      "\r\n"
     ]
    }
   ],
   "source": [
    "image1 = natRep.image(element1);\n",
    "image2 = natRep.image(element2);\n",
    "image1*image2\n",
    "natRep.image(S3.compose(element1, element2))"
   ]
  },
  {
   "cell_type": "markdown",
   "id": "7828e93c",
   "metadata": {},
   "source": [
    "We see that the image of the product of elements is indeed the product of the images of the respective elements, i.e. the algebra of matrices\n",
    "acting on the representation images accurately reflects the group algebra.\n",
    "\n",
    "It can be checked, moreover, that the natural representation is faithful, i.e. each group element has its own distinct image. This needs\n",
    "not always be the case as in the following two examples.\n",
    "\n",
    "## The parity representation of $S_3$\n",
    "\n",
    "To construct an arbitrary group representation in *RepLAB*, it is sufficient to provide the image of the generators of the group. The group $S_3$ has two generators:"
   ]
  },
  {
   "cell_type": "code",
   "execution_count": 11,
   "id": "6e9ae9b5",
   "metadata": {
    "execution": {
     "iopub.execute_input": "2021-08-03T13:43:53.861658Z",
     "iopub.status.busy": "2021-08-03T13:43:53.861069Z",
     "iopub.status.idle": "2021-08-03T13:43:53.880244Z",
     "shell.execute_reply": "2021-08-03T13:43:53.879658Z"
    }
   },
   "outputs": [
    {
     "name": "stdout",
     "output_type": "stream",
     "text": [
      "ans =\r\n",
      "\r\n",
      "   2   3   1\r\n",
      "\r\n",
      "ans =\r\n",
      "\r\n",
      "   2   1   3\r\n",
      "\r\n"
     ]
    }
   ],
   "source": [
    "generators = S3.generators;\n",
    "generators{:}"
   ]
  },
  {
   "cell_type": "markdown",
   "id": "6ec0e75d",
   "metadata": {},
   "source": [
    "Let us construct a representation of this group in dimension"
   ]
  },
  {
   "cell_type": "code",
   "execution_count": 12,
   "id": "146bb475",
   "metadata": {
    "execution": {
     "iopub.execute_input": "2021-08-03T13:43:53.883578Z",
     "iopub.status.busy": "2021-08-03T13:43:53.883056Z",
     "iopub.status.idle": "2021-08-03T13:43:53.896963Z",
     "shell.execute_reply": "2021-08-03T13:43:53.897425Z"
    }
   },
   "outputs": [],
   "source": [
    "d = 1;"
   ]
  },
  {
   "cell_type": "markdown",
   "id": "e03fec06",
   "metadata": {},
   "source": [
    "associating the each generator its parity (i.e. either $+1$ or $-1$). Since the parity of [2 3 1] is 1 and the parity of [2 1 3] is -1, this is achieved by instantiating calling the *repByImages* methods on the group:"
   ]
  },
  {
   "cell_type": "code",
   "execution_count": 13,
   "id": "8b415673",
   "metadata": {
    "execution": {
     "iopub.execute_input": "2021-08-03T13:43:53.900605Z",
     "iopub.status.busy": "2021-08-03T13:43:53.899822Z",
     "iopub.status.idle": "2021-08-03T13:43:54.108538Z",
     "shell.execute_reply": "2021-08-03T13:43:54.107945Z"
    }
   },
   "outputs": [],
   "source": [
    "parRep = S3.repByImages('R', d, 'preimages', S3.generators, 'images', {1 -1});"
   ]
  },
  {
   "cell_type": "markdown",
   "id": "02e0c3ab",
   "metadata": {},
   "source": [
    "We can check that this representation is valid"
   ]
  },
  {
   "cell_type": "code",
   "execution_count": 14,
   "id": "4691689b",
   "metadata": {
    "execution": {
     "iopub.execute_input": "2021-08-03T13:43:54.111590Z",
     "iopub.status.busy": "2021-08-03T13:43:54.111051Z",
     "iopub.status.idle": "2021-08-03T13:43:54.149067Z",
     "shell.execute_reply": "2021-08-03T13:43:54.148565Z"
    }
   },
   "outputs": [
    {
     "name": "stdout",
     "output_type": "stream",
     "text": [
      "image1 = -1\r\n"
     ]
    },
    {
     "name": "stdout",
     "output_type": "stream",
     "text": [
      "image2 = -1\r\n"
     ]
    },
    {
     "name": "stdout",
     "output_type": "stream",
     "text": [
      "ans = 1\r\n"
     ]
    },
    {
     "name": "stdout",
     "output_type": "stream",
     "text": [
      "ans = 1\r\n"
     ]
    }
   ],
   "source": [
    "image1 = parRep.image(element1)\n",
    "image2 = parRep.image(element2)\n",
    "image1*image2\n",
    "parRep.image(S3.compose(element1, element2))"
   ]
  },
  {
   "cell_type": "markdown",
   "id": "b444c61e",
   "metadata": {},
   "source": [
    "The parity of each binary permutation ``[2 1 3]`` and ``[1 3 2]`` is $-1$, and their product, the cycle [2 3 1], has parity $1$.\n",
    "\n",
    "Clearly, this representation carries some information about the group, namely the parity, but some elements have the same image:"
   ]
  },
  {
   "cell_type": "code",
   "execution_count": 15,
   "id": "f3939f9c",
   "metadata": {
    "execution": {
     "iopub.execute_input": "2021-08-03T13:43:54.151758Z",
     "iopub.status.busy": "2021-08-03T13:43:54.151250Z",
     "iopub.status.idle": "2021-08-03T13:43:54.293298Z",
     "shell.execute_reply": "2021-08-03T13:43:54.293746Z"
    }
   },
   "outputs": [
    {
     "name": "stdout",
     "output_type": "stream",
     "text": [
      "Image of [1  2  3] : 1\r\n",
      "Image of [1  3  2] : -1\r\n",
      "Image of [2  1  3] : -1\r\n",
      "Image of [2  3  1] : 1\r\n",
      "Image of [3  1  2] : 1\r\n",
      "Image of [3  2  1] : -1\r\n"
     ]
    }
   ],
   "source": [
    "allElements = S3.elements.toCell;\n",
    "for i = 1:length(allElements)\n",
    "    disp(['Image of [', num2str(allElements{i}), '] : ', num2str(parRep.image(allElements{i}))]);\n",
    "end"
   ]
  },
  {
   "cell_type": "markdown",
   "id": "e092d831",
   "metadata": {},
   "source": [
    "Therefore, this representation is not *faithful*.\n",
    "\n",
    "## The trivial representation of S(3)\n",
    "An even simpler representation of the group S(n) is one in which the image of all elements is set to $1$. This is called the *trivial representation*.\n",
    "\n",
    "It can be constructed similarly from the image of the generators:"
   ]
  },
  {
   "cell_type": "code",
   "execution_count": 16,
   "id": "0427e73f",
   "metadata": {
    "execution": {
     "iopub.execute_input": "2021-08-03T13:43:54.297026Z",
     "iopub.status.busy": "2021-08-03T13:43:54.296561Z",
     "iopub.status.idle": "2021-08-03T13:43:54.460588Z",
     "shell.execute_reply": "2021-08-03T13:43:54.459799Z"
    }
   },
   "outputs": [],
   "source": [
    "trivRep = S3.repByImages('R', d, 'preimages', S3.generators, 'images', {1 1});"
   ]
  },
  {
   "cell_type": "markdown",
   "id": "e23ef2fe",
   "metadata": {},
   "source": [
    "This time, the group law is trivially satisfied since all images are indeed equal to $1$:"
   ]
  },
  {
   "cell_type": "code",
   "execution_count": 17,
   "id": "3bf83695",
   "metadata": {
    "execution": {
     "iopub.execute_input": "2021-08-03T13:43:54.465377Z",
     "iopub.status.busy": "2021-08-03T13:43:54.464851Z",
     "iopub.status.idle": "2021-08-03T13:43:54.512607Z",
     "shell.execute_reply": "2021-08-03T13:43:54.512098Z"
    }
   },
   "outputs": [
    {
     "name": "stdout",
     "output_type": "stream",
     "text": [
      "Image of [1  2  3] : 1\r\n",
      "Image of [1  3  2] : 1\r\n",
      "Image of [2  1  3] : 1\r\n",
      "Image of [2  3  1] : 1\r\n",
      "Image of [3  1  2] : 1\r\n",
      "Image of [3  2  1] : 1\r\n"
     ]
    }
   ],
   "source": [
    "for i = 1:length(allElements)\n",
    "    disp(['Image of [', num2str(allElements{i}), '] : ', num2str(trivRep.image(allElements{i}))]);\n",
    "end"
   ]
  },
  {
   "cell_type": "markdown",
   "id": "4a7fb4f0",
   "metadata": {},
   "source": [
    "## Direct sum of representation of S(3)\n",
    "\n",
    "We have seen that a group can admit several representations. Any two representations of a group in dimension $d_1$ and $d_2$ can be joined\n",
    "together by taking their *direct sum* in order to create a new valid representation in dimension $d_1 + d_2$.\n",
    "\n",
    "For instance, we can construct a $4$-dimensional representation of S(3) by taking the direct sum of the natural representation with the parity\n",
    "representation"
   ]
  },
  {
   "cell_type": "code",
   "execution_count": 18,
   "id": "91a62236",
   "metadata": {
    "execution": {
     "iopub.execute_input": "2021-08-03T13:43:54.515433Z",
     "iopub.status.busy": "2021-08-03T13:43:54.514943Z",
     "iopub.status.idle": "2021-08-03T13:43:54.560519Z",
     "shell.execute_reply": "2021-08-03T13:43:54.559790Z"
    }
   },
   "outputs": [
    {
     "name": "stdout",
     "output_type": "stream",
     "text": [
      "newRep =\r\n",
      "\r\n",
      "Orthogonal direct sum representation\r\n",
      "dimension: 4\r\n",
      "    field: 'R'\r\n",
      "    group: Symmetric group acting on 3 elements\r\n",
      "isUnitary: true\r\n",
      "factor(1): Orthogonal reducible representation\r\n",
      "factor(2): Orthogonal representation\r\n",
      "\r\n"
     ]
    }
   ],
   "source": [
    "newRep = blkdiag(natRep, parRep)"
   ]
  },
  {
   "cell_type": "markdown",
   "id": "cd0fbdc3",
   "metadata": {},
   "source": [
    "The images are then $4 \\times 4$ matrices"
   ]
  },
  {
   "cell_type": "code",
   "execution_count": 19,
   "id": "9face8ce",
   "metadata": {
    "execution": {
     "iopub.execute_input": "2021-08-03T13:43:54.563591Z",
     "iopub.status.busy": "2021-08-03T13:43:54.563107Z",
     "iopub.status.idle": "2021-08-03T13:43:54.593984Z",
     "shell.execute_reply": "2021-08-03T13:43:54.594671Z"
    }
   },
   "outputs": [
    {
     "name": "stdout",
     "output_type": "stream",
     "text": [
      "ans =\r\n",
      "\r\n",
      "   0   1   0   0\r\n",
      "   1   0   0   0\r\n",
      "   0   0   1   0\r\n",
      "   0   0   0  -1\r\n",
      "\r\n"
     ]
    },
    {
     "name": "stdout",
     "output_type": "stream",
     "text": [
      "ans =\r\n",
      "\r\n",
      "   1   0   0   0\r\n",
      "   0   0   1   0\r\n",
      "   0   1   0   0\r\n",
      "   0   0   0  -1\r\n",
      "\r\n"
     ]
    }
   ],
   "source": [
    "newRep.image(element1)\n",
    "newRep.image(element2)"
   ]
  },
  {
   "cell_type": "markdown",
   "id": "4c41229f",
   "metadata": {},
   "source": [
    "As expected, the images have a block diagonal structure. The properties\n",
    "of a direct sum representation are thus captured by the properties of\n",
    "the representation in each block. Such a representation is *reducible*.\n",
    "\n",
    "## Irreducible representations of S(3)\n",
    "\n",
    "Given a representation, it is not always obvious whether it is the direct\n",
    "sum of more fundamental representations or if the representation is\n",
    "*irreducible*. For instance, the images of the natural representation\n",
    "introduced above are not obviously block-diagonal. Yet, this\n",
    "representation is also reducible. To see this, one needs to find a basis\n",
    "of the vector space $R^d$ in which the images have a block diagonal\n",
    "structure.\n",
    "\n",
    "This can be achieved in *RepLAB* by decomposing the representation"
   ]
  },
  {
   "cell_type": "code",
   "execution_count": 20,
   "id": "7d427d5d",
   "metadata": {
    "execution": {
     "iopub.execute_input": "2021-08-03T13:43:54.598280Z",
     "iopub.status.busy": "2021-08-03T13:43:54.597488Z",
     "iopub.status.idle": "2021-08-03T13:43:56.993968Z",
     "shell.execute_reply": "2021-08-03T13:43:56.994335Z"
    }
   },
   "outputs": [
    {
     "name": "stdout",
     "output_type": "stream",
     "text": [
      "ans = 2\r\n"
     ]
    }
   ],
   "source": [
    "natDec = natRep.decomposition.nice;\n",
    "natDec.nComponents"
   ]
  },
  {
   "cell_type": "markdown",
   "id": "a9bec98c",
   "metadata": {},
   "source": [
    "This shows that the defininig representation of $S_3$ has two *irreducible components*, of dimension $1$ and $2$ respectively:"
   ]
  },
  {
   "cell_type": "code",
   "execution_count": 21,
   "id": "41f77a30",
   "metadata": {
    "execution": {
     "iopub.execute_input": "2021-08-03T13:43:56.997178Z",
     "iopub.status.busy": "2021-08-03T13:43:56.996716Z",
     "iopub.status.idle": "2021-08-03T13:43:57.015559Z",
     "shell.execute_reply": "2021-08-03T13:43:57.015942Z"
    }
   },
   "outputs": [
    {
     "name": "stdout",
     "output_type": "stream",
     "text": [
      "ans = 1\r\n"
     ]
    },
    {
     "name": "stdout",
     "output_type": "stream",
     "text": [
      "ans = 2\r\n"
     ]
    }
   ],
   "source": [
    "natDec.component(1).irrepDimension\n",
    "natDec.component(2).irrepDimension"
   ]
  },
  {
   "cell_type": "markdown",
   "id": "fffdb68c",
   "metadata": {},
   "source": [
    "The decomposition also provides the change of basis matrix which makes |this decomposition apparent"
   ]
  },
  {
   "cell_type": "code",
   "execution_count": 22,
   "id": "304de629",
   "metadata": {
    "execution": {
     "iopub.execute_input": "2021-08-03T13:43:57.018961Z",
     "iopub.status.busy": "2021-08-03T13:43:57.018439Z",
     "iopub.status.idle": "2021-08-03T13:43:57.033336Z",
     "shell.execute_reply": "2021-08-03T13:43:57.032931Z"
    }
   },
   "outputs": [
    {
     "name": "stdout",
     "output_type": "stream",
     "text": [
      "basis =\r\n",
      "\r\n",
      "   0.3333   0.6667  -0.3333\r\n",
      "   0.3333  -0.3333   0.6667\r\n",
      "   0.3333  -0.3333  -0.3333\r\n",
      "\r\n"
     ]
    }
   ],
   "source": [
    "basis = natDec.basis"
   ]
  },
  {
   "cell_type": "markdown",
   "id": "a4b026ca",
   "metadata": {},
   "source": [
    "The images of the two elements of $S_3$, ``[2 1 3]`` and ``[1 3 2]`` are indeed block-diagonal in this basis:"
   ]
  },
  {
   "cell_type": "code",
   "execution_count": 23,
   "id": "196b2535",
   "metadata": {
    "execution": {
     "iopub.execute_input": "2021-08-03T13:43:57.036198Z",
     "iopub.status.busy": "2021-08-03T13:43:57.035584Z",
     "iopub.status.idle": "2021-08-03T13:43:57.060999Z",
     "shell.execute_reply": "2021-08-03T13:43:57.060291Z"
    }
   },
   "outputs": [
    {
     "name": "stdout",
     "output_type": "stream",
     "text": [
      "ans =\r\n",
      "\r\n",
      "   1   0   0\r\n",
      "   0   0   1\r\n",
      "   0   1   0\r\n",
      "\r\n"
     ]
    },
    {
     "name": "stdout",
     "output_type": "stream",
     "text": [
      "ans =\r\n",
      "\r\n",
      "   1   0   0\r\n",
      "   0   1  -1\r\n",
      "   0   0  -1\r\n",
      "\r\n"
     ]
    }
   ],
   "source": [
    "inv(basis)*natRep.image(element1)*basis\n",
    "inv(basis)*natRep.image(element2)*basis"
   ]
  },
  {
   "cell_type": "markdown",
   "id": "50a30f73",
   "metadata": {},
   "source": [
    "## Summary\n",
    "\n",
    "This shows that the natural representation of S(3) contains\n",
    "\n",
    "* One copy of the trivial representation of S(3)\n",
    "* One copy of the a faithful 2 x 2 representation of S(3)"
   ]
  }
 ],
 "metadata": {
  "jupytext": {
   "cell_metadata_filter": "-all",
   "main_language": "matlab",
   "notebook_metadata_filter": "-all",
   "text_representation": {
    "extension": ".m",
    "format_name": "light"
   }
  },
  "language_info": {
   "file_extension": ".m",
   "help_links": [
    {
     "text": "GNU Octave",
     "url": "https://www.gnu.org/software/octave/support.html"
    },
    {
     "text": "Octave Kernel",
     "url": "https://github.com/Calysto/octave_kernel"
    },
    {
     "text": "MetaKernel Magics",
     "url": "https://metakernel.readthedocs.io/en/latest/source/README.html"
    }
   ],
   "mimetype": "text/x-octave",
   "name": "octave",
   "version": "6.2.0"
  }
 },
 "nbformat": 4,
 "nbformat_minor": 5
}
