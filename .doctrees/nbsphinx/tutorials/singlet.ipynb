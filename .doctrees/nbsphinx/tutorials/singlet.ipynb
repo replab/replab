{
 "cells": [
  {
   "cell_type": "markdown",
   "id": "63e69eb7",
   "metadata": {},
   "source": [
    "# Tutorial for quantum information people\n",
    "\n",
    "The unitary group $U(n)$ describes the possible change of basis in the\n",
    "complex Hilbert space of dimension $n$. For $n=2$, this captures the\n",
    "possible choices of basis in the qubit space $C^2$. For a system composed\n",
    "of two qubits, we can similarly define the effect of a joint change of\n",
    "basis performed on both subsystems simultaneously. It is known that a\n",
    "single state is invariant under such joint change of basis. Here, we\n",
    "identify this state by extracting the subspace of $(C^2)^{\\otimes 2}$\n",
    "which is invariant under the joint change of basis for both subsystems."
   ]
  },
  {
   "cell_type": "markdown",
   "id": "70bb5d4d",
   "metadata": {},
   "source": [
    "Before trying any of the *RepLAB* commands, we must initialize the library:"
   ]
  },
  {
   "cell_type": "code",
   "execution_count": 1,
   "id": "d3613484",
   "metadata": {
    "execution": {
     "iopub.execute_input": "2021-07-29T16:43:39.271899Z",
     "iopub.status.busy": "2021-07-29T16:43:39.270753Z",
     "iopub.status.idle": "2021-07-29T16:43:43.209734Z",
     "shell.execute_reply": "2021-07-29T16:43:43.209422Z"
    }
   },
   "outputs": [],
   "source": [
    "addpath([pwd, '/../..']);\n",
    "replab_init('verbose', 0);"
   ]
  },
  {
   "cell_type": "markdown",
   "id": "dbc424f0",
   "metadata": {},
   "source": [
    "## The unitary group representation\n",
    "\n",
    "Changes of bases for one system are described by the group $U(2)$"
   ]
  },
  {
   "cell_type": "code",
   "execution_count": 2,
   "id": "fb86742e",
   "metadata": {
    "execution": {
     "iopub.execute_input": "2021-07-29T16:43:43.211684Z",
     "iopub.status.busy": "2021-07-29T16:43:43.211403Z",
     "iopub.status.idle": "2021-07-29T16:43:43.224542Z",
     "shell.execute_reply": "2021-07-29T16:43:43.224304Z"
    }
   },
   "outputs": [
    {
     "name": "stdout",
     "output_type": "stream",
     "text": [
      "error: member 'UnitaryGroup' in package 'replab' does not exist\r\n"
     ]
    }
   ],
   "source": [
    "d = 2;\n",
    "U2 = replab.UnitaryGroup(d);"
   ]
  },
  {
   "cell_type": "markdown",
   "id": "c8350a5f",
   "metadata": {},
   "source": [
    "We construct the defining representation of this group, which acts on $C^2$:"
   ]
  },
  {
   "cell_type": "code",
   "execution_count": 3,
   "id": "33195ab2",
   "metadata": {
    "execution": {
     "iopub.execute_input": "2021-07-29T16:43:43.226560Z",
     "iopub.status.busy": "2021-07-29T16:43:43.226284Z",
     "iopub.status.idle": "2021-07-29T16:43:43.237600Z",
     "shell.execute_reply": "2021-07-29T16:43:43.237314Z"
    }
   },
   "outputs": [
    {
     "name": "stdout",
     "output_type": "stream",
     "text": [
      "error: 'U2' undefined near line 1, column 1\r\n"
     ]
    }
   ],
   "source": [
    "U2Rep = U2.definingRep;"
   ]
  },
  {
   "cell_type": "markdown",
   "id": "c68bcf51",
   "metadata": {},
   "source": [
    "## Tensor product of two representations\n",
    "\n",
    "We can now construct the representation which acts jointly on two\n",
    "subsystems of dimension 2:"
   ]
  },
  {
   "cell_type": "code",
   "execution_count": 4,
   "id": "2254dd9e",
   "metadata": {
    "execution": {
     "iopub.execute_input": "2021-07-29T16:43:43.239422Z",
     "iopub.status.busy": "2021-07-29T16:43:43.239147Z",
     "iopub.status.idle": "2021-07-29T16:43:43.250449Z",
     "shell.execute_reply": "2021-07-29T16:43:43.250212Z"
    }
   },
   "outputs": [
    {
     "name": "stdout",
     "output_type": "stream",
     "text": [
      "error: 'U2Rep' undefined near line 1, column 1\r\n"
     ]
    }
   ],
   "source": [
    "U2TensorRep = kron(U2Rep, U2Rep);"
   ]
  },
  {
   "cell_type": "markdown",
   "id": "0dda0063",
   "metadata": {},
   "source": [
    "To identify the subspaces which are invariant under this group, we decompose the representation:"
   ]
  },
  {
   "cell_type": "code",
   "execution_count": 5,
   "id": "c66f4124",
   "metadata": {
    "execution": {
     "iopub.execute_input": "2021-07-29T16:43:43.252738Z",
     "iopub.status.busy": "2021-07-29T16:43:43.252463Z",
     "iopub.status.idle": "2021-07-29T16:43:43.263520Z",
     "shell.execute_reply": "2021-07-29T16:43:43.263240Z"
    }
   },
   "outputs": [
    {
     "name": "stdout",
     "output_type": "stream",
     "text": [
      "error: 'U2TensorRep' undefined near line 1, column 1\r\n"
     ]
    }
   ],
   "source": [
    "dec = U2TensorRep.decomposition.nice;"
   ]
  },
  {
   "cell_type": "markdown",
   "id": "b50ec872",
   "metadata": {},
   "source": [
    "The decomposition has"
   ]
  },
  {
   "cell_type": "code",
   "execution_count": 6,
   "id": "7e117f74",
   "metadata": {
    "execution": {
     "iopub.execute_input": "2021-07-29T16:43:43.265382Z",
     "iopub.status.busy": "2021-07-29T16:43:43.265102Z",
     "iopub.status.idle": "2021-07-29T16:43:43.276493Z",
     "shell.execute_reply": "2021-07-29T16:43:43.276176Z"
    }
   },
   "outputs": [
    {
     "name": "stdout",
     "output_type": "stream",
     "text": [
      "error: 'dec' undefined near line 1, column 1\r\n"
     ]
    }
   ],
   "source": [
    "dec.nComponents"
   ]
  },
  {
   "cell_type": "markdown",
   "id": "4a4f8f7f",
   "metadata": {},
   "source": [
    "components, of dimension"
   ]
  },
  {
   "cell_type": "code",
   "execution_count": 7,
   "id": "bc9aaff5",
   "metadata": {
    "execution": {
     "iopub.execute_input": "2021-07-29T16:43:43.278470Z",
     "iopub.status.busy": "2021-07-29T16:43:43.278191Z",
     "iopub.status.idle": "2021-07-29T16:43:43.289775Z",
     "shell.execute_reply": "2021-07-29T16:43:43.289494Z"
    }
   },
   "outputs": [
    {
     "name": "stdout",
     "output_type": "stream",
     "text": [
      "error: 'dec' undefined near line 1, column 1\r\n"
     ]
    }
   ],
   "source": [
    "dec.component(1).irrepDimension"
   ]
  },
  {
   "cell_type": "markdown",
   "id": "ecd21642",
   "metadata": {},
   "source": [
    "and"
   ]
  },
  {
   "cell_type": "code",
   "execution_count": 8,
   "id": "9d476d8b",
   "metadata": {
    "execution": {
     "iopub.execute_input": "2021-07-29T16:43:43.291534Z",
     "iopub.status.busy": "2021-07-29T16:43:43.291262Z",
     "iopub.status.idle": "2021-07-29T16:43:43.302786Z",
     "shell.execute_reply": "2021-07-29T16:43:43.302495Z"
    }
   },
   "outputs": [
    {
     "name": "stdout",
     "output_type": "stream",
     "text": [
      "error: 'dec' undefined near line 1, column 1\r\n"
     ]
    }
   ],
   "source": [
    "dec.component(2).irrepDimension"
   ]
  },
  {
   "cell_type": "markdown",
   "id": "d67eba6c",
   "metadata": {},
   "source": [
    "These are the antisymmetric and symmetric subspaces respectively. The change of basis into the first component\n",
    "identifies the antisymetric subspace, also known as the *singlet state*:"
   ]
  },
  {
   "cell_type": "code",
   "execution_count": 9,
   "id": "6db6e7ff",
   "metadata": {
    "execution": {
     "iopub.execute_input": "2021-07-29T16:43:43.304553Z",
     "iopub.status.busy": "2021-07-29T16:43:43.304283Z",
     "iopub.status.idle": "2021-07-29T16:43:43.323675Z",
     "shell.execute_reply": "2021-07-29T16:43:43.323397Z"
    }
   },
   "outputs": [
    {
     "name": "stdout",
     "output_type": "stream",
     "text": [
      "error: 'dec' undefined near line 1, column 1\r\n"
     ]
    },
    {
     "name": "stdout",
     "output_type": "stream",
     "text": [
      "error: 'dec' undefined near line 1, column 1\r\n"
     ]
    }
   ],
   "source": [
    "singletBasis = dec.component(1).basis\n",
    "rest = dec.component(2).basis"
   ]
  },
  {
   "cell_type": "code",
   "execution_count": null,
   "id": "354ee4e9",
   "metadata": {},
   "outputs": [],
   "source": []
  }
 ],
 "metadata": {
  "jupytext": {
   "cell_metadata_filter": "-all",
   "main_language": "matlab",
   "notebook_metadata_filter": "-all",
   "text_representation": {
    "extension": ".m",
    "format_name": "light"
   }
  },
  "language_info": {
   "file_extension": ".m",
   "help_links": [
    {
     "text": "GNU Octave",
     "url": "https://www.gnu.org/software/octave/support.html"
    },
    {
     "text": "Octave Kernel",
     "url": "https://github.com/Calysto/octave_kernel"
    },
    {
     "text": "MetaKernel Magics",
     "url": "https://metakernel.readthedocs.io/en/latest/source/README.html"
    }
   ],
   "mimetype": "text/x-octave",
   "name": "octave",
   "version": "6.2.0"
  }
 },
 "nbformat": 4,
 "nbformat_minor": 5
}
