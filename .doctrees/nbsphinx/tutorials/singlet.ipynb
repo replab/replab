{
 "cells": [
  {
   "cell_type": "markdown",
   "id": "87509515",
   "metadata": {},
   "source": [
    "# Tutorial for physicists\n",
    "\n",
    "The unitary group $U(n)$ describes the possible change of basis in the\n",
    "complex Hilbert space of dimension $n$. For $n=2$, this captures the\n",
    "possible choices of basis in the qubit space $C^2$. For a system composed\n",
    "of two qubits, we can similarly define the effect of a joint change of\n",
    "basis performed on both subsystems simultaneously. It is known that a\n",
    "single state is invariant under such joint change of basis. Here, we\n",
    "identify this state by extracting the subspace of $(C^2)^{\\otimes 2}$\n",
    "which is invariant under the joint change of basis for both subsystems."
   ]
  },
  {
   "cell_type": "markdown",
   "id": "2cfe9981",
   "metadata": {},
   "source": [
    "Before trying any of the *RepLAB* commands, we must initialize the library:"
   ]
  },
  {
   "cell_type": "code",
   "execution_count": 1,
   "id": "be823c97",
   "metadata": {
    "execution": {
     "iopub.execute_input": "2021-12-10T15:57:18.660036Z",
     "iopub.status.busy": "2021-12-10T15:57:18.659602Z",
     "iopub.status.idle": "2021-12-10T15:57:24.772509Z",
     "shell.execute_reply": "2021-12-10T15:57:24.772040Z"
    }
   },
   "outputs": [
    {
     "name": "stdout",
     "output_type": "stream",
     "text": [
      "replab_init: Initialization done.\r\n"
     ]
    }
   ],
   "source": [
    "addpath([pwd, '/../..']);\n",
    "replab_init('verbose', 0);"
   ]
  },
  {
   "cell_type": "markdown",
   "id": "ed5e2d2d",
   "metadata": {},
   "source": [
    "## The unitary group representation\n",
    "\n",
    "Changes of bases for one system are described by the group $U(2)$"
   ]
  },
  {
   "cell_type": "code",
   "execution_count": 2,
   "id": "ddeb7fba",
   "metadata": {
    "execution": {
     "iopub.execute_input": "2021-12-10T15:57:24.775151Z",
     "iopub.status.busy": "2021-12-10T15:57:24.774724Z",
     "iopub.status.idle": "2021-12-10T15:57:24.798921Z",
     "shell.execute_reply": "2021-12-10T15:57:24.798441Z"
    }
   },
   "outputs": [],
   "source": [
    "d = 2;\n",
    "U2 = replab.U(d);"
   ]
  },
  {
   "cell_type": "markdown",
   "id": "6ddde5f4",
   "metadata": {},
   "source": [
    "We construct the defining representation of this group, which acts on $C^2$:"
   ]
  },
  {
   "cell_type": "code",
   "execution_count": 3,
   "id": "26b5c5fd",
   "metadata": {
    "execution": {
     "iopub.execute_input": "2021-12-10T15:57:24.801796Z",
     "iopub.status.busy": "2021-12-10T15:57:24.801363Z",
     "iopub.status.idle": "2021-12-10T15:57:24.826948Z",
     "shell.execute_reply": "2021-12-10T15:57:24.826180Z"
    }
   },
   "outputs": [],
   "source": [
    "U2Rep = U2.definingRep;"
   ]
  },
  {
   "cell_type": "markdown",
   "id": "cf4438a2",
   "metadata": {},
   "source": [
    "## Tensor product of two representations\n",
    "\n",
    "We can now construct the representation which acts jointly on two\n",
    "subsystems of dimension 2:"
   ]
  },
  {
   "cell_type": "code",
   "execution_count": 4,
   "id": "d0e4d75c",
   "metadata": {
    "execution": {
     "iopub.execute_input": "2021-12-10T15:57:24.829788Z",
     "iopub.status.busy": "2021-12-10T15:57:24.829356Z",
     "iopub.status.idle": "2021-12-10T15:57:24.848194Z",
     "shell.execute_reply": "2021-12-10T15:57:24.847756Z"
    }
   },
   "outputs": [],
   "source": [
    "U2TensorRep = kron(U2Rep, U2Rep);"
   ]
  },
  {
   "cell_type": "markdown",
   "id": "04bb9b38",
   "metadata": {},
   "source": [
    "To identify the subspaces which are invariant under this group, we decompose the representation:"
   ]
  },
  {
   "cell_type": "code",
   "execution_count": 5,
   "id": "f7072f6d",
   "metadata": {
    "execution": {
     "iopub.execute_input": "2021-12-10T15:57:24.851364Z",
     "iopub.status.busy": "2021-12-10T15:57:24.850936Z",
     "iopub.status.idle": "2021-12-10T15:57:28.938512Z",
     "shell.execute_reply": "2021-12-10T15:57:28.937653Z"
    }
   },
   "outputs": [],
   "source": [
    "dec = U2TensorRep.decomposition.nice;"
   ]
  },
  {
   "cell_type": "markdown",
   "id": "4a4945da",
   "metadata": {},
   "source": [
    "The decomposition has"
   ]
  },
  {
   "cell_type": "code",
   "execution_count": 6,
   "id": "4e10365e",
   "metadata": {
    "execution": {
     "iopub.execute_input": "2021-12-10T15:57:28.941423Z",
     "iopub.status.busy": "2021-12-10T15:57:28.940981Z",
     "iopub.status.idle": "2021-12-10T15:57:28.955888Z",
     "shell.execute_reply": "2021-12-10T15:57:28.955504Z"
    }
   },
   "outputs": [
    {
     "name": "stdout",
     "output_type": "stream",
     "text": [
      "ans = 2\r\n"
     ]
    }
   ],
   "source": [
    "dec.nComponents"
   ]
  },
  {
   "cell_type": "markdown",
   "id": "427c599c",
   "metadata": {},
   "source": [
    "components, of dimension"
   ]
  },
  {
   "cell_type": "code",
   "execution_count": 7,
   "id": "a714c4fd",
   "metadata": {
    "execution": {
     "iopub.execute_input": "2021-12-10T15:57:28.959168Z",
     "iopub.status.busy": "2021-12-10T15:57:28.957900Z",
     "iopub.status.idle": "2021-12-10T15:57:28.971300Z",
     "shell.execute_reply": "2021-12-10T15:57:28.971621Z"
    }
   },
   "outputs": [
    {
     "name": "stdout",
     "output_type": "stream",
     "text": [
      "ans = 1\r\n"
     ]
    }
   ],
   "source": [
    "dec.component(1).irrepDimension"
   ]
  },
  {
   "cell_type": "markdown",
   "id": "8f1c2ed0",
   "metadata": {},
   "source": [
    "and"
   ]
  },
  {
   "cell_type": "code",
   "execution_count": 8,
   "id": "c82e96fb",
   "metadata": {
    "execution": {
     "iopub.execute_input": "2021-12-10T15:57:28.974382Z",
     "iopub.status.busy": "2021-12-10T15:57:28.973975Z",
     "iopub.status.idle": "2021-12-10T15:57:28.987155Z",
     "shell.execute_reply": "2021-12-10T15:57:28.986776Z"
    }
   },
   "outputs": [
    {
     "name": "stdout",
     "output_type": "stream",
     "text": [
      "ans = 3\r\n"
     ]
    }
   ],
   "source": [
    "dec.component(2).irrepDimension"
   ]
  },
  {
   "cell_type": "markdown",
   "id": "05b18813",
   "metadata": {},
   "source": [
    "These are the antisymmetric and symmetric subspaces respectively. The change of basis into the first component\n",
    "identifies the antisymetric subspace, also known as the *singlet state*:"
   ]
  },
  {
   "cell_type": "code",
   "execution_count": 9,
   "id": "57055f63",
   "metadata": {
    "execution": {
     "iopub.execute_input": "2021-12-10T15:57:28.990132Z",
     "iopub.status.busy": "2021-12-10T15:57:28.989112Z",
     "iopub.status.idle": "2021-12-10T15:57:29.009804Z",
     "shell.execute_reply": "2021-12-10T15:57:29.010343Z"
    }
   },
   "outputs": [
    {
     "name": "stdout",
     "output_type": "stream",
     "text": [
      "singletBasis =\r\n",
      "\r\n",
      "        0\r\n",
      "   0.5000\r\n",
      "  -0.5000\r\n",
      "        0\r\n",
      "\r\n"
     ]
    },
    {
     "name": "stdout",
     "output_type": "stream",
     "text": [
      "rest =\r\n",
      "\r\n",
      "   1.0000        0        0\r\n",
      "        0        0   0.5000\r\n",
      "        0        0   0.5000\r\n",
      "        0   1.0000        0\r\n",
      "\r\n"
     ]
    }
   ],
   "source": [
    "singletBasis = dec.component(1).basis\n",
    "rest = dec.component(2).basis"
   ]
  }
 ],
 "metadata": {
  "jupytext": {
   "cell_metadata_filter": "-all",
   "main_language": "matlab",
   "notebook_metadata_filter": "-all",
   "text_representation": {
    "extension": ".m",
    "format_name": "light"
   }
  },
  "language_info": {
   "file_extension": ".m",
   "help_links": [
    {
     "text": "GNU Octave",
     "url": "https://www.gnu.org/software/octave/support.html"
    },
    {
     "text": "Octave Kernel",
     "url": "https://github.com/Calysto/octave_kernel"
    },
    {
     "text": "MetaKernel Magics",
     "url": "https://metakernel.readthedocs.io/en/latest/source/README.html"
    }
   ],
   "mimetype": "text/x-octave",
   "name": "octave",
   "version": "6.2.0"
  }
 },
 "nbformat": 4,
 "nbformat_minor": 5
}
