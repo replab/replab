{
 "cells": [
  {
   "cell_type": "markdown",
   "id": "5cdb2463",
   "metadata": {},
   "source": [
    "# Tutorial for quantum information people\n",
    "\n",
    "The unitary group $U(n)$ describes the possible change of basis in the\n",
    "complex Hilbert space of dimension $n$. For $n=2$, this captures the\n",
    "possible choices of basis in the qubit space $C^2$. For a system composed\n",
    "of two qubits, we can similarly define the effect of a joint change of\n",
    "basis performed on both subsystems simultaneously. It is known that a\n",
    "single state is invariant under such joint change of basis. Here, we\n",
    "identify this state by extracting the subspace of $(C^2)^{\\otimes 2}$\n",
    "which is invariant under the joint change of basis for both subsystems."
   ]
  },
  {
   "cell_type": "markdown",
   "id": "39dbda91",
   "metadata": {},
   "source": [
    "Before trying any of the *RepLAB* commands, we must initialize the library:"
   ]
  },
  {
   "cell_type": "code",
   "execution_count": 1,
   "id": "476dec67",
   "metadata": {
    "execution": {
     "iopub.execute_input": "2021-09-08T14:05:40.707191Z",
     "iopub.status.busy": "2021-09-08T14:05:40.706735Z",
     "iopub.status.idle": "2021-09-08T14:05:45.996794Z",
     "shell.execute_reply": "2021-09-08T14:05:45.996287Z"
    }
   },
   "outputs": [],
   "source": [
    "addpath([pwd, '/../..']);\n",
    "replab_init('verbose', 0);"
   ]
  },
  {
   "cell_type": "markdown",
   "id": "ad03e650",
   "metadata": {},
   "source": [
    "## The unitary group representation\n",
    "\n",
    "Changes of bases for one system are described by the group $U(2)$"
   ]
  },
  {
   "cell_type": "code",
   "execution_count": 2,
   "id": "fd3e4cc1",
   "metadata": {
    "execution": {
     "iopub.execute_input": "2021-09-08T14:05:45.999617Z",
     "iopub.status.busy": "2021-09-08T14:05:45.998937Z",
     "iopub.status.idle": "2021-09-08T14:05:46.018496Z",
     "shell.execute_reply": "2021-09-08T14:05:46.018064Z"
    }
   },
   "outputs": [],
   "source": [
    "d = 2;\n",
    "U2 = replab.U(d);"
   ]
  },
  {
   "cell_type": "markdown",
   "id": "0785f3ba",
   "metadata": {},
   "source": [
    "We construct the defining representation of this group, which acts on $C^2$:"
   ]
  },
  {
   "cell_type": "code",
   "execution_count": 3,
   "id": "52ad9e53",
   "metadata": {
    "execution": {
     "iopub.execute_input": "2021-09-08T14:05:46.021237Z",
     "iopub.status.busy": "2021-09-08T14:05:46.020730Z",
     "iopub.status.idle": "2021-09-08T14:05:46.043193Z",
     "shell.execute_reply": "2021-09-08T14:05:46.042776Z"
    }
   },
   "outputs": [],
   "source": [
    "U2Rep = U2.definingRep;"
   ]
  },
  {
   "cell_type": "markdown",
   "id": "6d16f70d",
   "metadata": {},
   "source": [
    "## Tensor product of two representations\n",
    "\n",
    "We can now construct the representation which acts jointly on two\n",
    "subsystems of dimension 2:"
   ]
  },
  {
   "cell_type": "code",
   "execution_count": 4,
   "id": "74534a6b",
   "metadata": {
    "execution": {
     "iopub.execute_input": "2021-09-08T14:05:46.045588Z",
     "iopub.status.busy": "2021-09-08T14:05:46.045205Z",
     "iopub.status.idle": "2021-09-08T14:05:46.062084Z",
     "shell.execute_reply": "2021-09-08T14:05:46.061715Z"
    }
   },
   "outputs": [],
   "source": [
    "U2TensorRep = kron(U2Rep, U2Rep);"
   ]
  },
  {
   "cell_type": "markdown",
   "id": "f379a2e4",
   "metadata": {},
   "source": [
    "To identify the subspaces which are invariant under this group, we decompose the representation:"
   ]
  },
  {
   "cell_type": "code",
   "execution_count": 5,
   "id": "d53061c5",
   "metadata": {
    "execution": {
     "iopub.execute_input": "2021-09-08T14:05:46.064581Z",
     "iopub.status.busy": "2021-09-08T14:05:46.064217Z",
     "iopub.status.idle": "2021-09-08T14:05:49.696655Z",
     "shell.execute_reply": "2021-09-08T14:05:49.697129Z"
    }
   },
   "outputs": [],
   "source": [
    "dec = U2TensorRep.decomposition.nice;"
   ]
  },
  {
   "cell_type": "markdown",
   "id": "f9767d09",
   "metadata": {},
   "source": [
    "The decomposition has"
   ]
  },
  {
   "cell_type": "code",
   "execution_count": 6,
   "id": "53920628",
   "metadata": {
    "execution": {
     "iopub.execute_input": "2021-09-08T14:05:49.700295Z",
     "iopub.status.busy": "2021-09-08T14:05:49.699868Z",
     "iopub.status.idle": "2021-09-08T14:05:49.716291Z",
     "shell.execute_reply": "2021-09-08T14:05:49.716606Z"
    }
   },
   "outputs": [
    {
     "name": "stdout",
     "output_type": "stream",
     "text": [
      "ans = 2\r\n"
     ]
    }
   ],
   "source": [
    "dec.nComponents"
   ]
  },
  {
   "cell_type": "markdown",
   "id": "7fff2be7",
   "metadata": {},
   "source": [
    "components, of dimension"
   ]
  },
  {
   "cell_type": "code",
   "execution_count": 7,
   "id": "e06c4560",
   "metadata": {
    "execution": {
     "iopub.execute_input": "2021-09-08T14:05:49.719295Z",
     "iopub.status.busy": "2021-09-08T14:05:49.718886Z",
     "iopub.status.idle": "2021-09-08T14:05:49.731660Z",
     "shell.execute_reply": "2021-09-08T14:05:49.731977Z"
    }
   },
   "outputs": [
    {
     "name": "stdout",
     "output_type": "stream",
     "text": [
      "ans = 1\r\n"
     ]
    }
   ],
   "source": [
    "dec.component(1).irrepDimension"
   ]
  },
  {
   "cell_type": "markdown",
   "id": "4cf66854",
   "metadata": {},
   "source": [
    "and"
   ]
  },
  {
   "cell_type": "code",
   "execution_count": 8,
   "id": "3c575341",
   "metadata": {
    "execution": {
     "iopub.execute_input": "2021-09-08T14:05:49.734494Z",
     "iopub.status.busy": "2021-09-08T14:05:49.734097Z",
     "iopub.status.idle": "2021-09-08T14:05:49.745125Z",
     "shell.execute_reply": "2021-09-08T14:05:49.744775Z"
    }
   },
   "outputs": [
    {
     "name": "stdout",
     "output_type": "stream",
     "text": [
      "ans = 3\r\n"
     ]
    }
   ],
   "source": [
    "dec.component(2).irrepDimension"
   ]
  },
  {
   "cell_type": "markdown",
   "id": "754c6e2a",
   "metadata": {},
   "source": [
    "These are the antisymmetric and symmetric subspaces respectively. The change of basis into the first component\n",
    "identifies the antisymetric subspace, also known as the *singlet state*:"
   ]
  },
  {
   "cell_type": "code",
   "execution_count": 9,
   "id": "6b7a54a8",
   "metadata": {
    "execution": {
     "iopub.execute_input": "2021-09-08T14:05:49.747523Z",
     "iopub.status.busy": "2021-09-08T14:05:49.747126Z",
     "iopub.status.idle": "2021-09-08T14:05:49.763002Z",
     "shell.execute_reply": "2021-09-08T14:05:49.763323Z"
    }
   },
   "outputs": [
    {
     "name": "stdout",
     "output_type": "stream",
     "text": [
      "singletBasis =\r\n",
      "\r\n",
      "        0\r\n",
      "   0.5000\r\n",
      "  -0.5000\r\n",
      "        0\r\n",
      "\r\n"
     ]
    },
    {
     "name": "stdout",
     "output_type": "stream",
     "text": [
      "rest =\r\n",
      "\r\n",
      "   1.0000        0        0\r\n",
      "        0        0   0.5000\r\n",
      "        0        0   0.5000\r\n",
      "        0   1.0000        0\r\n",
      "\r\n"
     ]
    }
   ],
   "source": [
    "singletBasis = dec.component(1).basis\n",
    "rest = dec.component(2).basis"
   ]
  }
 ],
 "metadata": {
  "jupytext": {
   "cell_metadata_filter": "-all",
   "main_language": "matlab",
   "notebook_metadata_filter": "-all",
   "text_representation": {
    "extension": ".m",
    "format_name": "light"
   }
  },
  "language_info": {
   "file_extension": ".m",
   "help_links": [
    {
     "text": "GNU Octave",
     "url": "https://www.gnu.org/software/octave/support.html"
    },
    {
     "text": "Octave Kernel",
     "url": "https://github.com/Calysto/octave_kernel"
    },
    {
     "text": "MetaKernel Magics",
     "url": "https://metakernel.readthedocs.io/en/latest/source/README.html"
    }
   ],
   "mimetype": "text/x-octave",
   "name": "octave",
   "version": "6.2.0"
  }
 },
 "nbformat": 4,
 "nbformat_minor": 5
}
