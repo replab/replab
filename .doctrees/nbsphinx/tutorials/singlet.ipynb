{
 "cells": [
  {
   "cell_type": "markdown",
   "id": "47720292",
   "metadata": {},
   "source": [
    "# Tutorial for quantum information people\n",
    "\n",
    "The unitary group $U(n)$ describes the possible change of basis in the\n",
    "complex Hilbert space of dimension $n$. For $n=2$, this captures the\n",
    "possible choices of basis in the qubit space $C^2$. For a system composed\n",
    "of two qubits, we can similarly define the effect of a joint change of\n",
    "basis performed on both subsystems simultaneously. It is known that a\n",
    "single state is invariant under such joint change of basis. Here, we\n",
    "identify this state by extracting the subspace of $(C^2)^{\\otimes 2}$\n",
    "which is invariant under the joint change of basis for both subsystems."
   ]
  },
  {
   "cell_type": "markdown",
   "id": "25d5a2f3",
   "metadata": {},
   "source": [
    "Before trying any of the *RepLAB* commands, we must initialize the library:"
   ]
  },
  {
   "cell_type": "code",
   "execution_count": 1,
   "id": "e5577e98",
   "metadata": {
    "execution": {
     "iopub.execute_input": "2021-09-08T15:33:10.331527Z",
     "iopub.status.busy": "2021-09-08T15:33:10.330952Z",
     "iopub.status.idle": "2021-09-08T15:33:18.294214Z",
     "shell.execute_reply": "2021-09-08T15:33:18.294668Z"
    }
   },
   "outputs": [],
   "source": [
    "addpath([pwd, '/../..']);\n",
    "replab_init('verbose', 0);"
   ]
  },
  {
   "cell_type": "markdown",
   "id": "e22ed512",
   "metadata": {},
   "source": [
    "## The unitary group representation\n",
    "\n",
    "Changes of bases for one system are described by the group $U(2)$"
   ]
  },
  {
   "cell_type": "code",
   "execution_count": 2,
   "id": "7d223941",
   "metadata": {
    "execution": {
     "iopub.execute_input": "2021-09-08T15:33:18.298174Z",
     "iopub.status.busy": "2021-09-08T15:33:18.297617Z",
     "iopub.status.idle": "2021-09-08T15:33:18.324437Z",
     "shell.execute_reply": "2021-09-08T15:33:18.323911Z"
    }
   },
   "outputs": [],
   "source": [
    "d = 2;\n",
    "U2 = replab.U(d);"
   ]
  },
  {
   "cell_type": "markdown",
   "id": "086487e1",
   "metadata": {},
   "source": [
    "We construct the defining representation of this group, which acts on $C^2$:"
   ]
  },
  {
   "cell_type": "code",
   "execution_count": 3,
   "id": "f60010ec",
   "metadata": {
    "execution": {
     "iopub.execute_input": "2021-09-08T15:33:18.327904Z",
     "iopub.status.busy": "2021-09-08T15:33:18.327340Z",
     "iopub.status.idle": "2021-09-08T15:33:18.358657Z",
     "shell.execute_reply": "2021-09-08T15:33:18.359252Z"
    }
   },
   "outputs": [],
   "source": [
    "U2Rep = U2.definingRep;"
   ]
  },
  {
   "cell_type": "markdown",
   "id": "ce5f199e",
   "metadata": {},
   "source": [
    "## Tensor product of two representations\n",
    "\n",
    "We can now construct the representation which acts jointly on two\n",
    "subsystems of dimension 2:"
   ]
  },
  {
   "cell_type": "code",
   "execution_count": 4,
   "id": "46085d3c",
   "metadata": {
    "execution": {
     "iopub.execute_input": "2021-09-08T15:33:18.362793Z",
     "iopub.status.busy": "2021-09-08T15:33:18.362229Z",
     "iopub.status.idle": "2021-09-08T15:33:18.387353Z",
     "shell.execute_reply": "2021-09-08T15:33:18.386863Z"
    }
   },
   "outputs": [],
   "source": [
    "U2TensorRep = kron(U2Rep, U2Rep);"
   ]
  },
  {
   "cell_type": "markdown",
   "id": "7c5820b5",
   "metadata": {},
   "source": [
    "To identify the subspaces which are invariant under this group, we decompose the representation:"
   ]
  },
  {
   "cell_type": "code",
   "execution_count": 5,
   "id": "a896f21f",
   "metadata": {
    "execution": {
     "iopub.execute_input": "2021-09-08T15:33:18.390488Z",
     "iopub.status.busy": "2021-09-08T15:33:18.389937Z",
     "iopub.status.idle": "2021-09-08T15:33:24.366979Z",
     "shell.execute_reply": "2021-09-08T15:33:24.367443Z"
    }
   },
   "outputs": [],
   "source": [
    "dec = U2TensorRep.decomposition.nice;"
   ]
  },
  {
   "cell_type": "markdown",
   "id": "b0392a27",
   "metadata": {},
   "source": [
    "The decomposition has"
   ]
  },
  {
   "cell_type": "code",
   "execution_count": 6,
   "id": "f2dcbcec",
   "metadata": {
    "execution": {
     "iopub.execute_input": "2021-09-08T15:33:24.370565Z",
     "iopub.status.busy": "2021-09-08T15:33:24.369779Z",
     "iopub.status.idle": "2021-09-08T15:33:24.387237Z",
     "shell.execute_reply": "2021-09-08T15:33:24.386644Z"
    }
   },
   "outputs": [
    {
     "name": "stdout",
     "output_type": "stream",
     "text": [
      "ans = 2\r\n"
     ]
    }
   ],
   "source": [
    "dec.nComponents"
   ]
  },
  {
   "cell_type": "markdown",
   "id": "1a170f8d",
   "metadata": {},
   "source": [
    "components, of dimension"
   ]
  },
  {
   "cell_type": "code",
   "execution_count": 7,
   "id": "4692674e",
   "metadata": {
    "execution": {
     "iopub.execute_input": "2021-09-08T15:33:24.390512Z",
     "iopub.status.busy": "2021-09-08T15:33:24.389973Z",
     "iopub.status.idle": "2021-09-08T15:33:24.406249Z",
     "shell.execute_reply": "2021-09-08T15:33:24.405774Z"
    }
   },
   "outputs": [
    {
     "name": "stdout",
     "output_type": "stream",
     "text": [
      "ans = 1\r\n"
     ]
    }
   ],
   "source": [
    "dec.component(1).irrepDimension"
   ]
  },
  {
   "cell_type": "markdown",
   "id": "72cc8c52",
   "metadata": {},
   "source": [
    "and"
   ]
  },
  {
   "cell_type": "code",
   "execution_count": 8,
   "id": "7806d6fe",
   "metadata": {
    "execution": {
     "iopub.execute_input": "2021-09-08T15:33:24.409899Z",
     "iopub.status.busy": "2021-09-08T15:33:24.409148Z",
     "iopub.status.idle": "2021-09-08T15:33:24.423297Z",
     "shell.execute_reply": "2021-09-08T15:33:24.423787Z"
    }
   },
   "outputs": [
    {
     "name": "stdout",
     "output_type": "stream",
     "text": [
      "ans = 3\r\n"
     ]
    }
   ],
   "source": [
    "dec.component(2).irrepDimension"
   ]
  },
  {
   "cell_type": "markdown",
   "id": "4bc21226",
   "metadata": {},
   "source": [
    "These are the antisymmetric and symmetric subspaces respectively. The change of basis into the first component\n",
    "identifies the antisymetric subspace, also known as the *singlet state*:"
   ]
  },
  {
   "cell_type": "code",
   "execution_count": 9,
   "id": "94d2f111",
   "metadata": {
    "execution": {
     "iopub.execute_input": "2021-09-08T15:33:24.427119Z",
     "iopub.status.busy": "2021-09-08T15:33:24.426577Z",
     "iopub.status.idle": "2021-09-08T15:33:24.448065Z",
     "shell.execute_reply": "2021-09-08T15:33:24.447590Z"
    }
   },
   "outputs": [
    {
     "name": "stdout",
     "output_type": "stream",
     "text": [
      "singletBasis =\r\n",
      "\r\n",
      "        0\r\n",
      "   0.5000\r\n",
      "  -0.5000\r\n",
      "        0\r\n",
      "\r\n"
     ]
    },
    {
     "name": "stdout",
     "output_type": "stream",
     "text": [
      "rest =\r\n",
      "\r\n",
      "   1.0000        0        0\r\n",
      "        0        0   0.5000\r\n",
      "        0        0   0.5000\r\n",
      "        0   1.0000        0\r\n",
      "\r\n"
     ]
    }
   ],
   "source": [
    "singletBasis = dec.component(1).basis\n",
    "rest = dec.component(2).basis"
   ]
  }
 ],
 "metadata": {
  "jupytext": {
   "cell_metadata_filter": "-all",
   "main_language": "matlab",
   "notebook_metadata_filter": "-all",
   "text_representation": {
    "extension": ".m",
    "format_name": "light"
   }
  },
  "language_info": {
   "file_extension": ".m",
   "help_links": [
    {
     "text": "GNU Octave",
     "url": "https://www.gnu.org/software/octave/support.html"
    },
    {
     "text": "Octave Kernel",
     "url": "https://github.com/Calysto/octave_kernel"
    },
    {
     "text": "MetaKernel Magics",
     "url": "https://metakernel.readthedocs.io/en/latest/source/README.html"
    }
   ],
   "mimetype": "text/x-octave",
   "name": "octave",
   "version": "6.2.0"
  }
 },
 "nbformat": 4,
 "nbformat_minor": 5
}
