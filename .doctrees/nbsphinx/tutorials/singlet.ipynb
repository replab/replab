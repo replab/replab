{
 "cells": [
  {
   "cell_type": "markdown",
   "id": "d3d04ed8",
   "metadata": {},
   "source": [
    "# Tutorial for quantum information people\n",
    "\n",
    "The unitary group $U(n)$ describes the possible change of basis in the\n",
    "complex Hilbert space of dimension $n$. For $n=2$, this captures the\n",
    "possible choices of basis in the qubit space $C^2$. For a system composed\n",
    "of two qubits, we can similarly define the effect of a joint change of\n",
    "basis performed on both subsystems simultaneously. It is known that a\n",
    "single state is invariant under such joint change of basis. Here, we\n",
    "identify this state by extracting the subspace of $(C^2)^{\\otimes 2}$\n",
    "which is invariant under the joint change of basis for both subsystems."
   ]
  },
  {
   "cell_type": "markdown",
   "id": "85de2d0d",
   "metadata": {},
   "source": [
    "Before trying any of the *RepLAB* commands, we must initialize the library:"
   ]
  },
  {
   "cell_type": "code",
   "execution_count": 1,
   "id": "f9de52f5",
   "metadata": {
    "execution": {
     "iopub.execute_input": "2021-07-30T06:56:49.886343Z",
     "iopub.status.busy": "2021-07-30T06:56:49.885849Z",
     "iopub.status.idle": "2021-07-30T06:56:56.660180Z",
     "shell.execute_reply": "2021-07-30T06:56:56.659465Z"
    }
   },
   "outputs": [],
   "source": [
    "addpath([pwd, '/../..']);\n",
    "replab_init('verbose', 0);"
   ]
  },
  {
   "cell_type": "markdown",
   "id": "a29d873c",
   "metadata": {},
   "source": [
    "## The unitary group representation\n",
    "\n",
    "Changes of bases for one system are described by the group $U(2)$"
   ]
  },
  {
   "cell_type": "code",
   "execution_count": 2,
   "id": "e2c7ba57",
   "metadata": {
    "execution": {
     "iopub.execute_input": "2021-07-30T06:56:56.663260Z",
     "iopub.status.busy": "2021-07-30T06:56:56.662798Z",
     "iopub.status.idle": "2021-07-30T06:56:56.686269Z",
     "shell.execute_reply": "2021-07-30T06:56:56.685537Z"
    }
   },
   "outputs": [],
   "source": [
    "d = 2;\n",
    "U2 = replab.U(d);"
   ]
  },
  {
   "cell_type": "markdown",
   "id": "66bb9e58",
   "metadata": {},
   "source": [
    "We construct the defining representation of this group, which acts on $C^2$:"
   ]
  },
  {
   "cell_type": "code",
   "execution_count": 3,
   "id": "bc3705c0",
   "metadata": {
    "execution": {
     "iopub.execute_input": "2021-07-30T06:56:56.688994Z",
     "iopub.status.busy": "2021-07-30T06:56:56.688492Z",
     "iopub.status.idle": "2021-07-30T06:56:56.716103Z",
     "shell.execute_reply": "2021-07-30T06:56:56.715383Z"
    }
   },
   "outputs": [],
   "source": [
    "U2Rep = U2.definingRep;"
   ]
  },
  {
   "cell_type": "markdown",
   "id": "a3746581",
   "metadata": {},
   "source": [
    "## Tensor product of two representations\n",
    "\n",
    "We can now construct the representation which acts jointly on two\n",
    "subsystems of dimension 2:"
   ]
  },
  {
   "cell_type": "code",
   "execution_count": 4,
   "id": "bc00d463",
   "metadata": {
    "execution": {
     "iopub.execute_input": "2021-07-30T06:56:56.718971Z",
     "iopub.status.busy": "2021-07-30T06:56:56.718498Z",
     "iopub.status.idle": "2021-07-30T06:56:56.737830Z",
     "shell.execute_reply": "2021-07-30T06:56:56.737152Z"
    }
   },
   "outputs": [],
   "source": [
    "U2TensorRep = kron(U2Rep, U2Rep);"
   ]
  },
  {
   "cell_type": "markdown",
   "id": "5d981153",
   "metadata": {},
   "source": [
    "To identify the subspaces which are invariant under this group, we decompose the representation:"
   ]
  },
  {
   "cell_type": "code",
   "execution_count": 5,
   "id": "520479a6",
   "metadata": {
    "execution": {
     "iopub.execute_input": "2021-07-30T06:56:56.740732Z",
     "iopub.status.busy": "2021-07-30T06:56:56.740194Z",
     "iopub.status.idle": "2021-07-30T06:57:01.516220Z",
     "shell.execute_reply": "2021-07-30T06:57:01.515271Z"
    }
   },
   "outputs": [],
   "source": [
    "dec = U2TensorRep.decomposition.nice;"
   ]
  },
  {
   "cell_type": "markdown",
   "id": "a2a5458e",
   "metadata": {},
   "source": [
    "The decomposition has"
   ]
  },
  {
   "cell_type": "code",
   "execution_count": 6,
   "id": "947c2896",
   "metadata": {
    "execution": {
     "iopub.execute_input": "2021-07-30T06:57:01.519968Z",
     "iopub.status.busy": "2021-07-30T06:57:01.519459Z",
     "iopub.status.idle": "2021-07-30T06:57:01.534923Z",
     "shell.execute_reply": "2021-07-30T06:57:01.534107Z"
    }
   },
   "outputs": [
    {
     "name": "stdout",
     "output_type": "stream",
     "text": [
      "ans = 2\r\n"
     ]
    }
   ],
   "source": [
    "dec.nComponents"
   ]
  },
  {
   "cell_type": "markdown",
   "id": "1c5ce587",
   "metadata": {},
   "source": [
    "components, of dimension"
   ]
  },
  {
   "cell_type": "code",
   "execution_count": 7,
   "id": "f5fb6c70",
   "metadata": {
    "execution": {
     "iopub.execute_input": "2021-07-30T06:57:01.537612Z",
     "iopub.status.busy": "2021-07-30T06:57:01.537133Z",
     "iopub.status.idle": "2021-07-30T06:57:01.553369Z",
     "shell.execute_reply": "2021-07-30T06:57:01.552925Z"
    }
   },
   "outputs": [
    {
     "name": "stdout",
     "output_type": "stream",
     "text": [
      "ans = 1\r\n"
     ]
    }
   ],
   "source": [
    "dec.component(1).irrepDimension"
   ]
  },
  {
   "cell_type": "markdown",
   "id": "a35a362d",
   "metadata": {},
   "source": [
    "and"
   ]
  },
  {
   "cell_type": "code",
   "execution_count": 8,
   "id": "3c80705c",
   "metadata": {
    "execution": {
     "iopub.execute_input": "2021-07-30T06:57:01.561253Z",
     "iopub.status.busy": "2021-07-30T06:57:01.556439Z",
     "iopub.status.idle": "2021-07-30T06:57:01.571120Z",
     "shell.execute_reply": "2021-07-30T06:57:01.571736Z"
    }
   },
   "outputs": [
    {
     "name": "stdout",
     "output_type": "stream",
     "text": [
      "ans = 3\r\n"
     ]
    }
   ],
   "source": [
    "dec.component(2).irrepDimension"
   ]
  },
  {
   "cell_type": "markdown",
   "id": "ad75d314",
   "metadata": {},
   "source": [
    "These are the antisymmetric and symmetric subspaces respectively. The change of basis into the first component\n",
    "identifies the antisymetric subspace, also known as the *singlet state*:"
   ]
  },
  {
   "cell_type": "code",
   "execution_count": 9,
   "id": "59ce5629",
   "metadata": {
    "execution": {
     "iopub.execute_input": "2021-07-30T06:57:01.575338Z",
     "iopub.status.busy": "2021-07-30T06:57:01.574848Z",
     "iopub.status.idle": "2021-07-30T06:57:01.594186Z",
     "shell.execute_reply": "2021-07-30T06:57:01.593717Z"
    }
   },
   "outputs": [
    {
     "name": "stdout",
     "output_type": "stream",
     "text": [
      "singletBasis =\r\n",
      "\r\n",
      "        0\r\n",
      "   0.5000\r\n",
      "  -0.5000\r\n",
      "        0\r\n",
      "\r\n"
     ]
    },
    {
     "name": "stdout",
     "output_type": "stream",
     "text": [
      "rest =\r\n",
      "\r\n",
      "   1.0000        0        0\r\n",
      "        0        0   0.5000\r\n",
      "        0        0   0.5000\r\n",
      "        0   1.0000        0\r\n",
      "\r\n"
     ]
    }
   ],
   "source": [
    "singletBasis = dec.component(1).basis\n",
    "rest = dec.component(2).basis"
   ]
  }
 ],
 "metadata": {
  "jupytext": {
   "cell_metadata_filter": "-all",
   "main_language": "matlab",
   "notebook_metadata_filter": "-all",
   "text_representation": {
    "extension": ".m",
    "format_name": "light"
   }
  },
  "language_info": {
   "file_extension": ".m",
   "help_links": [
    {
     "text": "GNU Octave",
     "url": "https://www.gnu.org/software/octave/support.html"
    },
    {
     "text": "Octave Kernel",
     "url": "https://github.com/Calysto/octave_kernel"
    },
    {
     "text": "MetaKernel Magics",
     "url": "https://metakernel.readthedocs.io/en/latest/source/README.html"
    }
   ],
   "mimetype": "text/x-octave",
   "name": "octave",
   "version": "6.2.0"
  }
 },
 "nbformat": 4,
 "nbformat_minor": 5
}
