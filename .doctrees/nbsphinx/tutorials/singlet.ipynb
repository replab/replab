{
 "cells": [
  {
   "cell_type": "markdown",
   "id": "1dba1799",
   "metadata": {},
   "source": [
    "# Tutorial for quantum information people\n",
    "\n",
    "The unitary group $U(n)$ describes the possible change of basis in the\n",
    "complex Hilbert space of dimension $n$. For $n=2$, this captures the\n",
    "possible choices of basis in the qubit space $C^2$. For a system composed\n",
    "of two qubits, we can similarly define the effect of a joint change of\n",
    "basis performed on both subsystems simultaneously. It is known that a\n",
    "single state is invariant under such joint change of basis. Here, we\n",
    "identify this state by extracting the subspace of $(C^2)^{\\otimes 2}$\n",
    "which is invariant under the joint change of basis for both subsystems."
   ]
  },
  {
   "cell_type": "markdown",
   "id": "567d8414",
   "metadata": {},
   "source": [
    "Before trying any of the *RepLAB* commands, we must initialize the library:"
   ]
  },
  {
   "cell_type": "code",
   "execution_count": 1,
   "id": "13fcc598",
   "metadata": {
    "execution": {
     "iopub.execute_input": "2021-07-29T16:56:49.955687Z",
     "iopub.status.busy": "2021-07-29T16:56:49.955006Z",
     "iopub.status.idle": "2021-07-29T16:56:54.379892Z",
     "shell.execute_reply": "2021-07-29T16:56:54.380180Z"
    }
   },
   "outputs": [],
   "source": [
    "addpath([pwd, '/../..']);\n",
    "replab_init('verbose', 0);"
   ]
  },
  {
   "cell_type": "markdown",
   "id": "5176c356",
   "metadata": {},
   "source": [
    "## The unitary group representation\n",
    "\n",
    "Changes of bases for one system are described by the group $U(2)$"
   ]
  },
  {
   "cell_type": "code",
   "execution_count": 2,
   "id": "8541fb29",
   "metadata": {
    "execution": {
     "iopub.execute_input": "2021-07-29T16:56:54.382352Z",
     "iopub.status.busy": "2021-07-29T16:56:54.382037Z",
     "iopub.status.idle": "2021-07-29T16:56:54.397178Z",
     "shell.execute_reply": "2021-07-29T16:56:54.396878Z"
    }
   },
   "outputs": [
    {
     "name": "stdout",
     "output_type": "stream",
     "text": [
      "error: member 'UnitaryGroup' in package 'replab' does not exist\r\n"
     ]
    }
   ],
   "source": [
    "d = 2;\n",
    "U2 = replab.UnitaryGroup(d);"
   ]
  },
  {
   "cell_type": "markdown",
   "id": "90690ef1",
   "metadata": {},
   "source": [
    "We construct the defining representation of this group, which acts on $C^2$:"
   ]
  },
  {
   "cell_type": "code",
   "execution_count": 3,
   "id": "44e93833",
   "metadata": {
    "execution": {
     "iopub.execute_input": "2021-07-29T16:56:54.399361Z",
     "iopub.status.busy": "2021-07-29T16:56:54.399002Z",
     "iopub.status.idle": "2021-07-29T16:56:54.416262Z",
     "shell.execute_reply": "2021-07-29T16:56:54.417101Z"
    }
   },
   "outputs": [
    {
     "name": "stdout",
     "output_type": "stream",
     "text": [
      "error: 'U2' undefined near line 1, column 1\r\n"
     ]
    }
   ],
   "source": [
    "U2Rep = U2.definingRep;"
   ]
  },
  {
   "cell_type": "markdown",
   "id": "b0eb4fbd",
   "metadata": {},
   "source": [
    "## Tensor product of two representations\n",
    "\n",
    "We can now construct the representation which acts jointly on two\n",
    "subsystems of dimension 2:"
   ]
  },
  {
   "cell_type": "code",
   "execution_count": 4,
   "id": "73a76aa6",
   "metadata": {
    "execution": {
     "iopub.execute_input": "2021-07-29T16:56:54.422801Z",
     "iopub.status.busy": "2021-07-29T16:56:54.421880Z",
     "iopub.status.idle": "2021-07-29T16:56:54.457348Z",
     "shell.execute_reply": "2021-07-29T16:56:54.456668Z"
    }
   },
   "outputs": [
    {
     "name": "stdout",
     "output_type": "stream",
     "text": [
      "error: 'U2Rep' undefined near line 1, column 1\r\n"
     ]
    }
   ],
   "source": [
    "U2TensorRep = kron(U2Rep, U2Rep);"
   ]
  },
  {
   "cell_type": "markdown",
   "id": "0dc4b0a5",
   "metadata": {},
   "source": [
    "To identify the subspaces which are invariant under this group, we decompose the representation:"
   ]
  },
  {
   "cell_type": "code",
   "execution_count": 5,
   "id": "1f53d1a5",
   "metadata": {
    "execution": {
     "iopub.execute_input": "2021-07-29T16:56:54.460481Z",
     "iopub.status.busy": "2021-07-29T16:56:54.459980Z",
     "iopub.status.idle": "2021-07-29T16:56:54.480298Z",
     "shell.execute_reply": "2021-07-29T16:56:54.479839Z"
    }
   },
   "outputs": [
    {
     "name": "stdout",
     "output_type": "stream",
     "text": [
      "error: 'U2TensorRep' undefined near line 1, column 1\r\n"
     ]
    }
   ],
   "source": [
    "dec = U2TensorRep.decomposition.nice;"
   ]
  },
  {
   "cell_type": "markdown",
   "id": "a37a7b2b",
   "metadata": {},
   "source": [
    "The decomposition has"
   ]
  },
  {
   "cell_type": "code",
   "execution_count": 6,
   "id": "eb77baed",
   "metadata": {
    "execution": {
     "iopub.execute_input": "2021-07-29T16:56:54.483231Z",
     "iopub.status.busy": "2021-07-29T16:56:54.482750Z",
     "iopub.status.idle": "2021-07-29T16:56:54.501852Z",
     "shell.execute_reply": "2021-07-29T16:56:54.501390Z"
    }
   },
   "outputs": [
    {
     "name": "stdout",
     "output_type": "stream",
     "text": [
      "error: 'dec' undefined near line 1, column 1\r\n"
     ]
    }
   ],
   "source": [
    "dec.nComponents"
   ]
  },
  {
   "cell_type": "markdown",
   "id": "3c21d4ff",
   "metadata": {},
   "source": [
    "components, of dimension"
   ]
  },
  {
   "cell_type": "code",
   "execution_count": 7,
   "id": "c719cc0b",
   "metadata": {
    "execution": {
     "iopub.execute_input": "2021-07-29T16:56:54.504705Z",
     "iopub.status.busy": "2021-07-29T16:56:54.504258Z",
     "iopub.status.idle": "2021-07-29T16:56:54.521733Z",
     "shell.execute_reply": "2021-07-29T16:56:54.521442Z"
    }
   },
   "outputs": [
    {
     "name": "stdout",
     "output_type": "stream",
     "text": [
      "error: 'dec' undefined near line 1, column 1\r\n"
     ]
    }
   ],
   "source": [
    "dec.component(1).irrepDimension"
   ]
  },
  {
   "cell_type": "markdown",
   "id": "15c15738",
   "metadata": {},
   "source": [
    "and"
   ]
  },
  {
   "cell_type": "code",
   "execution_count": 8,
   "id": "16444571",
   "metadata": {
    "execution": {
     "iopub.execute_input": "2021-07-29T16:56:54.523874Z",
     "iopub.status.busy": "2021-07-29T16:56:54.523540Z",
     "iopub.status.idle": "2021-07-29T16:56:54.536387Z",
     "shell.execute_reply": "2021-07-29T16:56:54.536145Z"
    }
   },
   "outputs": [
    {
     "name": "stdout",
     "output_type": "stream",
     "text": [
      "error: 'dec' undefined near line 1, column 1\r\n"
     ]
    }
   ],
   "source": [
    "dec.component(2).irrepDimension"
   ]
  },
  {
   "cell_type": "markdown",
   "id": "ff3f087d",
   "metadata": {},
   "source": [
    "These are the antisymmetric and symmetric subspaces respectively. The change of basis into the first component\n",
    "identifies the antisymetric subspace, also known as the *singlet state*:"
   ]
  },
  {
   "cell_type": "code",
   "execution_count": 9,
   "id": "f215e59e",
   "metadata": {
    "execution": {
     "iopub.execute_input": "2021-07-29T16:56:54.538502Z",
     "iopub.status.busy": "2021-07-29T16:56:54.538222Z",
     "iopub.status.idle": "2021-07-29T16:56:54.555348Z",
     "shell.execute_reply": "2021-07-29T16:56:54.555599Z"
    }
   },
   "outputs": [
    {
     "name": "stdout",
     "output_type": "stream",
     "text": [
      "error: 'dec' undefined near line 1, column 1\r\n"
     ]
    },
    {
     "name": "stdout",
     "output_type": "stream",
     "text": [
      "error: 'dec' undefined near line 1, column 1\r\n"
     ]
    }
   ],
   "source": [
    "singletBasis = dec.component(1).basis\n",
    "rest = dec.component(2).basis"
   ]
  },
  {
   "cell_type": "code",
   "execution_count": null,
   "id": "66b255c9",
   "metadata": {},
   "outputs": [],
   "source": []
  }
 ],
 "metadata": {
  "jupytext": {
   "cell_metadata_filter": "-all",
   "main_language": "matlab",
   "notebook_metadata_filter": "-all",
   "text_representation": {
    "extension": ".m",
    "format_name": "light"
   }
  },
  "language_info": {
   "file_extension": ".m",
   "help_links": [
    {
     "text": "GNU Octave",
     "url": "https://www.gnu.org/software/octave/support.html"
    },
    {
     "text": "Octave Kernel",
     "url": "https://github.com/Calysto/octave_kernel"
    },
    {
     "text": "MetaKernel Magics",
     "url": "https://metakernel.readthedocs.io/en/latest/source/README.html"
    }
   ],
   "mimetype": "text/x-octave",
   "name": "octave",
   "version": "6.2.0"
  }
 },
 "nbformat": 4,
 "nbformat_minor": 5
}
