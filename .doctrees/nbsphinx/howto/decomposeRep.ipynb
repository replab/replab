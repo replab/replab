{
 "cells": [
  {
   "cell_type": "markdown",
   "id": "3ededea8",
   "metadata": {},
   "source": [
    "# Decomposing a representation\n",
    "\n",
    "This document shows how to decompose a group representation with *RepLAB*.\n",
    "\n",
    "## Preparation\n",
    "As always, before using *RepLAB* commands, initialize the library:"
   ]
  },
  {
   "cell_type": "code",
   "execution_count": 1,
   "id": "ae8af664",
   "metadata": {
    "execution": {
     "iopub.execute_input": "2021-07-29T16:40:06.461759Z",
     "iopub.status.busy": "2021-07-29T16:40:06.461445Z",
     "iopub.status.idle": "2021-07-29T16:40:10.751355Z",
     "shell.execute_reply": "2021-07-29T16:40:10.750957Z"
    }
   },
   "outputs": [],
   "source": [
    "addpath([pwd, '/../..']);\n",
    "replab_init('verbose', 0);"
   ]
  },
  {
   "cell_type": "markdown",
   "id": "0e23bdf4",
   "metadata": {},
   "source": [
    "## Representation definition\n",
    "\n",
    "Let us construct a $4$-dimensional representation"
   ]
  },
  {
   "cell_type": "code",
   "execution_count": 2,
   "id": "bc9fba0f",
   "metadata": {
    "execution": {
     "iopub.execute_input": "2021-07-29T16:40:10.753806Z",
     "iopub.status.busy": "2021-07-29T16:40:10.753378Z",
     "iopub.status.idle": "2021-07-29T16:40:14.727795Z",
     "shell.execute_reply": "2021-07-29T16:40:14.727441Z"
    }
   },
   "outputs": [
    {
     "name": "stdout",
     "output_type": "stream",
     "text": [
      "group ="
     ]
    },
    {
     "name": "stdout",
     "output_type": "stream",
     "text": [
      "\r"
     ]
    },
    {
     "name": "stdout",
     "output_type": "stream",
     "text": [
      "\n"
     ]
    },
    {
     "name": "stdout",
     "output_type": "stream",
     "text": [
      "\r\n",
      "Permutation group acting on 4 elements of order 4\r\n",
      "            identity: [1, 2, 3, 4]\r\n",
      "generator(1 or 'x1'): [2, 1, 3, 4]\r\n",
      "generator(2 or 'x2'): [1, 2, 4, 3]\r\n",
      "    recognize.source: Klein four-group < a, x | a^2 = x^2 = x a x^-1 a^-1 = 1 >\r\n",
      "\r\n"
     ]
    },
    {
     "name": "stdout",
     "output_type": "stream",
     "text": [
      "rep ="
     ]
    },
    {
     "name": "stdout",
     "output_type": "stream",
     "text": [
      "\r"
     ]
    },
    {
     "name": "stdout",
     "output_type": "stream",
     "text": [
      "\n"
     ]
    },
    {
     "name": "stdout",
     "output_type": "stream",
     "text": [
      "\r\n",
      "Orthogonal reducible representation\r\n",
      "          dimension: 4\r\n",
      "divisionAlgebraName: []\r\n",
      "              field: 'R'\r\n",
      "              group: Permutation group acting on 4 elements of order 4\r\n",
      "   imagesErrorBound: [0, 0]\r\n",
      "          isUnitary: true\r\n",
      "           morphism: replab.mrp.PermToFiniteGroup\r\n",
      "       preimages{1}: [2, 1, 3, 4]\r\n",
      "          images{1}: [0, 1, 0, 0; 1, 0, 0, 0; 0, 0, 1, 0; 0, 0, 0, 1]\r\n",
      "       preimages{2}: [1, 2, 4, 3]\r\n",
      "          images{2}: [1, 0, 0, 0; 0, 1, 0, 0; 0, 0, 0, 1; 0, 0, 1, 0]\r\n",
      "\r\n"
     ]
    }
   ],
   "source": [
    "S4 = replab.S(4);\n",
    "group = S4.subgroup({[2 1 3 4], [1 2 4 3]})\n",
    "rep = group.naturalRep"
   ]
  },
  {
   "cell_type": "markdown",
   "id": "5193ae1c",
   "metadata": {},
   "source": [
    "The representation is decomposed with the command"
   ]
  },
  {
   "cell_type": "code",
   "execution_count": 3,
   "id": "d9c1847d",
   "metadata": {
    "execution": {
     "iopub.execute_input": "2021-07-29T16:40:14.729701Z",
     "iopub.status.busy": "2021-07-29T16:40:14.729285Z",
     "iopub.status.idle": "2021-07-29T16:40:14.891871Z",
     "shell.execute_reply": "2021-07-29T16:40:14.891592Z"
    }
   },
   "outputs": [
    {
     "name": "stdout",
     "output_type": "stream",
     "text": [
      "dec ="
     ]
    },
    {
     "name": "stdout",
     "output_type": "stream",
     "text": [
      "\r"
     ]
    },
    {
     "name": "stdout",
     "output_type": "stream",
     "text": [
      "\n"
     ]
    },
    {
     "name": "stdout",
     "output_type": "stream",
     "text": [
      "\r\n",
      "Orthogonal reducible representation\r\n",
      "          dimension: 4\r\n",
      "divisionAlgebraName: []\r\n",
      "              field: 'R'\r\n",
      "              group: Permutation group acting on 4 elements of order 4\r\n",
      " injection_internal: 4 x 4 double\r\n",
      "       isSimilarRep: true\r\n",
      "          isUnitary: true\r\n",
      "     mapsAreAdjoint: true\r\n",
      "             parent: Orthogonal reducible representation\r\n",
      "projection_internal: 4 x 4 double\r\n",
      "  basis(1,'double'): [0.70711; 0.70711; 0; 0]\r\n",
      "  basis(2,'double'): [0; 0; 0.70711; 0.70711]\r\n",
      "  basis(3,'double'): [0.70711; -0.70711; 0; 0]\r\n",
      "  basis(4,'double'): [0; 0; 0.70711; -0.70711]\r\n",
      "       component(1): Isotypic component I(2)xR(1) (trivial)\r\n",
      "       component(2): Isotypic component R(1) (nontrivial)\r\n",
      "       component(3): Isotypic component R(1) (nontrivial)\r\n",
      "\r\n"
     ]
    }
   ],
   "source": [
    "dec = rep.decomposition"
   ]
  },
  {
   "cell_type": "markdown",
   "id": "40d645f1",
   "metadata": {
    "lines_to_next_cell": 2
   },
   "source": [
    "This representation contains 3 irreducible components."
   ]
  }
 ],
 "metadata": {
  "jupytext": {
   "cell_metadata_filter": "-all",
   "main_language": "matlab",
   "notebook_metadata_filter": "-all",
   "text_representation": {
    "extension": ".m",
    "format_name": "light"
   }
  },
  "language_info": {
   "file_extension": ".m",
   "help_links": [
    {
     "text": "GNU Octave",
     "url": "https://www.gnu.org/software/octave/support.html"
    },
    {
     "text": "Octave Kernel",
     "url": "https://github.com/Calysto/octave_kernel"
    },
    {
     "text": "MetaKernel Magics",
     "url": "https://metakernel.readthedocs.io/en/latest/source/README.html"
    }
   ],
   "mimetype": "text/x-octave",
   "name": "octave",
   "version": "6.2.0"
  }
 },
 "nbformat": 4,
 "nbformat_minor": 5
}
