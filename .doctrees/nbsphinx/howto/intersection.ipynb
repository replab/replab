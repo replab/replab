{
 "cells": [
  {
   "cell_type": "markdown",
   "id": "0a1f5b59",
   "metadata": {},
   "source": [
    "# Group intersection\n",
    "\n",
    "This document illustrated how *RepLAB* can be used to compute the intersection between two permutation groups\n",
    "\n",
    "## Preparation\n",
    "As always, before using *RepLAB* commands, initialize the library:"
   ]
  },
  {
   "cell_type": "code",
   "execution_count": 1,
   "id": "d782d6c1",
   "metadata": {
    "execution": {
     "iopub.execute_input": "2021-09-08T14:01:25.522816Z",
     "iopub.status.busy": "2021-09-08T14:01:25.522333Z",
     "iopub.status.idle": "2021-09-08T14:01:30.986971Z",
     "shell.execute_reply": "2021-09-08T14:01:30.986475Z"
    }
   },
   "outputs": [],
   "source": [
    "addpath([pwd, '/../..']);\n",
    "replab_init('verbose', 0);"
   ]
  },
  {
   "cell_type": "markdown",
   "id": "b57e3ba1",
   "metadata": {},
   "source": [
    "## Group definition\n",
    "\n",
    "In *RepLAB*, a permutation group is defined from its generators. For instance,\n",
    "we can define the group which permutes arbitrarily the first three elements among four element with the following two generators:"
   ]
  },
  {
   "cell_type": "code",
   "execution_count": 2,
   "id": "352004d9",
   "metadata": {
    "execution": {
     "iopub.execute_input": "2021-09-08T14:01:30.990138Z",
     "iopub.status.busy": "2021-09-08T14:01:30.989501Z",
     "iopub.status.idle": "2021-09-08T14:01:34.368184Z",
     "shell.execute_reply": "2021-09-08T14:01:34.368550Z"
    }
   },
   "outputs": [
    {
     "name": "stdout",
     "output_type": "stream",
     "text": [
      "G1 ="
     ]
    },
    {
     "name": "stdout",
     "output_type": "stream",
     "text": [
      "\r"
     ]
    },
    {
     "name": "stdout",
     "output_type": "stream",
     "text": [
      "\n"
     ]
    },
    {
     "name": "stdout",
     "output_type": "stream",
     "text": [
      "\r\n",
      "Permutation group acting on 4 elements of order 6\r\n",
      "            identity: [1, 2, 3, 4]\r\n",
      "generator(1 or 'x1'): [2, 1, 3, 4]\r\n",
      "generator(2 or 'x2'): [2, 3, 1, 4]\r\n",
      "    recognize.source: Dihedral group of order 6\r\n",
      "\r\n"
     ]
    }
   ],
   "source": [
    "generators1 = {[2 1 3 4], [2 3 1 4]};\n",
    "S4 = replab.S(4);\n",
    "G1 = S4.subgroup(generators1)"
   ]
  },
  {
   "cell_type": "code",
   "execution_count": 3,
   "id": "3613818e",
   "metadata": {
    "execution": {
     "iopub.execute_input": "2021-09-08T14:01:34.371994Z",
     "iopub.status.busy": "2021-09-08T14:01:34.371572Z",
     "iopub.status.idle": "2021-09-08T14:01:37.473187Z",
     "shell.execute_reply": "2021-09-08T14:01:37.473525Z"
    }
   },
   "outputs": [
    {
     "name": "stdout",
     "output_type": "stream",
     "text": [
      "G2 ="
     ]
    },
    {
     "name": "stdout",
     "output_type": "stream",
     "text": [
      "\r"
     ]
    },
    {
     "name": "stdout",
     "output_type": "stream",
     "text": [
      "\n"
     ]
    },
    {
     "name": "stdout",
     "output_type": "stream",
     "text": [
      "\r\n",
      "Permutation group acting on 4 elements of order 6\r\n",
      "            identity: [1, 2, 3, 4]\r\n",
      "generator(1 or 'x1'): [1, 3, 2, 4]\r\n",
      "generator(2 or 'x2'): [1, 3, 4, 2]\r\n",
      "    recognize.source: Dihedral group of order 6\r\n",
      "\r\n"
     ]
    }
   ],
   "source": [
    "% Similarly, the group which permutes any of the (hence leaves 1 invariant)\n",
    "generators2 = {[1 3 2 4], [1 3 4 2]};\n",
    "G2 = S4.subgroup(generators2)"
   ]
  },
  {
   "cell_type": "markdown",
   "id": "99466bd1",
   "metadata": {},
   "source": [
    "## Intersection\n",
    "\n",
    "The intersection between these two groups is then simply obtained by calling"
   ]
  },
  {
   "cell_type": "code",
   "execution_count": 4,
   "id": "74e8f28d",
   "metadata": {
    "execution": {
     "iopub.execute_input": "2021-09-08T14:01:37.476175Z",
     "iopub.status.busy": "2021-09-08T14:01:37.475760Z",
     "iopub.status.idle": "2021-09-08T14:01:38.460201Z",
     "shell.execute_reply": "2021-09-08T14:01:38.459821Z"
    }
   },
   "outputs": [
    {
     "name": "stdout",
     "output_type": "stream",
     "text": [
      "G12 ="
     ]
    },
    {
     "name": "stdout",
     "output_type": "stream",
     "text": [
      "\r"
     ]
    },
    {
     "name": "stdout",
     "output_type": "stream",
     "text": [
      "\n"
     ]
    },
    {
     "name": "stdout",
     "output_type": "stream",
     "text": [
      "\r\n",
      "Permutation group acting on 4 elements of order 2\r\n",
      "            identity: [1, 2, 3, 4]\r\n",
      "generator(1 or 'x1'): [1, 3, 2, 4]\r\n",
      "    recognize.source: Cyclic group C(2) of order 2 < x | x^2 = 1 >\r\n",
      "\r\n"
     ]
    }
   ],
   "source": [
    "G12 = intersection(G1, G2)"
   ]
  },
  {
   "cell_type": "markdown",
   "id": "c3d13988",
   "metadata": {
    "lines_to_next_cell": 2
   },
   "source": [
    "In this case, the intersection is the group which only permutes the two middle elements, i.e. S(2) action on elements 2 and 3."
   ]
  }
 ],
 "metadata": {
  "jupytext": {
   "cell_metadata_filter": "-all",
   "main_language": "matlab",
   "notebook_metadata_filter": "-all",
   "text_representation": {
    "extension": ".m",
    "format_name": "light"
   }
  },
  "language_info": {
   "file_extension": ".m",
   "help_links": [
    {
     "text": "GNU Octave",
     "url": "https://www.gnu.org/software/octave/support.html"
    },
    {
     "text": "Octave Kernel",
     "url": "https://github.com/Calysto/octave_kernel"
    },
    {
     "text": "MetaKernel Magics",
     "url": "https://metakernel.readthedocs.io/en/latest/source/README.html"
    }
   ],
   "mimetype": "text/x-octave",
   "name": "octave",
   "version": "6.2.0"
  }
 },
 "nbformat": 4,
 "nbformat_minor": 5
}
