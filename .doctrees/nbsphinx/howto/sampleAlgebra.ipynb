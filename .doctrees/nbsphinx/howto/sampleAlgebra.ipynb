{
 "cells": [
  {
   "cell_type": "markdown",
   "id": "c582ef71",
   "metadata": {},
   "source": [
    "# Sampling a group representation algebra\n",
    "\n",
    "This document shows how to sample the algebra of a representation in *RepLAB*.\n",
    "\n",
    "## Preparation\n",
    "As always, before using *RepLAB* commands, initialize the library:"
   ]
  },
  {
   "cell_type": "code",
   "execution_count": 1,
   "id": "a8dfa249",
   "metadata": {
    "execution": {
     "iopub.execute_input": "2021-12-10T15:55:04.511702Z",
     "iopub.status.busy": "2021-12-10T15:55:04.511164Z",
     "iopub.status.idle": "2021-12-10T15:55:10.605930Z",
     "shell.execute_reply": "2021-12-10T15:55:10.605416Z"
    }
   },
   "outputs": [
    {
     "name": "stdout",
     "output_type": "stream",
     "text": [
      "replab_init: Initialization done.\r\n"
     ]
    }
   ],
   "source": [
    "addpath([pwd, '/../..']);\n",
    "replab_init('verbose', 0);"
   ]
  },
  {
   "cell_type": "markdown",
   "id": "64fdf3f1",
   "metadata": {},
   "source": [
    "## Definition of the representation\n",
    "\n",
    "Consider a group representation"
   ]
  },
  {
   "cell_type": "code",
   "execution_count": 2,
   "id": "4c8039ed",
   "metadata": {
    "execution": {
     "iopub.execute_input": "2021-12-10T15:55:10.609146Z",
     "iopub.status.busy": "2021-12-10T15:55:10.608715Z",
     "iopub.status.idle": "2021-12-10T15:55:13.438236Z",
     "shell.execute_reply": "2021-12-10T15:55:13.437421Z"
    }
   },
   "outputs": [
    {
     "name": "stdout",
     "output_type": "stream",
     "text": [
      "group ="
     ]
    },
    {
     "name": "stdout",
     "output_type": "stream",
     "text": [
      "\r"
     ]
    },
    {
     "name": "stdout",
     "output_type": "stream",
     "text": [
      "\n"
     ]
    },
    {
     "name": "stdout",
     "output_type": "stream",
     "text": [
      "\r\n",
      "Permutation group acting on 5 elements of order 6\r\n",
      "            identity: [1, 2, 3, 4, 5]\r\n",
      "generator(1 or 'x1'): [2, 1, 4, 5, 3]\r\n",
      "    recognize.source: Cyclic group C(6) of order 6 < x | x^6 = 1 >\r\n",
      "\r\n"
     ]
    },
    {
     "name": "stdout",
     "output_type": "stream",
     "text": [
      "rep =\r\n",
      "\r\n",
      "Orthogonal reducible representation\r\n",
      "   dimension: 5\r\n",
      "       field: 'R'\r\n",
      "       group: Permutation group acting on 5 elements of order 6\r\n",
      "   isUnitary: true\r\n",
      "preimages{1}: [2, 1, 4, 5, 3]\r\n",
      "   images{1}: 5 x 5 double\r\n",
      "\r\n"
     ]
    }
   ],
   "source": [
    "S5 = replab.S(5);\n",
    "group = S5.subgroup({[2 1 4 5 3]})\n",
    "rep = group.naturalRep"
   ]
  },
  {
   "cell_type": "markdown",
   "id": "e568e09f",
   "metadata": {},
   "source": [
    "## Sampling the algebra\n",
    "\n",
    "Elements of the group representation can be sampled with the command"
   ]
  },
  {
   "cell_type": "code",
   "execution_count": 3,
   "id": "8a5da02a",
   "metadata": {
    "execution": {
     "iopub.execute_input": "2021-12-10T15:55:13.441384Z",
     "iopub.status.busy": "2021-12-10T15:55:13.440718Z",
     "iopub.status.idle": "2021-12-10T15:55:13.459517Z",
     "shell.execute_reply": "2021-12-10T15:55:13.459138Z"
    }
   },
   "outputs": [
    {
     "name": "stdout",
     "output_type": "stream",
     "text": [
      "ans =\r\n",
      "\r\n",
      "   0   1   0   0   0\r\n",
      "   1   0   0   0   0\r\n",
      "   0   0   0   0   1\r\n",
      "   0   0   1   0   0\r\n",
      "   0   0   0   1   0\r\n",
      "\r\n"
     ]
    }
   ],
   "source": [
    "rep.sample"
   ]
  },
  {
   "cell_type": "markdown",
   "id": "185dc5fb",
   "metadata": {
    "lines_to_next_cell": 2
   },
   "source": [
    "These matrices describe the action of the group elements on $\\mathbb{R}^5$."
   ]
  }
 ],
 "metadata": {
  "jupytext": {
   "cell_metadata_filter": "-all",
   "main_language": "matlab",
   "notebook_metadata_filter": "-all",
   "text_representation": {
    "extension": ".m",
    "format_name": "light"
   }
  },
  "language_info": {
   "file_extension": ".m",
   "help_links": [
    {
     "text": "GNU Octave",
     "url": "https://www.gnu.org/software/octave/support.html"
    },
    {
     "text": "Octave Kernel",
     "url": "https://github.com/Calysto/octave_kernel"
    },
    {
     "text": "MetaKernel Magics",
     "url": "https://metakernel.readthedocs.io/en/latest/source/README.html"
    }
   ],
   "mimetype": "text/x-octave",
   "name": "octave",
   "version": "6.2.0"
  }
 },
 "nbformat": 4,
 "nbformat_minor": 5
}
