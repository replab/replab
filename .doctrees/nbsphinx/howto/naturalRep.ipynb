{
 "cells": [
  {
   "cell_type": "markdown",
   "id": "fa42fcff",
   "metadata": {},
   "source": [
    "# Natural representation\n",
    "\n",
    "This document shows how to construct the natural representation of a permutation group in *RepLAB*.\n",
    "\n",
    "## Preparation\n",
    "As always, before using *RepLAB* commands, initialize the library:"
   ]
  },
  {
   "cell_type": "code",
   "execution_count": 1,
   "id": "bee451f9",
   "metadata": {
    "execution": {
     "iopub.execute_input": "2021-07-29T16:54:30.344810Z",
     "iopub.status.busy": "2021-07-29T16:54:30.343800Z",
     "iopub.status.idle": "2021-07-29T16:54:34.236058Z",
     "shell.execute_reply": "2021-07-29T16:54:34.235696Z"
    }
   },
   "outputs": [],
   "source": [
    "addpath([pwd, '/../..']);\n",
    "replab_init('verbose', 0);"
   ]
  },
  {
   "cell_type": "markdown",
   "id": "8b244a90",
   "metadata": {},
   "source": [
    "## Group definition\n",
    "\n",
    "Consider a permutation group acting on $n=5$ elements"
   ]
  },
  {
   "cell_type": "code",
   "execution_count": 2,
   "id": "944f44a6",
   "metadata": {
    "execution": {
     "iopub.execute_input": "2021-07-29T16:54:34.238470Z",
     "iopub.status.busy": "2021-07-29T16:54:34.238186Z",
     "iopub.status.idle": "2021-07-29T16:54:36.372372Z",
     "shell.execute_reply": "2021-07-29T16:54:36.371998Z"
    }
   },
   "outputs": [
    {
     "name": "stdout",
     "output_type": "stream",
     "text": [
      "group ="
     ]
    },
    {
     "name": "stdout",
     "output_type": "stream",
     "text": [
      "\r"
     ]
    },
    {
     "name": "stdout",
     "output_type": "stream",
     "text": [
      "\n"
     ]
    },
    {
     "name": "stdout",
     "output_type": "stream",
     "text": [
      "\r\n",
      "Permutation group acting on 5 elements of order 6\r\n",
      "            identity: [1, 2, 3, 4, 5]\r\n",
      "generator(1 or 'x1'): [2, 1, 4, 5, 3]\r\n",
      "    recognize.source: Cyclic group C(6) of order 6 < x | x^6 = 1 >\r\n",
      "\r\n"
     ]
    }
   ],
   "source": [
    "S5 = replab.S(5);\n",
    "group = S5.subgroup({[2 1 4 5 3]})"
   ]
  },
  {
   "cell_type": "markdown",
   "id": "0f78e8fc",
   "metadata": {},
   "source": [
    "The natural representation is "
   ]
  },
  {
   "cell_type": "code",
   "execution_count": 3,
   "id": "9635e4e1",
   "metadata": {
    "execution": {
     "iopub.execute_input": "2021-07-29T16:54:36.374740Z",
     "iopub.status.busy": "2021-07-29T16:54:36.374451Z",
     "iopub.status.idle": "2021-07-29T16:54:36.470574Z",
     "shell.execute_reply": "2021-07-29T16:54:36.470242Z"
    }
   },
   "outputs": [
    {
     "name": "stdout",
     "output_type": "stream",
     "text": [
      "rep =\r\n",
      "\r\n",
      "Orthogonal reducible representation\r\n",
      "          dimension: 5\r\n",
      "divisionAlgebraName: []\r\n",
      "              field: 'R'\r\n",
      "              group: Permutation group acting on 5 elements of order 6\r\n",
      "   imagesErrorBound: 0\r\n",
      "          isUnitary: true\r\n",
      "           morphism: replab.mrp.PermToFiniteGroup\r\n",
      "       preimages{1}: [2, 1, 4, 5, 3]\r\n",
      "          images{1}: 5 x 5 double\r\n",
      "\r\n"
     ]
    }
   ],
   "source": [
    "rep = group.naturalRep"
   ]
  },
  {
   "cell_type": "markdown",
   "id": "855433aa",
   "metadata": {},
   "source": [
    "The representation of group elements are the expected $5 \\times 5$ matrices:"
   ]
  },
  {
   "cell_type": "code",
   "execution_count": 4,
   "id": "35593ffd",
   "metadata": {
    "execution": {
     "iopub.execute_input": "2021-07-29T16:54:36.472661Z",
     "iopub.status.busy": "2021-07-29T16:54:36.472373Z",
     "iopub.status.idle": "2021-07-29T16:54:36.481415Z",
     "shell.execute_reply": "2021-07-29T16:54:36.481148Z"
    },
    "lines_to_next_cell": 2
   },
   "outputs": [
    {
     "name": "stdout",
     "output_type": "stream",
     "text": [
      "ans =\r\n",
      "\r\n",
      "   0   1   0   0   0\r\n",
      "   1   0   0   0   0\r\n",
      "   0   0   0   1   0\r\n",
      "   0   0   0   0   1\r\n",
      "   0   0   1   0   0\r\n",
      "\r\n"
     ]
    }
   ],
   "source": [
    "rep.image([2 1 5 3 4])"
   ]
  }
 ],
 "metadata": {
  "jupytext": {
   "cell_metadata_filter": "-all",
   "main_language": "matlab",
   "notebook_metadata_filter": "-all",
   "text_representation": {
    "extension": ".m",
    "format_name": "light"
   }
  },
  "language_info": {
   "file_extension": ".m",
   "help_links": [
    {
     "text": "GNU Octave",
     "url": "https://www.gnu.org/software/octave/support.html"
    },
    {
     "text": "Octave Kernel",
     "url": "https://github.com/Calysto/octave_kernel"
    },
    {
     "text": "MetaKernel Magics",
     "url": "https://metakernel.readthedocs.io/en/latest/source/README.html"
    }
   ],
   "mimetype": "text/x-octave",
   "name": "octave",
   "version": "6.2.0"
  }
 },
 "nbformat": 4,
 "nbformat_minor": 5
}
