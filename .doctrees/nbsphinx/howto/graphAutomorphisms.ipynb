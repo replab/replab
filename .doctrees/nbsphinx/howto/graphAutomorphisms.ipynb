{
 "cells": [
  {
   "cell_type": "markdown",
   "id": "9d8b71f3",
   "metadata": {},
   "source": [
    "# Graph automorphisms\n",
    "\n",
    "This document illustrated how *RepLAB* can be used to compute the automorphism group of a graph.\n",
    "\n",
    "## Preparation\n",
    "As always, before using *RepLAB* commands, initialize the library:"
   ]
  },
  {
   "cell_type": "code",
   "execution_count": 1,
   "id": "0b0cbe98",
   "metadata": {
    "execution": {
     "iopub.execute_input": "2021-09-08T14:00:56.404368Z",
     "iopub.status.busy": "2021-09-08T14:00:56.403952Z",
     "iopub.status.idle": "2021-09-08T14:01:01.895097Z",
     "shell.execute_reply": "2021-09-08T14:01:01.894571Z"
    }
   },
   "outputs": [],
   "source": [
    "addpath([pwd, '/../..']);\n",
    "replab_init('verbose', 0);"
   ]
  },
  {
   "cell_type": "markdown",
   "id": "46823f80",
   "metadata": {},
   "source": [
    "## Graph definition\n",
    "\n",
    "In *RepLAB*, undirected graphs are represented by the class\n",
    "replab.UndirectedGraph. A graph can be initialized from a list of edges \n",
    "or from an adjacency matrix. For instance, the graph with adjacency matrix"
   ]
  },
  {
   "cell_type": "code",
   "execution_count": 2,
   "id": "4f1e69d2",
   "metadata": {
    "execution": {
     "iopub.execute_input": "2021-09-08T14:01:01.897953Z",
     "iopub.status.busy": "2021-09-08T14:01:01.897527Z",
     "iopub.status.idle": "2021-09-08T14:01:01.923147Z",
     "shell.execute_reply": "2021-09-08T14:01:01.922751Z"
    }
   },
   "outputs": [],
   "source": [
    "M = [0 1 1 1\n",
    "     1 0 0 1\n",
    "     1 0 0 1\n",
    "     1 1 1 0];"
   ]
  },
  {
   "cell_type": "markdown",
   "id": "bce7927a",
   "metadata": {},
   "source": [
    "is constructed by calling"
   ]
  },
  {
   "cell_type": "code",
   "execution_count": 3,
   "id": "ca5ccfcd",
   "metadata": {
    "execution": {
     "iopub.execute_input": "2021-09-08T14:01:01.926031Z",
     "iopub.status.busy": "2021-09-08T14:01:01.925243Z",
     "iopub.status.idle": "2021-09-08T14:01:01.965742Z",
     "shell.execute_reply": "2021-09-08T14:01:01.965355Z"
    }
   },
   "outputs": [
    {
     "name": "stdout",
     "output_type": "stream",
     "text": [
      "graph =\r\n",
      "\r\n",
      "Undirected graph with 4 vertices and 5 edges\r\n",
      "edges: [1, 2; 1, 3; 1, 4; 2, 4; 3, 4]\r\n",
      "\r\n"
     ]
    }
   ],
   "source": [
    "graph = replab.UndirectedGraph.fromAdjacencyMatrix(M)"
   ]
  },
  {
   "cell_type": "markdown",
   "id": "79cba0c0",
   "metadata": {},
   "source": [
    "## Automorphism computation\n",
    "\n",
    "The automorphisms of a graph are obtained by simply calling"
   ]
  },
  {
   "cell_type": "code",
   "execution_count": 4,
   "id": "b29f3ff1",
   "metadata": {
    "execution": {
     "iopub.execute_input": "2021-09-08T14:01:01.968453Z",
     "iopub.status.busy": "2021-09-08T14:01:01.968028Z",
     "iopub.status.idle": "2021-09-08T14:01:06.244530Z",
     "shell.execute_reply": "2021-09-08T14:01:06.244103Z"
    }
   },
   "outputs": [
    {
     "name": "stdout",
     "output_type": "stream",
     "text": [
      "group ="
     ]
    },
    {
     "name": "stdout",
     "output_type": "stream",
     "text": [
      "\r"
     ]
    },
    {
     "name": "stdout",
     "output_type": "stream",
     "text": [
      "\n"
     ]
    },
    {
     "name": "stdout",
     "output_type": "stream",
     "text": [
      "\r\n",
      "Permutation group acting on 4 elements of order 4\r\n",
      "            identity: [1, 2, 3, 4]\r\n",
      "generator(1 or 'x1'): [4, 2, 3, 1]\r\n",
      "generator(2 or 'x2'): [1, 3, 2, 4]\r\n",
      "    recognize.source: Klein four-group < a, x | a^2 = x^2 = x a x^-1 a^-1 = 1 >\r\n",
      "\r\n"
     ]
    }
   ],
   "source": [
    "group = graph.automorphismGroup"
   ]
  },
  {
   "cell_type": "markdown",
   "id": "3a004ef8",
   "metadata": {},
   "source": [
    "This returns the group under which the graph is invariant. In the present case, this group is a Klein group of order 4, which admits 2 generators."
   ]
  },
  {
   "cell_type": "markdown",
   "id": "6e332fd7",
   "metadata": {
    "lines_to_next_cell": 2
   },
   "source": [
    "## Bonus\n",
    "\n",
    "Graphs can have colored vertices as well as weighted edges. These are taken into account during the automorphism computation."
   ]
  }
 ],
 "metadata": {
  "jupytext": {
   "cell_metadata_filter": "-all",
   "main_language": "matlab",
   "notebook_metadata_filter": "-all",
   "text_representation": {
    "extension": ".m",
    "format_name": "light"
   }
  },
  "language_info": {
   "file_extension": ".m",
   "help_links": [
    {
     "text": "GNU Octave",
     "url": "https://www.gnu.org/software/octave/support.html"
    },
    {
     "text": "Octave Kernel",
     "url": "https://github.com/Calysto/octave_kernel"
    },
    {
     "text": "MetaKernel Magics",
     "url": "https://metakernel.readthedocs.io/en/latest/source/README.html"
    }
   ],
   "mimetype": "text/x-octave",
   "name": "octave",
   "version": "6.2.0"
  }
 },
 "nbformat": 4,
 "nbformat_minor": 5
}
