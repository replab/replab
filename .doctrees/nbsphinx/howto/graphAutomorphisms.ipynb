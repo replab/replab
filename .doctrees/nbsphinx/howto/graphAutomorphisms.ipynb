{
 "cells": [
  {
   "cell_type": "markdown",
   "id": "b41db986",
   "metadata": {},
   "source": [
    "# Graph automorphisms\n",
    "\n",
    "This document illustrated how *RepLAB* can be used to compute the automorphism group of a graph.\n",
    "\n",
    "## Preparation\n",
    "As always, before using *RepLAB* commands, initialize the library:"
   ]
  },
  {
   "cell_type": "code",
   "execution_count": 1,
   "id": "9dbad293",
   "metadata": {
    "execution": {
     "iopub.execute_input": "2021-08-03T13:38:24.638260Z",
     "iopub.status.busy": "2021-08-03T13:38:24.637526Z",
     "iopub.status.idle": "2021-08-03T13:38:31.737431Z",
     "shell.execute_reply": "2021-08-03T13:38:31.736804Z"
    }
   },
   "outputs": [],
   "source": [
    "addpath([pwd, '/../..']);\n",
    "replab_init('verbose', 0);"
   ]
  },
  {
   "cell_type": "markdown",
   "id": "c81faa32",
   "metadata": {},
   "source": [
    "## Graph definition\n",
    "\n",
    "In *RepLAB*, undirected graphs are represented by the class\n",
    "replab.UndirectedGraph. A graph can be initialized from a list of edges \n",
    "or from an adjacency matrix. For instance, the graph with adjacency matrix"
   ]
  },
  {
   "cell_type": "code",
   "execution_count": 2,
   "id": "ca14164d",
   "metadata": {
    "execution": {
     "iopub.execute_input": "2021-08-03T13:38:31.741038Z",
     "iopub.status.busy": "2021-08-03T13:38:31.740416Z",
     "iopub.status.idle": "2021-08-03T13:38:31.770104Z",
     "shell.execute_reply": "2021-08-03T13:38:31.769230Z"
    }
   },
   "outputs": [],
   "source": [
    "M = [0 1 1 1\n",
    "     1 0 0 1\n",
    "     1 0 0 1\n",
    "     1 1 1 0];"
   ]
  },
  {
   "cell_type": "markdown",
   "id": "20f4db85",
   "metadata": {},
   "source": [
    "is constructed by calling"
   ]
  },
  {
   "cell_type": "code",
   "execution_count": 3,
   "id": "bba58797",
   "metadata": {
    "execution": {
     "iopub.execute_input": "2021-08-03T13:38:31.773441Z",
     "iopub.status.busy": "2021-08-03T13:38:31.772687Z",
     "iopub.status.idle": "2021-08-03T13:38:31.825510Z",
     "shell.execute_reply": "2021-08-03T13:38:31.824961Z"
    }
   },
   "outputs": [
    {
     "name": "stdout",
     "output_type": "stream",
     "text": [
      "graph =\r\n",
      "\r\n",
      "Undirected graph with 4 vertices and 5 edges\r\n",
      "edges: [1, 2; 1, 3; 1, 4; 2, 4; 3, 4]\r\n",
      "\r\n"
     ]
    }
   ],
   "source": [
    "graph = replab.UndirectedGraph.fromAdjacencyMatrix(M)"
   ]
  },
  {
   "cell_type": "markdown",
   "id": "d3a7b83b",
   "metadata": {},
   "source": [
    "## Automorphism computation\n",
    "\n",
    "The automorphisms of a graph are obtained by simply calling"
   ]
  },
  {
   "cell_type": "code",
   "execution_count": 4,
   "id": "8403b80a",
   "metadata": {
    "execution": {
     "iopub.execute_input": "2021-08-03T13:38:31.828437Z",
     "iopub.status.busy": "2021-08-03T13:38:31.827902Z",
     "iopub.status.idle": "2021-08-03T13:38:38.394503Z",
     "shell.execute_reply": "2021-08-03T13:38:38.393712Z"
    }
   },
   "outputs": [
    {
     "name": "stdout",
     "output_type": "stream",
     "text": [
      "group ="
     ]
    },
    {
     "name": "stdout",
     "output_type": "stream",
     "text": [
      "\r"
     ]
    },
    {
     "name": "stdout",
     "output_type": "stream",
     "text": [
      "\n"
     ]
    },
    {
     "name": "stdout",
     "output_type": "stream",
     "text": [
      "\r\n",
      "Permutation group acting on 4 elements of order 4\r\n",
      "            identity: [1, 2, 3, 4]\r\n",
      "generator(1 or 'x1'): [4, 2, 3, 1]\r\n",
      "generator(2 or 'x2'): [1, 3, 2, 4]\r\n",
      "    recognize.source: Klein four-group < a, x | a^2 = x^2 = x a x^-1 a^-1 = 1 >\r\n",
      "\r\n"
     ]
    }
   ],
   "source": [
    "group = graph.automorphismGroup"
   ]
  },
  {
   "cell_type": "markdown",
   "id": "a349556e",
   "metadata": {},
   "source": [
    "This returns the group under which the graph is invariant. In the present case, this group is a Klein group of order 4, which admits 2 generators."
   ]
  },
  {
   "cell_type": "markdown",
   "id": "6a5dbf89",
   "metadata": {
    "lines_to_next_cell": 2
   },
   "source": [
    "## Bonus\n",
    "\n",
    "Graphs can have colored vertices as well as weighted edges. These are taken into account during the automorphism computation."
   ]
  }
 ],
 "metadata": {
  "jupytext": {
   "cell_metadata_filter": "-all",
   "main_language": "matlab",
   "notebook_metadata_filter": "-all",
   "text_representation": {
    "extension": ".m",
    "format_name": "light"
   }
  },
  "language_info": {
   "file_extension": ".m",
   "help_links": [
    {
     "text": "GNU Octave",
     "url": "https://www.gnu.org/software/octave/support.html"
    },
    {
     "text": "Octave Kernel",
     "url": "https://github.com/Calysto/octave_kernel"
    },
    {
     "text": "MetaKernel Magics",
     "url": "https://metakernel.readthedocs.io/en/latest/source/README.html"
    }
   ],
   "mimetype": "text/x-octave",
   "name": "octave",
   "version": "6.2.0"
  }
 },
 "nbformat": 4,
 "nbformat_minor": 5
}
