{
 "cells": [
  {
   "cell_type": "markdown",
   "id": "412bafa3",
   "metadata": {},
   "source": [
    "# Symmetrizing a matrix\n",
    "\n",
    "This document shows how to perform a Reynolds averaging of a matrix in *RepLAB*.\n",
    "\n",
    "## Preparation\n",
    "As always, before using *RepLAB* commands, initialize the library:"
   ]
  },
  {
   "cell_type": "code",
   "execution_count": 1,
   "id": "1ca86ce6",
   "metadata": {
    "execution": {
     "iopub.execute_input": "2021-07-29T16:41:34.302608Z",
     "iopub.status.busy": "2021-07-29T16:41:34.302286Z",
     "iopub.status.idle": "2021-07-29T16:41:38.631536Z",
     "shell.execute_reply": "2021-07-29T16:41:38.631834Z"
    }
   },
   "outputs": [],
   "source": [
    "addpath([pwd, '/../..']);\n",
    "replab_init('verbose', 0);"
   ]
  },
  {
   "cell_type": "markdown",
   "id": "999d3f25",
   "metadata": {},
   "source": [
    "## Definition of the matrix to symmetrize\n",
    "\n",
    "Let us consider a random matrix"
   ]
  },
  {
   "cell_type": "code",
   "execution_count": 2,
   "id": "1f9c6fd2",
   "metadata": {
    "execution": {
     "iopub.execute_input": "2021-07-29T16:41:38.633898Z",
     "iopub.status.busy": "2021-07-29T16:41:38.633499Z",
     "iopub.status.idle": "2021-07-29T16:41:38.644378Z",
     "shell.execute_reply": "2021-07-29T16:41:38.644038Z"
    }
   },
   "outputs": [
    {
     "name": "stdout",
     "output_type": "stream",
     "text": [
      "M =\r\n",
      "\r\n",
      "   0.501516   0.460526   0.178334   0.869232   0.888380\r\n",
      "   0.358179   0.024987   0.367792   0.600436   0.486533\r\n",
      "   0.865977   0.092924   0.569663   0.166304   0.922396\r\n",
      "   0.950386   0.613871   0.132296   0.126804   0.874999\r\n",
      "   0.529062   0.583007   0.647266   0.505379   0.695538\r\n",
      "\r\n"
     ]
    }
   ],
   "source": [
    "M = rand(5)"
   ]
  },
  {
   "cell_type": "markdown",
   "id": "846000d2",
   "metadata": {},
   "source": [
    "Our aim is to compute the average $\\sum_{g\\in G} M(g,g)$ over a group $G$,\n",
    "where the group elements $g$ act on the rows and on the columns of our matrix."
   ]
  },
  {
   "cell_type": "markdown",
   "id": "01279c78",
   "metadata": {},
   "source": [
    "## Definition of the group\n",
    "\n",
    "Let us consider the permutation group over which we wish to perform the average"
   ]
  },
  {
   "cell_type": "code",
   "execution_count": 3,
   "id": "65410743",
   "metadata": {
    "execution": {
     "iopub.execute_input": "2021-07-29T16:41:38.646670Z",
     "iopub.status.busy": "2021-07-29T16:41:38.646352Z",
     "iopub.status.idle": "2021-07-29T16:41:41.052176Z",
     "shell.execute_reply": "2021-07-29T16:41:41.051821Z"
    }
   },
   "outputs": [
    {
     "name": "stdout",
     "output_type": "stream",
     "text": [
      "group ="
     ]
    },
    {
     "name": "stdout",
     "output_type": "stream",
     "text": [
      "\r"
     ]
    },
    {
     "name": "stdout",
     "output_type": "stream",
     "text": [
      "\n"
     ]
    },
    {
     "name": "stdout",
     "output_type": "stream",
     "text": [
      "\r\n",
      "Permutation group acting on 5 elements of order 6\r\n",
      "            identity: [1, 2, 3, 4, 5]\r\n",
      "generator(1 or 'x1'): [2, 1, 4, 5, 3]\r\n",
      "    recognize.source: Cyclic group C(6) of order 6 < x | x^6 = 1 >\r\n",
      "\r\n"
     ]
    }
   ],
   "source": [
    "S5 = replab.S(5);\n",
    "group = S5.subgroup({[2 1 4 5 3]})"
   ]
  },
  {
   "cell_type": "markdown",
   "id": "d8e31627",
   "metadata": {},
   "source": [
    "## Averaging\n",
    "\n",
    "The averaging is done by projecting our matrix onto the commutant of the group's natural representation"
   ]
  },
  {
   "cell_type": "code",
   "execution_count": 4,
   "id": "2ef53dd5",
   "metadata": {
    "execution": {
     "iopub.execute_input": "2021-07-29T16:41:41.054317Z",
     "iopub.status.busy": "2021-07-29T16:41:41.054002Z",
     "iopub.status.idle": "2021-07-29T16:41:41.142944Z",
     "shell.execute_reply": "2021-07-29T16:41:41.143206Z"
    }
   },
   "outputs": [],
   "source": [
    "rep = group.naturalRep;\n",
    "com = rep.commutant;"
   ]
  },
  {
   "cell_type": "code",
   "execution_count": 5,
   "id": "bac85eb8",
   "metadata": {
    "execution": {
     "iopub.execute_input": "2021-07-29T16:41:41.145557Z",
     "iopub.status.busy": "2021-07-29T16:41:41.145227Z",
     "iopub.status.idle": "2021-07-29T16:41:41.161548Z",
     "shell.execute_reply": "2021-07-29T16:41:41.161813Z"
    }
   },
   "outputs": [
    {
     "name": "stdout",
     "output_type": "stream",
     "text": [
      "MP =\r\n",
      "\r\n",
      "   0.2633   0.4094   0.5651   0.5651   0.5651\r\n",
      "   0.4094   0.2633   0.5651   0.5651   0.5651\r\n",
      "   0.6059   0.6059   0.4640   0.5629   0.5200\r\n",
      "   0.6059   0.6059   0.5200   0.4640   0.5629\r\n",
      "   0.6059   0.6059   0.5629   0.5200   0.4640\r\n",
      "\r\n"
     ]
    }
   ],
   "source": [
    "MP = com.project(M)"
   ]
  },
  {
   "cell_type": "markdown",
   "id": "8cff72f5",
   "metadata": {},
   "source": [
    "We can check that the matrix is now invariant over permutation by the group elements"
   ]
  },
  {
   "cell_type": "code",
   "execution_count": 6,
   "id": "fcce4d1b",
   "metadata": {
    "execution": {
     "iopub.execute_input": "2021-07-29T16:41:41.164089Z",
     "iopub.status.busy": "2021-07-29T16:41:41.163751Z",
     "iopub.status.idle": "2021-07-29T16:41:41.177764Z",
     "shell.execute_reply": "2021-07-29T16:41:41.177419Z"
    },
    "lines_to_next_cell": 2
   },
   "outputs": [
    {
     "name": "stdout",
     "output_type": "stream",
     "text": [
      "el =\r\n",
      "\r\n",
      "   2   1   3   4   5\r\n",
      "\r\n"
     ]
    },
    {
     "name": "stdout",
     "output_type": "stream",
     "text": [
      "ans =\r\n",
      "\r\n",
      "   0.2633   0.4094   0.5651   0.5651   0.5651\r\n",
      "   0.4094   0.2633   0.5651   0.5651   0.5651\r\n",
      "   0.6059   0.6059   0.4640   0.5629   0.5200\r\n",
      "   0.6059   0.6059   0.5200   0.4640   0.5629\r\n",
      "   0.6059   0.6059   0.5629   0.5200   0.4640\r\n",
      "\r\n"
     ]
    }
   ],
   "source": [
    "el = group.sample\n",
    "MP(el,el)"
   ]
  }
 ],
 "metadata": {
  "jupytext": {
   "cell_metadata_filter": "-all",
   "main_language": "matlab",
   "notebook_metadata_filter": "-all",
   "text_representation": {
    "extension": ".m",
    "format_name": "light"
   }
  },
  "language_info": {
   "file_extension": ".m",
   "help_links": [
    {
     "text": "GNU Octave",
     "url": "https://www.gnu.org/software/octave/support.html"
    },
    {
     "text": "Octave Kernel",
     "url": "https://github.com/Calysto/octave_kernel"
    },
    {
     "text": "MetaKernel Magics",
     "url": "https://metakernel.readthedocs.io/en/latest/source/README.html"
    }
   ],
   "mimetype": "text/x-octave",
   "name": "octave",
   "version": "6.2.0"
  }
 },
 "nbformat": 4,
 "nbformat_minor": 5
}
