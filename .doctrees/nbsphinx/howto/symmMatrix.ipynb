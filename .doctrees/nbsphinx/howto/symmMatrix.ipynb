{
 "cells": [
  {
   "cell_type": "markdown",
   "id": "6423e3aa",
   "metadata": {},
   "source": [
    "# Symmetrizing a matrix\n",
    "\n",
    "This document shows how to perform a Reynolds averaging of a matrix in *RepLAB*.\n",
    "\n",
    "## Preparation\n",
    "As always, before using *RepLAB* commands, initialize the library:"
   ]
  },
  {
   "cell_type": "code",
   "execution_count": 1,
   "id": "17770768",
   "metadata": {
    "execution": {
     "iopub.execute_input": "2021-09-08T15:28:39.173446Z",
     "iopub.status.busy": "2021-09-08T15:28:39.171370Z",
     "iopub.status.idle": "2021-09-08T15:28:47.023475Z",
     "shell.execute_reply": "2021-09-08T15:28:47.022840Z"
    }
   },
   "outputs": [],
   "source": [
    "addpath([pwd, '/../..']);\n",
    "replab_init('verbose', 0);"
   ]
  },
  {
   "cell_type": "markdown",
   "id": "5146abc4",
   "metadata": {},
   "source": [
    "## Definition of the matrix to symmetrize\n",
    "\n",
    "Let us consider a random matrix"
   ]
  },
  {
   "cell_type": "code",
   "execution_count": 2,
   "id": "d4b3804a",
   "metadata": {
    "execution": {
     "iopub.execute_input": "2021-09-08T15:28:47.027198Z",
     "iopub.status.busy": "2021-09-08T15:28:47.026608Z",
     "iopub.status.idle": "2021-09-08T15:28:47.045103Z",
     "shell.execute_reply": "2021-09-08T15:28:47.044547Z"
    }
   },
   "outputs": [
    {
     "name": "stdout",
     "output_type": "stream",
     "text": [
      "M =\r\n",
      "\r\n",
      "   7.7761e-03   1.3155e-01   5.4242e-02   6.3027e-01   2.1886e-01\r\n",
      "   2.8375e-01   1.5073e-01   3.6707e-01   4.1526e-01   4.7721e-01\r\n",
      "   2.7423e-02   1.6434e-01   5.2567e-01   2.5023e-01   3.1303e-01\r\n",
      "   6.7631e-01   9.5981e-01   9.2519e-02   3.5908e-01   3.8854e-01\r\n",
      "   4.6597e-01   5.0923e-01   6.1976e-01   5.5468e-01   7.9698e-01\r\n",
      "\r\n"
     ]
    }
   ],
   "source": [
    "M = rand(5)"
   ]
  },
  {
   "cell_type": "markdown",
   "id": "cefc202f",
   "metadata": {},
   "source": [
    "Our aim is to compute the average $\\sum_{g\\in G} M(g,g)$ over a group $G$,\n",
    "where the group elements $g$ act on the rows and on the columns of our matrix."
   ]
  },
  {
   "cell_type": "markdown",
   "id": "56a08bf8",
   "metadata": {},
   "source": [
    "## Definition of the group\n",
    "\n",
    "Let us consider the permutation group over which we wish to perform the average"
   ]
  },
  {
   "cell_type": "code",
   "execution_count": 3,
   "id": "e797a79c",
   "metadata": {
    "execution": {
     "iopub.execute_input": "2021-09-08T15:28:47.050749Z",
     "iopub.status.busy": "2021-09-08T15:28:47.049281Z",
     "iopub.status.idle": "2021-09-08T15:28:51.426287Z",
     "shell.execute_reply": "2021-09-08T15:28:51.425780Z"
    }
   },
   "outputs": [
    {
     "name": "stdout",
     "output_type": "stream",
     "text": [
      "group ="
     ]
    },
    {
     "name": "stdout",
     "output_type": "stream",
     "text": [
      "\r"
     ]
    },
    {
     "name": "stdout",
     "output_type": "stream",
     "text": [
      "\n"
     ]
    },
    {
     "name": "stdout",
     "output_type": "stream",
     "text": [
      "\r\n",
      "Permutation group acting on 5 elements of order 6\r\n",
      "            identity: [1, 2, 3, 4, 5]\r\n",
      "generator(1 or 'x1'): [2, 1, 4, 5, 3]\r\n",
      "    recognize.source: Cyclic group C(6) of order 6 < x | x^6 = 1 >\r\n",
      "\r\n"
     ]
    }
   ],
   "source": [
    "S5 = replab.S(5);\n",
    "group = S5.subgroup({[2 1 4 5 3]})"
   ]
  },
  {
   "cell_type": "markdown",
   "id": "851c797d",
   "metadata": {},
   "source": [
    "## Averaging\n",
    "\n",
    "The averaging is done by projecting our matrix onto the commutant of the group's natural representation"
   ]
  },
  {
   "cell_type": "code",
   "execution_count": 4,
   "id": "0d2aa802",
   "metadata": {
    "execution": {
     "iopub.execute_input": "2021-09-08T15:28:51.429422Z",
     "iopub.status.busy": "2021-09-08T15:28:51.428834Z",
     "iopub.status.idle": "2021-09-08T15:28:51.582804Z",
     "shell.execute_reply": "2021-09-08T15:28:51.582277Z"
    }
   },
   "outputs": [],
   "source": [
    "rep = group.naturalRep;\n",
    "com = rep.commutant;"
   ]
  },
  {
   "cell_type": "code",
   "execution_count": 5,
   "id": "5728757e",
   "metadata": {
    "execution": {
     "iopub.execute_input": "2021-09-08T15:28:51.597682Z",
     "iopub.status.busy": "2021-09-08T15:28:51.589507Z",
     "iopub.status.idle": "2021-09-08T15:28:51.626112Z",
     "shell.execute_reply": "2021-09-08T15:28:51.626601Z"
    }
   },
   "outputs": [
    {
     "name": "stdout",
     "output_type": "stream",
     "text": [
      "MP =\r\n",
      "\r\n",
      "   0.079251   0.207649   0.360484   0.360484   0.360484\r\n",
      "   0.207649   0.079251   0.360484   0.360484   0.360484\r\n",
      "   0.467182   0.467182   0.560577   0.419511   0.320075\r\n",
      "   0.467182   0.467182   0.320075   0.560577   0.419511\r\n",
      "   0.467182   0.467182   0.419511   0.320075   0.560577\r\n",
      "\r\n"
     ]
    }
   ],
   "source": [
    "MP = com.project(M)"
   ]
  },
  {
   "cell_type": "markdown",
   "id": "6e0222e9",
   "metadata": {},
   "source": [
    "We can check that the matrix is now invariant over permutation by the group elements"
   ]
  },
  {
   "cell_type": "code",
   "execution_count": 6,
   "id": "c144f598",
   "metadata": {
    "execution": {
     "iopub.execute_input": "2021-09-08T15:28:51.633965Z",
     "iopub.status.busy": "2021-09-08T15:28:51.633305Z",
     "iopub.status.idle": "2021-09-08T15:28:51.655364Z",
     "shell.execute_reply": "2021-09-08T15:28:51.654863Z"
    },
    "lines_to_next_cell": 2
   },
   "outputs": [
    {
     "name": "stdout",
     "output_type": "stream",
     "text": [
      "el =\r\n",
      "\r\n",
      "   2   1   5   3   4\r\n",
      "\r\n"
     ]
    },
    {
     "name": "stdout",
     "output_type": "stream",
     "text": [
      "ans =\r\n",
      "\r\n",
      "   0.079251   0.207649   0.360484   0.360484   0.360484\r\n",
      "   0.207649   0.079251   0.360484   0.360484   0.360484\r\n",
      "   0.467182   0.467182   0.560577   0.419511   0.320075\r\n",
      "   0.467182   0.467182   0.320075   0.560577   0.419511\r\n",
      "   0.467182   0.467182   0.419511   0.320075   0.560577\r\n",
      "\r\n"
     ]
    }
   ],
   "source": [
    "el = group.sample\n",
    "MP(el,el)"
   ]
  }
 ],
 "metadata": {
  "jupytext": {
   "cell_metadata_filter": "-all",
   "main_language": "matlab",
   "notebook_metadata_filter": "-all",
   "text_representation": {
    "extension": ".m",
    "format_name": "light"
   }
  },
  "language_info": {
   "file_extension": ".m",
   "help_links": [
    {
     "text": "GNU Octave",
     "url": "https://www.gnu.org/software/octave/support.html"
    },
    {
     "text": "Octave Kernel",
     "url": "https://github.com/Calysto/octave_kernel"
    },
    {
     "text": "MetaKernel Magics",
     "url": "https://metakernel.readthedocs.io/en/latest/source/README.html"
    }
   ],
   "mimetype": "text/x-octave",
   "name": "octave",
   "version": "6.2.0"
  }
 },
 "nbformat": 4,
 "nbformat_minor": 5
}
