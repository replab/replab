{
 "cells": [
  {
   "cell_type": "markdown",
   "id": "6c748d44",
   "metadata": {},
   "source": [
    "# Symmetrizing a matrix\n",
    "\n",
    "This document shows how to perform a Reynolds averaging of a matrix in *RepLAB*.\n",
    "\n",
    "## Preparation\n",
    "As always, before using *RepLAB* commands, initialize the library:"
   ]
  },
  {
   "cell_type": "code",
   "execution_count": 1,
   "id": "9d5bd2e3",
   "metadata": {
    "execution": {
     "iopub.execute_input": "2021-07-29T16:54:54.254929Z",
     "iopub.status.busy": "2021-07-29T16:54:54.253724Z",
     "iopub.status.idle": "2021-07-29T16:54:58.161464Z",
     "shell.execute_reply": "2021-07-29T16:54:58.161706Z"
    }
   },
   "outputs": [],
   "source": [
    "addpath([pwd, '/../..']);\n",
    "replab_init('verbose', 0);"
   ]
  },
  {
   "cell_type": "markdown",
   "id": "f5777dea",
   "metadata": {},
   "source": [
    "## Definition of the matrix to symmetrize\n",
    "\n",
    "Let us consider a random matrix"
   ]
  },
  {
   "cell_type": "code",
   "execution_count": 2,
   "id": "446420a0",
   "metadata": {
    "execution": {
     "iopub.execute_input": "2021-07-29T16:54:58.163759Z",
     "iopub.status.busy": "2021-07-29T16:54:58.163469Z",
     "iopub.status.idle": "2021-07-29T16:54:58.171861Z",
     "shell.execute_reply": "2021-07-29T16:54:58.171617Z"
    }
   },
   "outputs": [
    {
     "name": "stdout",
     "output_type": "stream",
     "text": [
      "M =\r\n",
      "\r\n",
      "   0.615553   0.344644   0.463747   0.914081   0.560842\r\n",
      "   0.305140   0.546979   0.983638   0.624607   0.859770\r\n",
      "   0.013791   0.190559   0.989604   0.325081   0.948333\r\n",
      "   0.228098   0.076381   0.094333   0.643259   0.991864\r\n",
      "   0.060403   0.060382   0.904291   0.755412   0.360354\r\n",
      "\r\n"
     ]
    }
   ],
   "source": [
    "M = rand(5)"
   ]
  },
  {
   "cell_type": "markdown",
   "id": "90bff79b",
   "metadata": {},
   "source": [
    "Our aim is to compute the average $\\sum_{g\\in G} M(g,g)$ over a group $G$,\n",
    "where the group elements $g$ act on the rows and on the columns of our matrix."
   ]
  },
  {
   "cell_type": "markdown",
   "id": "cac259e1",
   "metadata": {},
   "source": [
    "## Definition of the group\n",
    "\n",
    "Let us consider the permutation group over which we wish to perform the average"
   ]
  },
  {
   "cell_type": "code",
   "execution_count": 3,
   "id": "5f7f8248",
   "metadata": {
    "execution": {
     "iopub.execute_input": "2021-07-29T16:54:58.173870Z",
     "iopub.status.busy": "2021-07-29T16:54:58.173493Z",
     "iopub.status.idle": "2021-07-29T16:55:00.413490Z",
     "shell.execute_reply": "2021-07-29T16:55:00.413227Z"
    }
   },
   "outputs": [
    {
     "name": "stdout",
     "output_type": "stream",
     "text": [
      "group ="
     ]
    },
    {
     "name": "stdout",
     "output_type": "stream",
     "text": [
      "\r"
     ]
    },
    {
     "name": "stdout",
     "output_type": "stream",
     "text": [
      "\n"
     ]
    },
    {
     "name": "stdout",
     "output_type": "stream",
     "text": [
      "\r\n",
      "Permutation group acting on 5 elements of order 6\r\n",
      "            identity: [1, 2, 3, 4, 5]\r\n",
      "generator(1 or 'x1'): [2, 1, 4, 5, 3]\r\n",
      "    recognize.source: Cyclic group C(6) of order 6 < x | x^6 = 1 >\r\n",
      "\r\n"
     ]
    }
   ],
   "source": [
    "S5 = replab.S(5);\n",
    "group = S5.subgroup({[2 1 4 5 3]})"
   ]
  },
  {
   "cell_type": "markdown",
   "id": "8b4ed0e0",
   "metadata": {},
   "source": [
    "## Averaging\n",
    "\n",
    "The averaging is done by projecting our matrix onto the commutant of the group's natural representation"
   ]
  },
  {
   "cell_type": "code",
   "execution_count": 4,
   "id": "cd5fff73",
   "metadata": {
    "execution": {
     "iopub.execute_input": "2021-07-29T16:55:00.415387Z",
     "iopub.status.busy": "2021-07-29T16:55:00.415103Z",
     "iopub.status.idle": "2021-07-29T16:55:00.493591Z",
     "shell.execute_reply": "2021-07-29T16:55:00.493330Z"
    }
   },
   "outputs": [],
   "source": [
    "rep = group.naturalRep;\n",
    "com = rep.commutant;"
   ]
  },
  {
   "cell_type": "code",
   "execution_count": 5,
   "id": "1047ef56",
   "metadata": {
    "execution": {
     "iopub.execute_input": "2021-07-29T16:55:00.495340Z",
     "iopub.status.busy": "2021-07-29T16:55:00.494979Z",
     "iopub.status.idle": "2021-07-29T16:55:00.508725Z",
     "shell.execute_reply": "2021-07-29T16:55:00.508442Z"
    }
   },
   "outputs": [
    {
     "name": "stdout",
     "output_type": "stream",
     "text": [
      "MP =\r\n",
      "\r\n",
      "   0.5813   0.3249   0.7344   0.7344   0.7344\r\n",
      "   0.3249   0.5813   0.7344   0.7344   0.7344\r\n",
      "   0.1049   0.1049   0.6644   0.7404   0.5994\r\n",
      "   0.1049   0.1049   0.5994   0.6644   0.7404\r\n",
      "   0.1049   0.1049   0.7404   0.5994   0.6644\r\n",
      "\r\n"
     ]
    }
   ],
   "source": [
    "MP = com.project(M)"
   ]
  },
  {
   "cell_type": "markdown",
   "id": "54fb80d7",
   "metadata": {},
   "source": [
    "We can check that the matrix is now invariant over permutation by the group elements"
   ]
  },
  {
   "cell_type": "code",
   "execution_count": 6,
   "id": "57529ef2",
   "metadata": {
    "execution": {
     "iopub.execute_input": "2021-07-29T16:55:00.510687Z",
     "iopub.status.busy": "2021-07-29T16:55:00.510394Z",
     "iopub.status.idle": "2021-07-29T16:55:00.523596Z",
     "shell.execute_reply": "2021-07-29T16:55:00.523000Z"
    },
    "lines_to_next_cell": 2
   },
   "outputs": [
    {
     "name": "stdout",
     "output_type": "stream",
     "text": [
      "el =\r\n",
      "\r\n",
      "   1   2   4   5   3\r\n",
      "\r\n"
     ]
    },
    {
     "name": "stdout",
     "output_type": "stream",
     "text": [
      "ans =\r\n",
      "\r\n",
      "   0.5813   0.3249   0.7344   0.7344   0.7344\r\n",
      "   0.3249   0.5813   0.7344   0.7344   0.7344\r\n",
      "   0.1049   0.1049   0.6644   0.7404   0.5994\r\n",
      "   0.1049   0.1049   0.5994   0.6644   0.7404\r\n",
      "   0.1049   0.1049   0.7404   0.5994   0.6644\r\n",
      "\r\n"
     ]
    }
   ],
   "source": [
    "el = group.sample\n",
    "MP(el,el)"
   ]
  }
 ],
 "metadata": {
  "jupytext": {
   "cell_metadata_filter": "-all",
   "main_language": "matlab",
   "notebook_metadata_filter": "-all",
   "text_representation": {
    "extension": ".m",
    "format_name": "light"
   }
  },
  "language_info": {
   "file_extension": ".m",
   "help_links": [
    {
     "text": "GNU Octave",
     "url": "https://www.gnu.org/software/octave/support.html"
    },
    {
     "text": "Octave Kernel",
     "url": "https://github.com/Calysto/octave_kernel"
    },
    {
     "text": "MetaKernel Magics",
     "url": "https://metakernel.readthedocs.io/en/latest/source/README.html"
    }
   ],
   "mimetype": "text/x-octave",
   "name": "octave",
   "version": "6.2.0"
  }
 },
 "nbformat": 4,
 "nbformat_minor": 5
}
