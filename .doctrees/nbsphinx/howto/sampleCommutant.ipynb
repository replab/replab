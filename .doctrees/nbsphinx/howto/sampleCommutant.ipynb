{
 "cells": [
  {
   "cell_type": "markdown",
   "id": "146fa306",
   "metadata": {},
   "source": [
    "# Sampling the commutant of a representation\n",
    "\n",
    "This document shows how to sample the commutant of a representation in *RepLAB*.\n",
    "\n",
    "## Preparation\n",
    "As always, before using *RepLAB* commands, initialize the library:"
   ]
  },
  {
   "cell_type": "code",
   "execution_count": 1,
   "id": "92c2c63c",
   "metadata": {
    "execution": {
     "iopub.execute_input": "2021-07-29T16:54:46.198453Z",
     "iopub.status.busy": "2021-07-29T16:54:46.197214Z",
     "iopub.status.idle": "2021-07-29T16:54:50.082022Z",
     "shell.execute_reply": "2021-07-29T16:54:50.081664Z"
    }
   },
   "outputs": [],
   "source": [
    "addpath([pwd, '/../..']);\n",
    "replab_init('verbose', 0);"
   ]
  },
  {
   "cell_type": "markdown",
   "id": "444962c2",
   "metadata": {},
   "source": [
    "## Definition of the commutant\n",
    "\n",
    "Consider a group representation"
   ]
  },
  {
   "cell_type": "code",
   "execution_count": 2,
   "id": "b519ad69",
   "metadata": {
    "execution": {
     "iopub.execute_input": "2021-07-29T16:54:50.084261Z",
     "iopub.status.busy": "2021-07-29T16:54:50.083893Z",
     "iopub.status.idle": "2021-07-29T16:54:52.364372Z",
     "shell.execute_reply": "2021-07-29T16:54:52.364046Z"
    }
   },
   "outputs": [
    {
     "name": "stdout",
     "output_type": "stream",
     "text": [
      "group ="
     ]
    },
    {
     "name": "stdout",
     "output_type": "stream",
     "text": [
      "\r"
     ]
    },
    {
     "name": "stdout",
     "output_type": "stream",
     "text": [
      "\n"
     ]
    },
    {
     "name": "stdout",
     "output_type": "stream",
     "text": [
      "\r\n",
      "Permutation group acting on 5 elements of order 6\r\n",
      "            identity: [1, 2, 3, 4, 5]\r\n",
      "generator(1 or 'x1'): [2, 1, 4, 5, 3]\r\n",
      "    recognize.source: Cyclic group C(6) of order 6 < x | x^6 = 1 >\r\n",
      "\r\n"
     ]
    },
    {
     "name": "stdout",
     "output_type": "stream",
     "text": [
      "rep =\r\n",
      "\r\n",
      "Orthogonal reducible representation\r\n",
      "          dimension: 5\r\n",
      "divisionAlgebraName: []\r\n",
      "              field: 'R'\r\n",
      "              group: Permutation group acting on 5 elements of order 6\r\n",
      "   imagesErrorBound: 0\r\n",
      "          isUnitary: true\r\n",
      "           morphism: replab.mrp.PermToFiniteGroup\r\n",
      "       preimages{1}: [2, 1, 4, 5, 3]\r\n",
      "          images{1}: 5 x 5 double\r\n",
      "\r\n"
     ]
    }
   ],
   "source": [
    "S5 = replab.S(5);\n",
    "group = S5.subgroup({[2 1 4 5 3]})\n",
    "rep = group.naturalRep"
   ]
  },
  {
   "cell_type": "markdown",
   "id": "52a16e21",
   "metadata": {},
   "source": [
    "The commutant is obtained with the command"
   ]
  },
  {
   "cell_type": "code",
   "execution_count": 3,
   "id": "01a2497c",
   "metadata": {
    "execution": {
     "iopub.execute_input": "2021-07-29T16:54:52.366344Z",
     "iopub.status.busy": "2021-07-29T16:54:52.366043Z",
     "iopub.status.idle": "2021-07-29T16:54:52.405412Z",
     "shell.execute_reply": "2021-07-29T16:54:52.405122Z"
    }
   },
   "outputs": [
    {
     "name": "stdout",
     "output_type": "stream",
     "text": [
      "comm =\r\n",
      "\r\n",
      "5 x 5 commutant matrices over R\r\n",
      "     field: 'R'\r\n",
      "     group: Permutation group acting on 5 elements of order 6\r\n",
      "   imagesC: {[2, 1, 4, 5, 3; 0, 0, 0, 0, 0]}\r\n",
      "   imagesR: {[2, 1, 4, 5, 3; 0, 0, 0, 0, 0]}\r\n",
      "        nC: 5\r\n",
      "        nR: 5\r\n",
      "phaseOrder: 1\r\n",
      "      repC: Orthogonal reducible representation\r\n",
      "      repR: Orthogonal reducible representation\r\n",
      "   special: 'commutant'\r\n",
      "\r\n"
     ]
    }
   ],
   "source": [
    "comm = rep.commutant"
   ]
  },
  {
   "cell_type": "markdown",
   "id": "ff3d4887",
   "metadata": {},
   "source": [
    "## Sampling the commutant\n",
    "\n",
    "Elements of the commutant can then be sampled"
   ]
  },
  {
   "cell_type": "code",
   "execution_count": 4,
   "id": "c3f33f59",
   "metadata": {
    "execution": {
     "iopub.execute_input": "2021-07-29T16:54:52.407590Z",
     "iopub.status.busy": "2021-07-29T16:54:52.407304Z",
     "iopub.status.idle": "2021-07-29T16:54:52.420947Z",
     "shell.execute_reply": "2021-07-29T16:54:52.420658Z"
    }
   },
   "outputs": [
    {
     "name": "stdout",
     "output_type": "stream",
     "text": [
      "commEl =\r\n",
      "\r\n",
      "   1.821008  -0.444530   0.377535   0.377535   0.377535\r\n",
      "  -0.444530   1.821008   0.377535   0.377535   0.377535\r\n",
      "   0.299893   0.299893   0.279681   0.968707  -0.067317\r\n",
      "   0.299893   0.299893  -0.067317   0.279681   0.968707\r\n",
      "   0.299893   0.299893   0.968707  -0.067317   0.279681\r\n",
      "\r\n"
     ]
    }
   ],
   "source": [
    "commEl = comm.sample"
   ]
  },
  {
   "cell_type": "markdown",
   "id": "1ce0fc36",
   "metadata": {},
   "source": [
    "These matrices are invariant under transformation by the group representations"
   ]
  },
  {
   "cell_type": "code",
   "execution_count": 5,
   "id": "49f24154",
   "metadata": {
    "execution": {
     "iopub.execute_input": "2021-07-29T16:54:52.423082Z",
     "iopub.status.busy": "2021-07-29T16:54:52.422794Z",
     "iopub.status.idle": "2021-07-29T16:54:52.432546Z",
     "shell.execute_reply": "2021-07-29T16:54:52.432264Z"
    }
   },
   "outputs": [
    {
     "name": "stdout",
     "output_type": "stream",
     "text": [
      "groupEl =\r\n",
      "\r\n",
      "   0   1   0   0   0\r\n",
      "   1   0   0   0   0\r\n",
      "   0   0   0   0   1\r\n",
      "   0   0   1   0   0\r\n",
      "   0   0   0   1   0\r\n",
      "\r\n"
     ]
    }
   ],
   "source": [
    "groupEl = rep.sample"
   ]
  },
  {
   "cell_type": "code",
   "execution_count": 6,
   "id": "dee0a2a8",
   "metadata": {
    "execution": {
     "iopub.execute_input": "2021-07-29T16:54:52.434408Z",
     "iopub.status.busy": "2021-07-29T16:54:52.434128Z",
     "iopub.status.idle": "2021-07-29T16:54:52.442257Z",
     "shell.execute_reply": "2021-07-29T16:54:52.441980Z"
    },
    "lines_to_next_cell": 2
   },
   "outputs": [
    {
     "name": "stdout",
     "output_type": "stream",
     "text": [
      "ans =\r\n",
      "\r\n",
      "   1.821008  -0.444530   0.377535   0.377535   0.377535\r\n",
      "  -0.444530   1.821008   0.377535   0.377535   0.377535\r\n",
      "   0.299893   0.299893   0.279681   0.968707  -0.067317\r\n",
      "   0.299893   0.299893  -0.067317   0.279681   0.968707\r\n",
      "   0.299893   0.299893   0.968707  -0.067317   0.279681\r\n",
      "\r\n"
     ]
    }
   ],
   "source": [
    "groupEl*commEl*groupEl'"
   ]
  }
 ],
 "metadata": {
  "jupytext": {
   "cell_metadata_filter": "-all",
   "main_language": "matlab",
   "notebook_metadata_filter": "-all",
   "text_representation": {
    "extension": ".m",
    "format_name": "light"
   }
  },
  "language_info": {
   "file_extension": ".m",
   "help_links": [
    {
     "text": "GNU Octave",
     "url": "https://www.gnu.org/software/octave/support.html"
    },
    {
     "text": "Octave Kernel",
     "url": "https://github.com/Calysto/octave_kernel"
    },
    {
     "text": "MetaKernel Magics",
     "url": "https://metakernel.readthedocs.io/en/latest/source/README.html"
    }
   ],
   "mimetype": "text/x-octave",
   "name": "octave",
   "version": "6.2.0"
  }
 },
 "nbformat": 4,
 "nbformat_minor": 5
}
