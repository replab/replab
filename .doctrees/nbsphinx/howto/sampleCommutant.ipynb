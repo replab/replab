{
 "cells": [
  {
   "cell_type": "markdown",
   "id": "357ba005",
   "metadata": {},
   "source": [
    "# Sampling the commutant of a representation\n",
    "\n",
    "This document shows how to sample the commutant of a representation in *RepLAB*.\n",
    "\n",
    "## Preparation\n",
    "As always, before using *RepLAB* commands, initialize the library:"
   ]
  },
  {
   "cell_type": "code",
   "execution_count": 1,
   "id": "2b11c43b",
   "metadata": {
    "execution": {
     "iopub.execute_input": "2021-07-30T06:53:34.160936Z",
     "iopub.status.busy": "2021-07-30T06:53:34.159076Z",
     "iopub.status.idle": "2021-07-30T06:53:40.721931Z",
     "shell.execute_reply": "2021-07-30T06:53:40.721387Z"
    }
   },
   "outputs": [],
   "source": [
    "addpath([pwd, '/../..']);\n",
    "replab_init('verbose', 0);"
   ]
  },
  {
   "cell_type": "markdown",
   "id": "905d8bb3",
   "metadata": {},
   "source": [
    "## Definition of the commutant\n",
    "\n",
    "Consider a group representation"
   ]
  },
  {
   "cell_type": "code",
   "execution_count": 2,
   "id": "94465ec4",
   "metadata": {
    "execution": {
     "iopub.execute_input": "2021-07-30T06:53:40.724893Z",
     "iopub.status.busy": "2021-07-30T06:53:40.724367Z",
     "iopub.status.idle": "2021-07-30T06:53:44.291156Z",
     "shell.execute_reply": "2021-07-30T06:53:44.290683Z"
    }
   },
   "outputs": [
    {
     "name": "stdout",
     "output_type": "stream",
     "text": [
      "group ="
     ]
    },
    {
     "name": "stdout",
     "output_type": "stream",
     "text": [
      "\r"
     ]
    },
    {
     "name": "stdout",
     "output_type": "stream",
     "text": [
      "\n"
     ]
    },
    {
     "name": "stdout",
     "output_type": "stream",
     "text": [
      "\r\n",
      "Permutation group acting on 5 elements of order 6\r\n",
      "            identity: [1, 2, 3, 4, 5]\r\n",
      "generator(1 or 'x1'): [2, 1, 4, 5, 3]\r\n",
      "    recognize.source: Cyclic group C(6) of order 6 < x | x^6 = 1 >\r\n",
      "\r\n"
     ]
    },
    {
     "name": "stdout",
     "output_type": "stream",
     "text": [
      "rep ="
     ]
    },
    {
     "name": "stdout",
     "output_type": "stream",
     "text": [
      "\r"
     ]
    },
    {
     "name": "stdout",
     "output_type": "stream",
     "text": [
      "\n"
     ]
    },
    {
     "name": "stdout",
     "output_type": "stream",
     "text": [
      "\r\n",
      "Orthogonal reducible representation\r\n",
      "          dimension: 5\r\n",
      "divisionAlgebraName: []\r\n",
      "              field: 'R'\r\n",
      "              group: Permutation group acting on 5 elements of order 6\r\n",
      "   imagesErrorBound: 0\r\n",
      "          isUnitary: true\r\n",
      "           morphism: replab.mrp.PermToFiniteGroup\r\n",
      "       preimages{1}: [2, 1, 4, 5, 3]\r\n",
      "          images{1}: 5 x 5 double\r\n",
      "\r\n"
     ]
    }
   ],
   "source": [
    "S5 = replab.S(5);\n",
    "group = S5.subgroup({[2 1 4 5 3]})\n",
    "rep = group.naturalRep"
   ]
  },
  {
   "cell_type": "markdown",
   "id": "a2e2bc22",
   "metadata": {},
   "source": [
    "The commutant is obtained with the command"
   ]
  },
  {
   "cell_type": "code",
   "execution_count": 3,
   "id": "ffce238b",
   "metadata": {
    "execution": {
     "iopub.execute_input": "2021-07-30T06:53:44.294066Z",
     "iopub.status.busy": "2021-07-30T06:53:44.293583Z",
     "iopub.status.idle": "2021-07-30T06:53:44.360554Z",
     "shell.execute_reply": "2021-07-30T06:53:44.360990Z"
    }
   },
   "outputs": [
    {
     "name": "stdout",
     "output_type": "stream",
     "text": [
      "comm =\r\n",
      "\r\n",
      "5 x 5 commutant matrices over R\r\n",
      "     field: 'R'\r\n",
      "     group: Permutation group acting on 5 elements of order 6\r\n",
      "   imagesC: {[2, 1, 4, 5, 3; 0, 0, 0, 0, 0]}\r\n",
      "   imagesR: {[2, 1, 4, 5, 3; 0, 0, 0, 0, 0]}\r\n",
      "        nC: 5\r\n",
      "        nR: 5\r\n",
      "phaseOrder: 1\r\n",
      "      repC: Orthogonal reducible representation\r\n",
      "      repR: Orthogonal reducible representation\r\n",
      "   special: 'commutant'\r\n",
      "\r\n"
     ]
    }
   ],
   "source": [
    "comm = rep.commutant"
   ]
  },
  {
   "cell_type": "markdown",
   "id": "ad879437",
   "metadata": {},
   "source": [
    "## Sampling the commutant\n",
    "\n",
    "Elements of the commutant can then be sampled"
   ]
  },
  {
   "cell_type": "code",
   "execution_count": 4,
   "id": "6ad4dc4c",
   "metadata": {
    "execution": {
     "iopub.execute_input": "2021-07-30T06:53:44.363957Z",
     "iopub.status.busy": "2021-07-30T06:53:44.363490Z",
     "iopub.status.idle": "2021-07-30T06:53:44.385863Z",
     "shell.execute_reply": "2021-07-30T06:53:44.385409Z"
    }
   },
   "outputs": [
    {
     "name": "stdout",
     "output_type": "stream",
     "text": [
      "commEl =\r\n",
      "\r\n",
      "   0.8010  -0.7458  -0.7336  -0.7336  -0.7336\r\n",
      "  -0.7458   0.8010  -0.7336  -0.7336  -0.7336\r\n",
      "  -0.3787  -0.3787  -0.1800   0.6691   0.3905\r\n",
      "  -0.3787  -0.3787   0.3905  -0.1800   0.6691\r\n",
      "  -0.3787  -0.3787   0.6691   0.3905  -0.1800\r\n",
      "\r\n"
     ]
    }
   ],
   "source": [
    "commEl = comm.sample"
   ]
  },
  {
   "cell_type": "markdown",
   "id": "6184cd63",
   "metadata": {},
   "source": [
    "These matrices are invariant under transformation by the group representations"
   ]
  },
  {
   "cell_type": "code",
   "execution_count": 5,
   "id": "56275cd1",
   "metadata": {
    "execution": {
     "iopub.execute_input": "2021-07-30T06:53:44.389021Z",
     "iopub.status.busy": "2021-07-30T06:53:44.388174Z",
     "iopub.status.idle": "2021-07-30T06:53:44.404447Z",
     "shell.execute_reply": "2021-07-30T06:53:44.404045Z"
    }
   },
   "outputs": [
    {
     "name": "stdout",
     "output_type": "stream",
     "text": [
      "groupEl =\r\n",
      "\r\n",
      "   1   0   0   0   0\r\n",
      "   0   1   0   0   0\r\n",
      "   0   0   1   0   0\r\n",
      "   0   0   0   1   0\r\n",
      "   0   0   0   0   1\r\n",
      "\r\n"
     ]
    }
   ],
   "source": [
    "groupEl = rep.sample"
   ]
  },
  {
   "cell_type": "code",
   "execution_count": 6,
   "id": "6651dd1a",
   "metadata": {
    "execution": {
     "iopub.execute_input": "2021-07-30T06:53:44.406980Z",
     "iopub.status.busy": "2021-07-30T06:53:44.406503Z",
     "iopub.status.idle": "2021-07-30T06:53:44.419737Z",
     "shell.execute_reply": "2021-07-30T06:53:44.419325Z"
    },
    "lines_to_next_cell": 2
   },
   "outputs": [
    {
     "name": "stdout",
     "output_type": "stream",
     "text": [
      "ans =\r\n",
      "\r\n",
      "   0.8010  -0.7458  -0.7336  -0.7336  -0.7336\r\n",
      "  -0.7458   0.8010  -0.7336  -0.7336  -0.7336\r\n",
      "  -0.3787  -0.3787  -0.1800   0.6691   0.3905\r\n",
      "  -0.3787  -0.3787   0.3905  -0.1800   0.6691\r\n",
      "  -0.3787  -0.3787   0.6691   0.3905  -0.1800\r\n",
      "\r\n"
     ]
    }
   ],
   "source": [
    "groupEl*commEl*groupEl'"
   ]
  }
 ],
 "metadata": {
  "jupytext": {
   "cell_metadata_filter": "-all",
   "main_language": "matlab",
   "notebook_metadata_filter": "-all",
   "text_representation": {
    "extension": ".m",
    "format_name": "light"
   }
  },
  "language_info": {
   "file_extension": ".m",
   "help_links": [
    {
     "text": "GNU Octave",
     "url": "https://www.gnu.org/software/octave/support.html"
    },
    {
     "text": "Octave Kernel",
     "url": "https://github.com/Calysto/octave_kernel"
    },
    {
     "text": "MetaKernel Magics",
     "url": "https://metakernel.readthedocs.io/en/latest/source/README.html"
    }
   ],
   "mimetype": "text/x-octave",
   "name": "octave",
   "version": "6.2.0"
  }
 },
 "nbformat": 4,
 "nbformat_minor": 5
}
