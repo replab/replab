{
 "cells": [
  {
   "cell_type": "markdown",
   "id": "a930c68e",
   "metadata": {},
   "source": [
    "# Sampling the commutant of a representation\n",
    "\n",
    "This document shows how to sample the commutant of a representation in *RepLAB*.\n",
    "\n",
    "## Preparation\n",
    "As always, before using *RepLAB* commands, initialize the library:"
   ]
  },
  {
   "cell_type": "code",
   "execution_count": 1,
   "id": "80048a2b",
   "metadata": {
    "execution": {
     "iopub.execute_input": "2021-07-29T16:41:25.053533Z",
     "iopub.status.busy": "2021-07-29T16:41:25.053211Z",
     "iopub.status.idle": "2021-07-29T16:41:29.532431Z",
     "shell.execute_reply": "2021-07-29T16:41:29.531749Z"
    }
   },
   "outputs": [],
   "source": [
    "addpath([pwd, '/../..']);\n",
    "replab_init('verbose', 0);"
   ]
  },
  {
   "cell_type": "markdown",
   "id": "8b960310",
   "metadata": {},
   "source": [
    "## Definition of the commutant\n",
    "\n",
    "Consider a group representation"
   ]
  },
  {
   "cell_type": "code",
   "execution_count": 2,
   "id": "ba12a11a",
   "metadata": {
    "execution": {
     "iopub.execute_input": "2021-07-29T16:41:29.535454Z",
     "iopub.status.busy": "2021-07-29T16:41:29.534895Z",
     "iopub.status.idle": "2021-07-29T16:41:32.412327Z",
     "shell.execute_reply": "2021-07-29T16:41:32.412591Z"
    }
   },
   "outputs": [
    {
     "name": "stdout",
     "output_type": "stream",
     "text": [
      "group ="
     ]
    },
    {
     "name": "stdout",
     "output_type": "stream",
     "text": [
      "\r"
     ]
    },
    {
     "name": "stdout",
     "output_type": "stream",
     "text": [
      "\n"
     ]
    },
    {
     "name": "stdout",
     "output_type": "stream",
     "text": [
      "\r\n",
      "Permutation group acting on 5 elements of order 6\r\n",
      "            identity: [1, 2, 3, 4, 5]\r\n",
      "generator(1 or 'x1'): [2, 1, 4, 5, 3]\r\n",
      "    recognize.source: Cyclic group C(6) of order 6 < x | x^6 = 1 >\r\n",
      "\r\n"
     ]
    },
    {
     "name": "stdout",
     "output_type": "stream",
     "text": [
      "rep ="
     ]
    },
    {
     "name": "stdout",
     "output_type": "stream",
     "text": [
      "\r"
     ]
    },
    {
     "name": "stdout",
     "output_type": "stream",
     "text": [
      "\n"
     ]
    },
    {
     "name": "stdout",
     "output_type": "stream",
     "text": [
      "\r\n",
      "Orthogonal reducible representation\r\n",
      "          dimension: 5\r\n",
      "divisionAlgebraName: []\r\n",
      "              field: 'R'\r\n",
      "              group: Permutation group acting on 5 elements of order 6\r\n",
      "   imagesErrorBound: 0\r\n",
      "          isUnitary: true\r\n",
      "           morphism: replab.mrp.PermToFiniteGroup\r\n",
      "       preimages{1}: [2, 1, 4, 5, 3]\r\n",
      "          images{1}: 5 x 5 double\r\n",
      "\r\n"
     ]
    }
   ],
   "source": [
    "S5 = replab.S(5);\n",
    "group = S5.subgroup({[2 1 4 5 3]})\n",
    "rep = group.naturalRep"
   ]
  },
  {
   "cell_type": "markdown",
   "id": "b62f4fc2",
   "metadata": {},
   "source": [
    "The commutant is obtained with the command"
   ]
  },
  {
   "cell_type": "code",
   "execution_count": 3,
   "id": "46ac81ab",
   "metadata": {
    "execution": {
     "iopub.execute_input": "2021-07-29T16:41:32.414679Z",
     "iopub.status.busy": "2021-07-29T16:41:32.414372Z",
     "iopub.status.idle": "2021-07-29T16:41:32.459846Z",
     "shell.execute_reply": "2021-07-29T16:41:32.459550Z"
    }
   },
   "outputs": [
    {
     "name": "stdout",
     "output_type": "stream",
     "text": [
      "comm =\r\n",
      "\r\n",
      "5 x 5 commutant matrices over R\r\n",
      "     field: 'R'\r\n",
      "     group: Permutation group acting on 5 elements of order 6\r\n",
      "   imagesC: {[2, 1, 4, 5, 3; 0, 0, 0, 0, 0]}\r\n",
      "   imagesR: {[2, 1, 4, 5, 3; 0, 0, 0, 0, 0]}\r\n",
      "        nC: 5\r\n",
      "        nR: 5\r\n",
      "phaseOrder: 1\r\n",
      "      repC: Orthogonal reducible representation\r\n",
      "      repR: Orthogonal reducible representation\r\n",
      "   special: 'commutant'\r\n",
      "\r\n"
     ]
    }
   ],
   "source": [
    "comm = rep.commutant"
   ]
  },
  {
   "cell_type": "markdown",
   "id": "66cada7c",
   "metadata": {},
   "source": [
    "## Sampling the commutant\n",
    "\n",
    "Elements of the commutant can then be sampled"
   ]
  },
  {
   "cell_type": "code",
   "execution_count": 4,
   "id": "67da0648",
   "metadata": {
    "execution": {
     "iopub.execute_input": "2021-07-29T16:41:32.461695Z",
     "iopub.status.busy": "2021-07-29T16:41:32.461366Z",
     "iopub.status.idle": "2021-07-29T16:41:32.478910Z",
     "shell.execute_reply": "2021-07-29T16:41:32.478595Z"
    }
   },
   "outputs": [
    {
     "name": "stdout",
     "output_type": "stream",
     "text": [
      "commEl =\r\n",
      "\r\n",
      "  -0.3266   0.2579  -0.2634  -0.2634  -0.2634\r\n",
      "   0.2579  -0.3266  -0.2634  -0.2634  -0.2634\r\n",
      "   0.2493   0.2493   0.5378   0.5810   0.4776\r\n",
      "   0.2493   0.2493   0.4776   0.5378   0.5810\r\n",
      "   0.2493   0.2493   0.5810   0.4776   0.5378\r\n",
      "\r\n"
     ]
    }
   ],
   "source": [
    "commEl = comm.sample"
   ]
  },
  {
   "cell_type": "markdown",
   "id": "54e0252b",
   "metadata": {},
   "source": [
    "These matrices are invariant under transformation by the group representations"
   ]
  },
  {
   "cell_type": "code",
   "execution_count": 5,
   "id": "39b633a3",
   "metadata": {
    "execution": {
     "iopub.execute_input": "2021-07-29T16:41:32.481086Z",
     "iopub.status.busy": "2021-07-29T16:41:32.480764Z",
     "iopub.status.idle": "2021-07-29T16:41:32.493396Z",
     "shell.execute_reply": "2021-07-29T16:41:32.493112Z"
    }
   },
   "outputs": [
    {
     "name": "stdout",
     "output_type": "stream",
     "text": [
      "groupEl =\r\n",
      "\r\n",
      "   0   1   0   0   0\r\n",
      "   1   0   0   0   0\r\n",
      "   0   0   0   1   0\r\n",
      "   0   0   0   0   1\r\n",
      "   0   0   1   0   0\r\n",
      "\r\n"
     ]
    }
   ],
   "source": [
    "groupEl = rep.sample"
   ]
  },
  {
   "cell_type": "code",
   "execution_count": 6,
   "id": "dab48afe",
   "metadata": {
    "execution": {
     "iopub.execute_input": "2021-07-29T16:41:32.495272Z",
     "iopub.status.busy": "2021-07-29T16:41:32.494962Z",
     "iopub.status.idle": "2021-07-29T16:41:32.505672Z",
     "shell.execute_reply": "2021-07-29T16:41:32.505382Z"
    },
    "lines_to_next_cell": 2
   },
   "outputs": [
    {
     "name": "stdout",
     "output_type": "stream",
     "text": [
      "ans =\r\n",
      "\r\n",
      "  -0.3266   0.2579  -0.2634  -0.2634  -0.2634\r\n",
      "   0.2579  -0.3266  -0.2634  -0.2634  -0.2634\r\n",
      "   0.2493   0.2493   0.5378   0.5810   0.4776\r\n",
      "   0.2493   0.2493   0.4776   0.5378   0.5810\r\n",
      "   0.2493   0.2493   0.5810   0.4776   0.5378\r\n",
      "\r\n"
     ]
    }
   ],
   "source": [
    "groupEl*commEl*groupEl'"
   ]
  }
 ],
 "metadata": {
  "jupytext": {
   "cell_metadata_filter": "-all",
   "main_language": "matlab",
   "notebook_metadata_filter": "-all",
   "text_representation": {
    "extension": ".m",
    "format_name": "light"
   }
  },
  "language_info": {
   "file_extension": ".m",
   "help_links": [
    {
     "text": "GNU Octave",
     "url": "https://www.gnu.org/software/octave/support.html"
    },
    {
     "text": "Octave Kernel",
     "url": "https://github.com/Calysto/octave_kernel"
    },
    {
     "text": "MetaKernel Magics",
     "url": "https://metakernel.readthedocs.io/en/latest/source/README.html"
    }
   ],
   "mimetype": "text/x-octave",
   "name": "octave",
   "version": "6.2.0"
  }
 },
 "nbformat": 4,
 "nbformat_minor": 5
}
