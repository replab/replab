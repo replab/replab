{
 "cells": [
  {
   "cell_type": "markdown",
   "id": "8abe3af6",
   "metadata": {},
   "source": [
    "# Vector Stabilizer group\n",
    "\n",
    "This document illustrated how to define groups which leave a vector invariant in *RepLAB*.\n",
    "\n",
    "## Preparation\n",
    "As always, before using *RepLAB* commands, initialize the library:"
   ]
  },
  {
   "cell_type": "code",
   "execution_count": 1,
   "id": "f8f112bd",
   "metadata": {
    "execution": {
     "iopub.execute_input": "2021-09-08T14:52:28.698934Z",
     "iopub.status.busy": "2021-09-08T14:52:28.698473Z",
     "iopub.status.idle": "2021-09-08T14:52:34.617294Z",
     "shell.execute_reply": "2021-09-08T14:52:34.617687Z"
    }
   },
   "outputs": [],
   "source": [
    "addpath([pwd, '/../..']);\n",
    "replab_init('verbose', 0);"
   ]
  },
  {
   "cell_type": "markdown",
   "id": "022169c0",
   "metadata": {},
   "source": [
    "## Vector stabilizer group\n",
    "\n",
    "Given a vector"
   ]
  },
  {
   "cell_type": "code",
   "execution_count": 2,
   "id": "cc48f94f",
   "metadata": {
    "execution": {
     "iopub.execute_input": "2021-09-08T14:52:34.621161Z",
     "iopub.status.busy": "2021-09-08T14:52:34.620212Z",
     "iopub.status.idle": "2021-09-08T14:52:34.632768Z",
     "shell.execute_reply": "2021-09-08T14:52:34.633109Z"
    }
   },
   "outputs": [],
   "source": [
    "v = [3 2 3 1 2 5 4];"
   ]
  },
  {
   "cell_type": "markdown",
   "id": "029e96d4",
   "metadata": {},
   "source": [
    "in $\\mathbb{R}^7$, the most general group acting on the components which leaves the vector invariant can be obtained by first defining the general group permuting all possible components"
   ]
  },
  {
   "cell_type": "code",
   "execution_count": 3,
   "id": "44cb87b1",
   "metadata": {
    "execution": {
     "iopub.execute_input": "2021-09-08T14:52:34.635798Z",
     "iopub.status.busy": "2021-09-08T14:52:34.635377Z",
     "iopub.status.idle": "2021-09-08T14:52:34.787591Z",
     "shell.execute_reply": "2021-09-08T14:52:34.787207Z"
    }
   },
   "outputs": [
    {
     "name": "stdout",
     "output_type": "stream",
     "text": [
      "S7 ="
     ]
    },
    {
     "name": "stdout",
     "output_type": "stream",
     "text": [
      "\r"
     ]
    },
    {
     "name": "stdout",
     "output_type": "stream",
     "text": [
      "\n"
     ]
    },
    {
     "name": "stdout",
     "output_type": "stream",
     "text": [
      "\r\n",
      "Symmetric group acting on 7 elements\r\n",
      "            identity: [1, 2, 3, 4, 5, 6, 7]\r\n",
      "generator(1 or 'x1'): [2, 3, 4, 5, 6, 7, 1]\r\n",
      "generator(2 or 'x2'): [2, 1, 3, 4, 5, 6, 7]\r\n",
      "\r\n"
     ]
    }
   ],
   "source": [
    "S7 = replab.S(7)"
   ]
  },
  {
   "cell_type": "markdown",
   "id": "3ee86a98",
   "metadata": {},
   "source": [
    "and then asking for its stabilization over the vector"
   ]
  },
  {
   "cell_type": "code",
   "execution_count": 4,
   "id": "a0aab540",
   "metadata": {
    "execution": {
     "iopub.execute_input": "2021-09-08T14:52:34.790328Z",
     "iopub.status.busy": "2021-09-08T14:52:34.789862Z",
     "iopub.status.idle": "2021-09-08T14:52:39.054733Z",
     "shell.execute_reply": "2021-09-08T14:52:39.055065Z"
    }
   },
   "outputs": [
    {
     "name": "stdout",
     "output_type": "stream",
     "text": [
      "Gv ="
     ]
    },
    {
     "name": "stdout",
     "output_type": "stream",
     "text": [
      "\r"
     ]
    },
    {
     "name": "stdout",
     "output_type": "stream",
     "text": [
      "\n"
     ]
    },
    {
     "name": "stdout",
     "output_type": "stream",
     "text": [
      "\r\n",
      "Permutation group acting on 7 elements of order 4\r\n",
      "            identity: [1, 2, 3, 4, 5, 6, 7]\r\n",
      "generator(1 or 'x1'): [3, 2, 1, 4, 5, 6, 7]\r\n",
      "generator(2 or 'x2'): [1, 5, 3, 4, 2, 6, 7]\r\n",
      "    recognize.source: Klein four-group < a, x | a^2 = x^2 = x a x^-1 a^-1 = 1 >\r\n",
      "\r\n"
     ]
    }
   ],
   "source": [
    "Gv = S7.vectorStabilizer(v)"
   ]
  },
  {
   "cell_type": "markdown",
   "id": "728909bd",
   "metadata": {},
   "source": [
    "This group G1 contains all 4 permutations which leave the vector v invariant:"
   ]
  },
  {
   "cell_type": "code",
   "execution_count": 5,
   "id": "3321f18d",
   "metadata": {
    "execution": {
     "iopub.execute_input": "2021-09-08T14:52:39.057863Z",
     "iopub.status.busy": "2021-09-08T14:52:39.057448Z",
     "iopub.status.idle": "2021-09-08T14:52:39.103722Z",
     "shell.execute_reply": "2021-09-08T14:52:39.103280Z"
    }
   },
   "outputs": [
    {
     "name": "stdout",
     "output_type": "stream",
     "text": [
      "ans =\r\n",
      "{\r\n",
      "  [1,1] =\r\n",
      "\r\n",
      "     1   2   3   4   5   6   7\r\n",
      "\r\n",
      "  [1,2] =\r\n",
      "\r\n",
      "     1   5   3   4   2   6   7\r\n",
      "\r\n",
      "  [1,3] =\r\n",
      "\r\n",
      "     3   2   1   4   5   6   7\r\n",
      "\r\n",
      "  [1,4] =\r\n",
      "\r\n",
      "     3   5   1   4   2   6   7\r\n",
      "\r\n",
      "}\r\n",
      "\r\n"
     ]
    }
   ],
   "source": [
    "Gv.elements"
   ]
  },
  {
   "cell_type": "markdown",
   "id": "80cbbb3f",
   "metadata": {},
   "source": [
    "## Vector stabilization over a specific group\n",
    "\n",
    "Alternatively, it is possible to identify all the permutations which leave a vector invariant and which belong to a specific group. This is achieved by first defining the group of interest, for instance"
   ]
  },
  {
   "cell_type": "code",
   "execution_count": 6,
   "id": "1fb0b117",
   "metadata": {
    "execution": {
     "iopub.execute_input": "2021-09-08T14:52:39.106435Z",
     "iopub.status.busy": "2021-09-08T14:52:39.106012Z",
     "iopub.status.idle": "2021-09-08T14:52:42.348062Z",
     "shell.execute_reply": "2021-09-08T14:52:42.347287Z"
    }
   },
   "outputs": [
    {
     "name": "stdout",
     "output_type": "stream",
     "text": [
      "G1 ="
     ]
    },
    {
     "name": "stdout",
     "output_type": "stream",
     "text": [
      "\r"
     ]
    },
    {
     "name": "stdout",
     "output_type": "stream",
     "text": [
      "\n"
     ]
    },
    {
     "name": "stdout",
     "output_type": "stream",
     "text": [
      "\r\n",
      "Permutation group acting on 7 elements of order 6\r\n",
      "            identity: [1, 2, 3, 4, 5, 6, 7]\r\n",
      "generator(1 or 'x1'): [2, 1, 3, 4, 5, 6, 7]\r\n",
      "generator(2 or 'x2'): [2, 3, 1, 4, 5, 6, 7]\r\n",
      "    recognize.source: Dihedral group of order 6\r\n",
      "\r\n"
     ]
    }
   ],
   "source": [
    "G1 = replab.PermutationGroup.of([2 1 3:7], [2 3 1 4:7])"
   ]
  },
  {
   "cell_type": "markdown",
   "id": "2e7b6d1d",
   "metadata": {},
   "source": [
    "and then stabilize this group over the vector"
   ]
  },
  {
   "cell_type": "code",
   "execution_count": 7,
   "id": "43e59294",
   "metadata": {
    "execution": {
     "iopub.execute_input": "2021-09-08T14:52:42.350820Z",
     "iopub.status.busy": "2021-09-08T14:52:42.350390Z",
     "iopub.status.idle": "2021-09-08T14:52:43.362448Z",
     "shell.execute_reply": "2021-09-08T14:52:43.361713Z"
    }
   },
   "outputs": [
    {
     "name": "stdout",
     "output_type": "stream",
     "text": [
      "G1v ="
     ]
    },
    {
     "name": "stdout",
     "output_type": "stream",
     "text": [
      "\r"
     ]
    },
    {
     "name": "stdout",
     "output_type": "stream",
     "text": [
      "\n"
     ]
    },
    {
     "name": "stdout",
     "output_type": "stream",
     "text": [
      "\r\n",
      "Permutation group acting on 7 elements of order 2\r\n",
      "            identity: [1, 2, 3, 4, 5, 6, 7]\r\n",
      "generator(1 or 'x1'): [3, 2, 1, 4, 5, 6, 7]\r\n",
      "    recognize.source: Cyclic group C(2) of order 2 < x | x^2 = 1 >\r\n",
      "\r\n"
     ]
    }
   ],
   "source": [
    "G1v = G1.vectorStabilizer(v)"
   ]
  },
  {
   "cell_type": "markdown",
   "id": "69a135e5",
   "metadata": {},
   "source": [
    "This group only contains the two permutations of Gv which also belong to G1:"
   ]
  },
  {
   "cell_type": "code",
   "execution_count": 8,
   "id": "6a025f04",
   "metadata": {
    "execution": {
     "iopub.execute_input": "2021-09-08T14:52:43.365242Z",
     "iopub.status.busy": "2021-09-08T14:52:43.364823Z",
     "iopub.status.idle": "2021-09-08T14:52:43.395498Z",
     "shell.execute_reply": "2021-09-08T14:52:43.395874Z"
    },
    "lines_to_next_cell": 2
   },
   "outputs": [
    {
     "name": "stdout",
     "output_type": "stream",
     "text": [
      "ans =\r\n",
      "{\r\n",
      "  [1,1] =\r\n",
      "\r\n",
      "     1   2   3   4   5   6   7\r\n",
      "\r\n",
      "  [1,2] =\r\n",
      "\r\n",
      "     3   2   1   4   5   6   7\r\n",
      "\r\n",
      "}\r\n",
      "\r\n"
     ]
    }
   ],
   "source": [
    "G1v.elements"
   ]
  }
 ],
 "metadata": {
  "jupytext": {
   "cell_metadata_filter": "-all",
   "main_language": "matlab",
   "notebook_metadata_filter": "-all",
   "text_representation": {
    "extension": ".m",
    "format_name": "light"
   }
  },
  "language_info": {
   "file_extension": ".m",
   "help_links": [
    {
     "text": "GNU Octave",
     "url": "https://www.gnu.org/software/octave/support.html"
    },
    {
     "text": "Octave Kernel",
     "url": "https://github.com/Calysto/octave_kernel"
    },
    {
     "text": "MetaKernel Magics",
     "url": "https://metakernel.readthedocs.io/en/latest/source/README.html"
    }
   ],
   "mimetype": "text/x-octave",
   "name": "octave",
   "version": "6.2.0"
  }
 },
 "nbformat": 4,
 "nbformat_minor": 5
}
