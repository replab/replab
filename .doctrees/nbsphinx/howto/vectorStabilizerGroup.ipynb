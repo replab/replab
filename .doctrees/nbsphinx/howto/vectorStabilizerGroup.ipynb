{
 "cells": [
  {
   "cell_type": "markdown",
   "id": "cbcef5db",
   "metadata": {},
   "source": [
    "# Vector Stabilizer group\n",
    "\n",
    "This document illustrated how to define groups which leave a vector invariant in *RepLAB*.\n",
    "\n",
    "## Preparation\n",
    "As always, before using *RepLAB* commands, initialize the library:"
   ]
  },
  {
   "cell_type": "code",
   "execution_count": 1,
   "id": "a9e46034",
   "metadata": {
    "execution": {
     "iopub.execute_input": "2021-07-30T06:54:00.484798Z",
     "iopub.status.busy": "2021-07-30T06:54:00.482309Z",
     "iopub.status.idle": "2021-07-30T06:54:07.078490Z",
     "shell.execute_reply": "2021-07-30T06:54:07.077454Z"
    }
   },
   "outputs": [],
   "source": [
    "addpath([pwd, '/../..']);\n",
    "replab_init('verbose', 0);"
   ]
  },
  {
   "cell_type": "markdown",
   "id": "e4b69397",
   "metadata": {},
   "source": [
    "## Vector stabilizer group\n",
    "\n",
    "Given a vector"
   ]
  },
  {
   "cell_type": "code",
   "execution_count": 2,
   "id": "a19d8ef0",
   "metadata": {
    "execution": {
     "iopub.execute_input": "2021-07-30T06:54:07.081762Z",
     "iopub.status.busy": "2021-07-30T06:54:07.081263Z",
     "iopub.status.idle": "2021-07-30T06:54:07.094719Z",
     "shell.execute_reply": "2021-07-30T06:54:07.095074Z"
    }
   },
   "outputs": [],
   "source": [
    "v = [3 2 3 1 2 5 4];"
   ]
  },
  {
   "cell_type": "markdown",
   "id": "0ce81da8",
   "metadata": {},
   "source": [
    "in $\\mathbb{R}^7$, the most general group acting on the components which leaves the vector invariant can be obtained by first defining the general group permuting all possible components"
   ]
  },
  {
   "cell_type": "code",
   "execution_count": 3,
   "id": "c7eaa837",
   "metadata": {
    "execution": {
     "iopub.execute_input": "2021-07-30T06:54:07.097998Z",
     "iopub.status.busy": "2021-07-30T06:54:07.097504Z",
     "iopub.status.idle": "2021-07-30T06:54:07.271832Z",
     "shell.execute_reply": "2021-07-30T06:54:07.271304Z"
    }
   },
   "outputs": [
    {
     "name": "stdout",
     "output_type": "stream",
     "text": [
      "S7 ="
     ]
    },
    {
     "name": "stdout",
     "output_type": "stream",
     "text": [
      "\r"
     ]
    },
    {
     "name": "stdout",
     "output_type": "stream",
     "text": [
      "\n"
     ]
    },
    {
     "name": "stdout",
     "output_type": "stream",
     "text": [
      "\r\n",
      "Symmetric group acting on 7 elements\r\n",
      "            identity: [1, 2, 3, 4, 5, 6, 7]\r\n",
      "generator(1 or 'x1'): [2, 3, 4, 5, 6, 7, 1]\r\n",
      "generator(2 or 'x2'): [2, 1, 3, 4, 5, 6, 7]\r\n",
      "\r\n"
     ]
    }
   ],
   "source": [
    "S7 = replab.S(7)"
   ]
  },
  {
   "cell_type": "markdown",
   "id": "625308b2",
   "metadata": {},
   "source": [
    "and then asking for its stabilization over the vector"
   ]
  },
  {
   "cell_type": "code",
   "execution_count": 4,
   "id": "401b45fb",
   "metadata": {
    "execution": {
     "iopub.execute_input": "2021-07-30T06:54:07.275007Z",
     "iopub.status.busy": "2021-07-30T06:54:07.274559Z",
     "iopub.status.idle": "2021-07-30T06:54:12.102700Z",
     "shell.execute_reply": "2021-07-30T06:54:12.102224Z"
    }
   },
   "outputs": [
    {
     "name": "stdout",
     "output_type": "stream",
     "text": [
      "Gv ="
     ]
    },
    {
     "name": "stdout",
     "output_type": "stream",
     "text": [
      "\r"
     ]
    },
    {
     "name": "stdout",
     "output_type": "stream",
     "text": [
      "\n"
     ]
    },
    {
     "name": "stdout",
     "output_type": "stream",
     "text": [
      "\r\n",
      "Permutation group acting on 7 elements of order 4\r\n",
      "            identity: [1, 2, 3, 4, 5, 6, 7]\r\n",
      "generator(1 or 'x1'): [3, 2, 1, 4, 5, 6, 7]\r\n",
      "generator(2 or 'x2'): [1, 5, 3, 4, 2, 6, 7]\r\n",
      "    recognize.source: Klein four-group < a, x | a^2 = x^2 = x a x^-1 a^-1 = 1 >\r\n",
      "\r\n"
     ]
    }
   ],
   "source": [
    "Gv = S7.vectorStabilizer(v)"
   ]
  },
  {
   "cell_type": "markdown",
   "id": "7de14b14",
   "metadata": {},
   "source": [
    "This group G1 contains all 4 permutations which leave the vector v invariant:"
   ]
  },
  {
   "cell_type": "code",
   "execution_count": 5,
   "id": "24687088",
   "metadata": {
    "execution": {
     "iopub.execute_input": "2021-07-30T06:54:12.106318Z",
     "iopub.status.busy": "2021-07-30T06:54:12.105477Z",
     "iopub.status.idle": "2021-07-30T06:54:12.187916Z",
     "shell.execute_reply": "2021-07-30T06:54:12.187462Z"
    }
   },
   "outputs": [
    {
     "name": "stdout",
     "output_type": "stream",
     "text": [
      "ans =\r\n",
      "\r\n",
      "Indexed family of 4 elements\r\n",
      "1 = [1, 2, 3, 4, 5, 6, 7]\r\n",
      "2 = [1, 5, 3, 4, 2, 6, 7]\r\n",
      "3 = [3, 2, 1, 4, 5, 6, 7]\r\n",
      "4 = [3, 5, 1, 4, 2, 6, 7]\r\n",
      "\r\n"
     ]
    }
   ],
   "source": [
    "Gv.elements"
   ]
  },
  {
   "cell_type": "markdown",
   "id": "e56ee008",
   "metadata": {},
   "source": [
    "## Vector stabilization over a specific group\n",
    "\n",
    "Alternatively, it is possible to identify all the permutations which leave a vector invariant and which belong to a specific group. This is achieved by first defining the group of interest, for instance"
   ]
  },
  {
   "cell_type": "code",
   "execution_count": 6,
   "id": "4d7394b7",
   "metadata": {
    "execution": {
     "iopub.execute_input": "2021-07-30T06:54:12.191029Z",
     "iopub.status.busy": "2021-07-30T06:54:12.190517Z",
     "iopub.status.idle": "2021-07-30T06:54:15.828208Z",
     "shell.execute_reply": "2021-07-30T06:54:15.827474Z"
    }
   },
   "outputs": [
    {
     "name": "stdout",
     "output_type": "stream",
     "text": [
      "G1 ="
     ]
    },
    {
     "name": "stdout",
     "output_type": "stream",
     "text": [
      "\r"
     ]
    },
    {
     "name": "stdout",
     "output_type": "stream",
     "text": [
      "\n"
     ]
    },
    {
     "name": "stdout",
     "output_type": "stream",
     "text": [
      "\r\n",
      "Permutation group acting on 7 elements of order 6\r\n",
      "            identity: [1, 2, 3, 4, 5, 6, 7]\r\n",
      "generator(1 or 'x1'): [2, 1, 3, 4, 5, 6, 7]\r\n",
      "generator(2 or 'x2'): [2, 3, 1, 4, 5, 6, 7]\r\n",
      "    recognize.source: Dihedral group of order 6\r\n",
      "\r\n"
     ]
    }
   ],
   "source": [
    "G1 = replab.PermutationGroup.of([2 1 3:7], [2 3 1 4:7])"
   ]
  },
  {
   "cell_type": "markdown",
   "id": "727daf08",
   "metadata": {},
   "source": [
    "and then stabilize this group over the vector"
   ]
  },
  {
   "cell_type": "code",
   "execution_count": 7,
   "id": "292e0fe5",
   "metadata": {
    "execution": {
     "iopub.execute_input": "2021-07-30T06:54:15.831217Z",
     "iopub.status.busy": "2021-07-30T06:54:15.830766Z",
     "iopub.status.idle": "2021-07-30T06:54:16.937447Z",
     "shell.execute_reply": "2021-07-30T06:54:16.937071Z"
    }
   },
   "outputs": [
    {
     "name": "stdout",
     "output_type": "stream",
     "text": [
      "G1v ="
     ]
    },
    {
     "name": "stdout",
     "output_type": "stream",
     "text": [
      "\r"
     ]
    },
    {
     "name": "stdout",
     "output_type": "stream",
     "text": [
      "\n"
     ]
    },
    {
     "name": "stdout",
     "output_type": "stream",
     "text": [
      "\r\n",
      "Permutation group acting on 7 elements of order 2\r\n",
      "            identity: [1, 2, 3, 4, 5, 6, 7]\r\n",
      "generator(1 or 'x1'): [3, 2, 1, 4, 5, 6, 7]\r\n",
      "    recognize.source: Cyclic group C(2) of order 2 < x | x^2 = 1 >\r\n",
      "\r\n"
     ]
    }
   ],
   "source": [
    "G1v = G1.vectorStabilizer(v)"
   ]
  },
  {
   "cell_type": "markdown",
   "id": "ae3f3968",
   "metadata": {},
   "source": [
    "This group only contains the two permutations of Gv which also belong to G1:"
   ]
  },
  {
   "cell_type": "code",
   "execution_count": 8,
   "id": "3de6699e",
   "metadata": {
    "execution": {
     "iopub.execute_input": "2021-07-30T06:54:16.940152Z",
     "iopub.status.busy": "2021-07-30T06:54:16.939672Z",
     "iopub.status.idle": "2021-07-30T06:54:16.987190Z",
     "shell.execute_reply": "2021-07-30T06:54:16.986794Z"
    },
    "lines_to_next_cell": 2
   },
   "outputs": [
    {
     "name": "stdout",
     "output_type": "stream",
     "text": [
      "ans =\r\n",
      "\r\n",
      "Indexed family of 2 elements\r\n",
      "1 = [1, 2, 3, 4, 5, 6, 7]\r\n",
      "2 = [3, 2, 1, 4, 5, 6, 7]\r\n",
      "\r\n"
     ]
    }
   ],
   "source": [
    "G1v.elements"
   ]
  }
 ],
 "metadata": {
  "jupytext": {
   "cell_metadata_filter": "-all",
   "main_language": "matlab",
   "notebook_metadata_filter": "-all",
   "text_representation": {
    "extension": ".m",
    "format_name": "light"
   }
  },
  "language_info": {
   "file_extension": ".m",
   "help_links": [
    {
     "text": "GNU Octave",
     "url": "https://www.gnu.org/software/octave/support.html"
    },
    {
     "text": "Octave Kernel",
     "url": "https://github.com/Calysto/octave_kernel"
    },
    {
     "text": "MetaKernel Magics",
     "url": "https://metakernel.readthedocs.io/en/latest/source/README.html"
    }
   ],
   "mimetype": "text/x-octave",
   "name": "octave",
   "version": "6.2.0"
  }
 },
 "nbformat": 4,
 "nbformat_minor": 5
}
