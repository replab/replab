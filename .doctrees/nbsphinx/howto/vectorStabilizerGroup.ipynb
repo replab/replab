{
 "cells": [
  {
   "cell_type": "markdown",
   "id": "818eaf8e",
   "metadata": {},
   "source": [
    "# Vector Stabilizer group\n",
    "\n",
    "This document illustrated how to define groups which leave a vector invariant in *RepLAB*.\n",
    "\n",
    "## Preparation\n",
    "As always, before using *RepLAB* commands, initialize the library:"
   ]
  },
  {
   "cell_type": "code",
   "execution_count": 1,
   "id": "9564330a",
   "metadata": {
    "execution": {
     "iopub.execute_input": "2021-08-03T13:40:43.560004Z",
     "iopub.status.busy": "2021-08-03T13:40:43.559471Z",
     "iopub.status.idle": "2021-08-03T13:40:50.879058Z",
     "shell.execute_reply": "2021-08-03T13:40:50.878387Z"
    }
   },
   "outputs": [],
   "source": [
    "addpath([pwd, '/../..']);\n",
    "replab_init('verbose', 0);"
   ]
  },
  {
   "cell_type": "markdown",
   "id": "11b635bf",
   "metadata": {},
   "source": [
    "## Vector stabilizer group\n",
    "\n",
    "Given a vector"
   ]
  },
  {
   "cell_type": "code",
   "execution_count": 2,
   "id": "171a3392",
   "metadata": {
    "execution": {
     "iopub.execute_input": "2021-08-03T13:40:50.882975Z",
     "iopub.status.busy": "2021-08-03T13:40:50.882408Z",
     "iopub.status.idle": "2021-08-03T13:40:50.895859Z",
     "shell.execute_reply": "2021-08-03T13:40:50.895246Z"
    }
   },
   "outputs": [],
   "source": [
    "v = [3 2 3 1 2 5 4];"
   ]
  },
  {
   "cell_type": "markdown",
   "id": "ed4a6a49",
   "metadata": {},
   "source": [
    "in $\\mathbb{R}^7$, the most general group acting on the components which leaves the vector invariant can be obtained by first defining the general group permuting all possible components"
   ]
  },
  {
   "cell_type": "code",
   "execution_count": 3,
   "id": "5a7d49b9",
   "metadata": {
    "execution": {
     "iopub.execute_input": "2021-08-03T13:40:50.899385Z",
     "iopub.status.busy": "2021-08-03T13:40:50.898795Z",
     "iopub.status.idle": "2021-08-03T13:40:51.123138Z",
     "shell.execute_reply": "2021-08-03T13:40:51.122742Z"
    }
   },
   "outputs": [
    {
     "name": "stdout",
     "output_type": "stream",
     "text": [
      "S7 ="
     ]
    },
    {
     "name": "stdout",
     "output_type": "stream",
     "text": [
      "\r"
     ]
    },
    {
     "name": "stdout",
     "output_type": "stream",
     "text": [
      "\n"
     ]
    },
    {
     "name": "stdout",
     "output_type": "stream",
     "text": [
      "\r\n",
      "Symmetric group acting on 7 elements\r\n",
      "            identity: [1, 2, 3, 4, 5, 6, 7]\r\n",
      "generator(1 or 'x1'): [2, 3, 4, 5, 6, 7, 1]\r\n",
      "generator(2 or 'x2'): [2, 1, 3, 4, 5, 6, 7]\r\n",
      "\r\n"
     ]
    }
   ],
   "source": [
    "S7 = replab.S(7)"
   ]
  },
  {
   "cell_type": "markdown",
   "id": "1532eb8f",
   "metadata": {},
   "source": [
    "and then asking for its stabilization over the vector"
   ]
  },
  {
   "cell_type": "code",
   "execution_count": 4,
   "id": "c827dfcd",
   "metadata": {
    "execution": {
     "iopub.execute_input": "2021-08-03T13:40:51.127135Z",
     "iopub.status.busy": "2021-08-03T13:40:51.126494Z",
     "iopub.status.idle": "2021-08-03T13:40:57.040885Z",
     "shell.execute_reply": "2021-08-03T13:40:57.039976Z"
    }
   },
   "outputs": [
    {
     "name": "stdout",
     "output_type": "stream",
     "text": [
      "Gv ="
     ]
    },
    {
     "name": "stdout",
     "output_type": "stream",
     "text": [
      "\r"
     ]
    },
    {
     "name": "stdout",
     "output_type": "stream",
     "text": [
      "\n"
     ]
    },
    {
     "name": "stdout",
     "output_type": "stream",
     "text": [
      "\r\n",
      "Permutation group acting on 7 elements of order 4\r\n",
      "            identity: [1, 2, 3, 4, 5, 6, 7]\r\n",
      "generator(1 or 'x1'): [3, 2, 1, 4, 5, 6, 7]\r\n",
      "generator(2 or 'x2'): [1, 5, 3, 4, 2, 6, 7]\r\n",
      "    recognize.source: Klein four-group < a, x | a^2 = x^2 = x a x^-1 a^-1 = 1 >\r\n",
      "\r\n"
     ]
    }
   ],
   "source": [
    "Gv = S7.vectorStabilizer(v)"
   ]
  },
  {
   "cell_type": "markdown",
   "id": "87d15bea",
   "metadata": {},
   "source": [
    "This group G1 contains all 4 permutations which leave the vector v invariant:"
   ]
  },
  {
   "cell_type": "code",
   "execution_count": 5,
   "id": "67b62d03",
   "metadata": {
    "execution": {
     "iopub.execute_input": "2021-08-03T13:40:57.043896Z",
     "iopub.status.busy": "2021-08-03T13:40:57.043361Z",
     "iopub.status.idle": "2021-08-03T13:40:57.142174Z",
     "shell.execute_reply": "2021-08-03T13:40:57.142581Z"
    }
   },
   "outputs": [
    {
     "name": "stdout",
     "output_type": "stream",
     "text": [
      "ans =\r\n",
      "\r\n",
      "Indexed family of 4 elements\r\n",
      "1 = [1, 2, 3, 4, 5, 6, 7]\r\n",
      "2 = [1, 5, 3, 4, 2, 6, 7]\r\n",
      "3 = [3, 2, 1, 4, 5, 6, 7]\r\n",
      "4 = [3, 5, 1, 4, 2, 6, 7]\r\n",
      "\r\n"
     ]
    }
   ],
   "source": [
    "Gv.elements"
   ]
  },
  {
   "cell_type": "markdown",
   "id": "1e9b6954",
   "metadata": {},
   "source": [
    "## Vector stabilization over a specific group\n",
    "\n",
    "Alternatively, it is possible to identify all the permutations which leave a vector invariant and which belong to a specific group. This is achieved by first defining the group of interest, for instance"
   ]
  },
  {
   "cell_type": "code",
   "execution_count": 6,
   "id": "b8d5af65",
   "metadata": {
    "execution": {
     "iopub.execute_input": "2021-08-03T13:40:57.145885Z",
     "iopub.status.busy": "2021-08-03T13:40:57.145387Z",
     "iopub.status.idle": "2021-08-03T13:41:01.537263Z",
     "shell.execute_reply": "2021-08-03T13:41:01.537665Z"
    }
   },
   "outputs": [
    {
     "name": "stdout",
     "output_type": "stream",
     "text": [
      "G1 ="
     ]
    },
    {
     "name": "stdout",
     "output_type": "stream",
     "text": [
      "\r"
     ]
    },
    {
     "name": "stdout",
     "output_type": "stream",
     "text": [
      "\n"
     ]
    },
    {
     "name": "stdout",
     "output_type": "stream",
     "text": [
      "\r\n",
      "Permutation group acting on 7 elements of order 6\r\n",
      "            identity: [1, 2, 3, 4, 5, 6, 7]\r\n",
      "generator(1 or 'x1'): [2, 1, 3, 4, 5, 6, 7]\r\n",
      "generator(2 or 'x2'): [2, 3, 1, 4, 5, 6, 7]\r\n",
      "    recognize.source: Dihedral group of order 6\r\n",
      "\r\n"
     ]
    }
   ],
   "source": [
    "G1 = replab.PermutationGroup.of([2 1 3:7], [2 3 1 4:7])"
   ]
  },
  {
   "cell_type": "markdown",
   "id": "bc87a42d",
   "metadata": {},
   "source": [
    "and then stabilize this group over the vector"
   ]
  },
  {
   "cell_type": "code",
   "execution_count": 7,
   "id": "e756cd97",
   "metadata": {
    "execution": {
     "iopub.execute_input": "2021-08-03T13:41:01.540772Z",
     "iopub.status.busy": "2021-08-03T13:41:01.540231Z",
     "iopub.status.idle": "2021-08-03T13:41:02.931237Z",
     "shell.execute_reply": "2021-08-03T13:41:02.930393Z"
    }
   },
   "outputs": [
    {
     "name": "stdout",
     "output_type": "stream",
     "text": [
      "G1v ="
     ]
    },
    {
     "name": "stdout",
     "output_type": "stream",
     "text": [
      "\r"
     ]
    },
    {
     "name": "stdout",
     "output_type": "stream",
     "text": [
      "\n"
     ]
    },
    {
     "name": "stdout",
     "output_type": "stream",
     "text": [
      "\r\n",
      "Permutation group acting on 7 elements of order 2\r\n",
      "            identity: [1, 2, 3, 4, 5, 6, 7]\r\n",
      "generator(1 or 'x1'): [3, 2, 1, 4, 5, 6, 7]\r\n",
      "    recognize.source: Cyclic group C(2) of order 2 < x | x^2 = 1 >\r\n",
      "\r\n"
     ]
    }
   ],
   "source": [
    "G1v = G1.vectorStabilizer(v)"
   ]
  },
  {
   "cell_type": "markdown",
   "id": "a4e5aaa1",
   "metadata": {},
   "source": [
    "This group only contains the two permutations of Gv which also belong to G1:"
   ]
  },
  {
   "cell_type": "code",
   "execution_count": 8,
   "id": "84797a78",
   "metadata": {
    "execution": {
     "iopub.execute_input": "2021-08-03T13:41:02.934675Z",
     "iopub.status.busy": "2021-08-03T13:41:02.934185Z",
     "iopub.status.idle": "2021-08-03T13:41:02.991892Z",
     "shell.execute_reply": "2021-08-03T13:41:02.991267Z"
    },
    "lines_to_next_cell": 2
   },
   "outputs": [
    {
     "name": "stdout",
     "output_type": "stream",
     "text": [
      "ans =\r\n",
      "\r\n",
      "Indexed family of 2 elements\r\n",
      "1 = [1, 2, 3, 4, 5, 6, 7]\r\n",
      "2 = [3, 2, 1, 4, 5, 6, 7]\r\n",
      "\r\n"
     ]
    }
   ],
   "source": [
    "G1v.elements"
   ]
  }
 ],
 "metadata": {
  "jupytext": {
   "cell_metadata_filter": "-all",
   "main_language": "matlab",
   "notebook_metadata_filter": "-all",
   "text_representation": {
    "extension": ".m",
    "format_name": "light"
   }
  },
  "language_info": {
   "file_extension": ".m",
   "help_links": [
    {
     "text": "GNU Octave",
     "url": "https://www.gnu.org/software/octave/support.html"
    },
    {
     "text": "Octave Kernel",
     "url": "https://github.com/Calysto/octave_kernel"
    },
    {
     "text": "MetaKernel Magics",
     "url": "https://metakernel.readthedocs.io/en/latest/source/README.html"
    }
   ],
   "mimetype": "text/x-octave",
   "name": "octave",
   "version": "6.2.0"
  }
 },
 "nbformat": 4,
 "nbformat_minor": 5
}
