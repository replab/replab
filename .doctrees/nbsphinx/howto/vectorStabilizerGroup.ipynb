{
 "cells": [
  {
   "cell_type": "markdown",
   "id": "4ba5a104",
   "metadata": {},
   "source": [
    "# Vector Stabilizer group\n",
    "\n",
    "This document illustrated how to define groups which leave a vector invariant in *RepLAB*.\n",
    "\n",
    "## Preparation\n",
    "As always, before using *RepLAB* commands, initialize the library:"
   ]
  },
  {
   "cell_type": "code",
   "execution_count": 1,
   "id": "203033d2",
   "metadata": {
    "execution": {
     "iopub.execute_input": "2021-07-29T16:41:43.035920Z",
     "iopub.status.busy": "2021-07-29T16:41:43.035473Z",
     "iopub.status.idle": "2021-07-29T16:41:47.372094Z",
     "shell.execute_reply": "2021-07-29T16:41:47.371749Z"
    }
   },
   "outputs": [],
   "source": [
    "addpath([pwd, '/../..']);\n",
    "replab_init('verbose', 0);"
   ]
  },
  {
   "cell_type": "markdown",
   "id": "1e4d91b8",
   "metadata": {},
   "source": [
    "## Vector stabilizer group\n",
    "\n",
    "Given a vector"
   ]
  },
  {
   "cell_type": "code",
   "execution_count": 2,
   "id": "23128116",
   "metadata": {
    "execution": {
     "iopub.execute_input": "2021-07-29T16:41:47.374417Z",
     "iopub.status.busy": "2021-07-29T16:41:47.374102Z",
     "iopub.status.idle": "2021-07-29T16:41:47.384386Z",
     "shell.execute_reply": "2021-07-29T16:41:47.384076Z"
    }
   },
   "outputs": [],
   "source": [
    "v = [3 2 3 1 2 5 4];"
   ]
  },
  {
   "cell_type": "markdown",
   "id": "d01e972e",
   "metadata": {},
   "source": [
    "in $\\mathbb{R}^7$, the most general group acting on the components which leaves the vector invariant can be obtained by first defining the general group permuting all possible components"
   ]
  },
  {
   "cell_type": "code",
   "execution_count": 3,
   "id": "aea2c9ec",
   "metadata": {
    "execution": {
     "iopub.execute_input": "2021-07-29T16:41:47.386618Z",
     "iopub.status.busy": "2021-07-29T16:41:47.386305Z",
     "iopub.status.idle": "2021-07-29T16:41:47.504275Z",
     "shell.execute_reply": "2021-07-29T16:41:47.503954Z"
    }
   },
   "outputs": [
    {
     "name": "stdout",
     "output_type": "stream",
     "text": [
      "S7 ="
     ]
    },
    {
     "name": "stdout",
     "output_type": "stream",
     "text": [
      "\r"
     ]
    },
    {
     "name": "stdout",
     "output_type": "stream",
     "text": [
      "\n"
     ]
    },
    {
     "name": "stdout",
     "output_type": "stream",
     "text": [
      "\r\n",
      "Symmetric group acting on 7 elements\r\n",
      "            identity: [1, 2, 3, 4, 5, 6, 7]\r\n",
      "generator(1 or 'x1'): [2, 3, 4, 5, 6, 7, 1]\r\n",
      "generator(2 or 'x2'): [2, 1, 3, 4, 5, 6, 7]\r\n",
      "\r\n"
     ]
    }
   ],
   "source": [
    "S7 = replab.S(7)"
   ]
  },
  {
   "cell_type": "markdown",
   "id": "f982713e",
   "metadata": {},
   "source": [
    "and then asking for its stabilization over the vector"
   ]
  },
  {
   "cell_type": "code",
   "execution_count": 4,
   "id": "5ea9764d",
   "metadata": {
    "execution": {
     "iopub.execute_input": "2021-07-29T16:41:47.506557Z",
     "iopub.status.busy": "2021-07-29T16:41:47.506250Z",
     "iopub.status.idle": "2021-07-29T16:41:51.462408Z",
     "shell.execute_reply": "2021-07-29T16:41:51.462077Z"
    }
   },
   "outputs": [
    {
     "name": "stdout",
     "output_type": "stream",
     "text": [
      "Gv ="
     ]
    },
    {
     "name": "stdout",
     "output_type": "stream",
     "text": [
      "\r"
     ]
    },
    {
     "name": "stdout",
     "output_type": "stream",
     "text": [
      "\n"
     ]
    },
    {
     "name": "stdout",
     "output_type": "stream",
     "text": [
      "\r\n",
      "Permutation group acting on 7 elements of order 4\r\n",
      "            identity: [1, 2, 3, 4, 5, 6, 7]\r\n",
      "generator(1 or 'x1'): [3, 2, 1, 4, 5, 6, 7]\r\n",
      "generator(2 or 'x2'): [1, 5, 3, 4, 2, 6, 7]\r\n",
      "    recognize.source: Klein four-group < a, x | a^2 = x^2 = x a x^-1 a^-1 = 1 >\r\n",
      "\r\n"
     ]
    }
   ],
   "source": [
    "Gv = S7.vectorStabilizer(v)"
   ]
  },
  {
   "cell_type": "markdown",
   "id": "671e22c1",
   "metadata": {},
   "source": [
    "This group G1 contains all 4 permutations which leave the vector v invariant:"
   ]
  },
  {
   "cell_type": "code",
   "execution_count": 5,
   "id": "9dc23266",
   "metadata": {
    "execution": {
     "iopub.execute_input": "2021-07-29T16:41:51.464483Z",
     "iopub.status.busy": "2021-07-29T16:41:51.464189Z",
     "iopub.status.idle": "2021-07-29T16:41:51.522348Z",
     "shell.execute_reply": "2021-07-29T16:41:51.522023Z"
    }
   },
   "outputs": [
    {
     "name": "stdout",
     "output_type": "stream",
     "text": [
      "ans =\r\n",
      "\r\n",
      "Indexed family of 4 elements\r\n",
      "1 = [1, 2, 3, 4, 5, 6, 7]\r\n",
      "2 = [1, 5, 3, 4, 2, 6, 7]\r\n",
      "3 = [3, 2, 1, 4, 5, 6, 7]\r\n",
      "4 = [3, 5, 1, 4, 2, 6, 7]\r\n",
      "\r\n"
     ]
    }
   ],
   "source": [
    "Gv.elements"
   ]
  },
  {
   "cell_type": "markdown",
   "id": "4145680e",
   "metadata": {},
   "source": [
    "## Vector stabilization over a specific group\n",
    "\n",
    "Alternatively, it is possible to identify all the permutations which leave a vector invariant and which belong to a specific group. This is achieved by first defining the group of interest, for instance"
   ]
  },
  {
   "cell_type": "code",
   "execution_count": 6,
   "id": "1af5c4b2",
   "metadata": {
    "execution": {
     "iopub.execute_input": "2021-07-29T16:41:51.524368Z",
     "iopub.status.busy": "2021-07-29T16:41:51.524023Z",
     "iopub.status.idle": "2021-07-29T16:41:54.157247Z",
     "shell.execute_reply": "2021-07-29T16:41:54.156949Z"
    }
   },
   "outputs": [
    {
     "name": "stdout",
     "output_type": "stream",
     "text": [
      "G1 ="
     ]
    },
    {
     "name": "stdout",
     "output_type": "stream",
     "text": [
      "\r"
     ]
    },
    {
     "name": "stdout",
     "output_type": "stream",
     "text": [
      "\n"
     ]
    },
    {
     "name": "stdout",
     "output_type": "stream",
     "text": [
      "\r\n",
      "Permutation group acting on 7 elements of order 6\r\n",
      "            identity: [1, 2, 3, 4, 5, 6, 7]\r\n",
      "generator(1 or 'x1'): [2, 1, 3, 4, 5, 6, 7]\r\n",
      "generator(2 or 'x2'): [2, 3, 1, 4, 5, 6, 7]\r\n",
      "    recognize.source: Dihedral group of order 6\r\n",
      "\r\n"
     ]
    }
   ],
   "source": [
    "G1 = replab.PermutationGroup.of([2 1 3:7], [2 3 1 4:7])"
   ]
  },
  {
   "cell_type": "markdown",
   "id": "23d2a8a4",
   "metadata": {},
   "source": [
    "and then stabilize this group over the vector"
   ]
  },
  {
   "cell_type": "code",
   "execution_count": 7,
   "id": "69fe5a43",
   "metadata": {
    "execution": {
     "iopub.execute_input": "2021-07-29T16:41:54.159499Z",
     "iopub.status.busy": "2021-07-29T16:41:54.159089Z",
     "iopub.status.idle": "2021-07-29T16:41:54.962410Z",
     "shell.execute_reply": "2021-07-29T16:41:54.962011Z"
    }
   },
   "outputs": [
    {
     "name": "stdout",
     "output_type": "stream",
     "text": [
      "G1v ="
     ]
    },
    {
     "name": "stdout",
     "output_type": "stream",
     "text": [
      "\r"
     ]
    },
    {
     "name": "stdout",
     "output_type": "stream",
     "text": [
      "\n"
     ]
    },
    {
     "name": "stdout",
     "output_type": "stream",
     "text": [
      "\r\n",
      "Permutation group acting on 7 elements of order 2\r\n",
      "            identity: [1, 2, 3, 4, 5, 6, 7]\r\n",
      "generator(1 or 'x1'): [3, 2, 1, 4, 5, 6, 7]\r\n",
      "    recognize.source: Cyclic group C(2) of order 2 < x | x^2 = 1 >\r\n",
      "\r\n"
     ]
    }
   ],
   "source": [
    "G1v = G1.vectorStabilizer(v)"
   ]
  },
  {
   "cell_type": "markdown",
   "id": "28580e4b",
   "metadata": {},
   "source": [
    "This group only contains the two permutations of Gv which also belong to G1:"
   ]
  },
  {
   "cell_type": "code",
   "execution_count": 8,
   "id": "00ecbfda",
   "metadata": {
    "execution": {
     "iopub.execute_input": "2021-07-29T16:41:54.964409Z",
     "iopub.status.busy": "2021-07-29T16:41:54.963965Z",
     "iopub.status.idle": "2021-07-29T16:41:54.999711Z",
     "shell.execute_reply": "2021-07-29T16:41:54.999405Z"
    },
    "lines_to_next_cell": 2
   },
   "outputs": [
    {
     "name": "stdout",
     "output_type": "stream",
     "text": [
      "ans =\r\n",
      "\r\n",
      "Indexed family of 2 elements\r\n",
      "1 = [1, 2, 3, 4, 5, 6, 7]\r\n",
      "2 = [3, 2, 1, 4, 5, 6, 7]\r\n",
      "\r\n"
     ]
    }
   ],
   "source": [
    "G1v.elements"
   ]
  }
 ],
 "metadata": {
  "jupytext": {
   "cell_metadata_filter": "-all",
   "main_language": "matlab",
   "notebook_metadata_filter": "-all",
   "text_representation": {
    "extension": ".m",
    "format_name": "light"
   }
  },
  "language_info": {
   "file_extension": ".m",
   "help_links": [
    {
     "text": "GNU Octave",
     "url": "https://www.gnu.org/software/octave/support.html"
    },
    {
     "text": "Octave Kernel",
     "url": "https://github.com/Calysto/octave_kernel"
    },
    {
     "text": "MetaKernel Magics",
     "url": "https://metakernel.readthedocs.io/en/latest/source/README.html"
    }
   ],
   "mimetype": "text/x-octave",
   "name": "octave",
   "version": "6.2.0"
  }
 },
 "nbformat": 4,
 "nbformat_minor": 5
}
