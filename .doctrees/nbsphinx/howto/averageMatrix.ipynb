{
 "cells": [
  {
   "cell_type": "markdown",
   "id": "ba1b0ab8",
   "metadata": {},
   "source": [
    "# Averaging a matrix over a continuous group\n",
    "\n",
    "This document shows how to compute the average of a matrix $M$ over the representation of a compact group in *RepLAB*.\n",
    "\n",
    "## Preparation\n",
    "As always, before using *RepLAB* commands, initialize the library:"
   ]
  },
  {
   "cell_type": "code",
   "execution_count": 1,
   "id": "6d461728",
   "metadata": {
    "execution": {
     "iopub.execute_input": "2021-12-10T15:53:04.755208Z",
     "iopub.status.busy": "2021-12-10T15:53:04.754785Z",
     "iopub.status.idle": "2021-12-10T15:53:10.777934Z",
     "shell.execute_reply": "2021-12-10T15:53:10.778318Z"
    }
   },
   "outputs": [
    {
     "name": "stdout",
     "output_type": "stream",
     "text": [
      "replab_init: Initialization done.\r\n"
     ]
    }
   ],
   "source": [
    "addpath([pwd, '/../..']);\n",
    "replab_init('verbose', 0);"
   ]
  },
  {
   "cell_type": "markdown",
   "id": "32456dc7",
   "metadata": {},
   "source": [
    "## Matrix to be averaged\n",
    "\n",
    "Let us consider a random matrix"
   ]
  },
  {
   "cell_type": "code",
   "execution_count": 2,
   "id": "1011beb2",
   "metadata": {
    "execution": {
     "iopub.execute_input": "2021-12-10T15:53:10.781266Z",
     "iopub.status.busy": "2021-12-10T15:53:10.780825Z",
     "iopub.status.idle": "2021-12-10T15:53:10.795726Z",
     "shell.execute_reply": "2021-12-10T15:53:10.795337Z"
    }
   },
   "outputs": [
    {
     "name": "stdout",
     "output_type": "stream",
     "text": [
      "M =\r\n",
      "\r\n",
      "   1.5531e-01   5.7710e-01   8.0043e-01   7.6077e-02\r\n",
      "   9.6495e-01   4.7818e-03   9.5091e-01   4.9369e-01\r\n",
      "   7.0852e-01   7.5809e-01   3.6947e-01   5.2753e-01\r\n",
      "   9.8181e-01   4.6532e-01   2.7879e-01   2.4020e-01\r\n",
      "\r\n"
     ]
    }
   ],
   "source": [
    "M = rand(4)"
   ]
  },
  {
   "cell_type": "markdown",
   "id": "05c7b108",
   "metadata": {},
   "source": [
    "Our aim is to compute the average $\\sum_{g\\in G} R_g M R_g^\\dag$ over a continuous group $G$,\n",
    "where $R_g$ is a representation of the group element $g$."
   ]
  },
  {
   "cell_type": "markdown",
   "id": "9ed885f1",
   "metadata": {},
   "source": [
    "## Group and representation definition\n",
    "\n",
    "Let us consider the group of special orthogonal matrices with determinant equal to 1 in dimension 2"
   ]
  },
  {
   "cell_type": "code",
   "execution_count": 3,
   "id": "823f8ef3",
   "metadata": {
    "execution": {
     "iopub.execute_input": "2021-12-10T15:53:10.798338Z",
     "iopub.status.busy": "2021-12-10T15:53:10.797910Z",
     "iopub.status.idle": "2021-12-10T15:53:10.839650Z",
     "shell.execute_reply": "2021-12-10T15:53:10.839229Z"
    }
   },
   "outputs": [
    {
     "name": "stdout",
     "output_type": "stream",
     "text": [
      "group =\r\n",
      "\r\n",
      "Special orthogonal group SO(2)\r\n",
      "  algebra: 'R'\r\n",
      " identity: [1, 0; 0, 1]\r\n",
      "isSpecial: true\r\n",
      "        n: 2\r\n",
      "\r\n"
     ]
    }
   ],
   "source": [
    "group = replab.SO(2)"
   ]
  },
  {
   "cell_type": "markdown",
   "id": "ae623688",
   "metadata": {},
   "source": [
    "We consider the 4-dimensional tensor representation of this group $R=SO(2)\\times SO(2)$"
   ]
  },
  {
   "cell_type": "code",
   "execution_count": 4,
   "id": "f254a264",
   "metadata": {
    "execution": {
     "iopub.execute_input": "2021-12-10T15:53:10.842923Z",
     "iopub.status.busy": "2021-12-10T15:53:10.842441Z",
     "iopub.status.idle": "2021-12-10T15:53:10.893066Z",
     "shell.execute_reply": "2021-12-10T15:53:10.892611Z"
    },
    "lines_to_next_cell": 2
   },
   "outputs": [
    {
     "name": "stdout",
     "output_type": "stream",
     "text": [
      "rep =\r\n",
      "\r\n",
      "Orthogonal tensor representation\r\n",
      "dimension: 4\r\n",
      "    field: 'R'\r\n",
      "    group: Special orthogonal group SO(2)\r\n",
      "isUnitary: true\r\n",
      "factor(1): Orthogonal fully nontrivial irreducible representation\r\n",
      "factor(2): Orthogonal fully nontrivial irreducible representation\r\n",
      "\r\n"
     ]
    }
   ],
   "source": [
    "rep = kron(group.definingRep, group.definingRep)"
   ]
  },
  {
   "cell_type": "markdown",
   "id": "ef74a513",
   "metadata": {},
   "source": [
    "## Averaging over the group\n",
    "\n",
    "The averaging is done by projecting our matrix onto the commutant of the representation"
   ]
  },
  {
   "cell_type": "code",
   "execution_count": 5,
   "id": "7a685d06",
   "metadata": {
    "execution": {
     "iopub.execute_input": "2021-12-10T15:53:10.895941Z",
     "iopub.status.busy": "2021-12-10T15:53:10.895499Z",
     "iopub.status.idle": "2021-12-10T15:53:10.920025Z",
     "shell.execute_reply": "2021-12-10T15:53:10.919590Z"
    }
   },
   "outputs": [],
   "source": [
    "com = rep.commutant;"
   ]
  },
  {
   "cell_type": "code",
   "execution_count": 6,
   "id": "644db823",
   "metadata": {
    "execution": {
     "iopub.execute_input": "2021-12-10T15:53:10.922831Z",
     "iopub.status.busy": "2021-12-10T15:53:10.922361Z",
     "iopub.status.idle": "2021-12-10T15:53:11.265333Z",
     "shell.execute_reply": "2021-12-10T15:53:11.265722Z"
    }
   },
   "outputs": [
    {
     "name": "stdout",
     "output_type": "stream",
     "text": [
      "MP =\r\n",
      "\r\n",
      "   5.4096e-01  -1.1555e-02   6.8454e-03   1.8574e-01\r\n",
      "   5.8001e-02  -1.5608e-01   5.1130e-01   5.3291e-02\r\n",
      "  -5.3291e-02   5.1130e-01  -1.5608e-01  -5.8001e-02\r\n",
      "   1.8574e-01  -6.8454e-03   1.1555e-02   5.4096e-01\r\n",
      "\r\n"
     ]
    }
   ],
   "source": [
    "MP = com.project(M)"
   ]
  },
  {
   "cell_type": "markdown",
   "id": "a3a04361",
   "metadata": {},
   "source": [
    "We can check that the matrix is now invariant over actions of the representation"
   ]
  },
  {
   "cell_type": "code",
   "execution_count": 7,
   "id": "5aebb490",
   "metadata": {
    "execution": {
     "iopub.execute_input": "2021-12-10T15:53:11.268393Z",
     "iopub.status.busy": "2021-12-10T15:53:11.267713Z",
     "iopub.status.idle": "2021-12-10T15:53:11.286366Z",
     "shell.execute_reply": "2021-12-10T15:53:11.285998Z"
    },
    "lines_to_next_cell": 2
   },
   "outputs": [
    {
     "name": "stdout",
     "output_type": "stream",
     "text": [
      "ans =\r\n",
      "\r\n",
      "   5.4096e-01  -1.1555e-02   6.8454e-03   1.8574e-01\r\n",
      "   5.8001e-02  -1.5608e-01   5.1130e-01   5.3291e-02\r\n",
      "  -5.3291e-02   5.1130e-01  -1.5608e-01  -5.8001e-02\r\n",
      "   1.8574e-01  -6.8454e-03   1.1555e-02   5.4096e-01\r\n",
      "\r\n"
     ]
    }
   ],
   "source": [
    "el = rep.sample;\n",
    "el*MP*el'"
   ]
  }
 ],
 "metadata": {
  "jupytext": {
   "cell_metadata_filter": "-all",
   "main_language": "matlab",
   "notebook_metadata_filter": "-all",
   "text_representation": {
    "extension": ".m",
    "format_name": "light"
   }
  },
  "language_info": {
   "file_extension": ".m",
   "help_links": [
    {
     "text": "GNU Octave",
     "url": "https://www.gnu.org/software/octave/support.html"
    },
    {
     "text": "Octave Kernel",
     "url": "https://github.com/Calysto/octave_kernel"
    },
    {
     "text": "MetaKernel Magics",
     "url": "https://metakernel.readthedocs.io/en/latest/source/README.html"
    }
   ],
   "mimetype": "text/x-octave",
   "name": "octave",
   "version": "6.2.0"
  }
 },
 "nbformat": 4,
 "nbformat_minor": 5
}
