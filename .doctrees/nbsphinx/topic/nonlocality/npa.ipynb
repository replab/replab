{
 "cells": [
  {
   "cell_type": "markdown",
   "id": "f807a72e",
   "metadata": {},
   "source": [
    "# Symmetric NPA relaxations\n",
    "\n",
    "We initialize the RepLAB library."
   ]
  },
  {
   "cell_type": "code",
   "execution_count": 1,
   "id": "d9712828",
   "metadata": {
    "execution": {
     "iopub.execute_input": "2021-07-29T16:56:30.460786Z",
     "iopub.status.busy": "2021-07-29T16:56:30.459706Z",
     "iopub.status.idle": "2021-07-29T16:56:34.430586Z",
     "shell.execute_reply": "2021-07-29T16:56:34.430276Z"
    }
   },
   "outputs": [],
   "source": [
    "addpath([pwd, '/../../..']);\n",
    "replab_init('verbose', 0);"
   ]
  },
  {
   "cell_type": "markdown",
   "id": "b947e086",
   "metadata": {},
   "source": [
    "We examine an upper bound on the quantum maximum of the CHSH inequality. We use the NPA hierarchy, and assume the moment matrix has been constructed in the\n",
    "symmetric subspace, as in [arXiv:1808.09598](https://arxiv.org/abs/1808.09598).\n",
    "\n",
    "We first declare the one and only variable, before constructing the moment matrix."
   ]
  },
  {
   "cell_type": "code",
   "execution_count": 2,
   "id": "31a28368",
   "metadata": {
    "execution": {
     "iopub.execute_input": "2021-07-29T16:56:34.432261Z",
     "iopub.status.busy": "2021-07-29T16:56:34.431904Z",
     "iopub.status.idle": "2021-07-29T16:56:35.999176Z",
     "shell.execute_reply": "2021-07-29T16:56:35.998865Z"
    }
   },
   "outputs": [
    {
     "name": "stdout",
     "output_type": "stream",
     "text": [
      "ans = 2.8284\r\n"
     ]
    }
   ],
   "source": [
    "y = sdpvar; % y is actually y_A0B0, but we save space by identifying y with it\n",
    "C = [ 1  0  0  0  0\n",
    "      0  1  0  0  0\n",
    "      0  0  1  0  0\n",
    "      0  0  0  1  0\n",
    "      0  0  0  0  1];\n",
    "A = [ 0  0  0  0  0\n",
    "      0  0  0  1  1\n",
    "      0  0  0  1 -1\n",
    "      0  1  1  0  0\n",
    "      0  1 -1  0  0];\n",
    "X = C + A*y;\n",
    "I_CHSH = 4*y; % it is <A0B0> + <A0B1> + <A1B0> - <A1B1>, and y_A1B1 = -y_A0B0.\n",
    "optimize(X >= 0, -I_CHSH, sdpsettings('verbose', 0)); % sign change to maximize, and we don't show solver output\n",
    "double(I_CHSH)"
   ]
  },
  {
   "cell_type": "markdown",
   "id": "eb97d63e",
   "metadata": {},
   "source": [
    "To help with symmetrization, we'll use an equivalent form of the constraint X, and check the result."
   ]
  },
  {
   "cell_type": "markdown",
   "id": "fc07400e",
   "metadata": {},
   "source": [
    "Now, we want to find a change of basis that brings X into a block-diagonal form. This is easier to check on the basis matrices `C` and `A`, i.e. we want to find `U` such that `U*C*U'` and `U*A*U'` are block-diagonal. Let us use RepLAB for that.\n",
    "First, remark that the moment matrix is invariant under the following signed permutations:\n",
    "\n",
    "$\\vec{v} = \\left( 1, A_0, A_1, B_0, B_1 \\right) \\rightarrow  \\left( 1, B_0, B_1, A_0, A_1 \\right)$\n",
    "\n",
    "$\\vec{v} = \\left( 1, A_0, A_1, B_0, B_1 \\right) \\rightarrow  \\left( 1, -A_0, -A_1, -B_0, -B_1 \\right)$\n",
    "\n",
    "$\\vec{v} = \\left( 1, A_0, A_1, B_0, B_1 \\right) \\rightarrow  \\left( 1, A_1, A_0, B_0, -B_1 \\right)$\n",
    "\n",
    "We now show how to use RepLAB to find the change of basis for the symmetry group that includes only the first symmetry."
   ]
  },
  {
   "cell_type": "code",
   "execution_count": 3,
   "id": "90579edd",
   "metadata": {
    "execution": {
     "iopub.execute_input": "2021-07-29T16:56:36.001618Z",
     "iopub.status.busy": "2021-07-29T16:56:36.001264Z",
     "iopub.status.idle": "2021-07-29T16:56:36.018472Z",
     "shell.execute_reply": "2021-07-29T16:56:36.018140Z"
    }
   },
   "outputs": [],
   "source": [
    "g1 = [1 4 5 2 3]; % permutation of parties\n",
    "g2 = [1 -2 -3 -4 -5]; % sign flip everywhere, note the signed permutation convention\n",
    "g3 = [1 3 2 4 -5]; % additional symmetry"
   ]
  },
  {
   "cell_type": "markdown",
   "id": "b1872e92",
   "metadata": {},
   "source": [
    "We build the symmetry group from those generators. For the permutation of parties only, the order (=size) of the group is 2. When adding the other symmetries, the order of the group should be 16."
   ]
  },
  {
   "cell_type": "code",
   "execution_count": 4,
   "id": "e68e79ee",
   "metadata": {
    "execution": {
     "iopub.execute_input": "2021-07-29T16:56:36.020751Z",
     "iopub.status.busy": "2021-07-29T16:56:36.020470Z",
     "iopub.status.idle": "2021-07-29T16:56:36.090081Z",
     "shell.execute_reply": "2021-07-29T16:56:36.089777Z"
    }
   },
   "outputs": [
    {
     "name": "stdout",
     "output_type": "stream",
     "text": [
      "ans =\r\n",
      "    16\r\n"
     ]
    }
   ],
   "source": [
    "nElements = 5;G = replab.SignedPermutationGroup.of(g1, g2, g3);\n",
    "G.order"
   ]
  },
  {
   "cell_type": "markdown",
   "id": "b7956bcf",
   "metadata": {},
   "source": [
    "If necessary, we can also expand the group elements (use `G.elements.at(2)` to get the second element for example)."
   ]
  },
  {
   "cell_type": "code",
   "execution_count": 5,
   "id": "c5827764",
   "metadata": {
    "execution": {
     "iopub.execute_input": "2021-07-29T16:56:36.092326Z",
     "iopub.status.busy": "2021-07-29T16:56:36.091957Z",
     "iopub.status.idle": "2021-07-29T16:56:36.341519Z",
     "shell.execute_reply": "2021-07-29T16:56:36.341274Z"
    }
   },
   "outputs": [
    {
     "name": "stdout",
     "output_type": "stream",
     "text": [
      "ans ="
     ]
    },
    {
     "name": "stdout",
     "output_type": "stream",
     "text": [
      "\r"
     ]
    },
    {
     "name": "stdout",
     "output_type": "stream",
     "text": [
      "\n"
     ]
    },
    {
     "name": "stdout",
     "output_type": "stream",
     "text": [
      "\r\n",
      "Indexed family of 16 elements\r\n",
      " 1 = [1, 2, 3, 4, 5]\r\n",
      " 2 = [1, -3, -2, -4, 5]\r\n",
      " 3 = [1, 2, -3, 5, 4]\r\n",
      " 4 = [1, 3, -2, -5, 4]\r\n",
      " 5 = [1, 4, 5, 2, 3]\r\n",
      " 6 = [1, -5, -4, -2, 3]\r\n",
      " 7 = [1, 4, -5, 3, 2]\r\n",
      " 8 = [1, 5, -4, -3, 2]\r\n",
      " 9 = [1, -5, 4, 3, -2]\r\n",
      "10 = [1, -4, 5, -3, -2]\r\n",
      "11 = [1, 5, 4, 2, -3]\r\n",
      "12 = [1, -4, -5, -2, -3]\r\n",
      "13 = [1, -3, 2, 5, -4]\r\n",
      "14 = [1, -2, 3, -5, -4]\r\n",
      "15 = [1, 3, 2, 4, -5]\r\n",
      "16 = [1, -2, -3, -4, -5]\r\n",
      "\r\n"
     ]
    }
   ],
   "source": [
    "G.elements"
   ]
  },
  {
   "cell_type": "markdown",
   "id": "5ca5f89c",
   "metadata": {},
   "source": [
    "Now, the representation we need is composed of signed permutation matrices; as we are considering a group of signed permutations, this is the group *natural representation*. Representations in RepLAB are described using the images of the generators. By calling `G.sample`, we get random elements from the group, and by calling `rep.image(g)` we get the image of a group element."
   ]
  },
  {
   "cell_type": "code",
   "execution_count": 6,
   "id": "c342b575",
   "metadata": {
    "execution": {
     "iopub.execute_input": "2021-07-29T16:56:36.343869Z",
     "iopub.status.busy": "2021-07-29T16:56:36.343477Z",
     "iopub.status.idle": "2021-07-29T16:56:36.512973Z",
     "shell.execute_reply": "2021-07-29T16:56:36.513201Z"
    }
   },
   "outputs": [
    {
     "name": "stdout",
     "output_type": "stream",
     "text": [
      "rep ="
     ]
    },
    {
     "name": "stdout",
     "output_type": "stream",
     "text": [
      "\r"
     ]
    },
    {
     "name": "stdout",
     "output_type": "stream",
     "text": [
      "\n"
     ]
    },
    {
     "name": "stdout",
     "output_type": "stream",
     "text": [
      "\r\n",
      "Orthogonal representation\r\n",
      "          dimension: 5\r\n",
      "divisionAlgebraName: []\r\n",
      "              field: 'R'\r\n",
      "              group: replab.SignedPermutationGroup\r\n",
      "   imagesErrorBound: [0, 0, 0]\r\n",
      "          isUnitary: true\r\n",
      "           morphism: replab.mrp.FiniteComposition\r\n",
      "       preimages{1}: [1, 4, 5, 2, 3]\r\n",
      "          images{1}: 5 x 5 double\r\n",
      "       preimages{2}: [1, -2, -3, -4, -5]\r\n",
      "          images{2}: 5 x 5 double\r\n",
      "       preimages{3}: [1, 3, 2, 4, -5]\r\n",
      "          images{3}: 5 x 5 double\r\n",
      "\r\n"
     ]
    }
   ],
   "source": [
    "rep = G.naturalRep"
   ]
  },
  {
   "cell_type": "code",
   "execution_count": 7,
   "id": "f8ec62b7",
   "metadata": {
    "execution": {
     "iopub.execute_input": "2021-07-29T16:56:36.515422Z",
     "iopub.status.busy": "2021-07-29T16:56:36.515097Z",
     "iopub.status.idle": "2021-07-29T16:56:36.532540Z",
     "shell.execute_reply": "2021-07-29T16:56:36.532835Z"
    }
   },
   "outputs": [
    {
     "name": "stdout",
     "output_type": "stream",
     "text": [
      "g =\r\n",
      "\r\n",
      "   1   5   4   2  -3\r\n",
      "\r\n"
     ]
    }
   ],
   "source": [
    "g = G.sample"
   ]
  },
  {
   "cell_type": "markdown",
   "id": "fe5d4dfb",
   "metadata": {},
   "source": [
    "Now, we decompose the representation into irreducible components. For that, we call `rep.decomposition`. In the answer I(m)xR(d), we express that the component has $m$ copies (multiplicity) of a `R`eal representation of dimension `d`. We then play with the indices of the component, and copy.\n",
    "\n",
    "Hint: explore `rep.decomposition.component(i).irrep(j)` for $(i,j) = (1,1), (2,1), (3,1)$."
   ]
  },
  {
   "cell_type": "code",
   "execution_count": 8,
   "id": "04a6e70d",
   "metadata": {
    "execution": {
     "iopub.execute_input": "2021-07-29T16:56:36.536353Z",
     "iopub.status.busy": "2021-07-29T16:56:36.535867Z",
     "iopub.status.idle": "2021-07-29T16:56:36.798914Z",
     "shell.execute_reply": "2021-07-29T16:56:36.798577Z"
    }
   },
   "outputs": [
    {
     "name": "stdout",
     "output_type": "stream",
     "text": [
      "ans ="
     ]
    },
    {
     "name": "stdout",
     "output_type": "stream",
     "text": [
      "\r"
     ]
    },
    {
     "name": "stdout",
     "output_type": "stream",
     "text": [
      "\n"
     ]
    },
    {
     "name": "stdout",
     "output_type": "stream",
     "text": [
      "\r\n",
      "Orthogonal reducible representation\r\n",
      "          dimension: 5\r\n",
      "divisionAlgebraName: []\r\n",
      "              field: 'R'\r\n",
      "              group: replab.SignedPermutationGroup\r\n",
      " injection_internal: 5 x 5 double\r\n",
      "       isSimilarRep: true\r\n",
      "          isUnitary: true\r\n",
      "     mapsAreAdjoint: true\r\n",
      "             parent: Orthogonal representation\r\n",
      "projection_internal: 5 x 5 double\r\n",
      "  basis(1,'double'): [1; 0; 0; 0; 0]\r\n",
      "  basis(2,'double'): [0; 0.5; 0.5; 0.70711; 0]\r\n",
      "  basis(3,'double'): [0; 0.5; -0.5; -6.4809e-17; 0.70711]\r\n",
      "  basis(4,'double'): [0; 0.6962; 0.12372; -0.57977; -0.4048]\r\n",
      "  basis(5,'double'): [0; -0.12372; 0.6962; -0.4048; 0.57977]\r\n",
      "       component(1): Isotypic component R(1) (trivial)\r\n",
      "       component(2): Isotypic component R(2) (nontrivial)\r\n",
      "       component(3): Isotypic component R(2) (nontrivial)\r\n",
      "\r\n"
     ]
    }
   ],
   "source": [
    "rep.decomposition"
   ]
  },
  {
   "cell_type": "code",
   "execution_count": 9,
   "id": "4e1ff682",
   "metadata": {
    "execution": {
     "iopub.execute_input": "2021-07-29T16:56:36.800958Z",
     "iopub.status.busy": "2021-07-29T16:56:36.800675Z",
     "iopub.status.idle": "2021-07-29T16:56:36.848477Z",
     "shell.execute_reply": "2021-07-29T16:56:36.848230Z"
    }
   },
   "outputs": [
    {
     "name": "stdout",
     "output_type": "stream",
     "text": [
      "ans =\r\n",
      "\r\n",
      "Orthogonal trivial irreducible real-type subrepresentation\r\n",
      "          dimension: 1\r\n",
      "divisionAlgebraName: []\r\n",
      "              field: 'R'\r\n",
      "              group: replab.SignedPermutationGroup\r\n",
      " injection_internal: [1; 0; 0; 0; 0]\r\n",
      "       isSimilarRep: false\r\n",
      "          isUnitary: true\r\n",
      "     mapsAreAdjoint: true\r\n",
      "             parent: Orthogonal representation\r\n",
      "projection_internal: [1, 0, 0, 0, 0]\r\n",
      "   basis(1,'exact'): [1; 0; 0; 0; 0]\r\n",
      "\r\n"
     ]
    }
   ],
   "source": [
    "rep.decomposition.component(1).irrep(1)"
   ]
  },
  {
   "cell_type": "markdown",
   "id": "cd24a7a4",
   "metadata": {},
   "source": [
    "We now ask for the change of basis matrix, and verify that `A` and `C` block-diagonalize."
   ]
  },
  {
   "cell_type": "code",
   "execution_count": 10,
   "id": "601ff57b",
   "metadata": {
    "execution": {
     "iopub.execute_input": "2021-07-29T16:56:36.850606Z",
     "iopub.status.busy": "2021-07-29T16:56:36.850217Z",
     "iopub.status.idle": "2021-07-29T16:56:36.868949Z",
     "shell.execute_reply": "2021-07-29T16:56:36.869282Z"
    }
   },
   "outputs": [
    {
     "name": "stdout",
     "output_type": "stream",
     "text": [
      "U =\r\n",
      "\r\n",
      "   1.0000        0        0        0        0\r\n",
      "        0   0.5000   0.5000   0.6962  -0.1237\r\n",
      "        0   0.5000  -0.5000   0.1237   0.6962\r\n",
      "        0   0.7071  -0.0000  -0.5798  -0.4048\r\n",
      "        0        0   0.7071  -0.4048   0.5798\r\n",
      "\r\n"
     ]
    },
    {
     "name": "stdout",
     "output_type": "stream",
     "text": [
      "ans =\r\n",
      "\r\n",
      "   1.0000        0        0        0        0\r\n",
      "        0   1.0000  -0.0000  -0.0000   0.0000\r\n",
      "        0  -0.0000   1.0000   0.0000  -0.0000\r\n",
      "        0  -0.0000   0.0000   1.0000  -0.0000\r\n",
      "        0   0.0000  -0.0000  -0.0000   1.0000\r\n",
      "\r\n"
     ]
    },
    {
     "name": "stdout",
     "output_type": "stream",
     "text": [
      "ans =\r\n",
      "\r\n",
      "        0        0        0        0        0\r\n",
      "        0   1.4142  -0.0000   0.0000  -0.0000\r\n",
      "        0  -0.0000   1.4142  -0.0000   0.0000\r\n",
      "        0   0.0000  -0.0000  -1.4142   0.0000\r\n",
      "        0  -0.0000   0.0000   0.0000  -1.4142\r\n",
      "\r\n"
     ]
    }
   ],
   "source": [
    "U = rep.decomposition.basis\n",
    "U'*C*U\n",
    "U'*A*U"
   ]
  },
  {
   "cell_type": "markdown",
   "id": "e51715fe",
   "metadata": {},
   "source": [
    "Once we have found the change of basis matrix, we transform our moment matrix `X`, and naturally it should have a block diagonal structure following the one of `C` and `A` -- for that, it may be necessary to kill small off-block coefficients."
   ]
  },
  {
   "cell_type": "code",
   "execution_count": 11,
   "id": "a9e449f6",
   "metadata": {
    "execution": {
     "iopub.execute_input": "2021-07-29T16:56:36.871604Z",
     "iopub.status.busy": "2021-07-29T16:56:36.871306Z",
     "iopub.status.idle": "2021-07-29T16:56:38.439528Z",
     "shell.execute_reply": "2021-07-29T16:56:38.439773Z"
    }
   },
   "outputs": [
    {
     "name": "stdout",
     "output_type": "stream",
     "text": []
    },
    {
     "name": "stdout",
     "output_type": "stream",
     "text": [
      "\r"
     ]
    },
    {
     "name": "stdout",
     "output_type": "stream",
     "text": [
      "\n",
      " num. of constraints =  1"
     ]
    },
    {
     "name": "stdout",
     "output_type": "stream",
     "text": [
      "\r"
     ]
    },
    {
     "name": "stdout",
     "output_type": "stream",
     "text": [
      "\n",
      " dim. of sdp    var  =  5,   num. of sdp  blk  =  1"
     ]
    },
    {
     "name": "stdout",
     "output_type": "stream",
     "text": [
      "\r"
     ]
    },
    {
     "name": "stdout",
     "output_type": "stream",
     "text": [
      "\n",
      "*******************************************************************"
     ]
    },
    {
     "name": "stdout",
     "output_type": "stream",
     "text": [
      "\r"
     ]
    },
    {
     "name": "stdout",
     "output_type": "stream",
     "text": [
      "\n",
      "   SDPT3: Infeasible path-following algorithms"
     ]
    },
    {
     "name": "stdout",
     "output_type": "stream",
     "text": [
      "\r"
     ]
    },
    {
     "name": "stdout",
     "output_type": "stream",
     "text": [
      "\n",
      "*******************************************************************"
     ]
    },
    {
     "name": "stdout",
     "output_type": "stream",
     "text": [
      "\r"
     ]
    },
    {
     "name": "stdout",
     "output_type": "stream",
     "text": [
      "\n",
      " version  predcorr  gam  expon  scale_data"
     ]
    },
    {
     "name": "stdout",
     "output_type": "stream",
     "text": [
      "\r"
     ]
    },
    {
     "name": "stdout",
     "output_type": "stream",
     "text": [
      "\n",
      "   HKM      1      0.000   1        0    "
     ]
    },
    {
     "name": "stdout",
     "output_type": "stream",
     "text": [
      "\r"
     ]
    },
    {
     "name": "stdout",
     "output_type": "stream",
     "text": [
      "\n",
      "it pstep dstep pinfeas dinfeas  gap      prim-obj      dual-obj    cputime"
     ]
    },
    {
     "name": "stdout",
     "output_type": "stream",
     "text": [
      "\r"
     ]
    },
    {
     "name": "stdout",
     "output_type": "stream",
     "text": [
      "\n",
      "-------------------------------------------------------------------"
     ]
    },
    {
     "name": "stdout",
     "output_type": "stream",
     "text": [
      "\r"
     ]
    },
    {
     "name": "stdout",
     "output_type": "stream",
     "text": [
      "\n",
      " 0|0.000|0.000|8.0e-01|6.2e+00|5.0e+02| 5.000000e+01  0.000000e+00| 0:0:00| chol  1  1 "
     ]
    },
    {
     "name": "stdout",
     "output_type": "stream",
     "text": [
      "\r"
     ]
    },
    {
     "name": "stdout",
     "output_type": "stream",
     "text": [
      "\n",
      " 1|1.000|1.000|6.5e-08|6.9e-02|4.3e+01| 3.984640e+01  4.400004e-01| 0:0:00| chol  1  1 "
     ]
    },
    {
     "name": "stdout",
     "output_type": "stream",
     "text": [
      "\r"
     ]
    },
    {
     "name": "stdout",
     "output_type": "stream",
     "text": [
      "\n",
      " 2|0.933|1.000|1.5e-07|6.9e-03|2.9e+00| 3.700414e+00  8.665599e-01| 0:0:00| chol  1  1 "
     ]
    },
    {
     "name": "stdout",
     "output_type": "stream",
     "text": [
      "\r"
     ]
    },
    {
     "name": "stdout",
     "output_type": "stream",
     "text": [
      "\n",
      " 3|1.000|0.949|3.5e-08|1.0e-03|2.8e-01| 3.024905e+00  2.752468e+00| 0:0:00| chol  1  1 "
     ]
    },
    {
     "name": "stdout",
     "output_type": "stream",
     "text": [
      "\r"
     ]
    },
    {
     "name": "stdout",
     "output_type": "stream",
     "text": [
      "\n",
      " 4|0.987|0.988|1.1e-08|8.0e-05|3.4e-03| 2.830875e+00  2.827762e+00| 0:0:00| chol  1  1 "
     ]
    },
    {
     "name": "stdout",
     "output_type": "stream",
     "text": [
      "\r\n",
      " 5|0.989|0.989|3.5e-10|7.7e-06|3.8e-05| 2.828454e+00  2.828448e+00| 0:0:00| chol  1  1 \r\n",
      " 6|0.989|0.989|8.9e-12|8.5e-08|4.2e-07| 2.828427e+00  2.828427e+00| 0:0:00|\r\n",
      "  stop: max(relative gap, infeasibilities) < 1.00e-07\r\n",
      "-------------------------------------------------------------------\r\n",
      " number of iterations   =  6\r\n",
      " primal objective value =  2.82842742e+00\r\n",
      " dual   objective value =  2.82842735e+00\r\n",
      " gap := trace(XZ)       = 4.17e-07\r\n",
      " relative gap           = 6.26e-08\r\n",
      " actual relative gap    = 1.04e-08\r\n",
      " rel. primal infeas (scaled problem)   = 8.94e-12\r\n",
      " rel. dual     \"        \"       \"      = 8.49e-08\r\n",
      " rel. primal infeas (unscaled problem) = 0.00e+00\r\n",
      " rel. dual     \"        \"       \"      = 0.00e+00\r\n",
      " norm(X), norm(y), norm(Z) = 2.0e+00, 7.1e-01, 3.0e+00\r\n",
      " norm(A), norm(b), norm(C) = 3.8e+00, 5.0e+00, 3.2e+00\r\n",
      " Total CPU time (secs)  = 0.14  \r\n",
      " CPU time per iteration = 0.02  \r\n",
      " termination code       =  0\r\n",
      " DIMACS: 8.9e-12  0.0e+00  1.4e-07  0.0e+00  1.0e-08  6.3e-08\r\n",
      "-------------------------------------------------------------------\r\n"
     ]
    },
    {
     "name": "stdout",
     "output_type": "stream",
     "text": [
      "ans = 2.8284\r\n"
     ]
    }
   ],
   "source": [
    "X = (U'*C*U) + (U'*A*U)*y; % equivalent to the constraint above\n",
    "optimize(X >= 0, -I_CHSH); % sign change to maximize\n",
    "double(I_CHSH)"
   ]
  },
  {
   "cell_type": "markdown",
   "id": "ff61972d",
   "metadata": {},
   "source": [
    "As an exercice, recover an algebraic basis from `U`, guess the form of the semidefinite program when fully block-diagonal (i.e. for the full group of CHSH symmetries).\n",
    "**Remark that now the problem can be solved by hand to recover the** $2\\sqrt{2}$ **bound, as the SDP matrix is fully diagonal, and thus corresponds to linear inequalities.**"
   ]
  }
 ],
 "metadata": {
  "jupytext": {
   "formats": "ipynb,m:light",
   "text_representation": {
    "extension": ".m",
    "format_name": "light",
    "format_version": "1.5",
    "jupytext_version": "1.3.2"
   }
  },
  "kernelspec": {
   "display_name": "Octave",
   "language": "octave",
   "name": "octave"
  },
  "language_info": {
   "file_extension": ".m",
   "help_links": [
    {
     "text": "GNU Octave",
     "url": "https://www.gnu.org/software/octave/support.html"
    },
    {
     "text": "Octave Kernel",
     "url": "https://github.com/Calysto/octave_kernel"
    },
    {
     "text": "MetaKernel Magics",
     "url": "https://metakernel.readthedocs.io/en/latest/source/README.html"
    }
   ],
   "mimetype": "text/x-octave",
   "name": "octave",
   "version": "6.2.0"
  }
 },
 "nbformat": 4,
 "nbformat_minor": 5
}
