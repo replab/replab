{
 "cells": [
  {
   "cell_type": "markdown",
   "id": "4881a1e1",
   "metadata": {},
   "source": [
    "# Symmetries in Bell nonlocality, part 2\n",
    "\n",
    "We describe the relabelings in the CHSH scenario, and decompose their action on probability distributions $P(ab|xy)$, now using an abstract group construction.\n",
    "\n",
    "We identify those relabelings with a [wreath product](https://en.wikipedia.org/wiki/Wreath_product) construction, which RepLAB supports.\n",
    "This topic guide can also be considered as a (small) introduction to the group constructions available in RepLAB."
   ]
  },
  {
   "cell_type": "markdown",
   "id": "f9148712",
   "metadata": {},
   "source": [
    "Before using *RepLAB* commands, we must first initialize the library:"
   ]
  },
  {
   "cell_type": "code",
   "execution_count": 1,
   "id": "d9774cd3",
   "metadata": {
    "execution": {
     "iopub.execute_input": "2021-07-29T16:56:15.154291Z",
     "iopub.status.busy": "2021-07-29T16:56:15.153177Z",
     "iopub.status.idle": "2021-07-29T16:56:19.040526Z",
     "shell.execute_reply": "2021-07-29T16:56:19.040196Z"
    }
   },
   "outputs": [],
   "source": [
    "addpath([pwd, '/../../..']);\n",
    "replab_init('verbose', 0);"
   ]
  },
  {
   "cell_type": "markdown",
   "id": "9f0337ab",
   "metadata": {},
   "source": [
    "## Only outputs\n",
    "\n",
    "Outputs are binary, so the relabelling of outputs is the symmetric group\n",
    "of domain size 2."
   ]
  },
  {
   "cell_type": "code",
   "execution_count": 2,
   "id": "225f5bfe",
   "metadata": {
    "execution": {
     "iopub.execute_input": "2021-07-29T16:56:19.042416Z",
     "iopub.status.busy": "2021-07-29T16:56:19.042124Z",
     "iopub.status.idle": "2021-07-29T16:56:19.813590Z",
     "shell.execute_reply": "2021-07-29T16:56:19.813287Z"
    }
   },
   "outputs": [
    {
     "name": "stdout",
     "output_type": "stream",
     "text": [
      "outputGroup ="
     ]
    },
    {
     "name": "stdout",
     "output_type": "stream",
     "text": [
      "\r"
     ]
    },
    {
     "name": "stdout",
     "output_type": "stream",
     "text": [
      "\n"
     ]
    },
    {
     "name": "stdout",
     "output_type": "stream",
     "text": [
      "\r\n",
      "Symmetric group acting on 2 elements\r\n",
      "            identity: [1, 2]\r\n",
      "generator(1 or 'x1'): [2, 1]\r\n",
      "    recognize.source: Cyclic group C(2) of order 2 < x | x^2 = 1 >\r\n",
      "\r\n"
     ]
    }
   ],
   "source": [
    "outputGroup = replab.S(2)"
   ]
  },
  {
   "cell_type": "markdown",
   "id": "ba50ce31",
   "metadata": {},
   "source": [
    "Now, an element of `outputGroup` is just a permutation of the two outputs:"
   ]
  },
  {
   "cell_type": "code",
   "execution_count": 3,
   "id": "f53bbbd3",
   "metadata": {
    "execution": {
     "iopub.execute_input": "2021-07-29T16:56:19.815437Z",
     "iopub.status.busy": "2021-07-29T16:56:19.815150Z",
     "iopub.status.idle": "2021-07-29T16:56:19.843993Z",
     "shell.execute_reply": "2021-07-29T16:56:19.843626Z"
    }
   },
   "outputs": [
    {
     "name": "stdout",
     "output_type": "stream",
     "text": [
      "ans =\r\n",
      "\r\n",
      "Indexed family of 2 elements\r\n",
      "1 = [1, 2]\r\n",
      "2 = [2, 1]\r\n",
      "\r\n"
     ]
    }
   ],
   "source": [
    "outputGroup.elements"
   ]
  },
  {
   "cell_type": "markdown",
   "id": "2a487dcf",
   "metadata": {},
   "source": [
    "The representation of this relabelling on the probabilities $P(a)$ is then the defining representation"
   ]
  },
  {
   "cell_type": "code",
   "execution_count": 4,
   "id": "d0bf1d20",
   "metadata": {
    "execution": {
     "iopub.execute_input": "2021-07-29T16:56:19.845949Z",
     "iopub.status.busy": "2021-07-29T16:56:19.845627Z",
     "iopub.status.idle": "2021-07-29T16:56:19.925985Z",
     "shell.execute_reply": "2021-07-29T16:56:19.925677Z"
    }
   },
   "outputs": [
    {
     "name": "stdout",
     "output_type": "stream",
     "text": [
      "outputRep =\r\n",
      "\r\n",
      "Orthogonal reducible representation\r\n",
      "          dimension: 2\r\n",
      "divisionAlgebraName: []\r\n",
      "              field: 'R'\r\n",
      "              group: Symmetric group acting on 2 elements\r\n",
      "   imagesErrorBound: 0\r\n",
      "          isUnitary: true\r\n",
      "           morphism: replab.mrp.PermToFiniteGroup\r\n",
      "       preimages{1}: [2, 1]\r\n",
      "          images{1}: [0, 1; 1, 0]\r\n",
      "\r\n"
     ]
    },
    {
     "name": "stdout",
     "output_type": "stream",
     "text": [
      "ans =\r\n",
      "\r\n",
      "   0   1\r\n",
      "   1   0\r\n",
      "\r\n"
     ]
    }
   ],
   "source": [
    "outputRep = outputGroup.naturalRep\n",
    "outputRep.image([2 1])"
   ]
  },
  {
   "cell_type": "markdown",
   "id": "e335f3e9",
   "metadata": {},
   "source": [
    "## Inputs and outputs\n",
    "\n",
    "In the CHSH scenario, each party has two binary measurements. Therefore,\n",
    "a copy of $S_2$ acts on the outputs of the first measurement, and a second\n",
    "copy of $S_2$ acting on the outputs of the second measurement, while\n",
    "another copy of $S_2$ permutes the choice of measurement (input).\n",
    "\n",
    "This is described by the wreath product of $S_2$ by $S_2$."
   ]
  },
  {
   "cell_type": "code",
   "execution_count": 5,
   "id": "8db961c0",
   "metadata": {
    "execution": {
     "iopub.execute_input": "2021-07-29T16:56:19.927715Z",
     "iopub.status.busy": "2021-07-29T16:56:19.927425Z",
     "iopub.status.idle": "2021-07-29T16:56:19.997648Z",
     "shell.execute_reply": "2021-07-29T16:56:19.998134Z"
    }
   },
   "outputs": [
    {
     "name": "stdout",
     "output_type": "stream",
     "text": [
      "inputGroup =\r\n",
      "\r\n",
      "Symmetric group acting on 2 elements\r\n",
      "            identity: [1, 2]\r\n",
      "generator(1 or 'x1'): [2, 1]\r\n",
      "    recognize.source: Cyclic group C(2) of order 2 < x | x^2 = 1 >\r\n",
      "\r\n"
     ]
    },
    {
     "name": "stdout",
     "output_type": "stream",
     "text": [
      "ioGroup =\r\n",
      "\r\n",
      "replab.prods.WreathProductGroup_finite\r\n",
      "             A: Symmetric group acting on 2 elements\r\n",
      "             H: Symmetric group acting on 2 elements\r\n",
      "             N: Direct product group with 2 factors\r\n",
      "generatorNames: {'x1', 'x2', 'x3'}\r\n",
      "    generators: 1 x 3 cell\r\n",
      "      identity: {[1, 2], {[1, 2], [1, 2]}}\r\n",
      "             n: 2\r\n",
      "           phi: replab.perm.PermutationCellAction\r\n",
      "representative: {[1, 2], {[1, 2], [1, 2]}}\r\n",
      "          type: replab.prods.WreathProductGroup_finite\r\n",
      "\r\n"
     ]
    }
   ],
   "source": [
    "inputGroup = replab.S(2)\n",
    "ioGroup = inputGroup.wreathProduct(outputGroup)"
   ]
  },
  {
   "cell_type": "markdown",
   "id": "3427b58c",
   "metadata": {},
   "source": [
    "Elements of `ioGroup` are now composed of a permutation of inputs, and the conditional output permutation for $x=1,2$:"
   ]
  },
  {
   "cell_type": "code",
   "execution_count": 6,
   "id": "5cebae88",
   "metadata": {
    "execution": {
     "iopub.execute_input": "2021-07-29T16:56:20.000506Z",
     "iopub.status.busy": "2021-07-29T16:56:20.000213Z",
     "iopub.status.idle": "2021-07-29T16:56:20.245229Z",
     "shell.execute_reply": "2021-07-29T16:56:20.244939Z"
    }
   },
   "outputs": [
    {
     "name": "stdout",
     "output_type": "stream",
     "text": [
      "ans ="
     ]
    },
    {
     "name": "stdout",
     "output_type": "stream",
     "text": [
      "\r"
     ]
    },
    {
     "name": "stdout",
     "output_type": "stream",
     "text": [
      "\n"
     ]
    },
    {
     "name": "stdout",
     "output_type": "stream",
     "text": [
      "\r\n",
      "Indexed family of 8 elements\r\n",
      "1 = {[1, 2], {[1, 2], [1, 2]}}\r\n",
      "2 = {[1, 2], {[1, 2], [2, 1]}}\r\n",
      "3 = {[1, 2], {[2, 1], [1, 2]}}\r\n",
      "4 = {[1, 2], {[2, 1], [2, 1]}}\r\n",
      "5 = {[2, 1], {[1, 2], [1, 2]}}\r\n",
      "6 = {[2, 1], {[1, 2], [2, 1]}}\r\n",
      "7 = {[2, 1], {[2, 1], [1, 2]}}\r\n",
      "8 = {[2, 1], {[2, 1], [2, 1]}}\r\n",
      "\r\n"
     ]
    }
   ],
   "source": [
    "ioGroup.elements"
   ]
  },
  {
   "cell_type": "markdown",
   "id": "8dc2528a",
   "metadata": {},
   "source": [
    "The representation on the conditional probility $P(a|x)$ is the imprimitive representation,\n",
    "given that we use the defining representation\n",
    "for the inner group"
   ]
  },
  {
   "cell_type": "code",
   "execution_count": 7,
   "id": "9098698f",
   "metadata": {
    "execution": {
     "iopub.execute_input": "2021-07-29T16:56:20.247545Z",
     "iopub.status.busy": "2021-07-29T16:56:20.247261Z",
     "iopub.status.idle": "2021-07-29T16:56:20.336348Z",
     "shell.execute_reply": "2021-07-29T16:56:20.335977Z"
    }
   },
   "outputs": [],
   "source": [
    "ioRep = ioGroup.imprimitiveRep(outputRep);"
   ]
  },
  {
   "cell_type": "code",
   "execution_count": 8,
   "id": "9a5714a2",
   "metadata": {
    "execution": {
     "iopub.execute_input": "2021-07-29T16:56:20.338578Z",
     "iopub.status.busy": "2021-07-29T16:56:20.338301Z",
     "iopub.status.idle": "2021-07-29T16:56:20.349427Z",
     "shell.execute_reply": "2021-07-29T16:56:20.349145Z"
    }
   },
   "outputs": [
    {
     "name": "stdout",
     "output_type": "stream",
     "text": [
      "ans =\r\n",
      "\r\n",
      "   0   0   1   0\r\n",
      "   0   0   0   1\r\n",
      "   1   0   0   0\r\n",
      "   0   1   0   0\r\n",
      "\r\n"
     ]
    }
   ],
   "source": [
    "ioRep.image({[2 1] {[1 2] [1 2]}}) % permuting only the inputs"
   ]
  },
  {
   "cell_type": "code",
   "execution_count": 9,
   "id": "9fcd1106",
   "metadata": {
    "execution": {
     "iopub.execute_input": "2021-07-29T16:56:20.351135Z",
     "iopub.status.busy": "2021-07-29T16:56:20.350850Z",
     "iopub.status.idle": "2021-07-29T16:56:20.361069Z",
     "shell.execute_reply": "2021-07-29T16:56:20.361290Z"
    }
   },
   "outputs": [
    {
     "name": "stdout",
     "output_type": "stream",
     "text": [
      "ans =\r\n",
      "\r\n",
      "   0   1   0   0\r\n",
      "   1   0   0   0\r\n",
      "   0   0   1   0\r\n",
      "   0   0   0   1\r\n",
      "\r\n"
     ]
    }
   ],
   "source": [
    "ioRep.image({[1 2] {[2 1] [1 2]}}) % permuting only the outputs, conditioned on $x=1$"
   ]
  }
 ],
 "metadata": {
  "jupytext": {
   "cell_metadata_filter": "-all",
   "main_language": "matlab",
   "notebook_metadata_filter": "-all",
   "text_representation": {
    "extension": ".m",
    "format_name": "light"
   }
  },
  "language_info": {
   "file_extension": ".m",
   "help_links": [
    {
     "text": "GNU Octave",
     "url": "https://www.gnu.org/software/octave/support.html"
    },
    {
     "text": "Octave Kernel",
     "url": "https://github.com/Calysto/octave_kernel"
    },
    {
     "text": "MetaKernel Magics",
     "url": "https://metakernel.readthedocs.io/en/latest/source/README.html"
    }
   ],
   "mimetype": "text/x-octave",
   "name": "octave",
   "version": "6.2.0"
  }
 },
 "nbformat": 4,
 "nbformat_minor": 5
}
