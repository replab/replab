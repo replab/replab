{
 "cells": [
  {
   "cell_type": "markdown",
   "id": "03d1229d",
   "metadata": {},
   "source": [
    "# Symmetries in Bell nonlocality, part 1\n",
    "\n",
    "For a compact introduction to representation theory, see the [book of Jean-Pierre Serre](https://link.springer.com/book/10.1007/978-1-4684-9458-7).\n",
    "\n",
    "Follow the [installation instructions](https://replab.github.io/replab/docs/installation.html).\n",
    "\n",
    "Then add the RepLAB path. The path below is the one for the machine that produced this notebook! Replace by your own. Or, better, move to the root RepLAB folder and just run the `replab_init` script."
   ]
  },
  {
   "cell_type": "code",
   "execution_count": 1,
   "id": "66ab033b",
   "metadata": {
    "execution": {
     "iopub.execute_input": "2021-08-03T13:42:30.247913Z",
     "iopub.status.busy": "2021-08-03T13:42:30.244128Z",
     "iopub.status.idle": "2021-08-03T13:42:37.548748Z",
     "shell.execute_reply": "2021-08-03T13:42:37.548205Z"
    }
   },
   "outputs": [],
   "source": [
    "addpath([pwd, '/../../..']);\n",
    "replab_init('verbose', 0);"
   ]
  },
  {
   "cell_type": "markdown",
   "id": "1df73212",
   "metadata": {},
   "source": [
    "## Symmetries of the outcomes of a measurement\n",
    "\n",
    "We start by studying the symmetries of a single measurement on a quantum system. Let us say that the measurement has outcomes $a = 1, 2, \\ldots, k$.\n",
    "\n",
    "### Symmetry group\n",
    "\n",
    "We are interested in relabelings of these outcomes; those relabelings are represented by permutations. The group of all permutations of $k$ elements is the symmetric group of degree $k$, written $S_k$.\n",
    "\n",
    "For the motivation, see our [paper on the symmetries of nonlocality in the context of device-independence](https://arxiv.org/abs/1610.01833). See also the [description of the symmetric group on Wikipedia](https://en.wikipedia.org/wiki/Symmetric_group).\n",
    "\n",
    "In particular, there are different ways of writing elements of a symmetric group. RepLAB chooses to write down the permutation as the image row vector. For $\\pi \\in S_5$, we write $\\pi = [\\pi(1), \\pi(2), \\pi(3), \\pi(4), \\pi(5)]$ (using square brackets to distinguish this notation from the cycle notation), which corresponds to the *one-line notation* of https://en.wikipedia.org/wiki/Permutation#Notations .\n",
    "\n",
    "For the group axioms, Wikipedia has a [compact discussion](https://en.wikipedia.org/wiki/Group_(mathematics)) . When composing permutations, one needs to decide, for $\\pi, \\sigma \\in S_k$, how to compute the product $\\pi \\cdot \\sigma$. We make the choice of having $(\\pi \\cdot \\sigma)(a) = \\pi ( \\sigma (a))$, which corresponds to a left action, i.e. $\\sigma$ is applied first. See https://en.wikipedia.org/wiki/Permutation#Composition_of_permutations for details.\n",
    "\n",
    "This choice of composition corresponds to standard notation used in physics; however computational group theory uses a right action convention, most of the time using the *exponent notation*. Those notation choices should not concern the RepLAB user, as we made sure that the software uses consistent notation.\n",
    "\n",
    "Below, we construct the symmetric group $S_5$. The object `S5` we construct knows how to compose permutations, when they are written using row vectors of integers in Matlab/Octave. The composition example is the one from [Wikipedia](https://en.wikipedia.org/wiki/Symmetric_group#Multiplication), and we check that we recover the same results."
   ]
  },
  {
   "cell_type": "code",
   "execution_count": 2,
   "id": "1ddff3b9",
   "metadata": {
    "execution": {
     "iopub.execute_input": "2021-08-03T13:42:37.552127Z",
     "iopub.status.busy": "2021-08-03T13:42:37.551577Z",
     "iopub.status.idle": "2021-08-03T13:42:37.616171Z",
     "shell.execute_reply": "2021-08-03T13:42:37.616625Z"
    }
   },
   "outputs": [
    {
     "name": "stdout",
     "output_type": "stream",
     "text": [
      "warning: Direct constructor call is deprecated. Please call replab.S(n) instead of replab.SymmetricGroup(n)\r\n",
      "warning: called from\r\n",
      "    SymmetricGroup at line 46 column 17\r\n",
      "\r\n"
     ]
    },
    {
     "name": "stdout",
     "output_type": "stream",
     "text": [
      "f =\r\n",
      "\r\n",
      "   3   2   1   5   4\r\n",
      "\r\n"
     ]
    },
    {
     "name": "stdout",
     "output_type": "stream",
     "text": [
      "g =\r\n",
      "\r\n",
      "   2   5   4   3   1\r\n",
      "\r\n"
     ]
    },
    {
     "name": "stdout",
     "output_type": "stream",
     "text": [
      "fg =\r\n",
      "\r\n",
      "   2   4   5   1   3\r\n",
      "\r\n"
     ]
    }
   ],
   "source": [
    "S5 = replab.SymmetricGroup(5); % or shorter, S5 = replab.S(5)\n",
    "f = [3 2 1 5 4]\n",
    "g = [2 5 4 3 1]\n",
    "fg = S5.compose(f, g)"
   ]
  },
  {
   "cell_type": "markdown",
   "id": "f59f9ac7",
   "metadata": {},
   "source": [
    "Note that permutations carry the size of their domain with them: the permutation $[2, 3, 1, 4]$ is not the same as the permutation $[2, 3, 1]$ even if both have the same action on $1,2,3$ and the first one leaves $4$ invariant."
   ]
  },
  {
   "cell_type": "markdown",
   "id": "23d2f2eb",
   "metadata": {},
   "source": [
    "**Exercice**: for fun, try to run `S5.order`, `S5.inverse(f)`, `S5.elements`, `S5.sample`. Construct `S50 = replab.SymmetricGroup(50)`. Compute `S50.order`, and try `S50.elements`."
   ]
  },
  {
   "cell_type": "markdown",
   "id": "fc4b860c",
   "metadata": {},
   "source": [
    "### Representation\n",
    "\n",
    "The distribution of outcomes of the measurement above can be represented by the distribution $P_\\text{A}(a)$. We can also represent the distribution as a vector $\\vec{P}_\\text{A} \\in V = \\mathbb{R}^5$, with the following enumeration of coefficients: $\\vec{P}_\\text{A}^\\top = \\left ( P_\\text{A}(1), P_\\text{A}(2),  P_\\text{A}(3),  P_\\text{A}(4) ,  P_\\text{A}(5) \\right )$ . This action of elements of $S_5$ on $V = \\mathbb{R}^5$ is encoded as a [group representation](https://en.wikipedia.org/wiki/Representation_theory#Definition); in RepLAB we call it the *defining representation* of $S_5$."
   ]
  },
  {
   "cell_type": "code",
   "execution_count": 3,
   "id": "0c13bd6c",
   "metadata": {
    "execution": {
     "iopub.execute_input": "2021-08-03T13:42:37.619730Z",
     "iopub.status.busy": "2021-08-03T13:42:37.619116Z",
     "iopub.status.idle": "2021-08-03T13:42:38.005974Z",
     "shell.execute_reply": "2021-08-03T13:42:38.005497Z"
    }
   },
   "outputs": [
    {
     "name": "stdout",
     "output_type": "stream",
     "text": [
      "rep5 ="
     ]
    },
    {
     "name": "stdout",
     "output_type": "stream",
     "text": [
      "\r"
     ]
    },
    {
     "name": "stdout",
     "output_type": "stream",
     "text": [
      "\n"
     ]
    },
    {
     "name": "stdout",
     "output_type": "stream",
     "text": [
      "\r\n",
      "Orthogonal reducible representation\r\n",
      "   dimension: 5\r\n",
      "       field: 'R'\r\n",
      "       group: Symmetric group acting on 5 elements\r\n",
      "   isUnitary: true\r\n",
      "preimages{1}: [2, 3, 4, 5, 1]\r\n",
      "   images{1}: 5 x 5 double\r\n",
      "preimages{2}: [2, 1, 3, 4, 5]\r\n",
      "   images{2}: 5 x 5 double\r\n",
      "\r\n"
     ]
    },
    {
     "name": "stdout",
     "output_type": "stream",
     "text": [
      "ans =\r\n",
      "\r\n",
      "   0   0   0   0   1\r\n",
      "   1   0   0   0   0\r\n",
      "   0   0   0   1   0\r\n",
      "   0   0   1   0   0\r\n",
      "   0   1   0   0   0\r\n",
      "\r\n"
     ]
    },
    {
     "name": "stdout",
     "output_type": "stream",
     "text": [
      "ans =\r\n",
      "\r\n",
      "   0   0   0   0   0\r\n",
      "   0   0   0   0   0\r\n",
      "   0   0   0   0   0\r\n",
      "   0   0   0   0   0\r\n",
      "   0   0   0   0   0\r\n",
      "\r\n"
     ]
    }
   ],
   "source": [
    "rep5 = S5.naturalRep\n",
    "rep5.image(g)\n",
    "rep5.image(f)*rep5.image(g) - rep5.image(S5.compose(f, g)) % check the representation composition axiom"
   ]
  },
  {
   "cell_type": "markdown",
   "id": "23dc91c7",
   "metadata": {},
   "source": [
    "### Invariant subspaces and subrepresentations\n",
    "\n",
    "Let $G$ be a group, and $\\rho: G \\to GL(V)$ a representation of $G$ on a vector space $V$. The space $GL(V)$ designates invertible linear maps from $V$ to $V$. In RepLAB, the vector space $V$ is defined either over the real or complex numbers.\n",
    "\n",
    "An invariant subspace of $V$ is a subspace $W \\subseteq V$ that stays invariant under the action of $\\rho$. Formally, we want for all $\\vec{w} \\in W$ and $g \\in G$ that $\\rho_g ~ \\vec{w} \\in W$.\n",
    "\n",
    "Any representation $V$ has two subrepresentations: the empty subspace $0$ and $V$ itself.\n",
    "\n",
    "For any permutation representation like `rep5` above, the subspace spanned by the vector of all ones $(1,1,1,1,1)^\\top$ is a subrepresentation: any vector of the form $(x,x,x,x,x)^\\top\\in\\mathbb{R}^5$ stays invariant under permutation of coefficients.\n",
    "\n",
    "The representations we construct are unitary, that is $\\rho_g^+ = \\rho_g^{-1} = \\rho_{g^{-1}}$. Most of the literature assumes unitarity \"without loss of generality\", as a finite dimensional nonunitary representation for a compact group can always be made unitary after a change of basis.\n",
    "\n",
    "With the other assumptions we make, this means that the orthogonal complement to $(1,1,1,1,1)^\\top$ is also an invariant subspace.\n",
    "\n",
    "By restricting a representation $\\rho$ to one of its invariant subspaces, one then defines a subrepresentation.\n",
    "\n",
    "A representation that has no invariant subspaces except $0$ and the full space $V$ is *irreducible*. The decomposition of a representation into irreducible representations can be obtained by recursively decomposing subrepresentations until the components are irreducible; obtaining that decomposition is pretty tricky, but luckily RepLAB automates that.\n",
    "\n",
    "We obtain this decomposition and consider the first irreducible subrepresentation: the vector of all ones. Note that RepLAB recovers a \"nice\" algebraic expression for the basis of that subspace if we apply the `nice` method on the decomposition; this works in a few cases, the rest of the time that basis will be numerical/approximate to floating-point precision. We also check how the representation looks in that invariant subspace."
   ]
  },
  {
   "cell_type": "code",
   "execution_count": 4,
   "id": "60973071",
   "metadata": {
    "execution": {
     "iopub.execute_input": "2021-08-03T13:42:38.009719Z",
     "iopub.status.busy": "2021-08-03T13:42:38.009185Z",
     "iopub.status.idle": "2021-08-03T13:42:38.296067Z",
     "shell.execute_reply": "2021-08-03T13:42:38.296545Z"
    }
   },
   "outputs": [
    {
     "name": "stdout",
     "output_type": "stream",
     "text": [
      "D5 =\r\n",
      "\r\n",
      "Orthogonal reducible representation\r\n",
      "        dimension: 5\r\n",
      "            field: 'R'\r\n",
      "            group: Symmetric group acting on 5 elements\r\n",
      "        isUnitary: true\r\n",
      "           parent: Orthogonal reducible representation\r\n",
      "basis(1,'double'): [0.44721; 0.44721; 0.44721; 0.44721; 0.44721]\r\n",
      "basis(2,'double'): [0.23777; -0.83924; -0.031935; 0.17975; 0.45366]\r\n",
      "basis(3,'double'): [0.41557; -0.26313; 0.6138; -0.17366; -0.59258]\r\n",
      "basis(4,'double'): [-0.63129; -0.079145; 0.64171; -0.26651; 0.33523]\r\n",
      "basis(5,'double'): [-0.41501; -0.14201; 0.10211; 0.8164; -0.36148]\r\n",
      "     component(1): Isotypic component R(1) (trivial)\r\n",
      "     component(2): Isotypic component R(4) (nontrivial)\r\n",
      "\r\n"
     ]
    }
   ],
   "source": [
    "% The floating point approximate decomposition\n",
    "D5 = rep5.decomposition"
   ]
  },
  {
   "cell_type": "code",
   "execution_count": 5,
   "id": "152d63ef",
   "metadata": {
    "execution": {
     "iopub.execute_input": "2021-08-03T13:42:38.299768Z",
     "iopub.status.busy": "2021-08-03T13:42:38.299233Z",
     "iopub.status.idle": "2021-08-03T13:42:44.143393Z",
     "shell.execute_reply": "2021-08-03T13:42:44.143823Z"
    }
   },
   "outputs": [
    {
     "name": "stdout",
     "output_type": "stream",
     "text": [
      "N5 =\r\n",
      "\r\n",
      "Real reducible representation\r\n",
      "        dimension: 5\r\n",
      "            field: 'R'\r\n",
      "            group: Symmetric group acting on 5 elements\r\n",
      "        isUnitary: false\r\n",
      "           parent: Orthogonal reducible representation\r\n",
      "basis(1,'double'): [0.2; 0.2; 0.2; 0.2; 0.2]\r\n",
      "basis(2,'double'): [0.8; -0.2; -0.2; -0.2; -0.2]\r\n",
      "basis(3,'double'): [-0.2; 0.8; -0.2; -0.2; -0.2]\r\n",
      "basis(4,'double'): [-0.2; -0.2; 0.8; -0.2; -0.2]\r\n",
      "basis(5,'double'): [-0.2; -0.2; -0.2; 0.8; -0.2]\r\n",
      "     component(1): Isotypic component R(1) (trivial)\r\n",
      "     component(2): Isotypic component R(4) (nontrivial)\r\n",
      "\r\n"
     ]
    }
   ],
   "source": [
    "% Recovering nice coefficients for the basis\n",
    "N5 = D5.nice"
   ]
  },
  {
   "cell_type": "code",
   "execution_count": 6,
   "id": "3aa3cc8f",
   "metadata": {
    "execution": {
     "iopub.execute_input": "2021-08-03T13:42:44.147466Z",
     "iopub.status.busy": "2021-08-03T13:42:44.146768Z",
     "iopub.status.idle": "2021-08-03T13:42:44.205022Z",
     "shell.execute_reply": "2021-08-03T13:42:44.205398Z"
    }
   },
   "outputs": [
    {
     "name": "stdout",
     "output_type": "stream",
     "text": [
      "subrep5a =\r\n",
      "\r\n",
      "Orthogonal trivial irreducible real-type subrepresentation\r\n",
      "        dimension: 1\r\n",
      "            field: 'R'\r\n",
      "            group: Symmetric group acting on 5 elements\r\n",
      "        isUnitary: true\r\n",
      "           parent: Orthogonal reducible representation\r\n",
      "basis(1,'double'): [0.44721; 0.44721; 0.44721; 0.44721; 0.44721]\r\n",
      "\r\n"
     ]
    },
    {
     "name": "stdout",
     "output_type": "stream",
     "text": [
      "ans = 1\r\n"
     ]
    },
    {
     "name": "stdout",
     "output_type": "stream",
     "text": [
      "ans = 1\r\n"
     ]
    }
   ],
   "source": [
    "% Images in the subrepresentations\n",
    "subrep5a = D5.irrep(1) % this is the first irreducible component\n",
    "subrep5a.image(S5.generator(1))\n",
    "subrep5a.image(S5.generator(2))"
   ]
  },
  {
   "cell_type": "markdown",
   "id": "f398ce4d",
   "metadata": {},
   "source": [
    "We note that both generators of $S_5$ look like the identity matrix of dimension $1$ in that subrepresentation. Thus, any element of $S_5$ corresponds to the identity matrix for that subrepresentation. Such a representation with an identity image is the *trivial representation*.\n",
    "\n",
    "We move now to the other subrepresentation."
   ]
  },
  {
   "cell_type": "code",
   "execution_count": 7,
   "id": "52458db1",
   "metadata": {
    "execution": {
     "iopub.execute_input": "2021-08-03T13:42:44.208354Z",
     "iopub.status.busy": "2021-08-03T13:42:44.207912Z",
     "iopub.status.idle": "2021-08-03T13:42:44.279841Z",
     "shell.execute_reply": "2021-08-03T13:42:44.280209Z"
    }
   },
   "outputs": [
    {
     "name": "stdout",
     "output_type": "stream",
     "text": [
      "subrep5b =\r\n",
      "\r\n",
      "Orthogonal fully nontrivial irreducible real-type subrepresentation\r\n",
      "        dimension: 4\r\n",
      "            field: 'R'\r\n",
      "            group: Symmetric group acting on 5 elements\r\n",
      "        isUnitary: true\r\n",
      "           parent: Orthogonal reducible representation\r\n",
      "basis(1,'double'): [0.23777; -0.83924; -0.031935; 0.17975; 0.45366]\r\n",
      "basis(2,'double'): [0.41557; -0.26313; 0.6138; -0.17366; -0.59258]\r\n",
      "basis(3,'double'): [-0.63129; -0.079145; 0.64171; -0.26651; 0.33523]\r\n",
      "basis(4,'double'): [-0.41501; -0.14201; 0.10211; 0.8164; -0.36148]\r\n",
      "\r\n"
     ]
    },
    {
     "name": "stdout",
     "output_type": "stream",
     "text": [
      "ans =\r\n",
      "\r\n",
      "   0.010924  -0.449711   0.606490   0.655599\r\n",
      "  -0.490142  -0.520806   0.303331  -0.629692\r\n",
      "  -0.774995  -0.049459  -0.472819   0.416388\r\n",
      "  -0.398778   0.723930   0.562675  -0.017299\r\n",
      "\r\n"
     ]
    },
    {
     "name": "stdout",
     "output_type": "stream",
     "text": [
      "ans =\r\n",
      "\r\n",
      "  -0.1600  -0.7310   0.5947   0.2940\r\n",
      "  -0.7310   0.5394   0.3747   0.1853\r\n",
      "   0.5947   0.3747   0.6951  -0.1507\r\n",
      "   0.2940   0.1853  -0.1507   0.9255\r\n",
      "\r\n"
     ]
    }
   ],
   "source": [
    "subrep5b = D5.irrep(2)\n",
    "subrep5b.image(S5.generator(1))\n",
    "subrep5b.image(S5.generator(2))"
   ]
  },
  {
   "cell_type": "markdown",
   "id": "26e2a642",
   "metadata": {},
   "source": [
    "Now the generators of $S_5$ look like they are doing something in that subrepresentation! That representation is actually the [standard representation](https://groupprops.subwiki.org/wiki/Standard_representation) of $S_5$.\n",
    "\n",
    "### Physical interpretation\n",
    "\n",
    "The physical interpretation of invariant subspaces is that they correspond to properties that are preserved under symmetry.\n",
    "\n",
    "In the present case, the split into the two subrepresentations highlight a property of probability distributions invariant under relabeling of outcomes, the *normalization* of the distribution.\n",
    "\n",
    "### The original representation in the basis that exhibits the decomposition\n",
    "\n",
    "The matrix $B$ is the change of basis that block diagonalizes the representation. Here, we can show that `rep5` has a 1x1 and 4x4 block structure in the relevant basis."
   ]
  },
  {
   "cell_type": "code",
   "execution_count": 8,
   "id": "8db589c7",
   "metadata": {
    "execution": {
     "iopub.execute_input": "2021-08-03T13:42:44.283724Z",
     "iopub.status.busy": "2021-08-03T13:42:44.283224Z",
     "iopub.status.idle": "2021-08-03T13:42:44.314156Z",
     "shell.execute_reply": "2021-08-03T13:42:44.313623Z"
    }
   },
   "outputs": [
    {
     "name": "stdout",
     "output_type": "stream",
     "text": [
      "B =\r\n",
      "\r\n",
      "   0.447214   0.237772   0.415569  -0.631293  -0.415013\r\n",
      "   0.447214  -0.839244  -0.263134  -0.079145  -0.142009\r\n",
      "   0.447214  -0.031935   0.613805   0.641715   0.102105\r\n",
      "   0.447214   0.179750  -0.173664  -0.266508   0.816397\r\n",
      "   0.447214   0.453657  -0.592577   0.335232  -0.361481\r\n",
      "\r\n"
     ]
    },
    {
     "name": "stdout",
     "output_type": "stream",
     "text": [
      "ans =\r\n",
      "\r\n",
      "   1.0000e+00   1.3116e-16   4.6530e-18  -3.6067e-17  -2.0394e-16\r\n",
      "  -1.7418e-16   1.0924e-02  -4.4971e-01   6.0649e-01   6.5560e-01\r\n",
      "  -1.4525e-16  -4.9014e-01  -5.2081e-01   3.0333e-01  -6.2969e-01\r\n",
      "   9.7141e-17  -7.7500e-01  -4.9459e-02  -4.7282e-01   4.1639e-01\r\n",
      "  -5.1955e-18  -3.9878e-01   7.2393e-01   5.6267e-01  -1.7299e-02\r\n",
      "\r\n"
     ]
    },
    {
     "name": "stdout",
     "output_type": "stream",
     "text": [
      "ans =\r\n",
      "\r\n",
      "   1.0000e+00   1.0855e-16   7.0442e-17  -1.5655e-16  -2.5029e-17\r\n",
      "  -1.9569e-16  -1.5996e-01  -7.3097e-01   5.9467e-01   2.9403e-01\r\n",
      "  -8.9613e-17  -7.3097e-01   5.3936e-01   3.7474e-01   1.8529e-01\r\n",
      "   7.4600e-17   5.9467e-01   3.7474e-01   6.9513e-01  -1.5074e-01\r\n",
      "   2.3531e-18   2.9403e-01   1.8529e-01  -1.5074e-01   9.2547e-01\r\n",
      "\r\n"
     ]
    }
   ],
   "source": [
    "B = D5.basis\n",
    "inv(B) * rep5.image(S5.generator(1)) * B\n",
    "inv(B) * rep5.image(S5.generator(2)) * B"
   ]
  },
  {
   "cell_type": "markdown",
   "id": "6576b60a",
   "metadata": {},
   "source": [
    "## Another example\n",
    "\n",
    "To continue this discussion, we consider a measurement with two outcomes $a=1,2$. The symmetry group is now $S_2$, and has two elements: identity $[1,2]$ and flip $[2,1]$."
   ]
  },
  {
   "cell_type": "code",
   "execution_count": 9,
   "id": "cc7c227b",
   "metadata": {
    "execution": {
     "iopub.execute_input": "2021-08-03T13:42:44.316903Z",
     "iopub.status.busy": "2021-08-03T13:42:44.316430Z",
     "iopub.status.idle": "2021-08-03T13:42:45.683342Z",
     "shell.execute_reply": "2021-08-03T13:42:45.682615Z"
    }
   },
   "outputs": [
    {
     "name": "stdout",
     "output_type": "stream",
     "text": [
      "warning: Direct constructor call is deprecated. Please call replab.S(n) instead of replab.SymmetricGroup(n)"
     ]
    },
    {
     "name": "stdout",
     "output_type": "stream",
     "text": [
      "\r"
     ]
    },
    {
     "name": "stdout",
     "output_type": "stream",
     "text": [
      "\n",
      "warning: called from"
     ]
    },
    {
     "name": "stdout",
     "output_type": "stream",
     "text": [
      "\r"
     ]
    },
    {
     "name": "stdout",
     "output_type": "stream",
     "text": [
      "\n",
      "    SymmetricGroup at line 46 column 17"
     ]
    },
    {
     "name": "stdout",
     "output_type": "stream",
     "text": [
      "\r"
     ]
    },
    {
     "name": "stdout",
     "output_type": "stream",
     "text": [
      "\n"
     ]
    },
    {
     "name": "stdout",
     "output_type": "stream",
     "text": [
      "\r"
     ]
    },
    {
     "name": "stdout",
     "output_type": "stream",
     "text": [
      "\n",
      "S2 ="
     ]
    },
    {
     "name": "stdout",
     "output_type": "stream",
     "text": [
      "\r"
     ]
    },
    {
     "name": "stdout",
     "output_type": "stream",
     "text": [
      "\n"
     ]
    },
    {
     "name": "stdout",
     "output_type": "stream",
     "text": [
      "\r\n",
      "Symmetric group acting on 2 elements\r\n",
      "            identity: [1, 2]\r\n",
      "generator(1 or 'x1'): [2, 1]\r\n",
      "    recognize.source: Cyclic group C(2) of order 2 < x | x^2 = 1 >\r\n",
      "\r\n"
     ]
    },
    {
     "name": "stdout",
     "output_type": "stream",
     "text": [
      "ans =\r\n",
      "\r\n",
      "Indexed family of 2 elements\r\n",
      "1 = [1, 2]\r\n",
      "2 = [2, 1]\r\n",
      "\r\n"
     ]
    }
   ],
   "source": [
    "S2 = replab.SymmetricGroup(2)\n",
    "S2.elements"
   ]
  },
  {
   "cell_type": "markdown",
   "id": "bdbd6ab9",
   "metadata": {},
   "source": [
    "The defining representation has two images: the identity $\\begin{pmatrix}1 & 0\\\\0 & 1\\end{pmatrix}$ and the flip $\\begin{pmatrix}0 & 1\\\\1 & 0 \\end{pmatrix}$."
   ]
  },
  {
   "cell_type": "code",
   "execution_count": 10,
   "id": "7441b797",
   "metadata": {
    "execution": {
     "iopub.execute_input": "2021-08-03T13:42:45.686497Z",
     "iopub.status.busy": "2021-08-03T13:42:45.685903Z",
     "iopub.status.idle": "2021-08-03T13:42:45.830870Z",
     "shell.execute_reply": "2021-08-03T13:42:45.830223Z"
    }
   },
   "outputs": [
    {
     "name": "stdout",
     "output_type": "stream",
     "text": [
      "rep2 ="
     ]
    },
    {
     "name": "stdout",
     "output_type": "stream",
     "text": [
      "\r"
     ]
    },
    {
     "name": "stdout",
     "output_type": "stream",
     "text": [
      "\n"
     ]
    },
    {
     "name": "stdout",
     "output_type": "stream",
     "text": [
      "\r\n",
      "Orthogonal reducible representation\r\n",
      "   dimension: 2\r\n",
      "       field: 'R'\r\n",
      "       group: Symmetric group acting on 2 elements\r\n",
      "   isUnitary: true\r\n",
      "preimages{1}: [2, 1]\r\n",
      "   images{1}: [0, 1; 1, 0]\r\n",
      "\r\n"
     ]
    },
    {
     "name": "stdout",
     "output_type": "stream",
     "text": [
      "ans =\r\n",
      "\r\n",
      "   1   0\r\n",
      "   0   1\r\n",
      "\r\n"
     ]
    },
    {
     "name": "stdout",
     "output_type": "stream",
     "text": [
      "ans =\r\n",
      "\r\n",
      "   0   1\r\n",
      "   1   0\r\n",
      "\r\n"
     ]
    }
   ],
   "source": [
    "rep2 = S2.naturalRep\n",
    "rep2.image([1,2])\n",
    "rep2.image([2,1])"
   ]
  },
  {
   "cell_type": "markdown",
   "id": "b9ca26ee",
   "metadata": {},
   "source": [
    "Now, one can check that the two subrepresentations correspond to vector spaces spanned by $(1,1)^\\top$ and $(1,-1)^\\top$ respectively."
   ]
  },
  {
   "cell_type": "code",
   "execution_count": 11,
   "id": "e913ba7a",
   "metadata": {
    "execution": {
     "iopub.execute_input": "2021-08-03T13:42:45.834542Z",
     "iopub.status.busy": "2021-08-03T13:42:45.833908Z",
     "iopub.status.idle": "2021-08-03T13:42:46.624812Z",
     "shell.execute_reply": "2021-08-03T13:42:46.625210Z"
    }
   },
   "outputs": [
    {
     "name": "stdout",
     "output_type": "stream",
     "text": [
      "D2 =\r\n",
      "\r\n",
      "Real reducible representation\r\n",
      "       dimension: 2\r\n",
      "           field: 'R'\r\n",
      "           group: Symmetric group acting on 2 elements\r\n",
      "       isUnitary: false\r\n",
      "          parent: Orthogonal reducible representation\r\n",
      "basis(1,'exact'): [1/2; 1/2]\r\n",
      "basis(2,'exact'): [1/2; -1/2]\r\n",
      "    component(1): Isotypic component R(1) (trivial)\r\n",
      "    component(2): Isotypic component R(1) (nontrivial)\r\n",
      "\r\n"
     ]
    },
    {
     "name": "stdout",
     "output_type": "stream",
     "text": [
      "ans =\r\n",
      "\r\n",
      "   0.5000\r\n",
      "   0.5000\r\n",
      "\r\n"
     ]
    },
    {
     "name": "stdout",
     "output_type": "stream",
     "text": [
      "ans =\r\n",
      "\r\n",
      "   0.5000\r\n",
      "  -0.5000\r\n",
      "\r\n"
     ]
    }
   ],
   "source": [
    "D2 = rep2.decomposition.nice\n",
    "D2.irrep(1).basis\n",
    "D2.irrep(2).basis"
   ]
  },
  {
   "cell_type": "markdown",
   "id": "8ba6a37b",
   "metadata": {},
   "source": [
    "Up to a multiplicative factor, these two vectors extract two quantities: $(1,1) \\cdot \\vec{P}$ computes the normalization, while $(1,-1) \\cdot \\vec{P}$ computes the correlator $P(1) - P(2)$ often used in quantum information for systems with binary outcomes.\n",
    "\n",
    "Note that the flip operation leaves $(1,1)$ invariant, while it changes the sign of $(1,-1)$. Accordingly, the subrepresentation in the subspace spanned by $(1,-1)$ is called the *sign representation*."
   ]
  },
  {
   "cell_type": "markdown",
   "id": "f3251359",
   "metadata": {},
   "source": [
    "## Conditional probability distributions\n",
    "\n",
    "We now move to the study of conditional probability distributions $P_{A|X}(a|x)$. For simplicity, we consider binary outputs $a=1,2$ and binary inputs $x=1,2$. We enumerate the coefficients in a vector $\\vec{P} = (P(1|1), P(2|1), P(1|2), P(2|2))^\\top$.\n",
    "\n",
    "Different operations are available:\n",
    "\n",
    "- Permutation of inputs, which will permute coefficients of $\\vec{P}$ according to $g_1 = [3,4,1,2]$.\n",
    "\n",
    "- Permutation of outputs of the first measurement, which will permute $\\vec{P}$ according to $g_2 = [2,1,3,4]$.\n",
    "\n",
    "- The permutation of outputs of the second measurement is achieved by conjugating $g_2$ by $g_1$, i.e. by $g_1 ~ g_2 ~ g_1$, so we do not need to provide that group generator explicitly.\n",
    "\n",
    "We then construct the group $G=\\left <g_1, g_2 \\right>$ and its defining representation, which we decompose into irreducible subrepresentations."
   ]
  },
  {
   "cell_type": "code",
   "execution_count": 12,
   "id": "9aa205a1",
   "metadata": {
    "execution": {
     "iopub.execute_input": "2021-08-03T13:42:46.628942Z",
     "iopub.status.busy": "2021-08-03T13:42:46.628353Z",
     "iopub.status.idle": "2021-08-03T13:42:54.986961Z",
     "shell.execute_reply": "2021-08-03T13:42:54.986355Z"
    }
   },
   "outputs": [
    {
     "name": "stdout",
     "output_type": "stream",
     "text": [
      "warning: Direct constructor call is deprecated. Please call replab.S(n) instead of replab.SymmetricGroup(n)\r\n",
      "warning: called from\r\n",
      "    SymmetricGroup at line 46 column 17\r\n",
      "\r\n"
     ]
    },
    {
     "name": "stdout",
     "output_type": "stream",
     "text": [
      "G ="
     ]
    },
    {
     "name": "stdout",
     "output_type": "stream",
     "text": [
      "\r"
     ]
    },
    {
     "name": "stdout",
     "output_type": "stream",
     "text": [
      "\n"
     ]
    },
    {
     "name": "stdout",
     "output_type": "stream",
     "text": [
      "\r\n",
      "Permutation group acting on 4 elements of order 8\r\n",
      "            identity: [1, 2, 3, 4]\r\n",
      "generator(1 or 'x1'): [3, 4, 1, 2]\r\n",
      "generator(2 or 'x2'): [2, 1, 3, 4]\r\n",
      "    recognize.source: Dihedral group of order 8\r\n",
      "\r\n"
     ]
    },
    {
     "name": "stdout",
     "output_type": "stream",
     "text": [
      "ans ="
     ]
    },
    {
     "name": "stdout",
     "output_type": "stream",
     "text": [
      "\r"
     ]
    },
    {
     "name": "stdout",
     "output_type": "stream",
     "text": [
      "\n"
     ]
    },
    {
     "name": "stdout",
     "output_type": "stream",
     "text": [
      "\r\n",
      "Indexed family of 8 elements\r\n",
      "1 = [1, 2, 3, 4]\r\n",
      "2 = [1, 2, 4, 3]\r\n",
      "3 = [2, 1, 3, 4]\r\n",
      "4 = [2, 1, 4, 3]\r\n",
      "5 = [3, 4, 1, 2]\r\n",
      "6 = [3, 4, 2, 1]\r\n",
      "7 = [4, 3, 1, 2]\r\n",
      "8 = [4, 3, 2, 1]\r\n",
      "\r\n"
     ]
    },
    {
     "name": "stdout",
     "output_type": "stream",
     "text": [
      "Grep ="
     ]
    },
    {
     "name": "stdout",
     "output_type": "stream",
     "text": [
      "\r"
     ]
    },
    {
     "name": "stdout",
     "output_type": "stream",
     "text": [
      "\n"
     ]
    },
    {
     "name": "stdout",
     "output_type": "stream",
     "text": [
      "\r\n",
      "Orthogonal reducible representation\r\n",
      "   dimension: 4\r\n",
      "       field: 'R'\r\n",
      "       group: Permutation group acting on 4 elements of order 8\r\n",
      "   isUnitary: true\r\n",
      "preimages{1}: [3, 4, 1, 2]\r\n",
      "   images{1}: [0, 0, 1, 0; 0, 0, 0, 1; 1, 0, 0, 0; 0, 1, 0, 0]\r\n",
      "preimages{2}: [2, 1, 3, 4]\r\n",
      "   images{2}: [0, 1, 0, 0; 1, 0, 0, 0; 0, 0, 1, 0; 0, 0, 0, 1]\r\n",
      "\r\n"
     ]
    }
   ],
   "source": [
    "g1 = [3,4,1,2];\n",
    "g2 = [2,1,3,4];\n",
    "generators = {g1 g2}; % arrays of things in Matlab are cell arrays\n",
    "S4 = replab.SymmetricGroup(4);\n",
    "G = S4.subgroup(generators) % construction as a subgroup of a generic parent group\n",
    "G.elements\n",
    "Grep = G.naturalRep"
   ]
  },
  {
   "cell_type": "code",
   "execution_count": 13,
   "id": "5dcc886b",
   "metadata": {
    "execution": {
     "iopub.execute_input": "2021-08-03T13:42:54.993646Z",
     "iopub.status.busy": "2021-08-03T13:42:54.993096Z",
     "iopub.status.idle": "2021-08-03T13:42:58.267601Z",
     "shell.execute_reply": "2021-08-03T13:42:58.267150Z"
    }
   },
   "outputs": [
    {
     "name": "stdout",
     "output_type": "stream",
     "text": [
      "Gdec ="
     ]
    },
    {
     "name": "stdout",
     "output_type": "stream",
     "text": [
      "\r"
     ]
    },
    {
     "name": "stdout",
     "output_type": "stream",
     "text": [
      "\n"
     ]
    },
    {
     "name": "stdout",
     "output_type": "stream",
     "text": [
      "\r\n",
      "Real reducible representation\r\n",
      "       dimension: 4\r\n",
      "           field: 'R'\r\n",
      "           group: Permutation group acting on 4 elements of order 8\r\n",
      "       isUnitary: false\r\n",
      "          parent: Orthogonal reducible representation\r\n",
      "basis(1,'exact'): [1/4; 1/4; 1/4; 1/4]\r\n",
      "basis(2,'exact'): [1/4; 1/4; -1/4; -1/4]\r\n",
      "basis(3,'exact'): [1/2; -1/2; 0; 0]\r\n",
      "basis(4,'exact'): [0; 0; 1/2; -1/2]\r\n",
      "    component(1): Isotypic component R(1) (trivial)\r\n",
      "    component(2): Isotypic component R(1) (nontrivial)\r\n",
      "    component(3): Isotypic component R(2) (nontrivial)\r\n",
      "\r\n"
     ]
    },
    {
     "name": "stdout",
     "output_type": "stream",
     "text": [
      "I1 =\r\n",
      "\r\n",
      "Real trivial irreducible real-type subrepresentation\r\n",
      "       dimension: 1\r\n",
      "           field: 'R'\r\n",
      "           group: Permutation group acting on 4 elements of order 8\r\n",
      "       isUnitary: false\r\n",
      "          parent: Orthogonal reducible representation\r\n",
      "basis(1,'exact'): [1/4; 1/4; 1/4; 1/4]\r\n",
      "\r\n"
     ]
    },
    {
     "name": "stdout",
     "output_type": "stream",
     "text": [
      "I2 =\r\n",
      "\r\n",
      "Real fully nontrivial irreducible real-type subrepresentation\r\n",
      "       dimension: 1\r\n",
      "           field: 'R'\r\n",
      "           group: Permutation group acting on 4 elements of order 8\r\n",
      "       isUnitary: false\r\n",
      "          parent: Orthogonal reducible representation\r\n",
      "basis(1,'exact'): [1/4; 1/4; -1/4; -1/4]\r\n",
      "\r\n"
     ]
    },
    {
     "name": "stdout",
     "output_type": "stream",
     "text": [
      "I3 =\r\n",
      "\r\n",
      "Real fully nontrivial irreducible real-type subrepresentation\r\n",
      "       dimension: 2\r\n",
      "           field: 'R'\r\n",
      "           group: Permutation group acting on 4 elements of order 8\r\n",
      "       isUnitary: false\r\n",
      "          parent: Orthogonal reducible representation\r\n",
      "basis(1,'exact'): [1/2; -1/2; 0; 0]\r\n",
      "basis(2,'exact'): [0; 0; 1/2; -1/2]\r\n",
      "\r\n"
     ]
    }
   ],
   "source": [
    "% Let's decompose this representation into irreducible subrepresentations\n",
    "Gdec = Grep.decomposition.nice\n",
    "I1 = Gdec.irrep(1)\n",
    "I2 = Gdec.irrep(2)\n",
    "I3 = Gdec.irrep(3)"
   ]
  },
  {
   "cell_type": "markdown",
   "id": "108d12cd",
   "metadata": {},
   "source": [
    "What are the irreps we obtain? We have:\n",
    "\n",
    "- A first subspace encoding the overall normalization $(1,1,1,1) \\cdot \\vec{P} = 2$, by definition of $\\sum_{a} P(a|x) = 1$.\n",
    "\n",
    "- A second subspace encoding the difference in normalization between the condition $x=1$ and the condition $x=2$: $(1,1,-1,-1) \\cdot \\vec{P} = 0$.\n",
    "\n",
    "- The third subspace, after a change of basis vectors, corresponds to the binary correlators $(1,-1,0,0) \\cdot \\vec{P} = P(1|1) - P(2|1)$ and $(0,0,1,-1) \\cdot \\vec{P} = P(1|2) - P(2|2)$.\n",
    "\n",
    "We leave, as an exercice, the construction of the symmetry group of the CHSH scenario using its action on the joint conditional distribution $P_{AB|XY}(ab|xy)$ -- one should recover the results of [our paper](https://arxiv.org/abs/1610.01833)."
   ]
  },
  {
   "cell_type": "markdown",
   "id": "f904b881",
   "metadata": {},
   "source": [
    "## A final word of warning\n",
    "\n",
    "The presentation above glossed over an important concept: the decomposition of a representation into irreducible subrepresentations is essentially unique, up to the degeneracy afforded by multiplicities. Indeed, when several copies of the same representation appear, the decomposition into irreducible subrepresentation is not exactly unique; refer to the end of Chapter 2 of the book by Jean-Pierre Serre cited in the preface.\n",
    "\n",
    "In particular, the method `dec.irrep(i)` needs to be replaced by `dec.irrep(i,j)` where $i$ is the index of the irreducible representation type, and $j$ is the copy index.\n",
    "\n",
    "Also, if one works using real representations, there could be a difference in the irreducible decomposition when the representation is treated as a complex one. This is because the real field is not algebraically closed. Over the reals, there are three kinds of irreducible representations: RepLAB identifies and puts them in a canonical representation. Not to worry: representation of symmetric groups and derivatives (direct products and the like) are decomposed the same way over the real and complex numbers."
   ]
  }
 ],
 "metadata": {
  "jupytext": {
   "cell_metadata_filter": "-all",
   "main_language": "matlab",
   "notebook_metadata_filter": "-all",
   "text_representation": {
    "extension": ".m",
    "format_name": "light"
   }
  },
  "language_info": {
   "file_extension": ".m",
   "help_links": [
    {
     "text": "GNU Octave",
     "url": "https://www.gnu.org/software/octave/support.html"
    },
    {
     "text": "Octave Kernel",
     "url": "https://github.com/Calysto/octave_kernel"
    },
    {
     "text": "MetaKernel Magics",
     "url": "https://metakernel.readthedocs.io/en/latest/source/README.html"
    }
   ],
   "mimetype": "text/x-octave",
   "name": "octave",
   "version": "6.2.0"
  }
 },
 "nbformat": 4,
 "nbformat_minor": 5
}
