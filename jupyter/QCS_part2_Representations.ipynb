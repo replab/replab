{
 "cells": [
  {
   "cell_type": "markdown",
   "metadata": {},
   "source": [
    "# 2. Constructing representations with RepLAB\n",
    "\n",
    "This is part II of the companion notebook to the RepLAB talk at the [Quantum Causal Structures](http://www.cs.ox.ac.uk/conferences/QCS2019/) workshop."
   ]
  },
  {
   "cell_type": "code",
   "execution_count": 2,
   "metadata": {},
   "outputs": [],
   "source": [
    "run ../replab_addpaths.m % Add RepLAB to the path"
   ]
  },
  {
   "cell_type": "markdown",
   "metadata": {},
   "source": [
    "## Two measurement settings with two outcomes\n",
    "We come back to our example for conditional probability distributions for two measurements settings with two outcomes."
   ]
  },
  {
   "cell_type": "code",
   "execution_count": 3,
   "metadata": {},
   "outputs": [
    {
     "name": "stdout",
     "output_type": "stream",
     "text": [
      "\n",
      "GAlice = \n",
      "\n",
      "replab.perm.PermutationBSGSGroup\n",
      "      action: replab.perm.PermutationNaturalAction\n",
      "  domainSize: 4                                   \n",
      "    identity: [1, 2, 3, 4]                        \n",
      "generator(1): [3, 4, 1, 2]                        \n",
      "generator(2): [2, 1, 3, 4]                        \n"
     ]
    }
   ],
   "source": [
    "piI = [3 4 1 2];\n",
    "piO1 = [2 1 3 4];\n",
    "GAlice = replab.S(4).subgroup({piInput piOutput1})"
   ]
  },
  {
   "cell_type": "code",
   "execution_count": 5,
   "metadata": {
    "scrolled": true
   },
   "outputs": [
    {
     "name": "stdout",
     "output_type": "stream",
     "text": [
      "\n",
      "rho = \n",
      "\n",
      "Orthogonal real representation of dimension 4\n",
      "dimension: 4                                               \n",
      "    field: 'R'                                             \n",
      "    group: replab.perm.PermutationBSGSGroup                \n",
      "images{1}: [0, 0, 1, 0; 0, 0, 0, 1; 1, 0, 0, 0; 0, 1, 0, 0]\n",
      "images{2}: [0, 1, 0, 0; 1, 0, 0, 0; 0, 0, 1, 0; 0, 0, 0, 1]\n"
     ]
    }
   ],
   "source": [
    "rhoI = [0 0 1 0; 0 0 0 1; 1 0 0 0; 0 1 0 0];\n",
    "rhoO1 = [0 1 0 0; 1 0 0 0; 0 0 1 0; 0 0 0 1];\n",
    "rho = GAlice.rep('R',4,{rhoI rhoO1})"
   ]
  },
  {
   "cell_type": "markdown",
   "metadata": {},
   "source": [
    "We now verify that `rho` is a legitimate representation."
   ]
  },
  {
   "cell_type": "code",
   "execution_count": 6,
   "metadata": {},
   "outputs": [
    {
     "name": "stdout",
     "output_type": "stream",
     "text": [
      "Checking commutes with commutant algebra...\n",
      "Checking asGroupHomomorphism->identity...\n",
      "Checking asGroupHomomorphism->composition...\n",
      "Checking asGroupHomomorphism->inverse...\n"
     ]
    }
   ],
   "source": [
    "replab.RepLaws(rho).check % verify that this defines a proper representation"
   ]
  },
  {
   "cell_type": "markdown",
   "metadata": {},
   "source": [
    "We also define and verify the other representation `sigma`."
   ]
  },
  {
   "cell_type": "code",
   "execution_count": 7,
   "metadata": {},
   "outputs": [
    {
     "name": "stdout",
     "output_type": "stream",
     "text": [
      "\n",
      "sigma = \n",
      "\n",
      "Orthogonal real representation of dimension 4\n",
      "dimension: 4                                               \n",
      "    field: 'R'                                             \n",
      "    group: replab.perm.PermutationBSGSGroup                \n",
      "images{1}: [1, 0, 0, 0; 0, 0, 1, 0; 0, 1, 0, 0; 0, 0, 0, 1]\n",
      "images{2}: [0, 0, 1, 0; 0, 0, 0, 1; 1, 0, 0, 0; 0, 1, 0, 0]\n"
     ]
    }
   ],
   "source": [
    "sigmaI = [1 0 0 0; 0 0 1 0; 0 1 0 0; 0 0 0 1];\n",
    "sigmaO1 = [0 0 1 0; 0 0 0 1; 1 0 0 0; 0 1 0 0];\n",
    "sigma = GAlice.rep('R',4,{sigmaI sigmaO1})"
   ]
  },
  {
   "cell_type": "markdown",
   "metadata": {},
   "source": [
    "## Combining representations\n",
    "We illustrate the examples of states invariant under $U(2)$. However, RepLAB does not support (yet) compact groups, only finite groups. Thus, we use the Clifford group as an approximation of $U(2)$. The approximation stays valid for tensor products of up to three copies of the basic representation, as the Clifford group is a 3-design for $U(2)$.\n",
    "\n",
    "The Clifford group is described using a permutation representation obtained with [GAP System](https://www.gap-system.org) on 48 points.\n",
    "\n",
    "We first get the (abstract) Clifford group on a single qubit and its representation using 2x2 complex matrices:"
   ]
  },
  {
   "cell_type": "code",
   "execution_count": 11,
   "metadata": {},
   "outputs": [
    {
     "name": "stdout",
     "output_type": "stream",
     "text": [
      "\n",
      "clifford = \n",
      "\n",
      "replab.perm.PermutationBSGSGroup\n",
      "      action: replab.perm.PermutationNaturalAction\n",
      "  domainSize: 48                                  \n",
      "    identity: 1 x 48 double                       \n",
      "generator(1): 1 x 48 double                       \n",
      "generator(2): 1 x 48 double                       \n",
      "generator(3): 1 x 48 double                       \n",
      "\n",
      "cliffordRep = \n",
      "\n",
      "Unitary complex representation of dimension 2\n",
      "dimension: 2                                         \n",
      "    field: 'C'                                       \n",
      "    group: replab.perm.PermutationBSGSGroup          \n",
      "images{1}: [0.70711+0.70711i, 0; 0, 0.70711+0.70711i]\n",
      "images{2}: [0.70711, 0.70711; 0.70711, -0.70711]     \n",
      "images{3}: [1, 0; 0, 0+1i]                           \n"
     ]
    }
   ],
   "source": [
    "[clifford cliffordRep] = replab.quantum.clifford_qubit"
   ]
  },
  {
   "cell_type": "markdown",
   "metadata": {},
   "source": [
    "We now investigate tensor products of `cliffordRep`, as an approximation of $\\rho \\otimes \\rho$ and later $\\rho \\otimes \\overline{\\rho}$."
   ]
  },
  {
   "cell_type": "markdown",
   "metadata": {},
   "source": [
    "### The singlet and two qubit Werner states\n",
    "We investigate qubit-qubit states invariant under $\\rho \\otimes \\rho$, where $\\rho$ is the standard representation of $U(2)$."
   ]
  },
  {
   "cell_type": "code",
   "execution_count": 13,
   "metadata": {},
   "outputs": [
    {
     "name": "stdout",
     "output_type": "stream",
     "text": [
      "\n",
      "UxU = \n",
      "\n",
      "Unitary complex representation of dimension 4\n",
      "dimension: 4                                            \n",
      "    field: 'C'                                          \n",
      "    group: replab.perm.PermutationBSGSGroup             \n",
      "factor(1): Unitary complex representation of dimension 2\n",
      "factor(2): Unitary complex representation of dimension 2\n"
     ]
    }
   ],
   "source": [
    "UxU = kron(cliffordRep, cliffordRep)"
   ]
  },
  {
   "cell_type": "code",
   "execution_count": 14,
   "metadata": {},
   "outputs": [
    {
     "name": "stdout",
     "output_type": "stream",
     "text": [
      "\n",
      "ans = \n",
      "\n",
      "replab.Irreducible\n",
      "      parent: Unitary complex representation of dimension 4\n",
      "component(1): Isotypic component C(1)                      \n",
      "component(2): Isotypic component C(3)                      \n"
     ]
    }
   ],
   "source": [
    "UxU.decomposition"
   ]
  },
  {
   "cell_type": "markdown",
   "metadata": {},
   "source": [
    "Without surprise, we recover the singlet and triplet (dimensions 1 and 3). Let's investigate."
   ]
  },
  {
   "cell_type": "code",
   "execution_count": 15,
   "metadata": {},
   "outputs": [
    {
     "name": "stdout",
     "output_type": "stream",
     "text": [
      "\n",
      "ans = \n",
      "\n",
      "Irreducible subrepresentation\n",
      "          dimension: 1                                            \n",
      "              field: 'C'                                          \n",
      "              group: replab.perm.PermutationBSGSGroup             \n",
      "             parent: Unitary complex representation of dimension 4\n",
      "realDivisionAlgebra: []                                           \n",
      "             U(1,:): [0, 1, -1, 0]/sqrt(2)                        \n"
     ]
    }
   ],
   "source": [
    "UxU.decomposition.component(1).copy(1)"
   ]
  },
  {
   "cell_type": "code",
   "execution_count": 16,
   "metadata": {},
   "outputs": [
    {
     "name": "stdout",
     "output_type": "stream",
     "text": [
      "\n",
      "ans = \n",
      "\n",
      "Irreducible subrepresentation\n",
      "          dimension: 3                                            \n",
      "              field: 'C'                                          \n",
      "              group: replab.perm.PermutationBSGSGroup             \n",
      "             parent: Unitary complex representation of dimension 4\n",
      "realDivisionAlgebra: []                                           \n",
      "             U(1,:): [1, 0, 0, 0]                                 \n",
      "             U(2,:): [0, 1, 1, 0]/sqrt(2)                         \n",
      "             U(3,:): [0, 0, 0, 1]                                 \n"
     ]
    }
   ],
   "source": [
    "UxU.decomposition.component(2).copy(1)"
   ]
  },
  {
   "cell_type": "markdown",
   "metadata": {},
   "source": [
    "### Choi of depolarizing channels / isotropic states\n",
    "We investigate qubit-qubit states invariant under $\\rho \\otimes \\overline{\\rho}$, where $\\rho$ is the standard representation of $U(2)$."
   ]
  },
  {
   "cell_type": "code",
   "execution_count": 23,
   "metadata": {},
   "outputs": [
    {
     "name": "stdout",
     "output_type": "stream",
     "text": [
      "\n",
      "UxconjU = \n",
      "\n",
      "Unitary complex representation of dimension 4\n",
      "dimension: 4                                            \n",
      "    field: 'C'                                          \n",
      "    group: replab.perm.PermutationBSGSGroup             \n",
      "factor(1): Unitary complex representation of dimension 2\n",
      "factor(2): Unitary complex representation of dimension 2\n"
     ]
    }
   ],
   "source": [
    "UxconjU = kron(cliffordRep, conj(cliffordRep))"
   ]
  },
  {
   "cell_type": "code",
   "execution_count": 24,
   "metadata": {},
   "outputs": [
    {
     "name": "stdout",
     "output_type": "stream",
     "text": [
      "\n",
      "ans = \n",
      "\n",
      "replab.Irreducible\n",
      "      parent: Unitary complex representation of dimension 4\n",
      "component(1): Isotypic component C(1)                      \n",
      "component(2): Isotypic component C(3)                      \n"
     ]
    }
   ],
   "source": [
    "UxconjU.decomposition"
   ]
  },
  {
   "cell_type": "code",
   "execution_count": 26,
   "metadata": {},
   "outputs": [
    {
     "name": "stdout",
     "output_type": "stream",
     "text": [
      "\n",
      "ans = \n",
      "\n",
      "Irreducible subrepresentation\n",
      "          dimension: 1                                            \n",
      "              field: 'C'                                          \n",
      "              group: replab.perm.PermutationBSGSGroup             \n",
      "             parent: Unitary complex representation of dimension 4\n",
      "realDivisionAlgebra: []                                           \n",
      "             U(1,:): [1, 0, 0, 1]/sqrt(2)                         \n"
     ]
    }
   ],
   "source": [
    "UxconjU.decomposition.component(1).copy(1)"
   ]
  },
  {
   "cell_type": "code",
   "execution_count": 27,
   "metadata": {},
   "outputs": [
    {
     "name": "stdout",
     "output_type": "stream",
     "text": [
      "\n",
      "ans = \n",
      "\n",
      "Irreducible subrepresentation\n",
      "          dimension: 3                                            \n",
      "              field: 'C'                                          \n",
      "              group: replab.perm.PermutationBSGSGroup             \n",
      "             parent: Unitary complex representation of dimension 4\n",
      "realDivisionAlgebra: []                                           \n",
      "             U(1,:): [1, 0, 0, -1]/sqrt(2)                        \n",
      "             U(2,:): [0, 1, 0, 0]                                 \n",
      "             U(3,:): [0, 0, 1, 0]                                 \n"
     ]
    }
   ],
   "source": [
    "UxconjU.decomposition.component(2).copy(1)"
   ]
  }
 ],
 "metadata": {
  "kernelspec": {
   "display_name": "MATLAB",
   "language": "matlab",
   "name": "imatlab"
  },
  "language_info": {
   "codemirror_mode": "octave",
   "file_extension": ".m",
   "mimetype": "text/x-matlab",
   "name": "matlab",
   "nbconvert_exporter": "imatlab._exporter.MatlabExporter",
   "pygments_lexer": "matlab",
   "version": "9.4.0.813654 (R2018a)"
  }
 },
 "nbformat": 4,
 "nbformat_minor": 2
}
