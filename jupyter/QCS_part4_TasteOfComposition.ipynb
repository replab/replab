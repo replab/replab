{
 "cells": [
  {
   "cell_type": "markdown",
   "metadata": {},
   "source": [
    "# 4. A taste of composition with RepLAB\n",
    "\n",
    "This is part IV of the companion notebook to the RepLAB talk at the [Quantum Causal Structures](http://www.cs.ox.ac.uk/conferences/QCS2019/) workshop."
   ]
  },
  {
   "cell_type": "code",
   "execution_count": 1,
   "metadata": {},
   "outputs": [
    {
     "name": "stdout",
     "output_type": "stream",
     "text": [
      "Adding VPI to the path\n",
      "Adding MOxUnit to the path\n",
      "Adding MOcov to the path\n"
     ]
    }
   ],
   "source": [
    "run ../replab_addpaths.m % Add RepLAB to the path"
   ]
  },
  {
   "cell_type": "markdown",
   "metadata": {},
   "source": [
    "## Party relabeling group\n",
    "We consider a party with $m$ measurement settings with $k$ outcomes."
   ]
  },
  {
   "cell_type": "code",
   "execution_count": 6,
   "metadata": {},
   "outputs": [
    {
     "name": "stdout",
     "output_type": "stream",
     "text": [
      "\n",
      "Gparty = \n",
      "\n",
      "replab.WreathProductGroup\n",
      "           A: Permutations acting on 2 elements\n",
      "           H: Permutations acting on 2 elements\n",
      "           N: replab.DirectProductGroup        \n",
      "    identity: {[1, 2], {[1, 2], [1, 2]}}       \n",
      "           n: 2                                \n",
      "         phi: replab.perm.PermutationCellAction\n",
      "generator(1): {[2, 1], {[1, 2], [1, 2]}}       \n",
      "generator(2): {[1, 2], {[2, 1], [1, 2]}}       \n",
      "generator(3): {[1, 2], {[1, 2], [2, 1]}}       \n",
      "       order: 8                                \n"
     ]
    }
   ],
   "source": [
    "m = 2; k = 2;\n",
    "Goutcomes = replab.S(k);\n",
    "Gsettings = replab.S(m);\n",
    "Gparty = replab.WreathProductGroup(Gsettings, Goutcomes)"
   ]
  },
  {
   "cell_type": "markdown",
   "metadata": {},
   "source": [
    "We now define the two canonical representations of a wreath product group. For party relabeling groups, they correspond to conditional probability distributions and to deterministic strategies."
   ]
  },
  {
   "cell_type": "code",
   "execution_count": 7,
   "metadata": {},
   "outputs": [
    {
     "name": "stdout",
     "output_type": "stream",
     "text": [
      "\n",
      "probabilityRep = \n",
      "\n",
      "Orthogonal real representation of dimension 4\n",
      "     Arep: Orthogonal real representation of dimension 2\n",
      "dimension: 4                                            \n",
      "    field: 'R'                                          \n",
      "    group: replab.WreathProductGroup                    \n"
     ]
    }
   ],
   "source": [
    "probabilityRep = Gparty.imprimitiveRep(Goutcomes.naturalRep)"
   ]
  },
  {
   "cell_type": "code",
   "execution_count": 8,
   "metadata": {},
   "outputs": [
    {
     "name": "stdout",
     "output_type": "stream",
     "text": [
      "\n",
      "strategyRep = \n",
      "\n",
      "Orthogonal real representation of dimension 4\n",
      "     Arep: Orthogonal real representation of dimension 2\n",
      "dimension: 4                                            \n",
      "    field: 'R'                                          \n",
      "    group: replab.WreathProductGroup                    \n"
     ]
    }
   ],
   "source": [
    "strategyRep = Gparty.primitiveRep(Goutcomes.naturalRep)"
   ]
  },
  {
   "cell_type": "markdown",
   "metadata": {},
   "source": [
    "We can decompose those representations. For $m=k=2$, the probability representation has invariant vectors `[1,1,1,1]` (corresponding to overall normalization), `[1,1,-1,-1]` (corresponding to equal normalization accross settings), and an additional orthogonal space corresponding to the correlations."
   ]
  },
  {
   "cell_type": "code",
   "execution_count": 9,
   "metadata": {},
   "outputs": [
    {
     "name": "stdout",
     "output_type": "stream",
     "text": [
      "\n",
      "ans = \n",
      "\n",
      "replab.Irreducible\n",
      "      parent: Orthogonal real representation of dimension 4\n",
      "component(1): Isotypic component R(1)                      \n",
      "component(2): Isotypic component R(1)                      \n",
      "component(3): Isotypic component R(2)                      \n"
     ]
    }
   ],
   "source": [
    "probabilityRep.decomposition"
   ]
  },
  {
   "cell_type": "code",
   "execution_count": 10,
   "metadata": {},
   "outputs": [
    {
     "name": "stdout",
     "output_type": "stream",
     "text": [
      "\n",
      "ans = \n",
      "\n",
      "Real-type real irreducible subrepresentation\n",
      "          dimension: 1                                            \n",
      "              field: 'R'                                          \n",
      "              group: replab.WreathProductGroup                    \n",
      "             parent: Orthogonal real representation of dimension 4\n",
      "realDivisionAlgebra: R                                            \n",
      "             U(1,:): [1, 1, 1, 1]/2                               \n"
     ]
    }
   ],
   "source": [
    "probabilityRep.decomposition.component(1).copy(1)"
   ]
  },
  {
   "cell_type": "code",
   "execution_count": 12,
   "metadata": {},
   "outputs": [
    {
     "name": "stdout",
     "output_type": "stream",
     "text": [
      "\n",
      "ans = \n",
      "\n",
      "Real-type real irreducible subrepresentation\n",
      "          dimension: 1                                            \n",
      "              field: 'R'                                          \n",
      "              group: replab.WreathProductGroup                    \n",
      "             parent: Orthogonal real representation of dimension 4\n",
      "realDivisionAlgebra: R                                            \n",
      "             U(1,:): [1, 1, -1, -1]/2                             \n"
     ]
    }
   ],
   "source": [
    "probabilityRep.decomposition.component(2).copy(1)"
   ]
  },
  {
   "cell_type": "markdown",
   "metadata": {},
   "source": [
    "We could also examine the representation on deterministic strategies; this is left to the reader."
   ]
  },
  {
   "cell_type": "code",
   "execution_count": 17,
   "metadata": {},
   "outputs": [
    {
     "name": "stdout",
     "output_type": "stream",
     "text": [
      "\n",
      "ans = \n",
      "\n",
      "replab.Irreducible\n",
      "      parent: Orthogonal real representation of dimension 4\n",
      "component(1): Isotypic component R(1)                      \n",
      "component(2): Isotypic component R(1)                      \n",
      "component(3): Isotypic component R(2)                      \n"
     ]
    }
   ],
   "source": [
    "strategyRep.decomposition"
   ]
  },
  {
   "cell_type": "markdown",
   "metadata": {},
   "source": [
    "## Bell relabeling group\n",
    "We now consider a scenario of $n$ parties with $m$ settings and $k$ outcomes (as before), and construct the representation on joint conditional probabilities. For $n=m=k=2$, we reproduce the results of [our paper](https://iopscience.iop.org/article/10.1088/1751-8121/aa6f78)."
   ]
  },
  {
   "cell_type": "code",
   "execution_count": 18,
   "metadata": {},
   "outputs": [
    {
     "name": "stdout",
     "output_type": "stream",
     "text": [
      "\n",
      "Gscenario = \n",
      "\n",
      "replab.WreathProductGroup\n",
      "           A: replab.WreathProductGroup                                         \n",
      "           H: Permutations acting on 2 elements                                 \n",
      "           N: replab.DirectProductGroup                                         \n",
      "    identity: {[1, 2], {{[1, 2], {[1, 2], [1, 2]}}, {[1, 2], {[1, 2], [1, 2]}}}}\n",
      "           n: 2                                                                 \n",
      "         phi: replab.perm.PermutationCellAction                                 \n",
      "generator(1): {[2, 1], {{[1, 2], {[1, 2], [1, 2]}}, {[1, 2], {[1, 2], [1, 2]}}}}\n",
      "generator(2): {[1, 2], {{[2, 1], {[1, 2], [1, 2]}}, {[1, 2], {[1, 2], [1, 2]}}}}\n",
      "generator(3): {[1, 2], {{[1, 2], {[2, 1], [1, 2]}}, {[1, 2], {[1, 2], [1, 2]}}}}\n",
      "generator(4): {[1, 2], {{[1, 2], {[1, 2], [2, 1]}}, {[1, 2], {[1, 2], [1, 2]}}}}\n",
      "generator(5): {[1, 2], {{[1, 2], {[1, 2], [1, 2]}}, {[2, 1], {[1, 2], [1, 2]}}}}\n",
      "generator(6): {[1, 2], {{[1, 2], {[1, 2], [1, 2]}}, {[1, 2], {[2, 1], [1, 2]}}}}\n",
      "generator(7): {[1, 2], {{[1, 2], {[1, 2], [1, 2]}}, {[1, 2], {[1, 2], [2, 1]}}}}\n",
      "       order: 128                                                               \n"
     ]
    }
   ],
   "source": [
    "n = 2;\n",
    "m = 2; k = 2;\n",
    "Gparties = replab.S(n);\n",
    "Gscenario = replab.WreathProductGroup(Gparties, Gparty)"
   ]
  },
  {
   "cell_type": "code",
   "execution_count": 19,
   "metadata": {},
   "outputs": [
    {
     "name": "stdout",
     "output_type": "stream",
     "text": [
      "\n",
      "probabilityScenarioRep = \n",
      "\n",
      "Orthogonal real representation of dimension 16\n",
      "     Arep: Orthogonal real representation of dimension 4\n",
      "dimension: 16                                           \n",
      "    field: 'R'                                          \n",
      "    group: replab.WreathProductGroup                    \n"
     ]
    }
   ],
   "source": [
    "probabilityScenarioRep = Gscenario.primitiveRep(Gparty.imprimitiveRep(Gsettings.naturalRep))"
   ]
  },
  {
   "cell_type": "code",
   "execution_count": 23,
   "metadata": {},
   "outputs": [
    {
     "name": "stdout",
     "output_type": "stream",
     "text": [
      "\n",
      "ans = \n",
      "\n",
      "replab.Irreducible\n",
      "      parent: Orthogonal real representation of dimension 16\n",
      "component(1): Isotypic component R(1)                       \n",
      "component(2): Isotypic component R(1)                       \n",
      "component(3): Isotypic component R(2)                       \n",
      "component(4): Isotypic component R(4)                       \n",
      "component(5): Isotypic component R(4)                       \n",
      "component(6): Isotypic component R(4)                       \n"
     ]
    }
   ],
   "source": [
    "probabilityScenarioRep.decomposition"
   ]
  }
 ],
 "metadata": {
  "kernelspec": {
   "display_name": "MATLAB",
   "language": "matlab",
   "name": "imatlab"
  },
  "language_info": {
   "codemirror_mode": "octave",
   "file_extension": ".m",
   "mimetype": "text/x-matlab",
   "name": "matlab",
   "nbconvert_exporter": "imatlab._exporter.MatlabExporter",
   "pygments_lexer": "matlab",
   "version": "9.4.0.813654 (R2018a)"
  }
 },
 "nbformat": 4,
 "nbformat_minor": 2
}
