{
 "cells": [
  {
   "cell_type": "markdown",
   "id": "03c8a8c0",
   "metadata": {},
   "source": [
    "# Defining representation\n",
    "\n",
    "This document shows how to construct the defining representation of a compact group in *RepLAB*.\n",
    "\n",
    "## Preparation\n",
    "As always, before using *RepLAB* commands, initialize the library:"
   ]
  },
  {
   "cell_type": "code",
   "execution_count": 1,
   "id": "11297587",
   "metadata": {
    "execution": {
     "iopub.execute_input": "2021-12-10T15:53:36.206347Z",
     "iopub.status.busy": "2021-12-10T15:53:36.205907Z",
     "iopub.status.idle": "2021-12-10T15:53:42.310967Z",
     "shell.execute_reply": "2021-12-10T15:53:42.310124Z"
    }
   },
   "outputs": [
    {
     "name": "stdout",
     "output_type": "stream",
     "text": [
      "replab_init: Initialization done.\r\n"
     ]
    }
   ],
   "source": [
    "addpath([pwd, '/../..']);\n",
    "replab_init('verbose', 0);"
   ]
  },
  {
   "cell_type": "markdown",
   "id": "10070b29",
   "metadata": {},
   "source": [
    "## Group definition\n",
    "\n",
    "Consider the group of unitary matrices in dimension $d=3$"
   ]
  },
  {
   "cell_type": "code",
   "execution_count": 2,
   "id": "2ecb6948",
   "metadata": {
    "execution": {
     "iopub.execute_input": "2021-12-10T15:53:42.313854Z",
     "iopub.status.busy": "2021-12-10T15:53:42.313410Z",
     "iopub.status.idle": "2021-12-10T15:53:42.330654Z",
     "shell.execute_reply": "2021-12-10T15:53:42.331042Z"
    }
   },
   "outputs": [],
   "source": [
    "group = replab.U(3);"
   ]
  },
  {
   "cell_type": "markdown",
   "id": "f9f2739d",
   "metadata": {},
   "source": [
    "## Representation\n",
    "\n",
    "The defining representation is given by"
   ]
  },
  {
   "cell_type": "code",
   "execution_count": 3,
   "id": "b37d58ad",
   "metadata": {
    "execution": {
     "iopub.execute_input": "2021-12-10T15:53:42.334206Z",
     "iopub.status.busy": "2021-12-10T15:53:42.333724Z",
     "iopub.status.idle": "2021-12-10T15:53:42.378233Z",
     "shell.execute_reply": "2021-12-10T15:53:42.377767Z"
    },
    "lines_to_next_cell": 2
   },
   "outputs": [
    {
     "name": "stdout",
     "output_type": "stream",
     "text": [
      "rep =\r\n",
      "\r\n",
      "Unitary fully nontrivial irreducible representation\r\n",
      "dimension: 3\r\n",
      "    field: 'C'\r\n",
      "    group: Unitary group U(3)\r\n",
      "isUnitary: true\r\n",
      "\r\n"
     ]
    }
   ],
   "source": [
    "rep = group.definingRep"
   ]
  }
 ],
 "metadata": {
  "jupytext": {
   "cell_metadata_filter": "-all",
   "main_language": "matlab",
   "notebook_metadata_filter": "-all",
   "text_representation": {
    "extension": ".m",
    "format_name": "light"
   }
  },
  "language_info": {
   "file_extension": ".m",
   "help_links": [
    {
     "text": "GNU Octave",
     "url": "https://www.gnu.org/software/octave/support.html"
    },
    {
     "text": "Octave Kernel",
     "url": "https://github.com/Calysto/octave_kernel"
    },
    {
     "text": "MetaKernel Magics",
     "url": "https://metakernel.readthedocs.io/en/latest/source/README.html"
    }
   ],
   "mimetype": "text/x-octave",
   "name": "octave",
   "version": "6.2.0"
  }
 },
 "nbformat": 4,
 "nbformat_minor": 5
}
