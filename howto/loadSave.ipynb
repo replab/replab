{
 "cells": [
  {
   "cell_type": "markdown",
   "id": "36f60c35",
   "metadata": {},
   "source": [
    ".. module:: +replab\n",
    "\n",
    "# How to load/save information to MAT files\n",
    "\n",
    "As Octave does not support loading/saving of objects, RepLAB implements some methods to store and retrieve information to/from ``.mat`` files.\n",
    "\n",
    "For now, the following objects implement a pair of ``import``/``export`` methods:\n",
    "\n",
    "- `+replab.Irreducible` implements `~+replab.Irreducible.import` and `~+replab.Irreducible.export`. Their usage is documented below.\n",
    "\n",
    "Beyond those, some of our users report that loading/saving RepLAB objects to ``.mat`` files work in recent versions of MATLAB. Please be careful as the use of ``load`` and ``save`` is currently unsupported. However, if you wish to export computed information about RepLAB objects and those objects are not in the list above, please file an [issue](https://github.com/replab/replab/issues), and we may consider extending our ``import`` / ``export`` mechanism.\n",
    "\n",
    "## Importing/exporting information about decompositions\n",
    "\n",
    "One of the most expensive operations in RepLAB is the decomposition of a representation into irreducibles. Thus, you may wish to save this information in a ``.mat`` file for later use.\n",
    "\n",
    "RepLAB provides an export mechanism that exposes the information of an irreducible decomposition in plain struct/primitive arrays, so that this information can be saved even when using Octave.\n",
    "\n",
    "However, the representation being decomposed is not saved by this mechanism, and needs to be recreated using a script when importing the data, as demonstrated below.\n",
    "\n",
    "### Save script"
   ]
  },
  {
   "cell_type": "code",
   "execution_count": 1,
   "id": "9a4eef34",
   "metadata": {
    "execution": {
     "iopub.execute_input": "2021-07-29T16:54:17.439867Z",
     "iopub.status.busy": "2021-07-29T16:54:17.438604Z",
     "iopub.status.idle": "2021-07-29T16:54:25.339923Z",
     "shell.execute_reply": "2021-07-29T16:54:25.339588Z"
    }
   },
   "outputs": [
    {
     "name": "stdout",
     "output_type": "stream",
     "text": [
      "decToExport =\r\n",
      "\r\n",
      "Orthogonal reducible representation\r\n",
      "          dimension: 3\r\n",
      "divisionAlgebraName: []\r\n",
      "              field: 'R'\r\n",
      "              group: Symmetric group acting on 3 elements\r\n",
      " injection_internal: [1/3, 1/6, sqrt(3)/6; 1/3, -1/3, 0; 1/3, 1/6, -sqrt(3)/6]\r\n",
      "       isSimilarRep: true\r\n",
      "          isUnitary: true\r\n",
      "     mapsAreAdjoint: false\r\n",
      "             parent: Orthogonal reducible representation\r\n",
      "projection_internal: [1, 1, 1; 1, -2, 1; sqrt(3), 0, -sqrt(3)]\r\n",
      "   basis(1,'exact'): [1/3; 1/3; 1/3]\r\n",
      "   basis(2,'exact'): [1/6; -1/3; 1/6]\r\n",
      "   basis(3,'exact'): [sqrt(3)/6; 0; -sqrt(3)/6]\r\n",
      "       component(1): Isotypic component R(1) (trivial)\r\n",
      "       component(2): Isotypic component R(2) (nontrivial)\r\n",
      "\r\n"
     ]
    }
   ],
   "source": [
    "addpath([pwd, '/../..']);\n",
    "replab_init('verbose', 0);\n",
    "G = replab.S(3);\n",
    "rep = G.naturalRep; % representation to decompose\n",
    "dec = rep.decomposition('exact');\n",
    "decToExport = dec.squeeze % remove empty isotypic components (important when using exact decompositions)\n",
    "data = decToExport.export;\n",
    "save decomposition_export_example.mat data"
   ]
  },
  {
   "cell_type": "markdown",
   "id": "c17279b5",
   "metadata": {},
   "source": [
    "### Load script"
   ]
  },
  {
   "cell_type": "code",
   "execution_count": 2,
   "id": "1a8657e6",
   "metadata": {
    "execution": {
     "iopub.execute_input": "2021-07-29T16:54:25.342183Z",
     "iopub.status.busy": "2021-07-29T16:54:25.341847Z",
     "iopub.status.idle": "2021-07-29T16:54:28.709282Z",
     "shell.execute_reply": "2021-07-29T16:54:28.708851Z"
    },
    "lines_to_next_cell": 2
   },
   "outputs": [
    {
     "name": "stdout",
     "output_type": "stream",
     "text": [
      "importedDec =\r\n",
      "\r\n",
      "Orthogonal reducible representation\r\n",
      "          dimension: 3\r\n",
      "divisionAlgebraName: []\r\n",
      "              field: 'R'\r\n",
      "              group: Symmetric group acting on 3 elements\r\n",
      " injection_internal: [1/3, 1/6, sqrt(3)/6; 1/3, -1/3, 0; 1/3, 1/6, -sqrt(3)/6]\r\n",
      "       isSimilarRep: true\r\n",
      "          isUnitary: true\r\n",
      "     mapsAreAdjoint: false\r\n",
      "             parent: Orthogonal reducible representation\r\n",
      "projection_internal: [1, 1, 1; 1, -2, 1; sqrt(3), 0, -sqrt(3)]\r\n",
      "   basis(1,'exact'): [1/3; 1/3; 1/3]\r\n",
      "   basis(2,'exact'): [1/6; -1/3; 1/6]\r\n",
      "   basis(3,'exact'): [sqrt(3)/6; 0; -sqrt(3)/6]\r\n",
      "       component(1): Isotypic component R(1) (trivial)\r\n",
      "       component(2): Isotypic component R(2) (nontrivial)\r\n",
      "\r\n"
     ]
    }
   ],
   "source": [
    "clear all % pretend we start all over again\n",
    "replab_init('verbose', 0);\n",
    "% we construct again the group and its representation\n",
    "G = replab.S(3);\n",
    "rep = G.naturalRep; % representation to decompose\n",
    "data = load('decomposition_export_example.mat');\n",
    "importedDec = replab.Irreducible.import(rep, data.data)"
   ]
  }
 ],
 "metadata": {
  "jupytext": {
   "text_representation": {
    "extension": ".m",
    "format_name": "light",
    "format_version": "1.5",
    "jupytext_version": "1.11.2"
   }
  },
  "kernelspec": {
   "display_name": "Octave",
   "language": "octave",
   "name": "octave"
  },
  "language_info": {
   "file_extension": ".m",
   "help_links": [
    {
     "text": "GNU Octave",
     "url": "https://www.gnu.org/software/octave/support.html"
    },
    {
     "text": "Octave Kernel",
     "url": "https://github.com/Calysto/octave_kernel"
    },
    {
     "text": "MetaKernel Magics",
     "url": "https://metakernel.readthedocs.io/en/latest/source/README.html"
    }
   ],
   "mimetype": "text/x-octave",
   "name": "octave",
   "version": "6.2.0"
  }
 },
 "nbformat": 4,
 "nbformat_minor": 5
}
