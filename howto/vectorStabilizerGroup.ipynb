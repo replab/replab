{
 "cells": [
  {
   "cell_type": "markdown",
   "id": "4298395f",
   "metadata": {},
   "source": [
    "# Vector Stabilizer group\n",
    "\n",
    "This document illustrated how to define groups which leave a vector invariant in *RepLAB*.\n",
    "\n",
    "## Preparation\n",
    "As always, before using *RepLAB* commands, initialize the library:"
   ]
  },
  {
   "cell_type": "code",
   "execution_count": 1,
   "id": "3813af64",
   "metadata": {
    "execution": {
     "iopub.execute_input": "2021-09-08T14:02:45.868919Z",
     "iopub.status.busy": "2021-09-08T14:02:45.867316Z",
     "iopub.status.idle": "2021-09-08T14:02:51.773331Z",
     "shell.execute_reply": "2021-09-08T14:02:51.772871Z"
    }
   },
   "outputs": [],
   "source": [
    "addpath([pwd, '/../..']);\n",
    "replab_init('verbose', 0);"
   ]
  },
  {
   "cell_type": "markdown",
   "id": "19468ead",
   "metadata": {},
   "source": [
    "## Vector stabilizer group\n",
    "\n",
    "Given a vector"
   ]
  },
  {
   "cell_type": "code",
   "execution_count": 2,
   "id": "0529680f",
   "metadata": {
    "execution": {
     "iopub.execute_input": "2021-09-08T14:02:51.776058Z",
     "iopub.status.busy": "2021-09-08T14:02:51.775617Z",
     "iopub.status.idle": "2021-09-08T14:02:51.786374Z",
     "shell.execute_reply": "2021-09-08T14:02:51.785789Z"
    }
   },
   "outputs": [],
   "source": [
    "v = [3 2 3 1 2 5 4];"
   ]
  },
  {
   "cell_type": "markdown",
   "id": "6f3dfaa6",
   "metadata": {},
   "source": [
    "in $\\mathbb{R}^7$, the most general group acting on the components which leaves the vector invariant can be obtained by first defining the general group permuting all possible components"
   ]
  },
  {
   "cell_type": "code",
   "execution_count": 3,
   "id": "07e42de7",
   "metadata": {
    "execution": {
     "iopub.execute_input": "2021-09-08T14:02:51.788529Z",
     "iopub.status.busy": "2021-09-08T14:02:51.788165Z",
     "iopub.status.idle": "2021-09-08T14:02:51.923043Z",
     "shell.execute_reply": "2021-09-08T14:02:51.923335Z"
    }
   },
   "outputs": [
    {
     "name": "stdout",
     "output_type": "stream",
     "text": [
      "S7 ="
     ]
    },
    {
     "name": "stdout",
     "output_type": "stream",
     "text": [
      "\r"
     ]
    },
    {
     "name": "stdout",
     "output_type": "stream",
     "text": [
      "\n"
     ]
    },
    {
     "name": "stdout",
     "output_type": "stream",
     "text": [
      "\r\n",
      "Symmetric group acting on 7 elements\r\n",
      "            identity: [1, 2, 3, 4, 5, 6, 7]\r\n",
      "generator(1 or 'x1'): [2, 3, 4, 5, 6, 7, 1]\r\n",
      "generator(2 or 'x2'): [2, 1, 3, 4, 5, 6, 7]\r\n",
      "\r\n"
     ]
    }
   ],
   "source": [
    "S7 = replab.S(7)"
   ]
  },
  {
   "cell_type": "markdown",
   "id": "4223aec0",
   "metadata": {},
   "source": [
    "and then asking for its stabilization over the vector"
   ]
  },
  {
   "cell_type": "code",
   "execution_count": 4,
   "id": "21995928",
   "metadata": {
    "execution": {
     "iopub.execute_input": "2021-09-08T14:02:51.925889Z",
     "iopub.status.busy": "2021-09-08T14:02:51.925513Z",
     "iopub.status.idle": "2021-09-08T14:02:55.664991Z",
     "shell.execute_reply": "2021-09-08T14:02:55.664589Z"
    }
   },
   "outputs": [
    {
     "name": "stdout",
     "output_type": "stream",
     "text": [
      "Gv ="
     ]
    },
    {
     "name": "stdout",
     "output_type": "stream",
     "text": [
      "\r"
     ]
    },
    {
     "name": "stdout",
     "output_type": "stream",
     "text": [
      "\n"
     ]
    },
    {
     "name": "stdout",
     "output_type": "stream",
     "text": [
      "\r\n",
      "Permutation group acting on 7 elements of order 4\r\n",
      "            identity: [1, 2, 3, 4, 5, 6, 7]\r\n",
      "generator(1 or 'x1'): [3, 2, 1, 4, 5, 6, 7]\r\n",
      "generator(2 or 'x2'): [1, 5, 3, 4, 2, 6, 7]\r\n",
      "    recognize.source: Klein four-group < a, x | a^2 = x^2 = x a x^-1 a^-1 = 1 >\r\n",
      "\r\n"
     ]
    }
   ],
   "source": [
    "Gv = S7.vectorStabilizer(v)"
   ]
  },
  {
   "cell_type": "markdown",
   "id": "a348b6bf",
   "metadata": {},
   "source": [
    "This group G1 contains all 4 permutations which leave the vector v invariant:"
   ]
  },
  {
   "cell_type": "code",
   "execution_count": 5,
   "id": "9ef51531",
   "metadata": {
    "execution": {
     "iopub.execute_input": "2021-09-08T14:02:55.667470Z",
     "iopub.status.busy": "2021-09-08T14:02:55.667066Z",
     "iopub.status.idle": "2021-09-08T14:02:55.708809Z",
     "shell.execute_reply": "2021-09-08T14:02:55.708429Z"
    }
   },
   "outputs": [
    {
     "name": "stdout",
     "output_type": "stream",
     "text": [
      "ans =\r\n",
      "{\r\n",
      "  [1,1] =\r\n",
      "\r\n",
      "     1   2   3   4   5   6   7\r\n",
      "\r\n",
      "  [1,2] =\r\n",
      "\r\n",
      "     1   5   3   4   2   6   7\r\n",
      "\r\n",
      "  [1,3] =\r\n",
      "\r\n",
      "     3   2   1   4   5   6   7\r\n",
      "\r\n",
      "  [1,4] =\r\n",
      "\r\n",
      "     3   5   1   4   2   6   7\r\n",
      "\r\n",
      "}\r\n",
      "\r\n"
     ]
    }
   ],
   "source": [
    "Gv.elements"
   ]
  },
  {
   "cell_type": "markdown",
   "id": "43f2110d",
   "metadata": {},
   "source": [
    "## Vector stabilization over a specific group\n",
    "\n",
    "Alternatively, it is possible to identify all the permutations which leave a vector invariant and which belong to a specific group. This is achieved by first defining the group of interest, for instance"
   ]
  },
  {
   "cell_type": "code",
   "execution_count": 6,
   "id": "dc37e226",
   "metadata": {
    "execution": {
     "iopub.execute_input": "2021-09-08T14:02:55.711591Z",
     "iopub.status.busy": "2021-09-08T14:02:55.711189Z",
     "iopub.status.idle": "2021-09-08T14:02:58.572715Z",
     "shell.execute_reply": "2021-09-08T14:02:58.572332Z"
    }
   },
   "outputs": [
    {
     "name": "stdout",
     "output_type": "stream",
     "text": [
      "G1 ="
     ]
    },
    {
     "name": "stdout",
     "output_type": "stream",
     "text": [
      "\r"
     ]
    },
    {
     "name": "stdout",
     "output_type": "stream",
     "text": [
      "\n"
     ]
    },
    {
     "name": "stdout",
     "output_type": "stream",
     "text": [
      "\r\n",
      "Permutation group acting on 7 elements of order 6\r\n",
      "            identity: [1, 2, 3, 4, 5, 6, 7]\r\n",
      "generator(1 or 'x1'): [2, 1, 3, 4, 5, 6, 7]\r\n",
      "generator(2 or 'x2'): [2, 3, 1, 4, 5, 6, 7]\r\n",
      "    recognize.source: Dihedral group of order 6\r\n",
      "\r\n"
     ]
    }
   ],
   "source": [
    "G1 = replab.PermutationGroup.of([2 1 3:7], [2 3 1 4:7])"
   ]
  },
  {
   "cell_type": "markdown",
   "id": "89626b79",
   "metadata": {},
   "source": [
    "and then stabilize this group over the vector"
   ]
  },
  {
   "cell_type": "code",
   "execution_count": 7,
   "id": "c9535664",
   "metadata": {
    "execution": {
     "iopub.execute_input": "2021-09-08T14:02:58.575293Z",
     "iopub.status.busy": "2021-09-08T14:02:58.574882Z",
     "iopub.status.idle": "2021-09-08T14:02:59.458547Z",
     "shell.execute_reply": "2021-09-08T14:02:59.458165Z"
    }
   },
   "outputs": [
    {
     "name": "stdout",
     "output_type": "stream",
     "text": [
      "G1v ="
     ]
    },
    {
     "name": "stdout",
     "output_type": "stream",
     "text": [
      "\r"
     ]
    },
    {
     "name": "stdout",
     "output_type": "stream",
     "text": [
      "\n"
     ]
    },
    {
     "name": "stdout",
     "output_type": "stream",
     "text": [
      "\r\n",
      "Permutation group acting on 7 elements of order 2\r\n",
      "            identity: [1, 2, 3, 4, 5, 6, 7]\r\n",
      "generator(1 or 'x1'): [3, 2, 1, 4, 5, 6, 7]\r\n",
      "    recognize.source: Cyclic group C(2) of order 2 < x | x^2 = 1 >\r\n",
      "\r\n"
     ]
    }
   ],
   "source": [
    "G1v = G1.vectorStabilizer(v)"
   ]
  },
  {
   "cell_type": "markdown",
   "id": "54b74513",
   "metadata": {},
   "source": [
    "This group only contains the two permutations of Gv which also belong to G1:"
   ]
  },
  {
   "cell_type": "code",
   "execution_count": 8,
   "id": "54b1dc83",
   "metadata": {
    "execution": {
     "iopub.execute_input": "2021-09-08T14:02:59.461197Z",
     "iopub.status.busy": "2021-09-08T14:02:59.460776Z",
     "iopub.status.idle": "2021-09-08T14:02:59.486405Z",
     "shell.execute_reply": "2021-09-08T14:02:59.486047Z"
    },
    "lines_to_next_cell": 2
   },
   "outputs": [
    {
     "name": "stdout",
     "output_type": "stream",
     "text": [
      "ans =\r\n",
      "{\r\n",
      "  [1,1] =\r\n",
      "\r\n",
      "     1   2   3   4   5   6   7\r\n",
      "\r\n",
      "  [1,2] =\r\n",
      "\r\n",
      "     3   2   1   4   5   6   7\r\n",
      "\r\n",
      "}\r\n",
      "\r\n"
     ]
    }
   ],
   "source": [
    "G1v.elements"
   ]
  }
 ],
 "metadata": {
  "jupytext": {
   "cell_metadata_filter": "-all",
   "main_language": "matlab",
   "notebook_metadata_filter": "-all",
   "text_representation": {
    "extension": ".m",
    "format_name": "light"
   }
  },
  "language_info": {
   "file_extension": ".m",
   "help_links": [
    {
     "text": "GNU Octave",
     "url": "https://www.gnu.org/software/octave/support.html"
    },
    {
     "text": "Octave Kernel",
     "url": "https://github.com/Calysto/octave_kernel"
    },
    {
     "text": "MetaKernel Magics",
     "url": "https://metakernel.readthedocs.io/en/latest/source/README.html"
    }
   ],
   "mimetype": "text/x-octave",
   "name": "octave",
   "version": "6.2.0"
  }
 },
 "nbformat": 4,
 "nbformat_minor": 5
}
