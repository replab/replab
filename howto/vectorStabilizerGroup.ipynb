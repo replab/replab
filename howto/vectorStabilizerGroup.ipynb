{
 "cells": [
  {
   "cell_type": "markdown",
   "id": "3bec26fb",
   "metadata": {},
   "source": [
    "# Vector Stabilizer group\n",
    "\n",
    "This document illustrated how to define groups which leave a vector invariant in *RepLAB*.\n",
    "\n",
    "## Preparation\n",
    "As always, before using *RepLAB* commands, initialize the library:"
   ]
  },
  {
   "cell_type": "code",
   "execution_count": 1,
   "id": "739079af",
   "metadata": {
    "execution": {
     "iopub.execute_input": "2021-07-29T16:55:02.355611Z",
     "iopub.status.busy": "2021-07-29T16:55:02.354390Z",
     "iopub.status.idle": "2021-07-29T16:55:06.252135Z",
     "shell.execute_reply": "2021-07-29T16:55:06.251713Z"
    }
   },
   "outputs": [],
   "source": [
    "addpath([pwd, '/../..']);\n",
    "replab_init('verbose', 0);"
   ]
  },
  {
   "cell_type": "markdown",
   "id": "f6d73b31",
   "metadata": {},
   "source": [
    "## Vector stabilizer group\n",
    "\n",
    "Given a vector"
   ]
  },
  {
   "cell_type": "code",
   "execution_count": 2,
   "id": "ad1338f2",
   "metadata": {
    "execution": {
     "iopub.execute_input": "2021-07-29T16:55:06.254284Z",
     "iopub.status.busy": "2021-07-29T16:55:06.253963Z",
     "iopub.status.idle": "2021-07-29T16:55:06.261459Z",
     "shell.execute_reply": "2021-07-29T16:55:06.261173Z"
    }
   },
   "outputs": [],
   "source": [
    "v = [3 2 3 1 2 5 4];"
   ]
  },
  {
   "cell_type": "markdown",
   "id": "a16a9444",
   "metadata": {},
   "source": [
    "in $\\mathbb{R}^7$, the most general group acting on the components which leaves the vector invariant can be obtained by first defining the general group permuting all possible components"
   ]
  },
  {
   "cell_type": "code",
   "execution_count": 3,
   "id": "d7b920fc",
   "metadata": {
    "execution": {
     "iopub.execute_input": "2021-07-29T16:55:06.263417Z",
     "iopub.status.busy": "2021-07-29T16:55:06.263122Z",
     "iopub.status.idle": "2021-07-29T16:55:06.369535Z",
     "shell.execute_reply": "2021-07-29T16:55:06.369238Z"
    }
   },
   "outputs": [
    {
     "name": "stdout",
     "output_type": "stream",
     "text": [
      "S7 =\r\n",
      "\r\n",
      "Symmetric group acting on 7 elements\r\n",
      "            identity: [1, 2, 3, 4, 5, 6, 7]\r\n",
      "generator(1 or 'x1'): [2, 3, 4, 5, 6, 7, 1]\r\n",
      "generator(2 or 'x2'): [2, 1, 3, 4, 5, 6, 7]\r\n",
      "\r\n"
     ]
    }
   ],
   "source": [
    "S7 = replab.S(7)"
   ]
  },
  {
   "cell_type": "markdown",
   "id": "1d69dbd4",
   "metadata": {},
   "source": [
    "and then asking for its stabilization over the vector"
   ]
  },
  {
   "cell_type": "code",
   "execution_count": 4,
   "id": "852d3410",
   "metadata": {
    "execution": {
     "iopub.execute_input": "2021-07-29T16:55:06.371514Z",
     "iopub.status.busy": "2021-07-29T16:55:06.371209Z",
     "iopub.status.idle": "2021-07-29T16:55:09.591975Z",
     "shell.execute_reply": "2021-07-29T16:55:09.591676Z"
    }
   },
   "outputs": [
    {
     "name": "stdout",
     "output_type": "stream",
     "text": [
      "Gv ="
     ]
    },
    {
     "name": "stdout",
     "output_type": "stream",
     "text": [
      "\r"
     ]
    },
    {
     "name": "stdout",
     "output_type": "stream",
     "text": [
      "\n"
     ]
    },
    {
     "name": "stdout",
     "output_type": "stream",
     "text": [
      "\r\n",
      "Permutation group acting on 7 elements of order 4\r\n",
      "            identity: [1, 2, 3, 4, 5, 6, 7]\r\n",
      "generator(1 or 'x1'): [3, 2, 1, 4, 5, 6, 7]\r\n",
      "generator(2 or 'x2'): [1, 5, 3, 4, 2, 6, 7]\r\n",
      "    recognize.source: Klein four-group < a, x | a^2 = x^2 = x a x^-1 a^-1 = 1 >\r\n",
      "\r\n"
     ]
    }
   ],
   "source": [
    "Gv = S7.vectorStabilizer(v)"
   ]
  },
  {
   "cell_type": "markdown",
   "id": "b5539662",
   "metadata": {},
   "source": [
    "This group G1 contains all 4 permutations which leave the vector v invariant:"
   ]
  },
  {
   "cell_type": "code",
   "execution_count": 5,
   "id": "286127e0",
   "metadata": {
    "execution": {
     "iopub.execute_input": "2021-07-29T16:55:09.594376Z",
     "iopub.status.busy": "2021-07-29T16:55:09.594087Z",
     "iopub.status.idle": "2021-07-29T16:55:09.643927Z",
     "shell.execute_reply": "2021-07-29T16:55:09.643614Z"
    }
   },
   "outputs": [
    {
     "name": "stdout",
     "output_type": "stream",
     "text": [
      "ans =\r\n",
      "\r\n",
      "Indexed family of 4 elements\r\n",
      "1 = [1, 2, 3, 4, 5, 6, 7]\r\n",
      "2 = [1, 5, 3, 4, 2, 6, 7]\r\n",
      "3 = [3, 2, 1, 4, 5, 6, 7]\r\n",
      "4 = [3, 5, 1, 4, 2, 6, 7]\r\n",
      "\r\n"
     ]
    }
   ],
   "source": [
    "Gv.elements"
   ]
  },
  {
   "cell_type": "markdown",
   "id": "8b6b5956",
   "metadata": {},
   "source": [
    "## Vector stabilization over a specific group\n",
    "\n",
    "Alternatively, it is possible to identify all the permutations which leave a vector invariant and which belong to a specific group. This is achieved by first defining the group of interest, for instance"
   ]
  },
  {
   "cell_type": "code",
   "execution_count": 6,
   "id": "940f3774",
   "metadata": {
    "execution": {
     "iopub.execute_input": "2021-07-29T16:55:09.646024Z",
     "iopub.status.busy": "2021-07-29T16:55:09.645723Z",
     "iopub.status.idle": "2021-07-29T16:55:12.018704Z",
     "shell.execute_reply": "2021-07-29T16:55:12.018408Z"
    }
   },
   "outputs": [
    {
     "name": "stdout",
     "output_type": "stream",
     "text": [
      "G1 ="
     ]
    },
    {
     "name": "stdout",
     "output_type": "stream",
     "text": [
      "\r"
     ]
    },
    {
     "name": "stdout",
     "output_type": "stream",
     "text": [
      "\n"
     ]
    },
    {
     "name": "stdout",
     "output_type": "stream",
     "text": [
      "\r\n",
      "Permutation group acting on 7 elements of order 6\r\n",
      "            identity: [1, 2, 3, 4, 5, 6, 7]\r\n",
      "generator(1 or 'x1'): [2, 1, 3, 4, 5, 6, 7]\r\n",
      "generator(2 or 'x2'): [2, 3, 1, 4, 5, 6, 7]\r\n",
      "    recognize.source: Dihedral group of order 6\r\n",
      "\r\n"
     ]
    }
   ],
   "source": [
    "G1 = replab.PermutationGroup.of([2 1 3:7], [2 3 1 4:7])"
   ]
  },
  {
   "cell_type": "markdown",
   "id": "10328306",
   "metadata": {},
   "source": [
    "and then stabilize this group over the vector"
   ]
  },
  {
   "cell_type": "code",
   "execution_count": 7,
   "id": "d4ffc6da",
   "metadata": {
    "execution": {
     "iopub.execute_input": "2021-07-29T16:55:12.020728Z",
     "iopub.status.busy": "2021-07-29T16:55:12.020446Z",
     "iopub.status.idle": "2021-07-29T16:55:12.765829Z",
     "shell.execute_reply": "2021-07-29T16:55:12.765535Z"
    }
   },
   "outputs": [
    {
     "name": "stdout",
     "output_type": "stream",
     "text": [
      "G1v ="
     ]
    },
    {
     "name": "stdout",
     "output_type": "stream",
     "text": [
      "\r"
     ]
    },
    {
     "name": "stdout",
     "output_type": "stream",
     "text": [
      "\n"
     ]
    },
    {
     "name": "stdout",
     "output_type": "stream",
     "text": [
      "\r\n",
      "Permutation group acting on 7 elements of order 2\r\n",
      "            identity: [1, 2, 3, 4, 5, 6, 7]\r\n",
      "generator(1 or 'x1'): [3, 2, 1, 4, 5, 6, 7]\r\n",
      "    recognize.source: Cyclic group C(2) of order 2 < x | x^2 = 1 >\r\n",
      "\r\n"
     ]
    }
   ],
   "source": [
    "G1v = G1.vectorStabilizer(v)"
   ]
  },
  {
   "cell_type": "markdown",
   "id": "0b29fa5c",
   "metadata": {},
   "source": [
    "This group only contains the two permutations of Gv which also belong to G1:"
   ]
  },
  {
   "cell_type": "code",
   "execution_count": 8,
   "id": "2c607792",
   "metadata": {
    "execution": {
     "iopub.execute_input": "2021-07-29T16:55:12.767869Z",
     "iopub.status.busy": "2021-07-29T16:55:12.767570Z",
     "iopub.status.idle": "2021-07-29T16:55:12.799623Z",
     "shell.execute_reply": "2021-07-29T16:55:12.799121Z"
    },
    "lines_to_next_cell": 2
   },
   "outputs": [
    {
     "name": "stdout",
     "output_type": "stream",
     "text": [
      "ans =\r\n",
      "\r\n",
      "Indexed family of 2 elements\r\n",
      "1 = [1, 2, 3, 4, 5, 6, 7]\r\n",
      "2 = [3, 2, 1, 4, 5, 6, 7]\r\n",
      "\r\n"
     ]
    }
   ],
   "source": [
    "G1v.elements"
   ]
  }
 ],
 "metadata": {
  "jupytext": {
   "cell_metadata_filter": "-all",
   "main_language": "matlab",
   "notebook_metadata_filter": "-all",
   "text_representation": {
    "extension": ".m",
    "format_name": "light"
   }
  },
  "language_info": {
   "file_extension": ".m",
   "help_links": [
    {
     "text": "GNU Octave",
     "url": "https://www.gnu.org/software/octave/support.html"
    },
    {
     "text": "Octave Kernel",
     "url": "https://github.com/Calysto/octave_kernel"
    },
    {
     "text": "MetaKernel Magics",
     "url": "https://metakernel.readthedocs.io/en/latest/source/README.html"
    }
   ],
   "mimetype": "text/x-octave",
   "name": "octave",
   "version": "6.2.0"
  }
 },
 "nbformat": 4,
 "nbformat_minor": 5
}
