{
 "cells": [
  {
   "cell_type": "markdown",
   "id": "94c12685",
   "metadata": {},
   "source": [
    "# Symmetrizing a matrix\n",
    "\n",
    "This document shows how to perform a Reynolds averaging of a matrix in *RepLAB*.\n",
    "\n",
    "## Preparation\n",
    "As always, before using *RepLAB* commands, initialize the library:"
   ]
  },
  {
   "cell_type": "code",
   "execution_count": 1,
   "id": "610a178f",
   "metadata": {
    "execution": {
     "iopub.execute_input": "2021-09-08T14:52:16.809657Z",
     "iopub.status.busy": "2021-09-08T14:52:16.809207Z",
     "iopub.status.idle": "2021-09-08T14:52:22.746547Z",
     "shell.execute_reply": "2021-09-08T14:52:22.745631Z"
    }
   },
   "outputs": [],
   "source": [
    "addpath([pwd, '/../..']);\n",
    "replab_init('verbose', 0);"
   ]
  },
  {
   "cell_type": "markdown",
   "id": "bf156e02",
   "metadata": {},
   "source": [
    "## Definition of the matrix to symmetrize\n",
    "\n",
    "Let us consider a random matrix"
   ]
  },
  {
   "cell_type": "code",
   "execution_count": 2,
   "id": "9f7d5f9c",
   "metadata": {
    "execution": {
     "iopub.execute_input": "2021-09-08T14:52:22.749412Z",
     "iopub.status.busy": "2021-09-08T14:52:22.748964Z",
     "iopub.status.idle": "2021-09-08T14:52:22.763926Z",
     "shell.execute_reply": "2021-09-08T14:52:22.763526Z"
    }
   },
   "outputs": [
    {
     "name": "stdout",
     "output_type": "stream",
     "text": [
      "M =\r\n",
      "\r\n",
      "   0.809129   0.510756   0.585762   0.509381   0.549483\r\n",
      "   0.454853   0.357053   0.241862   0.621122   0.602257\r\n",
      "   0.938990   0.862276   0.029476   0.925931   0.290616\r\n",
      "   0.184151   0.023681   0.806681   0.207476   0.912759\r\n",
      "   0.226329   0.577878   0.166041   0.059124   0.782265\r\n",
      "\r\n"
     ]
    }
   ],
   "source": [
    "M = rand(5)"
   ]
  },
  {
   "cell_type": "markdown",
   "id": "77540eb5",
   "metadata": {},
   "source": [
    "Our aim is to compute the average $\\sum_{g\\in G} M(g,g)$ over a group $G$,\n",
    "where the group elements $g$ act on the rows and on the columns of our matrix."
   ]
  },
  {
   "cell_type": "markdown",
   "id": "501fd320",
   "metadata": {},
   "source": [
    "## Definition of the group\n",
    "\n",
    "Let us consider the permutation group over which we wish to perform the average"
   ]
  },
  {
   "cell_type": "code",
   "execution_count": 3,
   "id": "31d306f0",
   "metadata": {
    "execution": {
     "iopub.execute_input": "2021-09-08T14:52:22.766862Z",
     "iopub.status.busy": "2021-09-08T14:52:22.766435Z",
     "iopub.status.idle": "2021-09-08T14:52:25.786087Z",
     "shell.execute_reply": "2021-09-08T14:52:25.785646Z"
    }
   },
   "outputs": [
    {
     "name": "stdout",
     "output_type": "stream",
     "text": [
      "group ="
     ]
    },
    {
     "name": "stdout",
     "output_type": "stream",
     "text": [
      "\r"
     ]
    },
    {
     "name": "stdout",
     "output_type": "stream",
     "text": [
      "\n"
     ]
    },
    {
     "name": "stdout",
     "output_type": "stream",
     "text": [
      "\r\n",
      "Permutation group acting on 5 elements of order 6\r\n",
      "            identity: [1, 2, 3, 4, 5]\r\n",
      "generator(1 or 'x1'): [2, 1, 4, 5, 3]\r\n",
      "    recognize.source: Cyclic group C(6) of order 6 < x | x^6 = 1 >\r\n",
      "\r\n"
     ]
    }
   ],
   "source": [
    "S5 = replab.S(5);\n",
    "group = S5.subgroup({[2 1 4 5 3]})"
   ]
  },
  {
   "cell_type": "markdown",
   "id": "8c03a65a",
   "metadata": {},
   "source": [
    "## Averaging\n",
    "\n",
    "The averaging is done by projecting our matrix onto the commutant of the group's natural representation"
   ]
  },
  {
   "cell_type": "code",
   "execution_count": 4,
   "id": "effc5af8",
   "metadata": {
    "execution": {
     "iopub.execute_input": "2021-09-08T14:52:25.788792Z",
     "iopub.status.busy": "2021-09-08T14:52:25.788367Z",
     "iopub.status.idle": "2021-09-08T14:52:25.906102Z",
     "shell.execute_reply": "2021-09-08T14:52:25.905538Z"
    }
   },
   "outputs": [],
   "source": [
    "rep = group.naturalRep;\n",
    "com = rep.commutant;"
   ]
  },
  {
   "cell_type": "code",
   "execution_count": 5,
   "id": "decf888c",
   "metadata": {
    "execution": {
     "iopub.execute_input": "2021-09-08T14:52:25.909324Z",
     "iopub.status.busy": "2021-09-08T14:52:25.908824Z",
     "iopub.status.idle": "2021-09-08T14:52:25.930004Z",
     "shell.execute_reply": "2021-09-08T14:52:25.929582Z"
    }
   },
   "outputs": [
    {
     "name": "stdout",
     "output_type": "stream",
     "text": [
      "MP =\r\n",
      "\r\n",
      "   0.5831   0.4828   0.5183   0.5183   0.5183\r\n",
      "   0.4828   0.5831   0.5183   0.5183   0.5183\r\n",
      "   0.4689   0.4689   0.3397   0.6682   0.3855\r\n",
      "   0.4689   0.4689   0.3855   0.3397   0.6682\r\n",
      "   0.4689   0.4689   0.6682   0.3855   0.3397\r\n",
      "\r\n"
     ]
    }
   ],
   "source": [
    "MP = com.project(M)"
   ]
  },
  {
   "cell_type": "markdown",
   "id": "0c27bb64",
   "metadata": {},
   "source": [
    "We can check that the matrix is now invariant over permutation by the group elements"
   ]
  },
  {
   "cell_type": "code",
   "execution_count": 6,
   "id": "5023f026",
   "metadata": {
    "execution": {
     "iopub.execute_input": "2021-09-08T14:52:25.932589Z",
     "iopub.status.busy": "2021-09-08T14:52:25.932164Z",
     "iopub.status.idle": "2021-09-08T14:52:25.949777Z",
     "shell.execute_reply": "2021-09-08T14:52:25.949397Z"
    },
    "lines_to_next_cell": 2
   },
   "outputs": [
    {
     "name": "stdout",
     "output_type": "stream",
     "text": [
      "el =\r\n",
      "\r\n",
      "   2   1   3   4   5\r\n",
      "\r\n"
     ]
    },
    {
     "name": "stdout",
     "output_type": "stream",
     "text": [
      "ans =\r\n",
      "\r\n",
      "   0.5831   0.4828   0.5183   0.5183   0.5183\r\n",
      "   0.4828   0.5831   0.5183   0.5183   0.5183\r\n",
      "   0.4689   0.4689   0.3397   0.6682   0.3855\r\n",
      "   0.4689   0.4689   0.3855   0.3397   0.6682\r\n",
      "   0.4689   0.4689   0.6682   0.3855   0.3397\r\n",
      "\r\n"
     ]
    }
   ],
   "source": [
    "el = group.sample\n",
    "MP(el,el)"
   ]
  }
 ],
 "metadata": {
  "jupytext": {
   "cell_metadata_filter": "-all",
   "main_language": "matlab",
   "notebook_metadata_filter": "-all",
   "text_representation": {
    "extension": ".m",
    "format_name": "light"
   }
  },
  "language_info": {
   "file_extension": ".m",
   "help_links": [
    {
     "text": "GNU Octave",
     "url": "https://www.gnu.org/software/octave/support.html"
    },
    {
     "text": "Octave Kernel",
     "url": "https://github.com/Calysto/octave_kernel"
    },
    {
     "text": "MetaKernel Magics",
     "url": "https://metakernel.readthedocs.io/en/latest/source/README.html"
    }
   ],
   "mimetype": "text/x-octave",
   "name": "octave",
   "version": "6.2.0"
  }
 },
 "nbformat": 4,
 "nbformat_minor": 5
}
