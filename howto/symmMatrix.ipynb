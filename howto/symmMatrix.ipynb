{
 "cells": [
  {
   "cell_type": "markdown",
   "id": "4c9208f4",
   "metadata": {},
   "source": [
    "# Symmetrizing a matrix\n",
    "\n",
    "This document shows how to perform a Reynolds averaging of a matrix in *RepLAB*.\n",
    "\n",
    "## Preparation\n",
    "As always, before using *RepLAB* commands, initialize the library:"
   ]
  },
  {
   "cell_type": "code",
   "execution_count": 1,
   "id": "28ba3e10",
   "metadata": {
    "execution": {
     "iopub.execute_input": "2021-12-10T15:55:27.760934Z",
     "iopub.status.busy": "2021-12-10T15:55:27.760458Z",
     "iopub.status.idle": "2021-12-10T15:55:33.759644Z",
     "shell.execute_reply": "2021-12-10T15:55:33.759133Z"
    }
   },
   "outputs": [
    {
     "name": "stdout",
     "output_type": "stream",
     "text": [
      "replab_init: Initialization done.\r\n"
     ]
    }
   ],
   "source": [
    "addpath([pwd, '/../..']);\n",
    "replab_init('verbose', 0);"
   ]
  },
  {
   "cell_type": "markdown",
   "id": "68517682",
   "metadata": {},
   "source": [
    "## Matrix to be symmetrized\n",
    "\n",
    "Let us consider a random matrix"
   ]
  },
  {
   "cell_type": "code",
   "execution_count": 2,
   "id": "6e723a62",
   "metadata": {
    "execution": {
     "iopub.execute_input": "2021-12-10T15:55:33.762347Z",
     "iopub.status.busy": "2021-12-10T15:55:33.761917Z",
     "iopub.status.idle": "2021-12-10T15:55:33.776258Z",
     "shell.execute_reply": "2021-12-10T15:55:33.776595Z"
    }
   },
   "outputs": [
    {
     "name": "stdout",
     "output_type": "stream",
     "text": [
      "M =\r\n",
      "\r\n",
      "   0.549014   0.093930   0.554128   0.842158   0.834088\r\n",
      "   0.635085   0.578012   0.957590   0.089541   0.724428\r\n",
      "   0.304612   0.739189   0.059727   0.770263   0.779036\r\n",
      "   0.723175   0.064883   0.853368   0.597285   0.330747\r\n",
      "   0.399237   0.584450   0.948410   0.576564   0.532705\r\n",
      "\r\n"
     ]
    }
   ],
   "source": [
    "M = rand(5)"
   ]
  },
  {
   "cell_type": "markdown",
   "id": "68f2cce6",
   "metadata": {},
   "source": [
    "Our aim is to compute the average $\\sum_{g\\in G} M(g,g)$ over a group $G$,\n",
    "where the group elements $g$ act on the rows and on the columns of our matrix."
   ]
  },
  {
   "cell_type": "markdown",
   "id": "c27c1b2d",
   "metadata": {},
   "source": [
    "## Group definition\n",
    "\n",
    "Let us consider the permutation group over which we wish to perform the average"
   ]
  },
  {
   "cell_type": "code",
   "execution_count": 3,
   "id": "2f55c23f",
   "metadata": {
    "execution": {
     "iopub.execute_input": "2021-12-10T15:55:33.779219Z",
     "iopub.status.busy": "2021-12-10T15:55:33.778784Z",
     "iopub.status.idle": "2021-12-10T15:55:36.467565Z",
     "shell.execute_reply": "2021-12-10T15:55:36.467944Z"
    }
   },
   "outputs": [
    {
     "name": "stdout",
     "output_type": "stream",
     "text": [
      "group ="
     ]
    },
    {
     "name": "stdout",
     "output_type": "stream",
     "text": [
      "\r"
     ]
    },
    {
     "name": "stdout",
     "output_type": "stream",
     "text": [
      "\n"
     ]
    },
    {
     "name": "stdout",
     "output_type": "stream",
     "text": [
      "\r\n",
      "Permutation group acting on 5 elements of order 6\r\n",
      "            identity: [1, 2, 3, 4, 5]\r\n",
      "generator(1 or 'x1'): [2, 1, 4, 5, 3]\r\n",
      "    recognize.source: Cyclic group C(6) of order 6 < x | x^6 = 1 >\r\n",
      "\r\n"
     ]
    }
   ],
   "source": [
    "S5 = replab.S(5);\n",
    "group = S5.subgroup({[2 1 4 5 3]})"
   ]
  },
  {
   "cell_type": "markdown",
   "id": "cc5d94f5",
   "metadata": {},
   "source": [
    "## Averaging over the group\n",
    "\n",
    "The averaging is done by projecting our matrix onto the commutant of the group's natural representation"
   ]
  },
  {
   "cell_type": "code",
   "execution_count": 4,
   "id": "3ad9dc57",
   "metadata": {
    "execution": {
     "iopub.execute_input": "2021-12-10T15:55:36.471164Z",
     "iopub.status.busy": "2021-12-10T15:55:36.470718Z",
     "iopub.status.idle": "2021-12-10T15:55:36.603997Z",
     "shell.execute_reply": "2021-12-10T15:55:36.603250Z"
    }
   },
   "outputs": [],
   "source": [
    "rep = group.naturalRep;\n",
    "com = rep.commutant;"
   ]
  },
  {
   "cell_type": "code",
   "execution_count": 5,
   "id": "caf95ad4",
   "metadata": {
    "execution": {
     "iopub.execute_input": "2021-12-10T15:55:36.606687Z",
     "iopub.status.busy": "2021-12-10T15:55:36.606231Z",
     "iopub.status.idle": "2021-12-10T15:55:36.629449Z",
     "shell.execute_reply": "2021-12-10T15:55:36.629058Z"
    }
   },
   "outputs": [
    {
     "name": "stdout",
     "output_type": "stream",
     "text": [
      "MP =\r\n",
      "\r\n",
      "   0.5635   0.3645   0.6670   0.6670   0.6670\r\n",
      "   0.3645   0.5635   0.6670   0.6670   0.6670\r\n",
      "   0.4693   0.4693   0.3966   0.6831   0.7363\r\n",
      "   0.4693   0.4693   0.7363   0.3966   0.6831\r\n",
      "   0.4693   0.4693   0.6831   0.7363   0.3966\r\n",
      "\r\n"
     ]
    }
   ],
   "source": [
    "MP = com.project(M)"
   ]
  },
  {
   "cell_type": "markdown",
   "id": "b28d7464",
   "metadata": {},
   "source": [
    "We can check that the matrix is now invariant over permutation by the group elements"
   ]
  },
  {
   "cell_type": "code",
   "execution_count": 6,
   "id": "ec0d49a7",
   "metadata": {
    "execution": {
     "iopub.execute_input": "2021-12-10T15:55:36.632139Z",
     "iopub.status.busy": "2021-12-10T15:55:36.631722Z",
     "iopub.status.idle": "2021-12-10T15:55:36.653965Z",
     "shell.execute_reply": "2021-12-10T15:55:36.653566Z"
    },
    "lines_to_next_cell": 2
   },
   "outputs": [
    {
     "name": "stdout",
     "output_type": "stream",
     "text": [
      "el =\r\n",
      "\r\n",
      "   2   1   3   4   5\r\n",
      "\r\n"
     ]
    },
    {
     "name": "stdout",
     "output_type": "stream",
     "text": [
      "ans =\r\n",
      "\r\n",
      "   0.5635   0.3645   0.6670   0.6670   0.6670\r\n",
      "   0.3645   0.5635   0.6670   0.6670   0.6670\r\n",
      "   0.4693   0.4693   0.3966   0.6831   0.7363\r\n",
      "   0.4693   0.4693   0.7363   0.3966   0.6831\r\n",
      "   0.4693   0.4693   0.6831   0.7363   0.3966\r\n",
      "\r\n"
     ]
    }
   ],
   "source": [
    "el = group.sample\n",
    "MP(el,el)"
   ]
  }
 ],
 "metadata": {
  "jupytext": {
   "cell_metadata_filter": "-all",
   "main_language": "matlab",
   "notebook_metadata_filter": "-all",
   "text_representation": {
    "extension": ".m",
    "format_name": "light"
   }
  },
  "language_info": {
   "file_extension": ".m",
   "help_links": [
    {
     "text": "GNU Octave",
     "url": "https://www.gnu.org/software/octave/support.html"
    },
    {
     "text": "Octave Kernel",
     "url": "https://github.com/Calysto/octave_kernel"
    },
    {
     "text": "MetaKernel Magics",
     "url": "https://metakernel.readthedocs.io/en/latest/source/README.html"
    }
   ],
   "mimetype": "text/x-octave",
   "name": "octave",
   "version": "6.2.0"
  }
 },
 "nbformat": 4,
 "nbformat_minor": 5
}
