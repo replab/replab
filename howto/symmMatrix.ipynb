{
 "cells": [
  {
   "cell_type": "markdown",
   "id": "340becd5",
   "metadata": {},
   "source": [
    "# Symmetrizing a matrix\n",
    "\n",
    "This document shows how to perform a Reynolds averaging of a matrix in *RepLAB*.\n",
    "\n",
    "## Preparation\n",
    "As always, before using *RepLAB* commands, initialize the library:"
   ]
  },
  {
   "cell_type": "code",
   "execution_count": 1,
   "id": "bd065895",
   "metadata": {
    "execution": {
     "iopub.execute_input": "2021-09-08T14:02:34.803135Z",
     "iopub.status.busy": "2021-09-08T14:02:34.802674Z",
     "iopub.status.idle": "2021-09-08T14:02:40.352942Z",
     "shell.execute_reply": "2021-09-08T14:02:40.353315Z"
    }
   },
   "outputs": [],
   "source": [
    "addpath([pwd, '/../..']);\n",
    "replab_init('verbose', 0);"
   ]
  },
  {
   "cell_type": "markdown",
   "id": "cbc11545",
   "metadata": {},
   "source": [
    "## Definition of the matrix to symmetrize\n",
    "\n",
    "Let us consider a random matrix"
   ]
  },
  {
   "cell_type": "code",
   "execution_count": 2,
   "id": "1342eb8a",
   "metadata": {
    "execution": {
     "iopub.execute_input": "2021-09-08T14:02:40.356180Z",
     "iopub.status.busy": "2021-09-08T14:02:40.355742Z",
     "iopub.status.idle": "2021-09-08T14:02:40.369014Z",
     "shell.execute_reply": "2021-09-08T14:02:40.369357Z"
    }
   },
   "outputs": [
    {
     "name": "stdout",
     "output_type": "stream",
     "text": [
      "M =\r\n",
      "\r\n",
      "   2.2257e-01   3.5082e-02   3.1332e-01   5.6417e-01   6.7046e-01\r\n",
      "   9.5094e-01   6.1748e-01   9.9670e-01   8.7290e-01   2.7312e-01\r\n",
      "   1.0038e-01   7.6594e-02   1.7963e-01   3.1010e-02   3.2460e-01\r\n",
      "   1.7167e-01   3.0045e-01   8.1996e-01   9.0464e-01   5.5406e-03\r\n",
      "   9.0174e-01   8.2140e-01   1.7892e-01   3.5463e-01   4.9687e-01\r\n",
      "\r\n"
     ]
    }
   ],
   "source": [
    "M = rand(5)"
   ]
  },
  {
   "cell_type": "markdown",
   "id": "a1121787",
   "metadata": {},
   "source": [
    "Our aim is to compute the average $\\sum_{g\\in G} M(g,g)$ over a group $G$,\n",
    "where the group elements $g$ act on the rows and on the columns of our matrix."
   ]
  },
  {
   "cell_type": "markdown",
   "id": "205599fc",
   "metadata": {},
   "source": [
    "## Definition of the group\n",
    "\n",
    "Let us consider the permutation group over which we wish to perform the average"
   ]
  },
  {
   "cell_type": "code",
   "execution_count": 3,
   "id": "39c583b1",
   "metadata": {
    "execution": {
     "iopub.execute_input": "2021-09-08T14:02:40.371926Z",
     "iopub.status.busy": "2021-09-08T14:02:40.371504Z",
     "iopub.status.idle": "2021-09-08T14:02:43.022978Z",
     "shell.execute_reply": "2021-09-08T14:02:43.022294Z"
    }
   },
   "outputs": [
    {
     "name": "stdout",
     "output_type": "stream",
     "text": [
      "group ="
     ]
    },
    {
     "name": "stdout",
     "output_type": "stream",
     "text": [
      "\r"
     ]
    },
    {
     "name": "stdout",
     "output_type": "stream",
     "text": [
      "\n"
     ]
    },
    {
     "name": "stdout",
     "output_type": "stream",
     "text": [
      "\r\n",
      "Permutation group acting on 5 elements of order 6\r\n",
      "            identity: [1, 2, 3, 4, 5]\r\n",
      "generator(1 or 'x1'): [2, 1, 4, 5, 3]\r\n",
      "    recognize.source: Cyclic group C(6) of order 6 < x | x^6 = 1 >\r\n",
      "\r\n"
     ]
    }
   ],
   "source": [
    "S5 = replab.S(5);\n",
    "group = S5.subgroup({[2 1 4 5 3]})"
   ]
  },
  {
   "cell_type": "markdown",
   "id": "4b463704",
   "metadata": {},
   "source": [
    "## Averaging\n",
    "\n",
    "The averaging is done by projecting our matrix onto the commutant of the group's natural representation"
   ]
  },
  {
   "cell_type": "code",
   "execution_count": 4,
   "id": "2394d79c",
   "metadata": {
    "execution": {
     "iopub.execute_input": "2021-09-08T14:02:43.026261Z",
     "iopub.status.busy": "2021-09-08T14:02:43.025887Z",
     "iopub.status.idle": "2021-09-08T14:02:43.127447Z",
     "shell.execute_reply": "2021-09-08T14:02:43.127058Z"
    }
   },
   "outputs": [],
   "source": [
    "rep = group.naturalRep;\n",
    "com = rep.commutant;"
   ]
  },
  {
   "cell_type": "code",
   "execution_count": 5,
   "id": "8ad9d0ce",
   "metadata": {
    "execution": {
     "iopub.execute_input": "2021-09-08T14:02:43.130198Z",
     "iopub.status.busy": "2021-09-08T14:02:43.129821Z",
     "iopub.status.idle": "2021-09-08T14:02:43.150161Z",
     "shell.execute_reply": "2021-09-08T14:02:43.149539Z"
    }
   },
   "outputs": [
    {
     "name": "stdout",
     "output_type": "stream",
     "text": [
      "MP =\r\n",
      "\r\n",
      "   0.420024   0.493010   0.615111   0.615111   0.615111\r\n",
      "   0.493010   0.420024   0.615111   0.615111   0.615111\r\n",
      "   0.395373   0.395373   0.527049   0.071822   0.499733\r\n",
      "   0.395373   0.395373   0.499733   0.527049   0.071822\r\n",
      "   0.395373   0.395373   0.071822   0.499733   0.527049\r\n",
      "\r\n"
     ]
    }
   ],
   "source": [
    "MP = com.project(M)"
   ]
  },
  {
   "cell_type": "markdown",
   "id": "43747bd2",
   "metadata": {},
   "source": [
    "We can check that the matrix is now invariant over permutation by the group elements"
   ]
  },
  {
   "cell_type": "code",
   "execution_count": 6,
   "id": "6f092441",
   "metadata": {
    "execution": {
     "iopub.execute_input": "2021-09-08T14:02:43.152801Z",
     "iopub.status.busy": "2021-09-08T14:02:43.152407Z",
     "iopub.status.idle": "2021-09-08T14:02:43.172085Z",
     "shell.execute_reply": "2021-09-08T14:02:43.171738Z"
    },
    "lines_to_next_cell": 2
   },
   "outputs": [
    {
     "name": "stdout",
     "output_type": "stream",
     "text": [
      "el =\r\n",
      "\r\n",
      "   1   2   3   4   5\r\n",
      "\r\n"
     ]
    },
    {
     "name": "stdout",
     "output_type": "stream",
     "text": [
      "ans =\r\n",
      "\r\n",
      "   0.420024   0.493010   0.615111   0.615111   0.615111\r\n",
      "   0.493010   0.420024   0.615111   0.615111   0.615111\r\n",
      "   0.395373   0.395373   0.527049   0.071822   0.499733\r\n",
      "   0.395373   0.395373   0.499733   0.527049   0.071822\r\n",
      "   0.395373   0.395373   0.071822   0.499733   0.527049\r\n",
      "\r\n"
     ]
    }
   ],
   "source": [
    "el = group.sample\n",
    "MP(el,el)"
   ]
  }
 ],
 "metadata": {
  "jupytext": {
   "cell_metadata_filter": "-all",
   "main_language": "matlab",
   "notebook_metadata_filter": "-all",
   "text_representation": {
    "extension": ".m",
    "format_name": "light"
   }
  },
  "language_info": {
   "file_extension": ".m",
   "help_links": [
    {
     "text": "GNU Octave",
     "url": "https://www.gnu.org/software/octave/support.html"
    },
    {
     "text": "Octave Kernel",
     "url": "https://github.com/Calysto/octave_kernel"
    },
    {
     "text": "MetaKernel Magics",
     "url": "https://metakernel.readthedocs.io/en/latest/source/README.html"
    }
   ],
   "mimetype": "text/x-octave",
   "name": "octave",
   "version": "6.2.0"
  }
 },
 "nbformat": 4,
 "nbformat_minor": 5
}
