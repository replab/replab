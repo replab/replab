{
 "cells": [
  {
   "cell_type": "markdown",
   "id": "b38e50ba",
   "metadata": {},
   "source": [
    "# Symmetrizing a matrix\n",
    "\n",
    "This document shows how to perform a Reynolds averaging of a matrix in *RepLAB*.\n",
    "\n",
    "## Preparation\n",
    "As always, before using *RepLAB* commands, initialize the library:"
   ]
  },
  {
   "cell_type": "code",
   "execution_count": 1,
   "id": "65326a22",
   "metadata": {
    "execution": {
     "iopub.execute_input": "2021-07-30T06:53:47.281584Z",
     "iopub.status.busy": "2021-07-30T06:53:47.281056Z",
     "iopub.status.idle": "2021-07-30T06:53:53.915973Z",
     "shell.execute_reply": "2021-07-30T06:53:53.915046Z"
    }
   },
   "outputs": [],
   "source": [
    "addpath([pwd, '/../..']);\n",
    "replab_init('verbose', 0);"
   ]
  },
  {
   "cell_type": "markdown",
   "id": "ed911fd9",
   "metadata": {},
   "source": [
    "## Definition of the matrix to symmetrize\n",
    "\n",
    "Let us consider a random matrix"
   ]
  },
  {
   "cell_type": "code",
   "execution_count": 2,
   "id": "036ba5b2",
   "metadata": {
    "execution": {
     "iopub.execute_input": "2021-07-30T06:53:53.918886Z",
     "iopub.status.busy": "2021-07-30T06:53:53.918201Z",
     "iopub.status.idle": "2021-07-30T06:53:53.932518Z",
     "shell.execute_reply": "2021-07-30T06:53:53.932066Z"
    }
   },
   "outputs": [
    {
     "name": "stdout",
     "output_type": "stream",
     "text": [
      "M =\r\n",
      "\r\n",
      "   0.420082   0.495210   0.306105   0.507611   0.900930\r\n",
      "   0.146803   0.784387   0.789695   0.032777   0.928151\r\n",
      "   0.512389   0.991629   0.509147   0.302231   0.100434\r\n",
      "   0.781178   0.527115   0.678437   0.788085   0.329067\r\n",
      "   0.064832   0.406775   0.566879   0.433237   0.852797\r\n",
      "\r\n"
     ]
    }
   ],
   "source": [
    "M = rand(5)"
   ]
  },
  {
   "cell_type": "markdown",
   "id": "15e35eee",
   "metadata": {},
   "source": [
    "Our aim is to compute the average $\\sum_{g\\in G} M(g,g)$ over a group $G$,\n",
    "where the group elements $g$ act on the rows and on the columns of our matrix."
   ]
  },
  {
   "cell_type": "markdown",
   "id": "5f562fcb",
   "metadata": {},
   "source": [
    "## Definition of the group\n",
    "\n",
    "Let us consider the permutation group over which we wish to perform the average"
   ]
  },
  {
   "cell_type": "code",
   "execution_count": 3,
   "id": "49406385",
   "metadata": {
    "execution": {
     "iopub.execute_input": "2021-07-30T06:53:53.935564Z",
     "iopub.status.busy": "2021-07-30T06:53:53.935071Z",
     "iopub.status.idle": "2021-07-30T06:53:57.363788Z",
     "shell.execute_reply": "2021-07-30T06:53:57.362984Z"
    }
   },
   "outputs": [
    {
     "name": "stdout",
     "output_type": "stream",
     "text": [
      "group ="
     ]
    },
    {
     "name": "stdout",
     "output_type": "stream",
     "text": [
      "\r"
     ]
    },
    {
     "name": "stdout",
     "output_type": "stream",
     "text": [
      "\n"
     ]
    },
    {
     "name": "stdout",
     "output_type": "stream",
     "text": [
      "\r\n",
      "Permutation group acting on 5 elements of order 6\r\n",
      "            identity: [1, 2, 3, 4, 5]\r\n",
      "generator(1 or 'x1'): [2, 1, 4, 5, 3]\r\n",
      "    recognize.source: Cyclic group C(6) of order 6 < x | x^6 = 1 >\r\n",
      "\r\n"
     ]
    }
   ],
   "source": [
    "S5 = replab.S(5);\n",
    "group = S5.subgroup({[2 1 4 5 3]})"
   ]
  },
  {
   "cell_type": "markdown",
   "id": "6d270f63",
   "metadata": {},
   "source": [
    "## Averaging\n",
    "\n",
    "The averaging is done by projecting our matrix onto the commutant of the group's natural representation"
   ]
  },
  {
   "cell_type": "code",
   "execution_count": 4,
   "id": "17b5567d",
   "metadata": {
    "execution": {
     "iopub.execute_input": "2021-07-30T06:53:57.366873Z",
     "iopub.status.busy": "2021-07-30T06:53:57.366080Z",
     "iopub.status.idle": "2021-07-30T06:53:57.498153Z",
     "shell.execute_reply": "2021-07-30T06:53:57.497667Z"
    }
   },
   "outputs": [],
   "source": [
    "rep = group.naturalRep;\n",
    "com = rep.commutant;"
   ]
  },
  {
   "cell_type": "code",
   "execution_count": 5,
   "id": "32acf02d",
   "metadata": {
    "execution": {
     "iopub.execute_input": "2021-07-30T06:53:57.501635Z",
     "iopub.status.busy": "2021-07-30T06:53:57.501184Z",
     "iopub.status.idle": "2021-07-30T06:53:57.525410Z",
     "shell.execute_reply": "2021-07-30T06:53:57.524570Z"
    }
   },
   "outputs": [
    {
     "name": "stdout",
     "output_type": "stream",
     "text": [
      "MP =\r\n",
      "\r\n",
      "   0.6022   0.3210   0.5775   0.5775   0.5775\r\n",
      "   0.3210   0.6022   0.5775   0.5775   0.5775\r\n",
      "   0.5473   0.5473   0.7167   0.3994   0.4040\r\n",
      "   0.5473   0.5473   0.4040   0.7167   0.3994\r\n",
      "   0.5473   0.5473   0.3994   0.4040   0.7167\r\n",
      "\r\n"
     ]
    }
   ],
   "source": [
    "MP = com.project(M)"
   ]
  },
  {
   "cell_type": "markdown",
   "id": "cb31cec4",
   "metadata": {},
   "source": [
    "We can check that the matrix is now invariant over permutation by the group elements"
   ]
  },
  {
   "cell_type": "code",
   "execution_count": 6,
   "id": "2688fad6",
   "metadata": {
    "execution": {
     "iopub.execute_input": "2021-07-30T06:53:57.528089Z",
     "iopub.status.busy": "2021-07-30T06:53:57.527605Z",
     "iopub.status.idle": "2021-07-30T06:53:57.547623Z",
     "shell.execute_reply": "2021-07-30T06:53:57.548235Z"
    },
    "lines_to_next_cell": 2
   },
   "outputs": [
    {
     "name": "stdout",
     "output_type": "stream",
     "text": [
      "el =\r\n",
      "\r\n",
      "   1   2   4   5   3\r\n",
      "\r\n"
     ]
    },
    {
     "name": "stdout",
     "output_type": "stream",
     "text": [
      "ans =\r\n",
      "\r\n",
      "   0.6022   0.3210   0.5775   0.5775   0.5775\r\n",
      "   0.3210   0.6022   0.5775   0.5775   0.5775\r\n",
      "   0.5473   0.5473   0.7167   0.3994   0.4040\r\n",
      "   0.5473   0.5473   0.4040   0.7167   0.3994\r\n",
      "   0.5473   0.5473   0.3994   0.4040   0.7167\r\n",
      "\r\n"
     ]
    }
   ],
   "source": [
    "el = group.sample\n",
    "MP(el,el)"
   ]
  }
 ],
 "metadata": {
  "jupytext": {
   "cell_metadata_filter": "-all",
   "main_language": "matlab",
   "notebook_metadata_filter": "-all",
   "text_representation": {
    "extension": ".m",
    "format_name": "light"
   }
  },
  "language_info": {
   "file_extension": ".m",
   "help_links": [
    {
     "text": "GNU Octave",
     "url": "https://www.gnu.org/software/octave/support.html"
    },
    {
     "text": "Octave Kernel",
     "url": "https://github.com/Calysto/octave_kernel"
    },
    {
     "text": "MetaKernel Magics",
     "url": "https://metakernel.readthedocs.io/en/latest/source/README.html"
    }
   ],
   "mimetype": "text/x-octave",
   "name": "octave",
   "version": "6.2.0"
  }
 },
 "nbformat": 4,
 "nbformat_minor": 5
}
