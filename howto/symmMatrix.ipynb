{
 "cells": [
  {
   "cell_type": "markdown",
   "id": "3be02d09",
   "metadata": {},
   "source": [
    "# Symmetrizing a matrix\n",
    "\n",
    "This document shows how to perform a Reynolds averaging of a matrix in *RepLAB*.\n",
    "\n",
    "## Preparation\n",
    "As always, before using *RepLAB* commands, initialize the library:"
   ]
  },
  {
   "cell_type": "code",
   "execution_count": 1,
   "id": "9cefbd68",
   "metadata": {
    "execution": {
     "iopub.execute_input": "2021-08-03T13:40:28.713309Z",
     "iopub.status.busy": "2021-08-03T13:40:28.712723Z",
     "iopub.status.idle": "2021-08-03T13:40:36.082355Z",
     "shell.execute_reply": "2021-08-03T13:40:36.081687Z"
    }
   },
   "outputs": [],
   "source": [
    "addpath([pwd, '/../..']);\n",
    "replab_init('verbose', 0);"
   ]
  },
  {
   "cell_type": "markdown",
   "id": "966aa3d2",
   "metadata": {},
   "source": [
    "## Definition of the matrix to symmetrize\n",
    "\n",
    "Let us consider a random matrix"
   ]
  },
  {
   "cell_type": "code",
   "execution_count": 2,
   "id": "7c837c03",
   "metadata": {
    "execution": {
     "iopub.execute_input": "2021-08-03T13:40:36.085548Z",
     "iopub.status.busy": "2021-08-03T13:40:36.084819Z",
     "iopub.status.idle": "2021-08-03T13:40:36.099767Z",
     "shell.execute_reply": "2021-08-03T13:40:36.099302Z"
    }
   },
   "outputs": [
    {
     "name": "stdout",
     "output_type": "stream",
     "text": [
      "M =\r\n",
      "\r\n",
      "   6.6515e-01   7.2390e-03   8.4032e-01   8.8330e-01   9.6004e-02\r\n",
      "   4.9809e-02   4.6412e-01   3.2795e-01   4.7739e-01   1.3392e-01\r\n",
      "   4.3197e-01   5.7044e-01   3.3342e-01   4.1794e-01   2.0194e-01\r\n",
      "   3.8790e-02   3.7081e-01   2.7984e-01   1.1842e-01   5.0553e-01\r\n",
      "   8.2838e-01   2.2906e-01   7.1771e-01   9.9071e-02   1.6016e-01\r\n",
      "\r\n"
     ]
    }
   ],
   "source": [
    "M = rand(5)"
   ]
  },
  {
   "cell_type": "markdown",
   "id": "e9e66750",
   "metadata": {},
   "source": [
    "Our aim is to compute the average $\\sum_{g\\in G} M(g,g)$ over a group $G$,\n",
    "where the group elements $g$ act on the rows and on the columns of our matrix."
   ]
  },
  {
   "cell_type": "markdown",
   "id": "0f425960",
   "metadata": {},
   "source": [
    "## Definition of the group\n",
    "\n",
    "Let us consider the permutation group over which we wish to perform the average"
   ]
  },
  {
   "cell_type": "code",
   "execution_count": 3,
   "id": "02fe885a",
   "metadata": {
    "execution": {
     "iopub.execute_input": "2021-08-03T13:40:36.102785Z",
     "iopub.status.busy": "2021-08-03T13:40:36.102264Z",
     "iopub.status.idle": "2021-08-03T13:40:40.522370Z",
     "shell.execute_reply": "2021-08-03T13:40:40.521573Z"
    }
   },
   "outputs": [
    {
     "name": "stdout",
     "output_type": "stream",
     "text": [
      "group ="
     ]
    },
    {
     "name": "stdout",
     "output_type": "stream",
     "text": [
      "\r"
     ]
    },
    {
     "name": "stdout",
     "output_type": "stream",
     "text": [
      "\n"
     ]
    },
    {
     "name": "stdout",
     "output_type": "stream",
     "text": [
      "\r\n",
      "Permutation group acting on 5 elements of order 6\r\n",
      "            identity: [1, 2, 3, 4, 5]\r\n",
      "generator(1 or 'x1'): [2, 1, 4, 5, 3]\r\n",
      "    recognize.source: Cyclic group C(6) of order 6 < x | x^6 = 1 >\r\n",
      "\r\n"
     ]
    }
   ],
   "source": [
    "S5 = replab.S(5);\n",
    "group = S5.subgroup({[2 1 4 5 3]})"
   ]
  },
  {
   "cell_type": "markdown",
   "id": "20b4d8a5",
   "metadata": {},
   "source": [
    "## Averaging\n",
    "\n",
    "The averaging is done by projecting our matrix onto the commutant of the group's natural representation"
   ]
  },
  {
   "cell_type": "code",
   "execution_count": 4,
   "id": "770024bb",
   "metadata": {
    "execution": {
     "iopub.execute_input": "2021-08-03T13:40:40.526048Z",
     "iopub.status.busy": "2021-08-03T13:40:40.525488Z",
     "iopub.status.idle": "2021-08-03T13:40:40.664691Z",
     "shell.execute_reply": "2021-08-03T13:40:40.664000Z"
    }
   },
   "outputs": [],
   "source": [
    "rep = group.naturalRep;\n",
    "com = rep.commutant;"
   ]
  },
  {
   "cell_type": "code",
   "execution_count": 5,
   "id": "678a11dc",
   "metadata": {
    "execution": {
     "iopub.execute_input": "2021-08-03T13:40:40.667392Z",
     "iopub.status.busy": "2021-08-03T13:40:40.666945Z",
     "iopub.status.idle": "2021-08-03T13:40:40.692724Z",
     "shell.execute_reply": "2021-08-03T13:40:40.692124Z"
    }
   },
   "outputs": [
    {
     "name": "stdout",
     "output_type": "stream",
     "text": [
      "MP =\r\n",
      "\r\n",
      "   0.564633   0.028524   0.459813   0.459813   0.459813\r\n",
      "   0.028524   0.564633   0.459813   0.459813   0.459813\r\n",
      "   0.411577   0.411577   0.203998   0.547061   0.193615\r\n",
      "   0.411577   0.411577   0.193615   0.203998   0.547061\r\n",
      "   0.411577   0.411577   0.547061   0.193615   0.203998\r\n",
      "\r\n"
     ]
    }
   ],
   "source": [
    "MP = com.project(M)"
   ]
  },
  {
   "cell_type": "markdown",
   "id": "df0ac9a6",
   "metadata": {},
   "source": [
    "We can check that the matrix is now invariant over permutation by the group elements"
   ]
  },
  {
   "cell_type": "code",
   "execution_count": 6,
   "id": "26136388",
   "metadata": {
    "execution": {
     "iopub.execute_input": "2021-08-03T13:40:40.695497Z",
     "iopub.status.busy": "2021-08-03T13:40:40.694999Z",
     "iopub.status.idle": "2021-08-03T13:40:40.716611Z",
     "shell.execute_reply": "2021-08-03T13:40:40.717096Z"
    },
    "lines_to_next_cell": 2
   },
   "outputs": [
    {
     "name": "stdout",
     "output_type": "stream",
     "text": [
      "el =\r\n",
      "\r\n",
      "   1   2   3   4   5\r\n",
      "\r\n"
     ]
    },
    {
     "name": "stdout",
     "output_type": "stream",
     "text": [
      "ans =\r\n",
      "\r\n",
      "   0.564633   0.028524   0.459813   0.459813   0.459813\r\n",
      "   0.028524   0.564633   0.459813   0.459813   0.459813\r\n",
      "   0.411577   0.411577   0.203998   0.547061   0.193615\r\n",
      "   0.411577   0.411577   0.193615   0.203998   0.547061\r\n",
      "   0.411577   0.411577   0.547061   0.193615   0.203998\r\n",
      "\r\n"
     ]
    }
   ],
   "source": [
    "el = group.sample\n",
    "MP(el,el)"
   ]
  }
 ],
 "metadata": {
  "jupytext": {
   "cell_metadata_filter": "-all",
   "main_language": "matlab",
   "notebook_metadata_filter": "-all",
   "text_representation": {
    "extension": ".m",
    "format_name": "light"
   }
  },
  "language_info": {
   "file_extension": ".m",
   "help_links": [
    {
     "text": "GNU Octave",
     "url": "https://www.gnu.org/software/octave/support.html"
    },
    {
     "text": "Octave Kernel",
     "url": "https://github.com/Calysto/octave_kernel"
    },
    {
     "text": "MetaKernel Magics",
     "url": "https://metakernel.readthedocs.io/en/latest/source/README.html"
    }
   ],
   "mimetype": "text/x-octave",
   "name": "octave",
   "version": "6.2.0"
  }
 },
 "nbformat": 4,
 "nbformat_minor": 5
}
