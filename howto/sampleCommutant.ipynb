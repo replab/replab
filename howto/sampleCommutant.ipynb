{
 "cells": [
  {
   "cell_type": "markdown",
   "id": "2083f748",
   "metadata": {},
   "source": [
    "# Sampling the commutant of a representation\n",
    "\n",
    "This document shows how to sample the commutant of a representation in *RepLAB*.\n",
    "\n",
    "## Preparation\n",
    "As always, before using *RepLAB* commands, initialize the library:"
   ]
  },
  {
   "cell_type": "code",
   "execution_count": 1,
   "id": "7ac06f40",
   "metadata": {
    "execution": {
     "iopub.execute_input": "2021-09-08T14:52:04.838321Z",
     "iopub.status.busy": "2021-09-08T14:52:04.837797Z",
     "iopub.status.idle": "2021-09-08T14:52:10.826426Z",
     "shell.execute_reply": "2021-09-08T14:52:10.825847Z"
    }
   },
   "outputs": [],
   "source": [
    "addpath([pwd, '/../..']);\n",
    "replab_init('verbose', 0);"
   ]
  },
  {
   "cell_type": "markdown",
   "id": "efef5ae6",
   "metadata": {},
   "source": [
    "## Definition of the commutant\n",
    "\n",
    "Consider a group representation"
   ]
  },
  {
   "cell_type": "code",
   "execution_count": 2,
   "id": "74c07080",
   "metadata": {
    "execution": {
     "iopub.execute_input": "2021-09-08T14:52:10.829653Z",
     "iopub.status.busy": "2021-09-08T14:52:10.828976Z",
     "iopub.status.idle": "2021-09-08T14:52:13.999574Z",
     "shell.execute_reply": "2021-09-08T14:52:13.999138Z"
    }
   },
   "outputs": [
    {
     "name": "stdout",
     "output_type": "stream",
     "text": [
      "group ="
     ]
    },
    {
     "name": "stdout",
     "output_type": "stream",
     "text": [
      "\r"
     ]
    },
    {
     "name": "stdout",
     "output_type": "stream",
     "text": [
      "\n"
     ]
    },
    {
     "name": "stdout",
     "output_type": "stream",
     "text": [
      "\r\n",
      "Permutation group acting on 5 elements of order 6\r\n",
      "            identity: [1, 2, 3, 4, 5]\r\n",
      "generator(1 or 'x1'): [2, 1, 4, 5, 3]\r\n",
      "    recognize.source: Cyclic group C(6) of order 6 < x | x^6 = 1 >\r\n",
      "\r\n"
     ]
    },
    {
     "name": "stdout",
     "output_type": "stream",
     "text": [
      "rep ="
     ]
    },
    {
     "name": "stdout",
     "output_type": "stream",
     "text": [
      "\r"
     ]
    },
    {
     "name": "stdout",
     "output_type": "stream",
     "text": [
      "\n"
     ]
    },
    {
     "name": "stdout",
     "output_type": "stream",
     "text": [
      "\r\n",
      "Orthogonal reducible representation\r\n",
      "   dimension: 5\r\n",
      "       field: 'R'\r\n",
      "       group: Permutation group acting on 5 elements of order 6\r\n",
      "   isUnitary: true\r\n",
      "preimages{1}: [2, 1, 4, 5, 3]\r\n",
      "   images{1}: 5 x 5 double\r\n",
      "\r\n"
     ]
    }
   ],
   "source": [
    "S5 = replab.S(5);\n",
    "group = S5.subgroup({[2 1 4 5 3]})\n",
    "rep = group.naturalRep"
   ]
  },
  {
   "cell_type": "markdown",
   "id": "bbb75242",
   "metadata": {},
   "source": [
    "The commutant is obtained with the command"
   ]
  },
  {
   "cell_type": "code",
   "execution_count": 3,
   "id": "54662d4a",
   "metadata": {
    "execution": {
     "iopub.execute_input": "2021-09-08T14:52:14.002619Z",
     "iopub.status.busy": "2021-09-08T14:52:14.002184Z",
     "iopub.status.idle": "2021-09-08T14:52:14.061890Z",
     "shell.execute_reply": "2021-09-08T14:52:14.061475Z"
    }
   },
   "outputs": [
    {
     "name": "stdout",
     "output_type": "stream",
     "text": [
      "comm =\r\n",
      "\r\n",
      "5 x 5 commutant matrices over R\r\n",
      "     field: 'R'\r\n",
      "     group: Permutation group acting on 5 elements of order 6\r\n",
      "   imagesC: {[2, 1, 4, 5, 3; 0, 0, 0, 0, 0]}\r\n",
      "   imagesR: {[2, 1, 4, 5, 3; 0, 0, 0, 0, 0]}\r\n",
      "        nC: 5\r\n",
      "        nR: 5\r\n",
      "phaseOrder: 1\r\n",
      "      repC: Orthogonal reducible representation\r\n",
      "      repR: Orthogonal reducible representation\r\n",
      "   special: 'commutant'\r\n",
      "\r\n"
     ]
    }
   ],
   "source": [
    "comm = rep.commutant"
   ]
  },
  {
   "cell_type": "markdown",
   "id": "6d7e6f93",
   "metadata": {},
   "source": [
    "## Sampling the commutant\n",
    "\n",
    "Elements of the commutant can then be sampled"
   ]
  },
  {
   "cell_type": "code",
   "execution_count": 4,
   "id": "d7c95c5b",
   "metadata": {
    "execution": {
     "iopub.execute_input": "2021-09-08T14:52:14.064407Z",
     "iopub.status.busy": "2021-09-08T14:52:14.063995Z",
     "iopub.status.idle": "2021-09-08T14:52:14.086656Z",
     "shell.execute_reply": "2021-09-08T14:52:14.086290Z"
    }
   },
   "outputs": [
    {
     "name": "stdout",
     "output_type": "stream",
     "text": [
      "commEl =\r\n",
      "\r\n",
      "  -0.049601   0.522448   0.185925   0.185925   0.185925\r\n",
      "   0.522448  -0.049601   0.185925   0.185925   0.185925\r\n",
      "   0.046162   0.046162   0.186489  -0.487354  -0.085046\r\n",
      "   0.046162   0.046162  -0.085046   0.186489  -0.487354\r\n",
      "   0.046162   0.046162  -0.487354  -0.085046   0.186489\r\n",
      "\r\n"
     ]
    }
   ],
   "source": [
    "commEl = comm.sample"
   ]
  },
  {
   "cell_type": "markdown",
   "id": "d8d53188",
   "metadata": {},
   "source": [
    "These matrices are invariant under transformation by the group representations"
   ]
  },
  {
   "cell_type": "code",
   "execution_count": 5,
   "id": "8130dd1c",
   "metadata": {
    "execution": {
     "iopub.execute_input": "2021-09-08T14:52:14.089145Z",
     "iopub.status.busy": "2021-09-08T14:52:14.088736Z",
     "iopub.status.idle": "2021-09-08T14:52:14.104675Z",
     "shell.execute_reply": "2021-09-08T14:52:14.104299Z"
    }
   },
   "outputs": [
    {
     "name": "stdout",
     "output_type": "stream",
     "text": [
      "groupEl =\r\n",
      "\r\n",
      "   0   1   0   0   0\r\n",
      "   1   0   0   0   0\r\n",
      "   0   0   0   1   0\r\n",
      "   0   0   0   0   1\r\n",
      "   0   0   1   0   0\r\n",
      "\r\n"
     ]
    }
   ],
   "source": [
    "groupEl = rep.sample"
   ]
  },
  {
   "cell_type": "code",
   "execution_count": 6,
   "id": "ed898728",
   "metadata": {
    "execution": {
     "iopub.execute_input": "2021-09-08T14:52:14.107141Z",
     "iopub.status.busy": "2021-09-08T14:52:14.106730Z",
     "iopub.status.idle": "2021-09-08T14:52:14.119196Z",
     "shell.execute_reply": "2021-09-08T14:52:14.118813Z"
    },
    "lines_to_next_cell": 2
   },
   "outputs": [
    {
     "name": "stdout",
     "output_type": "stream",
     "text": [
      "ans =\r\n",
      "\r\n",
      "  -0.049601   0.522448   0.185925   0.185925   0.185925\r\n",
      "   0.522448  -0.049601   0.185925   0.185925   0.185925\r\n",
      "   0.046162   0.046162   0.186489  -0.487354  -0.085046\r\n",
      "   0.046162   0.046162  -0.085046   0.186489  -0.487354\r\n",
      "   0.046162   0.046162  -0.487354  -0.085046   0.186489\r\n",
      "\r\n"
     ]
    }
   ],
   "source": [
    "groupEl*commEl*groupEl'"
   ]
  }
 ],
 "metadata": {
  "jupytext": {
   "cell_metadata_filter": "-all",
   "main_language": "matlab",
   "notebook_metadata_filter": "-all",
   "text_representation": {
    "extension": ".m",
    "format_name": "light"
   }
  },
  "language_info": {
   "file_extension": ".m",
   "help_links": [
    {
     "text": "GNU Octave",
     "url": "https://www.gnu.org/software/octave/support.html"
    },
    {
     "text": "Octave Kernel",
     "url": "https://github.com/Calysto/octave_kernel"
    },
    {
     "text": "MetaKernel Magics",
     "url": "https://metakernel.readthedocs.io/en/latest/source/README.html"
    }
   ],
   "mimetype": "text/x-octave",
   "name": "octave",
   "version": "6.2.0"
  }
 },
 "nbformat": 4,
 "nbformat_minor": 5
}
