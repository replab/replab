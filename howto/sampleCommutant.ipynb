{
 "cells": [
  {
   "cell_type": "markdown",
   "id": "a6c2efe8",
   "metadata": {},
   "source": [
    "# Sampling the commutant of a representation\n",
    "\n",
    "This document shows how to sample the commutant of a representation in *RepLAB*.\n",
    "\n",
    "## Preparation\n",
    "As always, before using *RepLAB* commands, initialize the library:"
   ]
  },
  {
   "cell_type": "code",
   "execution_count": 1,
   "id": "bef744cd",
   "metadata": {
    "execution": {
     "iopub.execute_input": "2021-12-10T15:55:16.057924Z",
     "iopub.status.busy": "2021-12-10T15:55:16.057217Z",
     "iopub.status.idle": "2021-12-10T15:55:22.085373Z",
     "shell.execute_reply": "2021-12-10T15:55:22.084867Z"
    }
   },
   "outputs": [
    {
     "name": "stdout",
     "output_type": "stream",
     "text": [
      "replab_init: Initialization done.\r\n"
     ]
    }
   ],
   "source": [
    "addpath([pwd, '/../..']);\n",
    "replab_init('verbose', 0);"
   ]
  },
  {
   "cell_type": "markdown",
   "id": "58e7db2f",
   "metadata": {},
   "source": [
    "## Definition of the commutant\n",
    "\n",
    "Consider a group representation"
   ]
  },
  {
   "cell_type": "code",
   "execution_count": 2,
   "id": "e4e00777",
   "metadata": {
    "execution": {
     "iopub.execute_input": "2021-12-10T15:55:22.088559Z",
     "iopub.status.busy": "2021-12-10T15:55:22.088128Z",
     "iopub.status.idle": "2021-12-10T15:55:24.952481Z",
     "shell.execute_reply": "2021-12-10T15:55:24.951651Z"
    }
   },
   "outputs": [
    {
     "name": "stdout",
     "output_type": "stream",
     "text": [
      "group ="
     ]
    },
    {
     "name": "stdout",
     "output_type": "stream",
     "text": [
      "\r"
     ]
    },
    {
     "name": "stdout",
     "output_type": "stream",
     "text": [
      "\n"
     ]
    },
    {
     "name": "stdout",
     "output_type": "stream",
     "text": [
      "\r\n",
      "Permutation group acting on 5 elements of order 6\r\n",
      "            identity: [1, 2, 3, 4, 5]\r\n",
      "generator(1 or 'x1'): [2, 1, 4, 5, 3]\r\n",
      "    recognize.source: Cyclic group C(6) of order 6 < x | x^6 = 1 >\r\n",
      "\r\n"
     ]
    },
    {
     "name": "stdout",
     "output_type": "stream",
     "text": [
      "rep ="
     ]
    },
    {
     "name": "stdout",
     "output_type": "stream",
     "text": [
      "\r"
     ]
    },
    {
     "name": "stdout",
     "output_type": "stream",
     "text": [
      "\n"
     ]
    },
    {
     "name": "stdout",
     "output_type": "stream",
     "text": [
      "\r\n",
      "Orthogonal reducible representation\r\n",
      "   dimension: 5\r\n",
      "       field: 'R'\r\n",
      "       group: Permutation group acting on 5 elements of order 6\r\n",
      "   isUnitary: true\r\n",
      "preimages{1}: [2, 1, 4, 5, 3]\r\n",
      "   images{1}: 5 x 5 double\r\n",
      "\r\n"
     ]
    }
   ],
   "source": [
    "S5 = replab.S(5);\n",
    "group = S5.subgroup({[2 1 4 5 3]})\n",
    "rep = group.naturalRep"
   ]
  },
  {
   "cell_type": "markdown",
   "id": "d4ca153c",
   "metadata": {},
   "source": [
    "The commutant is obtained with the command"
   ]
  },
  {
   "cell_type": "code",
   "execution_count": 3,
   "id": "31624022",
   "metadata": {
    "execution": {
     "iopub.execute_input": "2021-12-10T15:55:24.955455Z",
     "iopub.status.busy": "2021-12-10T15:55:24.955011Z",
     "iopub.status.idle": "2021-12-10T15:55:25.020949Z",
     "shell.execute_reply": "2021-12-10T15:55:25.020484Z"
    }
   },
   "outputs": [
    {
     "name": "stdout",
     "output_type": "stream",
     "text": [
      "comm =\r\n",
      "\r\n",
      "5 x 5 commutant matrices over R\r\n",
      "     field: 'R'\r\n",
      "     group: Permutation group acting on 5 elements of order 6\r\n",
      "   imagesC: {[2, 1, 4, 5, 3; 0, 0, 0, 0, 0]}\r\n",
      "   imagesR: {[2, 1, 4, 5, 3; 0, 0, 0, 0, 0]}\r\n",
      "        nC: 5\r\n",
      "        nR: 5\r\n",
      "phaseOrder: 1\r\n",
      "      repC: Orthogonal reducible representation\r\n",
      "      repR: Orthogonal reducible representation\r\n",
      "   special: 'commutant'\r\n",
      "\r\n"
     ]
    }
   ],
   "source": [
    "comm = rep.commutant"
   ]
  },
  {
   "cell_type": "markdown",
   "id": "7542e13a",
   "metadata": {},
   "source": [
    "## Sampling the commutant\n",
    "\n",
    "Elements of the commutant can then be sampled"
   ]
  },
  {
   "cell_type": "code",
   "execution_count": 4,
   "id": "b288063c",
   "metadata": {
    "execution": {
     "iopub.execute_input": "2021-12-10T15:55:25.023849Z",
     "iopub.status.busy": "2021-12-10T15:55:25.023420Z",
     "iopub.status.idle": "2021-12-10T15:55:25.048462Z",
     "shell.execute_reply": "2021-12-10T15:55:25.048062Z"
    }
   },
   "outputs": [
    {
     "name": "stdout",
     "output_type": "stream",
     "text": [
      "commEl =\r\n",
      "\r\n",
      "  -5.0310e-01  -9.2863e-03  -1.3516e-01  -1.3516e-01  -1.3516e-01\r\n",
      "  -9.2863e-03  -5.0310e-01  -1.3516e-01  -1.3516e-01  -1.3516e-01\r\n",
      "   3.4649e-02   3.4649e-02  -4.6044e-01  -3.7804e-01  -5.2225e-03\r\n",
      "   3.4649e-02   3.4649e-02  -5.2225e-03  -4.6044e-01  -3.7804e-01\r\n",
      "   3.4649e-02   3.4649e-02  -3.7804e-01  -5.2225e-03  -4.6044e-01\r\n",
      "\r\n"
     ]
    }
   ],
   "source": [
    "commEl = comm.sample"
   ]
  },
  {
   "cell_type": "markdown",
   "id": "a4d9e438",
   "metadata": {},
   "source": [
    "These matrices are invariant under transformation by the group representations"
   ]
  },
  {
   "cell_type": "code",
   "execution_count": 5,
   "id": "5f9b655e",
   "metadata": {
    "execution": {
     "iopub.execute_input": "2021-12-10T15:55:25.051215Z",
     "iopub.status.busy": "2021-12-10T15:55:25.050790Z",
     "iopub.status.idle": "2021-12-10T15:55:25.071879Z",
     "shell.execute_reply": "2021-12-10T15:55:25.071450Z"
    }
   },
   "outputs": [
    {
     "name": "stdout",
     "output_type": "stream",
     "text": [
      "groupEl =\r\n",
      "\r\n",
      "   0   1   0   0   0\r\n",
      "   1   0   0   0   0\r\n",
      "   0   0   0   0   1\r\n",
      "   0   0   1   0   0\r\n",
      "   0   0   0   1   0\r\n",
      "\r\n"
     ]
    }
   ],
   "source": [
    "groupEl = rep.sample"
   ]
  },
  {
   "cell_type": "code",
   "execution_count": 6,
   "id": "c002a585",
   "metadata": {
    "execution": {
     "iopub.execute_input": "2021-12-10T15:55:25.074784Z",
     "iopub.status.busy": "2021-12-10T15:55:25.074336Z",
     "iopub.status.idle": "2021-12-10T15:55:25.089376Z",
     "shell.execute_reply": "2021-12-10T15:55:25.089781Z"
    },
    "lines_to_next_cell": 2
   },
   "outputs": [
    {
     "name": "stdout",
     "output_type": "stream",
     "text": [
      "ans =\r\n",
      "\r\n",
      "  -5.0310e-01  -9.2863e-03  -1.3516e-01  -1.3516e-01  -1.3516e-01\r\n",
      "  -9.2863e-03  -5.0310e-01  -1.3516e-01  -1.3516e-01  -1.3516e-01\r\n",
      "   3.4649e-02   3.4649e-02  -4.6044e-01  -3.7804e-01  -5.2225e-03\r\n",
      "   3.4649e-02   3.4649e-02  -5.2225e-03  -4.6044e-01  -3.7804e-01\r\n",
      "   3.4649e-02   3.4649e-02  -3.7804e-01  -5.2225e-03  -4.6044e-01\r\n",
      "\r\n"
     ]
    }
   ],
   "source": [
    "groupEl*commEl*groupEl'"
   ]
  }
 ],
 "metadata": {
  "jupytext": {
   "cell_metadata_filter": "-all",
   "main_language": "matlab",
   "notebook_metadata_filter": "-all",
   "text_representation": {
    "extension": ".m",
    "format_name": "light"
   }
  },
  "language_info": {
   "file_extension": ".m",
   "help_links": [
    {
     "text": "GNU Octave",
     "url": "https://www.gnu.org/software/octave/support.html"
    },
    {
     "text": "Octave Kernel",
     "url": "https://github.com/Calysto/octave_kernel"
    },
    {
     "text": "MetaKernel Magics",
     "url": "https://metakernel.readthedocs.io/en/latest/source/README.html"
    }
   ],
   "mimetype": "text/x-octave",
   "name": "octave",
   "version": "6.2.0"
  }
 },
 "nbformat": 4,
 "nbformat_minor": 5
}
