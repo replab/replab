{
 "cells": [
  {
   "cell_type": "markdown",
   "id": "2a8b0512",
   "metadata": {},
   "source": [
    "# Sampling the commutant of a representation\n",
    "\n",
    "This document shows how to sample the commutant of a representation in *RepLAB*.\n",
    "\n",
    "## Preparation\n",
    "As always, before using *RepLAB* commands, initialize the library:"
   ]
  },
  {
   "cell_type": "code",
   "execution_count": 1,
   "id": "ac541538",
   "metadata": {
    "execution": {
     "iopub.execute_input": "2021-09-08T15:28:23.580917Z",
     "iopub.status.busy": "2021-09-08T15:28:23.578402Z",
     "iopub.status.idle": "2021-09-08T15:28:31.548333Z",
     "shell.execute_reply": "2021-09-08T15:28:31.538769Z"
    }
   },
   "outputs": [],
   "source": [
    "addpath([pwd, '/../..']);\n",
    "replab_init('verbose', 0);"
   ]
  },
  {
   "cell_type": "markdown",
   "id": "a4a88649",
   "metadata": {},
   "source": [
    "## Definition of the commutant\n",
    "\n",
    "Consider a group representation"
   ]
  },
  {
   "cell_type": "code",
   "execution_count": 2,
   "id": "cb2b4dd6",
   "metadata": {
    "execution": {
     "iopub.execute_input": "2021-09-08T15:28:31.552072Z",
     "iopub.status.busy": "2021-09-08T15:28:31.551310Z",
     "iopub.status.idle": "2021-09-08T15:28:36.106401Z",
     "shell.execute_reply": "2021-09-08T15:28:36.105591Z"
    }
   },
   "outputs": [
    {
     "name": "stdout",
     "output_type": "stream",
     "text": [
      "group ="
     ]
    },
    {
     "name": "stdout",
     "output_type": "stream",
     "text": [
      "\r"
     ]
    },
    {
     "name": "stdout",
     "output_type": "stream",
     "text": [
      "\n"
     ]
    },
    {
     "name": "stdout",
     "output_type": "stream",
     "text": [
      "\r\n",
      "Permutation group acting on 5 elements of order 6\r\n",
      "            identity: [1, 2, 3, 4, 5]\r\n",
      "generator(1 or 'x1'): [2, 1, 4, 5, 3]\r\n",
      "    recognize.source: Cyclic group C(6) of order 6 < x | x^6 = 1 >\r\n",
      "\r\n"
     ]
    },
    {
     "name": "stdout",
     "output_type": "stream",
     "text": [
      "rep =\r\n",
      "\r\n",
      "Orthogonal reducible representation\r\n",
      "   dimension: 5\r\n",
      "       field: 'R'\r\n",
      "       group: Permutation group acting on 5 elements of order 6\r\n",
      "   isUnitary: true\r\n",
      "preimages{1}: [2, 1, 4, 5, 3]\r\n",
      "   images{1}: 5 x 5 double\r\n",
      "\r\n"
     ]
    }
   ],
   "source": [
    "S5 = replab.S(5);\n",
    "group = S5.subgroup({[2 1 4 5 3]})\n",
    "rep = group.naturalRep"
   ]
  },
  {
   "cell_type": "markdown",
   "id": "adac886e",
   "metadata": {},
   "source": [
    "The commutant is obtained with the command"
   ]
  },
  {
   "cell_type": "code",
   "execution_count": 3,
   "id": "6d573ac6",
   "metadata": {
    "execution": {
     "iopub.execute_input": "2021-09-08T15:28:36.109660Z",
     "iopub.status.busy": "2021-09-08T15:28:36.109088Z",
     "iopub.status.idle": "2021-09-08T15:28:36.185046Z",
     "shell.execute_reply": "2021-09-08T15:28:36.185495Z"
    }
   },
   "outputs": [
    {
     "name": "stdout",
     "output_type": "stream",
     "text": [
      "comm =\r\n",
      "\r\n",
      "5 x 5 commutant matrices over R\r\n",
      "     field: 'R'\r\n",
      "     group: Permutation group acting on 5 elements of order 6\r\n",
      "   imagesC: {[2, 1, 4, 5, 3; 0, 0, 0, 0, 0]}\r\n",
      "   imagesR: {[2, 1, 4, 5, 3; 0, 0, 0, 0, 0]}\r\n",
      "        nC: 5\r\n",
      "        nR: 5\r\n",
      "phaseOrder: 1\r\n",
      "      repC: Orthogonal reducible representation\r\n",
      "      repR: Orthogonal reducible representation\r\n",
      "   special: 'commutant'\r\n",
      "\r\n"
     ]
    }
   ],
   "source": [
    "comm = rep.commutant"
   ]
  },
  {
   "cell_type": "markdown",
   "id": "430eb785",
   "metadata": {},
   "source": [
    "## Sampling the commutant\n",
    "\n",
    "Elements of the commutant can then be sampled"
   ]
  },
  {
   "cell_type": "code",
   "execution_count": 4,
   "id": "2d70544a",
   "metadata": {
    "execution": {
     "iopub.execute_input": "2021-09-08T15:28:36.188581Z",
     "iopub.status.busy": "2021-09-08T15:28:36.188027Z",
     "iopub.status.idle": "2021-09-08T15:28:36.213172Z",
     "shell.execute_reply": "2021-09-08T15:28:36.213966Z"
    }
   },
   "outputs": [
    {
     "name": "stdout",
     "output_type": "stream",
     "text": [
      "commEl =\r\n",
      "\r\n",
      "  -0.6001  -1.4136  -0.4788  -0.4788  -0.4788\r\n",
      "  -1.4136  -0.6001  -0.4788  -0.4788  -0.4788\r\n",
      "   0.2428   0.2428  -0.4161   1.0627   0.3994\r\n",
      "   0.2428   0.2428   0.3994  -0.4161   1.0627\r\n",
      "   0.2428   0.2428   1.0627   0.3994  -0.4161\r\n",
      "\r\n"
     ]
    }
   ],
   "source": [
    "commEl = comm.sample"
   ]
  },
  {
   "cell_type": "markdown",
   "id": "d7888787",
   "metadata": {},
   "source": [
    "These matrices are invariant under transformation by the group representations"
   ]
  },
  {
   "cell_type": "code",
   "execution_count": 5,
   "id": "f254b2b0",
   "metadata": {
    "execution": {
     "iopub.execute_input": "2021-09-08T15:28:36.217146Z",
     "iopub.status.busy": "2021-09-08T15:28:36.216517Z",
     "iopub.status.idle": "2021-09-08T15:28:36.236103Z",
     "shell.execute_reply": "2021-09-08T15:28:36.235593Z"
    }
   },
   "outputs": [
    {
     "name": "stdout",
     "output_type": "stream",
     "text": [
      "groupEl =\r\n",
      "\r\n",
      "   0   1   0   0   0\r\n",
      "   1   0   0   0   0\r\n",
      "   0   0   0   0   1\r\n",
      "   0   0   1   0   0\r\n",
      "   0   0   0   1   0\r\n",
      "\r\n"
     ]
    }
   ],
   "source": [
    "groupEl = rep.sample"
   ]
  },
  {
   "cell_type": "code",
   "execution_count": 6,
   "id": "a89abdad",
   "metadata": {
    "execution": {
     "iopub.execute_input": "2021-09-08T15:28:36.239305Z",
     "iopub.status.busy": "2021-09-08T15:28:36.238758Z",
     "iopub.status.idle": "2021-09-08T15:28:36.253097Z",
     "shell.execute_reply": "2021-09-08T15:28:36.252508Z"
    },
    "lines_to_next_cell": 2
   },
   "outputs": [
    {
     "name": "stdout",
     "output_type": "stream",
     "text": [
      "ans =\r\n",
      "\r\n",
      "  -0.6001  -1.4136  -0.4788  -0.4788  -0.4788\r\n",
      "  -1.4136  -0.6001  -0.4788  -0.4788  -0.4788\r\n",
      "   0.2428   0.2428  -0.4161   1.0627   0.3994\r\n",
      "   0.2428   0.2428   0.3994  -0.4161   1.0627\r\n",
      "   0.2428   0.2428   1.0627   0.3994  -0.4161\r\n",
      "\r\n"
     ]
    }
   ],
   "source": [
    "groupEl*commEl*groupEl'"
   ]
  }
 ],
 "metadata": {
  "jupytext": {
   "cell_metadata_filter": "-all",
   "main_language": "matlab",
   "notebook_metadata_filter": "-all",
   "text_representation": {
    "extension": ".m",
    "format_name": "light"
   }
  },
  "language_info": {
   "file_extension": ".m",
   "help_links": [
    {
     "text": "GNU Octave",
     "url": "https://www.gnu.org/software/octave/support.html"
    },
    {
     "text": "Octave Kernel",
     "url": "https://github.com/Calysto/octave_kernel"
    },
    {
     "text": "MetaKernel Magics",
     "url": "https://metakernel.readthedocs.io/en/latest/source/README.html"
    }
   ],
   "mimetype": "text/x-octave",
   "name": "octave",
   "version": "6.2.0"
  }
 },
 "nbformat": 4,
 "nbformat_minor": 5
}
