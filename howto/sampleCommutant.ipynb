{
 "cells": [
  {
   "cell_type": "markdown",
   "id": "7fe8a6b1",
   "metadata": {},
   "source": [
    "# Sampling the commutant of a representation\n",
    "\n",
    "This document shows how to sample the commutant of a representation in *RepLAB*.\n",
    "\n",
    "## Preparation\n",
    "As always, before using *RepLAB* commands, initialize the library:"
   ]
  },
  {
   "cell_type": "code",
   "execution_count": 1,
   "id": "3d8afeb1",
   "metadata": {
    "execution": {
     "iopub.execute_input": "2021-08-03T13:40:14.036374Z",
     "iopub.status.busy": "2021-08-03T13:40:14.032779Z",
     "iopub.status.idle": "2021-08-03T13:40:21.618418Z",
     "shell.execute_reply": "2021-08-03T13:40:21.617783Z"
    }
   },
   "outputs": [],
   "source": [
    "addpath([pwd, '/../..']);\n",
    "replab_init('verbose', 0);"
   ]
  },
  {
   "cell_type": "markdown",
   "id": "4ae43eb8",
   "metadata": {},
   "source": [
    "## Definition of the commutant\n",
    "\n",
    "Consider a group representation"
   ]
  },
  {
   "cell_type": "code",
   "execution_count": 2,
   "id": "e45147c9",
   "metadata": {
    "execution": {
     "iopub.execute_input": "2021-08-03T13:40:21.622582Z",
     "iopub.status.busy": "2021-08-03T13:40:21.621632Z",
     "iopub.status.idle": "2021-08-03T13:40:25.781908Z",
     "shell.execute_reply": "2021-08-03T13:40:25.781155Z"
    }
   },
   "outputs": [
    {
     "name": "stdout",
     "output_type": "stream",
     "text": [
      "group ="
     ]
    },
    {
     "name": "stdout",
     "output_type": "stream",
     "text": [
      "\r"
     ]
    },
    {
     "name": "stdout",
     "output_type": "stream",
     "text": [
      "\n"
     ]
    },
    {
     "name": "stdout",
     "output_type": "stream",
     "text": [
      "\r\n",
      "Permutation group acting on 5 elements of order 6\r\n",
      "            identity: [1, 2, 3, 4, 5]\r\n",
      "generator(1 or 'x1'): [2, 1, 4, 5, 3]\r\n",
      "    recognize.source: Cyclic group C(6) of order 6 < x | x^6 = 1 >\r\n",
      "\r\n"
     ]
    },
    {
     "name": "stdout",
     "output_type": "stream",
     "text": [
      "rep =\r\n",
      "\r\n",
      "Orthogonal reducible representation\r\n",
      "   dimension: 5\r\n",
      "       field: 'R'\r\n",
      "       group: Permutation group acting on 5 elements of order 6\r\n",
      "   isUnitary: true\r\n",
      "preimages{1}: [2, 1, 4, 5, 3]\r\n",
      "   images{1}: 5 x 5 double\r\n",
      "\r\n"
     ]
    }
   ],
   "source": [
    "S5 = replab.S(5);\n",
    "group = S5.subgroup({[2 1 4 5 3]})\n",
    "rep = group.naturalRep"
   ]
  },
  {
   "cell_type": "markdown",
   "id": "b6be0def",
   "metadata": {},
   "source": [
    "The commutant is obtained with the command"
   ]
  },
  {
   "cell_type": "code",
   "execution_count": 3,
   "id": "ca98afea",
   "metadata": {
    "execution": {
     "iopub.execute_input": "2021-08-03T13:40:25.784896Z",
     "iopub.status.busy": "2021-08-03T13:40:25.784311Z",
     "iopub.status.idle": "2021-08-03T13:40:25.861878Z",
     "shell.execute_reply": "2021-08-03T13:40:25.860945Z"
    }
   },
   "outputs": [
    {
     "name": "stdout",
     "output_type": "stream",
     "text": [
      "comm =\r\n",
      "\r\n",
      "5 x 5 commutant matrices over R\r\n",
      "     field: 'R'\r\n",
      "     group: Permutation group acting on 5 elements of order 6\r\n",
      "   imagesC: {[2, 1, 4, 5, 3; 0, 0, 0, 0, 0]}\r\n",
      "   imagesR: {[2, 1, 4, 5, 3; 0, 0, 0, 0, 0]}\r\n",
      "        nC: 5\r\n",
      "        nR: 5\r\n",
      "phaseOrder: 1\r\n",
      "      repC: Orthogonal reducible representation\r\n",
      "      repR: Orthogonal reducible representation\r\n",
      "   special: 'commutant'\r\n",
      "\r\n"
     ]
    }
   ],
   "source": [
    "comm = rep.commutant"
   ]
  },
  {
   "cell_type": "markdown",
   "id": "6d75741c",
   "metadata": {},
   "source": [
    "## Sampling the commutant\n",
    "\n",
    "Elements of the commutant can then be sampled"
   ]
  },
  {
   "cell_type": "code",
   "execution_count": 4,
   "id": "25d5dd96",
   "metadata": {
    "execution": {
     "iopub.execute_input": "2021-08-03T13:40:25.865087Z",
     "iopub.status.busy": "2021-08-03T13:40:25.864590Z",
     "iopub.status.idle": "2021-08-03T13:40:25.890421Z",
     "shell.execute_reply": "2021-08-03T13:40:25.889944Z"
    }
   },
   "outputs": [
    {
     "name": "stdout",
     "output_type": "stream",
     "text": [
      "commEl =\r\n",
      "\r\n",
      "   0.981360   0.044785  -0.601960  -0.601960  -0.601960\r\n",
      "   0.044785   0.981360  -0.601960  -0.601960  -0.601960\r\n",
      "   0.282326   0.282326  -0.320602   1.074671  -0.099942\r\n",
      "   0.282326   0.282326  -0.099942  -0.320602   1.074671\r\n",
      "   0.282326   0.282326   1.074671  -0.099942  -0.320602\r\n",
      "\r\n"
     ]
    }
   ],
   "source": [
    "commEl = comm.sample"
   ]
  },
  {
   "cell_type": "markdown",
   "id": "701e41d1",
   "metadata": {},
   "source": [
    "These matrices are invariant under transformation by the group representations"
   ]
  },
  {
   "cell_type": "code",
   "execution_count": 5,
   "id": "7e292cda",
   "metadata": {
    "execution": {
     "iopub.execute_input": "2021-08-03T13:40:25.893399Z",
     "iopub.status.busy": "2021-08-03T13:40:25.892781Z",
     "iopub.status.idle": "2021-08-03T13:40:25.917406Z",
     "shell.execute_reply": "2021-08-03T13:40:25.916805Z"
    }
   },
   "outputs": [
    {
     "name": "stdout",
     "output_type": "stream",
     "text": [
      "groupEl =\r\n",
      "\r\n",
      "   1   0   0   0   0\r\n",
      "   0   1   0   0   0\r\n",
      "   0   0   1   0   0\r\n",
      "   0   0   0   1   0\r\n",
      "   0   0   0   0   1\r\n",
      "\r\n"
     ]
    }
   ],
   "source": [
    "groupEl = rep.sample"
   ]
  },
  {
   "cell_type": "code",
   "execution_count": 6,
   "id": "eb5a8fdf",
   "metadata": {
    "execution": {
     "iopub.execute_input": "2021-08-03T13:40:25.922786Z",
     "iopub.status.busy": "2021-08-03T13:40:25.922205Z",
     "iopub.status.idle": "2021-08-03T13:40:25.936787Z",
     "shell.execute_reply": "2021-08-03T13:40:25.937358Z"
    },
    "lines_to_next_cell": 2
   },
   "outputs": [
    {
     "name": "stdout",
     "output_type": "stream",
     "text": [
      "ans =\r\n",
      "\r\n",
      "   0.981360   0.044785  -0.601960  -0.601960  -0.601960\r\n",
      "   0.044785   0.981360  -0.601960  -0.601960  -0.601960\r\n",
      "   0.282326   0.282326  -0.320602   1.074671  -0.099942\r\n",
      "   0.282326   0.282326  -0.099942  -0.320602   1.074671\r\n",
      "   0.282326   0.282326   1.074671  -0.099942  -0.320602\r\n",
      "\r\n"
     ]
    }
   ],
   "source": [
    "groupEl*commEl*groupEl'"
   ]
  }
 ],
 "metadata": {
  "jupytext": {
   "cell_metadata_filter": "-all",
   "main_language": "matlab",
   "notebook_metadata_filter": "-all",
   "text_representation": {
    "extension": ".m",
    "format_name": "light"
   }
  },
  "language_info": {
   "file_extension": ".m",
   "help_links": [
    {
     "text": "GNU Octave",
     "url": "https://www.gnu.org/software/octave/support.html"
    },
    {
     "text": "Octave Kernel",
     "url": "https://github.com/Calysto/octave_kernel"
    },
    {
     "text": "MetaKernel Magics",
     "url": "https://metakernel.readthedocs.io/en/latest/source/README.html"
    }
   ],
   "mimetype": "text/x-octave",
   "name": "octave",
   "version": "6.2.0"
  }
 },
 "nbformat": 4,
 "nbformat_minor": 5
}
